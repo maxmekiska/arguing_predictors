{
 "cells": [
  {
   "cell_type": "markdown",
   "metadata": {},
   "source": [
    "# Testing Enviornment"
   ]
  },
  {
   "cell_type": "code",
   "execution_count": 6,
   "metadata": {},
   "outputs": [],
   "source": [
    "import pandas as pd\n",
    "import numpy as np"
   ]
  },
  {
   "cell_type": "markdown",
   "metadata": {},
   "source": [
    "## Running tests"
   ]
  },
  {
   "cell_type": "markdown",
   "metadata": {},
   "source": [
    "The following section unit-tests most of the code written for the proof of concept prototype."
   ]
  },
  {
   "cell_type": "code",
   "execution_count": 76,
   "metadata": {
    "scrolled": true
   },
   "outputs": [
    {
     "name": "stderr",
     "output_type": "stream",
     "text": [
      ".................EE\n",
      "======================================================================\n",
      "ERROR: test_weights_focused_1 (__main__.Testing)\n",
      "----------------------------------------------------------------------\n",
      "Traceback (most recent call last):\n",
      "  File \"C:\\Users\\Max\\Documents\\GitHubPrivate\\arguing-predictors\\test\\test_algorithms.py\", line 92, in test_weights_focused_1\n",
      "    self.assertEqual(new_weights_focused(list_1, value_2), solution_list_weights, 'Does not match solution')\n",
      "NameError: name 'new_weights_focused' is not defined\n",
      "\n",
      "======================================================================\n",
      "ERROR: test_weights_focused_2 (__main__.Testing)\n",
      "----------------------------------------------------------------------\n",
      "Traceback (most recent call last):\n",
      "  File \"C:\\Users\\Max\\Documents\\GitHubPrivate\\arguing-predictors\\test\\test_algorithms.py\", line 95, in test_weights_focused_2\n",
      "    self.assertEqual(new_weights_focused(list_2, value_2), solution_list_weights_2, 'Does not match solution')\n",
      "NameError: name 'new_weights_focused' is not defined\n",
      "\n",
      "----------------------------------------------------------------------\n",
      "Ran 19 tests in 0.247s\n",
      "\n",
      "FAILED (errors=2)\n"
     ]
    },
    {
     "ename": "SystemExit",
     "evalue": "True",
     "output_type": "error",
     "traceback": [
      "An exception has occurred, use %tb to see the full traceback.\n",
      "\u001b[1;31mSystemExit\u001b[0m\u001b[1;31m:\u001b[0m True\n"
     ]
    }
   ],
   "source": [
    "%run ../test/test_algorithms.py"
   ]
  },
  {
   "cell_type": "code",
   "execution_count": 3,
   "metadata": {},
   "outputs": [
    {
     "name": "stderr",
     "output_type": "stream",
     "text": [
      "...............\n",
      "----------------------------------------------------------------------\n",
      "Ran 15 tests in 0.043s\n",
      "\n",
      "OK\n"
     ]
    }
   ],
   "source": [
    "%run ../test/test_dataloader.py"
   ]
  },
  {
   "cell_type": "code",
   "execution_count": 4,
   "metadata": {},
   "outputs": [
    {
     "name": "stderr",
     "output_type": "stream",
     "text": [
      "..\n",
      "----------------------------------------------------------------------\n",
      "Ran 2 tests in 0.025s\n",
      "\n",
      "OK\n"
     ]
    }
   ],
   "source": [
    "%run ../test/test_predictorsI.py"
   ]
  },
  {
   "cell_type": "code",
   "execution_count": 5,
   "metadata": {},
   "outputs": [
    {
     "name": "stderr",
     "output_type": "stream",
     "text": [
      ".\n",
      "----------------------------------------------------------------------\n",
      "Ran 1 test in 0.006s\n",
      "\n",
      "OK\n"
     ]
    }
   ],
   "source": [
    "%run ../test/test_predictorsII.py"
   ]
  },
  {
   "cell_type": "markdown",
   "metadata": {},
   "source": [
    "## Running example of the system"
   ]
  },
  {
   "cell_type": "code",
   "execution_count": 74,
   "metadata": {},
   "outputs": [],
   "source": [
    "%run ../tools/algorithms.py"
   ]
  },
  {
   "cell_type": "code",
   "execution_count": 8,
   "metadata": {},
   "outputs": [],
   "source": [
    "%run ../tools/dataloader.py"
   ]
  },
  {
   "cell_type": "code",
   "execution_count": 8,
   "metadata": {},
   "outputs": [],
   "source": [
    "test = DataLoader('aapl', '2009-01-01', '2010-02-10')"
   ]
  },
  {
   "cell_type": "code",
   "execution_count": 9,
   "metadata": {},
   "outputs": [],
   "source": [
    "prices = test.get_close()"
   ]
  },
  {
   "cell_type": "code",
   "execution_count": 10,
   "metadata": {},
   "outputs": [
    {
     "data": {
      "text/html": [
       "<div>\n",
       "<style scoped>\n",
       "    .dataframe tbody tr th:only-of-type {\n",
       "        vertical-align: middle;\n",
       "    }\n",
       "\n",
       "    .dataframe tbody tr th {\n",
       "        vertical-align: top;\n",
       "    }\n",
       "\n",
       "    .dataframe thead th {\n",
       "        text-align: right;\n",
       "    }\n",
       "</style>\n",
       "<table border=\"1\" class=\"dataframe\">\n",
       "  <thead>\n",
       "    <tr style=\"text-align: right;\">\n",
       "      <th></th>\n",
       "      <th>Close</th>\n",
       "    </tr>\n",
       "    <tr>\n",
       "      <th>Date</th>\n",
       "      <th></th>\n",
       "    </tr>\n",
       "  </thead>\n",
       "  <tbody>\n",
       "    <tr>\n",
       "      <th>2009-01-02</th>\n",
       "      <td>3.241071</td>\n",
       "    </tr>\n",
       "    <tr>\n",
       "      <th>2009-01-05</th>\n",
       "      <td>3.377857</td>\n",
       "    </tr>\n",
       "    <tr>\n",
       "      <th>2009-01-06</th>\n",
       "      <td>3.322143</td>\n",
       "    </tr>\n",
       "    <tr>\n",
       "      <th>2009-01-07</th>\n",
       "      <td>3.250357</td>\n",
       "    </tr>\n",
       "    <tr>\n",
       "      <th>2009-01-08</th>\n",
       "      <td>3.310714</td>\n",
       "    </tr>\n",
       "    <tr>\n",
       "      <th>...</th>\n",
       "      <td>...</td>\n",
       "    </tr>\n",
       "    <tr>\n",
       "      <th>2010-02-04</th>\n",
       "      <td>6.858929</td>\n",
       "    </tr>\n",
       "    <tr>\n",
       "      <th>2010-02-05</th>\n",
       "      <td>6.980714</td>\n",
       "    </tr>\n",
       "    <tr>\n",
       "      <th>2010-02-08</th>\n",
       "      <td>6.932857</td>\n",
       "    </tr>\n",
       "    <tr>\n",
       "      <th>2010-02-09</th>\n",
       "      <td>7.006786</td>\n",
       "    </tr>\n",
       "    <tr>\n",
       "      <th>2010-02-10</th>\n",
       "      <td>6.968571</td>\n",
       "    </tr>\n",
       "  </tbody>\n",
       "</table>\n",
       "<p>279 rows × 1 columns</p>\n",
       "</div>"
      ],
      "text/plain": [
       "               Close\n",
       "Date                \n",
       "2009-01-02  3.241071\n",
       "2009-01-05  3.377857\n",
       "2009-01-06  3.322143\n",
       "2009-01-07  3.250357\n",
       "2009-01-08  3.310714\n",
       "...              ...\n",
       "2010-02-04  6.858929\n",
       "2010-02-05  6.980714\n",
       "2010-02-08  6.932857\n",
       "2010-02-09  7.006786\n",
       "2010-02-10  6.968571\n",
       "\n",
       "[279 rows x 1 columns]"
      ]
     },
     "execution_count": 10,
     "metadata": {},
     "output_type": "execute_result"
    }
   ],
   "source": [
    "prices"
   ]
  },
  {
   "cell_type": "code",
   "execution_count": 11,
   "metadata": {},
   "outputs": [],
   "source": [
    "#prices = np.array(prices)\n",
    "#len(prices)"
   ]
  },
  {
   "cell_type": "code",
   "execution_count": 12,
   "metadata": {},
   "outputs": [
    {
     "data": {
      "text/html": [
       "<div>\n",
       "<style scoped>\n",
       "    .dataframe tbody tr th:only-of-type {\n",
       "        vertical-align: middle;\n",
       "    }\n",
       "\n",
       "    .dataframe tbody tr th {\n",
       "        vertical-align: top;\n",
       "    }\n",
       "\n",
       "    .dataframe thead th {\n",
       "        text-align: right;\n",
       "    }\n",
       "</style>\n",
       "<table border=\"1\" class=\"dataframe\">\n",
       "  <thead>\n",
       "    <tr style=\"text-align: right;\">\n",
       "      <th></th>\n",
       "      <th>Close</th>\n",
       "    </tr>\n",
       "    <tr>\n",
       "      <th>Date</th>\n",
       "      <th></th>\n",
       "    </tr>\n",
       "  </thead>\n",
       "  <tbody>\n",
       "    <tr>\n",
       "      <th>2009-01-02</th>\n",
       "      <td>3.241071</td>\n",
       "    </tr>\n",
       "    <tr>\n",
       "      <th>2009-01-05</th>\n",
       "      <td>3.377857</td>\n",
       "    </tr>\n",
       "    <tr>\n",
       "      <th>2009-01-06</th>\n",
       "      <td>3.322143</td>\n",
       "    </tr>\n",
       "    <tr>\n",
       "      <th>2009-01-07</th>\n",
       "      <td>3.250357</td>\n",
       "    </tr>\n",
       "    <tr>\n",
       "      <th>2009-01-08</th>\n",
       "      <td>3.310714</td>\n",
       "    </tr>\n",
       "    <tr>\n",
       "      <th>...</th>\n",
       "      <td>...</td>\n",
       "    </tr>\n",
       "    <tr>\n",
       "      <th>2010-02-04</th>\n",
       "      <td>6.858929</td>\n",
       "    </tr>\n",
       "    <tr>\n",
       "      <th>2010-02-05</th>\n",
       "      <td>6.980714</td>\n",
       "    </tr>\n",
       "    <tr>\n",
       "      <th>2010-02-08</th>\n",
       "      <td>6.932857</td>\n",
       "    </tr>\n",
       "    <tr>\n",
       "      <th>2010-02-09</th>\n",
       "      <td>7.006786</td>\n",
       "    </tr>\n",
       "    <tr>\n",
       "      <th>2010-02-10</th>\n",
       "      <td>6.968571</td>\n",
       "    </tr>\n",
       "  </tbody>\n",
       "</table>\n",
       "<p>279 rows × 1 columns</p>\n",
       "</div>"
      ],
      "text/plain": [
       "               Close\n",
       "Date                \n",
       "2009-01-02  3.241071\n",
       "2009-01-05  3.377857\n",
       "2009-01-06  3.322143\n",
       "2009-01-07  3.250357\n",
       "2009-01-08  3.310714\n",
       "...              ...\n",
       "2010-02-04  6.858929\n",
       "2010-02-05  6.980714\n",
       "2010-02-08  6.932857\n",
       "2010-02-09  7.006786\n",
       "2010-02-10  6.968571\n",
       "\n",
       "[279 rows x 1 columns]"
      ]
     },
     "execution_count": 12,
     "metadata": {},
     "output_type": "execute_result"
    }
   ],
   "source": [
    "prices"
   ]
  },
  {
   "cell_type": "code",
   "execution_count": 31,
   "metadata": {},
   "outputs": [],
   "source": [
    "%run ../tools/predictorsI.py"
   ]
  },
  {
   "cell_type": "code",
   "execution_count": 14,
   "metadata": {},
   "outputs": [],
   "source": [
    "op0 = BasicUnivariatePredictor(prices, 25, 7)\n",
    "op1 = BasicUnivariatePredictor(prices, 25, 7)\n",
    "op2 = BasicUnivariatePredictor(prices, 25, 7)\n",
    "op3 = BasicUnivariatePredictor(prices, 25, 7)"
   ]
  },
  {
   "cell_type": "code",
   "execution_count": 15,
   "metadata": {},
   "outputs": [],
   "source": [
    "op0.create_bilstm()"
   ]
  },
  {
   "cell_type": "code",
   "execution_count": 16,
   "metadata": {},
   "outputs": [
    {
     "name": "stdout",
     "output_type": "stream",
     "text": [
      "Model: \"sequential\"\n",
      "_________________________________________________________________\n",
      "Layer (type)                 Output Shape              Param #   \n",
      "=================================================================\n",
      "bidirectional (Bidirectional (None, 25, 100)           20800     \n",
      "_________________________________________________________________\n",
      "lstm_1 (LSTM)                (None, 50)                30200     \n",
      "_________________________________________________________________\n",
      "dense (Dense)                (None, 7)                 357       \n",
      "=================================================================\n",
      "Total params: 51,357\n",
      "Trainable params: 51,357\n",
      "Non-trainable params: 0\n",
      "_________________________________________________________________\n"
     ]
    }
   ],
   "source": [
    "op0.model_blueprint()"
   ]
  },
  {
   "cell_type": "code",
   "execution_count": 17,
   "metadata": {},
   "outputs": [
    {
     "name": "stdout",
     "output_type": "stream",
     "text": [
      "Epoch 1/10\n",
      "20/20 [==============================] - 1s 46ms/step - loss: 21.9913 - mean_squared_error: 21.9913 - val_loss: 13.9966 - val_mean_squared_error: 13.9966\n",
      "Epoch 2/10\n",
      "20/20 [==============================] - 0s 18ms/step - loss: 3.7463 - mean_squared_error: 3.7463 - val_loss: 2.2233 - val_mean_squared_error: 2.2233\n",
      "Epoch 3/10\n",
      "20/20 [==============================] - 0s 17ms/step - loss: 0.6251 - mean_squared_error: 0.6251 - val_loss: 0.8816 - val_mean_squared_error: 0.8816\n",
      "Epoch 4/10\n",
      "20/20 [==============================] - 0s 16ms/step - loss: 0.2216 - mean_squared_error: 0.2216 - val_loss: 0.3390 - val_mean_squared_error: 0.3390\n",
      "Epoch 5/10\n",
      "20/20 [==============================] - 0s 16ms/step - loss: 0.1360 - mean_squared_error: 0.1360 - val_loss: 0.2437 - val_mean_squared_error: 0.2437\n",
      "Epoch 6/10\n",
      "20/20 [==============================] - 0s 17ms/step - loss: 0.1148 - mean_squared_error: 0.1148 - val_loss: 0.1558 - val_mean_squared_error: 0.1558\n",
      "Epoch 7/10\n",
      "20/20 [==============================] - 0s 16ms/step - loss: 0.0982 - mean_squared_error: 0.0982 - val_loss: 0.1503 - val_mean_squared_error: 0.1503\n",
      "Epoch 8/10\n",
      "20/20 [==============================] - 0s 18ms/step - loss: 0.0824 - mean_squared_error: 0.0824 - val_loss: 0.1696 - val_mean_squared_error: 0.1696\n",
      "Epoch 9/10\n",
      "20/20 [==============================] - 0s 18ms/step - loss: 0.0788 - mean_squared_error: 0.0788 - val_loss: 0.1324 - val_mean_squared_error: 0.1324\n",
      "Epoch 10/10\n",
      "20/20 [==============================] - 0s 17ms/step - loss: 0.0806 - mean_squared_error: 0.0806 - val_loss: 0.5354 - val_mean_squared_error: 0.5354\n"
     ]
    },
    {
     "data": {
      "text/plain": [
       "<tensorflow.python.keras.callbacks.History at 0x1950b89fd60>"
      ]
     },
     "execution_count": 17,
     "metadata": {},
     "output_type": "execute_result"
    }
   ],
   "source": [
    "op0.fit_model(10)"
   ]
  },
  {
   "cell_type": "code",
   "execution_count": 18,
   "metadata": {},
   "outputs": [
    {
     "data": {
      "image/png": "[encoded data removed]",
      "text/plain": [
       "<Figure size 432x288 with 2 Axes>"
      ]
     },
     "metadata": {
      "needs_background": "light"
     },
     "output_type": "display_data"
    }
   ],
   "source": [
    "op0.show_performance()"
   ]
  },
  {
   "cell_type": "code",
   "execution_count": 19,
   "metadata": {},
   "outputs": [],
   "source": [
    "oyea = prices[-26:-1]\n",
    "#oyea = X[-1]\n",
    "#oyea"
   ]
  },
  {
   "cell_type": "code",
   "execution_count": 20,
   "metadata": {},
   "outputs": [
    {
     "data": {
      "text/html": [
       "<div>\n",
       "<style scoped>\n",
       "    .dataframe tbody tr th:only-of-type {\n",
       "        vertical-align: middle;\n",
       "    }\n",
       "\n",
       "    .dataframe tbody tr th {\n",
       "        vertical-align: top;\n",
       "    }\n",
       "\n",
       "    .dataframe thead th {\n",
       "        text-align: right;\n",
       "    }\n",
       "</style>\n",
       "<table border=\"1\" class=\"dataframe\">\n",
       "  <thead>\n",
       "    <tr style=\"text-align: right;\">\n",
       "      <th></th>\n",
       "      <th>Bidirectional LSTM</th>\n",
       "    </tr>\n",
       "  </thead>\n",
       "  <tbody>\n",
       "    <tr>\n",
       "      <th>0</th>\n",
       "      <td>6.981127</td>\n",
       "    </tr>\n",
       "    <tr>\n",
       "      <th>1</th>\n",
       "      <td>7.293480</td>\n",
       "    </tr>\n",
       "    <tr>\n",
       "      <th>2</th>\n",
       "      <td>6.425726</td>\n",
       "    </tr>\n",
       "    <tr>\n",
       "      <th>3</th>\n",
       "      <td>7.495827</td>\n",
       "    </tr>\n",
       "    <tr>\n",
       "      <th>4</th>\n",
       "      <td>7.578663</td>\n",
       "    </tr>\n",
       "    <tr>\n",
       "      <th>5</th>\n",
       "      <td>6.643592</td>\n",
       "    </tr>\n",
       "    <tr>\n",
       "      <th>6</th>\n",
       "      <td>8.182841</td>\n",
       "    </tr>\n",
       "  </tbody>\n",
       "</table>\n",
       "</div>"
      ],
      "text/plain": [
       "   Bidirectional LSTM\n",
       "0            6.981127\n",
       "1            7.293480\n",
       "2            6.425726\n",
       "3            7.495827\n",
       "4            7.578663\n",
       "5            6.643592\n",
       "6            8.182841"
      ]
     },
     "execution_count": 20,
     "metadata": {},
     "output_type": "execute_result"
    }
   ],
   "source": [
    "nice = op0.predict(oyea)\n",
    "nice"
   ]
  },
  {
   "cell_type": "code",
   "execution_count": 21,
   "metadata": {},
   "outputs": [],
   "source": [
    "op1.create_lstm()"
   ]
  },
  {
   "cell_type": "code",
   "execution_count": 22,
   "metadata": {},
   "outputs": [
    {
     "name": "stdout",
     "output_type": "stream",
     "text": [
      "Model: \"sequential_1\"\n",
      "_________________________________________________________________\n",
      "Layer (type)                 Output Shape              Param #   \n",
      "=================================================================\n",
      "lstm_2 (LSTM)                (None, 25, 40)            6720      \n",
      "_________________________________________________________________\n",
      "lstm_3 (LSTM)                (None, 25, 50)            18200     \n",
      "_________________________________________________________________\n",
      "lstm_4 (LSTM)                (None, 50)                20200     \n",
      "_________________________________________________________________\n",
      "dense_1 (Dense)              (None, 7)                 357       \n",
      "=================================================================\n",
      "Total params: 45,477\n",
      "Trainable params: 45,477\n",
      "Non-trainable params: 0\n",
      "_________________________________________________________________\n"
     ]
    }
   ],
   "source": [
    "op1.model_blueprint()"
   ]
  },
  {
   "cell_type": "code",
   "execution_count": 23,
   "metadata": {},
   "outputs": [
    {
     "name": "stdout",
     "output_type": "stream",
     "text": [
      "Epoch 1/10\n",
      "20/20 [==============================] - 1s 46ms/step - loss: 21.5897 - mean_squared_error: 21.5897 - val_loss: 213.2412 - val_mean_squared_error: 213.2412\n",
      "Epoch 2/10\n",
      "20/20 [==============================] - 1s 25ms/step - loss: 11.5143 - mean_squared_error: 11.5143 - val_loss: 6.0122 - val_mean_squared_error: 6.0122\n",
      "Epoch 3/10\n",
      "20/20 [==============================] - 0s 22ms/step - loss: 1.6485 - mean_squared_error: 1.6485 - val_loss: 1.1164 - val_mean_squared_error: 1.1164\n",
      "Epoch 4/10\n",
      "20/20 [==============================] - 0s 19ms/step - loss: 0.2219 - mean_squared_error: 0.2219 - val_loss: 0.3703 - val_mean_squared_error: 0.3703\n",
      "Epoch 5/10\n",
      "20/20 [==============================] - 0s 20ms/step - loss: 0.1322 - mean_squared_error: 0.1322 - val_loss: 0.3340 - val_mean_squared_error: 0.3340\n",
      "Epoch 6/10\n",
      "20/20 [==============================] - 0s 21ms/step - loss: 0.0992 - mean_squared_error: 0.0992 - val_loss: 0.3363 - val_mean_squared_error: 0.3363\n",
      "Epoch 7/10\n",
      "20/20 [==============================] - 0s 21ms/step - loss: 0.0885 - mean_squared_error: 0.0885 - val_loss: 0.1426 - val_mean_squared_error: 0.1426\n",
      "Epoch 8/10\n",
      "20/20 [==============================] - 0s 20ms/step - loss: 0.0785 - mean_squared_error: 0.0785 - val_loss: 0.2126 - val_mean_squared_error: 0.2126\n",
      "Epoch 9/10\n",
      "20/20 [==============================] - 0s 20ms/step - loss: 0.0811 - mean_squared_error: 0.0811 - val_loss: 0.1371 - val_mean_squared_error: 0.1371\n",
      "Epoch 10/10\n",
      "20/20 [==============================] - 0s 20ms/step - loss: 0.0775 - mean_squared_error: 0.0775 - val_loss: 0.4050 - val_mean_squared_error: 0.4050\n"
     ]
    },
    {
     "data": {
      "text/plain": [
       "<tensorflow.python.keras.callbacks.History at 0x195110898e0>"
      ]
     },
     "execution_count": 23,
     "metadata": {},
     "output_type": "execute_result"
    }
   ],
   "source": [
    "op1.fit_model(10)"
   ]
  },
  {
   "cell_type": "code",
   "execution_count": 24,
   "metadata": {},
   "outputs": [
    {
     "data": {
      "image/png": "[encoded data removed]",
      "text/plain": [
       "<Figure size 432x288 with 2 Axes>"
      ]
     },
     "metadata": {
      "needs_background": "light"
     },
     "output_type": "display_data"
    }
   ],
   "source": [
    "op1.show_performance()"
   ]
  },
  {
   "cell_type": "code",
   "execution_count": 25,
   "metadata": {},
   "outputs": [
    {
     "data": {
      "text/html": [
       "<div>\n",
       "<style scoped>\n",
       "    .dataframe tbody tr th:only-of-type {\n",
       "        vertical-align: middle;\n",
       "    }\n",
       "\n",
       "    .dataframe tbody tr th {\n",
       "        vertical-align: top;\n",
       "    }\n",
       "\n",
       "    .dataframe thead th {\n",
       "        text-align: right;\n",
       "    }\n",
       "</style>\n",
       "<table border=\"1\" class=\"dataframe\">\n",
       "  <thead>\n",
       "    <tr style=\"text-align: right;\">\n",
       "      <th></th>\n",
       "      <th>LSTM</th>\n",
       "    </tr>\n",
       "  </thead>\n",
       "  <tbody>\n",
       "    <tr>\n",
       "      <th>0</th>\n",
       "      <td>7.444017</td>\n",
       "    </tr>\n",
       "    <tr>\n",
       "      <th>1</th>\n",
       "      <td>7.485474</td>\n",
       "    </tr>\n",
       "    <tr>\n",
       "      <th>2</th>\n",
       "      <td>7.953871</td>\n",
       "    </tr>\n",
       "    <tr>\n",
       "      <th>3</th>\n",
       "      <td>7.617049</td>\n",
       "    </tr>\n",
       "    <tr>\n",
       "      <th>4</th>\n",
       "      <td>7.955699</td>\n",
       "    </tr>\n",
       "    <tr>\n",
       "      <th>5</th>\n",
       "      <td>8.169379</td>\n",
       "    </tr>\n",
       "    <tr>\n",
       "      <th>6</th>\n",
       "      <td>7.753589</td>\n",
       "    </tr>\n",
       "  </tbody>\n",
       "</table>\n",
       "</div>"
      ],
      "text/plain": [
       "       LSTM\n",
       "0  7.444017\n",
       "1  7.485474\n",
       "2  7.953871\n",
       "3  7.617049\n",
       "4  7.955699\n",
       "5  8.169379\n",
       "6  7.753589"
      ]
     },
     "execution_count": 25,
     "metadata": {},
     "output_type": "execute_result"
    }
   ],
   "source": [
    "nice = op1.predict(oyea)\n",
    "nice"
   ]
  },
  {
   "cell_type": "code",
   "execution_count": 26,
   "metadata": {},
   "outputs": [],
   "source": [
    "op2.create_cnn()"
   ]
  },
  {
   "cell_type": "code",
   "execution_count": 27,
   "metadata": {},
   "outputs": [
    {
     "name": "stdout",
     "output_type": "stream",
     "text": [
      "Model: \"sequential_2\"\n",
      "_________________________________________________________________\n",
      "Layer (type)                 Output Shape              Param #   \n",
      "=================================================================\n",
      "conv1d (Conv1D)              (None, 24, 64)            192       \n",
      "_________________________________________________________________\n",
      "conv1d_1 (Conv1D)            (None, 23, 32)            4128      \n",
      "_________________________________________________________________\n",
      "max_pooling1d (MaxPooling1D) (None, 11, 32)            0         \n",
      "_________________________________________________________________\n",
      "flatten (Flatten)            (None, 352)               0         \n",
      "_________________________________________________________________\n",
      "dense_2 (Dense)              (None, 50)                17650     \n",
      "_________________________________________________________________\n",
      "dense_3 (Dense)              (None, 7)                 357       \n",
      "=================================================================\n",
      "Total params: 22,327\n",
      "Trainable params: 22,327\n",
      "Non-trainable params: 0\n",
      "_________________________________________________________________\n"
     ]
    }
   ],
   "source": [
    "op2.model_blueprint()"
   ]
  },
  {
   "cell_type": "code",
   "execution_count": 28,
   "metadata": {},
   "outputs": [
    {
     "name": "stdout",
     "output_type": "stream",
     "text": [
      "Epoch 1/10\n",
      "20/20 [==============================] - 0s 8ms/step - loss: 13.1028 - mean_squared_error: 13.1028 - val_loss: 4.3357 - val_mean_squared_error: 4.3357\n",
      "Epoch 2/10\n",
      "20/20 [==============================] - 0s 3ms/step - loss: 0.8406 - mean_squared_error: 0.8406 - val_loss: 0.5708 - val_mean_squared_error: 0.5708\n",
      "Epoch 3/10\n",
      "20/20 [==============================] - 0s 3ms/step - loss: 0.1509 - mean_squared_error: 0.1509 - val_loss: 0.2541 - val_mean_squared_error: 0.2541\n",
      "Epoch 4/10\n",
      "20/20 [==============================] - 0s 3ms/step - loss: 0.0810 - mean_squared_error: 0.0810 - val_loss: 0.2608 - val_mean_squared_error: 0.2608\n",
      "Epoch 5/10\n",
      "20/20 [==============================] - 0s 3ms/step - loss: 0.0656 - mean_squared_error: 0.0656 - val_loss: 0.2700 - val_mean_squared_error: 0.2700\n",
      "Epoch 6/10\n",
      "20/20 [==============================] - 0s 3ms/step - loss: 0.0655 - mean_squared_error: 0.0655 - val_loss: 0.2363 - val_mean_squared_error: 0.2363\n",
      "Epoch 7/10\n",
      "20/20 [==============================] - 0s 3ms/step - loss: 0.0663 - mean_squared_error: 0.0663 - val_loss: 0.1798 - val_mean_squared_error: 0.1798\n",
      "Epoch 8/10\n",
      "20/20 [==============================] - 0s 3ms/step - loss: 0.0643 - mean_squared_error: 0.0643 - val_loss: 0.1912 - val_mean_squared_error: 0.1912\n",
      "Epoch 9/10\n",
      "20/20 [==============================] - 0s 3ms/step - loss: 0.0697 - mean_squared_error: 0.0697 - val_loss: 0.2065 - val_mean_squared_error: 0.2065\n",
      "Epoch 10/10\n",
      "20/20 [==============================] - 0s 3ms/step - loss: 0.0646 - mean_squared_error: 0.0646 - val_loss: 0.2393 - val_mean_squared_error: 0.2393\n"
     ]
    },
    {
     "data": {
      "text/plain": [
       "<tensorflow.python.keras.callbacks.History at 0x195187baaf0>"
      ]
     },
     "execution_count": 28,
     "metadata": {},
     "output_type": "execute_result"
    }
   ],
   "source": [
    "op2.fit_model(10)"
   ]
  },
  {
   "cell_type": "code",
   "execution_count": 29,
   "metadata": {},
   "outputs": [
    {
     "data": {
      "image/png": "[encoded data removed]",
      "text/plain": [
       "<Figure size 432x288 with 2 Axes>"
      ]
     },
     "metadata": {
      "needs_background": "light"
     },
     "output_type": "display_data"
    }
   ],
   "source": [
    "op2.show_performance()"
   ]
  },
  {
   "cell_type": "code",
   "execution_count": 30,
   "metadata": {},
   "outputs": [
    {
     "data": {
      "text/html": [
       "<div>\n",
       "<style scoped>\n",
       "    .dataframe tbody tr th:only-of-type {\n",
       "        vertical-align: middle;\n",
       "    }\n",
       "\n",
       "    .dataframe tbody tr th {\n",
       "        vertical-align: top;\n",
       "    }\n",
       "\n",
       "    .dataframe thead th {\n",
       "        text-align: right;\n",
       "    }\n",
       "</style>\n",
       "<table border=\"1\" class=\"dataframe\">\n",
       "  <thead>\n",
       "    <tr style=\"text-align: right;\">\n",
       "      <th></th>\n",
       "      <th>CNN</th>\n",
       "    </tr>\n",
       "  </thead>\n",
       "  <tbody>\n",
       "    <tr>\n",
       "      <th>0</th>\n",
       "      <td>7.571640</td>\n",
       "    </tr>\n",
       "    <tr>\n",
       "      <th>1</th>\n",
       "      <td>7.636959</td>\n",
       "    </tr>\n",
       "    <tr>\n",
       "      <th>2</th>\n",
       "      <td>7.629258</td>\n",
       "    </tr>\n",
       "    <tr>\n",
       "      <th>3</th>\n",
       "      <td>7.693495</td>\n",
       "    </tr>\n",
       "    <tr>\n",
       "      <th>4</th>\n",
       "      <td>7.731886</td>\n",
       "    </tr>\n",
       "    <tr>\n",
       "      <th>5</th>\n",
       "      <td>7.737085</td>\n",
       "    </tr>\n",
       "    <tr>\n",
       "      <th>6</th>\n",
       "      <td>7.691160</td>\n",
       "    </tr>\n",
       "  </tbody>\n",
       "</table>\n",
       "</div>"
      ],
      "text/plain": [
       "        CNN\n",
       "0  7.571640\n",
       "1  7.636959\n",
       "2  7.629258\n",
       "3  7.693495\n",
       "4  7.731886\n",
       "5  7.737085\n",
       "6  7.691160"
      ]
     },
     "execution_count": 30,
     "metadata": {},
     "output_type": "execute_result"
    }
   ],
   "source": [
    "nice = op2.predict(oyea)\n",
    "nice"
   ]
  },
  {
   "cell_type": "code",
   "execution_count": 31,
   "metadata": {},
   "outputs": [],
   "source": [
    "op3.create_mlp()"
   ]
  },
  {
   "cell_type": "code",
   "execution_count": 32,
   "metadata": {},
   "outputs": [
    {
     "name": "stdout",
     "output_type": "stream",
     "text": [
      "Model: \"sequential_3\"\n",
      "_________________________________________________________________\n",
      "Layer (type)                 Output Shape              Param #   \n",
      "=================================================================\n",
      "dense_4 (Dense)              (None, 50)                1300      \n",
      "_________________________________________________________________\n",
      "dense_5 (Dense)              (None, 25)                1275      \n",
      "_________________________________________________________________\n",
      "dense_6 (Dense)              (None, 25)                650       \n",
      "_________________________________________________________________\n",
      "dense_7 (Dense)              (None, 7)                 182       \n",
      "=================================================================\n",
      "Total params: 3,407\n",
      "Trainable params: 3,407\n",
      "Non-trainable params: 0\n",
      "_________________________________________________________________\n"
     ]
    }
   ],
   "source": [
    "op3.model_blueprint()"
   ]
  },
  {
   "cell_type": "code",
   "execution_count": 33,
   "metadata": {},
   "outputs": [
    {
     "name": "stdout",
     "output_type": "stream",
     "text": [
      "Epoch 1/100\n",
      "20/20 [==============================] - 0s 8ms/step - loss: 24.1870 - mean_squared_error: 24.1870 - val_loss: 31.2576 - val_mean_squared_error: 31.2576\n",
      "Epoch 2/100\n",
      "20/20 [==============================] - 0s 2ms/step - loss: 12.5680 - mean_squared_error: 12.5680 - val_loss: 11.5083 - val_mean_squared_error: 11.5083\n",
      "Epoch 3/100\n",
      "20/20 [==============================] - 0s 2ms/step - loss: 3.5404 - mean_squared_error: 3.5404 - val_loss: 2.1975 - val_mean_squared_error: 2.1975\n",
      "Epoch 4/100\n",
      "20/20 [==============================] - 0s 2ms/step - loss: 0.3839 - mean_squared_error: 0.3839 - val_loss: 0.2401 - val_mean_squared_error: 0.2401\n",
      "Epoch 5/100\n",
      "20/20 [==============================] - 0s 2ms/step - loss: 0.0876 - mean_squared_error: 0.0876 - val_loss: 0.2482 - val_mean_squared_error: 0.2482\n",
      "Epoch 6/100\n",
      "20/20 [==============================] - 0s 2ms/step - loss: 0.0597 - mean_squared_error: 0.0597 - val_loss: 0.2320 - val_mean_squared_error: 0.2320\n",
      "Epoch 7/100\n",
      "20/20 [==============================] - 0s 2ms/step - loss: 0.0584 - mean_squared_error: 0.0584 - val_loss: 0.2380 - val_mean_squared_error: 0.2380\n",
      "Epoch 8/100\n",
      "20/20 [==============================] - 0s 2ms/step - loss: 0.0573 - mean_squared_error: 0.0573 - val_loss: 0.2215 - val_mean_squared_error: 0.2215\n",
      "Epoch 9/100\n",
      "20/20 [==============================] - 0s 2ms/step - loss: 0.0577 - mean_squared_error: 0.0577 - val_loss: 0.2446 - val_mean_squared_error: 0.2446\n",
      "Epoch 10/100\n",
      "20/20 [==============================] - 0s 2ms/step - loss: 0.0581 - mean_squared_error: 0.0581 - val_loss: 0.2348 - val_mean_squared_error: 0.2348\n",
      "Epoch 11/100\n",
      "20/20 [==============================] - 0s 2ms/step - loss: 0.0570 - mean_squared_error: 0.0570 - val_loss: 0.1830 - val_mean_squared_error: 0.1830\n",
      "Epoch 12/100\n",
      "20/20 [==============================] - 0s 2ms/step - loss: 0.0568 - mean_squared_error: 0.0568 - val_loss: 0.2126 - val_mean_squared_error: 0.2126\n",
      "Epoch 13/100\n",
      "20/20 [==============================] - 0s 2ms/step - loss: 0.0579 - mean_squared_error: 0.0579 - val_loss: 0.1923 - val_mean_squared_error: 0.1923\n",
      "Epoch 14/100\n",
      "20/20 [==============================] - 0s 2ms/step - loss: 0.0575 - mean_squared_error: 0.0575 - val_loss: 0.2099 - val_mean_squared_error: 0.2099\n",
      "Epoch 15/100\n",
      "20/20 [==============================] - 0s 3ms/step - loss: 0.0567 - mean_squared_error: 0.0567 - val_loss: 0.2158 - val_mean_squared_error: 0.2158\n",
      "Epoch 16/100\n",
      "20/20 [==============================] - 0s 2ms/step - loss: 0.0573 - mean_squared_error: 0.0573 - val_loss: 0.2085 - val_mean_squared_error: 0.2085\n",
      "Epoch 17/100\n",
      "20/20 [==============================] - 0s 3ms/step - loss: 0.0596 - mean_squared_error: 0.0596 - val_loss: 0.1744 - val_mean_squared_error: 0.1744\n",
      "Epoch 18/100\n",
      "20/20 [==============================] - 0s 2ms/step - loss: 0.0591 - mean_squared_error: 0.0591 - val_loss: 0.1907 - val_mean_squared_error: 0.1907\n",
      "Epoch 19/100\n",
      "20/20 [==============================] - 0s 3ms/step - loss: 0.0570 - mean_squared_error: 0.0570 - val_loss: 0.1977 - val_mean_squared_error: 0.1977\n",
      "Epoch 20/100\n",
      "20/20 [==============================] - 0s 2ms/step - loss: 0.0570 - mean_squared_error: 0.0570 - val_loss: 0.1976 - val_mean_squared_error: 0.1976\n",
      "Epoch 21/100\n",
      "20/20 [==============================] - 0s 3ms/step - loss: 0.0570 - mean_squared_error: 0.0570 - val_loss: 0.1768 - val_mean_squared_error: 0.1768\n",
      "Epoch 22/100\n",
      "20/20 [==============================] - 0s 2ms/step - loss: 0.0561 - mean_squared_error: 0.0561 - val_loss: 0.2112 - val_mean_squared_error: 0.2112\n",
      "Epoch 23/100\n",
      "20/20 [==============================] - 0s 2ms/step - loss: 0.0560 - mean_squared_error: 0.0560 - val_loss: 0.2198 - val_mean_squared_error: 0.2198\n",
      "Epoch 24/100\n",
      "20/20 [==============================] - 0s 2ms/step - loss: 0.0562 - mean_squared_error: 0.0562 - val_loss: 0.1794 - val_mean_squared_error: 0.1794\n",
      "Epoch 25/100\n",
      "20/20 [==============================] - 0s 2ms/step - loss: 0.0567 - mean_squared_error: 0.0567 - val_loss: 0.2252 - val_mean_squared_error: 0.2252\n",
      "Epoch 26/100\n",
      "20/20 [==============================] - 0s 2ms/step - loss: 0.0568 - mean_squared_error: 0.0568 - val_loss: 0.1817 - val_mean_squared_error: 0.1817\n",
      "Epoch 27/100\n",
      "20/20 [==============================] - 0s 2ms/step - loss: 0.0606 - mean_squared_error: 0.0606 - val_loss: 0.1583 - val_mean_squared_error: 0.1583\n",
      "Epoch 28/100\n",
      "20/20 [==============================] - 0s 2ms/step - loss: 0.0572 - mean_squared_error: 0.0572 - val_loss: 0.2282 - val_mean_squared_error: 0.2282\n",
      "Epoch 29/100\n",
      "20/20 [==============================] - 0s 2ms/step - loss: 0.0579 - mean_squared_error: 0.0579 - val_loss: 0.1556 - val_mean_squared_error: 0.1556\n",
      "Epoch 30/100\n",
      "20/20 [==============================] - 0s 2ms/step - loss: 0.0557 - mean_squared_error: 0.0557 - val_loss: 0.2747 - val_mean_squared_error: 0.2747\n",
      "Epoch 31/100\n",
      "20/20 [==============================] - 0s 2ms/step - loss: 0.0580 - mean_squared_error: 0.0580 - val_loss: 0.1474 - val_mean_squared_error: 0.1474\n",
      "Epoch 32/100\n",
      "20/20 [==============================] - 0s 2ms/step - loss: 0.0551 - mean_squared_error: 0.0551 - val_loss: 0.2307 - val_mean_squared_error: 0.2307\n",
      "Epoch 33/100\n",
      "20/20 [==============================] - 0s 2ms/step - loss: 0.0563 - mean_squared_error: 0.0563 - val_loss: 0.1911 - val_mean_squared_error: 0.1911\n",
      "Epoch 34/100\n",
      "20/20 [==============================] - 0s 2ms/step - loss: 0.0558 - mean_squared_error: 0.0558 - val_loss: 0.1995 - val_mean_squared_error: 0.1995\n",
      "Epoch 35/100\n",
      "20/20 [==============================] - 0s 2ms/step - loss: 0.0557 - mean_squared_error: 0.0557 - val_loss: 0.2038 - val_mean_squared_error: 0.2038\n",
      "Epoch 36/100\n",
      "20/20 [==============================] - 0s 2ms/step - loss: 0.0555 - mean_squared_error: 0.0555 - val_loss: 0.2051 - val_mean_squared_error: 0.2051\n",
      "Epoch 37/100\n",
      "20/20 [==============================] - 0s 2ms/step - loss: 0.0550 - mean_squared_error: 0.0550 - val_loss: 0.1723 - val_mean_squared_error: 0.1723\n",
      "Epoch 38/100\n",
      "20/20 [==============================] - 0s 2ms/step - loss: 0.0570 - mean_squared_error: 0.0570 - val_loss: 0.2209 - val_mean_squared_error: 0.2209\n",
      "Epoch 39/100\n",
      "20/20 [==============================] - 0s 2ms/step - loss: 0.0617 - mean_squared_error: 0.0617 - val_loss: 0.2485 - val_mean_squared_error: 0.2485\n",
      "Epoch 40/100\n",
      "20/20 [==============================] - 0s 2ms/step - loss: 0.0566 - mean_squared_error: 0.0566 - val_loss: 0.1828 - val_mean_squared_error: 0.1828\n",
      "Epoch 41/100\n",
      "20/20 [==============================] - 0s 2ms/step - loss: 0.0543 - mean_squared_error: 0.0543 - val_loss: 0.2485 - val_mean_squared_error: 0.2485\n",
      "Epoch 42/100\n",
      "20/20 [==============================] - 0s 2ms/step - loss: 0.0542 - mean_squared_error: 0.0542 - val_loss: 0.1693 - val_mean_squared_error: 0.1693\n",
      "Epoch 43/100\n",
      "20/20 [==============================] - 0s 2ms/step - loss: 0.0554 - mean_squared_error: 0.0554 - val_loss: 0.1494 - val_mean_squared_error: 0.1494\n",
      "Epoch 44/100\n",
      "20/20 [==============================] - 0s 2ms/step - loss: 0.0561 - mean_squared_error: 0.0561 - val_loss: 0.1598 - val_mean_squared_error: 0.1598\n",
      "Epoch 45/100\n",
      "20/20 [==============================] - 0s 2ms/step - loss: 0.0551 - mean_squared_error: 0.0551 - val_loss: 0.2283 - val_mean_squared_error: 0.2283\n",
      "Epoch 46/100\n",
      "20/20 [==============================] - 0s 2ms/step - loss: 0.0541 - mean_squared_error: 0.0541 - val_loss: 0.2400 - val_mean_squared_error: 0.2400\n",
      "Epoch 47/100\n",
      "20/20 [==============================] - 0s 2ms/step - loss: 0.0568 - mean_squared_error: 0.0568 - val_loss: 0.1995 - val_mean_squared_error: 0.1995\n",
      "Epoch 48/100\n",
      "20/20 [==============================] - 0s 2ms/step - loss: 0.0547 - mean_squared_error: 0.0547 - val_loss: 0.1988 - val_mean_squared_error: 0.1988\n",
      "Epoch 49/100\n",
      "20/20 [==============================] - 0s 2ms/step - loss: 0.0535 - mean_squared_error: 0.0535 - val_loss: 0.1871 - val_mean_squared_error: 0.1871\n",
      "Epoch 50/100\n",
      "20/20 [==============================] - 0s 2ms/step - loss: 0.0545 - mean_squared_error: 0.0545 - val_loss: 0.1549 - val_mean_squared_error: 0.1549\n",
      "Epoch 51/100\n",
      "20/20 [==============================] - 0s 2ms/step - loss: 0.0538 - mean_squared_error: 0.0538 - val_loss: 0.1670 - val_mean_squared_error: 0.1670\n",
      "Epoch 52/100\n",
      "20/20 [==============================] - 0s 2ms/step - loss: 0.0540 - mean_squared_error: 0.0540 - val_loss: 0.1670 - val_mean_squared_error: 0.1670\n",
      "Epoch 53/100\n",
      "20/20 [==============================] - 0s 2ms/step - loss: 0.0539 - mean_squared_error: 0.0539 - val_loss: 0.1621 - val_mean_squared_error: 0.1621\n",
      "Epoch 54/100\n",
      "20/20 [==============================] - 0s 2ms/step - loss: 0.0530 - mean_squared_error: 0.0530 - val_loss: 0.1636 - val_mean_squared_error: 0.1636\n",
      "Epoch 55/100\n",
      "20/20 [==============================] - 0s 2ms/step - loss: 0.0519 - mean_squared_error: 0.0519 - val_loss: 0.1206 - val_mean_squared_error: 0.1206\n",
      "Epoch 56/100\n",
      "20/20 [==============================] - 0s 2ms/step - loss: 0.0556 - mean_squared_error: 0.0556 - val_loss: 0.2094 - val_mean_squared_error: 0.2094\n",
      "Epoch 57/100\n",
      "20/20 [==============================] - 0s 2ms/step - loss: 0.0528 - mean_squared_error: 0.0528 - val_loss: 0.1543 - val_mean_squared_error: 0.1543\n",
      "Epoch 58/100\n",
      "20/20 [==============================] - 0s 2ms/step - loss: 0.0544 - mean_squared_error: 0.0544 - val_loss: 0.1912 - val_mean_squared_error: 0.1912\n",
      "Epoch 59/100\n",
      "20/20 [==============================] - 0s 2ms/step - loss: 0.0532 - mean_squared_error: 0.0532 - val_loss: 0.1700 - val_mean_squared_error: 0.1700\n",
      "Epoch 60/100\n",
      "20/20 [==============================] - 0s 2ms/step - loss: 0.0531 - mean_squared_error: 0.0531 - val_loss: 0.2157 - val_mean_squared_error: 0.2157\n",
      "Epoch 61/100\n",
      "20/20 [==============================] - 0s 2ms/step - loss: 0.0539 - mean_squared_error: 0.0539 - val_loss: 0.1841 - val_mean_squared_error: 0.1841\n",
      "Epoch 62/100\n",
      "20/20 [==============================] - 0s 2ms/step - loss: 0.0519 - mean_squared_error: 0.0519 - val_loss: 0.1296 - val_mean_squared_error: 0.1296\n",
      "Epoch 63/100\n",
      "20/20 [==============================] - 0s 2ms/step - loss: 0.0530 - mean_squared_error: 0.0530 - val_loss: 0.2569 - val_mean_squared_error: 0.2569\n",
      "Epoch 64/100\n",
      "20/20 [==============================] - 0s 2ms/step - loss: 0.0554 - mean_squared_error: 0.0554 - val_loss: 0.1802 - val_mean_squared_error: 0.1802\n",
      "Epoch 65/100\n",
      "20/20 [==============================] - 0s 2ms/step - loss: 0.0546 - mean_squared_error: 0.0546 - val_loss: 0.1552 - val_mean_squared_error: 0.1552\n",
      "Epoch 66/100\n",
      "20/20 [==============================] - 0s 2ms/step - loss: 0.0587 - mean_squared_error: 0.0587 - val_loss: 0.1472 - val_mean_squared_error: 0.1472\n",
      "Epoch 67/100\n",
      "20/20 [==============================] - 0s 2ms/step - loss: 0.0516 - mean_squared_error: 0.0516 - val_loss: 0.1514 - val_mean_squared_error: 0.1514\n",
      "Epoch 68/100\n",
      "20/20 [==============================] - 0s 2ms/step - loss: 0.0527 - mean_squared_error: 0.0527 - val_loss: 0.1239 - val_mean_squared_error: 0.1239\n",
      "Epoch 69/100\n",
      "20/20 [==============================] - 0s 2ms/step - loss: 0.0579 - mean_squared_error: 0.0579 - val_loss: 0.1521 - val_mean_squared_error: 0.1521\n",
      "Epoch 70/100\n",
      "20/20 [==============================] - 0s 2ms/step - loss: 0.0516 - mean_squared_error: 0.0516 - val_loss: 0.1752 - val_mean_squared_error: 0.1752\n",
      "Epoch 71/100\n",
      "20/20 [==============================] - 0s 2ms/step - loss: 0.0508 - mean_squared_error: 0.0508 - val_loss: 0.1164 - val_mean_squared_error: 0.1164\n",
      "Epoch 72/100\n",
      "20/20 [==============================] - 0s 2ms/step - loss: 0.0517 - mean_squared_error: 0.0517 - val_loss: 0.1573 - val_mean_squared_error: 0.1573\n",
      "Epoch 73/100\n",
      "20/20 [==============================] - 0s 2ms/step - loss: 0.0498 - mean_squared_error: 0.0498 - val_loss: 0.1580 - val_mean_squared_error: 0.1580\n",
      "Epoch 74/100\n",
      "20/20 [==============================] - 0s 2ms/step - loss: 0.0508 - mean_squared_error: 0.0508 - val_loss: 0.1895 - val_mean_squared_error: 0.1895\n",
      "Epoch 75/100\n",
      "20/20 [==============================] - 0s 2ms/step - loss: 0.0579 - mean_squared_error: 0.0579 - val_loss: 0.1727 - val_mean_squared_error: 0.1727\n",
      "Epoch 76/100\n",
      "20/20 [==============================] - 0s 2ms/step - loss: 0.0517 - mean_squared_error: 0.0517 - val_loss: 0.1616 - val_mean_squared_error: 0.1616\n",
      "Epoch 77/100\n",
      "20/20 [==============================] - 0s 2ms/step - loss: 0.0503 - mean_squared_error: 0.0503 - val_loss: 0.1223 - val_mean_squared_error: 0.1223\n",
      "Epoch 78/100\n",
      "20/20 [==============================] - 0s 2ms/step - loss: 0.0515 - mean_squared_error: 0.0515 - val_loss: 0.1006 - val_mean_squared_error: 0.1006\n",
      "Epoch 79/100\n",
      "20/20 [==============================] - 0s 2ms/step - loss: 0.0566 - mean_squared_error: 0.0566 - val_loss: 0.1852 - val_mean_squared_error: 0.1852\n",
      "Epoch 80/100\n",
      "20/20 [==============================] - 0s 2ms/step - loss: 0.0509 - mean_squared_error: 0.0509 - val_loss: 0.1844 - val_mean_squared_error: 0.1844\n",
      "Epoch 81/100\n",
      "20/20 [==============================] - 0s 1ms/step - loss: 0.0504 - mean_squared_error: 0.0504 - val_loss: 0.1029 - val_mean_squared_error: 0.1029\n",
      "Epoch 82/100\n",
      "20/20 [==============================] - 0s 2ms/step - loss: 0.0552 - mean_squared_error: 0.0552 - val_loss: 0.2478 - val_mean_squared_error: 0.2478\n",
      "Epoch 83/100\n",
      "20/20 [==============================] - 0s 2ms/step - loss: 0.0527 - mean_squared_error: 0.0527 - val_loss: 0.1078 - val_mean_squared_error: 0.1078\n",
      "Epoch 84/100\n",
      "20/20 [==============================] - 0s 2ms/step - loss: 0.0504 - mean_squared_error: 0.0504 - val_loss: 0.1275 - val_mean_squared_error: 0.1275\n",
      "Epoch 85/100\n",
      "20/20 [==============================] - 0s 2ms/step - loss: 0.0493 - mean_squared_error: 0.0493 - val_loss: 0.1352 - val_mean_squared_error: 0.1352\n",
      "Epoch 86/100\n",
      "20/20 [==============================] - 0s 2ms/step - loss: 0.0486 - mean_squared_error: 0.0486 - val_loss: 0.1356 - val_mean_squared_error: 0.1356\n",
      "Epoch 87/100\n",
      "20/20 [==============================] - 0s 2ms/step - loss: 0.0484 - mean_squared_error: 0.0484 - val_loss: 0.1048 - val_mean_squared_error: 0.1048\n",
      "Epoch 88/100\n",
      "20/20 [==============================] - 0s 2ms/step - loss: 0.0560 - mean_squared_error: 0.0560 - val_loss: 0.1167 - val_mean_squared_error: 0.1167\n",
      "Epoch 89/100\n",
      "20/20 [==============================] - 0s 2ms/step - loss: 0.0538 - mean_squared_error: 0.0538 - val_loss: 0.1644 - val_mean_squared_error: 0.1644\n",
      "Epoch 90/100\n",
      "20/20 [==============================] - 0s 2ms/step - loss: 0.0501 - mean_squared_error: 0.0501 - val_loss: 0.0979 - val_mean_squared_error: 0.0979\n",
      "Epoch 91/100\n",
      "20/20 [==============================] - 0s 2ms/step - loss: 0.0497 - mean_squared_error: 0.0497 - val_loss: 0.1995 - val_mean_squared_error: 0.1995\n",
      "Epoch 92/100\n",
      "20/20 [==============================] - 0s 2ms/step - loss: 0.0502 - mean_squared_error: 0.0502 - val_loss: 0.0905 - val_mean_squared_error: 0.0905\n",
      "Epoch 93/100\n",
      "20/20 [==============================] - 0s 2ms/step - loss: 0.0526 - mean_squared_error: 0.0526 - val_loss: 0.1517 - val_mean_squared_error: 0.1517\n",
      "Epoch 94/100\n",
      "20/20 [==============================] - 0s 2ms/step - loss: 0.0488 - mean_squared_error: 0.0488 - val_loss: 0.1113 - val_mean_squared_error: 0.1113\n",
      "Epoch 95/100\n",
      "20/20 [==============================] - 0s 2ms/step - loss: 0.0502 - mean_squared_error: 0.0502 - val_loss: 0.1288 - val_mean_squared_error: 0.1288\n",
      "Epoch 96/100\n",
      "20/20 [==============================] - 0s 2ms/step - loss: 0.0510 - mean_squared_error: 0.0510 - val_loss: 0.1885 - val_mean_squared_error: 0.1885\n",
      "Epoch 97/100\n",
      "20/20 [==============================] - 0s 2ms/step - loss: 0.0517 - mean_squared_error: 0.0517 - val_loss: 0.2008 - val_mean_squared_error: 0.2008\n",
      "Epoch 98/100\n",
      "20/20 [==============================] - 0s 2ms/step - loss: 0.0515 - mean_squared_error: 0.0515 - val_loss: 0.1097 - val_mean_squared_error: 0.1097\n",
      "Epoch 99/100\n",
      "20/20 [==============================] - 0s 2ms/step - loss: 0.0511 - mean_squared_error: 0.0511 - val_loss: 0.1116 - val_mean_squared_error: 0.1116\n",
      "Epoch 100/100\n",
      "20/20 [==============================] - 0s 2ms/step - loss: 0.0475 - mean_squared_error: 0.0475 - val_loss: 0.1202 - val_mean_squared_error: 0.1202\n"
     ]
    },
    {
     "data": {
      "text/plain": [
       "<tensorflow.python.keras.callbacks.History at 0x19519cdf6a0>"
      ]
     },
     "execution_count": 33,
     "metadata": {},
     "output_type": "execute_result"
    }
   ],
   "source": [
    "op3.fit_model(100)"
   ]
  },
  {
   "cell_type": "code",
   "execution_count": 34,
   "metadata": {},
   "outputs": [
    {
     "data": {
      "image/png": "[encoded data removed]",
      "text/plain": [
       "<Figure size 432x288 with 2 Axes>"
      ]
     },
     "metadata": {
      "needs_background": "light"
     },
     "output_type": "display_data"
    }
   ],
   "source": [
    "op3.show_performance()"
   ]
  },
  {
   "cell_type": "code",
   "execution_count": 35,
   "metadata": {},
   "outputs": [],
   "source": [
    "oyea = prices[-26:-1]\n",
    "#oyea = X[-1]\n",
    "#oyea"
   ]
  },
  {
   "cell_type": "code",
   "execution_count": 36,
   "metadata": {},
   "outputs": [
    {
     "data": {
      "text/html": [
       "<div>\n",
       "<style scoped>\n",
       "    .dataframe tbody tr th:only-of-type {\n",
       "        vertical-align: middle;\n",
       "    }\n",
       "\n",
       "    .dataframe tbody tr th {\n",
       "        vertical-align: top;\n",
       "    }\n",
       "\n",
       "    .dataframe thead th {\n",
       "        text-align: right;\n",
       "    }\n",
       "</style>\n",
       "<table border=\"1\" class=\"dataframe\">\n",
       "  <thead>\n",
       "    <tr style=\"text-align: right;\">\n",
       "      <th></th>\n",
       "      <th>MLP</th>\n",
       "    </tr>\n",
       "  </thead>\n",
       "  <tbody>\n",
       "    <tr>\n",
       "      <th>0</th>\n",
       "      <td>7.016368</td>\n",
       "    </tr>\n",
       "    <tr>\n",
       "      <th>1</th>\n",
       "      <td>7.353357</td>\n",
       "    </tr>\n",
       "    <tr>\n",
       "      <th>2</th>\n",
       "      <td>7.350390</td>\n",
       "    </tr>\n",
       "    <tr>\n",
       "      <th>3</th>\n",
       "      <td>7.333137</td>\n",
       "    </tr>\n",
       "    <tr>\n",
       "      <th>4</th>\n",
       "      <td>7.241974</td>\n",
       "    </tr>\n",
       "    <tr>\n",
       "      <th>5</th>\n",
       "      <td>7.493763</td>\n",
       "    </tr>\n",
       "    <tr>\n",
       "      <th>6</th>\n",
       "      <td>7.504691</td>\n",
       "    </tr>\n",
       "  </tbody>\n",
       "</table>\n",
       "</div>"
      ],
      "text/plain": [
       "        MLP\n",
       "0  7.016368\n",
       "1  7.353357\n",
       "2  7.350390\n",
       "3  7.333137\n",
       "4  7.241974\n",
       "5  7.493763\n",
       "6  7.504691"
      ]
     },
     "execution_count": 36,
     "metadata": {},
     "output_type": "execute_result"
    }
   ],
   "source": [
    "nice = op3.predict(oyea)\n",
    "nice"
   ]
  },
  {
   "cell_type": "code",
   "execution_count": 37,
   "metadata": {},
   "outputs": [],
   "source": [
    "%run ../tools/predictorsII.py"
   ]
  },
  {
   "cell_type": "code",
   "execution_count": 38,
   "metadata": {},
   "outputs": [],
   "source": [
    "oo = UnivariatePredictorII(prices, 7)"
   ]
  },
  {
   "cell_type": "code",
   "execution_count": 39,
   "metadata": {},
   "outputs": [
    {
     "name": "stderr",
     "output_type": "stream",
     "text": [
      "INFO: nprophet.utils - set_auto_seasonalities: Disabling yearly seasonality. Run NeuralProphet with yearly_seasonality=True to override this.\n",
      "INFO: nprophet.utils - set_auto_seasonalities: Disabling daily seasonality. Run NeuralProphet with daily_seasonality=True to override this.\n",
      "INFO: nprophet.config - set_auto_batch_epoch: Auto-set batch_size to 8\n"
     ]
    },
    {
     "data": {
      "application/vnd.jupyter.widget-view+json": {
       "model_id": "b3e5f75d49004dbe8ffc87627e89dfae",
       "version_major": 2,
       "version_minor": 0
      },
      "text/plain": [
       "  0%|          | 0/100 [00:00<?, ?it/s]"
      ]
     },
     "metadata": {},
     "output_type": "display_data"
    },
    {
     "name": "stderr",
     "output_type": "stream",
     "text": [
      "INFO: nprophet - _lr_range_test: learning rate range test found optimal lr: 3.51E-05\n",
      "Epoch[100/100]: 100%|█| 100/100 [00:04<00:00, 23.52it/s, SmoothL1Loss=0.363, MAE=3.8, RegLoss=0, MAE_val=3.99, SmoothL1\n"
     ]
    }
   ],
   "source": [
    "oo.fit_neural_model(100,\"D\")"
   ]
  },
  {
   "cell_type": "code",
   "execution_count": 40,
   "metadata": {
    "scrolled": true
   },
   "outputs": [
    {
     "data": {
      "image/png": "[encoded data removed]",
      "text/plain": [
       "<Figure size 432x288 with 2 Axes>"
      ]
     },
     "metadata": {
      "needs_background": "light"
     },
     "output_type": "display_data"
    }
   ],
   "source": [
    "oo.show_performance_neural()"
   ]
  },
  {
   "cell_type": "code",
   "execution_count": 41,
   "metadata": {
    "scrolled": true
   },
   "outputs": [
    {
     "data": {
      "text/html": [
       "<div>\n",
       "<style scoped>\n",
       "    .dataframe tbody tr th:only-of-type {\n",
       "        vertical-align: middle;\n",
       "    }\n",
       "\n",
       "    .dataframe tbody tr th {\n",
       "        vertical-align: top;\n",
       "    }\n",
       "\n",
       "    .dataframe thead th {\n",
       "        text-align: right;\n",
       "    }\n",
       "</style>\n",
       "<table border=\"1\" class=\"dataframe\">\n",
       "  <thead>\n",
       "    <tr style=\"text-align: right;\">\n",
       "      <th></th>\n",
       "      <th>Neural Prophet</th>\n",
       "    </tr>\n",
       "  </thead>\n",
       "  <tbody>\n",
       "    <tr>\n",
       "      <th>0</th>\n",
       "      <td>7.858598</td>\n",
       "    </tr>\n",
       "    <tr>\n",
       "      <th>1</th>\n",
       "      <td>11.582884</td>\n",
       "    </tr>\n",
       "    <tr>\n",
       "      <th>2</th>\n",
       "      <td>6.680636</td>\n",
       "    </tr>\n",
       "    <tr>\n",
       "      <th>3</th>\n",
       "      <td>14.030499</td>\n",
       "    </tr>\n",
       "    <tr>\n",
       "      <th>4</th>\n",
       "      <td>5.648793</td>\n",
       "    </tr>\n",
       "    <tr>\n",
       "      <th>5</th>\n",
       "      <td>-0.428853</td>\n",
       "    </tr>\n",
       "    <tr>\n",
       "      <th>6</th>\n",
       "      <td>2.138511</td>\n",
       "    </tr>\n",
       "  </tbody>\n",
       "</table>\n",
       "</div>"
      ],
      "text/plain": [
       "   Neural Prophet\n",
       "0        7.858598\n",
       "1       11.582884\n",
       "2        6.680636\n",
       "3       14.030499\n",
       "4        5.648793\n",
       "5       -0.428853\n",
       "6        2.138511"
      ]
     },
     "execution_count": 41,
     "metadata": {},
     "output_type": "execute_result"
    }
   ],
   "source": [
    "oo.predict_neural()"
   ]
  },
  {
   "cell_type": "code",
   "execution_count": 42,
   "metadata": {
    "scrolled": false
   },
   "outputs": [
    {
     "name": "stderr",
     "output_type": "stream",
     "text": [
      "INFO:fbprophet:Disabling yearly seasonality. Run prophet with yearly_seasonality=True to override this.\n",
      "INFO:fbprophet:Disabling daily seasonality. Run prophet with daily_seasonality=True to override this.\n"
     ]
    }
   ],
   "source": [
    "oo.fit_prophet_model()"
   ]
  },
  {
   "cell_type": "code",
   "execution_count": 43,
   "metadata": {},
   "outputs": [
    {
     "name": "stderr",
     "output_type": "stream",
     "text": [
      "INFO:fbprophet:Making 50 forecasts with cutoffs between 2009-08-15 12:00:00 and 2010-02-03 00:00:00\n"
     ]
    },
    {
     "data": {
      "application/vnd.jupyter.widget-view+json": {
       "model_id": "f57f050def9745008eb5304bd1d6cedd",
       "version_major": 2,
       "version_minor": 0
      },
      "text/plain": [
       "  0%|          | 0/50 [00:00<?, ?it/s]"
      ]
     },
     "metadata": {},
     "output_type": "display_data"
    },
    {
     "data": {
      "text/html": [
       "<div>\n",
       "<style scoped>\n",
       "    .dataframe tbody tr th:only-of-type {\n",
       "        vertical-align: middle;\n",
       "    }\n",
       "\n",
       "    .dataframe tbody tr th {\n",
       "        vertical-align: top;\n",
       "    }\n",
       "\n",
       "    .dataframe thead th {\n",
       "        text-align: right;\n",
       "    }\n",
       "</style>\n",
       "<table border=\"1\" class=\"dataframe\">\n",
       "  <thead>\n",
       "    <tr style=\"text-align: right;\">\n",
       "      <th></th>\n",
       "      <th>horizon</th>\n",
       "      <th>mse</th>\n",
       "      <th>rmse</th>\n",
       "      <th>mae</th>\n",
       "      <th>mape</th>\n",
       "      <th>mdape</th>\n",
       "      <th>coverage</th>\n",
       "    </tr>\n",
       "  </thead>\n",
       "  <tbody>\n",
       "    <tr>\n",
       "      <th>0</th>\n",
       "      <td>1 days 00:00:00</td>\n",
       "      <td>0.061154</td>\n",
       "      <td>0.247293</td>\n",
       "      <td>0.202087</td>\n",
       "      <td>0.029285</td>\n",
       "      <td>0.030000</td>\n",
       "      <td>0.625000</td>\n",
       "    </tr>\n",
       "    <tr>\n",
       "      <th>1</th>\n",
       "      <td>1 days 12:00:00</td>\n",
       "      <td>0.065897</td>\n",
       "      <td>0.256705</td>\n",
       "      <td>0.198447</td>\n",
       "      <td>0.028946</td>\n",
       "      <td>0.022455</td>\n",
       "      <td>0.609375</td>\n",
       "    </tr>\n",
       "    <tr>\n",
       "      <th>2</th>\n",
       "      <td>2 days 00:00:00</td>\n",
       "      <td>0.083575</td>\n",
       "      <td>0.289093</td>\n",
       "      <td>0.234182</td>\n",
       "      <td>0.033957</td>\n",
       "      <td>0.034854</td>\n",
       "      <td>0.483696</td>\n",
       "    </tr>\n",
       "    <tr>\n",
       "      <th>3</th>\n",
       "      <td>2 days 12:00:00</td>\n",
       "      <td>0.059378</td>\n",
       "      <td>0.243676</td>\n",
       "      <td>0.180051</td>\n",
       "      <td>0.026026</td>\n",
       "      <td>0.018797</td>\n",
       "      <td>0.720000</td>\n",
       "    </tr>\n",
       "    <tr>\n",
       "      <th>4</th>\n",
       "      <td>3 days 12:00:00</td>\n",
       "      <td>0.053277</td>\n",
       "      <td>0.230818</td>\n",
       "      <td>0.185698</td>\n",
       "      <td>0.027001</td>\n",
       "      <td>0.024332</td>\n",
       "      <td>0.640000</td>\n",
       "    </tr>\n",
       "    <tr>\n",
       "      <th>5</th>\n",
       "      <td>4 days 12:00:00</td>\n",
       "      <td>0.077778</td>\n",
       "      <td>0.278887</td>\n",
       "      <td>0.225152</td>\n",
       "      <td>0.032715</td>\n",
       "      <td>0.027796</td>\n",
       "      <td>0.583333</td>\n",
       "    </tr>\n",
       "    <tr>\n",
       "      <th>6</th>\n",
       "      <td>5 days 00:00:00</td>\n",
       "      <td>0.086568</td>\n",
       "      <td>0.294225</td>\n",
       "      <td>0.229526</td>\n",
       "      <td>0.033036</td>\n",
       "      <td>0.026833</td>\n",
       "      <td>0.607639</td>\n",
       "    </tr>\n",
       "    <tr>\n",
       "      <th>7</th>\n",
       "      <td>5 days 12:00:00</td>\n",
       "      <td>0.100804</td>\n",
       "      <td>0.317496</td>\n",
       "      <td>0.257112</td>\n",
       "      <td>0.037308</td>\n",
       "      <td>0.036535</td>\n",
       "      <td>0.483696</td>\n",
       "    </tr>\n",
       "    <tr>\n",
       "      <th>8</th>\n",
       "      <td>6 days 00:00:00</td>\n",
       "      <td>0.077016</td>\n",
       "      <td>0.277518</td>\n",
       "      <td>0.209196</td>\n",
       "      <td>0.030107</td>\n",
       "      <td>0.023650</td>\n",
       "      <td>0.640000</td>\n",
       "    </tr>\n",
       "    <tr>\n",
       "      <th>9</th>\n",
       "      <td>7 days 00:00:00</td>\n",
       "      <td>0.070612</td>\n",
       "      <td>0.265729</td>\n",
       "      <td>0.215752</td>\n",
       "      <td>0.031163</td>\n",
       "      <td>0.027964</td>\n",
       "      <td>0.600000</td>\n",
       "    </tr>\n",
       "  </tbody>\n",
       "</table>\n",
       "</div>"
      ],
      "text/plain": [
       "          horizon       mse      rmse       mae      mape     mdape  coverage\n",
       "0 1 days 00:00:00  0.061154  0.247293  0.202087  0.029285  0.030000  0.625000\n",
       "1 1 days 12:00:00  0.065897  0.256705  0.198447  0.028946  0.022455  0.609375\n",
       "2 2 days 00:00:00  0.083575  0.289093  0.234182  0.033957  0.034854  0.483696\n",
       "3 2 days 12:00:00  0.059378  0.243676  0.180051  0.026026  0.018797  0.720000\n",
       "4 3 days 12:00:00  0.053277  0.230818  0.185698  0.027001  0.024332  0.640000\n",
       "5 4 days 12:00:00  0.077778  0.278887  0.225152  0.032715  0.027796  0.583333\n",
       "6 5 days 00:00:00  0.086568  0.294225  0.229526  0.033036  0.026833  0.607639\n",
       "7 5 days 12:00:00  0.100804  0.317496  0.257112  0.037308  0.036535  0.483696\n",
       "8 6 days 00:00:00  0.077016  0.277518  0.209196  0.030107  0.023650  0.640000\n",
       "9 7 days 00:00:00  0.070612  0.265729  0.215752  0.031163  0.027964  0.600000"
      ]
     },
     "execution_count": 43,
     "metadata": {},
     "output_type": "execute_result"
    },
    {
     "data": {
      "image/png": "[encoded data removed]",
      "text/plain": [
       "<Figure size 432x288 with 1 Axes>"
      ]
     },
     "metadata": {
      "needs_background": "light"
     },
     "output_type": "display_data"
    }
   ],
   "source": [
    "oo.show_performance_prophet()"
   ]
  },
  {
   "cell_type": "code",
   "execution_count": 44,
   "metadata": {},
   "outputs": [
    {
     "data": {
      "text/html": [
       "<div>\n",
       "<style scoped>\n",
       "    .dataframe tbody tr th:only-of-type {\n",
       "        vertical-align: middle;\n",
       "    }\n",
       "\n",
       "    .dataframe tbody tr th {\n",
       "        vertical-align: top;\n",
       "    }\n",
       "\n",
       "    .dataframe thead th {\n",
       "        text-align: right;\n",
       "    }\n",
       "</style>\n",
       "<table border=\"1\" class=\"dataframe\">\n",
       "  <thead>\n",
       "    <tr style=\"text-align: right;\">\n",
       "      <th></th>\n",
       "      <th>Prophet</th>\n",
       "    </tr>\n",
       "  </thead>\n",
       "  <tbody>\n",
       "    <tr>\n",
       "      <th>0</th>\n",
       "      <td>7.309689</td>\n",
       "    </tr>\n",
       "    <tr>\n",
       "      <th>1</th>\n",
       "      <td>7.288514</td>\n",
       "    </tr>\n",
       "    <tr>\n",
       "      <th>2</th>\n",
       "      <td>7.412138</td>\n",
       "    </tr>\n",
       "    <tr>\n",
       "      <th>3</th>\n",
       "      <td>7.413944</td>\n",
       "    </tr>\n",
       "    <tr>\n",
       "      <th>4</th>\n",
       "      <td>7.306175</td>\n",
       "    </tr>\n",
       "    <tr>\n",
       "      <th>5</th>\n",
       "      <td>7.295620</td>\n",
       "    </tr>\n",
       "    <tr>\n",
       "      <th>6</th>\n",
       "      <td>7.317085</td>\n",
       "    </tr>\n",
       "  </tbody>\n",
       "</table>\n",
       "</div>"
      ],
      "text/plain": [
       "    Prophet\n",
       "0  7.309689\n",
       "1  7.288514\n",
       "2  7.412138\n",
       "3  7.413944\n",
       "4  7.306175\n",
       "5  7.295620\n",
       "6  7.317085"
      ]
     },
     "execution_count": 44,
     "metadata": {},
     "output_type": "execute_result"
    }
   ],
   "source": [
    "oo.predict_prophet()"
   ]
  },
  {
   "cell_type": "code",
   "execution_count": 32,
   "metadata": {},
   "outputs": [],
   "source": [
    "%run ../tools/predictorsIII.py"
   ]
  },
  {
   "cell_type": "code",
   "execution_count": 46,
   "metadata": {},
   "outputs": [
    {
     "data": {
      "text/plain": [
       "279"
      ]
     },
     "execution_count": 46,
     "metadata": {},
     "output_type": "execute_result"
    }
   ],
   "source": [
    "len(prices)"
   ]
  },
  {
   "cell_type": "code",
   "execution_count": 47,
   "metadata": {},
   "outputs": [],
   "source": [
    "op4 = HybridUnivariatePredictor(prices,2, 24, 7)"
   ]
  },
  {
   "cell_type": "code",
   "execution_count": 48,
   "metadata": {},
   "outputs": [],
   "source": [
    "op4.create_cnnlstm()"
   ]
  },
  {
   "cell_type": "code",
   "execution_count": 49,
   "metadata": {},
   "outputs": [
    {
     "name": "stdout",
     "output_type": "stream",
     "text": [
      "Model: \"sequential_4\"\n",
      "_________________________________________________________________\n",
      "Layer (type)                 Output Shape              Param #   \n",
      "=================================================================\n",
      "time_distributed (TimeDistri (None, None, 11, 64)      192       \n",
      "_________________________________________________________________\n",
      "time_distributed_1 (TimeDist (None, None, 10, 32)      4128      \n",
      "_________________________________________________________________\n",
      "time_distributed_2 (TimeDist (None, None, 5, 32)       0         \n",
      "_________________________________________________________________\n",
      "time_distributed_3 (TimeDist (None, None, 160)         0         \n",
      "_________________________________________________________________\n",
      "lstm_5 (LSTM)                (None, None, 50)          42200     \n",
      "_________________________________________________________________\n",
      "lstm_6 (LSTM)                (None, 25)                7600      \n",
      "_________________________________________________________________\n",
      "dense_8 (Dense)              (None, 7)                 182       \n",
      "=================================================================\n",
      "Total params: 54,302\n",
      "Trainable params: 54,302\n",
      "Non-trainable params: 0\n",
      "_________________________________________________________________\n"
     ]
    }
   ],
   "source": [
    "op4.model_blueprint()"
   ]
  },
  {
   "cell_type": "code",
   "execution_count": 50,
   "metadata": {},
   "outputs": [
    {
     "name": "stdout",
     "output_type": "stream",
     "text": [
      "Epoch 1/10\n",
      "20/20 [==============================] - 0s 22ms/step - loss: 24.8605 - mean_squared_error: 24.8605 - val_loss: 24.5609 - val_mean_squared_error: 24.5609\n",
      "Epoch 2/10\n",
      "20/20 [==============================] - 0s 6ms/step - loss: 7.1074 - mean_squared_error: 7.1074 - val_loss: 3.6779 - val_mean_squared_error: 3.6779\n",
      "Epoch 3/10\n",
      "20/20 [==============================] - 0s 6ms/step - loss: 0.7514 - mean_squared_error: 0.7514 - val_loss: 0.8648 - val_mean_squared_error: 0.8648\n",
      "Epoch 4/10\n",
      "20/20 [==============================] - 0s 5ms/step - loss: 0.1449 - mean_squared_error: 0.1449 - val_loss: 0.6196 - val_mean_squared_error: 0.6196\n",
      "Epoch 5/10\n",
      "20/20 [==============================] - 0s 6ms/step - loss: 0.1031 - mean_squared_error: 0.1031 - val_loss: 0.4893 - val_mean_squared_error: 0.4893\n",
      "Epoch 6/10\n",
      "20/20 [==============================] - 0s 5ms/step - loss: 0.0849 - mean_squared_error: 0.0849 - val_loss: 0.3605 - val_mean_squared_error: 0.3605\n",
      "Epoch 7/10\n",
      "20/20 [==============================] - 0s 5ms/step - loss: 0.0804 - mean_squared_error: 0.0804 - val_loss: 0.2694 - val_mean_squared_error: 0.2694\n",
      "Epoch 8/10\n",
      "20/20 [==============================] - 0s 5ms/step - loss: 0.0791 - mean_squared_error: 0.0791 - val_loss: 0.3018 - val_mean_squared_error: 0.3018\n",
      "Epoch 9/10\n",
      "20/20 [==============================] - 0s 5ms/step - loss: 0.0787 - mean_squared_error: 0.0787 - val_loss: 0.2691 - val_mean_squared_error: 0.2691\n",
      "Epoch 10/10\n",
      "20/20 [==============================] - 0s 5ms/step - loss: 0.0747 - mean_squared_error: 0.0747 - val_loss: 0.2195 - val_mean_squared_error: 0.2195\n"
     ]
    },
    {
     "data": {
      "text/plain": [
       "<tensorflow.python.keras.callbacks.History at 0x1951a2ad1c0>"
      ]
     },
     "execution_count": 50,
     "metadata": {},
     "output_type": "execute_result"
    }
   ],
   "source": [
    "op4.fit_model(10)"
   ]
  },
  {
   "cell_type": "code",
   "execution_count": 51,
   "metadata": {},
   "outputs": [
    {
     "data": {
      "image/png": "[encoded data removed]",
      "text/plain": [
       "<Figure size 432x288 with 2 Axes>"
      ]
     },
     "metadata": {
      "needs_background": "light"
     },
     "output_type": "display_data"
    }
   ],
   "source": [
    "op4.show_performance()"
   ]
  },
  {
   "cell_type": "code",
   "execution_count": 52,
   "metadata": {},
   "outputs": [],
   "source": [
    "oyea = prices[-25:-1]\n",
    "#oyea = X[-1]\n",
    "#oyea"
   ]
  },
  {
   "cell_type": "code",
   "execution_count": 53,
   "metadata": {},
   "outputs": [
    {
     "name": "stdout",
     "output_type": "stream",
     "text": [
      "WARNING:tensorflow:5 out of the last 5 calls to <function Model.make_predict_function.<locals>.predict_function at 0x000001952A786940> triggered tf.function retracing. Tracing is expensive and the excessive number of tracings could be due to (1) creating @tf.function repeatedly in a loop, (2) passing tensors with different shapes, (3) passing Python objects instead of tensors. For (1), please define your @tf.function outside of the loop. For (2), @tf.function has experimental_relax_shapes=True option that relaxes argument shapes that can avoid unnecessary retracing. For (3), please refer to https://www.tensorflow.org/tutorials/customization/performance#python_or_tensor_args and https://www.tensorflow.org/api_docs/python/tf/function for  more details.\n"
     ]
    },
    {
     "name": "stderr",
     "output_type": "stream",
     "text": [
      "WARNING:tensorflow:5 out of the last 5 calls to <function Model.make_predict_function.<locals>.predict_function at 0x000001952A786940> triggered tf.function retracing. Tracing is expensive and the excessive number of tracings could be due to (1) creating @tf.function repeatedly in a loop, (2) passing tensors with different shapes, (3) passing Python objects instead of tensors. For (1), please define your @tf.function outside of the loop. For (2), @tf.function has experimental_relax_shapes=True option that relaxes argument shapes that can avoid unnecessary retracing. For (3), please refer to https://www.tensorflow.org/tutorials/customization/performance#python_or_tensor_args and https://www.tensorflow.org/api_docs/python/tf/function for  more details.\n"
     ]
    },
    {
     "data": {
      "text/html": [
       "<div>\n",
       "<style scoped>\n",
       "    .dataframe tbody tr th:only-of-type {\n",
       "        vertical-align: middle;\n",
       "    }\n",
       "\n",
       "    .dataframe tbody tr th {\n",
       "        vertical-align: top;\n",
       "    }\n",
       "\n",
       "    .dataframe thead th {\n",
       "        text-align: right;\n",
       "    }\n",
       "</style>\n",
       "<table border=\"1\" class=\"dataframe\">\n",
       "  <thead>\n",
       "    <tr style=\"text-align: right;\">\n",
       "      <th></th>\n",
       "      <th>CNN-LSTM</th>\n",
       "    </tr>\n",
       "  </thead>\n",
       "  <tbody>\n",
       "    <tr>\n",
       "      <th>0</th>\n",
       "      <td>7.565029</td>\n",
       "    </tr>\n",
       "    <tr>\n",
       "      <th>1</th>\n",
       "      <td>7.406779</td>\n",
       "    </tr>\n",
       "    <tr>\n",
       "      <th>2</th>\n",
       "      <td>7.919835</td>\n",
       "    </tr>\n",
       "    <tr>\n",
       "      <th>3</th>\n",
       "      <td>7.721859</td>\n",
       "    </tr>\n",
       "    <tr>\n",
       "      <th>4</th>\n",
       "      <td>7.745745</td>\n",
       "    </tr>\n",
       "    <tr>\n",
       "      <th>5</th>\n",
       "      <td>7.796144</td>\n",
       "    </tr>\n",
       "    <tr>\n",
       "      <th>6</th>\n",
       "      <td>7.584039</td>\n",
       "    </tr>\n",
       "  </tbody>\n",
       "</table>\n",
       "</div>"
      ],
      "text/plain": [
       "   CNN-LSTM\n",
       "0  7.565029\n",
       "1  7.406779\n",
       "2  7.919835\n",
       "3  7.721859\n",
       "4  7.745745\n",
       "5  7.796144\n",
       "6  7.584039"
      ]
     },
     "execution_count": 53,
     "metadata": {},
     "output_type": "execute_result"
    }
   ],
   "source": [
    "nice = op4.predict(oyea)\n",
    "nice\n",
    "#noice = pd.DataFrame(nice, columns=['yea'])\n",
    "#noice = nice.reshape(20, 1)\n",
    "#noice = pd.DataFrame(noice, columns=['yea'])"
   ]
  },
  {
   "cell_type": "code",
   "execution_count": 54,
   "metadata": {},
   "outputs": [
    {
     "data": {
      "text/plain": [
       "<AxesSubplot:>"
      ]
     },
     "execution_count": 54,
     "metadata": {},
     "output_type": "execute_result"
    },
    {
     "data": {
      "image/png": "[encoded data removed]",
      "text/plain": [
       "<Figure size 432x288 with 1 Axes>"
      ]
     },
     "metadata": {
      "needs_background": "light"
     },
     "output_type": "display_data"
    }
   ],
   "source": [
    "nice.plot()"
   ]
  },
  {
   "cell_type": "markdown",
   "metadata": {},
   "source": [
    "## First whole system test - I am alive"
   ]
  },
  {
   "cell_type": "code",
   "execution_count": 9,
   "metadata": {},
   "outputs": [],
   "source": [
    "training = DataLoader('aapl', '2010-01-01', '2010-05-01')"
   ]
  },
  {
   "cell_type": "code",
   "execution_count": 10,
   "metadata": {},
   "outputs": [],
   "source": [
    "training = training.get_close()"
   ]
  },
  {
   "cell_type": "code",
   "execution_count": 11,
   "metadata": {},
   "outputs": [],
   "source": [
    "predict = DataLoader('aapl', '2010-06-01', '2010-08-01')"
   ]
  },
  {
   "cell_type": "code",
   "execution_count": 12,
   "metadata": {},
   "outputs": [],
   "source": [
    "predict = predict.get_close()"
   ]
  },
  {
   "cell_type": "code",
   "execution_count": 23,
   "metadata": {},
   "outputs": [],
   "source": [
    "def data_prep(df, input_batch_size, future_horizon):\n",
    "    input_b = df[0:input_batch_size]\n",
    "    real_value = df[input_batch_size:input_batch_size + future_horizon]\n",
    "    \n",
    "    return input_b, real_value"
   ]
  },
  {
   "cell_type": "code",
   "execution_count": 24,
   "metadata": {},
   "outputs": [],
   "source": [
    "# future_horizon = length -> days into the future predicted\n",
    "def individual_predictors(training_df, input_batch, future_horizon):\n",
    "    one = HybridUnivariatePredictor(training_df,2, len(input_batch), future_horizon)\n",
    "    one.create_cnnlstm()\n",
    "    one.fit_model(10)\n",
    "    one.show_performance()\n",
    "    \n",
    "    two = BasicUnivariatePredictor(training_df, len(input_batch), future_horizon)\n",
    "    two.create_bilstm()\n",
    "    two.fit_model(10)\n",
    "    two.show_performance()\n",
    "    \n",
    "    \n",
    "    three = BasicUnivariatePredictor(training_df, len(input_batch), future_horizon)\n",
    "    three.create_cnn()\n",
    "    three.fit_model(10)\n",
    "    three.show_performance()\n",
    "    \n",
    "    prediction_one = one.predict(input_batch)\n",
    "    prediction_two = two.predict(input_batch)\n",
    "    prediction_three = three.predict(input_batch)\n",
    "    \n",
    "    return prediction_one, prediction_two, prediction_three"
   ]
  },
  {
   "cell_type": "code",
   "execution_count": 33,
   "metadata": {},
   "outputs": [],
   "source": [
    "predict_req, real = data_prep(predict, 24, 7)"
   ]
  },
  {
   "cell_type": "code",
   "execution_count": 35,
   "metadata": {
    "scrolled": true
   },
   "outputs": [
    {
     "name": "stdout",
     "output_type": "stream",
     "text": [
      "Epoch 1/10\n",
      "5/5 [==============================] - 0s 67ms/step - loss: 62.0348 - mean_squared_error: 62.0348 - val_loss: 81.7056 - val_mean_squared_error: 81.7056\n",
      "Epoch 2/10\n",
      "5/5 [==============================] - 0s 7ms/step - loss: 60.6898 - mean_squared_error: 60.6898 - val_loss: 77.3141 - val_mean_squared_error: 77.3141\n",
      "Epoch 3/10\n",
      "5/5 [==============================] - 0s 7ms/step - loss: 55.2182 - mean_squared_error: 55.2182 - val_loss: 59.1281 - val_mean_squared_error: 59.1281\n",
      "Epoch 4/10\n",
      "5/5 [==============================] - 0s 8ms/step - loss: 38.2460 - mean_squared_error: 38.2460 - val_loss: 37.2775 - val_mean_squared_error: 37.2775\n",
      "Epoch 5/10\n",
      "5/5 [==============================] - 0s 7ms/step - loss: 27.3883 - mean_squared_error: 27.3883 - val_loss: 29.9422 - val_mean_squared_error: 29.9422\n",
      "Epoch 6/10\n",
      "5/5 [==============================] - 0s 7ms/step - loss: 18.5881 - mean_squared_error: 18.5881 - val_loss: 16.1442 - val_mean_squared_error: 16.1442\n",
      "Epoch 7/10\n",
      "5/5 [==============================] - 0s 7ms/step - loss: 10.2191 - mean_squared_error: 10.2191 - val_loss: 7.3271 - val_mean_squared_error: 7.3271\n",
      "Epoch 8/10\n",
      "5/5 [==============================] - 0s 8ms/step - loss: 4.0431 - mean_squared_error: 4.0431 - val_loss: 3.6042 - val_mean_squared_error: 3.6042\n",
      "Epoch 9/10\n",
      "5/5 [==============================] - 0s 7ms/step - loss: 2.2868 - mean_squared_error: 2.2868 - val_loss: 1.1111 - val_mean_squared_error: 1.1111\n",
      "Epoch 10/10\n",
      "5/5 [==============================] - 0s 7ms/step - loss: 1.1341 - mean_squared_error: 1.1341 - val_loss: 1.0782 - val_mean_squared_error: 1.0782\n"
     ]
    },
    {
     "data": {
      "image/png": "[encoded data removed]",
      "text/plain": [
       "<Figure size 432x288 with 2 Axes>"
      ]
     },
     "metadata": {
      "needs_background": "light"
     },
     "output_type": "display_data"
    },
    {
     "name": "stdout",
     "output_type": "stream",
     "text": [
      "Epoch 1/10\n",
      "5/5 [==============================] - 0s 96ms/step - loss: 57.4150 - mean_squared_error: 57.4150 - val_loss: 66.1862 - val_mean_squared_error: 66.1862\n",
      "Epoch 2/10\n",
      "5/5 [==============================] - 0s 19ms/step - loss: 37.2527 - mean_squared_error: 37.2527 - val_loss: 27.2962 - val_mean_squared_error: 27.2962\n",
      "Epoch 3/10\n",
      "5/5 [==============================] - 0s 18ms/step - loss: 16.0277 - mean_squared_error: 16.0277 - val_loss: 13.5445 - val_mean_squared_error: 13.5445\n",
      "Epoch 4/10\n",
      "5/5 [==============================] - 0s 16ms/step - loss: 9.9741 - mean_squared_error: 9.9741 - val_loss: 6.5690 - val_mean_squared_error: 6.5690\n",
      "Epoch 5/10\n",
      "5/5 [==============================] - 0s 16ms/step - loss: 3.2468 - mean_squared_error: 3.2468 - val_loss: 3.3385 - val_mean_squared_error: 3.3385\n",
      "Epoch 6/10\n",
      "5/5 [==============================] - 0s 16ms/step - loss: 1.4301 - mean_squared_error: 1.4301 - val_loss: 1.8089 - val_mean_squared_error: 1.8089\n",
      "Epoch 7/10\n",
      "5/5 [==============================] - 0s 17ms/step - loss: 0.6945 - mean_squared_error: 0.6945 - val_loss: 1.1455 - val_mean_squared_error: 1.1455\n",
      "Epoch 8/10\n",
      "5/5 [==============================] - 0s 16ms/step - loss: 0.4606 - mean_squared_error: 0.4606 - val_loss: 0.3949 - val_mean_squared_error: 0.3949\n",
      "Epoch 9/10\n",
      "5/5 [==============================] - 0s 16ms/step - loss: 0.4552 - mean_squared_error: 0.4552 - val_loss: 0.9585 - val_mean_squared_error: 0.9585\n",
      "Epoch 10/10\n",
      "5/5 [==============================] - 0s 16ms/step - loss: 0.3138 - mean_squared_error: 0.3138 - val_loss: 0.5772 - val_mean_squared_error: 0.5772\n"
     ]
    },
    {
     "data": {
      "image/png": "[encoded data removed]",
      "text/plain": [
       "<Figure size 432x288 with 2 Axes>"
      ]
     },
     "metadata": {
      "needs_background": "light"
     },
     "output_type": "display_data"
    },
    {
     "name": "stdout",
     "output_type": "stream",
     "text": [
      "Epoch 1/10\n",
      "5/5 [==============================] - 0s 25ms/step - loss: 64.8114 - mean_squared_error: 64.8114 - val_loss: 72.9889 - val_mean_squared_error: 72.9889\n",
      "Epoch 2/10\n",
      "5/5 [==============================] - 0s 5ms/step - loss: 50.7448 - mean_squared_error: 50.7448 - val_loss: 56.7836 - val_mean_squared_error: 56.7836\n",
      "Epoch 3/10\n",
      "5/5 [==============================] - 0s 5ms/step - loss: 38.1010 - mean_squared_error: 38.1010 - val_loss: 40.5092 - val_mean_squared_error: 40.5092\n",
      "Epoch 4/10\n",
      "5/5 [==============================] - 0s 5ms/step - loss: 26.1537 - mean_squared_error: 26.1537 - val_loss: 26.4946 - val_mean_squared_error: 26.4946\n",
      "Epoch 5/10\n",
      "5/5 [==============================] - 0s 5ms/step - loss: 17.4896 - mean_squared_error: 17.4896 - val_loss: 18.1520 - val_mean_squared_error: 18.1520\n",
      "Epoch 6/10\n",
      "5/5 [==============================] - 0s 5ms/step - loss: 12.0773 - mean_squared_error: 12.0773 - val_loss: 10.6206 - val_mean_squared_error: 10.6206\n",
      "Epoch 7/10\n",
      "5/5 [==============================] - 0s 5ms/step - loss: 6.5278 - mean_squared_error: 6.5278 - val_loss: 5.0699 - val_mean_squared_error: 5.0699\n",
      "Epoch 8/10\n",
      "5/5 [==============================] - 0s 5ms/step - loss: 2.8315 - mean_squared_error: 2.8315 - val_loss: 2.0918 - val_mean_squared_error: 2.0918\n",
      "Epoch 9/10\n",
      "5/5 [==============================] - 0s 6ms/step - loss: 0.9193 - mean_squared_error: 0.9193 - val_loss: 0.6522 - val_mean_squared_error: 0.6522\n",
      "Epoch 10/10\n",
      "5/5 [==============================] - 0s 6ms/step - loss: 0.3707 - mean_squared_error: 0.3707 - val_loss: 0.2821 - val_mean_squared_error: 0.2821\n"
     ]
    },
    {
     "data": {
      "image/png": "[encoded data removed]",
      "text/plain": [
       "<Figure size 432x288 with 2 Axes>"
      ]
     },
     "metadata": {
      "needs_background": "light"
     },
     "output_type": "display_data"
    },
    {
     "name": "stdout",
     "output_type": "stream",
     "text": [
      "WARNING:tensorflow:5 out of the last 5 calls to <function Model.make_predict_function.<locals>.predict_function at 0x000001A14CDDFEE0> triggered tf.function retracing. Tracing is expensive and the excessive number of tracings could be due to (1) creating @tf.function repeatedly in a loop, (2) passing tensors with different shapes, (3) passing Python objects instead of tensors. For (1), please define your @tf.function outside of the loop. For (2), @tf.function has experimental_relax_shapes=True option that relaxes argument shapes that can avoid unnecessary retracing. For (3), please refer to https://www.tensorflow.org/tutorials/customization/performance#python_or_tensor_args and https://www.tensorflow.org/api_docs/python/tf/function for  more details.\n",
      "WARNING:tensorflow:6 out of the last 6 calls to <function Model.make_predict_function.<locals>.predict_function at 0x000001A14F9EC5E0> triggered tf.function retracing. Tracing is expensive and the excessive number of tracings could be due to (1) creating @tf.function repeatedly in a loop, (2) passing tensors with different shapes, (3) passing Python objects instead of tensors. For (1), please define your @tf.function outside of the loop. For (2), @tf.function has experimental_relax_shapes=True option that relaxes argument shapes that can avoid unnecessary retracing. For (3), please refer to https://www.tensorflow.org/tutorials/customization/performance#python_or_tensor_args and https://www.tensorflow.org/api_docs/python/tf/function for  more details.\n"
     ]
    }
   ],
   "source": [
    "A, B, C = individual_predictors(training, predict_req, 7)"
   ]
  },
  {
   "cell_type": "code",
   "execution_count": 147,
   "metadata": {},
   "outputs": [
    {
     "data": {
      "text/html": [
       "<div>\n",
       "<style scoped>\n",
       "    .dataframe tbody tr th:only-of-type {\n",
       "        vertical-align: middle;\n",
       "    }\n",
       "\n",
       "    .dataframe tbody tr th {\n",
       "        vertical-align: top;\n",
       "    }\n",
       "\n",
       "    .dataframe thead th {\n",
       "        text-align: right;\n",
       "    }\n",
       "</style>\n",
       "<table border=\"1\" class=\"dataframe\">\n",
       "  <thead>\n",
       "    <tr style=\"text-align: right;\">\n",
       "      <th></th>\n",
       "      <th>Close</th>\n",
       "    </tr>\n",
       "    <tr>\n",
       "      <th>Date</th>\n",
       "      <th></th>\n",
       "    </tr>\n",
       "  </thead>\n",
       "  <tbody>\n",
       "    <tr>\n",
       "      <th>2010-07-06</th>\n",
       "      <td>8.879643</td>\n",
       "    </tr>\n",
       "    <tr>\n",
       "      <th>2010-07-07</th>\n",
       "      <td>9.238214</td>\n",
       "    </tr>\n",
       "    <tr>\n",
       "      <th>2010-07-08</th>\n",
       "      <td>9.217500</td>\n",
       "    </tr>\n",
       "    <tr>\n",
       "      <th>2010-07-09</th>\n",
       "      <td>9.272143</td>\n",
       "    </tr>\n",
       "    <tr>\n",
       "      <th>2010-07-12</th>\n",
       "      <td>9.188929</td>\n",
       "    </tr>\n",
       "    <tr>\n",
       "      <th>2010-07-13</th>\n",
       "      <td>8.992857</td>\n",
       "    </tr>\n",
       "    <tr>\n",
       "      <th>2010-07-14</th>\n",
       "      <td>9.026071</td>\n",
       "    </tr>\n",
       "    <tr>\n",
       "      <th>2010-07-15</th>\n",
       "      <td>8.980357</td>\n",
       "    </tr>\n",
       "    <tr>\n",
       "      <th>2010-07-16</th>\n",
       "      <td>8.925000</td>\n",
       "    </tr>\n",
       "    <tr>\n",
       "      <th>2010-07-19</th>\n",
       "      <td>8.770714</td>\n",
       "    </tr>\n",
       "  </tbody>\n",
       "</table>\n",
       "</div>"
      ],
      "text/plain": [
       "               Close\n",
       "Date                \n",
       "2010-07-06  8.879643\n",
       "2010-07-07  9.238214\n",
       "2010-07-08  9.217500\n",
       "2010-07-09  9.272143\n",
       "2010-07-12  9.188929\n",
       "2010-07-13  8.992857\n",
       "2010-07-14  9.026071\n",
       "2010-07-15  8.980357\n",
       "2010-07-16  8.925000\n",
       "2010-07-19  8.770714"
      ]
     },
     "execution_count": 147,
     "metadata": {},
     "output_type": "execute_result"
    }
   ],
   "source": [
    "real"
   ]
  },
  {
   "cell_type": "code",
   "execution_count": 39,
   "metadata": {},
   "outputs": [],
   "source": [
    "final_df = pd.concat([A, B, C], axis=1)\n"
   ]
  },
  {
   "cell_type": "code",
   "execution_count": 40,
   "metadata": {},
   "outputs": [
    {
     "data": {
      "text/html": [
       "<div>\n",
       "<style scoped>\n",
       "    .dataframe tbody tr th:only-of-type {\n",
       "        vertical-align: middle;\n",
       "    }\n",
       "\n",
       "    .dataframe tbody tr th {\n",
       "        vertical-align: top;\n",
       "    }\n",
       "\n",
       "    .dataframe thead th {\n",
       "        text-align: right;\n",
       "    }\n",
       "</style>\n",
       "<table border=\"1\" class=\"dataframe\">\n",
       "  <thead>\n",
       "    <tr style=\"text-align: right;\">\n",
       "      <th></th>\n",
       "      <th>CNN-LSTM</th>\n",
       "      <th>Bidirectional LSTM</th>\n",
       "      <th>CNN</th>\n",
       "    </tr>\n",
       "  </thead>\n",
       "  <tbody>\n",
       "    <tr>\n",
       "      <th>0</th>\n",
       "      <td>8.443698</td>\n",
       "      <td>12.107282</td>\n",
       "      <td>9.944627</td>\n",
       "    </tr>\n",
       "    <tr>\n",
       "      <th>1</th>\n",
       "      <td>7.990599</td>\n",
       "      <td>9.891368</td>\n",
       "      <td>10.804046</td>\n",
       "    </tr>\n",
       "    <tr>\n",
       "      <th>2</th>\n",
       "      <td>10.267937</td>\n",
       "      <td>9.427826</td>\n",
       "      <td>10.464663</td>\n",
       "    </tr>\n",
       "    <tr>\n",
       "      <th>3</th>\n",
       "      <td>11.297328</td>\n",
       "      <td>11.494532</td>\n",
       "      <td>10.700540</td>\n",
       "    </tr>\n",
       "    <tr>\n",
       "      <th>4</th>\n",
       "      <td>9.929247</td>\n",
       "      <td>11.516143</td>\n",
       "      <td>10.505944</td>\n",
       "    </tr>\n",
       "    <tr>\n",
       "      <th>5</th>\n",
       "      <td>10.857774</td>\n",
       "      <td>12.038119</td>\n",
       "      <td>9.346064</td>\n",
       "    </tr>\n",
       "    <tr>\n",
       "      <th>6</th>\n",
       "      <td>10.417279</td>\n",
       "      <td>9.530997</td>\n",
       "      <td>10.576313</td>\n",
       "    </tr>\n",
       "  </tbody>\n",
       "</table>\n",
       "</div>"
      ],
      "text/plain": [
       "    CNN-LSTM  Bidirectional LSTM        CNN\n",
       "0   8.443698           12.107282   9.944627\n",
       "1   7.990599            9.891368  10.804046\n",
       "2  10.267937            9.427826  10.464663\n",
       "3  11.297328           11.494532  10.700540\n",
       "4   9.929247           11.516143  10.505944\n",
       "5  10.857774           12.038119   9.346064\n",
       "6  10.417279            9.530997  10.576313"
      ]
     },
     "execution_count": 40,
     "metadata": {},
     "output_type": "execute_result"
    }
   ],
   "source": [
    "final_df"
   ]
  },
  {
   "cell_type": "markdown",
   "metadata": {},
   "source": [
    "### System Disagreement"
   ]
  },
  {
   "cell_type": "code",
   "execution_count": 68,
   "metadata": {},
   "outputs": [],
   "source": [
    "def system_disagreement(df):\n",
    "    disagreement(df).plot()\n",
    "    predictor_score(df).plot()"
   ]
  },
  {
   "cell_type": "code",
   "execution_count": 69,
   "metadata": {},
   "outputs": [
    {
     "data": {
      "image/png": "[encoded data removed]",
      "text/plain": [
       "<Figure size 432x288 with 1 Axes>"
      ]
     },
     "metadata": {
      "needs_background": "light"
     },
     "output_type": "display_data"
    },
    {
     "data": {
      "image/png": "[encoded data removed]",
      "text/plain": [
       "<Figure size 432x288 with 1 Axes>"
      ]
     },
     "metadata": {
      "needs_background": "light"
     },
     "output_type": "display_data"
    }
   ],
   "source": [
    "system_disagreement(final_df)"
   ]
  },
  {
   "cell_type": "code",
   "execution_count": 65,
   "metadata": {},
   "outputs": [
    {
     "data": {
      "text/html": [
       "<div>\n",
       "<style scoped>\n",
       "    .dataframe tbody tr th:only-of-type {\n",
       "        vertical-align: middle;\n",
       "    }\n",
       "\n",
       "    .dataframe tbody tr th {\n",
       "        vertical-align: top;\n",
       "    }\n",
       "\n",
       "    .dataframe thead th {\n",
       "        text-align: right;\n",
       "    }\n",
       "</style>\n",
       "<table border=\"1\" class=\"dataframe\">\n",
       "  <thead>\n",
       "    <tr style=\"text-align: right;\">\n",
       "      <th></th>\n",
       "      <th>System Disagreement</th>\n",
       "    </tr>\n",
       "  </thead>\n",
       "  <tbody>\n",
       "    <tr>\n",
       "      <th>0</th>\n",
       "      <td>1.628259</td>\n",
       "    </tr>\n",
       "    <tr>\n",
       "      <th>1</th>\n",
       "      <td>1.250421</td>\n",
       "    </tr>\n",
       "    <tr>\n",
       "      <th>2</th>\n",
       "      <td>0.460816</td>\n",
       "    </tr>\n",
       "    <tr>\n",
       "      <th>3</th>\n",
       "      <td>0.352885</td>\n",
       "    </tr>\n",
       "    <tr>\n",
       "      <th>4</th>\n",
       "      <td>0.705287</td>\n",
       "    </tr>\n",
       "    <tr>\n",
       "      <th>5</th>\n",
       "      <td>1.196469</td>\n",
       "    </tr>\n",
       "    <tr>\n",
       "      <th>6</th>\n",
       "      <td>0.464585</td>\n",
       "    </tr>\n",
       "  </tbody>\n",
       "</table>\n",
       "</div>"
      ],
      "text/plain": [
       "   System Disagreement\n",
       "0             1.628259\n",
       "1             1.250421\n",
       "2             0.460816\n",
       "3             0.352885\n",
       "4             0.705287\n",
       "5             1.196469\n",
       "6             0.464585"
      ]
     },
     "execution_count": 65,
     "metadata": {},
     "output_type": "execute_result"
    }
   ],
   "source": [
    "disagreement(final_df)"
   ]
  },
  {
   "cell_type": "code",
   "execution_count": 42,
   "metadata": {},
   "outputs": [
    {
     "data": {
      "text/html": [
       "<div>\n",
       "<style scoped>\n",
       "    .dataframe tbody tr th:only-of-type {\n",
       "        vertical-align: middle;\n",
       "    }\n",
       "\n",
       "    .dataframe tbody tr th {\n",
       "        vertical-align: top;\n",
       "    }\n",
       "\n",
       "    .dataframe thead th {\n",
       "        text-align: right;\n",
       "    }\n",
       "</style>\n",
       "<table border=\"1\" class=\"dataframe\">\n",
       "  <thead>\n",
       "    <tr style=\"text-align: right;\">\n",
       "      <th></th>\n",
       "      <th>0</th>\n",
       "      <th>1</th>\n",
       "      <th>2</th>\n",
       "    </tr>\n",
       "  </thead>\n",
       "  <tbody>\n",
       "    <tr>\n",
       "      <th>0</th>\n",
       "      <td>1.721504</td>\n",
       "      <td>1.942080</td>\n",
       "      <td>1.221195</td>\n",
       "    </tr>\n",
       "    <tr>\n",
       "      <th>1</th>\n",
       "      <td>1.571405</td>\n",
       "      <td>0.937816</td>\n",
       "      <td>1.242041</td>\n",
       "    </tr>\n",
       "    <tr>\n",
       "      <th>2</th>\n",
       "      <td>0.345612</td>\n",
       "      <td>0.625649</td>\n",
       "      <td>0.411187</td>\n",
       "    </tr>\n",
       "    <tr>\n",
       "      <th>3</th>\n",
       "      <td>0.264664</td>\n",
       "      <td>0.330399</td>\n",
       "      <td>0.463593</td>\n",
       "    </tr>\n",
       "    <tr>\n",
       "      <th>4</th>\n",
       "      <td>0.721198</td>\n",
       "      <td>0.865698</td>\n",
       "      <td>0.528965</td>\n",
       "    </tr>\n",
       "    <tr>\n",
       "      <th>5</th>\n",
       "      <td>0.897352</td>\n",
       "      <td>1.290800</td>\n",
       "      <td>1.401255</td>\n",
       "    </tr>\n",
       "    <tr>\n",
       "      <th>6</th>\n",
       "      <td>0.348439</td>\n",
       "      <td>0.643866</td>\n",
       "      <td>0.401450</td>\n",
       "    </tr>\n",
       "  </tbody>\n",
       "</table>\n",
       "</div>"
      ],
      "text/plain": [
       "          0         1         2\n",
       "0  1.721504  1.942080  1.221195\n",
       "1  1.571405  0.937816  1.242041\n",
       "2  0.345612  0.625649  0.411187\n",
       "3  0.264664  0.330399  0.463593\n",
       "4  0.721198  0.865698  0.528965\n",
       "5  0.897352  1.290800  1.401255\n",
       "6  0.348439  0.643866  0.401450"
      ]
     },
     "execution_count": 42,
     "metadata": {},
     "output_type": "execute_result"
    }
   ],
   "source": [
    "predictor_score(final_df)"
   ]
  },
  {
   "cell_type": "markdown",
   "metadata": {},
   "source": [
    "### System consensus"
   ]
  },
  {
   "cell_type": "code",
   "execution_count": 70,
   "metadata": {},
   "outputs": [],
   "source": [
    "def consensus(df, real):\n",
    "    consensus = pd.DataFrame()\n",
    "    \n",
    "    average = average_consolidation(final_df)\n",
    "    nomemory = consolidated_predictions(final_df,real)\n",
    "    memory = consolidated_predictions_memory(final_df,real)\n",
    "    anchor = consolidated_predictions_anchor(final_df,real,1.5)\n",
    "    \n",
    "    consensus['Average'] = average\n",
    "    consensus['NoMemory'] = nomemory\n",
    "    consensus['Memory'] = memory\n",
    "    consensus['Anchor'] = anchor\n",
    "    \n",
    "    return consensus"
   ]
  },
  {
   "cell_type": "code",
   "execution_count": 72,
   "metadata": {},
   "outputs": [
    {
     "data": {
      "text/html": [
       "<div>\n",
       "<style scoped>\n",
       "    .dataframe tbody tr th:only-of-type {\n",
       "        vertical-align: middle;\n",
       "    }\n",
       "\n",
       "    .dataframe tbody tr th {\n",
       "        vertical-align: top;\n",
       "    }\n",
       "\n",
       "    .dataframe thead th {\n",
       "        text-align: right;\n",
       "    }\n",
       "</style>\n",
       "<table border=\"1\" class=\"dataframe\">\n",
       "  <thead>\n",
       "    <tr style=\"text-align: right;\">\n",
       "      <th></th>\n",
       "      <th>Average</th>\n",
       "      <th>NoMemory</th>\n",
       "      <th>Memory</th>\n",
       "      <th>Anchor</th>\n",
       "    </tr>\n",
       "  </thead>\n",
       "  <tbody>\n",
       "    <tr>\n",
       "      <th>0</th>\n",
       "      <td>10.165202</td>\n",
       "      <td>10.165202</td>\n",
       "      <td>10.165202</td>\n",
       "      <td>10.575676</td>\n",
       "    </tr>\n",
       "    <tr>\n",
       "      <th>1</th>\n",
       "      <td>9.562004</td>\n",
       "      <td>9.382164</td>\n",
       "      <td>9.472084</td>\n",
       "      <td>9.329974</td>\n",
       "    </tr>\n",
       "    <tr>\n",
       "      <th>2</th>\n",
       "      <td>10.053475</td>\n",
       "      <td>9.980959</td>\n",
       "      <td>10.081749</td>\n",
       "      <td>9.940799</td>\n",
       "    </tr>\n",
       "    <tr>\n",
       "      <th>3</th>\n",
       "      <td>11.164133</td>\n",
       "      <td>11.237654</td>\n",
       "      <td>11.178241</td>\n",
       "      <td>10.992366</td>\n",
       "    </tr>\n",
       "    <tr>\n",
       "      <th>4</th>\n",
       "      <td>10.650445</td>\n",
       "      <td>10.627809</td>\n",
       "      <td>10.643034</td>\n",
       "      <td>10.447376</td>\n",
       "    </tr>\n",
       "    <tr>\n",
       "      <th>5</th>\n",
       "      <td>10.747319</td>\n",
       "      <td>10.605883</td>\n",
       "      <td>10.734117</td>\n",
       "      <td>10.536824</td>\n",
       "    </tr>\n",
       "    <tr>\n",
       "      <th>6</th>\n",
       "      <td>10.174863</td>\n",
       "      <td>10.304709</td>\n",
       "      <td>10.206063</td>\n",
       "      <td>9.885117</td>\n",
       "    </tr>\n",
       "  </tbody>\n",
       "</table>\n",
       "</div>"
      ],
      "text/plain": [
       "     Average   NoMemory     Memory     Anchor\n",
       "0  10.165202  10.165202  10.165202  10.575676\n",
       "1   9.562004   9.382164   9.472084   9.329974\n",
       "2  10.053475   9.980959  10.081749   9.940799\n",
       "3  11.164133  11.237654  11.178241  10.992366\n",
       "4  10.650445  10.627809  10.643034  10.447376\n",
       "5  10.747319  10.605883  10.734117  10.536824\n",
       "6  10.174863  10.304709  10.206063   9.885117"
      ]
     },
     "execution_count": 72,
     "metadata": {},
     "output_type": "execute_result"
    }
   ],
   "source": [
    "consensus(final_df, real)"
   ]
  },
  {
   "cell_type": "code",
   "execution_count": 53,
   "metadata": {},
   "outputs": [],
   "source": [
    "performance = real.copy()"
   ]
  },
  {
   "cell_type": "code",
   "execution_count": 54,
   "metadata": {},
   "outputs": [],
   "source": [
    "performance['Average'] = average"
   ]
  },
  {
   "cell_type": "code",
   "execution_count": 55,
   "metadata": {},
   "outputs": [
    {
     "data": {
      "text/plain": [
       "<AxesSubplot:xlabel='Date'>"
      ]
     },
     "execution_count": 55,
     "metadata": {},
     "output_type": "execute_result"
    },
    {
     "data": {
      "image/png": "[encoded data removed]",
      "text/plain": [
       "<Figure size 432x288 with 1 Axes>"
      ]
     },
     "metadata": {
      "needs_background": "light"
     },
     "output_type": "display_data"
    }
   ],
   "source": [
    "performance.plot()"
   ]
  },
  {
   "cell_type": "code",
   "execution_count": 56,
   "metadata": {},
   "outputs": [],
   "source": [
    "performance2 = real.copy()"
   ]
  },
  {
   "cell_type": "code",
   "execution_count": 57,
   "metadata": {},
   "outputs": [],
   "source": [
    "performance2['No Memory'] = nomemory"
   ]
  },
  {
   "cell_type": "code",
   "execution_count": 58,
   "metadata": {},
   "outputs": [
    {
     "data": {
      "text/plain": [
       "<AxesSubplot:xlabel='Date'>"
      ]
     },
     "execution_count": 58,
     "metadata": {},
     "output_type": "execute_result"
    },
    {
     "data": {
      "image/png": "[encoded data removed]",
      "text/plain": [
       "<Figure size 432x288 with 1 Axes>"
      ]
     },
     "metadata": {
      "needs_background": "light"
     },
     "output_type": "display_data"
    }
   ],
   "source": [
    "performance2.plot()"
   ]
  },
  {
   "cell_type": "code",
   "execution_count": 59,
   "metadata": {},
   "outputs": [],
   "source": [
    "performance3 = real.copy()"
   ]
  },
  {
   "cell_type": "code",
   "execution_count": 60,
   "metadata": {},
   "outputs": [],
   "source": [
    "performance3['Memory'] = memory"
   ]
  },
  {
   "cell_type": "code",
   "execution_count": 61,
   "metadata": {},
   "outputs": [
    {
     "data": {
      "text/plain": [
       "<AxesSubplot:xlabel='Date'>"
      ]
     },
     "execution_count": 61,
     "metadata": {},
     "output_type": "execute_result"
    },
    {
     "data": {
      "image/png": "[encoded data removed]",
      "text/plain": [
       "<Figure size 432x288 with 1 Axes>"
      ]
     },
     "metadata": {
      "needs_background": "light"
     },
     "output_type": "display_data"
    }
   ],
   "source": [
    "performance3.plot()"
   ]
  },
  {
   "cell_type": "code",
   "execution_count": 62,
   "metadata": {},
   "outputs": [],
   "source": [
    "performance4 = real.copy()"
   ]
  },
  {
   "cell_type": "code",
   "execution_count": 63,
   "metadata": {},
   "outputs": [],
   "source": [
    "performance4['Anchor'] = anchor"
   ]
  },
  {
   "cell_type": "code",
   "execution_count": 64,
   "metadata": {},
   "outputs": [
    {
     "data": {
      "text/plain": [
       "<AxesSubplot:xlabel='Date'>"
      ]
     },
     "execution_count": 64,
     "metadata": {},
     "output_type": "execute_result"
    },
    {
     "data": {
      "image/png": "[encoded data removed]",
      "text/plain": [
       "<Figure size 432x288 with 1 Axes>"
      ]
     },
     "metadata": {
      "needs_background": "light"
     },
     "output_type": "display_data"
    }
   ],
   "source": [
    "performance4.plot()"
   ]
  },
  {
   "cell_type": "code",
   "execution_count": null,
   "metadata": {},
   "outputs": [],
   "source": []
  }
 ],
 "metadata": {
  "kernelspec": {
   "display_name": "Python 3",
   "language": "python",
   "name": "python3"
  },
  "language_info": {
   "codemirror_mode": {
    "name": "ipython",
    "version": 3
   },
   "file_extension": ".py",
   "mimetype": "text/x-python",
   "name": "python",
   "nbconvert_exporter": "python",
   "pygments_lexer": "ipython3",
   "version": "3.8.1"
  }
 },
 "nbformat": 4,
 "nbformat_minor": 2
}
