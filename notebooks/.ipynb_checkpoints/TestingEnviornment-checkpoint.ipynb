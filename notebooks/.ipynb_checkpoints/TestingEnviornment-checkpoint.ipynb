{
 "cells": [
  {
   "cell_type": "markdown",
   "metadata": {},
   "source": [
    "# Testing Enviornment"
   ]
  },
  {
   "cell_type": "code",
   "execution_count": 1,
   "metadata": {},
   "outputs": [],
   "source": [
    "import pandas as pd\n",
    "import numpy as np"
   ]
  },
  {
   "cell_type": "markdown",
   "metadata": {},
   "source": [
    "## Running tests"
   ]
  },
  {
   "cell_type": "markdown",
   "metadata": {},
   "source": [
    "The following section unit-tests most of the code written for the proof of concept prototype."
   ]
  },
  {
   "cell_type": "code",
   "execution_count": 2,
   "metadata": {
    "scrolled": false
   },
   "outputs": [
    {
     "name": "stderr",
     "output_type": "stream",
     "text": [
      "C:\\Users\\Max\\Documents\\GitHubPrivate\\arguing-predictors\\tests\\test_algorithms.py:5: FutureWarning: pandas.util.testing is deprecated. Use the functions in the public API at pandas.testing instead.\n",
      "  from pandas.util.testing import assert_frame_equal\n",
      "........\n",
      "----------------------------------------------------------------------\n",
      "Ran 8 tests in 0.094s\n",
      "\n",
      "OK\n"
     ]
    }
   ],
   "source": [
    "%run ../tests/test_algorithms.py"
   ]
  },
  {
   "cell_type": "code",
   "execution_count": 53,
   "metadata": {},
   "outputs": [
    {
     "name": "stderr",
     "output_type": "stream",
     "text": [
      "...............\n",
      "----------------------------------------------------------------------\n",
      "Ran 15 tests in 0.049s\n",
      "\n",
      "OK\n"
     ]
    }
   ],
   "source": [
    "%run ../tests/test_dataloader.py"
   ]
  },
  {
   "cell_type": "code",
   "execution_count": 4,
   "metadata": {},
   "outputs": [
    {
     "name": "stderr",
     "output_type": "stream",
     "text": [
      ".\n",
      "----------------------------------------------------------------------\n",
      "Ran 1 test in 0.010s\n",
      "\n",
      "OK\n"
     ]
    }
   ],
   "source": [
    "%run ../tests/test_predictors.py"
   ]
  },
  {
   "cell_type": "markdown",
   "metadata": {},
   "source": [
    "## Running example of the system"
   ]
  },
  {
   "cell_type": "code",
   "execution_count": 5,
   "metadata": {},
   "outputs": [],
   "source": [
    "%run ../tools/algorithms.py"
   ]
  },
  {
   "cell_type": "code",
   "execution_count": 6,
   "metadata": {},
   "outputs": [],
   "source": [
    "%run ../tools/dataloader.py"
   ]
  },
  {
   "cell_type": "code",
   "execution_count": 7,
   "metadata": {},
   "outputs": [],
   "source": [
    "test = DataLoader('aapl', '2010-02-01', '2015-02-10')"
   ]
  },
  {
   "cell_type": "code",
   "execution_count": 8,
   "metadata": {},
   "outputs": [],
   "source": [
    "prices = test.get_close()"
   ]
  },
  {
   "cell_type": "code",
   "execution_count": 9,
   "metadata": {},
   "outputs": [
    {
     "data": {
      "text/plain": [
       "1266"
      ]
     },
     "execution_count": 9,
     "metadata": {},
     "output_type": "execute_result"
    }
   ],
   "source": [
    "prices = np.array(prices)\n",
    "len(prices)"
   ]
  },
  {
   "cell_type": "code",
   "execution_count": 10,
   "metadata": {},
   "outputs": [
    {
     "data": {
      "text/plain": [
       "array([[ 6.95464277],\n",
       "       [ 6.99499989],\n",
       "       [ 7.11535692],\n",
       "       ...,\n",
       "       [29.73250008],\n",
       "       [29.93000031],\n",
       "       [30.50499916]])"
      ]
     },
     "execution_count": 10,
     "metadata": {},
     "output_type": "execute_result"
    }
   ],
   "source": [
    "prices"
   ]
  },
  {
   "cell_type": "code",
   "execution_count": 127,
   "metadata": {},
   "outputs": [],
   "source": [
    "%run ../tools/predictors.py"
   ]
  },
  {
   "cell_type": "code",
   "execution_count": 128,
   "metadata": {},
   "outputs": [],
   "source": [
    "op0 = BasicUnivariatePredictor(prices, 25, 7)\n",
    "op1 = BasicUnivariatePredictor(prices, 25, 7)\n",
    "op2 = BasicUnivariatePredictor(prices, 25, 7)\n",
    "op3 = BasicUnivariatePredictor(prices, 25, 7)"
   ]
  },
  {
   "cell_type": "code",
   "execution_count": 135,
   "metadata": {},
   "outputs": [],
   "source": [
    "op0.create_bilstm()"
   ]
  },
  {
   "cell_type": "code",
   "execution_count": 136,
   "metadata": {},
   "outputs": [
    {
     "name": "stdout",
     "output_type": "stream",
     "text": [
      "Model: \"sequential_18\"\n",
      "_________________________________________________________________\n",
      "Layer (type)                 Output Shape              Param #   \n",
      "=================================================================\n",
      "bidirectional_1 (Bidirection (None, 25, 100)           20800     \n",
      "_________________________________________________________________\n",
      "lstm_9 (LSTM)                (None, 50)                30200     \n",
      "_________________________________________________________________\n",
      "dense_25 (Dense)             (None, 7)                 357       \n",
      "=================================================================\n",
      "Total params: 51,357\n",
      "Trainable params: 51,357\n",
      "Non-trainable params: 0\n",
      "_________________________________________________________________\n"
     ]
    }
   ],
   "source": [
    "op0.model_blueprint()"
   ]
  },
  {
   "cell_type": "code",
   "execution_count": 137,
   "metadata": {},
   "outputs": [
    {
     "name": "stdout",
     "output_type": "stream",
     "text": [
      "Epoch 1/10\n",
      "99/99 [==============================] - 3s 28ms/step - loss: 47.0533 - mean_squared_error: 47.0533 - val_loss: 8.1876 - val_mean_squared_error: 8.1876\n",
      "Epoch 2/10\n",
      "99/99 [==============================] - 2s 16ms/step - loss: 0.9683 - mean_squared_error: 0.9683 - val_loss: 3.4229 - val_mean_squared_error: 3.4229\n",
      "Epoch 3/10\n",
      "99/99 [==============================] - 2s 15ms/step - loss: 0.7514 - mean_squared_error: 0.7514 - val_loss: 3.2872 - val_mean_squared_error: 3.2872\n",
      "Epoch 4/10\n",
      "99/99 [==============================] - 2s 15ms/step - loss: 0.6267 - mean_squared_error: 0.6267 - val_loss: 2.0441 - val_mean_squared_error: 2.0441\n",
      "Epoch 5/10\n",
      "99/99 [==============================] - 2s 16ms/step - loss: 0.5347 - mean_squared_error: 0.5347 - val_loss: 4.2381 - val_mean_squared_error: 4.2381\n",
      "Epoch 6/10\n",
      "99/99 [==============================] - 2s 16ms/step - loss: 0.5698 - mean_squared_error: 0.5698 - val_loss: 2.4758 - val_mean_squared_error: 2.4758\n",
      "Epoch 7/10\n",
      "99/99 [==============================] - 1s 15ms/step - loss: 0.5151 - mean_squared_error: 0.5151 - val_loss: 1.1607 - val_mean_squared_error: 1.1607\n",
      "Epoch 8/10\n",
      "99/99 [==============================] - 1s 14ms/step - loss: 0.5176 - mean_squared_error: 0.5176 - val_loss: 1.5574 - val_mean_squared_error: 1.5574\n",
      "Epoch 9/10\n",
      "99/99 [==============================] - 1s 14ms/step - loss: 0.4522 - mean_squared_error: 0.4522 - val_loss: 1.9293 - val_mean_squared_error: 1.9293\n",
      "Epoch 10/10\n",
      "99/99 [==============================] - 1s 15ms/step - loss: 0.4441 - mean_squared_error: 0.4441 - val_loss: 1.7312 - val_mean_squared_error: 1.7312\n"
     ]
    },
    {
     "data": {
      "text/plain": [
       "<tensorflow.python.keras.callbacks.History at 0x2285c92da90>"
      ]
     },
     "execution_count": 137,
     "metadata": {},
     "output_type": "execute_result"
    }
   ],
   "source": [
    "op0.fit_model(10)"
   ]
  },
  {
   "cell_type": "code",
   "execution_count": 138,
   "metadata": {},
   "outputs": [
    {
     "data": {
      "image/png": "[encoded data removed]",
      "text/plain": [
       "<Figure size 432x288 with 2 Axes>"
      ]
     },
     "metadata": {
      "needs_background": "light"
     },
     "output_type": "display_data"
    }
   ],
   "source": [
    "op0.show_performance()"
   ]
  },
  {
   "cell_type": "code",
   "execution_count": 139,
   "metadata": {},
   "outputs": [],
   "source": [
    "oyea = prices[-26:-1]\n",
    "#oyea = X[-1]\n",
    "#oyea"
   ]
  },
  {
   "cell_type": "code",
   "execution_count": 140,
   "metadata": {},
   "outputs": [
    {
     "name": "stdout",
     "output_type": "stream",
     "text": [
      "WARNING:tensorflow:5 out of the last 6 calls to <function Model.make_predict_function.<locals>.predict_function at 0x000002285B60CCA0> triggered tf.function retracing. Tracing is expensive and the excessive number of tracings could be due to (1) creating @tf.function repeatedly in a loop, (2) passing tensors with different shapes, (3) passing Python objects instead of tensors. For (1), please define your @tf.function outside of the loop. For (2), @tf.function has experimental_relax_shapes=True option that relaxes argument shapes that can avoid unnecessary retracing. For (3), please refer to https://www.tensorflow.org/tutorials/customization/performance#python_or_tensor_args and https://www.tensorflow.org/api_docs/python/tf/function for  more details.\n"
     ]
    },
    {
     "data": {
      "text/plain": [
       "array([[30.410456, 28.5475  , 26.736507, 28.334608, 27.5754  , 28.413015,\n",
       "        27.865576]], dtype=float32)"
      ]
     },
     "execution_count": 140,
     "metadata": {},
     "output_type": "execute_result"
    }
   ],
   "source": [
    "nice = op0.predict(oyea)\n",
    "nice"
   ]
  },
  {
   "cell_type": "code",
   "execution_count": 141,
   "metadata": {},
   "outputs": [],
   "source": [
    "op1.create_lstm()"
   ]
  },
  {
   "cell_type": "code",
   "execution_count": 142,
   "metadata": {},
   "outputs": [
    {
     "name": "stdout",
     "output_type": "stream",
     "text": [
      "Model: \"sequential_19\"\n",
      "_________________________________________________________________\n",
      "Layer (type)                 Output Shape              Param #   \n",
      "=================================================================\n",
      "lstm_10 (LSTM)               (None, 25, 40)            6720      \n",
      "_________________________________________________________________\n",
      "lstm_11 (LSTM)               (None, 25, 50)            18200     \n",
      "_________________________________________________________________\n",
      "lstm_12 (LSTM)               (None, 50)                20200     \n",
      "_________________________________________________________________\n",
      "dense_26 (Dense)             (None, 7)                 357       \n",
      "=================================================================\n",
      "Total params: 45,477\n",
      "Trainable params: 45,477\n",
      "Non-trainable params: 0\n",
      "_________________________________________________________________\n"
     ]
    }
   ],
   "source": [
    "op1.model_blueprint()"
   ]
  },
  {
   "cell_type": "code",
   "execution_count": 143,
   "metadata": {},
   "outputs": [
    {
     "name": "stdout",
     "output_type": "stream",
     "text": [
      "Epoch 1/10\n",
      "99/99 [==============================] - 3s 25ms/step - loss: 50.1523 - mean_squared_error: 50.1523 - val_loss: 5.3805 - val_mean_squared_error: 5.3805\n",
      "Epoch 2/10\n",
      "99/99 [==============================] - 2s 21ms/step - loss: 1.3098 - mean_squared_error: 1.3098 - val_loss: 3.2716 - val_mean_squared_error: 3.2716\n",
      "Epoch 3/10\n",
      "99/99 [==============================] - 2s 19ms/step - loss: 1.0774 - mean_squared_error: 1.0774 - val_loss: 2.9070 - val_mean_squared_error: 2.9070\n",
      "Epoch 4/10\n",
      "99/99 [==============================] - 2s 20ms/step - loss: 0.9158 - mean_squared_error: 0.9158 - val_loss: 2.0000 - val_mean_squared_error: 2.0000\n",
      "Epoch 5/10\n",
      "99/99 [==============================] - 2s 22ms/step - loss: 0.7869 - mean_squared_error: 0.7869 - val_loss: 1.5304 - val_mean_squared_error: 1.5304\n",
      "Epoch 6/10\n",
      "99/99 [==============================] - 2s 20ms/step - loss: 0.6875 - mean_squared_error: 0.6875 - val_loss: 1.2683 - val_mean_squared_error: 1.2683\n",
      "Epoch 7/10\n",
      "99/99 [==============================] - 2s 21ms/step - loss: 0.6460 - mean_squared_error: 0.6460 - val_loss: 3.2566 - val_mean_squared_error: 3.2566\n",
      "Epoch 8/10\n",
      "99/99 [==============================] - 2s 20ms/step - loss: 0.6118 - mean_squared_error: 0.6118 - val_loss: 1.4195 - val_mean_squared_error: 1.4195\n",
      "Epoch 9/10\n",
      "99/99 [==============================] - 2s 24ms/step - loss: 0.7530 - mean_squared_error: 0.7530 - val_loss: 2.0180 - val_mean_squared_error: 2.0180\n",
      "Epoch 10/10\n",
      "99/99 [==============================] - 2s 22ms/step - loss: 0.5536 - mean_squared_error: 0.5536 - val_loss: 1.1508 - val_mean_squared_error: 1.1508\n"
     ]
    },
    {
     "data": {
      "text/plain": [
       "<tensorflow.python.keras.callbacks.History at 0x22864590af0>"
      ]
     },
     "execution_count": 143,
     "metadata": {},
     "output_type": "execute_result"
    }
   ],
   "source": [
    "op1.fit_model(10)"
   ]
  },
  {
   "cell_type": "code",
   "execution_count": 144,
   "metadata": {},
   "outputs": [
    {
     "data": {
      "image/png": "[encoded data removed]",
      "text/plain": [
       "<Figure size 432x288 with 2 Axes>"
      ]
     },
     "metadata": {
      "needs_background": "light"
     },
     "output_type": "display_data"
    }
   ],
   "source": [
    "op1.show_performance()"
   ]
  },
  {
   "cell_type": "code",
   "execution_count": 145,
   "metadata": {},
   "outputs": [
    {
     "name": "stdout",
     "output_type": "stream",
     "text": [
      "WARNING:tensorflow:6 out of the last 7 calls to <function Model.make_predict_function.<locals>.predict_function at 0x000002286A025D30> triggered tf.function retracing. Tracing is expensive and the excessive number of tracings could be due to (1) creating @tf.function repeatedly in a loop, (2) passing tensors with different shapes, (3) passing Python objects instead of tensors. For (1), please define your @tf.function outside of the loop. For (2), @tf.function has experimental_relax_shapes=True option that relaxes argument shapes that can avoid unnecessary retracing. For (3), please refer to https://www.tensorflow.org/tutorials/customization/performance#python_or_tensor_args and https://www.tensorflow.org/api_docs/python/tf/function for  more details.\n"
     ]
    },
    {
     "data": {
      "text/plain": [
       "array([[29.495508, 29.387024, 29.487368, 27.935352, 28.312473, 29.355288,\n",
       "        27.887619]], dtype=float32)"
      ]
     },
     "execution_count": 145,
     "metadata": {},
     "output_type": "execute_result"
    }
   ],
   "source": [
    "nice = op1.predict(oyea)\n",
    "nice"
   ]
  },
  {
   "cell_type": "code",
   "execution_count": 146,
   "metadata": {},
   "outputs": [],
   "source": [
    "op2.create_cnn()"
   ]
  },
  {
   "cell_type": "code",
   "execution_count": 147,
   "metadata": {},
   "outputs": [
    {
     "name": "stdout",
     "output_type": "stream",
     "text": [
      "Model: \"sequential_20\"\n",
      "_________________________________________________________________\n",
      "Layer (type)                 Output Shape              Param #   \n",
      "=================================================================\n",
      "conv1d_2 (Conv1D)            (None, 24, 64)            192       \n",
      "_________________________________________________________________\n",
      "conv1d_3 (Conv1D)            (None, 23, 32)            4128      \n",
      "_________________________________________________________________\n",
      "max_pooling1d_1 (MaxPooling1 (None, 11, 32)            0         \n",
      "_________________________________________________________________\n",
      "flatten_1 (Flatten)          (None, 352)               0         \n",
      "_________________________________________________________________\n",
      "dense_27 (Dense)             (None, 50)                17650     \n",
      "_________________________________________________________________\n",
      "dense_28 (Dense)             (None, 7)                 357       \n",
      "=================================================================\n",
      "Total params: 22,327\n",
      "Trainable params: 22,327\n",
      "Non-trainable params: 0\n",
      "_________________________________________________________________\n"
     ]
    }
   ],
   "source": [
    "op2.model_blueprint()"
   ]
  },
  {
   "cell_type": "code",
   "execution_count": 148,
   "metadata": {},
   "outputs": [
    {
     "name": "stdout",
     "output_type": "stream",
     "text": [
      "Epoch 1/10\n",
      "99/99 [==============================] - 0s 3ms/step - loss: 21.0730 - mean_squared_error: 21.0730 - val_loss: 1.3621 - val_mean_squared_error: 1.3621\n",
      "Epoch 2/10\n",
      "99/99 [==============================] - 0s 3ms/step - loss: 1.0655 - mean_squared_error: 1.0655 - val_loss: 1.3030 - val_mean_squared_error: 1.3030\n",
      "Epoch 3/10\n",
      "99/99 [==============================] - 0s 2ms/step - loss: 1.0234 - mean_squared_error: 1.0234 - val_loss: 1.7578 - val_mean_squared_error: 1.7578\n",
      "Epoch 4/10\n",
      "99/99 [==============================] - 0s 2ms/step - loss: 1.0421 - mean_squared_error: 1.0421 - val_loss: 0.9713 - val_mean_squared_error: 0.9713\n",
      "Epoch 5/10\n",
      "99/99 [==============================] - 0s 2ms/step - loss: 1.0386 - mean_squared_error: 1.0386 - val_loss: 2.1336 - val_mean_squared_error: 2.1336\n",
      "Epoch 6/10\n",
      "99/99 [==============================] - 0s 2ms/step - loss: 1.1731 - mean_squared_error: 1.1731 - val_loss: 1.0186 - val_mean_squared_error: 1.0186\n",
      "Epoch 7/10\n",
      "99/99 [==============================] - 0s 2ms/step - loss: 0.9331 - mean_squared_error: 0.9331 - val_loss: 1.1889 - val_mean_squared_error: 1.1889\n",
      "Epoch 8/10\n",
      "99/99 [==============================] - 0s 3ms/step - loss: 0.9032 - mean_squared_error: 0.9032 - val_loss: 3.4321 - val_mean_squared_error: 3.4321\n",
      "Epoch 9/10\n",
      "99/99 [==============================] - 0s 3ms/step - loss: 0.8609 - mean_squared_error: 0.8609 - val_loss: 1.0050 - val_mean_squared_error: 1.0050\n",
      "Epoch 10/10\n",
      "99/99 [==============================] - 0s 3ms/step - loss: 0.8581 - mean_squared_error: 0.8581 - val_loss: 0.9529 - val_mean_squared_error: 0.9529\n"
     ]
    },
    {
     "data": {
      "text/plain": [
       "<tensorflow.python.keras.callbacks.History at 0x2286a37c130>"
      ]
     },
     "execution_count": 148,
     "metadata": {},
     "output_type": "execute_result"
    }
   ],
   "source": [
    "op2.fit_model(10)"
   ]
  },
  {
   "cell_type": "code",
   "execution_count": 149,
   "metadata": {},
   "outputs": [
    {
     "data": {
      "image/png": "[encoded data removed]",
      "text/plain": [
       "<Figure size 432x288 with 2 Axes>"
      ]
     },
     "metadata": {
      "needs_background": "light"
     },
     "output_type": "display_data"
    }
   ],
   "source": [
    "op2.show_performance()"
   ]
  },
  {
   "cell_type": "code",
   "execution_count": 150,
   "metadata": {},
   "outputs": [
    {
     "name": "stdout",
     "output_type": "stream",
     "text": [
      "WARNING:tensorflow:7 out of the last 8 calls to <function Model.make_predict_function.<locals>.predict_function at 0x000002286A88CCA0> triggered tf.function retracing. Tracing is expensive and the excessive number of tracings could be due to (1) creating @tf.function repeatedly in a loop, (2) passing tensors with different shapes, (3) passing Python objects instead of tensors. For (1), please define your @tf.function outside of the loop. For (2), @tf.function has experimental_relax_shapes=True option that relaxes argument shapes that can avoid unnecessary retracing. For (3), please refer to https://www.tensorflow.org/tutorials/customization/performance#python_or_tensor_args and https://www.tensorflow.org/api_docs/python/tf/function for  more details.\n"
     ]
    },
    {
     "data": {
      "text/plain": [
       "array([[28.83222 , 28.63804 , 29.008558, 28.78458 , 29.076351, 29.170979,\n",
       "        28.8429  ]], dtype=float32)"
      ]
     },
     "execution_count": 150,
     "metadata": {},
     "output_type": "execute_result"
    }
   ],
   "source": [
    "nice = op2.predict(oyea)\n",
    "nice"
   ]
  },
  {
   "cell_type": "code",
   "execution_count": 151,
   "metadata": {},
   "outputs": [],
   "source": [
    "op3.create_mlp()"
   ]
  },
  {
   "cell_type": "code",
   "execution_count": 152,
   "metadata": {},
   "outputs": [
    {
     "name": "stdout",
     "output_type": "stream",
     "text": [
      "Model: \"sequential_21\"\n",
      "_________________________________________________________________\n",
      "Layer (type)                 Output Shape              Param #   \n",
      "=================================================================\n",
      "dense_29 (Dense)             (None, 50)                1300      \n",
      "_________________________________________________________________\n",
      "dense_30 (Dense)             (None, 7)                 357       \n",
      "=================================================================\n",
      "Total params: 1,657\n",
      "Trainable params: 1,657\n",
      "Non-trainable params: 0\n",
      "_________________________________________________________________\n"
     ]
    }
   ],
   "source": [
    "op3.model_blueprint()"
   ]
  },
  {
   "cell_type": "code",
   "execution_count": 153,
   "metadata": {},
   "outputs": [
    {
     "name": "stdout",
     "output_type": "stream",
     "text": [
      "Epoch 1/10\n",
      "99/99 [==============================] - 0s 2ms/step - loss: 23.9168 - mean_squared_error: 23.9168 - val_loss: 1.2628 - val_mean_squared_error: 1.2628\n",
      "Epoch 2/10\n",
      "99/99 [==============================] - 0s 1ms/step - loss: 0.9650 - mean_squared_error: 0.9650 - val_loss: 1.1037 - val_mean_squared_error: 1.1037\n",
      "Epoch 3/10\n",
      "99/99 [==============================] - 0s 1ms/step - loss: 0.9438 - mean_squared_error: 0.9438 - val_loss: 1.2453 - val_mean_squared_error: 1.2453\n",
      "Epoch 4/10\n",
      "99/99 [==============================] - 0s 1ms/step - loss: 0.9011 - mean_squared_error: 0.9011 - val_loss: 1.0205 - val_mean_squared_error: 1.0205\n",
      "Epoch 5/10\n",
      "99/99 [==============================] - 0s 2ms/step - loss: 0.8582 - mean_squared_error: 0.8582 - val_loss: 0.9744 - val_mean_squared_error: 0.9744\n",
      "Epoch 6/10\n",
      "99/99 [==============================] - 0s 1ms/step - loss: 0.8377 - mean_squared_error: 0.8377 - val_loss: 1.0274 - val_mean_squared_error: 1.0274\n",
      "Epoch 7/10\n",
      "99/99 [==============================] - 0s 1ms/step - loss: 0.7818 - mean_squared_error: 0.7818 - val_loss: 0.9306 - val_mean_squared_error: 0.9306\n",
      "Epoch 8/10\n",
      "99/99 [==============================] - 0s 1ms/step - loss: 0.7358 - mean_squared_error: 0.7358 - val_loss: 1.1196 - val_mean_squared_error: 1.1196\n",
      "Epoch 9/10\n",
      "99/99 [==============================] - 0s 1ms/step - loss: 0.7160 - mean_squared_error: 0.7160 - val_loss: 0.8254 - val_mean_squared_error: 0.8254\n",
      "Epoch 10/10\n",
      "99/99 [==============================] - 0s 1ms/step - loss: 0.6644 - mean_squared_error: 0.6644 - val_loss: 1.0365 - val_mean_squared_error: 1.0365\n"
     ]
    },
    {
     "data": {
      "text/plain": [
       "<tensorflow.python.keras.callbacks.History at 0x2286a97beb0>"
      ]
     },
     "execution_count": 153,
     "metadata": {},
     "output_type": "execute_result"
    }
   ],
   "source": [
    "op3.fit_model(10)"
   ]
  },
  {
   "cell_type": "code",
   "execution_count": 154,
   "metadata": {},
   "outputs": [
    {
     "data": {
      "image/png": "[encoded data removed]",
      "text/plain": [
       "<Figure size 432x288 with 2 Axes>"
      ]
     },
     "metadata": {
      "needs_background": "light"
     },
     "output_type": "display_data"
    }
   ],
   "source": [
    "op3.show_performance()"
   ]
  },
  {
   "cell_type": "code",
   "execution_count": 155,
   "metadata": {},
   "outputs": [],
   "source": [
    "oyea = prices[-26:-1]\n",
    "#oyea = X[-1]\n",
    "#oyea"
   ]
  },
  {
   "cell_type": "code",
   "execution_count": 156,
   "metadata": {},
   "outputs": [
    {
     "name": "stdout",
     "output_type": "stream",
     "text": [
      "WARNING:tensorflow:8 out of the last 9 calls to <function Model.make_predict_function.<locals>.predict_function at 0x000002285B60C8B0> triggered tf.function retracing. Tracing is expensive and the excessive number of tracings could be due to (1) creating @tf.function repeatedly in a loop, (2) passing tensors with different shapes, (3) passing Python objects instead of tensors. For (1), please define your @tf.function outside of the loop. For (2), @tf.function has experimental_relax_shapes=True option that relaxes argument shapes that can avoid unnecessary retracing. For (3), please refer to https://www.tensorflow.org/tutorials/customization/performance#python_or_tensor_args and https://www.tensorflow.org/api_docs/python/tf/function for  more details.\n"
     ]
    },
    {
     "data": {
      "text/plain": [
       "array([[28.760782, 27.416668, 28.915306, 28.620428, 29.630894, 29.496845,\n",
       "        29.40211 ]], dtype=float32)"
      ]
     },
     "execution_count": 156,
     "metadata": {},
     "output_type": "execute_result"
    }
   ],
   "source": [
    "nice = op3.predict(oyea)\n",
    "nice"
   ]
  }
 ],
 "metadata": {
  "kernelspec": {
   "display_name": "Python 3",
   "language": "python",
   "name": "python3"
  },
  "language_info": {
   "codemirror_mode": {
    "name": "ipython",
    "version": 3
   },
   "file_extension": ".py",
   "mimetype": "text/x-python",
   "name": "python",
   "nbconvert_exporter": "python",
   "pygments_lexer": "ipython3",
   "version": "3.8.1"
  }
 },
 "nbformat": 4,
 "nbformat_minor": 2
}
