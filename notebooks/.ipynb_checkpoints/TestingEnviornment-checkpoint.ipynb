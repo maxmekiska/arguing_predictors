{
 "cells": [
  {
   "cell_type": "markdown",
   "metadata": {},
   "source": [
    "# Testing Enviornment"
   ]
  },
  {
   "cell_type": "code",
   "execution_count": 1,
   "metadata": {},
   "outputs": [],
   "source": [
    "import pandas as pd\n",
    "import numpy as np"
   ]
  },
  {
   "cell_type": "markdown",
   "metadata": {},
   "source": [
    "## Running tests"
   ]
  },
  {
   "cell_type": "markdown",
   "metadata": {},
   "source": [
    "The following section unit-tests most of the code written for the proof of concept prototype."
   ]
  },
  {
   "cell_type": "code",
   "execution_count": 2,
   "metadata": {
    "scrolled": false
   },
   "outputs": [
    {
     "name": "stderr",
     "output_type": "stream",
     "text": [
      "C:\\Users\\Max\\Documents\\GitHubPrivate\\arguing-predictors\\tests\\test_algorithms.py:5: FutureWarning: pandas.util.testing is deprecated. Use the functions in the public API at pandas.testing instead.\n",
      "  from pandas.util.testing import assert_frame_equal\n",
      "........\n",
      "----------------------------------------------------------------------\n",
      "Ran 8 tests in 0.111s\n",
      "\n",
      "OK\n"
     ]
    }
   ],
   "source": [
    "%run ../tests/test_algorithms.py"
   ]
  },
  {
   "cell_type": "code",
   "execution_count": 3,
   "metadata": {},
   "outputs": [
    {
     "name": "stderr",
     "output_type": "stream",
     "text": [
      "...............\n",
      "----------------------------------------------------------------------\n",
      "Ran 15 tests in 0.041s\n",
      "\n",
      "OK\n"
     ]
    }
   ],
   "source": [
    "%run ../tests/test_dataloader.py"
   ]
  },
  {
   "cell_type": "code",
   "execution_count": 4,
   "metadata": {},
   "outputs": [
    {
     "name": "stderr",
     "output_type": "stream",
     "text": [
      ".\n",
      "----------------------------------------------------------------------\n",
      "Ran 1 test in 0.005s\n",
      "\n",
      "OK\n"
     ]
    }
   ],
   "source": [
    "%run ../tests/test_predictors.py"
   ]
  },
  {
   "cell_type": "markdown",
   "metadata": {},
   "source": [
    "## Running example of the system"
   ]
  },
  {
   "cell_type": "code",
   "execution_count": 5,
   "metadata": {},
   "outputs": [],
   "source": [
    "%run ../tools/algorithms.py"
   ]
  },
  {
   "cell_type": "code",
   "execution_count": 6,
   "metadata": {},
   "outputs": [],
   "source": [
    "%run ../tools/dataloader.py"
   ]
  },
  {
   "cell_type": "code",
   "execution_count": 41,
   "metadata": {},
   "outputs": [],
   "source": [
    "test = DataLoader('aapl', '2005-02-01', '2010-02-10')"
   ]
  },
  {
   "cell_type": "code",
   "execution_count": 42,
   "metadata": {},
   "outputs": [],
   "source": [
    "prices = test.get_close()"
   ]
  },
  {
   "cell_type": "code",
   "execution_count": 43,
   "metadata": {},
   "outputs": [
    {
     "data": {
      "text/html": [
       "<div>\n",
       "<style scoped>\n",
       "    .dataframe tbody tr th:only-of-type {\n",
       "        vertical-align: middle;\n",
       "    }\n",
       "\n",
       "    .dataframe tbody tr th {\n",
       "        vertical-align: top;\n",
       "    }\n",
       "\n",
       "    .dataframe thead th {\n",
       "        text-align: right;\n",
       "    }\n",
       "</style>\n",
       "<table border=\"1\" class=\"dataframe\">\n",
       "  <thead>\n",
       "    <tr style=\"text-align: right;\">\n",
       "      <th></th>\n",
       "      <th>Close</th>\n",
       "    </tr>\n",
       "    <tr>\n",
       "      <th>Date</th>\n",
       "      <th></th>\n",
       "    </tr>\n",
       "  </thead>\n",
       "  <tbody>\n",
       "    <tr>\n",
       "      <th>2005-02-01</th>\n",
       "      <td>1.384464</td>\n",
       "    </tr>\n",
       "    <tr>\n",
       "      <th>2005-02-02</th>\n",
       "      <td>1.421964</td>\n",
       "    </tr>\n",
       "    <tr>\n",
       "      <th>2005-02-03</th>\n",
       "      <td>1.389464</td>\n",
       "    </tr>\n",
       "    <tr>\n",
       "      <th>2005-02-04</th>\n",
       "      <td>1.407857</td>\n",
       "    </tr>\n",
       "    <tr>\n",
       "      <th>2005-02-07</th>\n",
       "      <td>1.409643</td>\n",
       "    </tr>\n",
       "    <tr>\n",
       "      <th>...</th>\n",
       "      <td>...</td>\n",
       "    </tr>\n",
       "    <tr>\n",
       "      <th>2018-02-05</th>\n",
       "      <td>39.122501</td>\n",
       "    </tr>\n",
       "    <tr>\n",
       "      <th>2018-02-06</th>\n",
       "      <td>40.757500</td>\n",
       "    </tr>\n",
       "    <tr>\n",
       "      <th>2018-02-07</th>\n",
       "      <td>39.884998</td>\n",
       "    </tr>\n",
       "    <tr>\n",
       "      <th>2018-02-08</th>\n",
       "      <td>38.787498</td>\n",
       "    </tr>\n",
       "    <tr>\n",
       "      <th>2018-02-09</th>\n",
       "      <td>39.102501</td>\n",
       "    </tr>\n",
       "  </tbody>\n",
       "</table>\n",
       "<p>3280 rows × 1 columns</p>\n",
       "</div>"
      ],
      "text/plain": [
       "                Close\n",
       "Date                 \n",
       "2005-02-01   1.384464\n",
       "2005-02-02   1.421964\n",
       "2005-02-03   1.389464\n",
       "2005-02-04   1.407857\n",
       "2005-02-07   1.409643\n",
       "...               ...\n",
       "2018-02-05  39.122501\n",
       "2018-02-06  40.757500\n",
       "2018-02-07  39.884998\n",
       "2018-02-08  38.787498\n",
       "2018-02-09  39.102501\n",
       "\n",
       "[3280 rows x 1 columns]"
      ]
     },
     "execution_count": 43,
     "metadata": {},
     "output_type": "execute_result"
    }
   ],
   "source": [
    "prices"
   ]
  },
  {
   "cell_type": "code",
   "execution_count": 10,
   "metadata": {},
   "outputs": [],
   "source": [
    "#prices = np.array(prices)\n",
    "#len(prices)"
   ]
  },
  {
   "cell_type": "code",
   "execution_count": 11,
   "metadata": {},
   "outputs": [
    {
     "data": {
      "text/html": [
       "<div>\n",
       "<style scoped>\n",
       "    .dataframe tbody tr th:only-of-type {\n",
       "        vertical-align: middle;\n",
       "    }\n",
       "\n",
       "    .dataframe tbody tr th {\n",
       "        vertical-align: top;\n",
       "    }\n",
       "\n",
       "    .dataframe thead th {\n",
       "        text-align: right;\n",
       "    }\n",
       "</style>\n",
       "<table border=\"1\" class=\"dataframe\">\n",
       "  <thead>\n",
       "    <tr style=\"text-align: right;\">\n",
       "      <th></th>\n",
       "      <th>Close</th>\n",
       "    </tr>\n",
       "    <tr>\n",
       "      <th>Date</th>\n",
       "      <th></th>\n",
       "    </tr>\n",
       "  </thead>\n",
       "  <tbody>\n",
       "    <tr>\n",
       "      <th>2005-02-01</th>\n",
       "      <td>1.384464</td>\n",
       "    </tr>\n",
       "    <tr>\n",
       "      <th>2005-02-02</th>\n",
       "      <td>1.421964</td>\n",
       "    </tr>\n",
       "    <tr>\n",
       "      <th>2005-02-03</th>\n",
       "      <td>1.389464</td>\n",
       "    </tr>\n",
       "    <tr>\n",
       "      <th>2005-02-04</th>\n",
       "      <td>1.407857</td>\n",
       "    </tr>\n",
       "    <tr>\n",
       "      <th>2005-02-07</th>\n",
       "      <td>1.409643</td>\n",
       "    </tr>\n",
       "    <tr>\n",
       "      <th>...</th>\n",
       "      <td>...</td>\n",
       "    </tr>\n",
       "    <tr>\n",
       "      <th>2010-02-04</th>\n",
       "      <td>6.858929</td>\n",
       "    </tr>\n",
       "    <tr>\n",
       "      <th>2010-02-05</th>\n",
       "      <td>6.980714</td>\n",
       "    </tr>\n",
       "    <tr>\n",
       "      <th>2010-02-08</th>\n",
       "      <td>6.932857</td>\n",
       "    </tr>\n",
       "    <tr>\n",
       "      <th>2010-02-09</th>\n",
       "      <td>7.006786</td>\n",
       "    </tr>\n",
       "    <tr>\n",
       "      <th>2010-02-10</th>\n",
       "      <td>6.968571</td>\n",
       "    </tr>\n",
       "  </tbody>\n",
       "</table>\n",
       "<p>1266 rows × 1 columns</p>\n",
       "</div>"
      ],
      "text/plain": [
       "               Close\n",
       "Date                \n",
       "2005-02-01  1.384464\n",
       "2005-02-02  1.421964\n",
       "2005-02-03  1.389464\n",
       "2005-02-04  1.407857\n",
       "2005-02-07  1.409643\n",
       "...              ...\n",
       "2010-02-04  6.858929\n",
       "2010-02-05  6.980714\n",
       "2010-02-08  6.932857\n",
       "2010-02-09  7.006786\n",
       "2010-02-10  6.968571\n",
       "\n",
       "[1266 rows x 1 columns]"
      ]
     },
     "execution_count": 11,
     "metadata": {},
     "output_type": "execute_result"
    }
   ],
   "source": [
    "prices"
   ]
  },
  {
   "cell_type": "code",
   "execution_count": 12,
   "metadata": {},
   "outputs": [],
   "source": [
    "%run ../tools/predictors.py"
   ]
  },
  {
   "cell_type": "code",
   "execution_count": 48,
   "metadata": {},
   "outputs": [],
   "source": [
    "op0 = BasicUnivariatePredictor(prices, 25, 7)\n",
    "op1 = BasicUnivariatePredictor(prices, 25, 7)\n",
    "op2 = BasicUnivariatePredictor(prices, 25, 7)\n",
    "op3 = BasicUnivariatePredictor(prices, 25, 7)"
   ]
  },
  {
   "cell_type": "code",
   "execution_count": 49,
   "metadata": {},
   "outputs": [],
   "source": [
    "op0.create_bilstm()"
   ]
  },
  {
   "cell_type": "code",
   "execution_count": 50,
   "metadata": {},
   "outputs": [
    {
     "name": "stdout",
     "output_type": "stream",
     "text": [
      "Model: \"sequential_4\"\n",
      "_________________________________________________________________\n",
      "Layer (type)                 Output Shape              Param #   \n",
      "=================================================================\n",
      "bidirectional_1 (Bidirection (None, 25, 100)           20800     \n",
      "_________________________________________________________________\n",
      "lstm_6 (LSTM)                (None, 50)                30200     \n",
      "_________________________________________________________________\n",
      "dense_8 (Dense)              (None, 7)                 357       \n",
      "=================================================================\n",
      "Total params: 51,357\n",
      "Trainable params: 51,357\n",
      "Non-trainable params: 0\n",
      "_________________________________________________________________\n"
     ]
    }
   ],
   "source": [
    "op0.model_blueprint()"
   ]
  },
  {
   "cell_type": "code",
   "execution_count": 51,
   "metadata": {},
   "outputs": [
    {
     "name": "stdout",
     "output_type": "stream",
     "text": [
      "Epoch 1/10\n",
      "260/260 [==============================] - 6s 22ms/step - loss: 548.9698 - mean_squared_error: 548.9698 - val_loss: 553.7322 - val_mean_squared_error: 553.7322\n",
      "Epoch 2/10\n",
      "260/260 [==============================] - 5s 19ms/step - loss: 8.6805 - mean_squared_error: 8.6805 - val_loss: 14.6845 - val_mean_squared_error: 14.6845\n",
      "Epoch 3/10\n",
      "260/260 [==============================] - 5s 18ms/step - loss: 1.5519 - mean_squared_error: 1.5519 - val_loss: 13.6634 - val_mean_squared_error: 13.6634\n",
      "Epoch 4/10\n",
      "260/260 [==============================] - 5s 18ms/step - loss: 1.1035 - mean_squared_error: 1.1035 - val_loss: 8.0536 - val_mean_squared_error: 8.0536\n",
      "Epoch 5/10\n",
      "260/260 [==============================] - 5s 18ms/step - loss: 0.8487 - mean_squared_error: 0.8487 - val_loss: 10.4323 - val_mean_squared_error: 10.4323\n",
      "Epoch 6/10\n",
      "260/260 [==============================] - 4s 17ms/step - loss: 0.7688 - mean_squared_error: 0.7688 - val_loss: 9.8576 - val_mean_squared_error: 9.8576\n",
      "Epoch 7/10\n",
      "260/260 [==============================] - 4s 16ms/step - loss: 0.6459 - mean_squared_error: 0.6459 - val_loss: 7.0716 - val_mean_squared_error: 7.0716\n",
      "Epoch 8/10\n",
      "260/260 [==============================] - 4s 16ms/step - loss: 0.6871 - mean_squared_error: 0.6871 - val_loss: 5.2257 - val_mean_squared_error: 5.2257\n",
      "Epoch 9/10\n",
      "260/260 [==============================] - 4s 16ms/step - loss: 0.7886 - mean_squared_error: 0.7886 - val_loss: 7.1836 - val_mean_squared_error: 7.1836\n",
      "Epoch 10/10\n",
      "260/260 [==============================] - 4s 17ms/step - loss: 0.6630 - mean_squared_error: 0.6630 - val_loss: 4.1656 - val_mean_squared_error: 4.1656\n"
     ]
    },
    {
     "data": {
      "text/plain": [
       "<tensorflow.python.keras.callbacks.History at 0x1e2c29f8f10>"
      ]
     },
     "execution_count": 51,
     "metadata": {},
     "output_type": "execute_result"
    }
   ],
   "source": [
    "op0.fit_model(10)"
   ]
  },
  {
   "cell_type": "code",
   "execution_count": 52,
   "metadata": {},
   "outputs": [
    {
     "data": {
      "image/png": "[encoded data removed]",
      "text/plain": [
       "<Figure size 432x288 with 2 Axes>"
      ]
     },
     "metadata": {
      "needs_background": "light"
     },
     "output_type": "display_data"
    }
   ],
   "source": [
    "op0.show_performance()"
   ]
  },
  {
   "cell_type": "code",
   "execution_count": 53,
   "metadata": {},
   "outputs": [],
   "source": [
    "oyea = prices[-26:-1]\n",
    "#oyea = X[-1]\n",
    "#oyea"
   ]
  },
  {
   "cell_type": "code",
   "execution_count": 54,
   "metadata": {},
   "outputs": [
    {
     "name": "stdout",
     "output_type": "stream",
     "text": [
      "WARNING:tensorflow:5 out of the last 5 calls to <function Model.make_predict_function.<locals>.predict_function at 0x000001E2C92ED5E0> triggered tf.function retracing. Tracing is expensive and the excessive number of tracings could be due to (1) creating @tf.function repeatedly in a loop, (2) passing tensors with different shapes, (3) passing Python objects instead of tensors. For (1), please define your @tf.function outside of the loop. For (2), @tf.function has experimental_relax_shapes=True option that relaxes argument shapes that can avoid unnecessary retracing. For (3), please refer to https://www.tensorflow.org/tutorials/customization/performance#python_or_tensor_args and https://www.tensorflow.org/api_docs/python/tf/function for  more details.\n"
     ]
    },
    {
     "data": {
      "text/plain": [
       "array([[51.572556, 49.25073 , 51.297665, 52.198254, 47.500786, 50.3027  ,\n",
       "        49.14329 ]], dtype=float32)"
      ]
     },
     "execution_count": 54,
     "metadata": {},
     "output_type": "execute_result"
    }
   ],
   "source": [
    "nice = op0.predict(oyea)\n",
    "nice"
   ]
  },
  {
   "cell_type": "code",
   "execution_count": 20,
   "metadata": {},
   "outputs": [],
   "source": [
    "op1.create_lstm()"
   ]
  },
  {
   "cell_type": "code",
   "execution_count": 21,
   "metadata": {},
   "outputs": [
    {
     "name": "stdout",
     "output_type": "stream",
     "text": [
      "Model: \"sequential_1\"\n",
      "_________________________________________________________________\n",
      "Layer (type)                 Output Shape              Param #   \n",
      "=================================================================\n",
      "lstm_2 (LSTM)                (None, 25, 40)            6720      \n",
      "_________________________________________________________________\n",
      "lstm_3 (LSTM)                (None, 25, 50)            18200     \n",
      "_________________________________________________________________\n",
      "lstm_4 (LSTM)                (None, 50)                20200     \n",
      "_________________________________________________________________\n",
      "dense_1 (Dense)              (None, 7)                 357       \n",
      "=================================================================\n",
      "Total params: 45,477\n",
      "Trainable params: 45,477\n",
      "Non-trainable params: 0\n",
      "_________________________________________________________________\n"
     ]
    }
   ],
   "source": [
    "op1.model_blueprint()"
   ]
  },
  {
   "cell_type": "code",
   "execution_count": 22,
   "metadata": {},
   "outputs": [
    {
     "name": "stdout",
     "output_type": "stream",
     "text": [
      "Epoch 1/10\n",
      "99/99 [==============================] - 2s 24ms/step - loss: 5.8381 - mean_squared_error: 5.8381 - val_loss: 0.2938 - val_mean_squared_error: 0.2938\n",
      "Epoch 2/10\n",
      "99/99 [==============================] - 2s 23ms/step - loss: 0.2245 - mean_squared_error: 0.2245 - val_loss: 0.1627 - val_mean_squared_error: 0.1627\n",
      "Epoch 3/10\n",
      "99/99 [==============================] - 2s 24ms/step - loss: 0.1388 - mean_squared_error: 0.1388 - val_loss: 0.4296 - val_mean_squared_error: 0.4296\n",
      "Epoch 4/10\n",
      "99/99 [==============================] - 2s 24ms/step - loss: 0.1128 - mean_squared_error: 0.1128 - val_loss: 0.0820 - val_mean_squared_error: 0.0820\n",
      "Epoch 5/10\n",
      "99/99 [==============================] - 2s 24ms/step - loss: 0.1131 - mean_squared_error: 0.1131 - val_loss: 0.1590 - val_mean_squared_error: 0.1590\n",
      "Epoch 6/10\n",
      "99/99 [==============================] - 2s 24ms/step - loss: 0.1276 - mean_squared_error: 0.1276 - val_loss: 0.3347 - val_mean_squared_error: 0.3347\n",
      "Epoch 7/10\n",
      "99/99 [==============================] - 2s 22ms/step - loss: 0.1063 - mean_squared_error: 0.1063 - val_loss: 0.0739 - val_mean_squared_error: 0.0739\n",
      "Epoch 8/10\n",
      "99/99 [==============================] - 2s 23ms/step - loss: 0.1106 - mean_squared_error: 0.1106 - val_loss: 0.5256 - val_mean_squared_error: 0.5256\n",
      "Epoch 9/10\n",
      "99/99 [==============================] - 2s 23ms/step - loss: 0.1048 - mean_squared_error: 0.1048 - val_loss: 0.1083 - val_mean_squared_error: 0.1083\n",
      "Epoch 10/10\n",
      "99/99 [==============================] - 2s 22ms/step - loss: 0.1071 - mean_squared_error: 0.1071 - val_loss: 0.3138 - val_mean_squared_error: 0.3138\n"
     ]
    },
    {
     "data": {
      "text/plain": [
       "<tensorflow.python.keras.callbacks.History at 0x1e2b13c5880>"
      ]
     },
     "execution_count": 22,
     "metadata": {},
     "output_type": "execute_result"
    }
   ],
   "source": [
    "op1.fit_model(10)"
   ]
  },
  {
   "cell_type": "code",
   "execution_count": 23,
   "metadata": {},
   "outputs": [
    {
     "data": {
      "image/png": "[encoded data removed]",
      "text/plain": [
       "<Figure size 432x288 with 2 Axes>"
      ]
     },
     "metadata": {
      "needs_background": "light"
     },
     "output_type": "display_data"
    }
   ],
   "source": [
    "op1.show_performance()"
   ]
  },
  {
   "cell_type": "code",
   "execution_count": 24,
   "metadata": {},
   "outputs": [
    {
     "data": {
      "text/plain": [
       "array([[6.2591257, 6.1474586, 6.2644973, 6.408188 , 5.7055945, 5.888523 ,\n",
       "        5.9141483]], dtype=float32)"
      ]
     },
     "execution_count": 24,
     "metadata": {},
     "output_type": "execute_result"
    }
   ],
   "source": [
    "nice = op1.predict(oyea)\n",
    "nice"
   ]
  },
  {
   "cell_type": "code",
   "execution_count": 25,
   "metadata": {},
   "outputs": [],
   "source": [
    "op2.create_cnn()"
   ]
  },
  {
   "cell_type": "code",
   "execution_count": 26,
   "metadata": {},
   "outputs": [
    {
     "name": "stdout",
     "output_type": "stream",
     "text": [
      "Model: \"sequential_2\"\n",
      "_________________________________________________________________\n",
      "Layer (type)                 Output Shape              Param #   \n",
      "=================================================================\n",
      "conv1d (Conv1D)              (None, 24, 64)            192       \n",
      "_________________________________________________________________\n",
      "conv1d_1 (Conv1D)            (None, 23, 32)            4128      \n",
      "_________________________________________________________________\n",
      "max_pooling1d (MaxPooling1D) (None, 11, 32)            0         \n",
      "_________________________________________________________________\n",
      "flatten (Flatten)            (None, 352)               0         \n",
      "_________________________________________________________________\n",
      "dense_2 (Dense)              (None, 50)                17650     \n",
      "_________________________________________________________________\n",
      "dense_3 (Dense)              (None, 7)                 357       \n",
      "=================================================================\n",
      "Total params: 22,327\n",
      "Trainable params: 22,327\n",
      "Non-trainable params: 0\n",
      "_________________________________________________________________\n"
     ]
    }
   ],
   "source": [
    "op2.model_blueprint()"
   ]
  },
  {
   "cell_type": "code",
   "execution_count": 27,
   "metadata": {},
   "outputs": [
    {
     "name": "stdout",
     "output_type": "stream",
     "text": [
      "Epoch 1/10\n",
      "99/99 [==============================] - 0s 5ms/step - loss: 1.9747 - mean_squared_error: 1.9747 - val_loss: 0.1920 - val_mean_squared_error: 0.1920\n",
      "Epoch 2/10\n",
      "99/99 [==============================] - 0s 3ms/step - loss: 0.2036 - mean_squared_error: 0.2036 - val_loss: 0.1272 - val_mean_squared_error: 0.1272\n",
      "Epoch 3/10\n",
      "99/99 [==============================] - 0s 3ms/step - loss: 0.1846 - mean_squared_error: 0.1846 - val_loss: 0.1062 - val_mean_squared_error: 0.1062\n",
      "Epoch 4/10\n",
      "99/99 [==============================] - 0s 2ms/step - loss: 0.1732 - mean_squared_error: 0.1732 - val_loss: 0.1637 - val_mean_squared_error: 0.1637\n",
      "Epoch 5/10\n",
      "99/99 [==============================] - 0s 3ms/step - loss: 0.1581 - mean_squared_error: 0.1581 - val_loss: 0.1455 - val_mean_squared_error: 0.1455\n",
      "Epoch 6/10\n",
      "99/99 [==============================] - 0s 3ms/step - loss: 0.1407 - mean_squared_error: 0.1407 - val_loss: 0.1397 - val_mean_squared_error: 0.1397\n",
      "Epoch 7/10\n",
      "99/99 [==============================] - 0s 2ms/step - loss: 0.1379 - mean_squared_error: 0.1379 - val_loss: 0.1067 - val_mean_squared_error: 0.1067\n",
      "Epoch 8/10\n",
      "99/99 [==============================] - 0s 2ms/step - loss: 0.1440 - mean_squared_error: 0.1440 - val_loss: 0.1026 - val_mean_squared_error: 0.1026\n",
      "Epoch 9/10\n",
      "99/99 [==============================] - 0s 3ms/step - loss: 0.1433 - mean_squared_error: 0.1433 - val_loss: 0.0901 - val_mean_squared_error: 0.0901\n",
      "Epoch 10/10\n",
      "99/99 [==============================] - 0s 3ms/step - loss: 0.1080 - mean_squared_error: 0.1080 - val_loss: 0.0803 - val_mean_squared_error: 0.0803\n"
     ]
    },
    {
     "data": {
      "text/plain": [
       "<tensorflow.python.keras.callbacks.History at 0x1e2b8346b50>"
      ]
     },
     "execution_count": 27,
     "metadata": {},
     "output_type": "execute_result"
    }
   ],
   "source": [
    "op2.fit_model(10)"
   ]
  },
  {
   "cell_type": "code",
   "execution_count": 28,
   "metadata": {},
   "outputs": [
    {
     "data": {
      "image/png": "[encoded data removed]",
      "text/plain": [
       "<Figure size 432x288 with 2 Axes>"
      ]
     },
     "metadata": {
      "needs_background": "light"
     },
     "output_type": "display_data"
    }
   ],
   "source": [
    "op2.show_performance()"
   ]
  },
  {
   "cell_type": "code",
   "execution_count": 29,
   "metadata": {},
   "outputs": [
    {
     "data": {
      "text/plain": [
       "array([[7.0427475, 7.197059 , 7.0844097, 7.041202 , 7.2669926, 7.009579 ,\n",
       "        6.9943085]], dtype=float32)"
      ]
     },
     "execution_count": 29,
     "metadata": {},
     "output_type": "execute_result"
    }
   ],
   "source": [
    "nice = op2.predict(oyea)\n",
    "nice"
   ]
  },
  {
   "cell_type": "code",
   "execution_count": 30,
   "metadata": {},
   "outputs": [],
   "source": [
    "op3.create_mlp()"
   ]
  },
  {
   "cell_type": "code",
   "execution_count": 31,
   "metadata": {},
   "outputs": [
    {
     "name": "stdout",
     "output_type": "stream",
     "text": [
      "Model: \"sequential_3\"\n",
      "_________________________________________________________________\n",
      "Layer (type)                 Output Shape              Param #   \n",
      "=================================================================\n",
      "dense_4 (Dense)              (None, 50)                1300      \n",
      "_________________________________________________________________\n",
      "dense_5 (Dense)              (None, 25)                1275      \n",
      "_________________________________________________________________\n",
      "dense_6 (Dense)              (None, 25)                650       \n",
      "_________________________________________________________________\n",
      "dense_7 (Dense)              (None, 7)                 182       \n",
      "=================================================================\n",
      "Total params: 3,407\n",
      "Trainable params: 3,407\n",
      "Non-trainable params: 0\n",
      "_________________________________________________________________\n"
     ]
    }
   ],
   "source": [
    "op3.model_blueprint()"
   ]
  },
  {
   "cell_type": "code",
   "execution_count": 32,
   "metadata": {},
   "outputs": [
    {
     "name": "stdout",
     "output_type": "stream",
     "text": [
      "Epoch 1/100\n",
      "99/99 [==============================] - 0s 2ms/step - loss: 2.7225 - mean_squared_error: 2.7225 - val_loss: 0.1829 - val_mean_squared_error: 0.1829\n",
      "Epoch 2/100\n",
      "99/99 [==============================] - 0s 2ms/step - loss: 0.1762 - mean_squared_error: 0.1762 - val_loss: 0.1598 - val_mean_squared_error: 0.1598\n",
      "Epoch 3/100\n",
      "99/99 [==============================] - 0s 1ms/step - loss: 0.1649 - mean_squared_error: 0.1649 - val_loss: 0.0842 - val_mean_squared_error: 0.0842\n",
      "Epoch 4/100\n",
      "99/99 [==============================] - 0s 1ms/step - loss: 0.1471 - mean_squared_error: 0.1471 - val_loss: 0.0969 - val_mean_squared_error: 0.0969\n",
      "Epoch 5/100\n",
      "99/99 [==============================] - 0s 1ms/step - loss: 0.1310 - mean_squared_error: 0.1310 - val_loss: 0.1037 - val_mean_squared_error: 0.1037\n",
      "Epoch 6/100\n",
      "99/99 [==============================] - 0s 2ms/step - loss: 0.1208 - mean_squared_error: 0.1208 - val_loss: 0.1504 - val_mean_squared_error: 0.1504\n",
      "Epoch 7/100\n",
      "99/99 [==============================] - 0s 1ms/step - loss: 0.1091 - mean_squared_error: 0.1091 - val_loss: 0.0745 - val_mean_squared_error: 0.0745\n",
      "Epoch 8/100\n",
      "99/99 [==============================] - 0s 2ms/step - loss: 0.0986 - mean_squared_error: 0.0986 - val_loss: 0.0771 - val_mean_squared_error: 0.0771\n",
      "Epoch 9/100\n",
      "99/99 [==============================] - 0s 2ms/step - loss: 0.0935 - mean_squared_error: 0.0935 - val_loss: 0.0868 - val_mean_squared_error: 0.0868\n",
      "Epoch 10/100\n",
      "99/99 [==============================] - 0s 2ms/step - loss: 0.0920 - mean_squared_error: 0.0920 - val_loss: 0.0806 - val_mean_squared_error: 0.0806\n",
      "Epoch 11/100\n",
      "99/99 [==============================] - 0s 1ms/step - loss: 0.0867 - mean_squared_error: 0.0867 - val_loss: 0.0709 - val_mean_squared_error: 0.0709\n",
      "Epoch 12/100\n",
      "99/99 [==============================] - 0s 1ms/step - loss: 0.0900 - mean_squared_error: 0.0900 - val_loss: 0.0690 - val_mean_squared_error: 0.0690\n",
      "Epoch 13/100\n",
      "99/99 [==============================] - 0s 1ms/step - loss: 0.0815 - mean_squared_error: 0.0815 - val_loss: 0.0739 - val_mean_squared_error: 0.0739\n",
      "Epoch 14/100\n",
      "99/99 [==============================] - 0s 2ms/step - loss: 0.0837 - mean_squared_error: 0.0837 - val_loss: 0.0977 - val_mean_squared_error: 0.0977\n",
      "Epoch 15/100\n",
      "99/99 [==============================] - 0s 2ms/step - loss: 0.0781 - mean_squared_error: 0.0781 - val_loss: 0.1482 - val_mean_squared_error: 0.1482\n",
      "Epoch 16/100\n",
      "99/99 [==============================] - 0s 2ms/step - loss: 0.0809 - mean_squared_error: 0.0809 - val_loss: 0.1208 - val_mean_squared_error: 0.1208\n",
      "Epoch 17/100\n",
      "99/99 [==============================] - 0s 2ms/step - loss: 0.0747 - mean_squared_error: 0.0747 - val_loss: 0.0860 - val_mean_squared_error: 0.0860\n",
      "Epoch 18/100\n",
      "99/99 [==============================] - 0s 2ms/step - loss: 0.0731 - mean_squared_error: 0.0731 - val_loss: 0.0962 - val_mean_squared_error: 0.0962\n",
      "Epoch 19/100\n",
      "99/99 [==============================] - 0s 2ms/step - loss: 0.0861 - mean_squared_error: 0.0861 - val_loss: 0.0650 - val_mean_squared_error: 0.0650\n",
      "Epoch 20/100\n",
      "99/99 [==============================] - 0s 2ms/step - loss: 0.0750 - mean_squared_error: 0.0750 - val_loss: 0.0773 - val_mean_squared_error: 0.0773\n",
      "Epoch 21/100\n",
      "99/99 [==============================] - ETA: 0s - loss: 0.0745 - mean_squared_error: 0.07 - 0s 1ms/step - loss: 0.0733 - mean_squared_error: 0.0733 - val_loss: 0.0774 - val_mean_squared_error: 0.0774\n",
      "Epoch 22/100\n",
      "99/99 [==============================] - 0s 1ms/step - loss: 0.0692 - mean_squared_error: 0.0692 - val_loss: 0.0681 - val_mean_squared_error: 0.0681\n",
      "Epoch 23/100\n",
      "99/99 [==============================] - 0s 2ms/step - loss: 0.0768 - mean_squared_error: 0.0768 - val_loss: 0.0672 - val_mean_squared_error: 0.0672\n",
      "Epoch 24/100\n",
      "99/99 [==============================] - 0s 1ms/step - loss: 0.0691 - mean_squared_error: 0.0691 - val_loss: 0.0837 - val_mean_squared_error: 0.0837\n",
      "Epoch 25/100\n",
      "99/99 [==============================] - 0s 1ms/step - loss: 0.0700 - mean_squared_error: 0.0700 - val_loss: 0.0674 - val_mean_squared_error: 0.0674\n",
      "Epoch 26/100\n",
      "99/99 [==============================] - 0s 1ms/step - loss: 0.0721 - mean_squared_error: 0.0721 - val_loss: 0.0580 - val_mean_squared_error: 0.0580\n",
      "Epoch 27/100\n",
      "99/99 [==============================] - 0s 2ms/step - loss: 0.0648 - mean_squared_error: 0.0648 - val_loss: 0.0613 - val_mean_squared_error: 0.0613\n",
      "Epoch 28/100\n",
      "99/99 [==============================] - 0s 1ms/step - loss: 0.0636 - mean_squared_error: 0.0636 - val_loss: 0.0592 - val_mean_squared_error: 0.0592\n",
      "Epoch 29/100\n",
      "99/99 [==============================] - 0s 2ms/step - loss: 0.0610 - mean_squared_error: 0.0610 - val_loss: 0.0568 - val_mean_squared_error: 0.0568\n",
      "Epoch 30/100\n",
      "99/99 [==============================] - 0s 2ms/step - loss: 0.0677 - mean_squared_error: 0.0677 - val_loss: 0.0595 - val_mean_squared_error: 0.0595\n",
      "Epoch 31/100\n",
      "99/99 [==============================] - 0s 1ms/step - loss: 0.0626 - mean_squared_error: 0.0626 - val_loss: 0.0640 - val_mean_squared_error: 0.0640\n",
      "Epoch 32/100\n",
      "99/99 [==============================] - 0s 1ms/step - loss: 0.0707 - mean_squared_error: 0.0707 - val_loss: 0.0728 - val_mean_squared_error: 0.0728\n",
      "Epoch 33/100\n",
      "99/99 [==============================] - 0s 1ms/step - loss: 0.0645 - mean_squared_error: 0.0645 - val_loss: 0.0577 - val_mean_squared_error: 0.0577\n",
      "Epoch 34/100\n",
      "99/99 [==============================] - 0s 1ms/step - loss: 0.0649 - mean_squared_error: 0.0649 - val_loss: 0.0553 - val_mean_squared_error: 0.0553\n",
      "Epoch 35/100\n",
      "99/99 [==============================] - 0s 1ms/step - loss: 0.0665 - mean_squared_error: 0.0665 - val_loss: 0.0913 - val_mean_squared_error: 0.0913\n",
      "Epoch 36/100\n",
      "99/99 [==============================] - 0s 1ms/step - loss: 0.0621 - mean_squared_error: 0.0621 - val_loss: 0.0705 - val_mean_squared_error: 0.0705\n",
      "Epoch 37/100\n",
      "99/99 [==============================] - 0s 1ms/step - loss: 0.0603 - mean_squared_error: 0.0603 - val_loss: 0.0565 - val_mean_squared_error: 0.0565\n",
      "Epoch 38/100\n",
      "99/99 [==============================] - 0s 1ms/step - loss: 0.0634 - mean_squared_error: 0.0634 - val_loss: 0.0822 - val_mean_squared_error: 0.0822\n",
      "Epoch 39/100\n",
      "99/99 [==============================] - 0s 1ms/step - loss: 0.0666 - mean_squared_error: 0.0666 - val_loss: 0.1018 - val_mean_squared_error: 0.1018\n",
      "Epoch 40/100\n",
      "99/99 [==============================] - 0s 2ms/step - loss: 0.0724 - mean_squared_error: 0.0724 - val_loss: 0.0784 - val_mean_squared_error: 0.0784\n",
      "Epoch 41/100\n",
      "99/99 [==============================] - 0s 2ms/step - loss: 0.0615 - mean_squared_error: 0.0615 - val_loss: 0.0622 - val_mean_squared_error: 0.0622\n",
      "Epoch 42/100\n",
      "99/99 [==============================] - 0s 1ms/step - loss: 0.0644 - mean_squared_error: 0.0644 - val_loss: 0.1537 - val_mean_squared_error: 0.1537\n",
      "Epoch 43/100\n",
      "99/99 [==============================] - 0s 1ms/step - loss: 0.0667 - mean_squared_error: 0.0667 - val_loss: 0.0661 - val_mean_squared_error: 0.0661\n",
      "Epoch 44/100\n",
      "99/99 [==============================] - 0s 1ms/step - loss: 0.0601 - mean_squared_error: 0.0601 - val_loss: 0.0553 - val_mean_squared_error: 0.0553\n",
      "Epoch 45/100\n",
      "99/99 [==============================] - 0s 1ms/step - loss: 0.0600 - mean_squared_error: 0.0600 - val_loss: 0.0578 - val_mean_squared_error: 0.0578\n",
      "Epoch 46/100\n",
      "99/99 [==============================] - 0s 1ms/step - loss: 0.0588 - mean_squared_error: 0.0588 - val_loss: 0.0992 - val_mean_squared_error: 0.0992\n",
      "Epoch 47/100\n",
      "99/99 [==============================] - 0s 1ms/step - loss: 0.0620 - mean_squared_error: 0.0620 - val_loss: 0.0593 - val_mean_squared_error: 0.0593\n",
      "Epoch 48/100\n",
      "99/99 [==============================] - 0s 1ms/step - loss: 0.0623 - mean_squared_error: 0.0623 - val_loss: 0.0653 - val_mean_squared_error: 0.0653\n",
      "Epoch 49/100\n",
      "99/99 [==============================] - 0s 1ms/step - loss: 0.0619 - mean_squared_error: 0.0619 - val_loss: 0.0596 - val_mean_squared_error: 0.0596\n",
      "Epoch 50/100\n",
      "99/99 [==============================] - 0s 1ms/step - loss: 0.0576 - mean_squared_error: 0.0576 - val_loss: 0.0623 - val_mean_squared_error: 0.0623\n",
      "Epoch 51/100\n"
     ]
    },
    {
     "name": "stdout",
     "output_type": "stream",
     "text": [
      "99/99 [==============================] - 0s 1ms/step - loss: 0.0621 - mean_squared_error: 0.0621 - val_loss: 0.0604 - val_mean_squared_error: 0.0604\n",
      "Epoch 52/100\n",
      "99/99 [==============================] - 0s 1ms/step - loss: 0.0578 - mean_squared_error: 0.0578 - val_loss: 0.0544 - val_mean_squared_error: 0.0544\n",
      "Epoch 53/100\n",
      "99/99 [==============================] - 0s 1ms/step - loss: 0.0572 - mean_squared_error: 0.0572 - val_loss: 0.0565 - val_mean_squared_error: 0.0565\n",
      "Epoch 54/100\n",
      "99/99 [==============================] - 0s 1ms/step - loss: 0.0559 - mean_squared_error: 0.0559 - val_loss: 0.0687 - val_mean_squared_error: 0.0687\n",
      "Epoch 55/100\n",
      "99/99 [==============================] - 0s 1ms/step - loss: 0.0582 - mean_squared_error: 0.0582 - val_loss: 0.0536 - val_mean_squared_error: 0.0536\n",
      "Epoch 56/100\n",
      "99/99 [==============================] - 0s 1ms/step - loss: 0.0583 - mean_squared_error: 0.0583 - val_loss: 0.0917 - val_mean_squared_error: 0.0917\n",
      "Epoch 57/100\n",
      "99/99 [==============================] - 0s 1ms/step - loss: 0.0606 - mean_squared_error: 0.0606 - val_loss: 0.0604 - val_mean_squared_error: 0.0604\n",
      "Epoch 58/100\n",
      "99/99 [==============================] - 0s 1ms/step - loss: 0.0620 - mean_squared_error: 0.0620 - val_loss: 0.0638 - val_mean_squared_error: 0.0638\n",
      "Epoch 59/100\n",
      "99/99 [==============================] - 0s 1ms/step - loss: 0.0633 - mean_squared_error: 0.0633 - val_loss: 0.0544 - val_mean_squared_error: 0.0544\n",
      "Epoch 60/100\n",
      "99/99 [==============================] - 0s 1ms/step - loss: 0.0602 - mean_squared_error: 0.0602 - val_loss: 0.0608 - val_mean_squared_error: 0.0608\n",
      "Epoch 61/100\n",
      "99/99 [==============================] - 0s 2ms/step - loss: 0.0578 - mean_squared_error: 0.0578 - val_loss: 0.0675 - val_mean_squared_error: 0.0675\n",
      "Epoch 62/100\n",
      "99/99 [==============================] - 0s 1ms/step - loss: 0.0580 - mean_squared_error: 0.0580 - val_loss: 0.1156 - val_mean_squared_error: 0.1156\n",
      "Epoch 63/100\n",
      "99/99 [==============================] - 0s 1ms/step - loss: 0.0655 - mean_squared_error: 0.0655 - val_loss: 0.0577 - val_mean_squared_error: 0.0577\n",
      "Epoch 64/100\n",
      "99/99 [==============================] - 0s 1ms/step - loss: 0.0620 - mean_squared_error: 0.0620 - val_loss: 0.0770 - val_mean_squared_error: 0.0770\n",
      "Epoch 65/100\n",
      "99/99 [==============================] - 0s 1ms/step - loss: 0.0583 - mean_squared_error: 0.0583 - val_loss: 0.0803 - val_mean_squared_error: 0.0803\n",
      "Epoch 66/100\n",
      "99/99 [==============================] - 0s 1ms/step - loss: 0.0600 - mean_squared_error: 0.0600 - val_loss: 0.0530 - val_mean_squared_error: 0.0530\n",
      "Epoch 67/100\n",
      "99/99 [==============================] - 0s 1ms/step - loss: 0.0620 - mean_squared_error: 0.0620 - val_loss: 0.0582 - val_mean_squared_error: 0.0582\n",
      "Epoch 68/100\n",
      "99/99 [==============================] - 0s 1ms/step - loss: 0.0553 - mean_squared_error: 0.0553 - val_loss: 0.1560 - val_mean_squared_error: 0.1560\n",
      "Epoch 69/100\n",
      "99/99 [==============================] - 0s 1ms/step - loss: 0.0608 - mean_squared_error: 0.0608 - val_loss: 0.0935 - val_mean_squared_error: 0.0935\n",
      "Epoch 70/100\n",
      "99/99 [==============================] - 0s 1ms/step - loss: 0.0588 - mean_squared_error: 0.0588 - val_loss: 0.0696 - val_mean_squared_error: 0.0696\n",
      "Epoch 71/100\n",
      "99/99 [==============================] - 0s 1ms/step - loss: 0.0646 - mean_squared_error: 0.0646 - val_loss: 0.0945 - val_mean_squared_error: 0.0945\n",
      "Epoch 72/100\n",
      "99/99 [==============================] - 0s 1ms/step - loss: 0.0636 - mean_squared_error: 0.0636 - val_loss: 0.0621 - val_mean_squared_error: 0.0621\n",
      "Epoch 73/100\n",
      "99/99 [==============================] - 0s 1ms/step - loss: 0.0564 - mean_squared_error: 0.0564 - val_loss: 0.0518 - val_mean_squared_error: 0.0518\n",
      "Epoch 74/100\n",
      "99/99 [==============================] - 0s 1ms/step - loss: 0.0581 - mean_squared_error: 0.0581 - val_loss: 0.0593 - val_mean_squared_error: 0.0593\n",
      "Epoch 75/100\n",
      "99/99 [==============================] - 0s 1ms/step - loss: 0.0602 - mean_squared_error: 0.0602 - val_loss: 0.0820 - val_mean_squared_error: 0.0820\n",
      "Epoch 76/100\n",
      "99/99 [==============================] - 0s 1ms/step - loss: 0.0570 - mean_squared_error: 0.0570 - val_loss: 0.0676 - val_mean_squared_error: 0.0676\n",
      "Epoch 77/100\n",
      "99/99 [==============================] - 0s 1ms/step - loss: 0.0581 - mean_squared_error: 0.0581 - val_loss: 0.0660 - val_mean_squared_error: 0.0660\n",
      "Epoch 78/100\n",
      "99/99 [==============================] - 0s 2ms/step - loss: 0.0563 - mean_squared_error: 0.0563 - val_loss: 0.0687 - val_mean_squared_error: 0.0687\n",
      "Epoch 79/100\n",
      "99/99 [==============================] - 0s 1ms/step - loss: 0.0598 - mean_squared_error: 0.0598 - val_loss: 0.1063 - val_mean_squared_error: 0.1063\n",
      "Epoch 80/100\n",
      "99/99 [==============================] - 0s 2ms/step - loss: 0.0571 - mean_squared_error: 0.0571 - val_loss: 0.0716 - val_mean_squared_error: 0.0716\n",
      "Epoch 81/100\n",
      "99/99 [==============================] - 0s 1ms/step - loss: 0.0546 - mean_squared_error: 0.0546 - val_loss: 0.0612 - val_mean_squared_error: 0.0612\n",
      "Epoch 82/100\n",
      "99/99 [==============================] - 0s 1ms/step - loss: 0.0648 - mean_squared_error: 0.0648 - val_loss: 0.0725 - val_mean_squared_error: 0.0725\n",
      "Epoch 83/100\n",
      "99/99 [==============================] - 0s 1ms/step - loss: 0.0542 - mean_squared_error: 0.0542 - val_loss: 0.0523 - val_mean_squared_error: 0.0523\n",
      "Epoch 84/100\n",
      "99/99 [==============================] - 0s 1ms/step - loss: 0.0573 - mean_squared_error: 0.0573 - val_loss: 0.1014 - val_mean_squared_error: 0.1014\n",
      "Epoch 85/100\n",
      "99/99 [==============================] - 0s 1ms/step - loss: 0.0544 - mean_squared_error: 0.0544 - val_loss: 0.0609 - val_mean_squared_error: 0.0609\n",
      "Epoch 86/100\n",
      "99/99 [==============================] - 0s 1ms/step - loss: 0.0566 - mean_squared_error: 0.0566 - val_loss: 0.0596 - val_mean_squared_error: 0.0596\n",
      "Epoch 87/100\n",
      "99/99 [==============================] - 0s 1ms/step - loss: 0.0560 - mean_squared_error: 0.0560 - val_loss: 0.0693 - val_mean_squared_error: 0.0693\n",
      "Epoch 88/100\n",
      "99/99 [==============================] - 0s 1ms/step - loss: 0.0552 - mean_squared_error: 0.0552 - val_loss: 0.0508 - val_mean_squared_error: 0.0508\n",
      "Epoch 89/100\n",
      "99/99 [==============================] - 0s 1ms/step - loss: 0.0537 - mean_squared_error: 0.0537 - val_loss: 0.0748 - val_mean_squared_error: 0.0748\n",
      "Epoch 90/100\n",
      "99/99 [==============================] - 0s 1ms/step - loss: 0.0559 - mean_squared_error: 0.0559 - val_loss: 0.0602 - val_mean_squared_error: 0.0602\n",
      "Epoch 91/100\n",
      "99/99 [==============================] - 0s 1ms/step - loss: 0.0584 - mean_squared_error: 0.0584 - val_loss: 0.0575 - val_mean_squared_error: 0.0575\n",
      "Epoch 92/100\n",
      "99/99 [==============================] - 0s 1ms/step - loss: 0.0551 - mean_squared_error: 0.0551 - val_loss: 0.0623 - val_mean_squared_error: 0.0623\n",
      "Epoch 93/100\n",
      "99/99 [==============================] - 0s 1ms/step - loss: 0.0621 - mean_squared_error: 0.0621 - val_loss: 0.0529 - val_mean_squared_error: 0.0529\n",
      "Epoch 94/100\n",
      "99/99 [==============================] - 0s 1ms/step - loss: 0.0572 - mean_squared_error: 0.0572 - val_loss: 0.0679 - val_mean_squared_error: 0.0679\n",
      "Epoch 95/100\n",
      "99/99 [==============================] - 0s 1ms/step - loss: 0.0596 - mean_squared_error: 0.0596 - val_loss: 0.0741 - val_mean_squared_error: 0.0741\n",
      "Epoch 96/100\n",
      "99/99 [==============================] - 0s 1ms/step - loss: 0.0536 - mean_squared_error: 0.0536 - val_loss: 0.0518 - val_mean_squared_error: 0.0518\n",
      "Epoch 97/100\n",
      "99/99 [==============================] - 0s 1ms/step - loss: 0.0535 - mean_squared_error: 0.0535 - val_loss: 0.0551 - val_mean_squared_error: 0.0551\n",
      "Epoch 98/100\n",
      "99/99 [==============================] - 0s 1ms/step - loss: 0.0653 - mean_squared_error: 0.0653 - val_loss: 0.1458 - val_mean_squared_error: 0.1458\n",
      "Epoch 99/100\n",
      "99/99 [==============================] - 0s 1ms/step - loss: 0.0559 - mean_squared_error: 0.0559 - val_loss: 0.0553 - val_mean_squared_error: 0.0553\n",
      "Epoch 100/100\n",
      "99/99 [==============================] - 0s 1ms/step - loss: 0.0607 - mean_squared_error: 0.0607 - val_loss: 0.0545 - val_mean_squared_error: 0.0545\n"
     ]
    },
    {
     "data": {
      "text/plain": [
       "<tensorflow.python.keras.callbacks.History at 0x1e2b88c3250>"
      ]
     },
     "execution_count": 32,
     "metadata": {},
     "output_type": "execute_result"
    }
   ],
   "source": [
    "op3.fit_model(100)"
   ]
  },
  {
   "cell_type": "code",
   "execution_count": 33,
   "metadata": {},
   "outputs": [
    {
     "data": {
      "image/png": "[encoded data removed]",
      "text/plain": [
       "<Figure size 432x288 with 2 Axes>"
      ]
     },
     "metadata": {
      "needs_background": "light"
     },
     "output_type": "display_data"
    }
   ],
   "source": [
    "op3.show_performance()"
   ]
  },
  {
   "cell_type": "code",
   "execution_count": 34,
   "metadata": {},
   "outputs": [],
   "source": [
    "oyea = prices[-26:-1]\n",
    "#oyea = X[-1]\n",
    "#oyea"
   ]
  },
  {
   "cell_type": "code",
   "execution_count": 35,
   "metadata": {},
   "outputs": [
    {
     "data": {
      "text/plain": [
       "array([[6.919198 , 7.014857 , 6.9514136, 7.097626 , 6.933123 , 6.9343333,\n",
       "        6.9087744]], dtype=float32)"
      ]
     },
     "execution_count": 35,
     "metadata": {},
     "output_type": "execute_result"
    }
   ],
   "source": [
    "nice = op3.predict(oyea)\n",
    "nice"
   ]
  },
  {
   "cell_type": "code",
   "execution_count": 36,
   "metadata": {},
   "outputs": [],
   "source": [
    "%run ../tools/predictorsII.py"
   ]
  },
  {
   "cell_type": "code",
   "execution_count": 44,
   "metadata": {},
   "outputs": [],
   "source": [
    "oo = UnivariatePredictorII(prices, 7)"
   ]
  },
  {
   "cell_type": "code",
   "execution_count": 45,
   "metadata": {},
   "outputs": [
    {
     "name": "stderr",
     "output_type": "stream",
     "text": [
      "INFO: nprophet.utils - set_auto_seasonalities: Disabling daily seasonality. Run NeuralProphet with daily_seasonality=True to override this.\n",
      "INFO: nprophet.config - set_auto_batch_epoch: Auto-set batch_size to 32\n"
     ]
    },
    {
     "data": {
      "application/vnd.jupyter.widget-view+json": {
       "model_id": "1d73791dfd4e474f8fd7081b2dc96583",
       "version_major": 2,
       "version_minor": 0
      },
      "text/plain": [
       "  0%|          | 0/100 [00:00<?, ?it/s]"
      ]
     },
     "metadata": {},
     "output_type": "display_data"
    },
    {
     "name": "stderr",
     "output_type": "stream",
     "text": [
      "INFO: nprophet - _lr_range_test: learning rate range test found optimal lr: 1.52E-01\n",
      "Epoch[300/300]: 100%|█| 300/300 [00:43<00:00,  6.86it/s, SmoothL1Loss=0.00312, MAE=1.46, RegLoss=0, MAE_val=3.75, Smoot\n"
     ]
    }
   ],
   "source": [
    "oo.fit_model(300,\"D\")"
   ]
  },
  {
   "cell_type": "code",
   "execution_count": 46,
   "metadata": {},
   "outputs": [
    {
     "data": {
      "image/png": "[encoded data removed]",
      "text/plain": [
       "<Figure size 432x288 with 2 Axes>"
      ]
     },
     "metadata": {
      "needs_background": "light"
     },
     "output_type": "display_data"
    }
   ],
   "source": [
    "oo.show_performance()"
   ]
  },
  {
   "cell_type": "code",
   "execution_count": 47,
   "metadata": {},
   "outputs": [
    {
     "data": {
      "text/plain": [
       "0    34.240265\n",
       "1    34.280983\n",
       "2    36.976601\n",
       "3    36.988949\n",
       "4    37.023476\n",
       "5    37.047203\n",
       "6    37.025974\n",
       "Name: yhat1, dtype: float64"
      ]
     },
     "execution_count": 47,
     "metadata": {},
     "output_type": "execute_result"
    }
   ],
   "source": [
    "oo.predict()"
   ]
  },
  {
   "cell_type": "code",
   "execution_count": null,
   "metadata": {},
   "outputs": [],
   "source": []
  }
 ],
 "metadata": {
  "kernelspec": {
   "display_name": "Python 3",
   "language": "python",
   "name": "python3"
  },
  "language_info": {
   "codemirror_mode": {
    "name": "ipython",
    "version": 3
   },
   "file_extension": ".py",
   "mimetype": "text/x-python",
   "name": "python",
   "nbconvert_exporter": "python",
   "pygments_lexer": "ipython3",
   "version": "3.8.1"
  }
 },
 "nbformat": 4,
 "nbformat_minor": 2
}
