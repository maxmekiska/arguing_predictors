{
 "cells": [
  {
   "cell_type": "markdown",
   "metadata": {},
   "source": [
    "# Testing Enviornment"
   ]
  },
  {
   "cell_type": "code",
   "execution_count": 9,
   "metadata": {},
   "outputs": [],
   "source": [
    "import pandas as pd\n",
    "import numpy as np"
   ]
  },
  {
   "cell_type": "markdown",
   "metadata": {},
   "source": [
    "## Running tests"
   ]
  },
  {
   "cell_type": "markdown",
   "metadata": {},
   "source": [
    "The following section unit-tests most of the code written for the proof of concept prototype."
   ]
  },
  {
   "cell_type": "code",
   "execution_count": 10,
   "metadata": {
    "scrolled": false
   },
   "outputs": [
    {
     "name": "stderr",
     "output_type": "stream",
     "text": [
      "........\n",
      "----------------------------------------------------------------------\n",
      "Ran 8 tests in 0.095s\n",
      "\n",
      "OK\n"
     ]
    }
   ],
   "source": [
    "%run ../tests/test_algorithms.py"
   ]
  },
  {
   "cell_type": "code",
   "execution_count": 33,
   "metadata": {},
   "outputs": [
    {
     "name": "stderr",
     "output_type": "stream",
     "text": [
      "........\n",
      "----------------------------------------------------------------------\n",
      "Ran 8 tests in 0.025s\n",
      "\n",
      "OK\n"
     ]
    }
   ],
   "source": [
    "%run ../tests/test_dataloader.py"
   ]
  },
  {
   "cell_type": "code",
   "execution_count": 12,
   "metadata": {},
   "outputs": [
    {
     "name": "stderr",
     "output_type": "stream",
     "text": [
      ".\n",
      "----------------------------------------------------------------------\n",
      "Ran 1 test in 0.032s\n",
      "\n",
      "OK\n"
     ]
    }
   ],
   "source": [
    "%run ../tests/test_predictors.py"
   ]
  },
  {
   "cell_type": "markdown",
   "metadata": {},
   "source": [
    "## Running example of the system"
   ]
  },
  {
   "cell_type": "code",
   "execution_count": 13,
   "metadata": {},
   "outputs": [],
   "source": [
    "%run ../tools/algorithms.py"
   ]
  },
  {
   "cell_type": "code",
   "execution_count": 34,
   "metadata": {},
   "outputs": [],
   "source": [
    "%run ../tools/dataloader.py"
   ]
  },
  {
   "cell_type": "code",
   "execution_count": 15,
   "metadata": {},
   "outputs": [],
   "source": [
    "test = DataLoader('aapl', '2010-02-01', '2015-02-10')"
   ]
  },
  {
   "cell_type": "code",
   "execution_count": 16,
   "metadata": {},
   "outputs": [],
   "source": [
    "prices = test.get_close()"
   ]
  },
  {
   "cell_type": "code",
   "execution_count": 17,
   "metadata": {},
   "outputs": [
    {
     "data": {
      "text/plain": [
       "1266"
      ]
     },
     "execution_count": 17,
     "metadata": {},
     "output_type": "execute_result"
    }
   ],
   "source": [
    "prices = np.array(prices)\n",
    "len(prices)"
   ]
  },
  {
   "cell_type": "code",
   "execution_count": 18,
   "metadata": {},
   "outputs": [
    {
     "data": {
      "text/plain": [
       "array([[ 6.95464277],\n",
       "       [ 6.99499989],\n",
       "       [ 7.11535692],\n",
       "       ...,\n",
       "       [29.73250008],\n",
       "       [29.93000031],\n",
       "       [30.50499916]])"
      ]
     },
     "execution_count": 18,
     "metadata": {},
     "output_type": "execute_result"
    }
   ],
   "source": [
    "prices"
   ]
  },
  {
   "cell_type": "code",
   "execution_count": 22,
   "metadata": {},
   "outputs": [],
   "source": [
    "%run ../tools/predictors.py"
   ]
  },
  {
   "cell_type": "code",
   "execution_count": 23,
   "metadata": {},
   "outputs": [],
   "source": [
    "op0 = BasicUnivariatePredictor(prices, 25, 7)\n",
    "op1 = BasicUnivariatePredictor(prices, 25, 7)\n",
    "op2 = BasicUnivariatePredictor(prices, 25, 7)"
   ]
  },
  {
   "cell_type": "code",
   "execution_count": 24,
   "metadata": {},
   "outputs": [],
   "source": [
    "op0.create_bilstm()"
   ]
  },
  {
   "cell_type": "code",
   "execution_count": 25,
   "metadata": {},
   "outputs": [
    {
     "name": "stdout",
     "output_type": "stream",
     "text": [
      "Model: \"sequential\"\n",
      "_________________________________________________________________\n",
      "Layer (type)                 Output Shape              Param #   \n",
      "=================================================================\n",
      "bidirectional (Bidirectional (None, 25, 100)           20800     \n",
      "_________________________________________________________________\n",
      "lstm_1 (LSTM)                (None, 50)                30200     \n",
      "_________________________________________________________________\n",
      "dense (Dense)                (None, 7)                 357       \n",
      "=================================================================\n",
      "Total params: 51,357\n",
      "Trainable params: 51,357\n",
      "Non-trainable params: 0\n",
      "_________________________________________________________________\n"
     ]
    }
   ],
   "source": [
    "op0.model_blueprint()"
   ]
  },
  {
   "cell_type": "code",
   "execution_count": 26,
   "metadata": {},
   "outputs": [
    {
     "name": "stdout",
     "output_type": "stream",
     "text": [
      "Epoch 1/10\n",
      "99/99 [==============================] - 2s 25ms/step - loss: 40.7307 - mean_squared_error: 40.7307 - val_loss: 6.2170 - val_mean_squared_error: 6.2170\n",
      "Epoch 2/10\n",
      "99/99 [==============================] - 2s 19ms/step - loss: 1.3662 - mean_squared_error: 1.3662 - val_loss: 9.7171 - val_mean_squared_error: 9.7171\n",
      "Epoch 3/10\n",
      "99/99 [==============================] - 2s 19ms/step - loss: 0.9328 - mean_squared_error: 0.9328 - val_loss: 5.0945 - val_mean_squared_error: 5.0945\n",
      "Epoch 4/10\n",
      "99/99 [==============================] - 2s 19ms/step - loss: 0.9592 - mean_squared_error: 0.9592 - val_loss: 3.8003 - val_mean_squared_error: 3.8003\n",
      "Epoch 5/10\n",
      "99/99 [==============================] - 2s 17ms/step - loss: 0.7549 - mean_squared_error: 0.7549 - val_loss: 2.4231 - val_mean_squared_error: 2.4231\n",
      "Epoch 6/10\n",
      "99/99 [==============================] - 1s 15ms/step - loss: 0.6339 - mean_squared_error: 0.6339 - val_loss: 3.1545 - val_mean_squared_error: 3.1545\n",
      "Epoch 7/10\n",
      "99/99 [==============================] - 2s 16ms/step - loss: 0.6898 - mean_squared_error: 0.6898 - val_loss: 78.2929 - val_mean_squared_error: 78.2929\n",
      "Epoch 8/10\n",
      "99/99 [==============================] - 2s 16ms/step - loss: 77.9447 - mean_squared_error: 77.9447 - val_loss: 2.1160 - val_mean_squared_error: 2.1160\n",
      "Epoch 9/10\n",
      "99/99 [==============================] - 2s 16ms/step - loss: 0.7718 - mean_squared_error: 0.7718 - val_loss: 1.0663 - val_mean_squared_error: 1.0663\n",
      "Epoch 10/10\n",
      "99/99 [==============================] - 2s 17ms/step - loss: 0.6064 - mean_squared_error: 0.6064 - val_loss: 1.0713 - val_mean_squared_error: 1.0713\n"
     ]
    },
    {
     "data": {
      "text/plain": [
       "<tensorflow.python.keras.callbacks.History at 0x242a90054f0>"
      ]
     },
     "execution_count": 26,
     "metadata": {},
     "output_type": "execute_result"
    }
   ],
   "source": [
    "op0.fit_model(10)"
   ]
  },
  {
   "cell_type": "code",
   "execution_count": 27,
   "metadata": {},
   "outputs": [
    {
     "data": {
      "image/png": "[encoded data removed]",
      "text/plain": [
       "<Figure size 432x288 with 2 Axes>"
      ]
     },
     "metadata": {
      "needs_background": "light"
     },
     "output_type": "display_data"
    }
   ],
   "source": [
    "op0.show_performance()"
   ]
  },
  {
   "cell_type": "code",
   "execution_count": 28,
   "metadata": {},
   "outputs": [],
   "source": [
    "oyea = prices[-26:-1]\n",
    "#oyea = X[-1]\n",
    "#oyea"
   ]
  },
  {
   "cell_type": "code",
   "execution_count": 29,
   "metadata": {},
   "outputs": [
    {
     "data": {
      "text/plain": [
       "array([[31.378336, 29.44823 , 30.645372, 30.230118, 30.300209, 28.971325,\n",
       "        29.968016]], dtype=float32)"
      ]
     },
     "execution_count": 29,
     "metadata": {},
     "output_type": "execute_result"
    }
   ],
   "source": [
    "nice = op0.predict(oyea)\n",
    "nice"
   ]
  },
  {
   "cell_type": "code",
   "execution_count": 18,
   "metadata": {},
   "outputs": [],
   "source": [
    "op1.create_lstm()"
   ]
  },
  {
   "cell_type": "code",
   "execution_count": 19,
   "metadata": {},
   "outputs": [
    {
     "name": "stdout",
     "output_type": "stream",
     "text": [
      "Model: \"sequential_1\"\n",
      "_________________________________________________________________\n",
      "Layer (type)                 Output Shape              Param #   \n",
      "=================================================================\n",
      "lstm_2 (LSTM)                (None, 25, 40)            6720      \n",
      "_________________________________________________________________\n",
      "lstm_3 (LSTM)                (None, 25, 50)            18200     \n",
      "_________________________________________________________________\n",
      "lstm_4 (LSTM)                (None, 50)                20200     \n",
      "_________________________________________________________________\n",
      "dense_1 (Dense)              (None, 7)                 357       \n",
      "=================================================================\n",
      "Total params: 45,477\n",
      "Trainable params: 45,477\n",
      "Non-trainable params: 0\n",
      "_________________________________________________________________\n"
     ]
    }
   ],
   "source": [
    "op1.model_blueprint()"
   ]
  },
  {
   "cell_type": "code",
   "execution_count": 20,
   "metadata": {},
   "outputs": [
    {
     "name": "stdout",
     "output_type": "stream",
     "text": [
      "Epoch 1/10\n",
      "99/99 [==============================] - 3s 25ms/step - loss: 39.0946 - mean_squared_error: 39.0946 - val_loss: 10.3914 - val_mean_squared_error: 10.3914\n",
      "Epoch 2/10\n",
      "99/99 [==============================] - 2s 22ms/step - loss: 1.3967 - mean_squared_error: 1.3967 - val_loss: 7.2500 - val_mean_squared_error: 7.2500\n",
      "Epoch 3/10\n",
      "99/99 [==============================] - 2s 23ms/step - loss: 1.2796 - mean_squared_error: 1.2796 - val_loss: 3.9700 - val_mean_squared_error: 3.9700\n",
      "Epoch 4/10\n",
      "99/99 [==============================] - 2s 23ms/step - loss: 0.7427 - mean_squared_error: 0.7427 - val_loss: 1.9502 - val_mean_squared_error: 1.9502\n",
      "Epoch 5/10\n",
      "99/99 [==============================] - 2s 23ms/step - loss: 0.8330 - mean_squared_error: 0.8330 - val_loss: 3.0684 - val_mean_squared_error: 3.0684\n",
      "Epoch 6/10\n",
      "99/99 [==============================] - 2s 22ms/step - loss: 0.7064 - mean_squared_error: 0.7064 - val_loss: 5.0436 - val_mean_squared_error: 5.0436\n",
      "Epoch 7/10\n",
      "99/99 [==============================] - 2s 22ms/step - loss: 0.7185 - mean_squared_error: 0.7185 - val_loss: 4.4014 - val_mean_squared_error: 4.4014\n",
      "Epoch 8/10\n",
      "99/99 [==============================] - 2s 22ms/step - loss: 0.6739 - mean_squared_error: 0.6739 - val_loss: 1.1415 - val_mean_squared_error: 1.1415\n",
      "Epoch 9/10\n",
      "99/99 [==============================] - 2s 22ms/step - loss: 0.7846 - mean_squared_error: 0.7846 - val_loss: 1.6211 - val_mean_squared_error: 1.6211\n",
      "Epoch 10/10\n",
      "99/99 [==============================] - 2s 21ms/step - loss: 0.7728 - mean_squared_error: 0.7728 - val_loss: 1.0351 - val_mean_squared_error: 1.0351\n"
     ]
    },
    {
     "data": {
      "text/plain": [
       "<tensorflow.python.keras.callbacks.History at 0x2e7753c65e0>"
      ]
     },
     "execution_count": 20,
     "metadata": {},
     "output_type": "execute_result"
    }
   ],
   "source": [
    "op1.fit_model(10)"
   ]
  },
  {
   "cell_type": "code",
   "execution_count": 21,
   "metadata": {},
   "outputs": [
    {
     "data": {
      "image/png": "[encoded data removed]",
      "text/plain": [
       "<Figure size 432x288 with 2 Axes>"
      ]
     },
     "metadata": {
      "needs_background": "light"
     },
     "output_type": "display_data"
    }
   ],
   "source": [
    "op1.show_performance()"
   ]
  },
  {
   "cell_type": "code",
   "execution_count": 33,
   "metadata": {},
   "outputs": [
    {
     "data": {
      "text/plain": [
       "array([[28.821764, 27.561462, 28.699505, 30.082558, 29.114218, 27.839628,\n",
       "        27.334814]], dtype=float32)"
      ]
     },
     "execution_count": 33,
     "metadata": {},
     "output_type": "execute_result"
    }
   ],
   "source": [
    "nice = op1.predict(oyea)\n",
    "nice"
   ]
  },
  {
   "cell_type": "code",
   "execution_count": 22,
   "metadata": {},
   "outputs": [],
   "source": [
    "op2.create_cnn()"
   ]
  },
  {
   "cell_type": "code",
   "execution_count": 23,
   "metadata": {},
   "outputs": [
    {
     "name": "stdout",
     "output_type": "stream",
     "text": [
      "Model: \"sequential_2\"\n",
      "_________________________________________________________________\n",
      "Layer (type)                 Output Shape              Param #   \n",
      "=================================================================\n",
      "conv1d (Conv1D)              (None, 24, 64)            192       \n",
      "_________________________________________________________________\n",
      "conv1d_1 (Conv1D)            (None, 23, 32)            4128      \n",
      "_________________________________________________________________\n",
      "max_pooling1d (MaxPooling1D) (None, 11, 32)            0         \n",
      "_________________________________________________________________\n",
      "flatten (Flatten)            (None, 352)               0         \n",
      "_________________________________________________________________\n",
      "dense_2 (Dense)              (None, 50)                17650     \n",
      "_________________________________________________________________\n",
      "dense_3 (Dense)              (None, 7)                 357       \n",
      "=================================================================\n",
      "Total params: 22,327\n",
      "Trainable params: 22,327\n",
      "Non-trainable params: 0\n",
      "_________________________________________________________________\n"
     ]
    }
   ],
   "source": [
    "op2.model_blueprint()"
   ]
  },
  {
   "cell_type": "code",
   "execution_count": 24,
   "metadata": {},
   "outputs": [
    {
     "name": "stdout",
     "output_type": "stream",
     "text": [
      "Epoch 1/10\n",
      "99/99 [==============================] - 0s 4ms/step - loss: 27.7155 - mean_squared_error: 27.7155 - val_loss: 1.7201 - val_mean_squared_error: 1.7201\n",
      "Epoch 2/10\n",
      "99/99 [==============================] - 0s 3ms/step - loss: 1.0415 - mean_squared_error: 1.0415 - val_loss: 1.0469 - val_mean_squared_error: 1.0469\n",
      "Epoch 3/10\n",
      "99/99 [==============================] - 0s 3ms/step - loss: 1.0011 - mean_squared_error: 1.0011 - val_loss: 1.0743 - val_mean_squared_error: 1.0743\n",
      "Epoch 4/10\n",
      "99/99 [==============================] - 0s 3ms/step - loss: 0.9491 - mean_squared_error: 0.9491 - val_loss: 1.2240 - val_mean_squared_error: 1.2240\n",
      "Epoch 5/10\n",
      "99/99 [==============================] - 0s 3ms/step - loss: 1.0053 - mean_squared_error: 1.0053 - val_loss: 1.2476 - val_mean_squared_error: 1.2476\n",
      "Epoch 6/10\n",
      "99/99 [==============================] - 0s 3ms/step - loss: 0.9139 - mean_squared_error: 0.9139 - val_loss: 1.5703 - val_mean_squared_error: 1.5703\n",
      "Epoch 7/10\n",
      "99/99 [==============================] - 0s 3ms/step - loss: 0.9064 - mean_squared_error: 0.9064 - val_loss: 1.2624 - val_mean_squared_error: 1.2624\n",
      "Epoch 8/10\n",
      "99/99 [==============================] - 0s 3ms/step - loss: 0.9478 - mean_squared_error: 0.9478 - val_loss: 1.1565 - val_mean_squared_error: 1.1565\n",
      "Epoch 9/10\n",
      "99/99 [==============================] - 0s 3ms/step - loss: 0.8834 - mean_squared_error: 0.8834 - val_loss: 1.1904 - val_mean_squared_error: 1.1904\n",
      "Epoch 10/10\n",
      "99/99 [==============================] - 0s 2ms/step - loss: 0.8175 - mean_squared_error: 0.8175 - val_loss: 0.9245 - val_mean_squared_error: 0.9245\n"
     ]
    },
    {
     "data": {
      "text/plain": [
       "<tensorflow.python.keras.callbacks.History at 0x2e77af533d0>"
      ]
     },
     "execution_count": 24,
     "metadata": {},
     "output_type": "execute_result"
    }
   ],
   "source": [
    "op2.fit_model(10)"
   ]
  },
  {
   "cell_type": "code",
   "execution_count": 25,
   "metadata": {},
   "outputs": [
    {
     "data": {
      "image/png": "[encoded data removed]",
      "text/plain": [
       "<Figure size 432x288 with 2 Axes>"
      ]
     },
     "metadata": {
      "needs_background": "light"
     },
     "output_type": "display_data"
    }
   ],
   "source": [
    "op2.show_performance()"
   ]
  },
  {
   "cell_type": "code",
   "execution_count": 34,
   "metadata": {},
   "outputs": [
    {
     "data": {
      "text/plain": [
       "array([[28.479273, 29.085808, 29.253847, 28.770725, 29.38114 , 28.58591 ,\n",
       "        30.053885]], dtype=float32)"
      ]
     },
     "execution_count": 34,
     "metadata": {},
     "output_type": "execute_result"
    }
   ],
   "source": [
    "nice = op2.predict(oyea)\n",
    "nice"
   ]
  }
 ],
 "metadata": {
  "kernelspec": {
   "display_name": "Python 3",
   "language": "python",
   "name": "python3"
  },
  "language_info": {
   "codemirror_mode": {
    "name": "ipython",
    "version": 3
   },
   "file_extension": ".py",
   "mimetype": "text/x-python",
   "name": "python",
   "nbconvert_exporter": "python",
   "pygments_lexer": "ipython3",
   "version": "3.8.1"
  }
 },
 "nbformat": 4,
 "nbformat_minor": 2
}
