{
 "cells": [
  {
   "cell_type": "markdown",
   "metadata": {},
   "source": [
    "# Testing Enviornment"
   ]
  },
  {
   "cell_type": "code",
   "execution_count": 1,
   "metadata": {},
   "outputs": [],
   "source": [
    "import pandas as pd\n",
    "import numpy as np"
   ]
  },
  {
   "cell_type": "markdown",
   "metadata": {},
   "source": [
    "## Running tests"
   ]
  },
  {
   "cell_type": "markdown",
   "metadata": {},
   "source": [
    "The following section unit-tests most of the code written for the proof of concept prototype."
   ]
  },
  {
   "cell_type": "code",
   "execution_count": 2,
   "metadata": {
    "scrolled": false
   },
   "outputs": [
    {
     "name": "stderr",
     "output_type": "stream",
     "text": [
      "C:\\Users\\Max\\Documents\\GitHubPrivate\\arguing-predictors\\tests\\test_algorithms.py:5: FutureWarning: pandas.util.testing is deprecated. Use the functions in the public API at pandas.testing instead.\n",
      "  from pandas.util.testing import assert_frame_equal\n",
      "........\n",
      "----------------------------------------------------------------------\n",
      "Ran 8 tests in 0.124s\n",
      "\n",
      "OK\n"
     ]
    }
   ],
   "source": [
    "%run ../tests/test_algorithms.py"
   ]
  },
  {
   "cell_type": "code",
   "execution_count": 3,
   "metadata": {},
   "outputs": [
    {
     "name": "stderr",
     "output_type": "stream",
     "text": [
      "...............\n",
      "----------------------------------------------------------------------\n",
      "Ran 15 tests in 0.054s\n",
      "\n",
      "OK\n"
     ]
    }
   ],
   "source": [
    "%run ../tests/test_dataloader.py"
   ]
  },
  {
   "cell_type": "code",
   "execution_count": 4,
   "metadata": {},
   "outputs": [
    {
     "name": "stderr",
     "output_type": "stream",
     "text": [
      ".\n",
      "----------------------------------------------------------------------\n",
      "Ran 1 test in 0.010s\n",
      "\n",
      "OK\n"
     ]
    }
   ],
   "source": [
    "%run ../tests/test_predictors.py"
   ]
  },
  {
   "cell_type": "markdown",
   "metadata": {},
   "source": [
    "## Running example of the system"
   ]
  },
  {
   "cell_type": "code",
   "execution_count": 5,
   "metadata": {},
   "outputs": [],
   "source": [
    "%run ../tools/algorithms.py"
   ]
  },
  {
   "cell_type": "code",
   "execution_count": 6,
   "metadata": {},
   "outputs": [],
   "source": [
    "%run ../tools/dataloader.py"
   ]
  },
  {
   "cell_type": "code",
   "execution_count": 7,
   "metadata": {},
   "outputs": [],
   "source": [
    "test = DataLoader('aapl', '2005-02-01', '2010-02-10')"
   ]
  },
  {
   "cell_type": "code",
   "execution_count": 8,
   "metadata": {},
   "outputs": [],
   "source": [
    "prices = test.get_close()"
   ]
  },
  {
   "cell_type": "code",
   "execution_count": 9,
   "metadata": {},
   "outputs": [
    {
     "data": {
      "text/html": [
       "<div>\n",
       "<style scoped>\n",
       "    .dataframe tbody tr th:only-of-type {\n",
       "        vertical-align: middle;\n",
       "    }\n",
       "\n",
       "    .dataframe tbody tr th {\n",
       "        vertical-align: top;\n",
       "    }\n",
       "\n",
       "    .dataframe thead th {\n",
       "        text-align: right;\n",
       "    }\n",
       "</style>\n",
       "<table border=\"1\" class=\"dataframe\">\n",
       "  <thead>\n",
       "    <tr style=\"text-align: right;\">\n",
       "      <th></th>\n",
       "      <th>Close</th>\n",
       "    </tr>\n",
       "    <tr>\n",
       "      <th>Date</th>\n",
       "      <th></th>\n",
       "    </tr>\n",
       "  </thead>\n",
       "  <tbody>\n",
       "    <tr>\n",
       "      <th>2005-02-01</th>\n",
       "      <td>1.384464</td>\n",
       "    </tr>\n",
       "    <tr>\n",
       "      <th>2005-02-02</th>\n",
       "      <td>1.421964</td>\n",
       "    </tr>\n",
       "    <tr>\n",
       "      <th>2005-02-03</th>\n",
       "      <td>1.389464</td>\n",
       "    </tr>\n",
       "    <tr>\n",
       "      <th>2005-02-04</th>\n",
       "      <td>1.407857</td>\n",
       "    </tr>\n",
       "    <tr>\n",
       "      <th>2005-02-07</th>\n",
       "      <td>1.409643</td>\n",
       "    </tr>\n",
       "    <tr>\n",
       "      <th>...</th>\n",
       "      <td>...</td>\n",
       "    </tr>\n",
       "    <tr>\n",
       "      <th>2010-02-04</th>\n",
       "      <td>6.858929</td>\n",
       "    </tr>\n",
       "    <tr>\n",
       "      <th>2010-02-05</th>\n",
       "      <td>6.980714</td>\n",
       "    </tr>\n",
       "    <tr>\n",
       "      <th>2010-02-08</th>\n",
       "      <td>6.932857</td>\n",
       "    </tr>\n",
       "    <tr>\n",
       "      <th>2010-02-09</th>\n",
       "      <td>7.006786</td>\n",
       "    </tr>\n",
       "    <tr>\n",
       "      <th>2010-02-10</th>\n",
       "      <td>6.968571</td>\n",
       "    </tr>\n",
       "  </tbody>\n",
       "</table>\n",
       "<p>1266 rows × 1 columns</p>\n",
       "</div>"
      ],
      "text/plain": [
       "               Close\n",
       "Date                \n",
       "2005-02-01  1.384464\n",
       "2005-02-02  1.421964\n",
       "2005-02-03  1.389464\n",
       "2005-02-04  1.407857\n",
       "2005-02-07  1.409643\n",
       "...              ...\n",
       "2010-02-04  6.858929\n",
       "2010-02-05  6.980714\n",
       "2010-02-08  6.932857\n",
       "2010-02-09  7.006786\n",
       "2010-02-10  6.968571\n",
       "\n",
       "[1266 rows x 1 columns]"
      ]
     },
     "execution_count": 9,
     "metadata": {},
     "output_type": "execute_result"
    }
   ],
   "source": [
    "prices"
   ]
  },
  {
   "cell_type": "code",
   "execution_count": null,
   "metadata": {},
   "outputs": [],
   "source": [
    "#prices = np.array(prices)\n",
    "#len(prices)"
   ]
  },
  {
   "cell_type": "code",
   "execution_count": null,
   "metadata": {},
   "outputs": [],
   "source": [
    "prices"
   ]
  },
  {
   "cell_type": "code",
   "execution_count": 12,
   "metadata": {},
   "outputs": [],
   "source": [
    "%run ../tools/predictors.py"
   ]
  },
  {
   "cell_type": "code",
   "execution_count": 13,
   "metadata": {},
   "outputs": [],
   "source": [
    "op0 = BasicUnivariatePredictor(prices, 25, 7)\n",
    "op1 = BasicUnivariatePredictor(prices, 25, 7)\n",
    "op2 = BasicUnivariatePredictor(prices, 25, 7)\n",
    "op3 = BasicUnivariatePredictor(prices, 25, 7)"
   ]
  },
  {
   "cell_type": "code",
   "execution_count": 14,
   "metadata": {},
   "outputs": [],
   "source": [
    "op0.create_bilstm()"
   ]
  },
  {
   "cell_type": "code",
   "execution_count": 15,
   "metadata": {},
   "outputs": [
    {
     "name": "stdout",
     "output_type": "stream",
     "text": [
      "Model: \"sequential\"\n",
      "_________________________________________________________________\n",
      "Layer (type)                 Output Shape              Param #   \n",
      "=================================================================\n",
      "bidirectional (Bidirectional (None, 25, 100)           20800     \n",
      "_________________________________________________________________\n",
      "lstm_1 (LSTM)                (None, 50)                30200     \n",
      "_________________________________________________________________\n",
      "dense (Dense)                (None, 7)                 357       \n",
      "=================================================================\n",
      "Total params: 51,357\n",
      "Trainable params: 51,357\n",
      "Non-trainable params: 0\n",
      "_________________________________________________________________\n"
     ]
    }
   ],
   "source": [
    "op0.model_blueprint()"
   ]
  },
  {
   "cell_type": "code",
   "execution_count": 16,
   "metadata": {},
   "outputs": [
    {
     "name": "stdout",
     "output_type": "stream",
     "text": [
      "Epoch 1/10\n",
      "99/99 [==============================] - 2s 21ms/step - loss: 1.8863 - mean_squared_error: 1.8863 - val_loss: 0.2391 - val_mean_squared_error: 0.2391\n",
      "Epoch 2/10\n",
      "99/99 [==============================] - 2s 19ms/step - loss: 0.1468 - mean_squared_error: 0.1468 - val_loss: 0.3045 - val_mean_squared_error: 0.3045\n",
      "Epoch 3/10\n",
      "99/99 [==============================] - 2s 16ms/step - loss: 0.1350 - mean_squared_error: 0.1350 - val_loss: 0.3455 - val_mean_squared_error: 0.3455\n",
      "Epoch 4/10\n",
      "99/99 [==============================] - 2s 17ms/step - loss: 0.1057 - mean_squared_error: 0.1057 - val_loss: 0.1459 - val_mean_squared_error: 0.1459\n",
      "Epoch 5/10\n",
      "99/99 [==============================] - 2s 17ms/step - loss: 0.0964 - mean_squared_error: 0.0964 - val_loss: 0.2920 - val_mean_squared_error: 0.2920\n",
      "Epoch 6/10\n",
      "99/99 [==============================] - 2s 15ms/step - loss: 0.0818 - mean_squared_error: 0.0818 - val_loss: 0.0876 - val_mean_squared_error: 0.0876\n",
      "Epoch 7/10\n",
      "99/99 [==============================] - 2s 16ms/step - loss: 0.0795 - mean_squared_error: 0.0795 - val_loss: 0.1389 - val_mean_squared_error: 0.1389\n",
      "Epoch 8/10\n",
      "99/99 [==============================] - 2s 17ms/step - loss: 0.0739 - mean_squared_error: 0.0739 - val_loss: 0.1151 - val_mean_squared_error: 0.1151\n",
      "Epoch 9/10\n",
      "99/99 [==============================] - 2s 17ms/step - loss: 0.0746 - mean_squared_error: 0.0746 - val_loss: 0.0899 - val_mean_squared_error: 0.0899\n",
      "Epoch 10/10\n",
      "99/99 [==============================] - 2s 17ms/step - loss: 0.0741 - mean_squared_error: 0.0741 - val_loss: 0.1748 - val_mean_squared_error: 0.1748\n"
     ]
    },
    {
     "data": {
      "text/plain": [
       "<tensorflow.python.keras.callbacks.History at 0x207a3315a90>"
      ]
     },
     "execution_count": 16,
     "metadata": {},
     "output_type": "execute_result"
    }
   ],
   "source": [
    "op0.fit_model(10)"
   ]
  },
  {
   "cell_type": "code",
   "execution_count": 17,
   "metadata": {},
   "outputs": [
    {
     "data": {
      "image/png": "[encoded data removed]",
      "text/plain": [
       "<Figure size 432x288 with 2 Axes>"
      ]
     },
     "metadata": {
      "needs_background": "light"
     },
     "output_type": "display_data"
    }
   ],
   "source": [
    "op0.show_performance()"
   ]
  },
  {
   "cell_type": "code",
   "execution_count": 18,
   "metadata": {},
   "outputs": [],
   "source": [
    "oyea = prices[-26:-1]\n",
    "#oyea = X[-1]\n",
    "#oyea"
   ]
  },
  {
   "cell_type": "code",
   "execution_count": 19,
   "metadata": {},
   "outputs": [
    {
     "data": {
      "text/plain": [
       "array([[6.746084 , 6.6203723, 6.473043 , 6.5076604, 6.279044 , 6.372485 ,\n",
       "        6.3308783]], dtype=float32)"
      ]
     },
     "execution_count": 19,
     "metadata": {},
     "output_type": "execute_result"
    }
   ],
   "source": [
    "nice = op0.predict(oyea)\n",
    "nice"
   ]
  },
  {
   "cell_type": "code",
   "execution_count": null,
   "metadata": {},
   "outputs": [],
   "source": [
    "op1.create_lstm()"
   ]
  },
  {
   "cell_type": "code",
   "execution_count": null,
   "metadata": {},
   "outputs": [],
   "source": [
    "op1.model_blueprint()"
   ]
  },
  {
   "cell_type": "code",
   "execution_count": null,
   "metadata": {},
   "outputs": [],
   "source": [
    "op1.fit_model(10)"
   ]
  },
  {
   "cell_type": "code",
   "execution_count": null,
   "metadata": {},
   "outputs": [],
   "source": [
    "op1.show_performance()"
   ]
  },
  {
   "cell_type": "code",
   "execution_count": null,
   "metadata": {},
   "outputs": [],
   "source": [
    "nice = op1.predict(oyea)\n",
    "nice"
   ]
  },
  {
   "cell_type": "code",
   "execution_count": null,
   "metadata": {},
   "outputs": [],
   "source": [
    "op2.create_cnn()"
   ]
  },
  {
   "cell_type": "code",
   "execution_count": null,
   "metadata": {},
   "outputs": [],
   "source": [
    "op2.model_blueprint()"
   ]
  },
  {
   "cell_type": "code",
   "execution_count": null,
   "metadata": {},
   "outputs": [],
   "source": [
    "op2.fit_model(10)"
   ]
  },
  {
   "cell_type": "code",
   "execution_count": null,
   "metadata": {},
   "outputs": [],
   "source": [
    "op2.show_performance()"
   ]
  },
  {
   "cell_type": "code",
   "execution_count": null,
   "metadata": {},
   "outputs": [],
   "source": [
    "nice = op2.predict(oyea)\n",
    "nice"
   ]
  },
  {
   "cell_type": "code",
   "execution_count": 20,
   "metadata": {},
   "outputs": [],
   "source": [
    "op3.create_mlp()"
   ]
  },
  {
   "cell_type": "code",
   "execution_count": 21,
   "metadata": {},
   "outputs": [
    {
     "name": "stdout",
     "output_type": "stream",
     "text": [
      "Model: \"sequential_1\"\n",
      "_________________________________________________________________\n",
      "Layer (type)                 Output Shape              Param #   \n",
      "=================================================================\n",
      "dense_1 (Dense)              (None, 50)                1300      \n",
      "_________________________________________________________________\n",
      "dense_2 (Dense)              (None, 25)                1275      \n",
      "_________________________________________________________________\n",
      "dense_3 (Dense)              (None, 25)                650       \n",
      "_________________________________________________________________\n",
      "dense_4 (Dense)              (None, 7)                 182       \n",
      "=================================================================\n",
      "Total params: 3,407\n",
      "Trainable params: 3,407\n",
      "Non-trainable params: 0\n",
      "_________________________________________________________________\n"
     ]
    }
   ],
   "source": [
    "op3.model_blueprint()"
   ]
  },
  {
   "cell_type": "code",
   "execution_count": 22,
   "metadata": {},
   "outputs": [
    {
     "name": "stdout",
     "output_type": "stream",
     "text": [
      "Epoch 1/100\n",
      "99/99 [==============================] - 0s 3ms/step - loss: 2.1708 - mean_squared_error: 2.1708 - val_loss: 0.1418 - val_mean_squared_error: 0.1418\n",
      "Epoch 2/100\n",
      "99/99 [==============================] - 0s 2ms/step - loss: 0.1515 - mean_squared_error: 0.1515 - val_loss: 0.1007 - val_mean_squared_error: 0.1007\n",
      "Epoch 3/100\n",
      "99/99 [==============================] - 0s 2ms/step - loss: 0.1316 - mean_squared_error: 0.1316 - val_loss: 0.1087 - val_mean_squared_error: 0.1087\n",
      "Epoch 4/100\n",
      "99/99 [==============================] - 0s 1ms/step - loss: 0.1130 - mean_squared_error: 0.1130 - val_loss: 0.3129 - val_mean_squared_error: 0.3129\n",
      "Epoch 5/100\n",
      "99/99 [==============================] - 0s 1ms/step - loss: 0.1062 - mean_squared_error: 0.1062 - val_loss: 0.0743 - val_mean_squared_error: 0.0743\n",
      "Epoch 6/100\n",
      "99/99 [==============================] - 0s 1ms/step - loss: 0.0929 - mean_squared_error: 0.0929 - val_loss: 0.0966 - val_mean_squared_error: 0.0966\n",
      "Epoch 7/100\n",
      "99/99 [==============================] - 0s 2ms/step - loss: 0.0954 - mean_squared_error: 0.0954 - val_loss: 0.0722 - val_mean_squared_error: 0.0722\n",
      "Epoch 8/100\n",
      "99/99 [==============================] - 0s 2ms/step - loss: 0.0861 - mean_squared_error: 0.0861 - val_loss: 0.1067 - val_mean_squared_error: 0.1067\n",
      "Epoch 9/100\n",
      "99/99 [==============================] - 0s 1ms/step - loss: 0.0838 - mean_squared_error: 0.0838 - val_loss: 0.1340 - val_mean_squared_error: 0.1340\n",
      "Epoch 10/100\n",
      "99/99 [==============================] - 0s 1ms/step - loss: 0.0862 - mean_squared_error: 0.0862 - val_loss: 0.1382 - val_mean_squared_error: 0.1382\n",
      "Epoch 11/100\n",
      "99/99 [==============================] - 0s 1ms/step - loss: 0.0803 - mean_squared_error: 0.0803 - val_loss: 0.0834 - val_mean_squared_error: 0.0834\n",
      "Epoch 12/100\n",
      "99/99 [==============================] - 0s 1ms/step - loss: 0.0828 - mean_squared_error: 0.0828 - val_loss: 0.0637 - val_mean_squared_error: 0.0637\n",
      "Epoch 13/100\n",
      "99/99 [==============================] - 0s 1ms/step - loss: 0.0759 - mean_squared_error: 0.0759 - val_loss: 0.1192 - val_mean_squared_error: 0.1192\n",
      "Epoch 14/100\n",
      "99/99 [==============================] - 0s 1ms/step - loss: 0.0746 - mean_squared_error: 0.0746 - val_loss: 0.0631 - val_mean_squared_error: 0.0631\n",
      "Epoch 15/100\n",
      "99/99 [==============================] - 0s 1ms/step - loss: 0.0712 - mean_squared_error: 0.0712 - val_loss: 0.0620 - val_mean_squared_error: 0.0620\n",
      "Epoch 16/100\n",
      "99/99 [==============================] - 0s 1ms/step - loss: 0.0755 - mean_squared_error: 0.0755 - val_loss: 0.0829 - val_mean_squared_error: 0.0829\n",
      "Epoch 17/100\n",
      "99/99 [==============================] - 0s 1ms/step - loss: 0.0811 - mean_squared_error: 0.0811 - val_loss: 0.0658 - val_mean_squared_error: 0.0658\n",
      "Epoch 18/100\n",
      "99/99 [==============================] - 0s 1ms/step - loss: 0.0670 - mean_squared_error: 0.0670 - val_loss: 0.0677 - val_mean_squared_error: 0.0677\n",
      "Epoch 19/100\n",
      "99/99 [==============================] - 0s 1ms/step - loss: 0.0730 - mean_squared_error: 0.0730 - val_loss: 0.2211 - val_mean_squared_error: 0.2211\n",
      "Epoch 20/100\n",
      "99/99 [==============================] - 0s 2ms/step - loss: 0.0730 - mean_squared_error: 0.0730 - val_loss: 0.0619 - val_mean_squared_error: 0.0619\n",
      "Epoch 21/100\n",
      "99/99 [==============================] - ETA: 0s - loss: 0.0656 - mean_squared_error: 0.06 - 0s 1ms/step - loss: 0.0674 - mean_squared_error: 0.0674 - val_loss: 0.0928 - val_mean_squared_error: 0.0928\n",
      "Epoch 22/100\n",
      "99/99 [==============================] - 0s 1ms/step - loss: 0.0699 - mean_squared_error: 0.0699 - val_loss: 0.1261 - val_mean_squared_error: 0.1261\n",
      "Epoch 23/100\n",
      "99/99 [==============================] - 0s 1ms/step - loss: 0.0691 - mean_squared_error: 0.0691 - val_loss: 0.0958 - val_mean_squared_error: 0.0958\n",
      "Epoch 24/100\n",
      "99/99 [==============================] - 0s 1ms/step - loss: 0.0724 - mean_squared_error: 0.0724 - val_loss: 0.0617 - val_mean_squared_error: 0.0617\n",
      "Epoch 25/100\n",
      "99/99 [==============================] - 0s 2ms/step - loss: 0.0679 - mean_squared_error: 0.0679 - val_loss: 0.0719 - val_mean_squared_error: 0.0719\n",
      "Epoch 26/100\n",
      "99/99 [==============================] - 0s 2ms/step - loss: 0.0712 - mean_squared_error: 0.0712 - val_loss: 0.0651 - val_mean_squared_error: 0.0651\n",
      "Epoch 27/100\n",
      "99/99 [==============================] - 0s 1ms/step - loss: 0.0669 - mean_squared_error: 0.0669 - val_loss: 0.0564 - val_mean_squared_error: 0.0564\n",
      "Epoch 28/100\n",
      "99/99 [==============================] - 0s 1ms/step - loss: 0.0678 - mean_squared_error: 0.0678 - val_loss: 0.0808 - val_mean_squared_error: 0.0808\n",
      "Epoch 29/100\n",
      "99/99 [==============================] - 0s 1ms/step - loss: 0.0725 - mean_squared_error: 0.0725 - val_loss: 0.0885 - val_mean_squared_error: 0.0885\n",
      "Epoch 30/100\n",
      "99/99 [==============================] - 0s 1ms/step - loss: 0.0731 - mean_squared_error: 0.0731 - val_loss: 0.1370 - val_mean_squared_error: 0.1370\n",
      "Epoch 31/100\n",
      "99/99 [==============================] - ETA: 0s - loss: 0.0727 - mean_squared_error: 0.07 - 0s 1ms/step - loss: 0.0727 - mean_squared_error: 0.0727 - val_loss: 0.0783 - val_mean_squared_error: 0.0783\n",
      "Epoch 32/100\n",
      "99/99 [==============================] - 0s 1ms/step - loss: 0.0647 - mean_squared_error: 0.0647 - val_loss: 0.0797 - val_mean_squared_error: 0.0797\n",
      "Epoch 33/100\n",
      "99/99 [==============================] - 0s 1ms/step - loss: 0.0643 - mean_squared_error: 0.0643 - val_loss: 0.0899 - val_mean_squared_error: 0.0899\n",
      "Epoch 34/100\n",
      "99/99 [==============================] - 0s 2ms/step - loss: 0.0668 - mean_squared_error: 0.0668 - val_loss: 0.0580 - val_mean_squared_error: 0.0580\n",
      "Epoch 35/100\n",
      "99/99 [==============================] - 0s 1ms/step - loss: 0.0657 - mean_squared_error: 0.0657 - val_loss: 0.0999 - val_mean_squared_error: 0.0999\n",
      "Epoch 36/100\n",
      "99/99 [==============================] - 0s 2ms/step - loss: 0.0633 - mean_squared_error: 0.0633 - val_loss: 0.0722 - val_mean_squared_error: 0.0722\n",
      "Epoch 37/100\n",
      "99/99 [==============================] - 0s 1ms/step - loss: 0.0598 - mean_squared_error: 0.0598 - val_loss: 0.0911 - val_mean_squared_error: 0.0911\n",
      "Epoch 38/100\n",
      "99/99 [==============================] - 0s 1ms/step - loss: 0.0640 - mean_squared_error: 0.0640 - val_loss: 0.0902 - val_mean_squared_error: 0.0902\n",
      "Epoch 39/100\n",
      "99/99 [==============================] - 0s 1ms/step - loss: 0.0651 - mean_squared_error: 0.0651 - val_loss: 0.0535 - val_mean_squared_error: 0.0535\n",
      "Epoch 40/100\n",
      "99/99 [==============================] - 0s 2ms/step - loss: 0.0602 - mean_squared_error: 0.0602 - val_loss: 0.0523 - val_mean_squared_error: 0.0523\n",
      "Epoch 41/100\n",
      "99/99 [==============================] - 0s 1ms/step - loss: 0.0596 - mean_squared_error: 0.0596 - val_loss: 0.0728 - val_mean_squared_error: 0.0728\n",
      "Epoch 42/100\n",
      "99/99 [==============================] - 0s 1ms/step - loss: 0.0668 - mean_squared_error: 0.0668 - val_loss: 0.1141 - val_mean_squared_error: 0.1141\n",
      "Epoch 43/100\n",
      "99/99 [==============================] - 0s 1ms/step - loss: 0.0654 - mean_squared_error: 0.0654 - val_loss: 0.0574 - val_mean_squared_error: 0.0574\n",
      "Epoch 44/100\n",
      "99/99 [==============================] - 0s 1ms/step - loss: 0.0687 - mean_squared_error: 0.0687 - val_loss: 0.0531 - val_mean_squared_error: 0.0531\n",
      "Epoch 45/100\n",
      "99/99 [==============================] - 0s 1ms/step - loss: 0.0641 - mean_squared_error: 0.0641 - val_loss: 0.0544 - val_mean_squared_error: 0.0544\n",
      "Epoch 46/100\n",
      "99/99 [==============================] - 0s 2ms/step - loss: 0.0589 - mean_squared_error: 0.0589 - val_loss: 0.0626 - val_mean_squared_error: 0.0626\n",
      "Epoch 47/100\n",
      "99/99 [==============================] - 0s 1ms/step - loss: 0.0618 - mean_squared_error: 0.0618 - val_loss: 0.0675 - val_mean_squared_error: 0.0675\n",
      "Epoch 48/100\n",
      "99/99 [==============================] - 0s 1ms/step - loss: 0.0605 - mean_squared_error: 0.0605 - val_loss: 0.0542 - val_mean_squared_error: 0.0542\n",
      "Epoch 49/100\n",
      "99/99 [==============================] - 0s 1ms/step - loss: 0.0647 - mean_squared_error: 0.0647 - val_loss: 0.0579 - val_mean_squared_error: 0.0579\n",
      "Epoch 50/100\n",
      "99/99 [==============================] - 0s 1ms/step - loss: 0.0596 - mean_squared_error: 0.0596 - val_loss: 0.0641 - val_mean_squared_error: 0.0641\n"
     ]
    },
    {
     "name": "stdout",
     "output_type": "stream",
     "text": [
      "Epoch 51/100\n",
      "99/99 [==============================] - 0s 1ms/step - loss: 0.0672 - mean_squared_error: 0.0672 - val_loss: 0.0938 - val_mean_squared_error: 0.0938\n",
      "Epoch 52/100\n",
      "99/99 [==============================] - 0s 1ms/step - loss: 0.0630 - mean_squared_error: 0.0630 - val_loss: 0.0756 - val_mean_squared_error: 0.0756\n",
      "Epoch 53/100\n",
      "99/99 [==============================] - 0s 1ms/step - loss: 0.0610 - mean_squared_error: 0.0610 - val_loss: 0.0958 - val_mean_squared_error: 0.0958\n",
      "Epoch 54/100\n",
      "99/99 [==============================] - 0s 1ms/step - loss: 0.0645 - mean_squared_error: 0.0645 - val_loss: 0.0958 - val_mean_squared_error: 0.0958\n",
      "Epoch 55/100\n",
      "99/99 [==============================] - 0s 1ms/step - loss: 0.0580 - mean_squared_error: 0.0580 - val_loss: 0.0510 - val_mean_squared_error: 0.0510\n",
      "Epoch 56/100\n",
      "99/99 [==============================] - 0s 1ms/step - loss: 0.0615 - mean_squared_error: 0.0615 - val_loss: 0.1776 - val_mean_squared_error: 0.1776\n",
      "Epoch 57/100\n",
      "99/99 [==============================] - 0s 1ms/step - loss: 0.0694 - mean_squared_error: 0.0694 - val_loss: 0.0662 - val_mean_squared_error: 0.0662\n",
      "Epoch 58/100\n",
      "99/99 [==============================] - 0s 1ms/step - loss: 0.0661 - mean_squared_error: 0.0661 - val_loss: 0.0528 - val_mean_squared_error: 0.0528\n",
      "Epoch 59/100\n",
      "99/99 [==============================] - 0s 2ms/step - loss: 0.0616 - mean_squared_error: 0.0616 - val_loss: 0.0695 - val_mean_squared_error: 0.0695\n",
      "Epoch 60/100\n",
      "99/99 [==============================] - 0s 1ms/step - loss: 0.0632 - mean_squared_error: 0.0632 - val_loss: 0.0553 - val_mean_squared_error: 0.0553\n",
      "Epoch 61/100\n",
      "99/99 [==============================] - 0s 1ms/step - loss: 0.0564 - mean_squared_error: 0.0564 - val_loss: 0.0707 - val_mean_squared_error: 0.0707\n",
      "Epoch 62/100\n",
      "99/99 [==============================] - 0s 1ms/step - loss: 0.0574 - mean_squared_error: 0.0574 - val_loss: 0.0618 - val_mean_squared_error: 0.0618\n",
      "Epoch 63/100\n",
      "99/99 [==============================] - 0s 2ms/step - loss: 0.0582 - mean_squared_error: 0.0582 - val_loss: 0.0816 - val_mean_squared_error: 0.0816\n",
      "Epoch 64/100\n",
      "99/99 [==============================] - 0s 2ms/step - loss: 0.0685 - mean_squared_error: 0.0685 - val_loss: 0.0838 - val_mean_squared_error: 0.0838\n",
      "Epoch 65/100\n",
      "99/99 [==============================] - 0s 1ms/step - loss: 0.0629 - mean_squared_error: 0.0629 - val_loss: 0.1654 - val_mean_squared_error: 0.1654\n",
      "Epoch 66/100\n",
      "99/99 [==============================] - 0s 2ms/step - loss: 0.0586 - mean_squared_error: 0.0586 - val_loss: 0.1382 - val_mean_squared_error: 0.1382\n",
      "Epoch 67/100\n",
      "99/99 [==============================] - 0s 2ms/step - loss: 0.0623 - mean_squared_error: 0.0623 - val_loss: 0.0992 - val_mean_squared_error: 0.0992\n",
      "Epoch 68/100\n",
      "99/99 [==============================] - 0s 1ms/step - loss: 0.0643 - mean_squared_error: 0.0643 - val_loss: 0.0593 - val_mean_squared_error: 0.0593\n",
      "Epoch 69/100\n",
      "99/99 [==============================] - 0s 1ms/step - loss: 0.0553 - mean_squared_error: 0.0553 - val_loss: 0.0554 - val_mean_squared_error: 0.0554\n",
      "Epoch 70/100\n",
      "99/99 [==============================] - 0s 1ms/step - loss: 0.0593 - mean_squared_error: 0.0593 - val_loss: 0.0676 - val_mean_squared_error: 0.0676\n",
      "Epoch 71/100\n",
      "99/99 [==============================] - 0s 2ms/step - loss: 0.0576 - mean_squared_error: 0.0576 - val_loss: 0.0603 - val_mean_squared_error: 0.0603\n",
      "Epoch 72/100\n",
      "99/99 [==============================] - 0s 1ms/step - loss: 0.0537 - mean_squared_error: 0.0537 - val_loss: 0.0624 - val_mean_squared_error: 0.0624\n",
      "Epoch 73/100\n",
      "99/99 [==============================] - 0s 1ms/step - loss: 0.0589 - mean_squared_error: 0.0589 - val_loss: 0.0980 - val_mean_squared_error: 0.0980\n",
      "Epoch 74/100\n",
      "99/99 [==============================] - 0s 1ms/step - loss: 0.0547 - mean_squared_error: 0.0547 - val_loss: 0.0495 - val_mean_squared_error: 0.0495\n",
      "Epoch 75/100\n",
      "99/99 [==============================] - 0s 1ms/step - loss: 0.0619 - mean_squared_error: 0.0619 - val_loss: 0.0914 - val_mean_squared_error: 0.0914\n",
      "Epoch 76/100\n",
      "99/99 [==============================] - 0s 2ms/step - loss: 0.0562 - mean_squared_error: 0.0562 - val_loss: 0.0669 - val_mean_squared_error: 0.0669\n",
      "Epoch 77/100\n",
      "99/99 [==============================] - 0s 1ms/step - loss: 0.0659 - mean_squared_error: 0.0659 - val_loss: 0.0870 - val_mean_squared_error: 0.0870\n",
      "Epoch 78/100\n",
      "99/99 [==============================] - 0s 1ms/step - loss: 0.0579 - mean_squared_error: 0.0579 - val_loss: 0.0511 - val_mean_squared_error: 0.0511\n",
      "Epoch 79/100\n",
      "99/99 [==============================] - 0s 1ms/step - loss: 0.0542 - mean_squared_error: 0.0542 - val_loss: 0.0650 - val_mean_squared_error: 0.0650\n",
      "Epoch 80/100\n",
      "99/99 [==============================] - 0s 2ms/step - loss: 0.0607 - mean_squared_error: 0.0607 - val_loss: 0.0530 - val_mean_squared_error: 0.0530\n",
      "Epoch 81/100\n",
      "99/99 [==============================] - 0s 1ms/step - loss: 0.0607 - mean_squared_error: 0.0607 - val_loss: 0.0536 - val_mean_squared_error: 0.0536\n",
      "Epoch 82/100\n",
      "99/99 [==============================] - 0s 1ms/step - loss: 0.0583 - mean_squared_error: 0.0583 - val_loss: 0.0592 - val_mean_squared_error: 0.0592\n",
      "Epoch 83/100\n",
      "99/99 [==============================] - 0s 1ms/step - loss: 0.0539 - mean_squared_error: 0.0539 - val_loss: 0.0539 - val_mean_squared_error: 0.0539\n",
      "Epoch 84/100\n",
      "99/99 [==============================] - 0s 2ms/step - loss: 0.0596 - mean_squared_error: 0.0596 - val_loss: 0.0852 - val_mean_squared_error: 0.0852\n",
      "Epoch 85/100\n",
      "99/99 [==============================] - 0s 1ms/step - loss: 0.0560 - mean_squared_error: 0.0560 - val_loss: 0.0577 - val_mean_squared_error: 0.0577\n",
      "Epoch 86/100\n",
      "99/99 [==============================] - 0s 1ms/step - loss: 0.0576 - mean_squared_error: 0.0576 - val_loss: 0.1205 - val_mean_squared_error: 0.1205\n",
      "Epoch 87/100\n",
      "99/99 [==============================] - 0s 1ms/step - loss: 0.0570 - mean_squared_error: 0.0570 - val_loss: 0.0525 - val_mean_squared_error: 0.0525\n",
      "Epoch 88/100\n",
      "99/99 [==============================] - 0s 1ms/step - loss: 0.0568 - mean_squared_error: 0.0568 - val_loss: 0.1512 - val_mean_squared_error: 0.1512\n",
      "Epoch 89/100\n",
      "99/99 [==============================] - 0s 1ms/step - loss: 0.0556 - mean_squared_error: 0.0556 - val_loss: 0.0618 - val_mean_squared_error: 0.0618\n",
      "Epoch 90/100\n",
      "99/99 [==============================] - 0s 1ms/step - loss: 0.0570 - mean_squared_error: 0.0570 - val_loss: 0.0501 - val_mean_squared_error: 0.0501\n",
      "Epoch 91/100\n",
      "99/99 [==============================] - 0s 1ms/step - loss: 0.0596 - mean_squared_error: 0.0596 - val_loss: 0.0490 - val_mean_squared_error: 0.0490\n",
      "Epoch 92/100\n",
      "99/99 [==============================] - 0s 2ms/step - loss: 0.0569 - mean_squared_error: 0.0569 - val_loss: 0.0966 - val_mean_squared_error: 0.0966\n",
      "Epoch 93/100\n",
      "99/99 [==============================] - 0s 1ms/step - loss: 0.0544 - mean_squared_error: 0.0544 - val_loss: 0.0957 - val_mean_squared_error: 0.0957\n",
      "Epoch 94/100\n",
      "99/99 [==============================] - 0s 1ms/step - loss: 0.0618 - mean_squared_error: 0.0618 - val_loss: 0.0616 - val_mean_squared_error: 0.0616\n",
      "Epoch 95/100\n",
      "99/99 [==============================] - 0s 1ms/step - loss: 0.0576 - mean_squared_error: 0.0576 - val_loss: 0.0521 - val_mean_squared_error: 0.0521\n",
      "Epoch 96/100\n",
      "99/99 [==============================] - 0s 1ms/step - loss: 0.0595 - mean_squared_error: 0.0595 - val_loss: 0.1589 - val_mean_squared_error: 0.1589\n",
      "Epoch 97/100\n",
      "99/99 [==============================] - 0s 1ms/step - loss: 0.0573 - mean_squared_error: 0.0573 - val_loss: 0.0637 - val_mean_squared_error: 0.0637\n",
      "Epoch 98/100\n",
      "99/99 [==============================] - 0s 1ms/step - loss: 0.0606 - mean_squared_error: 0.0606 - val_loss: 0.0541 - val_mean_squared_error: 0.0541\n",
      "Epoch 99/100\n",
      "99/99 [==============================] - 0s 1ms/step - loss: 0.0560 - mean_squared_error: 0.0560 - val_loss: 0.0579 - val_mean_squared_error: 0.0579\n",
      "Epoch 100/100\n",
      "99/99 [==============================] - 0s 1ms/step - loss: 0.0557 - mean_squared_error: 0.0557 - val_loss: 0.0562 - val_mean_squared_error: 0.0562\n"
     ]
    },
    {
     "data": {
      "text/plain": [
       "<tensorflow.python.keras.callbacks.History at 0x207aa4b71c0>"
      ]
     },
     "execution_count": 22,
     "metadata": {},
     "output_type": "execute_result"
    }
   ],
   "source": [
    "op3.fit_model(100)"
   ]
  },
  {
   "cell_type": "code",
   "execution_count": 23,
   "metadata": {},
   "outputs": [
    {
     "data": {
      "image/png": "[encoded data removed]",
      "text/plain": [
       "<Figure size 432x288 with 2 Axes>"
      ]
     },
     "metadata": {
      "needs_background": "light"
     },
     "output_type": "display_data"
    }
   ],
   "source": [
    "op3.show_performance()"
   ]
  },
  {
   "cell_type": "code",
   "execution_count": 24,
   "metadata": {},
   "outputs": [],
   "source": [
    "oyea = prices[-26:-1]\n",
    "#oyea = X[-1]\n",
    "#oyea"
   ]
  },
  {
   "cell_type": "code",
   "execution_count": 25,
   "metadata": {},
   "outputs": [
    {
     "data": {
      "text/plain": [
       "array([[7.11849  , 7.114164 , 7.2216554, 7.1954947, 7.054711 , 7.075408 ,\n",
       "        7.1207924]], dtype=float32)"
      ]
     },
     "execution_count": 25,
     "metadata": {},
     "output_type": "execute_result"
    }
   ],
   "source": [
    "nice = op3.predict(oyea)\n",
    "nice"
   ]
  },
  {
   "cell_type": "code",
   "execution_count": null,
   "metadata": {},
   "outputs": [],
   "source": [
    "%run ../tools/predictorsII.py"
   ]
  },
  {
   "cell_type": "code",
   "execution_count": null,
   "metadata": {},
   "outputs": [],
   "source": [
    "oo = UnivariatePredictorII(prices, 7)"
   ]
  },
  {
   "cell_type": "code",
   "execution_count": null,
   "metadata": {},
   "outputs": [],
   "source": [
    "oo.fit_model(300,\"D\")"
   ]
  },
  {
   "cell_type": "code",
   "execution_count": null,
   "metadata": {},
   "outputs": [],
   "source": [
    "oo.show_performance()"
   ]
  },
  {
   "cell_type": "code",
   "execution_count": null,
   "metadata": {},
   "outputs": [],
   "source": [
    "oo.predict()"
   ]
  },
  {
   "cell_type": "code",
   "execution_count": null,
   "metadata": {},
   "outputs": [],
   "source": []
  }
 ],
 "metadata": {
  "kernelspec": {
   "display_name": "Python 3",
   "language": "python",
   "name": "python3"
  },
  "language_info": {
   "codemirror_mode": {
    "name": "ipython",
    "version": 3
   },
   "file_extension": ".py",
   "mimetype": "text/x-python",
   "name": "python",
   "nbconvert_exporter": "python",
   "pygments_lexer": "ipython3",
   "version": "3.8.1"
  }
 },
 "nbformat": 4,
 "nbformat_minor": 2
}
