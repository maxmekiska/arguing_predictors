{
 "cells": [
  {
   "cell_type": "markdown",
   "metadata": {},
   "source": [
    "# Testing Enviornment"
   ]
  },
  {
   "cell_type": "code",
   "execution_count": 1,
   "metadata": {},
   "outputs": [],
   "source": [
    "import pandas as pd\n",
    "import numpy as np"
   ]
  },
  {
   "cell_type": "markdown",
   "metadata": {},
   "source": [
    "## Running tests"
   ]
  },
  {
   "cell_type": "markdown",
   "metadata": {},
   "source": [
    "The following section unit-tests most of the code written for the proof of concept prototype."
   ]
  },
  {
   "cell_type": "code",
   "execution_count": null,
   "metadata": {
    "scrolled": true
   },
   "outputs": [],
   "source": [
    "%run ../test/test_algorithms.py"
   ]
  },
  {
   "cell_type": "code",
   "execution_count": null,
   "metadata": {},
   "outputs": [],
   "source": [
    "%run ../test/test_dataloader.py"
   ]
  },
  {
   "cell_type": "code",
   "execution_count": null,
   "metadata": {},
   "outputs": [],
   "source": [
    "%run ../test/test_predictorsI.py"
   ]
  },
  {
   "cell_type": "code",
   "execution_count": null,
   "metadata": {},
   "outputs": [],
   "source": [
    "%run ../test/test_predictorsII.py"
   ]
  },
  {
   "cell_type": "markdown",
   "metadata": {},
   "source": [
    "## Running example of the system"
   ]
  },
  {
   "cell_type": "code",
   "execution_count": null,
   "metadata": {},
   "outputs": [],
   "source": [
    "%run ../tools/algorithms.py"
   ]
  },
  {
   "cell_type": "code",
   "execution_count": null,
   "metadata": {},
   "outputs": [],
   "source": [
    "%run ../tools/dataloader.py"
   ]
  },
  {
   "cell_type": "code",
   "execution_count": null,
   "metadata": {},
   "outputs": [],
   "source": [
    "test = DataLoader('aapl', '2009-01-01', '2010-02-10')"
   ]
  },
  {
   "cell_type": "code",
   "execution_count": null,
   "metadata": {},
   "outputs": [],
   "source": [
    "prices = test.get_close()"
   ]
  },
  {
   "cell_type": "code",
   "execution_count": null,
   "metadata": {},
   "outputs": [],
   "source": [
    "prices"
   ]
  },
  {
   "cell_type": "code",
   "execution_count": null,
   "metadata": {},
   "outputs": [],
   "source": [
    "#prices = np.array(prices)\n",
    "#len(prices)"
   ]
  },
  {
   "cell_type": "code",
   "execution_count": null,
   "metadata": {},
   "outputs": [],
   "source": [
    "prices"
   ]
  },
  {
   "cell_type": "code",
   "execution_count": null,
   "metadata": {},
   "outputs": [],
   "source": [
    "%run ../tools/predictorsI.py"
   ]
  },
  {
   "cell_type": "code",
   "execution_count": null,
   "metadata": {},
   "outputs": [],
   "source": [
    "op0 = BasicUnivariatePredictor(prices, 25, 7)\n",
    "op1 = BasicUnivariatePredictor(prices, 25, 7)\n",
    "op2 = BasicUnivariatePredictor(prices, 25, 7)\n",
    "op3 = BasicUnivariatePredictor(prices, 25, 7)"
   ]
  },
  {
   "cell_type": "code",
   "execution_count": null,
   "metadata": {},
   "outputs": [],
   "source": [
    "op0.create_bilstm()"
   ]
  },
  {
   "cell_type": "code",
   "execution_count": null,
   "metadata": {},
   "outputs": [],
   "source": [
    "op0.model_blueprint()"
   ]
  },
  {
   "cell_type": "code",
   "execution_count": null,
   "metadata": {},
   "outputs": [],
   "source": [
    "op0.fit_model(10)"
   ]
  },
  {
   "cell_type": "code",
   "execution_count": null,
   "metadata": {},
   "outputs": [],
   "source": [
    "op0.show_performance()"
   ]
  },
  {
   "cell_type": "code",
   "execution_count": null,
   "metadata": {},
   "outputs": [],
   "source": [
    "oyea = prices[-26:-1]\n",
    "#oyea = X[-1]\n",
    "#oyea"
   ]
  },
  {
   "cell_type": "code",
   "execution_count": null,
   "metadata": {},
   "outputs": [],
   "source": [
    "nice = op0.predict(oyea)\n",
    "nice"
   ]
  },
  {
   "cell_type": "code",
   "execution_count": null,
   "metadata": {},
   "outputs": [],
   "source": [
    "op1.create_lstm()"
   ]
  },
  {
   "cell_type": "code",
   "execution_count": null,
   "metadata": {},
   "outputs": [],
   "source": [
    "op1.model_blueprint()"
   ]
  },
  {
   "cell_type": "code",
   "execution_count": null,
   "metadata": {},
   "outputs": [],
   "source": [
    "op1.fit_model(10)"
   ]
  },
  {
   "cell_type": "code",
   "execution_count": null,
   "metadata": {},
   "outputs": [],
   "source": [
    "op1.show_performance()"
   ]
  },
  {
   "cell_type": "code",
   "execution_count": null,
   "metadata": {},
   "outputs": [],
   "source": [
    "nice = op1.predict(oyea)\n",
    "nice"
   ]
  },
  {
   "cell_type": "code",
   "execution_count": null,
   "metadata": {},
   "outputs": [],
   "source": [
    "op2.create_cnn()"
   ]
  },
  {
   "cell_type": "code",
   "execution_count": null,
   "metadata": {},
   "outputs": [],
   "source": [
    "op2.model_blueprint()"
   ]
  },
  {
   "cell_type": "code",
   "execution_count": null,
   "metadata": {},
   "outputs": [],
   "source": [
    "op2.fit_model(10)"
   ]
  },
  {
   "cell_type": "code",
   "execution_count": null,
   "metadata": {},
   "outputs": [],
   "source": [
    "op2.show_performance()"
   ]
  },
  {
   "cell_type": "code",
   "execution_count": null,
   "metadata": {},
   "outputs": [],
   "source": [
    "nice = op2.predict(oyea)\n",
    "nice"
   ]
  },
  {
   "cell_type": "code",
   "execution_count": null,
   "metadata": {},
   "outputs": [],
   "source": [
    "op3.create_mlp()"
   ]
  },
  {
   "cell_type": "code",
   "execution_count": null,
   "metadata": {},
   "outputs": [],
   "source": [
    "op3.model_blueprint()"
   ]
  },
  {
   "cell_type": "code",
   "execution_count": null,
   "metadata": {},
   "outputs": [],
   "source": [
    "op3.fit_model(100)"
   ]
  },
  {
   "cell_type": "code",
   "execution_count": null,
   "metadata": {},
   "outputs": [],
   "source": [
    "op3.show_performance()"
   ]
  },
  {
   "cell_type": "code",
   "execution_count": null,
   "metadata": {},
   "outputs": [],
   "source": [
    "oyea = prices[-26:-1]\n",
    "#oyea = X[-1]\n",
    "#oyea"
   ]
  },
  {
   "cell_type": "code",
   "execution_count": null,
   "metadata": {},
   "outputs": [],
   "source": [
    "nice = op3.predict(oyea)\n",
    "nice"
   ]
  },
  {
   "cell_type": "code",
   "execution_count": null,
   "metadata": {},
   "outputs": [],
   "source": [
    "%run ../tools/predictorsII.py"
   ]
  },
  {
   "cell_type": "code",
   "execution_count": null,
   "metadata": {},
   "outputs": [],
   "source": [
    "oo = UnivariatePredictorII(prices, 7)"
   ]
  },
  {
   "cell_type": "code",
   "execution_count": null,
   "metadata": {},
   "outputs": [],
   "source": [
    "oo.fit_neural_model(100,\"D\")"
   ]
  },
  {
   "cell_type": "code",
   "execution_count": null,
   "metadata": {
    "scrolled": true
   },
   "outputs": [],
   "source": [
    "oo.show_performance_neural()"
   ]
  },
  {
   "cell_type": "code",
   "execution_count": null,
   "metadata": {
    "scrolled": true
   },
   "outputs": [],
   "source": [
    "oo.predict_neural()"
   ]
  },
  {
   "cell_type": "code",
   "execution_count": null,
   "metadata": {
    "scrolled": false
   },
   "outputs": [],
   "source": [
    "oo.fit_prophet_model()"
   ]
  },
  {
   "cell_type": "code",
   "execution_count": null,
   "metadata": {},
   "outputs": [],
   "source": [
    "oo.show_performance_prophet()"
   ]
  },
  {
   "cell_type": "code",
   "execution_count": null,
   "metadata": {},
   "outputs": [],
   "source": [
    "oo.predict_prophet()"
   ]
  },
  {
   "cell_type": "code",
   "execution_count": null,
   "metadata": {},
   "outputs": [],
   "source": [
    "%run ../tools/predictorsIII.py"
   ]
  },
  {
   "cell_type": "code",
   "execution_count": null,
   "metadata": {},
   "outputs": [],
   "source": [
    "len(prices)"
   ]
  },
  {
   "cell_type": "code",
   "execution_count": null,
   "metadata": {},
   "outputs": [],
   "source": [
    "op4 = HybridUnivariatePredictor(prices,2, 24, 7)"
   ]
  },
  {
   "cell_type": "code",
   "execution_count": null,
   "metadata": {},
   "outputs": [],
   "source": [
    "op4.create_cnnlstm()"
   ]
  },
  {
   "cell_type": "code",
   "execution_count": null,
   "metadata": {},
   "outputs": [],
   "source": [
    "op4.model_blueprint()"
   ]
  },
  {
   "cell_type": "code",
   "execution_count": null,
   "metadata": {},
   "outputs": [],
   "source": [
    "op4.fit_model(10)"
   ]
  },
  {
   "cell_type": "code",
   "execution_count": null,
   "metadata": {},
   "outputs": [],
   "source": [
    "op4.show_performance()"
   ]
  },
  {
   "cell_type": "code",
   "execution_count": null,
   "metadata": {},
   "outputs": [],
   "source": [
    "oyea = prices[-25:-1]\n",
    "#oyea = X[-1]\n",
    "#oyea"
   ]
  },
  {
   "cell_type": "code",
   "execution_count": null,
   "metadata": {},
   "outputs": [],
   "source": [
    "nice = op4.predict(oyea)\n",
    "nice\n",
    "#noice = pd.DataFrame(nice, columns=['yea'])\n",
    "#noice = nice.reshape(20, 1)\n",
    "#noice = pd.DataFrame(noice, columns=['yea'])"
   ]
  },
  {
   "cell_type": "code",
   "execution_count": null,
   "metadata": {},
   "outputs": [],
   "source": [
    "nice.plot()"
   ]
  },
  {
   "cell_type": "markdown",
   "metadata": {},
   "source": [
    "## First whole system test - I am alive"
   ]
  },
  {
   "cell_type": "code",
   "execution_count": 2,
   "metadata": {},
   "outputs": [],
   "source": [
    "%run ../tools/algorithms.py\n",
    "%run ../tools/dataloader.py\n",
    "%run ../tools/predictorsI.py\n",
    "%run ../tools/predictorsII.py\n",
    "%run ../tools/predictorsIII.py"
   ]
  },
  {
   "cell_type": "code",
   "execution_count": 3,
   "metadata": {},
   "outputs": [],
   "source": [
    "training = DataLoader('aapl', '2010-01-01', '2010-05-01')"
   ]
  },
  {
   "cell_type": "code",
   "execution_count": 4,
   "metadata": {},
   "outputs": [],
   "source": [
    "training = training.get_close()"
   ]
  },
  {
   "cell_type": "code",
   "execution_count": 5,
   "metadata": {},
   "outputs": [],
   "source": [
    "predict = DataLoader('aapl', '2010-06-01', '2010-08-01')"
   ]
  },
  {
   "cell_type": "code",
   "execution_count": 6,
   "metadata": {},
   "outputs": [],
   "source": [
    "predict = predict.get_close()"
   ]
  },
  {
   "cell_type": "code",
   "execution_count": 7,
   "metadata": {},
   "outputs": [],
   "source": [
    "def data_prep(df, input_batch_size, future_horizon):\n",
    "    input_b = df[0:input_batch_size]\n",
    "    real_value = df[input_batch_size:input_batch_size + future_horizon]\n",
    "    \n",
    "    return input_b, real_value"
   ]
  },
  {
   "cell_type": "code",
   "execution_count": 8,
   "metadata": {},
   "outputs": [],
   "source": [
    "# future_horizon = length -> days into the future predicted\n",
    "def individual_predictors(training_df, input_batch, future_horizon):\n",
    "    one = HybridUnivariatePredictor(training_df,2, len(input_batch), future_horizon)\n",
    "    one.create_cnnlstm()\n",
    "    one.fit_model(10)\n",
    "    one.show_performance()\n",
    "    \n",
    "    two = BasicUnivariatePredictor(training_df, len(input_batch), future_horizon)\n",
    "    two.create_bilstm()\n",
    "    two.fit_model(10)\n",
    "    two.show_performance()\n",
    "    \n",
    "    \n",
    "    three = BasicUnivariatePredictor(training_df, len(input_batch), future_horizon)\n",
    "    three.create_cnn()\n",
    "    three.fit_model(10)\n",
    "    three.show_performance()\n",
    "    \n",
    "    prediction_one = one.predict(input_batch)\n",
    "    prediction_two = two.predict(input_batch)\n",
    "    prediction_three = three.predict(input_batch)\n",
    "    \n",
    "    return prediction_one, prediction_two, prediction_three"
   ]
  },
  {
   "cell_type": "code",
   "execution_count": 9,
   "metadata": {},
   "outputs": [],
   "source": [
    "predict_req, real = data_prep(predict, 24, 15)"
   ]
  },
  {
   "cell_type": "code",
   "execution_count": 25,
   "metadata": {
    "scrolled": true
   },
   "outputs": [
    {
     "name": "stdout",
     "output_type": "stream",
     "text": [
      "Epoch 1/10\n",
      "4/4 [==============================] - 1s 184ms/step - loss: 62.3999 - mean_squared_error: 62.3999 - val_loss: 78.2539 - val_mean_squared_error: 78.2539\n",
      "Epoch 2/10\n",
      "4/4 [==============================] - 0s 8ms/step - loss: 61.5568 - mean_squared_error: 61.5568 - val_loss: 76.3816 - val_mean_squared_error: 76.3816\n",
      "Epoch 3/10\n",
      "4/4 [==============================] - 0s 8ms/step - loss: 59.4895 - mean_squared_error: 59.4895 - val_loss: 70.4787 - val_mean_squared_error: 70.4787\n",
      "Epoch 4/10\n",
      "4/4 [==============================] - 0s 9ms/step - loss: 52.9951 - mean_squared_error: 52.9951 - val_loss: 55.7219 - val_mean_squared_error: 55.7219\n",
      "Epoch 5/10\n",
      "4/4 [==============================] - 0s 8ms/step - loss: 42.2637 - mean_squared_error: 42.2637 - val_loss: 51.4560 - val_mean_squared_error: 51.4560\n",
      "Epoch 6/10\n",
      "4/4 [==============================] - 0s 7ms/step - loss: 39.1452 - mean_squared_error: 39.1452 - val_loss: 44.4932 - val_mean_squared_error: 44.4932\n",
      "Epoch 7/10\n",
      "4/4 [==============================] - 0s 7ms/step - loss: 34.0687 - mean_squared_error: 34.0687 - val_loss: 40.5124 - val_mean_squared_error: 40.5124\n",
      "Epoch 8/10\n",
      "4/4 [==============================] - 0s 6ms/step - loss: 31.3077 - mean_squared_error: 31.3077 - val_loss: 36.4615 - val_mean_squared_error: 36.4615\n",
      "Epoch 9/10\n",
      "4/4 [==============================] - 0s 7ms/step - loss: 27.6639 - mean_squared_error: 27.6639 - val_loss: 31.4319 - val_mean_squared_error: 31.4319\n",
      "Epoch 10/10\n",
      "4/4 [==============================] - 0s 7ms/step - loss: 24.1142 - mean_squared_error: 24.1142 - val_loss: 27.1892 - val_mean_squared_error: 27.1892\n"
     ]
    },
    {
     "data": {
      "image/png": "[encoded data removed]",
      "text/plain": [
       "<Figure size 432x288 with 2 Axes>"
      ]
     },
     "metadata": {
      "needs_background": "light"
     },
     "output_type": "display_data"
    },
    {
     "name": "stdout",
     "output_type": "stream",
     "text": [
      "Epoch 1/10\n",
      "4/4 [==============================] - 1s 128ms/step - loss: 61.3772 - mean_squared_error: 61.3772 - val_loss: 67.6179 - val_mean_squared_error: 67.6179\n",
      "Epoch 2/10\n",
      "4/4 [==============================] - 0s 23ms/step - loss: 51.3719 - mean_squared_error: 51.3719 - val_loss: 56.7202 - val_mean_squared_error: 56.7202\n",
      "Epoch 3/10\n",
      "4/4 [==============================] - 0s 18ms/step - loss: 40.6723 - mean_squared_error: 40.6723 - val_loss: 42.2364 - val_mean_squared_error: 42.2364\n",
      "Epoch 4/10\n",
      "4/4 [==============================] - 0s 17ms/step - loss: 30.4727 - mean_squared_error: 30.4727 - val_loss: 29.9204 - val_mean_squared_error: 29.9204\n",
      "Epoch 5/10\n",
      "4/4 [==============================] - 0s 18ms/step - loss: 23.7050 - mean_squared_error: 23.7050 - val_loss: 33.9855 - val_mean_squared_error: 33.9855\n",
      "Epoch 6/10\n",
      "4/4 [==============================] - 0s 17ms/step - loss: 18.8929 - mean_squared_error: 18.8929 - val_loss: 19.1125 - val_mean_squared_error: 19.1125\n",
      "Epoch 7/10\n",
      "4/4 [==============================] - 0s 17ms/step - loss: 12.2123 - mean_squared_error: 12.2123 - val_loss: 18.8806 - val_mean_squared_error: 18.8806\n",
      "Epoch 8/10\n",
      "4/4 [==============================] - 0s 16ms/step - loss: 8.9074 - mean_squared_error: 8.9074 - val_loss: 9.5879 - val_mean_squared_error: 9.5879\n",
      "Epoch 9/10\n",
      "4/4 [==============================] - 0s 16ms/step - loss: 5.7246 - mean_squared_error: 5.7246 - val_loss: 7.4929 - val_mean_squared_error: 7.4929\n",
      "Epoch 10/10\n",
      "4/4 [==============================] - 0s 16ms/step - loss: 3.6629 - mean_squared_error: 3.6629 - val_loss: 6.0077 - val_mean_squared_error: 6.0077\n"
     ]
    },
    {
     "data": {
      "image/png": "[encoded data removed]",
      "text/plain": [
       "<Figure size 432x288 with 2 Axes>"
      ]
     },
     "metadata": {
      "needs_background": "light"
     },
     "output_type": "display_data"
    },
    {
     "name": "stdout",
     "output_type": "stream",
     "text": [
      "Epoch 1/10\n",
      "4/4 [==============================] - 0s 32ms/step - loss: 62.0310 - mean_squared_error: 62.0310 - val_loss: 69.9712 - val_mean_squared_error: 69.9712\n",
      "Epoch 2/10\n",
      "4/4 [==============================] - 0s 5ms/step - loss: 52.0408 - mean_squared_error: 52.0408 - val_loss: 57.3608 - val_mean_squared_error: 57.3608\n",
      "Epoch 3/10\n",
      "4/4 [==============================] - 0s 8ms/step - loss: 41.2626 - mean_squared_error: 41.2626 - val_loss: 42.2569 - val_mean_squared_error: 42.2569\n",
      "Epoch 4/10\n",
      "4/4 [==============================] - 0s 6ms/step - loss: 28.3513 - mean_squared_error: 28.3513 - val_loss: 24.1693 - val_mean_squared_error: 24.1693\n",
      "Epoch 5/10\n",
      "4/4 [==============================] - 0s 6ms/step - loss: 14.3604 - mean_squared_error: 14.3604 - val_loss: 9.7517 - val_mean_squared_error: 9.7517\n",
      "Epoch 6/10\n",
      "4/4 [==============================] - 0s 6ms/step - loss: 6.3922 - mean_squared_error: 6.3922 - val_loss: 6.3879 - val_mean_squared_error: 6.3879\n",
      "Epoch 7/10\n",
      "4/4 [==============================] - ETA: 0s - loss: 5.8109 - mean_squared_error: 5.81 - 0s 6ms/step - loss: 5.4432 - mean_squared_error: 5.4432 - val_loss: 4.2989 - val_mean_squared_error: 4.2989\n",
      "Epoch 8/10\n",
      "4/4 [==============================] - 0s 6ms/step - loss: 3.2022 - mean_squared_error: 3.2022 - val_loss: 1.3569 - val_mean_squared_error: 1.3569\n",
      "Epoch 9/10\n",
      "4/4 [==============================] - 0s 6ms/step - loss: 1.0616 - mean_squared_error: 1.0616 - val_loss: 0.9111 - val_mean_squared_error: 0.9111\n",
      "Epoch 10/10\n",
      "4/4 [==============================] - 0s 6ms/step - loss: 0.6934 - mean_squared_error: 0.6934 - val_loss: 1.1058 - val_mean_squared_error: 1.1058\n"
     ]
    },
    {
     "data": {
      "image/png": "[encoded data removed]",
      "text/plain": [
       "<Figure size 432x288 with 2 Axes>"
      ]
     },
     "metadata": {
      "needs_background": "light"
     },
     "output_type": "display_data"
    },
    {
     "name": "stdout",
     "output_type": "stream",
     "text": [
      "WARNING:tensorflow:5 out of the last 5 calls to <function Model.make_predict_function.<locals>.predict_function at 0x000001FCD4A4EE50> triggered tf.function retracing. Tracing is expensive and the excessive number of tracings could be due to (1) creating @tf.function repeatedly in a loop, (2) passing tensors with different shapes, (3) passing Python objects instead of tensors. For (1), please define your @tf.function outside of the loop. For (2), @tf.function has experimental_relax_shapes=True option that relaxes argument shapes that can avoid unnecessary retracing. For (3), please refer to https://www.tensorflow.org/tutorials/customization/performance#python_or_tensor_args and https://www.tensorflow.org/api_docs/python/tf/function for  more details.\n",
      "WARNING:tensorflow:6 out of the last 6 calls to <function Model.make_predict_function.<locals>.predict_function at 0x000001FCD51F5550> triggered tf.function retracing. Tracing is expensive and the excessive number of tracings could be due to (1) creating @tf.function repeatedly in a loop, (2) passing tensors with different shapes, (3) passing Python objects instead of tensors. For (1), please define your @tf.function outside of the loop. For (2), @tf.function has experimental_relax_shapes=True option that relaxes argument shapes that can avoid unnecessary retracing. For (3), please refer to https://www.tensorflow.org/tutorials/customization/performance#python_or_tensor_args and https://www.tensorflow.org/api_docs/python/tf/function for  more details.\n"
     ]
    }
   ],
   "source": [
    "A, B, C = individual_predictors(training, predict_req, 15)"
   ]
  },
  {
   "cell_type": "code",
   "execution_count": 26,
   "metadata": {},
   "outputs": [
    {
     "data": {
      "text/html": [
       "<div>\n",
       "<style scoped>\n",
       "    .dataframe tbody tr th:only-of-type {\n",
       "        vertical-align: middle;\n",
       "    }\n",
       "\n",
       "    .dataframe tbody tr th {\n",
       "        vertical-align: top;\n",
       "    }\n",
       "\n",
       "    .dataframe thead th {\n",
       "        text-align: right;\n",
       "    }\n",
       "</style>\n",
       "<table border=\"1\" class=\"dataframe\">\n",
       "  <thead>\n",
       "    <tr style=\"text-align: right;\">\n",
       "      <th></th>\n",
       "      <th>Close</th>\n",
       "    </tr>\n",
       "    <tr>\n",
       "      <th>Date</th>\n",
       "      <th></th>\n",
       "    </tr>\n",
       "  </thead>\n",
       "  <tbody>\n",
       "    <tr>\n",
       "      <th>2010-06-01</th>\n",
       "      <td>9.315357</td>\n",
       "    </tr>\n",
       "    <tr>\n",
       "      <th>2010-06-02</th>\n",
       "      <td>9.426786</td>\n",
       "    </tr>\n",
       "    <tr>\n",
       "      <th>2010-06-03</th>\n",
       "      <td>9.397143</td>\n",
       "    </tr>\n",
       "    <tr>\n",
       "      <th>2010-06-04</th>\n",
       "      <td>9.141429</td>\n",
       "    </tr>\n",
       "    <tr>\n",
       "      <th>2010-06-07</th>\n",
       "      <td>8.962143</td>\n",
       "    </tr>\n",
       "    <tr>\n",
       "      <th>2010-06-08</th>\n",
       "      <td>8.904643</td>\n",
       "    </tr>\n",
       "    <tr>\n",
       "      <th>2010-06-09</th>\n",
       "      <td>8.685714</td>\n",
       "    </tr>\n",
       "    <tr>\n",
       "      <th>2010-06-10</th>\n",
       "      <td>8.946786</td>\n",
       "    </tr>\n",
       "    <tr>\n",
       "      <th>2010-06-11</th>\n",
       "      <td>9.053929</td>\n",
       "    </tr>\n",
       "    <tr>\n",
       "      <th>2010-06-14</th>\n",
       "      <td>9.081429</td>\n",
       "    </tr>\n",
       "    <tr>\n",
       "      <th>2010-06-15</th>\n",
       "      <td>9.274643</td>\n",
       "    </tr>\n",
       "    <tr>\n",
       "      <th>2010-06-16</th>\n",
       "      <td>9.544643</td>\n",
       "    </tr>\n",
       "    <tr>\n",
       "      <th>2010-06-17</th>\n",
       "      <td>9.709643</td>\n",
       "    </tr>\n",
       "    <tr>\n",
       "      <th>2010-06-18</th>\n",
       "      <td>9.788214</td>\n",
       "    </tr>\n",
       "    <tr>\n",
       "      <th>2010-06-21</th>\n",
       "      <td>9.648929</td>\n",
       "    </tr>\n",
       "    <tr>\n",
       "      <th>2010-06-22</th>\n",
       "      <td>9.780357</td>\n",
       "    </tr>\n",
       "    <tr>\n",
       "      <th>2010-06-23</th>\n",
       "      <td>9.677500</td>\n",
       "    </tr>\n",
       "    <tr>\n",
       "      <th>2010-06-24</th>\n",
       "      <td>9.607143</td>\n",
       "    </tr>\n",
       "    <tr>\n",
       "      <th>2010-06-25</th>\n",
       "      <td>9.525000</td>\n",
       "    </tr>\n",
       "    <tr>\n",
       "      <th>2010-06-28</th>\n",
       "      <td>9.582143</td>\n",
       "    </tr>\n",
       "    <tr>\n",
       "      <th>2010-06-29</th>\n",
       "      <td>9.148929</td>\n",
       "    </tr>\n",
       "    <tr>\n",
       "      <th>2010-06-30</th>\n",
       "      <td>8.983214</td>\n",
       "    </tr>\n",
       "    <tr>\n",
       "      <th>2010-07-01</th>\n",
       "      <td>8.874286</td>\n",
       "    </tr>\n",
       "    <tr>\n",
       "      <th>2010-07-02</th>\n",
       "      <td>8.819286</td>\n",
       "    </tr>\n",
       "  </tbody>\n",
       "</table>\n",
       "</div>"
      ],
      "text/plain": [
       "               Close\n",
       "Date                \n",
       "2010-06-01  9.315357\n",
       "2010-06-02  9.426786\n",
       "2010-06-03  9.397143\n",
       "2010-06-04  9.141429\n",
       "2010-06-07  8.962143\n",
       "2010-06-08  8.904643\n",
       "2010-06-09  8.685714\n",
       "2010-06-10  8.946786\n",
       "2010-06-11  9.053929\n",
       "2010-06-14  9.081429\n",
       "2010-06-15  9.274643\n",
       "2010-06-16  9.544643\n",
       "2010-06-17  9.709643\n",
       "2010-06-18  9.788214\n",
       "2010-06-21  9.648929\n",
       "2010-06-22  9.780357\n",
       "2010-06-23  9.677500\n",
       "2010-06-24  9.607143\n",
       "2010-06-25  9.525000\n",
       "2010-06-28  9.582143\n",
       "2010-06-29  9.148929\n",
       "2010-06-30  8.983214\n",
       "2010-07-01  8.874286\n",
       "2010-07-02  8.819286"
      ]
     },
     "execution_count": 26,
     "metadata": {},
     "output_type": "execute_result"
    }
   ],
   "source": [
    "predict_req"
   ]
  },
  {
   "cell_type": "code",
   "execution_count": 27,
   "metadata": {},
   "outputs": [
    {
     "data": {
      "text/html": [
       "<div>\n",
       "<style scoped>\n",
       "    .dataframe tbody tr th:only-of-type {\n",
       "        vertical-align: middle;\n",
       "    }\n",
       "\n",
       "    .dataframe tbody tr th {\n",
       "        vertical-align: top;\n",
       "    }\n",
       "\n",
       "    .dataframe thead th {\n",
       "        text-align: right;\n",
       "    }\n",
       "</style>\n",
       "<table border=\"1\" class=\"dataframe\">\n",
       "  <thead>\n",
       "    <tr style=\"text-align: right;\">\n",
       "      <th></th>\n",
       "      <th>Close</th>\n",
       "    </tr>\n",
       "    <tr>\n",
       "      <th>Date</th>\n",
       "      <th></th>\n",
       "    </tr>\n",
       "  </thead>\n",
       "  <tbody>\n",
       "    <tr>\n",
       "      <th>2010-07-06</th>\n",
       "      <td>8.879643</td>\n",
       "    </tr>\n",
       "    <tr>\n",
       "      <th>2010-07-07</th>\n",
       "      <td>9.238214</td>\n",
       "    </tr>\n",
       "    <tr>\n",
       "      <th>2010-07-08</th>\n",
       "      <td>9.217500</td>\n",
       "    </tr>\n",
       "    <tr>\n",
       "      <th>2010-07-09</th>\n",
       "      <td>9.272143</td>\n",
       "    </tr>\n",
       "    <tr>\n",
       "      <th>2010-07-12</th>\n",
       "      <td>9.188929</td>\n",
       "    </tr>\n",
       "    <tr>\n",
       "      <th>2010-07-13</th>\n",
       "      <td>8.992857</td>\n",
       "    </tr>\n",
       "    <tr>\n",
       "      <th>2010-07-14</th>\n",
       "      <td>9.026071</td>\n",
       "    </tr>\n",
       "    <tr>\n",
       "      <th>2010-07-15</th>\n",
       "      <td>8.980357</td>\n",
       "    </tr>\n",
       "    <tr>\n",
       "      <th>2010-07-16</th>\n",
       "      <td>8.925000</td>\n",
       "    </tr>\n",
       "    <tr>\n",
       "      <th>2010-07-19</th>\n",
       "      <td>8.770714</td>\n",
       "    </tr>\n",
       "    <tr>\n",
       "      <th>2010-07-20</th>\n",
       "      <td>8.996071</td>\n",
       "    </tr>\n",
       "    <tr>\n",
       "      <th>2010-07-21</th>\n",
       "      <td>9.080000</td>\n",
       "    </tr>\n",
       "    <tr>\n",
       "      <th>2010-07-22</th>\n",
       "      <td>9.250714</td>\n",
       "    </tr>\n",
       "    <tr>\n",
       "      <th>2010-07-23</th>\n",
       "      <td>9.283571</td>\n",
       "    </tr>\n",
       "    <tr>\n",
       "      <th>2010-07-26</th>\n",
       "      <td>9.260000</td>\n",
       "    </tr>\n",
       "  </tbody>\n",
       "</table>\n",
       "</div>"
      ],
      "text/plain": [
       "               Close\n",
       "Date                \n",
       "2010-07-06  8.879643\n",
       "2010-07-07  9.238214\n",
       "2010-07-08  9.217500\n",
       "2010-07-09  9.272143\n",
       "2010-07-12  9.188929\n",
       "2010-07-13  8.992857\n",
       "2010-07-14  9.026071\n",
       "2010-07-15  8.980357\n",
       "2010-07-16  8.925000\n",
       "2010-07-19  8.770714\n",
       "2010-07-20  8.996071\n",
       "2010-07-21  9.080000\n",
       "2010-07-22  9.250714\n",
       "2010-07-23  9.283571\n",
       "2010-07-26  9.260000"
      ]
     },
     "execution_count": 27,
     "metadata": {},
     "output_type": "execute_result"
    }
   ],
   "source": [
    "real"
   ]
  },
  {
   "cell_type": "code",
   "execution_count": 28,
   "metadata": {},
   "outputs": [],
   "source": [
    "final_df = pd.concat([A, B, C], axis=1)\n"
   ]
  },
  {
   "cell_type": "code",
   "execution_count": 29,
   "metadata": {},
   "outputs": [
    {
     "data": {
      "text/html": [
       "<div>\n",
       "<style scoped>\n",
       "    .dataframe tbody tr th:only-of-type {\n",
       "        vertical-align: middle;\n",
       "    }\n",
       "\n",
       "    .dataframe tbody tr th {\n",
       "        vertical-align: top;\n",
       "    }\n",
       "\n",
       "    .dataframe thead th {\n",
       "        text-align: right;\n",
       "    }\n",
       "</style>\n",
       "<table border=\"1\" class=\"dataframe\">\n",
       "  <thead>\n",
       "    <tr style=\"text-align: right;\">\n",
       "      <th></th>\n",
       "      <th>CNN-LSTM</th>\n",
       "      <th>Bidirectional LSTM</th>\n",
       "      <th>CNN</th>\n",
       "    </tr>\n",
       "  </thead>\n",
       "  <tbody>\n",
       "    <tr>\n",
       "      <th>0</th>\n",
       "      <td>0.867940</td>\n",
       "      <td>8.799788</td>\n",
       "      <td>8.736588</td>\n",
       "    </tr>\n",
       "    <tr>\n",
       "      <th>1</th>\n",
       "      <td>13.591872</td>\n",
       "      <td>23.692699</td>\n",
       "      <td>8.893050</td>\n",
       "    </tr>\n",
       "    <tr>\n",
       "      <th>2</th>\n",
       "      <td>16.769112</td>\n",
       "      <td>1.385190</td>\n",
       "      <td>10.431115</td>\n",
       "    </tr>\n",
       "    <tr>\n",
       "      <th>3</th>\n",
       "      <td>7.059855</td>\n",
       "      <td>8.594333</td>\n",
       "      <td>8.686644</td>\n",
       "    </tr>\n",
       "    <tr>\n",
       "      <th>4</th>\n",
       "      <td>3.937551</td>\n",
       "      <td>3.675891</td>\n",
       "      <td>9.182476</td>\n",
       "    </tr>\n",
       "    <tr>\n",
       "      <th>5</th>\n",
       "      <td>-0.906948</td>\n",
       "      <td>0.341380</td>\n",
       "      <td>10.476237</td>\n",
       "    </tr>\n",
       "    <tr>\n",
       "      <th>6</th>\n",
       "      <td>6.220505</td>\n",
       "      <td>-2.480238</td>\n",
       "      <td>8.848942</td>\n",
       "    </tr>\n",
       "    <tr>\n",
       "      <th>7</th>\n",
       "      <td>7.014133</td>\n",
       "      <td>6.857179</td>\n",
       "      <td>9.056499</td>\n",
       "    </tr>\n",
       "    <tr>\n",
       "      <th>8</th>\n",
       "      <td>4.174687</td>\n",
       "      <td>11.873022</td>\n",
       "      <td>9.030947</td>\n",
       "    </tr>\n",
       "    <tr>\n",
       "      <th>9</th>\n",
       "      <td>1.342502</td>\n",
       "      <td>6.486610</td>\n",
       "      <td>8.656052</td>\n",
       "    </tr>\n",
       "    <tr>\n",
       "      <th>10</th>\n",
       "      <td>7.495415</td>\n",
       "      <td>21.743120</td>\n",
       "      <td>9.762421</td>\n",
       "    </tr>\n",
       "    <tr>\n",
       "      <th>11</th>\n",
       "      <td>3.514420</td>\n",
       "      <td>13.834094</td>\n",
       "      <td>8.425840</td>\n",
       "    </tr>\n",
       "    <tr>\n",
       "      <th>12</th>\n",
       "      <td>14.526503</td>\n",
       "      <td>16.410229</td>\n",
       "      <td>9.489719</td>\n",
       "    </tr>\n",
       "    <tr>\n",
       "      <th>13</th>\n",
       "      <td>6.777078</td>\n",
       "      <td>15.978855</td>\n",
       "      <td>10.574805</td>\n",
       "    </tr>\n",
       "    <tr>\n",
       "      <th>14</th>\n",
       "      <td>12.698198</td>\n",
       "      <td>19.428480</td>\n",
       "      <td>10.172100</td>\n",
       "    </tr>\n",
       "  </tbody>\n",
       "</table>\n",
       "</div>"
      ],
      "text/plain": [
       "     CNN-LSTM  Bidirectional LSTM        CNN\n",
       "0    0.867940            8.799788   8.736588\n",
       "1   13.591872           23.692699   8.893050\n",
       "2   16.769112            1.385190  10.431115\n",
       "3    7.059855            8.594333   8.686644\n",
       "4    3.937551            3.675891   9.182476\n",
       "5   -0.906948            0.341380  10.476237\n",
       "6    6.220505           -2.480238   8.848942\n",
       "7    7.014133            6.857179   9.056499\n",
       "8    4.174687           11.873022   9.030947\n",
       "9    1.342502            6.486610   8.656052\n",
       "10   7.495415           21.743120   9.762421\n",
       "11   3.514420           13.834094   8.425840\n",
       "12  14.526503           16.410229   9.489719\n",
       "13   6.777078           15.978855  10.574805\n",
       "14  12.698198           19.428480  10.172100"
      ]
     },
     "execution_count": 29,
     "metadata": {},
     "output_type": "execute_result"
    }
   ],
   "source": [
    "final_df"
   ]
  },
  {
   "cell_type": "markdown",
   "metadata": {},
   "source": [
    "### System Disagreement"
   ]
  },
  {
   "cell_type": "code",
   "execution_count": 30,
   "metadata": {},
   "outputs": [],
   "source": [
    "def system_disagreement(df):\n",
    "    disagreement(df).plot()\n",
    "    predictor_score(df).plot()"
   ]
  },
  {
   "cell_type": "code",
   "execution_count": 31,
   "metadata": {},
   "outputs": [
    {
     "data": {
      "image/png": "[encoded data removed]",
      "text/plain": [
       "<Figure size 432x288 with 1 Axes>"
      ]
     },
     "metadata": {
      "needs_background": "light"
     },
     "output_type": "display_data"
    },
    {
     "data": {
      "image/png": "[encoded data removed]",
      "text/plain": [
       "<Figure size 432x288 with 1 Axes>"
      ]
     },
     "metadata": {
      "needs_background": "light"
     },
     "output_type": "display_data"
    }
   ],
   "source": [
    "system_disagreement(final_df)"
   ]
  },
  {
   "cell_type": "code",
   "execution_count": 32,
   "metadata": {},
   "outputs": [
    {
     "data": {
      "text/html": [
       "<div>\n",
       "<style scoped>\n",
       "    .dataframe tbody tr th:only-of-type {\n",
       "        vertical-align: middle;\n",
       "    }\n",
       "\n",
       "    .dataframe tbody tr th {\n",
       "        vertical-align: top;\n",
       "    }\n",
       "\n",
       "    .dataframe thead th {\n",
       "        text-align: right;\n",
       "    }\n",
       "</style>\n",
       "<table border=\"1\" class=\"dataframe\">\n",
       "  <thead>\n",
       "    <tr style=\"text-align: right;\">\n",
       "      <th></th>\n",
       "      <th>System Disagreement</th>\n",
       "    </tr>\n",
       "  </thead>\n",
       "  <tbody>\n",
       "    <tr>\n",
       "      <th>0</th>\n",
       "      <td>3.525266</td>\n",
       "    </tr>\n",
       "    <tr>\n",
       "      <th>1</th>\n",
       "      <td>6.577622</td>\n",
       "    </tr>\n",
       "    <tr>\n",
       "      <th>2</th>\n",
       "      <td>6.837298</td>\n",
       "    </tr>\n",
       "    <tr>\n",
       "      <th>3</th>\n",
       "      <td>0.723017</td>\n",
       "    </tr>\n",
       "    <tr>\n",
       "      <th>4</th>\n",
       "      <td>2.447371</td>\n",
       "    </tr>\n",
       "    <tr>\n",
       "      <th>5</th>\n",
       "      <td>5.059193</td>\n",
       "    </tr>\n",
       "    <tr>\n",
       "      <th>6</th>\n",
       "      <td>5.035191</td>\n",
       "    </tr>\n",
       "    <tr>\n",
       "      <th>7</th>\n",
       "      <td>0.977475</td>\n",
       "    </tr>\n",
       "    <tr>\n",
       "      <th>8</th>\n",
       "      <td>3.421482</td>\n",
       "    </tr>\n",
       "    <tr>\n",
       "      <th>9</th>\n",
       "      <td>3.250467</td>\n",
       "    </tr>\n",
       "    <tr>\n",
       "      <th>10</th>\n",
       "      <td>6.332314</td>\n",
       "    </tr>\n",
       "    <tr>\n",
       "      <th>11</th>\n",
       "      <td>4.586522</td>\n",
       "    </tr>\n",
       "    <tr>\n",
       "      <th>12</th>\n",
       "      <td>3.075782</td>\n",
       "    </tr>\n",
       "    <tr>\n",
       "      <th>13</th>\n",
       "      <td>4.089679</td>\n",
       "    </tr>\n",
       "    <tr>\n",
       "      <th>14</th>\n",
       "      <td>4.113947</td>\n",
       "    </tr>\n",
       "  </tbody>\n",
       "</table>\n",
       "</div>"
      ],
      "text/plain": [
       "    System Disagreement\n",
       "0              3.525266\n",
       "1              6.577622\n",
       "2              6.837298\n",
       "3              0.723017\n",
       "4              2.447371\n",
       "5              5.059193\n",
       "6              5.035191\n",
       "7              0.977475\n",
       "8              3.421482\n",
       "9              3.250467\n",
       "10             6.332314\n",
       "11             4.586522\n",
       "12             3.075782\n",
       "13             4.089679\n",
       "14             4.113947"
      ]
     },
     "execution_count": 32,
     "metadata": {},
     "output_type": "execute_result"
    }
   ],
   "source": [
    "disagreement(final_df)"
   ]
  },
  {
   "cell_type": "code",
   "execution_count": 33,
   "metadata": {},
   "outputs": [
    {
     "data": {
      "text/html": [
       "<div>\n",
       "<style scoped>\n",
       "    .dataframe tbody tr th:only-of-type {\n",
       "        vertical-align: middle;\n",
       "    }\n",
       "\n",
       "    .dataframe tbody tr th {\n",
       "        vertical-align: top;\n",
       "    }\n",
       "\n",
       "    .dataframe thead th {\n",
       "        text-align: right;\n",
       "    }\n",
       "</style>\n",
       "<table border=\"1\" class=\"dataframe\">\n",
       "  <thead>\n",
       "    <tr style=\"text-align: right;\">\n",
       "      <th></th>\n",
       "      <th>0</th>\n",
       "      <th>1</th>\n",
       "      <th>2</th>\n",
       "    </tr>\n",
       "  </thead>\n",
       "  <tbody>\n",
       "    <tr>\n",
       "      <th>0</th>\n",
       "      <td>5.266832</td>\n",
       "      <td>2.665016</td>\n",
       "      <td>2.643950</td>\n",
       "    </tr>\n",
       "    <tr>\n",
       "      <th>1</th>\n",
       "      <td>4.933216</td>\n",
       "      <td>8.300159</td>\n",
       "      <td>6.499490</td>\n",
       "    </tr>\n",
       "    <tr>\n",
       "      <th>2</th>\n",
       "      <td>7.240639</td>\n",
       "      <td>8.143282</td>\n",
       "      <td>5.127974</td>\n",
       "    </tr>\n",
       "    <tr>\n",
       "      <th>3</th>\n",
       "      <td>1.053755</td>\n",
       "      <td>0.542263</td>\n",
       "      <td>0.573033</td>\n",
       "    </tr>\n",
       "    <tr>\n",
       "      <th>4</th>\n",
       "      <td>1.835528</td>\n",
       "      <td>1.922748</td>\n",
       "      <td>3.583836</td>\n",
       "    </tr>\n",
       "    <tr>\n",
       "      <th>5</th>\n",
       "      <td>4.210504</td>\n",
       "      <td>3.794395</td>\n",
       "      <td>7.172681</td>\n",
       "    </tr>\n",
       "    <tr>\n",
       "      <th>6</th>\n",
       "      <td>3.776393</td>\n",
       "      <td>6.676641</td>\n",
       "      <td>4.652539</td>\n",
       "    </tr>\n",
       "    <tr>\n",
       "      <th>7</th>\n",
       "      <td>0.733107</td>\n",
       "      <td>0.785425</td>\n",
       "      <td>1.413895</td>\n",
       "    </tr>\n",
       "    <tr>\n",
       "      <th>8</th>\n",
       "      <td>4.184865</td>\n",
       "      <td>3.513470</td>\n",
       "      <td>2.566112</td>\n",
       "    </tr>\n",
       "    <tr>\n",
       "      <th>9</th>\n",
       "      <td>4.152553</td>\n",
       "      <td>2.437850</td>\n",
       "      <td>3.160997</td>\n",
       "    </tr>\n",
       "    <tr>\n",
       "      <th>10</th>\n",
       "      <td>5.504904</td>\n",
       "      <td>8.742802</td>\n",
       "      <td>4.749235</td>\n",
       "    </tr>\n",
       "    <tr>\n",
       "      <th>11</th>\n",
       "      <td>5.077031</td>\n",
       "      <td>5.242642</td>\n",
       "      <td>3.439891</td>\n",
       "    </tr>\n",
       "    <tr>\n",
       "      <th>12</th>\n",
       "      <td>2.306836</td>\n",
       "      <td>2.934745</td>\n",
       "      <td>3.985764</td>\n",
       "    </tr>\n",
       "    <tr>\n",
       "      <th>13</th>\n",
       "      <td>4.333168</td>\n",
       "      <td>4.868609</td>\n",
       "      <td>3.067259</td>\n",
       "    </tr>\n",
       "    <tr>\n",
       "      <th>14</th>\n",
       "      <td>3.085460</td>\n",
       "      <td>5.328887</td>\n",
       "      <td>3.927493</td>\n",
       "    </tr>\n",
       "  </tbody>\n",
       "</table>\n",
       "</div>"
      ],
      "text/plain": [
       "           0         1         2\n",
       "0   5.266832  2.665016  2.643950\n",
       "1   4.933216  8.300159  6.499490\n",
       "2   7.240639  8.143282  5.127974\n",
       "3   1.053755  0.542263  0.573033\n",
       "4   1.835528  1.922748  3.583836\n",
       "5   4.210504  3.794395  7.172681\n",
       "6   3.776393  6.676641  4.652539\n",
       "7   0.733107  0.785425  1.413895\n",
       "8   4.184865  3.513470  2.566112\n",
       "9   4.152553  2.437850  3.160997\n",
       "10  5.504904  8.742802  4.749235\n",
       "11  5.077031  5.242642  3.439891\n",
       "12  2.306836  2.934745  3.985764\n",
       "13  4.333168  4.868609  3.067259\n",
       "14  3.085460  5.328887  3.927493"
      ]
     },
     "execution_count": 33,
     "metadata": {},
     "output_type": "execute_result"
    }
   ],
   "source": [
    "predictor_score(final_df)"
   ]
  },
  {
   "cell_type": "markdown",
   "metadata": {},
   "source": [
    "### System consensus"
   ]
  },
  {
   "cell_type": "code",
   "execution_count": 34,
   "metadata": {},
   "outputs": [],
   "source": [
    "def consensus(df, real):\n",
    "    consensus = pd.DataFrame()\n",
    "    \n",
    "    average = average_consolidation(final_df)\n",
    "    nomemory = consolidated_predictions(final_df, real)\n",
    "    memory = consolidated_predictions_memory(final_df, real)\n",
    "    focus = consolidated_predictions_focused(final_df, real)\n",
    "    anchor = consolidated_predictions_anchor(final_df, real, 1.5)\n",
    "    \n",
    "    consensus['Average'] = average\n",
    "    consensus['NoMemory'] = nomemory\n",
    "    consensus['Memory'] = memory\n",
    "    consensus['Focus'] = focus\n",
    "    consensus['Anchor'] = anchor\n",
    "    \n",
    "    return consensus"
   ]
  },
  {
   "cell_type": "code",
   "execution_count": 62,
   "metadata": {},
   "outputs": [],
   "source": [
    "algos = consensus(final_df, real)"
   ]
  },
  {
   "cell_type": "code",
   "execution_count": 63,
   "metadata": {},
   "outputs": [],
   "source": [
    "performance = real.copy()"
   ]
  },
  {
   "cell_type": "code",
   "execution_count": 69,
   "metadata": {},
   "outputs": [
    {
     "data": {
      "text/html": [
       "<div>\n",
       "<style scoped>\n",
       "    .dataframe tbody tr th:only-of-type {\n",
       "        vertical-align: middle;\n",
       "    }\n",
       "\n",
       "    .dataframe tbody tr th {\n",
       "        vertical-align: top;\n",
       "    }\n",
       "\n",
       "    .dataframe thead th {\n",
       "        text-align: right;\n",
       "    }\n",
       "</style>\n",
       "<table border=\"1\" class=\"dataframe\">\n",
       "  <thead>\n",
       "    <tr style=\"text-align: right;\">\n",
       "      <th></th>\n",
       "      <th>Average</th>\n",
       "      <th>NoMemory</th>\n",
       "      <th>Memory</th>\n",
       "      <th>Focus</th>\n",
       "      <th>Anchor</th>\n",
       "    </tr>\n",
       "  </thead>\n",
       "  <tbody>\n",
       "    <tr>\n",
       "      <th>0</th>\n",
       "      <td>6.134772</td>\n",
       "      <td>6.134772</td>\n",
       "      <td>6.134772</td>\n",
       "      <td>6.134772</td>\n",
       "      <td>6.407594</td>\n",
       "    </tr>\n",
       "    <tr>\n",
       "      <th>1</th>\n",
       "      <td>15.392541</td>\n",
       "      <td>16.284714</td>\n",
       "      <td>15.838627</td>\n",
       "      <td>23.692699</td>\n",
       "      <td>17.932019</td>\n",
       "    </tr>\n",
       "    <tr>\n",
       "      <th>2</th>\n",
       "      <td>9.528472</td>\n",
       "      <td>11.770177</td>\n",
       "      <td>9.112149</td>\n",
       "      <td>10.431115</td>\n",
       "      <td>9.818995</td>\n",
       "    </tr>\n",
       "    <tr>\n",
       "      <th>3</th>\n",
       "      <td>8.113611</td>\n",
       "      <td>8.218956</td>\n",
       "      <td>8.249575</td>\n",
       "      <td>8.686644</td>\n",
       "      <td>7.978947</td>\n",
       "    </tr>\n",
       "    <tr>\n",
       "      <th>4</th>\n",
       "      <td>5.598640</td>\n",
       "      <td>6.012918</td>\n",
       "      <td>6.155255</td>\n",
       "      <td>9.182476</td>\n",
       "      <td>6.581893</td>\n",
       "    </tr>\n",
       "    <tr>\n",
       "      <th>5</th>\n",
       "      <td>3.303557</td>\n",
       "      <td>5.085923</td>\n",
       "      <td>4.592489</td>\n",
       "      <td>10.476237</td>\n",
       "      <td>5.567325</td>\n",
       "    </tr>\n",
       "    <tr>\n",
       "      <th>6</th>\n",
       "      <td>4.196403</td>\n",
       "      <td>4.965647</td>\n",
       "      <td>4.738910</td>\n",
       "      <td>8.848942</td>\n",
       "      <td>5.252697</td>\n",
       "    </tr>\n",
       "    <tr>\n",
       "      <th>7</th>\n",
       "      <td>7.642603</td>\n",
       "      <td>8.006676</td>\n",
       "      <td>7.902204</td>\n",
       "      <td>9.056499</td>\n",
       "      <td>8.320939</td>\n",
       "    </tr>\n",
       "    <tr>\n",
       "      <th>8</th>\n",
       "      <td>8.359552</td>\n",
       "      <td>8.445680</td>\n",
       "      <td>8.543031</td>\n",
       "      <td>9.030947</td>\n",
       "      <td>9.014835</td>\n",
       "    </tr>\n",
       "    <tr>\n",
       "      <th>9</th>\n",
       "      <td>5.495055</td>\n",
       "      <td>6.550110</td>\n",
       "      <td>6.175642</td>\n",
       "      <td>8.656052</td>\n",
       "      <td>5.979808</td>\n",
       "    </tr>\n",
       "    <tr>\n",
       "      <th>10</th>\n",
       "      <td>13.000319</td>\n",
       "      <td>14.083734</td>\n",
       "      <td>12.682931</td>\n",
       "      <td>9.762421</td>\n",
       "      <td>15.744237</td>\n",
       "    </tr>\n",
       "    <tr>\n",
       "      <th>11</th>\n",
       "      <td>8.591451</td>\n",
       "      <td>6.623881</td>\n",
       "      <td>8.615352</td>\n",
       "      <td>8.425840</td>\n",
       "      <td>8.154345</td>\n",
       "    </tr>\n",
       "    <tr>\n",
       "      <th>12</th>\n",
       "      <td>13.475484</td>\n",
       "      <td>12.692063</td>\n",
       "      <td>12.687109</td>\n",
       "      <td>9.489719</td>\n",
       "      <td>13.383074</td>\n",
       "    </tr>\n",
       "    <tr>\n",
       "      <th>13</th>\n",
       "      <td>11.110246</td>\n",
       "      <td>10.642054</td>\n",
       "      <td>11.032724</td>\n",
       "      <td>10.574805</td>\n",
       "      <td>11.052838</td>\n",
       "    </tr>\n",
       "    <tr>\n",
       "      <th>14</th>\n",
       "      <td>14.099593</td>\n",
       "      <td>12.808519</td>\n",
       "      <td>13.289412</td>\n",
       "      <td>10.172100</td>\n",
       "      <td>14.039190</td>\n",
       "    </tr>\n",
       "  </tbody>\n",
       "</table>\n",
       "</div>"
      ],
      "text/plain": [
       "      Average   NoMemory     Memory      Focus     Anchor\n",
       "0    6.134772   6.134772   6.134772   6.134772   6.407594\n",
       "1   15.392541  16.284714  15.838627  23.692699  17.932019\n",
       "2    9.528472  11.770177   9.112149  10.431115   9.818995\n",
       "3    8.113611   8.218956   8.249575   8.686644   7.978947\n",
       "4    5.598640   6.012918   6.155255   9.182476   6.581893\n",
       "5    3.303557   5.085923   4.592489  10.476237   5.567325\n",
       "6    4.196403   4.965647   4.738910   8.848942   5.252697\n",
       "7    7.642603   8.006676   7.902204   9.056499   8.320939\n",
       "8    8.359552   8.445680   8.543031   9.030947   9.014835\n",
       "9    5.495055   6.550110   6.175642   8.656052   5.979808\n",
       "10  13.000319  14.083734  12.682931   9.762421  15.744237\n",
       "11   8.591451   6.623881   8.615352   8.425840   8.154345\n",
       "12  13.475484  12.692063  12.687109   9.489719  13.383074\n",
       "13  11.110246  10.642054  11.032724  10.574805  11.052838\n",
       "14  14.099593  12.808519  13.289412  10.172100  14.039190"
      ]
     },
     "execution_count": 69,
     "metadata": {},
     "output_type": "execute_result"
    }
   ],
   "source": [
    "algos"
   ]
  },
  {
   "cell_type": "code",
   "execution_count": 65,
   "metadata": {},
   "outputs": [
    {
     "data": {
      "text/html": [
       "<div>\n",
       "<style scoped>\n",
       "    .dataframe tbody tr th:only-of-type {\n",
       "        vertical-align: middle;\n",
       "    }\n",
       "\n",
       "    .dataframe tbody tr th {\n",
       "        vertical-align: top;\n",
       "    }\n",
       "\n",
       "    .dataframe thead th {\n",
       "        text-align: right;\n",
       "    }\n",
       "</style>\n",
       "<table border=\"1\" class=\"dataframe\">\n",
       "  <thead>\n",
       "    <tr style=\"text-align: right;\">\n",
       "      <th></th>\n",
       "      <th>Close</th>\n",
       "    </tr>\n",
       "    <tr>\n",
       "      <th>Date</th>\n",
       "      <th></th>\n",
       "    </tr>\n",
       "  </thead>\n",
       "  <tbody>\n",
       "    <tr>\n",
       "      <th>2010-07-06</th>\n",
       "      <td>8.879643</td>\n",
       "    </tr>\n",
       "    <tr>\n",
       "      <th>2010-07-07</th>\n",
       "      <td>9.238214</td>\n",
       "    </tr>\n",
       "    <tr>\n",
       "      <th>2010-07-08</th>\n",
       "      <td>9.217500</td>\n",
       "    </tr>\n",
       "    <tr>\n",
       "      <th>2010-07-09</th>\n",
       "      <td>9.272143</td>\n",
       "    </tr>\n",
       "    <tr>\n",
       "      <th>2010-07-12</th>\n",
       "      <td>9.188929</td>\n",
       "    </tr>\n",
       "    <tr>\n",
       "      <th>2010-07-13</th>\n",
       "      <td>8.992857</td>\n",
       "    </tr>\n",
       "    <tr>\n",
       "      <th>2010-07-14</th>\n",
       "      <td>9.026071</td>\n",
       "    </tr>\n",
       "    <tr>\n",
       "      <th>2010-07-15</th>\n",
       "      <td>8.980357</td>\n",
       "    </tr>\n",
       "    <tr>\n",
       "      <th>2010-07-16</th>\n",
       "      <td>8.925000</td>\n",
       "    </tr>\n",
       "    <tr>\n",
       "      <th>2010-07-19</th>\n",
       "      <td>8.770714</td>\n",
       "    </tr>\n",
       "    <tr>\n",
       "      <th>2010-07-20</th>\n",
       "      <td>8.996071</td>\n",
       "    </tr>\n",
       "    <tr>\n",
       "      <th>2010-07-21</th>\n",
       "      <td>9.080000</td>\n",
       "    </tr>\n",
       "    <tr>\n",
       "      <th>2010-07-22</th>\n",
       "      <td>9.250714</td>\n",
       "    </tr>\n",
       "    <tr>\n",
       "      <th>2010-07-23</th>\n",
       "      <td>9.283571</td>\n",
       "    </tr>\n",
       "    <tr>\n",
       "      <th>2010-07-26</th>\n",
       "      <td>9.260000</td>\n",
       "    </tr>\n",
       "  </tbody>\n",
       "</table>\n",
       "</div>"
      ],
      "text/plain": [
       "               Close\n",
       "Date                \n",
       "2010-07-06  8.879643\n",
       "2010-07-07  9.238214\n",
       "2010-07-08  9.217500\n",
       "2010-07-09  9.272143\n",
       "2010-07-12  9.188929\n",
       "2010-07-13  8.992857\n",
       "2010-07-14  9.026071\n",
       "2010-07-15  8.980357\n",
       "2010-07-16  8.925000\n",
       "2010-07-19  8.770714\n",
       "2010-07-20  8.996071\n",
       "2010-07-21  9.080000\n",
       "2010-07-22  9.250714\n",
       "2010-07-23  9.283571\n",
       "2010-07-26  9.260000"
      ]
     },
     "execution_count": 65,
     "metadata": {},
     "output_type": "execute_result"
    }
   ],
   "source": [
    "real_value = real.copy()\n",
    "real_value"
   ]
  },
  {
   "cell_type": "code",
   "execution_count": 81,
   "metadata": {},
   "outputs": [],
   "source": [
    "def evaluation_frame(algorithms, real_df):\n",
    "    algorithms = algorithms.set_index(real_df.index)\n",
    "    algorithms['Real Value'] = real_df\n",
    "    \n",
    "    return algorithms"
   ]
  },
  {
   "cell_type": "code",
   "execution_count": 84,
   "metadata": {},
   "outputs": [],
   "source": [
    "evaluation = evaluation(algos, real_value)"
   ]
  },
  {
   "cell_type": "code",
   "execution_count": 83,
   "metadata": {},
   "outputs": [],
   "source": [
    "def calculate_error(data):\n",
    "    error = data.copy()\n",
    "    \n",
    "    error['Error Average'] = abs(error['Real Value'] - error['Average'])\n",
    "    error['Error NoMemory'] = abs(error['Real Value'] - error['NoMemory'])\n",
    "    error['Error Memory'] = abs(error['Real Value'] - error['Memory'])\n",
    "    error['Error Focus'] = abs(error['Real Value'] - error['Focus'])\n",
    "    error['Error Anchor'] = abs(error['Real Value'] - error['Anchor'])\n",
    "    \n",
    "    return error\n",
    "\n"
   ]
  },
  {
   "cell_type": "code",
   "execution_count": 89,
   "metadata": {},
   "outputs": [],
   "source": [
    "nice = calculate_error(evaluation)"
   ]
  },
  {
   "cell_type": "code",
   "execution_count": 101,
   "metadata": {},
   "outputs": [],
   "source": [
    "def plot_performance(data):\n",
    "\n",
    "    plt.plot(data['Real Value'])\n",
    "    plt.plot(data['Average'])\n",
    "    plt.title('Average Algorithm Error')\n",
    "    plt.ylabel('Absolute Error')\n",
    "    plt.xlabel('Time')\n",
    "    plt.legend(['Real Value', 'Consensus'], loc='upper right')\n",
    "    plt.show()\n",
    "    \n",
    "    plt.plot(data['Real Value'])\n",
    "    plt.plot(data['NoMemory'])\n",
    "    plt.title('NoMemory Algorithm Error')\n",
    "    plt.ylabel('Absolute Error')\n",
    "    plt.xlabel('Time')\n",
    "    plt.legend(['Real Value', 'Consensus'], loc='upper right')\n",
    "    plt.show()\n",
    "    \n",
    "    plt.plot(data['Real Value'])\n",
    "    plt.plot(data['Memory'])\n",
    "    plt.title('Memory Algorithm Error')\n",
    "    plt.ylabel('Absolute Error')\n",
    "    plt.xlabel('Time')\n",
    "    plt.legend(['Real Value', 'Consensus'], loc='upper right')\n",
    "    plt.show()\n",
    "    \n",
    "    plt.plot(data['Real Value'])\n",
    "    plt.plot(data['Focus'])\n",
    "    plt.title('Focus Algorithm Error')\n",
    "    plt.ylabel('Absolute Error')\n",
    "    plt.xlabel('Time')\n",
    "    plt.legend(['Real Value', 'Consensus'], loc='upper right')\n",
    "    plt.show()\n",
    "    \n",
    "    plt.plot(data['Real Value'])\n",
    "    plt.plot(data['Anchor'])\n",
    "    plt.title('Anchor Algorithm Error')\n",
    "    plt.ylabel('Absolute Error')\n",
    "    plt.xlabel('Time')\n",
    "    plt.legend(['Real Value', 'Consensus'], loc='upper right')\n",
    "    plt.show()\n",
    "    \n"
   ]
  },
  {
   "cell_type": "code",
   "execution_count": 102,
   "metadata": {},
   "outputs": [
    {
     "data": {
      "image/png": "[encoded data removed]",
      "text/plain": [
       "<Figure size 432x288 with 1 Axes>"
      ]
     },
     "metadata": {
      "needs_background": "light"
     },
     "output_type": "display_data"
    },
    {
     "data": {
      "image/png": "[encoded data removed]",
      "text/plain": [
       "<Figure size 432x288 with 1 Axes>"
      ]
     },
     "metadata": {
      "needs_background": "light"
     },
     "output_type": "display_data"
    },
    {
     "data": {
      "image/png": "[encoded data removed]",
      "text/plain": [
       "<Figure size 432x288 with 1 Axes>"
      ]
     },
     "metadata": {
      "needs_background": "light"
     },
     "output_type": "display_data"
    },
    {
     "data": {
      "image/png": "[encoded data removed]",
      "text/plain": [
       "<Figure size 432x288 with 1 Axes>"
      ]
     },
     "metadata": {
      "needs_background": "light"
     },
     "output_type": "display_data"
    },
    {
     "data": {
      "image/png": "[encoded data removed]",
      "text/plain": [
       "<Figure size 432x288 with 1 Axes>"
      ]
     },
     "metadata": {
      "needs_background": "light"
     },
     "output_type": "display_data"
    }
   ],
   "source": [
    "plot_performance(nice)"
   ]
  },
  {
   "cell_type": "code",
   "execution_count": null,
   "metadata": {},
   "outputs": [],
   "source": []
  }
 ],
 "metadata": {
  "kernelspec": {
   "display_name": "Python 3",
   "language": "python",
   "name": "python3"
  },
  "language_info": {
   "codemirror_mode": {
    "name": "ipython",
    "version": 3
   },
   "file_extension": ".py",
   "mimetype": "text/x-python",
   "name": "python",
   "nbconvert_exporter": "python",
   "pygments_lexer": "ipython3",
   "version": "3.8.1"
  }
 },
 "nbformat": 4,
 "nbformat_minor": 2
}
