{
 "cells": [
  {
   "cell_type": "markdown",
   "id": "c64c69b8",
   "metadata": {},
   "source": [
    "# Dataset backup (in case Yahoo API breaks)"
   ]
  },
  {
   "cell_type": "code",
   "execution_count": 13,
   "id": "2edbd355",
   "metadata": {},
   "outputs": [],
   "source": [
    "%run ../tools/dataloader.py"
   ]
  },
  {
   "cell_type": "code",
   "execution_count": null,
   "id": "fdc6c783",
   "metadata": {},
   "outputs": [],
   "source": [
    "DowJones = DataLoader('^DJI', '1992-01-02', '2020-05-23')\n",
    "DAX = DataLoader('^GDAXI', '1987-12-30', '2020-05-23')\n",
    "Nikkei = DataLoader('^N225', '1965-01-05', '2020-05-23')\n",
    "CAC40 = DataLoader('^FCHI', '1990-03-01', '2020-05-23')\n",
    "NASDAQ = DataLoader('^IXIC', '1971-02-05', '2020-05-23')\n",
    "Ford = DataLoader('F', '1972-06-01', '2020-05-23')\n",
    "Cola = DataLoader('KO', '1962-01-02', '2020-05-23')\n",
    "Google = DataLoader('GOOG', '2004-08-19', '2020-05-23')"
   ]
  }
 ],
 "metadata": {
  "kernelspec": {
   "display_name": "Python 3",
   "language": "python",
   "name": "python3"
  },
  "language_info": {
   "codemirror_mode": {
    "name": "ipython",
    "version": 3
   },
   "file_extension": ".py",
   "mimetype": "text/x-python",
   "name": "python",
   "nbconvert_exporter": "python",
   "pygments_lexer": "ipython3",
   "version": "3.8.1"
  }
 },
 "nbformat": 4,
 "nbformat_minor": 5
}
