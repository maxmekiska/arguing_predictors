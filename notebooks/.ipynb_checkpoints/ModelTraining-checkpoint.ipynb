{
 "cells": [
  {
   "cell_type": "markdown",
   "id": "bf786502",
   "metadata": {},
   "source": [
    "# Individual predictor training"
   ]
  },
  {
   "cell_type": "markdown",
   "id": "d3a01032",
   "metadata": {},
   "source": [
    "This Jupyter notebook is used to train the individual predictors to benchmark the system performance. In total, 15 individual predictors will be trained on stock and index data. For the benchmarking process, predictors from the predictorsI.py and predictorsII.py are trained. Each predictor will be served with an input batch that is used to dertmine the forecast estimation. The input size will be set at 20 data points (20 trading days). Furthermore, 3 forecasting horizions are considered: 5, 30 and 60 datapoints into the future."
   ]
  },
  {
   "cell_type": "code",
   "execution_count": null,
   "id": "2e50b9f7",
   "metadata": {},
   "outputs": [],
   "source": []
  }
 ],
 "metadata": {
  "kernelspec": {
   "display_name": "Python 3",
   "language": "python",
   "name": "python3"
  },
  "language_info": {
   "codemirror_mode": {
    "name": "ipython",
    "version": 3
   },
   "file_extension": ".py",
   "mimetype": "text/x-python",
   "name": "python",
   "nbconvert_exporter": "python",
   "pygments_lexer": "ipython3",
   "version": "3.8.1"
  }
 },
 "nbformat": 4,
 "nbformat_minor": 5
}
