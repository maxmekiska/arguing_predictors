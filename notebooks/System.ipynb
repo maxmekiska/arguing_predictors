{
 "cells": [
  {
   "cell_type": "code",
   "execution_count": 1,
   "id": "8d7a3357",
   "metadata": {},
   "outputs": [],
   "source": [
    "%config InlineBackend.figure_format = 'retina'\n",
    "import pandas as pd\n",
    "import os"
   ]
  },
  {
   "cell_type": "markdown",
   "id": "7dc03e09",
   "metadata": {},
   "source": [
    "# Benchmarking the System Performance"
   ]
  },
  {
   "cell_type": "code",
   "execution_count": null,
   "id": "77c66bb7",
   "metadata": {},
   "outputs": [],
   "source": [
    "run_id = 'SP500_5Predictors_Horizon40'"
   ]
  },
  {
   "cell_type": "code",
   "execution_count": null,
   "id": "730111bb",
   "metadata": {},
   "outputs": [],
   "source": [
    "os.mkdir(run_id)"
   ]
  },
  {
   "cell_type": "code",
   "execution_count": null,
   "id": "ebfd49c8",
   "metadata": {},
   "outputs": [],
   "source": [
    "dir_ = './' + run_id + '/'"
   ]
  },
  {
   "cell_type": "markdown",
   "id": "47e6d2bc",
   "metadata": {},
   "source": [
    "This Jupyter notebook serves to benchmark the performance of the prototype system."
   ]
  },
  {
   "cell_type": "markdown",
   "id": "9c039b35",
   "metadata": {},
   "source": [
    "### Loading and importing the system"
   ]
  },
  {
   "cell_type": "code",
   "execution_count": 8,
   "id": "bca82426",
   "metadata": {},
   "outputs": [],
   "source": [
    "%run ../tools/dataloader.py\n",
    "%run ../system/activate.py"
   ]
  },
  {
   "cell_type": "markdown",
   "id": "fe112525",
   "metadata": {},
   "source": [
    "### Loading and importing financial data to forecast and to benchmark the system on"
   ]
  },
  {
   "cell_type": "markdown",
   "id": "30521ee2",
   "metadata": {},
   "source": [
    "#### Prophet and Neural prophet training set-up"
   ]
  },
  {
   "cell_type": "code",
   "execution_count": 3,
   "id": "2fb06b11",
   "metadata": {},
   "outputs": [],
   "source": [
    "training_data = DataLoader('BP', '2010-02-01', '2018-02-01')\n",
    "training_data = training_data.get_adjclose()"
   ]
  },
  {
   "cell_type": "code",
   "execution_count": 4,
   "id": "27eb1606",
   "metadata": {},
   "outputs": [],
   "source": [
    "predict = DataLoader('BP', '2018-02-02', '2018-05-01')\n",
    "predict = predict.get_adjclose()"
   ]
  },
  {
   "cell_type": "code",
   "execution_count": 5,
   "id": "4692d176",
   "metadata": {},
   "outputs": [],
   "source": [
    "predict_req, real = data_prep(predict, 0, 30) # dividing data into predictor input and real data"
   ]
  },
  {
   "cell_type": "markdown",
   "id": "f587ea62",
   "metadata": {},
   "source": [
    "### Individual predictor forecasts"
   ]
  },
  {
   "cell_type": "code",
   "execution_count": 6,
   "id": "53828c5e",
   "metadata": {},
   "outputs": [],
   "source": [
    "#individual_predictors_forecasts = individual_predictors_pretrained_SP500_40_5(predict_req, 40)"
   ]
  },
  {
   "cell_type": "code",
   "execution_count": 9,
   "id": "5d917433",
   "metadata": {},
   "outputs": [
    {
     "name": "stderr",
     "output_type": "stream",
     "text": [
      "INFO: nprophet.config - set_auto_batch_epoch: Auto-set batch_size to 32\n",
      "INFO:nprophet.config:Auto-set batch_size to 32\n"
     ]
    },
    {
     "data": {
      "application/vnd.jupyter.widget-view+json": {
       "model_id": "9836afea27564d84af3b771c9b493efa",
       "version_major": 2,
       "version_minor": 0
      },
      "text/plain": [
       "  0%|          | 0/100 [00:00<?, ?it/s]"
      ]
     },
     "metadata": {},
     "output_type": "display_data"
    },
    {
     "name": "stderr",
     "output_type": "stream",
     "text": [
      "INFO: nprophet - _lr_range_test: learning rate range test found optimal lr: 2.85E-01\n",
      "INFO:nprophet:learning rate range test found optimal lr: 2.85E-01\n",
      "\n",
      "  0%|                                                                                           | 0/50 [00:00<?, ?it/s]\u001b[A\n",
      "Epoch[1/50]:   0%|                                                                              | 0/50 [00:00<?, ?it/s]\u001b[A\n",
      "Epoch[1/50]:   0%| | 0/50 [00:00<?, ?it/s, SmoothL1Loss=0.16, MAE=8.57, RegLoss=0, MAE_val=3.67, SmoothL1Loss_val=0.025\u001b[A\n",
      "Epoch[1/50]:   2%| | 1/50 [00:00<00:07,  6.67it/s, SmoothL1Loss=0.16, MAE=8.57, RegLoss=0, MAE_val=3.67, SmoothL1Loss_v\u001b[A\n",
      "Epoch[2/50]:   2%| | 1/50 [00:00<00:07,  6.67it/s, SmoothL1Loss=0.16, MAE=8.57, RegLoss=0, MAE_val=3.67, SmoothL1Loss_v\u001b[A\n",
      "Epoch[2/50]:   2%| | 1/50 [00:00<00:07,  6.67it/s, SmoothL1Loss=0.0168, MAE=2.74, RegLoss=0, MAE_val=5.88, SmoothL1Loss\u001b[A\n",
      "Epoch[2/50]:   4%| | 2/50 [00:00<00:06,  7.91it/s, SmoothL1Loss=0.0168, MAE=2.74, RegLoss=0, MAE_val=5.88, SmoothL1Loss\u001b[A\n",
      "Epoch[3/50]:   4%| | 2/50 [00:00<00:06,  7.91it/s, SmoothL1Loss=0.0168, MAE=2.74, RegLoss=0, MAE_val=5.88, SmoothL1Loss\u001b[A\n",
      "Epoch[3/50]:   4%| | 2/50 [00:00<00:06,  7.91it/s, SmoothL1Loss=0.0102, MAE=2.08, RegLoss=0, MAE_val=7.24, SmoothL1Loss\u001b[A\n",
      "Epoch[3/50]:   6%| | 3/50 [00:00<00:05,  8.44it/s, SmoothL1Loss=0.0102, MAE=2.08, RegLoss=0, MAE_val=7.24, SmoothL1Loss\u001b[A\n",
      "Epoch[4/50]:   6%| | 3/50 [00:00<00:05,  8.44it/s, SmoothL1Loss=0.0102, MAE=2.08, RegLoss=0, MAE_val=7.24, SmoothL1Loss\u001b[A\n",
      "Epoch[4/50]:   6%| | 3/50 [00:00<00:05,  8.44it/s, SmoothL1Loss=0.00958, MAE=2.02, RegLoss=0, MAE_val=10, SmoothL1Loss_\u001b[A\n",
      "Epoch[4/50]:   8%| | 4/50 [00:00<00:05,  8.87it/s, SmoothL1Loss=0.00958, MAE=2.02, RegLoss=0, MAE_val=10, SmoothL1Loss_\u001b[A\n",
      "Epoch[5/50]:   8%| | 4/50 [00:00<00:05,  8.87it/s, SmoothL1Loss=0.00958, MAE=2.02, RegLoss=0, MAE_val=10, SmoothL1Loss_\u001b[A\n",
      "Epoch[5/50]:   8%| | 4/50 [00:00<00:05,  8.87it/s, SmoothL1Loss=0.00888, MAE=1.94, RegLoss=0, MAE_val=10.6, SmoothL1Los\u001b[A\n",
      "Epoch[5/50]:  10%| | 5/50 [00:00<00:04,  9.15it/s, SmoothL1Loss=0.00888, MAE=1.94, RegLoss=0, MAE_val=10.6, SmoothL1Los\u001b[A\n",
      "Epoch[6/50]:  10%| | 5/50 [00:00<00:04,  9.15it/s, SmoothL1Loss=0.00888, MAE=1.94, RegLoss=0, MAE_val=10.6, SmoothL1Los\u001b[A\n",
      "Epoch[6/50]:  10%| | 5/50 [00:00<00:04,  9.15it/s, SmoothL1Loss=0.00868, MAE=1.98, RegLoss=0, MAE_val=9.55, SmoothL1Los\u001b[A\n",
      "Epoch[6/50]:  12%| | 6/50 [00:00<00:04,  9.22it/s, SmoothL1Loss=0.00868, MAE=1.98, RegLoss=0, MAE_val=9.55, SmoothL1Los\u001b[A\n",
      "Epoch[7/50]:  12%| | 6/50 [00:00<00:04,  9.22it/s, SmoothL1Loss=0.00868, MAE=1.98, RegLoss=0, MAE_val=9.55, SmoothL1Los\u001b[A\n",
      "Epoch[7/50]:  12%| | 6/50 [00:00<00:04,  9.22it/s, SmoothL1Loss=0.0088, MAE=1.95, RegLoss=0, MAE_val=10.6, SmoothL1Loss\u001b[A\n",
      "Epoch[7/50]:  14%|▏| 7/50 [00:00<00:04,  9.40it/s, SmoothL1Loss=0.0088, MAE=1.95, RegLoss=0, MAE_val=10.6, SmoothL1Loss\u001b[A\n",
      "Epoch[8/50]:  14%|▏| 7/50 [00:00<00:04,  9.40it/s, SmoothL1Loss=0.0088, MAE=1.95, RegLoss=0, MAE_val=10.6, SmoothL1Loss\u001b[A\n",
      "Epoch[8/50]:  14%|▏| 7/50 [00:00<00:04,  9.40it/s, SmoothL1Loss=0.0111, MAE=2.18, RegLoss=0, MAE_val=13.2, SmoothL1Loss\u001b[A\n",
      "Epoch[8/50]:  16%|▏| 8/50 [00:00<00:04,  9.53it/s, SmoothL1Loss=0.0111, MAE=2.18, RegLoss=0, MAE_val=13.2, SmoothL1Loss\u001b[A\n",
      "Epoch[9/50]:  16%|▏| 8/50 [00:01<00:04,  9.53it/s, SmoothL1Loss=0.0111, MAE=2.18, RegLoss=0, MAE_val=13.2, SmoothL1Loss\u001b[A\n",
      "Epoch[9/50]:  16%|▏| 8/50 [00:01<00:04,  9.53it/s, SmoothL1Loss=0.0126, MAE=2.41, RegLoss=0, MAE_val=11, SmoothL1Loss_v\u001b[A\n",
      "Epoch[9/50]:  18%|▏| 9/50 [00:01<00:04,  9.14it/s, SmoothL1Loss=0.0126, MAE=2.41, RegLoss=0, MAE_val=11, SmoothL1Loss_v\u001b[A\n",
      "Epoch[10/50]:  18%|▏| 9/50 [00:01<00:04,  9.14it/s, SmoothL1Loss=0.0126, MAE=2.41, RegLoss=0, MAE_val=11, SmoothL1Loss_\u001b[A\n",
      "Epoch[10/50]:  18%|▏| 9/50 [00:01<00:04,  9.14it/s, SmoothL1Loss=0.0133, MAE=2.5, RegLoss=0, MAE_val=11, SmoothL1Loss_v\u001b[A\n",
      "Epoch[10/50]:  20%|▏| 10/50 [00:01<00:04,  8.39it/s, SmoothL1Loss=0.0133, MAE=2.5, RegLoss=0, MAE_val=11, SmoothL1Loss_\u001b[A\n",
      "Epoch[11/50]:  20%|▏| 10/50 [00:01<00:04,  8.39it/s, SmoothL1Loss=0.0133, MAE=2.5, RegLoss=0, MAE_val=11, SmoothL1Loss_\u001b[A\n",
      "Epoch[11/50]:  20%|▏| 10/50 [00:01<00:04,  8.39it/s, SmoothL1Loss=0.0139, MAE=2.57, RegLoss=0, MAE_val=11.8, SmoothL1Lo\u001b[A\n",
      "Epoch[11/50]:  22%|▏| 11/50 [00:01<00:04,  7.93it/s, SmoothL1Loss=0.0139, MAE=2.57, RegLoss=0, MAE_val=11.8, SmoothL1Lo\u001b[A\n",
      "Epoch[12/50]:  22%|▏| 11/50 [00:01<00:04,  7.93it/s, SmoothL1Loss=0.0139, MAE=2.57, RegLoss=0, MAE_val=11.8, SmoothL1Lo\u001b[A\n",
      "Epoch[12/50]:  22%|▏| 11/50 [00:01<00:04,  7.93it/s, SmoothL1Loss=0.037, MAE=4.16, RegLoss=0, MAE_val=7.19, SmoothL1Los\u001b[A\n",
      "Epoch[12/50]:  24%|▏| 12/50 [00:01<00:04,  8.23it/s, SmoothL1Loss=0.037, MAE=4.16, RegLoss=0, MAE_val=7.19, SmoothL1Los\u001b[A\n",
      "Epoch[13/50]:  24%|▏| 12/50 [00:01<00:04,  8.23it/s, SmoothL1Loss=0.037, MAE=4.16, RegLoss=0, MAE_val=7.19, SmoothL1Los\u001b[A\n",
      "Epoch[13/50]:  24%|▏| 12/50 [00:01<00:04,  8.23it/s, SmoothL1Loss=0.0282, MAE=3.56, RegLoss=0, MAE_val=12.6, SmoothL1Lo\u001b[A\n",
      "Epoch[13/50]:  26%|▎| 13/50 [00:01<00:04,  8.41it/s, SmoothL1Loss=0.0282, MAE=3.56, RegLoss=0, MAE_val=12.6, SmoothL1Lo\u001b[A\n",
      "Epoch[14/50]:  26%|▎| 13/50 [00:01<00:04,  8.41it/s, SmoothL1Loss=0.0282, MAE=3.56, RegLoss=0, MAE_val=12.6, SmoothL1Lo\u001b[A\n",
      "Epoch[14/50]:  26%|▎| 13/50 [00:01<00:04,  8.41it/s, SmoothL1Loss=0.0226, MAE=3.17, RegLoss=0, MAE_val=11.2, SmoothL1Lo\u001b[A\n",
      "Epoch[14/50]:  28%|▎| 14/50 [00:01<00:04,  8.04it/s, SmoothL1Loss=0.0226, MAE=3.17, RegLoss=0, MAE_val=11.2, SmoothL1Lo\u001b[A\n",
      "Epoch[15/50]:  28%|▎| 14/50 [00:01<00:04,  8.04it/s, SmoothL1Loss=0.0226, MAE=3.17, RegLoss=0, MAE_val=11.2, SmoothL1Lo\u001b[A\n",
      "Epoch[15/50]:  28%|▎| 14/50 [00:01<00:04,  8.04it/s, SmoothL1Loss=0.0509, MAE=4.61, RegLoss=0, MAE_val=15.1, SmoothL1Lo\u001b[A\n",
      "Epoch[15/50]:  30%|▎| 15/50 [00:01<00:04,  7.57it/s, SmoothL1Loss=0.0509, MAE=4.61, RegLoss=0, MAE_val=15.1, SmoothL1Lo\u001b[A\n",
      "Epoch[16/50]:  30%|▎| 15/50 [00:01<00:04,  7.57it/s, SmoothL1Loss=0.0509, MAE=4.61, RegLoss=0, MAE_val=15.1, SmoothL1Lo\u001b[A\n",
      "Epoch[16/50]:  30%|▎| 15/50 [00:01<00:04,  7.57it/s, SmoothL1Loss=0.0239, MAE=3.39, RegLoss=0, MAE_val=7.85, SmoothL1Lo\u001b[A\n",
      "Epoch[16/50]:  32%|▎| 16/50 [00:01<00:04,  7.52it/s, SmoothL1Loss=0.0239, MAE=3.39, RegLoss=0, MAE_val=7.85, SmoothL1Lo\u001b[A\n",
      "Epoch[17/50]:  32%|▎| 16/50 [00:02<00:04,  7.52it/s, SmoothL1Loss=0.0239, MAE=3.39, RegLoss=0, MAE_val=7.85, SmoothL1Lo\u001b[A\n",
      "Epoch[17/50]:  32%|▎| 16/50 [00:02<00:04,  7.52it/s, SmoothL1Loss=0.0203, MAE=3.08, RegLoss=0, MAE_val=10.2, SmoothL1Lo\u001b[A\n",
      "Epoch[17/50]:  34%|▎| 17/50 [00:02<00:04,  7.61it/s, SmoothL1Loss=0.0203, MAE=3.08, RegLoss=0, MAE_val=10.2, SmoothL1Lo\u001b[A\n",
      "Epoch[18/50]:  34%|▎| 17/50 [00:02<00:04,  7.61it/s, SmoothL1Loss=0.0203, MAE=3.08, RegLoss=0, MAE_val=10.2, SmoothL1Lo\u001b[A\n",
      "Epoch[18/50]:  34%|▎| 17/50 [00:02<00:04,  7.61it/s, SmoothL1Loss=0.0293, MAE=3.64, RegLoss=0, MAE_val=9.46, SmoothL1Lo\u001b[A\n",
      "Epoch[18/50]:  36%|▎| 18/50 [00:02<00:04,  7.49it/s, SmoothL1Loss=0.0293, MAE=3.64, RegLoss=0, MAE_val=9.46, SmoothL1Lo\u001b[A\n",
      "Epoch[19/50]:  36%|▎| 18/50 [00:02<00:04,  7.49it/s, SmoothL1Loss=0.0293, MAE=3.64, RegLoss=0, MAE_val=9.46, SmoothL1Lo\u001b[A\n",
      "Epoch[19/50]:  36%|▎| 18/50 [00:02<00:04,  7.49it/s, SmoothL1Loss=0.0201, MAE=3.05, RegLoss=0, MAE_val=14.7, SmoothL1Lo\u001b[A\n",
      "Epoch[19/50]:  38%|▍| 19/50 [00:02<00:04,  7.64it/s, SmoothL1Loss=0.0201, MAE=3.05, RegLoss=0, MAE_val=14.7, SmoothL1Lo\u001b[A\n",
      "Epoch[20/50]:  38%|▍| 19/50 [00:02<00:04,  7.64it/s, SmoothL1Loss=0.0201, MAE=3.05, RegLoss=0, MAE_val=14.7, SmoothL1Lo\u001b[A\n",
      "Epoch[20/50]:  38%|▍| 19/50 [00:02<00:04,  7.64it/s, SmoothL1Loss=0.0254, MAE=3.46, RegLoss=0, MAE_val=11.1, SmoothL1Lo\u001b[A\n",
      "Epoch[20/50]:  40%|▍| 20/50 [00:02<00:03,  7.87it/s, SmoothL1Loss=0.0254, MAE=3.46, RegLoss=0, MAE_val=11.1, SmoothL1Lo\u001b[A\n",
      "Epoch[21/50]:  40%|▍| 20/50 [00:02<00:03,  7.87it/s, SmoothL1Loss=0.0254, MAE=3.46, RegLoss=0, MAE_val=11.1, SmoothL1Lo\u001b[A\n",
      "Epoch[21/50]:  40%|▍| 20/50 [00:02<00:03,  7.87it/s, SmoothL1Loss=0.0183, MAE=2.91, RegLoss=0, MAE_val=10.6, SmoothL1Lo\u001b[A\n",
      "Epoch[21/50]:  42%|▍| 21/50 [00:02<00:03,  7.93it/s, SmoothL1Loss=0.0183, MAE=2.91, RegLoss=0, MAE_val=10.6, SmoothL1Lo\u001b[A\n",
      "Epoch[22/50]:  42%|▍| 21/50 [00:02<00:03,  7.93it/s, SmoothL1Loss=0.0183, MAE=2.91, RegLoss=0, MAE_val=10.6, SmoothL1Lo\u001b[A\n"
     ]
    },
    {
     "name": "stderr",
     "output_type": "stream",
     "text": [
      "Epoch[22/50]:  42%|▍| 21/50 [00:02<00:03,  7.93it/s, SmoothL1Loss=0.0162, MAE=2.74, RegLoss=0, MAE_val=13, SmoothL1Loss\u001b[A\n",
      "Epoch[22/50]:  44%|▍| 22/50 [00:02<00:03,  7.49it/s, SmoothL1Loss=0.0162, MAE=2.74, RegLoss=0, MAE_val=13, SmoothL1Loss\u001b[A\n",
      "Epoch[23/50]:  44%|▍| 22/50 [00:02<00:03,  7.49it/s, SmoothL1Loss=0.0162, MAE=2.74, RegLoss=0, MAE_val=13, SmoothL1Loss\u001b[A\n",
      "Epoch[23/50]:  44%|▍| 22/50 [00:02<00:03,  7.49it/s, SmoothL1Loss=0.0155, MAE=2.67, RegLoss=0, MAE_val=9.47, SmoothL1Lo\u001b[A\n",
      "Epoch[23/50]:  46%|▍| 23/50 [00:02<00:03,  7.76it/s, SmoothL1Loss=0.0155, MAE=2.67, RegLoss=0, MAE_val=9.47, SmoothL1Lo\u001b[A\n",
      "Epoch[24/50]:  46%|▍| 23/50 [00:02<00:03,  7.76it/s, SmoothL1Loss=0.0155, MAE=2.67, RegLoss=0, MAE_val=9.47, SmoothL1Lo\u001b[A\n",
      "Epoch[24/50]:  46%|▍| 23/50 [00:02<00:03,  7.76it/s, SmoothL1Loss=0.0163, MAE=2.77, RegLoss=0, MAE_val=6.84, SmoothL1Lo\u001b[A\n",
      "Epoch[24/50]:  48%|▍| 24/50 [00:02<00:03,  8.08it/s, SmoothL1Loss=0.0163, MAE=2.77, RegLoss=0, MAE_val=6.84, SmoothL1Lo\u001b[A\n",
      "Epoch[25/50]:  48%|▍| 24/50 [00:03<00:03,  8.08it/s, SmoothL1Loss=0.0163, MAE=2.77, RegLoss=0, MAE_val=6.84, SmoothL1Lo\u001b[A\n",
      "Epoch[25/50]:  48%|▍| 24/50 [00:03<00:03,  8.08it/s, SmoothL1Loss=0.0235, MAE=3.32, RegLoss=0, MAE_val=13.7, SmoothL1Lo\u001b[A\n",
      "Epoch[25/50]:  50%|▌| 25/50 [00:03<00:02,  8.36it/s, SmoothL1Loss=0.0235, MAE=3.32, RegLoss=0, MAE_val=13.7, SmoothL1Lo\u001b[A\n",
      "Epoch[26/50]:  50%|▌| 25/50 [00:03<00:02,  8.36it/s, SmoothL1Loss=0.0235, MAE=3.32, RegLoss=0, MAE_val=13.7, SmoothL1Lo\u001b[A\n",
      "Epoch[26/50]:  50%|▌| 25/50 [00:03<00:02,  8.36it/s, SmoothL1Loss=0.0136, MAE=2.48, RegLoss=0, MAE_val=10.2, SmoothL1Lo\u001b[A\n",
      "Epoch[26/50]:  52%|▌| 26/50 [00:03<00:03,  7.93it/s, SmoothL1Loss=0.0136, MAE=2.48, RegLoss=0, MAE_val=10.2, SmoothL1Lo\u001b[A\n",
      "Epoch[27/50]:  52%|▌| 26/50 [00:03<00:03,  7.93it/s, SmoothL1Loss=0.0136, MAE=2.48, RegLoss=0, MAE_val=10.2, SmoothL1Lo\u001b[A\n",
      "Epoch[27/50]:  52%|▌| 26/50 [00:03<00:03,  7.93it/s, SmoothL1Loss=0.0113, MAE=2.26, RegLoss=0, MAE_val=10.1, SmoothL1Lo\u001b[A\n",
      "Epoch[27/50]:  54%|▌| 27/50 [00:03<00:02,  7.82it/s, SmoothL1Loss=0.0113, MAE=2.26, RegLoss=0, MAE_val=10.1, SmoothL1Lo\u001b[A\n",
      "Epoch[28/50]:  54%|▌| 27/50 [00:03<00:02,  7.82it/s, SmoothL1Loss=0.0113, MAE=2.26, RegLoss=0, MAE_val=10.1, SmoothL1Lo\u001b[A\n",
      "Epoch[28/50]:  54%|▌| 27/50 [00:03<00:02,  7.82it/s, SmoothL1Loss=0.0129, MAE=2.42, RegLoss=0, MAE_val=9.48, SmoothL1Lo\u001b[A\n",
      "Epoch[28/50]:  56%|▌| 28/50 [00:03<00:02,  7.57it/s, SmoothL1Loss=0.0129, MAE=2.42, RegLoss=0, MAE_val=9.48, SmoothL1Lo\u001b[A\n",
      "Epoch[29/50]:  56%|▌| 28/50 [00:03<00:02,  7.57it/s, SmoothL1Loss=0.0129, MAE=2.42, RegLoss=0, MAE_val=9.48, SmoothL1Lo\u001b[A\n",
      "Epoch[29/50]:  56%|▌| 28/50 [00:03<00:02,  7.57it/s, SmoothL1Loss=0.0185, MAE=2.95, RegLoss=0, MAE_val=12.6, SmoothL1Lo\u001b[A\n",
      "Epoch[29/50]:  58%|▌| 29/50 [00:03<00:02,  7.09it/s, SmoothL1Loss=0.0185, MAE=2.95, RegLoss=0, MAE_val=12.6, SmoothL1Lo\u001b[A\n",
      "Epoch[30/50]:  58%|▌| 29/50 [00:03<00:02,  7.09it/s, SmoothL1Loss=0.0185, MAE=2.95, RegLoss=0, MAE_val=12.6, SmoothL1Lo\u001b[A\n",
      "Epoch[30/50]:  58%|▌| 29/50 [00:03<00:02,  7.09it/s, SmoothL1Loss=0.0136, MAE=2.47, RegLoss=0, MAE_val=12.4, SmoothL1Lo\u001b[A\n",
      "Epoch[30/50]:  60%|▌| 30/50 [00:03<00:02,  7.07it/s, SmoothL1Loss=0.0136, MAE=2.47, RegLoss=0, MAE_val=12.4, SmoothL1Lo\u001b[A\n",
      "Epoch[31/50]:  60%|▌| 30/50 [00:03<00:02,  7.07it/s, SmoothL1Loss=0.0136, MAE=2.47, RegLoss=0, MAE_val=12.4, SmoothL1Lo\u001b[A\n",
      "Epoch[31/50]:  60%|▌| 30/50 [00:03<00:02,  7.07it/s, SmoothL1Loss=0.0109, MAE=2.2, RegLoss=0, MAE_val=10.9, SmoothL1Los\u001b[A\n",
      "Epoch[31/50]:  62%|▌| 31/50 [00:03<00:02,  7.17it/s, SmoothL1Loss=0.0109, MAE=2.2, RegLoss=0, MAE_val=10.9, SmoothL1Los\u001b[A\n",
      "Epoch[32/50]:  62%|▌| 31/50 [00:04<00:02,  7.17it/s, SmoothL1Loss=0.0109, MAE=2.2, RegLoss=0, MAE_val=10.9, SmoothL1Los\u001b[A\n",
      "Epoch[32/50]:  62%|▌| 31/50 [00:04<00:02,  7.17it/s, SmoothL1Loss=0.00809, MAE=1.91, RegLoss=0, MAE_val=12.1, SmoothL1L\u001b[A\n",
      "Epoch[32/50]:  64%|▋| 32/50 [00:04<00:02,  7.25it/s, SmoothL1Loss=0.00809, MAE=1.91, RegLoss=0, MAE_val=12.1, SmoothL1L\u001b[A\n",
      "Epoch[33/50]:  64%|▋| 32/50 [00:04<00:02,  7.25it/s, SmoothL1Loss=0.00809, MAE=1.91, RegLoss=0, MAE_val=12.1, SmoothL1L\u001b[A\n",
      "Epoch[33/50]:  64%|▋| 32/50 [00:04<00:02,  7.25it/s, SmoothL1Loss=0.0082, MAE=1.91, RegLoss=0, MAE_val=12, SmoothL1Loss\u001b[A\n",
      "Epoch[33/50]:  66%|▋| 33/50 [00:04<00:02,  6.88it/s, SmoothL1Loss=0.0082, MAE=1.91, RegLoss=0, MAE_val=12, SmoothL1Loss\u001b[A\n",
      "Epoch[34/50]:  66%|▋| 33/50 [00:04<00:02,  6.88it/s, SmoothL1Loss=0.0082, MAE=1.91, RegLoss=0, MAE_val=12, SmoothL1Loss\u001b[A\n",
      "Epoch[34/50]:  66%|▋| 33/50 [00:04<00:02,  6.88it/s, SmoothL1Loss=0.00783, MAE=1.88, RegLoss=0, MAE_val=11.8, SmoothL1L\u001b[A\n",
      "Epoch[34/50]:  68%|▋| 34/50 [00:04<00:02,  7.01it/s, SmoothL1Loss=0.00783, MAE=1.88, RegLoss=0, MAE_val=11.8, SmoothL1L\u001b[A\n",
      "Epoch[35/50]:  68%|▋| 34/50 [00:04<00:02,  7.01it/s, SmoothL1Loss=0.00783, MAE=1.88, RegLoss=0, MAE_val=11.8, SmoothL1L\u001b[A\n",
      "Epoch[35/50]:  68%|▋| 34/50 [00:04<00:02,  7.01it/s, SmoothL1Loss=0.00846, MAE=1.96, RegLoss=0, MAE_val=11.4, SmoothL1L\u001b[A\n",
      "Epoch[35/50]:  70%|▋| 35/50 [00:04<00:01,  7.55it/s, SmoothL1Loss=0.00846, MAE=1.96, RegLoss=0, MAE_val=11.4, SmoothL1L\u001b[A\n",
      "Epoch[36/50]:  70%|▋| 35/50 [00:04<00:01,  7.55it/s, SmoothL1Loss=0.00846, MAE=1.96, RegLoss=0, MAE_val=11.4, SmoothL1L\u001b[A\n",
      "Epoch[36/50]:  70%|▋| 35/50 [00:04<00:01,  7.55it/s, SmoothL1Loss=0.00775, MAE=1.88, RegLoss=0, MAE_val=11.4, SmoothL1L\u001b[A\n",
      "Epoch[36/50]:  72%|▋| 36/50 [00:04<00:01,  7.95it/s, SmoothL1Loss=0.00775, MAE=1.88, RegLoss=0, MAE_val=11.4, SmoothL1L\u001b[A\n",
      "Epoch[37/50]:  72%|▋| 36/50 [00:04<00:01,  7.95it/s, SmoothL1Loss=0.00775, MAE=1.88, RegLoss=0, MAE_val=11.4, SmoothL1L\u001b[A\n",
      "Epoch[37/50]:  72%|▋| 36/50 [00:04<00:01,  7.95it/s, SmoothL1Loss=0.00688, MAE=1.75, RegLoss=0, MAE_val=11.6, SmoothL1L\u001b[A\n",
      "Epoch[37/50]:  74%|▋| 37/50 [00:04<00:01,  8.16it/s, SmoothL1Loss=0.00688, MAE=1.75, RegLoss=0, MAE_val=11.6, SmoothL1L\u001b[A\n",
      "Epoch[38/50]:  74%|▋| 37/50 [00:04<00:01,  8.16it/s, SmoothL1Loss=0.00688, MAE=1.75, RegLoss=0, MAE_val=11.6, SmoothL1L\u001b[A\n",
      "Epoch[38/50]:  74%|▋| 37/50 [00:04<00:01,  8.16it/s, SmoothL1Loss=0.0063, MAE=1.66, RegLoss=0, MAE_val=12.1, SmoothL1Lo\u001b[A\n",
      "Epoch[38/50]:  76%|▊| 38/50 [00:04<00:01,  8.29it/s, SmoothL1Loss=0.0063, MAE=1.66, RegLoss=0, MAE_val=12.1, SmoothL1Lo\u001b[A\n",
      "Epoch[39/50]:  76%|▊| 38/50 [00:04<00:01,  8.29it/s, SmoothL1Loss=0.0063, MAE=1.66, RegLoss=0, MAE_val=12.1, SmoothL1Lo\u001b[A\n",
      "Epoch[39/50]:  76%|▊| 38/50 [00:04<00:01,  8.29it/s, SmoothL1Loss=0.00626, MAE=1.65, RegLoss=0, MAE_val=11.6, SmoothL1L\u001b[A\n",
      "Epoch[39/50]:  78%|▊| 39/50 [00:04<00:01,  7.99it/s, SmoothL1Loss=0.00626, MAE=1.65, RegLoss=0, MAE_val=11.6, SmoothL1L\u001b[A\n",
      "Epoch[40/50]:  78%|▊| 39/50 [00:05<00:01,  7.99it/s, SmoothL1Loss=0.00626, MAE=1.65, RegLoss=0, MAE_val=11.6, SmoothL1L\u001b[A\n",
      "Epoch[40/50]:  78%|▊| 39/50 [00:05<00:01,  7.99it/s, SmoothL1Loss=0.00666, MAE=1.69, RegLoss=0, MAE_val=11.2, SmoothL1L\u001b[A\n",
      "Epoch[40/50]:  80%|▊| 40/50 [00:05<00:01,  7.51it/s, SmoothL1Loss=0.00666, MAE=1.69, RegLoss=0, MAE_val=11.2, SmoothL1L\u001b[A\n",
      "Epoch[41/50]:  80%|▊| 40/50 [00:05<00:01,  7.51it/s, SmoothL1Loss=0.00666, MAE=1.69, RegLoss=0, MAE_val=11.2, SmoothL1L\u001b[A\n",
      "Epoch[41/50]:  80%|▊| 40/50 [00:05<00:01,  7.51it/s, SmoothL1Loss=0.00629, MAE=1.67, RegLoss=0, MAE_val=12, SmoothL1Los\u001b[A\n",
      "Epoch[41/50]:  82%|▊| 41/50 [00:05<00:01,  7.25it/s, SmoothL1Loss=0.00629, MAE=1.67, RegLoss=0, MAE_val=12, SmoothL1Los\u001b[A\n",
      "Epoch[42/50]:  82%|▊| 41/50 [00:05<00:01,  7.25it/s, SmoothL1Loss=0.00629, MAE=1.67, RegLoss=0, MAE_val=12, SmoothL1Los\u001b[A\n",
      "Epoch[42/50]:  82%|▊| 41/50 [00:05<00:01,  7.25it/s, SmoothL1Loss=0.0057, MAE=1.59, RegLoss=0, MAE_val=11.6, SmoothL1Lo\u001b[A\n",
      "Epoch[42/50]:  84%|▊| 42/50 [00:05<00:01,  7.19it/s, SmoothL1Loss=0.0057, MAE=1.59, RegLoss=0, MAE_val=11.6, SmoothL1Lo\u001b[A\n",
      "Epoch[43/50]:  84%|▊| 42/50 [00:05<00:01,  7.19it/s, SmoothL1Loss=0.0057, MAE=1.59, RegLoss=0, MAE_val=11.6, SmoothL1Lo\u001b[A\n",
      "Epoch[43/50]:  84%|▊| 42/50 [00:05<00:01,  7.19it/s, SmoothL1Loss=0.00589, MAE=1.58, RegLoss=0, MAE_val=11.8, SmoothL1L\u001b[A\n",
      "Epoch[43/50]:  86%|▊| 43/50 [00:05<00:01,  6.62it/s, SmoothL1Loss=0.00589, MAE=1.58, RegLoss=0, MAE_val=11.8, SmoothL1L\u001b[A\n",
      "Epoch[44/50]:  86%|▊| 43/50 [00:05<00:01,  6.62it/s, SmoothL1Loss=0.00589, MAE=1.58, RegLoss=0, MAE_val=11.8, SmoothL1L\u001b[A\n"
     ]
    },
    {
     "name": "stderr",
     "output_type": "stream",
     "text": [
      "Epoch[44/50]:  86%|▊| 43/50 [00:05<00:01,  6.62it/s, SmoothL1Loss=0.00556, MAE=1.58, RegLoss=0, MAE_val=12, SmoothL1Los\u001b[A\n",
      "Epoch[44/50]:  88%|▉| 44/50 [00:05<00:00,  6.48it/s, SmoothL1Loss=0.00556, MAE=1.58, RegLoss=0, MAE_val=12, SmoothL1Los\u001b[A\n",
      "Epoch[45/50]:  88%|▉| 44/50 [00:05<00:00,  6.48it/s, SmoothL1Loss=0.00556, MAE=1.58, RegLoss=0, MAE_val=12, SmoothL1Los\u001b[A\n",
      "Epoch[45/50]:  88%|▉| 44/50 [00:05<00:00,  6.48it/s, SmoothL1Loss=0.00572, MAE=1.57, RegLoss=0, MAE_val=12.3, SmoothL1L\u001b[A\n",
      "Epoch[45/50]:  90%|▉| 45/50 [00:05<00:00,  6.68it/s, SmoothL1Loss=0.00572, MAE=1.57, RegLoss=0, MAE_val=12.3, SmoothL1L\u001b[A\n",
      "Epoch[46/50]:  90%|▉| 45/50 [00:05<00:00,  6.68it/s, SmoothL1Loss=0.00572, MAE=1.57, RegLoss=0, MAE_val=12.3, SmoothL1L\u001b[A\n",
      "Epoch[46/50]:  90%|▉| 45/50 [00:05<00:00,  6.68it/s, SmoothL1Loss=0.00548, MAE=1.56, RegLoss=0, MAE_val=12.3, SmoothL1L\u001b[A\n",
      "Epoch[46/50]:  92%|▉| 46/50 [00:06<00:00,  6.73it/s, SmoothL1Loss=0.00548, MAE=1.56, RegLoss=0, MAE_val=12.3, SmoothL1L\u001b[A\n",
      "Epoch[47/50]:  92%|▉| 46/50 [00:06<00:00,  6.73it/s, SmoothL1Loss=0.00548, MAE=1.56, RegLoss=0, MAE_val=12.3, SmoothL1L\u001b[A\n",
      "Epoch[47/50]:  92%|▉| 46/50 [00:06<00:00,  6.73it/s, SmoothL1Loss=0.00526, MAE=1.51, RegLoss=0, MAE_val=11.9, SmoothL1L\u001b[A\n",
      "Epoch[47/50]:  94%|▉| 47/50 [00:06<00:00,  6.72it/s, SmoothL1Loss=0.00526, MAE=1.51, RegLoss=0, MAE_val=11.9, SmoothL1L\u001b[A\n",
      "Epoch[48/50]:  94%|▉| 47/50 [00:06<00:00,  6.72it/s, SmoothL1Loss=0.00526, MAE=1.51, RegLoss=0, MAE_val=11.9, SmoothL1L\u001b[A\n",
      "Epoch[48/50]:  94%|▉| 47/50 [00:06<00:00,  6.72it/s, SmoothL1Loss=0.00518, MAE=1.5, RegLoss=0, MAE_val=12.1, SmoothL1Lo\u001b[A\n",
      "Epoch[48/50]:  96%|▉| 48/50 [00:06<00:00,  7.06it/s, SmoothL1Loss=0.00518, MAE=1.5, RegLoss=0, MAE_val=12.1, SmoothL1Lo\u001b[A\n",
      "Epoch[49/50]:  96%|▉| 48/50 [00:06<00:00,  7.06it/s, SmoothL1Loss=0.00518, MAE=1.5, RegLoss=0, MAE_val=12.1, SmoothL1Lo\u001b[A\n",
      "Epoch[49/50]:  96%|▉| 48/50 [00:06<00:00,  7.06it/s, SmoothL1Loss=0.00514, MAE=1.51, RegLoss=0, MAE_val=12, SmoothL1Los\u001b[A\n",
      "Epoch[49/50]:  98%|▉| 49/50 [00:06<00:00,  7.07it/s, SmoothL1Loss=0.00514, MAE=1.51, RegLoss=0, MAE_val=12, SmoothL1Los\u001b[A\n",
      "Epoch[50/50]:  98%|▉| 49/50 [00:06<00:00,  7.07it/s, SmoothL1Loss=0.00514, MAE=1.51, RegLoss=0, MAE_val=12, SmoothL1Los\u001b[A\n",
      "Epoch[50/50]:  98%|▉| 49/50 [00:06<00:00,  7.07it/s, SmoothL1Loss=0.0051, MAE=1.5, RegLoss=0, MAE_val=12, SmoothL1Loss_\u001b[A\n",
      "Epoch[50/50]: 100%|█| 50/50 [00:06<00:00,  7.61it/s, SmoothL1Loss=0.0051, MAE=1.5, RegLoss=0, MAE_val=12, SmoothL1Loss_\u001b[A\n"
     ]
    },
    {
     "data": {
      "image/png": "[encoded data removed]",
      "text/plain": [
       "<Figure size 432x288 with 2 Axes>"
      ]
     },
     "metadata": {
      "image/png": {
       "height": 279,
       "width": 424
      },
      "needs_background": "light"
     },
     "output_type": "display_data"
    },
    {
     "name": "stderr",
     "output_type": "stream",
     "text": [
      "INFO:fbprophet:Disabling daily seasonality. Run prophet with daily_seasonality=True to override this.\n",
      "INFO:fbprophet:Making 86 forecasts with cutoffs between 2014-07-07 00:00:00 and 2018-01-02 00:00:00\n"
     ]
    },
    {
     "data": {
      "application/vnd.jupyter.widget-view+json": {
       "model_id": "6d986e603fe7489ab6915b8e53e5b104",
       "version_major": 2,
       "version_minor": 0
      },
      "text/plain": [
       "  0%|          | 0/86 [00:00<?, ?it/s]"
      ]
     },
     "metadata": {},
     "output_type": "display_data"
    },
    {
     "ename": "KeyboardInterrupt",
     "evalue": "",
     "output_type": "error",
     "traceback": [
      "\u001b[1;31m---------------------------------------------------------------------------\u001b[0m",
      "\u001b[1;31mKeyboardInterrupt\u001b[0m                         Traceback (most recent call last)",
      "\u001b[1;32m<ipython-input-9-595ad358ae0f>\u001b[0m in \u001b[0;36m<module>\u001b[1;34m\u001b[0m\n\u001b[1;32m----> 1\u001b[1;33m \u001b[0mindividual_predictors_forecasts\u001b[0m \u001b[1;33m=\u001b[0m \u001b[0mindividual_predictors_template2\u001b[0m\u001b[1;33m(\u001b[0m\u001b[0mtraining_data\u001b[0m\u001b[1;33m,\u001b[0m \u001b[1;36m30\u001b[0m\u001b[1;33m)\u001b[0m\u001b[1;33m\u001b[0m\u001b[1;33m\u001b[0m\u001b[0m\n\u001b[0m",
      "\u001b[1;32m~\\Documents\\GitHubPrivate\\arguing-predictors\\system\\activate.py\u001b[0m in \u001b[0;36mindividual_predictors_template2\u001b[1;34m(training_df, future_horizon)\u001b[0m\n\u001b[0;32m     89\u001b[0m     \u001b[0mtwo\u001b[0m \u001b[1;33m=\u001b[0m \u001b[0mUnivariatePredictorII\u001b[0m\u001b[1;33m(\u001b[0m\u001b[0mtraining_df\u001b[0m\u001b[1;33m,\u001b[0m \u001b[0mfuture_horizon\u001b[0m\u001b[1;33m)\u001b[0m\u001b[1;33m\u001b[0m\u001b[1;33m\u001b[0m\u001b[0m\n\u001b[0;32m     90\u001b[0m     \u001b[0mtwo\u001b[0m\u001b[1;33m.\u001b[0m\u001b[0mfit_prophet_model\u001b[0m\u001b[1;33m(\u001b[0m\u001b[1;33m)\u001b[0m\u001b[1;33m\u001b[0m\u001b[1;33m\u001b[0m\u001b[0m\n\u001b[1;32m---> 91\u001b[1;33m     \u001b[0mtwo\u001b[0m\u001b[1;33m.\u001b[0m\u001b[0mshow_performance_prophet\u001b[0m\u001b[1;33m(\u001b[0m\u001b[1;33m)\u001b[0m\u001b[1;33m\u001b[0m\u001b[1;33m\u001b[0m\u001b[0m\n\u001b[0m\u001b[0;32m     92\u001b[0m \u001b[1;33m\u001b[0m\u001b[0m\n\u001b[0;32m     93\u001b[0m     \u001b[0mprediction_one\u001b[0m \u001b[1;33m=\u001b[0m \u001b[0mone\u001b[0m\u001b[1;33m.\u001b[0m\u001b[0mpredict_neural\u001b[0m\u001b[1;33m(\u001b[0m\u001b[1;33m)\u001b[0m\u001b[1;33m\u001b[0m\u001b[1;33m\u001b[0m\u001b[0m\n",
      "\u001b[1;32m~\\Documents\\GitHubPrivate\\arguing-predictors\\tools\\predictorsII.py\u001b[0m in \u001b[0;36mshow_performance_prophet\u001b[1;34m(self)\u001b[0m\n\u001b[0;32m    103\u001b[0m                 \u001b[1;33m(\u001b[0m\u001b[0mDataFrame\u001b[0m\u001b[1;33m)\u001b[0m\u001b[1;33m:\u001b[0m \u001b[0mModel\u001b[0m \u001b[0mperformance\u001b[0m \u001b[0mstatistics\u001b[0m\u001b[1;33m.\u001b[0m\u001b[1;33m\u001b[0m\u001b[1;33m\u001b[0m\u001b[0m\n\u001b[0;32m    104\u001b[0m         '''\n\u001b[1;32m--> 105\u001b[1;33m         \u001b[0mcross_val\u001b[0m \u001b[1;33m=\u001b[0m \u001b[0mcross_validation\u001b[0m\u001b[1;33m(\u001b[0m\u001b[0mself\u001b[0m\u001b[1;33m.\u001b[0m\u001b[0mmodel\u001b[0m\u001b[1;33m,\u001b[0m \u001b[0minitial\u001b[0m \u001b[1;33m=\u001b[0m \u001b[1;34mf'{(round(0.8*len(self.data)))} days'\u001b[0m\u001b[1;33m,\u001b[0m \u001b[0mhorizon\u001b[0m \u001b[1;33m=\u001b[0m \u001b[1;34mf'{self.future} days'\u001b[0m\u001b[1;33m)\u001b[0m\u001b[1;33m\u001b[0m\u001b[1;33m\u001b[0m\u001b[0m\n\u001b[0m\u001b[0;32m    106\u001b[0m         \u001b[0mperformance\u001b[0m \u001b[1;33m=\u001b[0m \u001b[0mperformance_metrics\u001b[0m\u001b[1;33m(\u001b[0m\u001b[0mcross_val\u001b[0m\u001b[1;33m)\u001b[0m\u001b[1;33m\u001b[0m\u001b[1;33m\u001b[0m\u001b[0m\n\u001b[0;32m    107\u001b[0m \u001b[1;33m\u001b[0m\u001b[0m\n",
      "\u001b[1;32m~\\Anaconda3\\envs\\sys\\lib\\site-packages\\fbprophet\\diagnostics.py\u001b[0m in \u001b[0;36mcross_validation\u001b[1;34m(model, horizon, period, initial, parallel, cutoffs)\u001b[0m\n\u001b[0;32m    185\u001b[0m \u001b[1;33m\u001b[0m\u001b[0m\n\u001b[0;32m    186\u001b[0m     \u001b[1;32melse\u001b[0m\u001b[1;33m:\u001b[0m\u001b[1;33m\u001b[0m\u001b[1;33m\u001b[0m\u001b[0m\n\u001b[1;32m--> 187\u001b[1;33m         predicts = [\n\u001b[0m\u001b[0;32m    188\u001b[0m             \u001b[0msingle_cutoff_forecast\u001b[0m\u001b[1;33m(\u001b[0m\u001b[0mdf\u001b[0m\u001b[1;33m,\u001b[0m \u001b[0mmodel\u001b[0m\u001b[1;33m,\u001b[0m \u001b[0mcutoff\u001b[0m\u001b[1;33m,\u001b[0m \u001b[0mhorizon\u001b[0m\u001b[1;33m,\u001b[0m \u001b[0mpredict_columns\u001b[0m\u001b[1;33m)\u001b[0m\u001b[1;33m\u001b[0m\u001b[1;33m\u001b[0m\u001b[0m\n\u001b[0;32m    189\u001b[0m             \u001b[1;32mfor\u001b[0m \u001b[0mcutoff\u001b[0m \u001b[1;32min\u001b[0m \u001b[0mtqdm\u001b[0m\u001b[1;33m(\u001b[0m\u001b[0mcutoffs\u001b[0m\u001b[1;33m)\u001b[0m\u001b[1;33m\u001b[0m\u001b[1;33m\u001b[0m\u001b[0m\n",
      "\u001b[1;32m~\\Anaconda3\\envs\\sys\\lib\\site-packages\\fbprophet\\diagnostics.py\u001b[0m in \u001b[0;36m<listcomp>\u001b[1;34m(.0)\u001b[0m\n\u001b[0;32m    186\u001b[0m     \u001b[1;32melse\u001b[0m\u001b[1;33m:\u001b[0m\u001b[1;33m\u001b[0m\u001b[1;33m\u001b[0m\u001b[0m\n\u001b[0;32m    187\u001b[0m         predicts = [\n\u001b[1;32m--> 188\u001b[1;33m             \u001b[0msingle_cutoff_forecast\u001b[0m\u001b[1;33m(\u001b[0m\u001b[0mdf\u001b[0m\u001b[1;33m,\u001b[0m \u001b[0mmodel\u001b[0m\u001b[1;33m,\u001b[0m \u001b[0mcutoff\u001b[0m\u001b[1;33m,\u001b[0m \u001b[0mhorizon\u001b[0m\u001b[1;33m,\u001b[0m \u001b[0mpredict_columns\u001b[0m\u001b[1;33m)\u001b[0m\u001b[1;33m\u001b[0m\u001b[1;33m\u001b[0m\u001b[0m\n\u001b[0m\u001b[0;32m    189\u001b[0m             \u001b[1;32mfor\u001b[0m \u001b[0mcutoff\u001b[0m \u001b[1;32min\u001b[0m \u001b[0mtqdm\u001b[0m\u001b[1;33m(\u001b[0m\u001b[0mcutoffs\u001b[0m\u001b[1;33m)\u001b[0m\u001b[1;33m\u001b[0m\u001b[1;33m\u001b[0m\u001b[0m\n\u001b[0;32m    190\u001b[0m         ]\n",
      "\u001b[1;32m~\\Anaconda3\\envs\\sys\\lib\\site-packages\\fbprophet\\diagnostics.py\u001b[0m in \u001b[0;36msingle_cutoff_forecast\u001b[1;34m(df, model, cutoff, horizon, predict_columns)\u001b[0m\n\u001b[0;32m    225\u001b[0m             \u001b[1;34m'Increase initial window.'\u001b[0m\u001b[1;33m\u001b[0m\u001b[1;33m\u001b[0m\u001b[0m\n\u001b[0;32m    226\u001b[0m         )\n\u001b[1;32m--> 227\u001b[1;33m     \u001b[0mm\u001b[0m\u001b[1;33m.\u001b[0m\u001b[0mfit\u001b[0m\u001b[1;33m(\u001b[0m\u001b[0mhistory_c\u001b[0m\u001b[1;33m,\u001b[0m \u001b[1;33m**\u001b[0m\u001b[0mmodel\u001b[0m\u001b[1;33m.\u001b[0m\u001b[0mfit_kwargs\u001b[0m\u001b[1;33m)\u001b[0m\u001b[1;33m\u001b[0m\u001b[1;33m\u001b[0m\u001b[0m\n\u001b[0m\u001b[0;32m    228\u001b[0m     \u001b[1;31m# Calculate yhat\u001b[0m\u001b[1;33m\u001b[0m\u001b[1;33m\u001b[0m\u001b[1;33m\u001b[0m\u001b[0m\n\u001b[0;32m    229\u001b[0m     \u001b[0mindex_predicted\u001b[0m \u001b[1;33m=\u001b[0m \u001b[1;33m(\u001b[0m\u001b[0mdf\u001b[0m\u001b[1;33m[\u001b[0m\u001b[1;34m'ds'\u001b[0m\u001b[1;33m]\u001b[0m \u001b[1;33m>\u001b[0m \u001b[0mcutoff\u001b[0m\u001b[1;33m)\u001b[0m \u001b[1;33m&\u001b[0m \u001b[1;33m(\u001b[0m\u001b[0mdf\u001b[0m\u001b[1;33m[\u001b[0m\u001b[1;34m'ds'\u001b[0m\u001b[1;33m]\u001b[0m \u001b[1;33m<=\u001b[0m \u001b[0mcutoff\u001b[0m \u001b[1;33m+\u001b[0m \u001b[0mhorizon\u001b[0m\u001b[1;33m)\u001b[0m\u001b[1;33m\u001b[0m\u001b[1;33m\u001b[0m\u001b[0m\n",
      "\u001b[1;32m~\\Anaconda3\\envs\\sys\\lib\\site-packages\\fbprophet\\forecaster.py\u001b[0m in \u001b[0;36mfit\u001b[1;34m(self, df, **kwargs)\u001b[0m\n\u001b[0;32m   1164\u001b[0m             \u001b[0mself\u001b[0m\u001b[1;33m.\u001b[0m\u001b[0mparams\u001b[0m \u001b[1;33m=\u001b[0m \u001b[0mself\u001b[0m\u001b[1;33m.\u001b[0m\u001b[0mstan_backend\u001b[0m\u001b[1;33m.\u001b[0m\u001b[0msampling\u001b[0m\u001b[1;33m(\u001b[0m\u001b[0mstan_init\u001b[0m\u001b[1;33m,\u001b[0m \u001b[0mdat\u001b[0m\u001b[1;33m,\u001b[0m \u001b[0mself\u001b[0m\u001b[1;33m.\u001b[0m\u001b[0mmcmc_samples\u001b[0m\u001b[1;33m,\u001b[0m \u001b[1;33m**\u001b[0m\u001b[0mkwargs\u001b[0m\u001b[1;33m)\u001b[0m\u001b[1;33m\u001b[0m\u001b[1;33m\u001b[0m\u001b[0m\n\u001b[0;32m   1165\u001b[0m         \u001b[1;32melse\u001b[0m\u001b[1;33m:\u001b[0m\u001b[1;33m\u001b[0m\u001b[1;33m\u001b[0m\u001b[0m\n\u001b[1;32m-> 1166\u001b[1;33m             \u001b[0mself\u001b[0m\u001b[1;33m.\u001b[0m\u001b[0mparams\u001b[0m \u001b[1;33m=\u001b[0m \u001b[0mself\u001b[0m\u001b[1;33m.\u001b[0m\u001b[0mstan_backend\u001b[0m\u001b[1;33m.\u001b[0m\u001b[0mfit\u001b[0m\u001b[1;33m(\u001b[0m\u001b[0mstan_init\u001b[0m\u001b[1;33m,\u001b[0m \u001b[0mdat\u001b[0m\u001b[1;33m,\u001b[0m \u001b[1;33m**\u001b[0m\u001b[0mkwargs\u001b[0m\u001b[1;33m)\u001b[0m\u001b[1;33m\u001b[0m\u001b[1;33m\u001b[0m\u001b[0m\n\u001b[0m\u001b[0;32m   1167\u001b[0m \u001b[1;33m\u001b[0m\u001b[0m\n\u001b[0;32m   1168\u001b[0m         \u001b[1;31m# If no changepoints were requested, replace delta with 0s\u001b[0m\u001b[1;33m\u001b[0m\u001b[1;33m\u001b[0m\u001b[1;33m\u001b[0m\u001b[0m\n",
      "\u001b[1;32m~\\Anaconda3\\envs\\sys\\lib\\site-packages\\fbprophet\\models.py\u001b[0m in \u001b[0;36mfit\u001b[1;34m(self, stan_init, stan_data, **kwargs)\u001b[0m\n\u001b[0;32m    243\u001b[0m         \u001b[0margs\u001b[0m\u001b[1;33m.\u001b[0m\u001b[0mupdate\u001b[0m\u001b[1;33m(\u001b[0m\u001b[0mkwargs\u001b[0m\u001b[1;33m)\u001b[0m\u001b[1;33m\u001b[0m\u001b[1;33m\u001b[0m\u001b[0m\n\u001b[0;32m    244\u001b[0m         \u001b[1;32mtry\u001b[0m\u001b[1;33m:\u001b[0m\u001b[1;33m\u001b[0m\u001b[1;33m\u001b[0m\u001b[0m\n\u001b[1;32m--> 245\u001b[1;33m             \u001b[0mself\u001b[0m\u001b[1;33m.\u001b[0m\u001b[0mstan_fit\u001b[0m \u001b[1;33m=\u001b[0m \u001b[0mself\u001b[0m\u001b[1;33m.\u001b[0m\u001b[0mmodel\u001b[0m\u001b[1;33m.\u001b[0m\u001b[0moptimizing\u001b[0m\u001b[1;33m(\u001b[0m\u001b[1;33m**\u001b[0m\u001b[0margs\u001b[0m\u001b[1;33m)\u001b[0m\u001b[1;33m\u001b[0m\u001b[1;33m\u001b[0m\u001b[0m\n\u001b[0m\u001b[0;32m    246\u001b[0m         \u001b[1;32mexcept\u001b[0m \u001b[0mRuntimeError\u001b[0m\u001b[1;33m:\u001b[0m\u001b[1;33m\u001b[0m\u001b[1;33m\u001b[0m\u001b[0m\n\u001b[0;32m    247\u001b[0m             \u001b[1;31m# Fall back on Newton\u001b[0m\u001b[1;33m\u001b[0m\u001b[1;33m\u001b[0m\u001b[1;33m\u001b[0m\u001b[0m\n",
      "\u001b[1;32m~\\Anaconda3\\envs\\sys\\lib\\site-packages\\pystan\\model.py\u001b[0m in \u001b[0;36moptimizing\u001b[1;34m(self, data, seed, init, sample_file, algorithm, verbose, as_vector, **kwargs)\u001b[0m\n\u001b[0;32m    579\u001b[0m         \u001b[0mstan_args\u001b[0m \u001b[1;33m=\u001b[0m \u001b[0mpystan\u001b[0m\u001b[1;33m.\u001b[0m\u001b[0mmisc\u001b[0m\u001b[1;33m.\u001b[0m\u001b[0m_get_valid_stan_args\u001b[0m\u001b[1;33m(\u001b[0m\u001b[0mstan_args\u001b[0m\u001b[1;33m)\u001b[0m\u001b[1;33m\u001b[0m\u001b[1;33m\u001b[0m\u001b[0m\n\u001b[0;32m    580\u001b[0m \u001b[1;33m\u001b[0m\u001b[0m\n\u001b[1;32m--> 581\u001b[1;33m         \u001b[0mret\u001b[0m\u001b[1;33m,\u001b[0m \u001b[0msample\u001b[0m \u001b[1;33m=\u001b[0m \u001b[0mfit\u001b[0m\u001b[1;33m.\u001b[0m\u001b[0m_call_sampler\u001b[0m\u001b[1;33m(\u001b[0m\u001b[0mstan_args\u001b[0m\u001b[1;33m)\u001b[0m\u001b[1;33m\u001b[0m\u001b[1;33m\u001b[0m\u001b[0m\n\u001b[0m\u001b[0;32m    582\u001b[0m         \u001b[0mpars\u001b[0m \u001b[1;33m=\u001b[0m \u001b[0mpystan\u001b[0m\u001b[1;33m.\u001b[0m\u001b[0mmisc\u001b[0m\u001b[1;33m.\u001b[0m\u001b[0m_par_vector2dict\u001b[0m\u001b[1;33m(\u001b[0m\u001b[0msample\u001b[0m\u001b[1;33m[\u001b[0m\u001b[1;34m'par'\u001b[0m\u001b[1;33m]\u001b[0m\u001b[1;33m,\u001b[0m \u001b[0mm_pars\u001b[0m\u001b[1;33m,\u001b[0m \u001b[0mp_dims\u001b[0m\u001b[1;33m)\u001b[0m\u001b[1;33m\u001b[0m\u001b[1;33m\u001b[0m\u001b[0m\n\u001b[0;32m    583\u001b[0m         \u001b[1;32mif\u001b[0m \u001b[1;32mnot\u001b[0m \u001b[0mas_vector\u001b[0m\u001b[1;33m:\u001b[0m\u001b[1;33m\u001b[0m\u001b[1;33m\u001b[0m\u001b[0m\n",
      "\u001b[1;32mstanfit4anon_model_f5236004a3fd5b8429270d00efcc0cf9_8880207453681611644.pyx\u001b[0m in \u001b[0;36mstanfit4anon_model_f5236004a3fd5b8429270d00efcc0cf9_8880207453681611644.StanFit4Model._call_sampler\u001b[1;34m()\u001b[0m\n",
      "\u001b[1;32mstanfit4anon_model_f5236004a3fd5b8429270d00efcc0cf9_8880207453681611644.pyx\u001b[0m in \u001b[0;36mstanfit4anon_model_f5236004a3fd5b8429270d00efcc0cf9_8880207453681611644._call_sampler\u001b[1;34m()\u001b[0m\n",
      "\u001b[1;32mstanfit4anon_model_f5236004a3fd5b8429270d00efcc0cf9_8880207453681611644.pyx\u001b[0m in \u001b[0;36mstanfit4anon_model_f5236004a3fd5b8429270d00efcc0cf9_8880207453681611644._dict_from_stanargs\u001b[1;34m()\u001b[0m\n",
      "\u001b[1;32m~\\Anaconda3\\envs\\sys\\lib\\enum.py\u001b[0m in \u001b[0;36m__call__\u001b[1;34m(cls, value, names, module, qualname, type, start)\u001b[0m\n\u001b[0;32m    302\u001b[0m         \"\"\"\n\u001b[0;32m    303\u001b[0m         \u001b[1;32mif\u001b[0m \u001b[0mnames\u001b[0m \u001b[1;32mis\u001b[0m \u001b[1;32mNone\u001b[0m\u001b[1;33m:\u001b[0m  \u001b[1;31m# simple value lookup\u001b[0m\u001b[1;33m\u001b[0m\u001b[1;33m\u001b[0m\u001b[0m\n\u001b[1;32m--> 304\u001b[1;33m             \u001b[1;32mreturn\u001b[0m \u001b[0mcls\u001b[0m\u001b[1;33m.\u001b[0m\u001b[0m__new__\u001b[0m\u001b[1;33m(\u001b[0m\u001b[0mcls\u001b[0m\u001b[1;33m,\u001b[0m \u001b[0mvalue\u001b[0m\u001b[1;33m)\u001b[0m\u001b[1;33m\u001b[0m\u001b[1;33m\u001b[0m\u001b[0m\n\u001b[0m\u001b[0;32m    305\u001b[0m         \u001b[1;31m# otherwise, functional API: we're creating a new Enum type\u001b[0m\u001b[1;33m\u001b[0m\u001b[1;33m\u001b[0m\u001b[1;33m\u001b[0m\u001b[0m\n\u001b[0;32m    306\u001b[0m         \u001b[1;32mreturn\u001b[0m \u001b[0mcls\u001b[0m\u001b[1;33m.\u001b[0m\u001b[0m_create_\u001b[0m\u001b[1;33m(\u001b[0m\u001b[0mvalue\u001b[0m\u001b[1;33m,\u001b[0m \u001b[0mnames\u001b[0m\u001b[1;33m,\u001b[0m \u001b[0mmodule\u001b[0m\u001b[1;33m=\u001b[0m\u001b[0mmodule\u001b[0m\u001b[1;33m,\u001b[0m \u001b[0mqualname\u001b[0m\u001b[1;33m=\u001b[0m\u001b[0mqualname\u001b[0m\u001b[1;33m,\u001b[0m \u001b[0mtype\u001b[0m\u001b[1;33m=\u001b[0m\u001b[0mtype\u001b[0m\u001b[1;33m,\u001b[0m \u001b[0mstart\u001b[0m\u001b[1;33m=\u001b[0m\u001b[0mstart\u001b[0m\u001b[1;33m)\u001b[0m\u001b[1;33m\u001b[0m\u001b[1;33m\u001b[0m\u001b[0m\n",
      "\u001b[1;31mKeyboardInterrupt\u001b[0m: "
     ]
    }
   ],
   "source": [
    "individual_predictors_forecasts = individual_predictors_template2(training_data, 30)"
   ]
  },
  {
   "cell_type": "markdown",
   "id": "3d3129ca",
   "metadata": {},
   "source": [
    "### System disagreement between individual predictor forecasts"
   ]
  },
  {
   "cell_type": "code",
   "execution_count": null,
   "id": "6c823724",
   "metadata": {},
   "outputs": [],
   "source": [
    "system_disagreement(individual_predictors_forecasts)"
   ]
  },
  {
   "cell_type": "markdown",
   "id": "b53eafa1",
   "metadata": {},
   "source": [
    "### Building consensus forecast values"
   ]
  },
  {
   "cell_type": "code",
   "execution_count": null,
   "id": "f40082bd",
   "metadata": {},
   "outputs": [],
   "source": [
    "consensus_forecasts = consensus(individual_predictors_forecasts, real)"
   ]
  },
  {
   "cell_type": "code",
   "execution_count": null,
   "id": "129ec4f2",
   "metadata": {},
   "outputs": [],
   "source": [
    "all_forecasts = combined_frame(individual_predictors_forecasts, consensus_forecasts, real)"
   ]
  },
  {
   "cell_type": "code",
   "execution_count": null,
   "id": "1c39e3f5",
   "metadata": {},
   "outputs": [],
   "source": [
    "summary = all_stats_frame(all_forecasts, individual_predictors_forecasts) # combining individual predictor forecasts, consensus forecasts and disagreement scores\n",
    "summary"
   ]
  },
  {
   "cell_type": "code",
   "execution_count": null,
   "id": "aade42c9",
   "metadata": {},
   "outputs": [],
   "source": [
    "summary.to_csv(dir_ + run_id + '_Forecast_Summary.csv')"
   ]
  },
  {
   "cell_type": "markdown",
   "id": "e05841e5",
   "metadata": {},
   "source": [
    "### Absolute error analysis of individual predictors and consensus forecasts"
   ]
  },
  {
   "cell_type": "code",
   "execution_count": null,
   "id": "001d4d66",
   "metadata": {},
   "outputs": [],
   "source": [
    "prediction_error = absolute_error_analytics(individual_predictors_forecasts, consensus_forecasts, real)\n",
    "prediction_error"
   ]
  },
  {
   "cell_type": "code",
   "execution_count": null,
   "id": "ba31a802",
   "metadata": {},
   "outputs": [],
   "source": [
    "prediction_error.to_csv(dir_ + run_id + '_Prediction_Errors.csv')"
   ]
  },
  {
   "cell_type": "markdown",
   "id": "b89d81a1",
   "metadata": {},
   "source": [
    "### Correlation matrix of individual predictor and consensus forecast absolute errors"
   ]
  },
  {
   "cell_type": "code",
   "execution_count": null,
   "id": "45460632",
   "metadata": {
    "scrolled": false
   },
   "outputs": [],
   "source": [
    "correlation_ = correlation(prediction_error, True)\n",
    "correlation_"
   ]
  },
  {
   "cell_type": "code",
   "execution_count": null,
   "id": "9c48037a",
   "metadata": {},
   "outputs": [],
   "source": [
    "correlation_.to_csv(dir_ + run_id + '_Error_Correlation.csv')"
   ]
  },
  {
   "cell_type": "markdown",
   "id": "1ab1033b",
   "metadata": {},
   "source": [
    "### MSE,  MSE log and MAE scores"
   ]
  },
  {
   "cell_type": "code",
   "execution_count": null,
   "id": "05511a0a",
   "metadata": {},
   "outputs": [],
   "source": [
    "mse = mse_score(all_forecasts, True)\n",
    "mse"
   ]
  },
  {
   "cell_type": "code",
   "execution_count": null,
   "id": "96e9d033",
   "metadata": {},
   "outputs": [],
   "source": [
    "mse.to_csv(dir_ + run_id + '_MSE_score.csv')"
   ]
  },
  {
   "cell_type": "code",
   "execution_count": null,
   "id": "162b8ba7",
   "metadata": {},
   "outputs": [],
   "source": [
    "mse_log = mse_log_score(all_forecasts, True)\n",
    "mse_log"
   ]
  },
  {
   "cell_type": "code",
   "execution_count": null,
   "id": "306260fb",
   "metadata": {},
   "outputs": [],
   "source": [
    "mse_log.to_csv(dir_ + run_id + '_MSE_log_score.csv')"
   ]
  },
  {
   "cell_type": "code",
   "execution_count": null,
   "id": "25adfea7",
   "metadata": {},
   "outputs": [],
   "source": [
    "mae = mae_score(all_forecasts, True)\n",
    "mae"
   ]
  },
  {
   "cell_type": "code",
   "execution_count": null,
   "id": "24285282",
   "metadata": {},
   "outputs": [],
   "source": [
    "mae.to_csv(dir_ + run_id + '_MAE_score.csv')"
   ]
  },
  {
   "cell_type": "markdown",
   "id": "e9319d92",
   "metadata": {},
   "source": [
    "### Performance plotting of all forecasting algorithms"
   ]
  },
  {
   "cell_type": "code",
   "execution_count": null,
   "id": "da0b11d9",
   "metadata": {
    "scrolled": false
   },
   "outputs": [],
   "source": [
    "plot_performance(all_forecasts)"
   ]
  },
  {
   "cell_type": "code",
   "execution_count": null,
   "id": "f334f82c",
   "metadata": {},
   "outputs": [],
   "source": []
  }
 ],
 "metadata": {
  "kernelspec": {
   "display_name": "Python 3",
   "language": "python",
   "name": "python3"
  },
  "language_info": {
   "codemirror_mode": {
    "name": "ipython",
    "version": 3
   },
   "file_extension": ".py",
   "mimetype": "text/x-python",
   "name": "python",
   "nbconvert_exporter": "python",
   "pygments_lexer": "ipython3",
   "version": "3.8.1"
  }
 },
 "nbformat": 4,
 "nbformat_minor": 5
}
