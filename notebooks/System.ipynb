{
 "cells": [
  {
   "cell_type": "code",
   "execution_count": null,
   "id": "8d7a3357",
   "metadata": {},
   "outputs": [],
   "source": [
    "%config InlineBackend.figure_format = 'retina'\n",
    "import pandas as pd\n",
    "import os"
   ]
  },
  {
   "cell_type": "markdown",
   "id": "7dc03e09",
   "metadata": {},
   "source": [
    "# Benchmarking the System Performance"
   ]
  },
  {
   "cell_type": "code",
   "execution_count": null,
   "id": "77c66bb7",
   "metadata": {},
   "outputs": [],
   "source": [
    "run_id = 'BP_2Predictors_live_training_Horizon30'"
   ]
  },
  {
   "cell_type": "code",
   "execution_count": null,
   "id": "730111bb",
   "metadata": {},
   "outputs": [],
   "source": [
    "os.mkdir(run_id)"
   ]
  },
  {
   "cell_type": "code",
   "execution_count": null,
   "id": "ebfd49c8",
   "metadata": {},
   "outputs": [],
   "source": [
    "dir_ = './' + run_id + '/'"
   ]
  },
  {
   "cell_type": "markdown",
   "id": "47e6d2bc",
   "metadata": {},
   "source": [
    "This Jupyter notebook serves to benchmark the performance of the prototype system."
   ]
  },
  {
   "cell_type": "markdown",
   "id": "9c039b35",
   "metadata": {},
   "source": [
    "### Loading and importing the system"
   ]
  },
  {
   "cell_type": "code",
   "execution_count": null,
   "id": "bca82426",
   "metadata": {},
   "outputs": [],
   "source": [
    "%run ../system/activate.py"
   ]
  },
  {
   "cell_type": "markdown",
   "id": "fe112525",
   "metadata": {},
   "source": [
    "### Loading and importing financial data to forecast and to benchmark the system on"
   ]
  },
  {
   "cell_type": "markdown",
   "id": "b5c3a8c1",
   "metadata": {},
   "source": [
    "#### Prophet and Neural prophet training set-up"
   ]
  },
  {
   "cell_type": "code",
   "execution_count": null,
   "id": "066bffc6",
   "metadata": {},
   "outputs": [],
   "source": [
    "#training_data = DataLoader('BP', '2010-02-01', '2018-02-01')\n",
    "#training_data = training_data.get_adjclose()"
   ]
  },
  {
   "cell_type": "markdown",
   "id": "33a47a88",
   "metadata": {},
   "source": [
    "#### Normal set-up"
   ]
  },
  {
   "cell_type": "code",
   "execution_count": null,
   "id": "27eb1606",
   "metadata": {},
   "outputs": [],
   "source": [
    "# AlterNativeDataLoader data retrievel trough the investpy python library from investing.com\n",
    "# predict = AlternativeDataLoader('F','United States', '01/02/2018', '01/05/2018', 'stock')\n",
    "# predict = AlternativeDataLoader('S&P 500','United States', '01/02/2018', '01/05/2018', 'index')\n",
    "# predict = AlternativeDataLoader('BP','United States', '01/02/2018', '01/05/2018', 'stock')\n",
    "# predict = predict.get_close()\n",
    "\n",
    "\n",
    "predict = DataLoader('BP', '2018-02-01', '2018-05-01')\n",
    "predict = predict.get_adjclose()\n"
   ]
  },
  {
   "cell_type": "code",
   "execution_count": null,
   "id": "4692d176",
   "metadata": {},
   "outputs": [],
   "source": [
    "predict_req, real = data_prep(predict, 20, 30) # dividing data into predictor input and real data"
   ]
  },
  {
   "cell_type": "markdown",
   "id": "f587ea62",
   "metadata": {},
   "source": [
    "### Individual predictor forecasts"
   ]
  },
  {
   "cell_type": "code",
   "execution_count": null,
   "id": "53828c5e",
   "metadata": {},
   "outputs": [],
   "source": [
    "individual_predictors_forecasts = individual_predictors_pretrained_BP_30_3(predict_req, 30)"
   ]
  },
  {
   "cell_type": "code",
   "execution_count": null,
   "id": "e8a31f69",
   "metadata": {},
   "outputs": [],
   "source": [
    "#individual_predictors_forecasts = individual_predictors_template2(training_data, 30)"
   ]
  },
  {
   "cell_type": "markdown",
   "id": "3d3129ca",
   "metadata": {},
   "source": [
    "### System disagreement between individual predictor forecasts"
   ]
  },
  {
   "cell_type": "code",
   "execution_count": null,
   "id": "6c823724",
   "metadata": {},
   "outputs": [],
   "source": [
    "system_disagreement(individual_predictors_forecasts)"
   ]
  },
  {
   "cell_type": "markdown",
   "id": "b53eafa1",
   "metadata": {},
   "source": [
    "### Building consensus forecast values"
   ]
  },
  {
   "cell_type": "code",
   "execution_count": null,
   "id": "f40082bd",
   "metadata": {},
   "outputs": [],
   "source": [
    "consensus_forecasts = consensus(individual_predictors_forecasts, real)"
   ]
  },
  {
   "cell_type": "markdown",
   "id": "9c54eeb8",
   "metadata": {},
   "source": [
    "#### Only using correcting consensus algorithm:"
   ]
  },
  {
   "cell_type": "code",
   "execution_count": null,
   "id": "db25f81a",
   "metadata": {},
   "outputs": [],
   "source": [
    "#consensus_forecasts = consensus_optimal(individual_predictors_forecasts, real)"
   ]
  },
  {
   "cell_type": "code",
   "execution_count": null,
   "id": "129ec4f2",
   "metadata": {},
   "outputs": [],
   "source": [
    "all_forecasts = combined_frame(individual_predictors_forecasts, consensus_forecasts, real)"
   ]
  },
  {
   "cell_type": "code",
   "execution_count": null,
   "id": "1c39e3f5",
   "metadata": {},
   "outputs": [],
   "source": [
    "summary = all_stats_frame(all_forecasts, individual_predictors_forecasts) # combining individual predictor forecasts, consensus forecasts and disagreement scores\n",
    "summary"
   ]
  },
  {
   "cell_type": "code",
   "execution_count": null,
   "id": "aade42c9",
   "metadata": {},
   "outputs": [],
   "source": [
    "summary.to_csv(dir_ + run_id + '_Forecast_Summary.csv')"
   ]
  },
  {
   "cell_type": "markdown",
   "id": "e05841e5",
   "metadata": {},
   "source": [
    "### Absolute error analysis of individual predictors and consensus forecasts"
   ]
  },
  {
   "cell_type": "code",
   "execution_count": null,
   "id": "001d4d66",
   "metadata": {},
   "outputs": [],
   "source": [
    "prediction_error = absolute_error_analytics(individual_predictors_forecasts, consensus_forecasts, real)\n",
    "prediction_error"
   ]
  },
  {
   "cell_type": "code",
   "execution_count": null,
   "id": "ba31a802",
   "metadata": {},
   "outputs": [],
   "source": [
    "prediction_error.to_csv(dir_ + run_id + '_Prediction_Errors.csv')"
   ]
  },
  {
   "cell_type": "markdown",
   "id": "b89d81a1",
   "metadata": {},
   "source": [
    "### Correlation matrix of individual predictor and consensus forecast absolute errors"
   ]
  },
  {
   "cell_type": "code",
   "execution_count": null,
   "id": "45460632",
   "metadata": {
    "scrolled": false
   },
   "outputs": [],
   "source": [
    "correlation_ = correlation(prediction_error, True)\n",
    "correlation_"
   ]
  },
  {
   "cell_type": "code",
   "execution_count": null,
   "id": "9c48037a",
   "metadata": {},
   "outputs": [],
   "source": [
    "correlation_.to_csv(dir_ + run_id + '_Error_Correlation.csv')"
   ]
  },
  {
   "cell_type": "markdown",
   "id": "1ab1033b",
   "metadata": {},
   "source": [
    "### MSE,  MSE log and MAE scores"
   ]
  },
  {
   "cell_type": "code",
   "execution_count": null,
   "id": "05511a0a",
   "metadata": {},
   "outputs": [],
   "source": [
    "mse = mse_score(all_forecasts, True)\n",
    "mse"
   ]
  },
  {
   "cell_type": "code",
   "execution_count": null,
   "id": "96e9d033",
   "metadata": {},
   "outputs": [],
   "source": [
    "mse.to_csv(dir_ + run_id + '_MSE_score.csv')"
   ]
  },
  {
   "cell_type": "code",
   "execution_count": null,
   "id": "162b8ba7",
   "metadata": {},
   "outputs": [],
   "source": [
    "mse_log = mse_log_score(all_forecasts, True)\n",
    "mse_log"
   ]
  },
  {
   "cell_type": "code",
   "execution_count": null,
   "id": "306260fb",
   "metadata": {},
   "outputs": [],
   "source": [
    "mse_log.to_csv(dir_ + run_id + '_MSE_log_score.csv')"
   ]
  },
  {
   "cell_type": "code",
   "execution_count": null,
   "id": "25adfea7",
   "metadata": {},
   "outputs": [],
   "source": [
    "mae = mae_score(all_forecasts, True)\n",
    "mae"
   ]
  },
  {
   "cell_type": "code",
   "execution_count": null,
   "id": "24285282",
   "metadata": {},
   "outputs": [],
   "source": [
    "mae.to_csv(dir_ + run_id + '_MAE_score.csv')"
   ]
  },
  {
   "cell_type": "markdown",
   "id": "e9319d92",
   "metadata": {},
   "source": [
    "### Performance plotting of all forecasting algorithms"
   ]
  },
  {
   "cell_type": "code",
   "execution_count": null,
   "id": "da0b11d9",
   "metadata": {
    "scrolled": false
   },
   "outputs": [],
   "source": [
    "plot_performance(all_forecasts)"
   ]
  },
  {
   "cell_type": "code",
   "execution_count": null,
   "id": "6a156b92",
   "metadata": {},
   "outputs": [],
   "source": []
  }
 ],
 "metadata": {
  "kernelspec": {
   "display_name": "Python 3",
   "language": "python",
   "name": "python3"
  },
  "language_info": {
   "codemirror_mode": {
    "name": "ipython",
    "version": 3
   },
   "file_extension": ".py",
   "mimetype": "text/x-python",
   "name": "python",
   "nbconvert_exporter": "python",
   "pygments_lexer": "ipython3",
   "version": "3.8.1"
  }
 },
 "nbformat": 4,
 "nbformat_minor": 5
}
