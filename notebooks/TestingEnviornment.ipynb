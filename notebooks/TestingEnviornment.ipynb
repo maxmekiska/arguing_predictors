{
 "cells": [
  {
   "cell_type": "markdown",
   "metadata": {},
   "source": [
    "# Testing Enviornment"
   ]
  },
  {
   "cell_type": "code",
   "execution_count": 1,
   "metadata": {},
   "outputs": [],
   "source": [
    "import pandas as pd\n",
    "import numpy as np"
   ]
  },
  {
   "cell_type": "markdown",
   "metadata": {},
   "source": [
    "## Running tests"
   ]
  },
  {
   "cell_type": "markdown",
   "metadata": {},
   "source": [
    "The following section unit-tests most of the code written for the proof of concept prototype."
   ]
  },
  {
   "cell_type": "code",
   "execution_count": 76,
   "metadata": {
    "scrolled": true
   },
   "outputs": [
    {
     "name": "stderr",
     "output_type": "stream",
     "text": [
      ".................\n",
      "----------------------------------------------------------------------\n",
      "Ran 17 tests in 0.218s\n",
      "\n",
      "OK\n"
     ]
    }
   ],
   "source": [
    "%run ../test/test_algorithms.py"
   ]
  },
  {
   "cell_type": "code",
   "execution_count": 77,
   "metadata": {},
   "outputs": [
    {
     "name": "stderr",
     "output_type": "stream",
     "text": [
      "...............\n",
      "----------------------------------------------------------------------\n",
      "Ran 15 tests in 0.030s\n",
      "\n",
      "OK\n"
     ]
    }
   ],
   "source": [
    "%run ../test/test_dataloader.py"
   ]
  },
  {
   "cell_type": "code",
   "execution_count": 78,
   "metadata": {},
   "outputs": [
    {
     "name": "stderr",
     "output_type": "stream",
     "text": [
      "..\n",
      "----------------------------------------------------------------------\n",
      "Ran 2 tests in 0.003s\n",
      "\n",
      "OK\n"
     ]
    }
   ],
   "source": [
    "%run ../test/test_predictorsI.py"
   ]
  },
  {
   "cell_type": "code",
   "execution_count": 79,
   "metadata": {},
   "outputs": [
    {
     "name": "stderr",
     "output_type": "stream",
     "text": [
      ".\n",
      "----------------------------------------------------------------------\n",
      "Ran 1 test in 0.004s\n",
      "\n",
      "OK\n"
     ]
    }
   ],
   "source": [
    "%run ../test/test_predictorsII.py"
   ]
  },
  {
   "cell_type": "markdown",
   "metadata": {},
   "source": [
    "## Running example of the system"
   ]
  },
  {
   "cell_type": "code",
   "execution_count": 6,
   "metadata": {},
   "outputs": [],
   "source": [
    "%run ../tools/algorithms.py"
   ]
  },
  {
   "cell_type": "code",
   "execution_count": 7,
   "metadata": {},
   "outputs": [],
   "source": [
    "%run ../tools/dataloader.py"
   ]
  },
  {
   "cell_type": "code",
   "execution_count": 8,
   "metadata": {},
   "outputs": [],
   "source": [
    "test = DataLoader('aapl', '2009-01-01', '2010-02-10')"
   ]
  },
  {
   "cell_type": "code",
   "execution_count": 9,
   "metadata": {},
   "outputs": [],
   "source": [
    "prices = test.get_close()"
   ]
  },
  {
   "cell_type": "code",
   "execution_count": 10,
   "metadata": {},
   "outputs": [
    {
     "data": {
      "text/html": [
       "<div>\n",
       "<style scoped>\n",
       "    .dataframe tbody tr th:only-of-type {\n",
       "        vertical-align: middle;\n",
       "    }\n",
       "\n",
       "    .dataframe tbody tr th {\n",
       "        vertical-align: top;\n",
       "    }\n",
       "\n",
       "    .dataframe thead th {\n",
       "        text-align: right;\n",
       "    }\n",
       "</style>\n",
       "<table border=\"1\" class=\"dataframe\">\n",
       "  <thead>\n",
       "    <tr style=\"text-align: right;\">\n",
       "      <th></th>\n",
       "      <th>Close</th>\n",
       "    </tr>\n",
       "    <tr>\n",
       "      <th>Date</th>\n",
       "      <th></th>\n",
       "    </tr>\n",
       "  </thead>\n",
       "  <tbody>\n",
       "    <tr>\n",
       "      <th>2009-01-02</th>\n",
       "      <td>3.241071</td>\n",
       "    </tr>\n",
       "    <tr>\n",
       "      <th>2009-01-05</th>\n",
       "      <td>3.377857</td>\n",
       "    </tr>\n",
       "    <tr>\n",
       "      <th>2009-01-06</th>\n",
       "      <td>3.322143</td>\n",
       "    </tr>\n",
       "    <tr>\n",
       "      <th>2009-01-07</th>\n",
       "      <td>3.250357</td>\n",
       "    </tr>\n",
       "    <tr>\n",
       "      <th>2009-01-08</th>\n",
       "      <td>3.310714</td>\n",
       "    </tr>\n",
       "    <tr>\n",
       "      <th>...</th>\n",
       "      <td>...</td>\n",
       "    </tr>\n",
       "    <tr>\n",
       "      <th>2010-02-04</th>\n",
       "      <td>6.858929</td>\n",
       "    </tr>\n",
       "    <tr>\n",
       "      <th>2010-02-05</th>\n",
       "      <td>6.980714</td>\n",
       "    </tr>\n",
       "    <tr>\n",
       "      <th>2010-02-08</th>\n",
       "      <td>6.932857</td>\n",
       "    </tr>\n",
       "    <tr>\n",
       "      <th>2010-02-09</th>\n",
       "      <td>7.006786</td>\n",
       "    </tr>\n",
       "    <tr>\n",
       "      <th>2010-02-10</th>\n",
       "      <td>6.968571</td>\n",
       "    </tr>\n",
       "  </tbody>\n",
       "</table>\n",
       "<p>279 rows × 1 columns</p>\n",
       "</div>"
      ],
      "text/plain": [
       "               Close\n",
       "Date                \n",
       "2009-01-02  3.241071\n",
       "2009-01-05  3.377857\n",
       "2009-01-06  3.322143\n",
       "2009-01-07  3.250357\n",
       "2009-01-08  3.310714\n",
       "...              ...\n",
       "2010-02-04  6.858929\n",
       "2010-02-05  6.980714\n",
       "2010-02-08  6.932857\n",
       "2010-02-09  7.006786\n",
       "2010-02-10  6.968571\n",
       "\n",
       "[279 rows x 1 columns]"
      ]
     },
     "execution_count": 10,
     "metadata": {},
     "output_type": "execute_result"
    }
   ],
   "source": [
    "prices"
   ]
  },
  {
   "cell_type": "code",
   "execution_count": 11,
   "metadata": {},
   "outputs": [],
   "source": [
    "#prices = np.array(prices)\n",
    "#len(prices)"
   ]
  },
  {
   "cell_type": "code",
   "execution_count": 12,
   "metadata": {},
   "outputs": [
    {
     "data": {
      "text/html": [
       "<div>\n",
       "<style scoped>\n",
       "    .dataframe tbody tr th:only-of-type {\n",
       "        vertical-align: middle;\n",
       "    }\n",
       "\n",
       "    .dataframe tbody tr th {\n",
       "        vertical-align: top;\n",
       "    }\n",
       "\n",
       "    .dataframe thead th {\n",
       "        text-align: right;\n",
       "    }\n",
       "</style>\n",
       "<table border=\"1\" class=\"dataframe\">\n",
       "  <thead>\n",
       "    <tr style=\"text-align: right;\">\n",
       "      <th></th>\n",
       "      <th>Close</th>\n",
       "    </tr>\n",
       "    <tr>\n",
       "      <th>Date</th>\n",
       "      <th></th>\n",
       "    </tr>\n",
       "  </thead>\n",
       "  <tbody>\n",
       "    <tr>\n",
       "      <th>2009-01-02</th>\n",
       "      <td>3.241071</td>\n",
       "    </tr>\n",
       "    <tr>\n",
       "      <th>2009-01-05</th>\n",
       "      <td>3.377857</td>\n",
       "    </tr>\n",
       "    <tr>\n",
       "      <th>2009-01-06</th>\n",
       "      <td>3.322143</td>\n",
       "    </tr>\n",
       "    <tr>\n",
       "      <th>2009-01-07</th>\n",
       "      <td>3.250357</td>\n",
       "    </tr>\n",
       "    <tr>\n",
       "      <th>2009-01-08</th>\n",
       "      <td>3.310714</td>\n",
       "    </tr>\n",
       "    <tr>\n",
       "      <th>...</th>\n",
       "      <td>...</td>\n",
       "    </tr>\n",
       "    <tr>\n",
       "      <th>2010-02-04</th>\n",
       "      <td>6.858929</td>\n",
       "    </tr>\n",
       "    <tr>\n",
       "      <th>2010-02-05</th>\n",
       "      <td>6.980714</td>\n",
       "    </tr>\n",
       "    <tr>\n",
       "      <th>2010-02-08</th>\n",
       "      <td>6.932857</td>\n",
       "    </tr>\n",
       "    <tr>\n",
       "      <th>2010-02-09</th>\n",
       "      <td>7.006786</td>\n",
       "    </tr>\n",
       "    <tr>\n",
       "      <th>2010-02-10</th>\n",
       "      <td>6.968571</td>\n",
       "    </tr>\n",
       "  </tbody>\n",
       "</table>\n",
       "<p>279 rows × 1 columns</p>\n",
       "</div>"
      ],
      "text/plain": [
       "               Close\n",
       "Date                \n",
       "2009-01-02  3.241071\n",
       "2009-01-05  3.377857\n",
       "2009-01-06  3.322143\n",
       "2009-01-07  3.250357\n",
       "2009-01-08  3.310714\n",
       "...              ...\n",
       "2010-02-04  6.858929\n",
       "2010-02-05  6.980714\n",
       "2010-02-08  6.932857\n",
       "2010-02-09  7.006786\n",
       "2010-02-10  6.968571\n",
       "\n",
       "[279 rows x 1 columns]"
      ]
     },
     "execution_count": 12,
     "metadata": {},
     "output_type": "execute_result"
    }
   ],
   "source": [
    "prices"
   ]
  },
  {
   "cell_type": "code",
   "execution_count": 13,
   "metadata": {},
   "outputs": [],
   "source": [
    "%run ../tools/predictorsI.py"
   ]
  },
  {
   "cell_type": "code",
   "execution_count": 14,
   "metadata": {},
   "outputs": [],
   "source": [
    "op0 = BasicUnivariatePredictor(prices, 25, 7)\n",
    "op1 = BasicUnivariatePredictor(prices, 25, 7)\n",
    "op2 = BasicUnivariatePredictor(prices, 25, 7)\n",
    "op3 = BasicUnivariatePredictor(prices, 25, 7)"
   ]
  },
  {
   "cell_type": "code",
   "execution_count": 15,
   "metadata": {},
   "outputs": [],
   "source": [
    "op0.create_bilstm()"
   ]
  },
  {
   "cell_type": "code",
   "execution_count": 16,
   "metadata": {},
   "outputs": [
    {
     "name": "stdout",
     "output_type": "stream",
     "text": [
      "Model: \"sequential\"\n",
      "_________________________________________________________________\n",
      "Layer (type)                 Output Shape              Param #   \n",
      "=================================================================\n",
      "bidirectional (Bidirectional (None, 25, 100)           20800     \n",
      "_________________________________________________________________\n",
      "lstm_1 (LSTM)                (None, 50)                30200     \n",
      "_________________________________________________________________\n",
      "dense (Dense)                (None, 7)                 357       \n",
      "=================================================================\n",
      "Total params: 51,357\n",
      "Trainable params: 51,357\n",
      "Non-trainable params: 0\n",
      "_________________________________________________________________\n"
     ]
    }
   ],
   "source": [
    "op0.model_blueprint()"
   ]
  },
  {
   "cell_type": "code",
   "execution_count": 17,
   "metadata": {},
   "outputs": [
    {
     "name": "stdout",
     "output_type": "stream",
     "text": [
      "Epoch 1/10\n",
      "20/20 [==============================] - 1s 46ms/step - loss: 21.9913 - mean_squared_error: 21.9913 - val_loss: 13.9966 - val_mean_squared_error: 13.9966\n",
      "Epoch 2/10\n",
      "20/20 [==============================] - 0s 18ms/step - loss: 3.7463 - mean_squared_error: 3.7463 - val_loss: 2.2233 - val_mean_squared_error: 2.2233\n",
      "Epoch 3/10\n",
      "20/20 [==============================] - 0s 17ms/step - loss: 0.6251 - mean_squared_error: 0.6251 - val_loss: 0.8816 - val_mean_squared_error: 0.8816\n",
      "Epoch 4/10\n",
      "20/20 [==============================] - 0s 16ms/step - loss: 0.2216 - mean_squared_error: 0.2216 - val_loss: 0.3390 - val_mean_squared_error: 0.3390\n",
      "Epoch 5/10\n",
      "20/20 [==============================] - 0s 16ms/step - loss: 0.1360 - mean_squared_error: 0.1360 - val_loss: 0.2437 - val_mean_squared_error: 0.2437\n",
      "Epoch 6/10\n",
      "20/20 [==============================] - 0s 17ms/step - loss: 0.1148 - mean_squared_error: 0.1148 - val_loss: 0.1558 - val_mean_squared_error: 0.1558\n",
      "Epoch 7/10\n",
      "20/20 [==============================] - 0s 16ms/step - loss: 0.0982 - mean_squared_error: 0.0982 - val_loss: 0.1503 - val_mean_squared_error: 0.1503\n",
      "Epoch 8/10\n",
      "20/20 [==============================] - 0s 18ms/step - loss: 0.0824 - mean_squared_error: 0.0824 - val_loss: 0.1696 - val_mean_squared_error: 0.1696\n",
      "Epoch 9/10\n",
      "20/20 [==============================] - 0s 18ms/step - loss: 0.0788 - mean_squared_error: 0.0788 - val_loss: 0.1324 - val_mean_squared_error: 0.1324\n",
      "Epoch 10/10\n",
      "20/20 [==============================] - 0s 17ms/step - loss: 0.0806 - mean_squared_error: 0.0806 - val_loss: 0.5354 - val_mean_squared_error: 0.5354\n"
     ]
    },
    {
     "data": {
      "text/plain": [
       "<tensorflow.python.keras.callbacks.History at 0x1950b89fd60>"
      ]
     },
     "execution_count": 17,
     "metadata": {},
     "output_type": "execute_result"
    }
   ],
   "source": [
    "op0.fit_model(10)"
   ]
  },
  {
   "cell_type": "code",
   "execution_count": 18,
   "metadata": {},
   "outputs": [
    {
     "data": {
      "image/png": "[encoded data removed]",
      "text/plain": [
       "<Figure size 432x288 with 2 Axes>"
      ]
     },
     "metadata": {
      "needs_background": "light"
     },
     "output_type": "display_data"
    }
   ],
   "source": [
    "op0.show_performance()"
   ]
  },
  {
   "cell_type": "code",
   "execution_count": 19,
   "metadata": {},
   "outputs": [],
   "source": [
    "oyea = prices[-26:-1]\n",
    "#oyea = X[-1]\n",
    "#oyea"
   ]
  },
  {
   "cell_type": "code",
   "execution_count": 20,
   "metadata": {},
   "outputs": [
    {
     "data": {
      "text/html": [
       "<div>\n",
       "<style scoped>\n",
       "    .dataframe tbody tr th:only-of-type {\n",
       "        vertical-align: middle;\n",
       "    }\n",
       "\n",
       "    .dataframe tbody tr th {\n",
       "        vertical-align: top;\n",
       "    }\n",
       "\n",
       "    .dataframe thead th {\n",
       "        text-align: right;\n",
       "    }\n",
       "</style>\n",
       "<table border=\"1\" class=\"dataframe\">\n",
       "  <thead>\n",
       "    <tr style=\"text-align: right;\">\n",
       "      <th></th>\n",
       "      <th>Bidirectional LSTM</th>\n",
       "    </tr>\n",
       "  </thead>\n",
       "  <tbody>\n",
       "    <tr>\n",
       "      <th>0</th>\n",
       "      <td>6.981127</td>\n",
       "    </tr>\n",
       "    <tr>\n",
       "      <th>1</th>\n",
       "      <td>7.293480</td>\n",
       "    </tr>\n",
       "    <tr>\n",
       "      <th>2</th>\n",
       "      <td>6.425726</td>\n",
       "    </tr>\n",
       "    <tr>\n",
       "      <th>3</th>\n",
       "      <td>7.495827</td>\n",
       "    </tr>\n",
       "    <tr>\n",
       "      <th>4</th>\n",
       "      <td>7.578663</td>\n",
       "    </tr>\n",
       "    <tr>\n",
       "      <th>5</th>\n",
       "      <td>6.643592</td>\n",
       "    </tr>\n",
       "    <tr>\n",
       "      <th>6</th>\n",
       "      <td>8.182841</td>\n",
       "    </tr>\n",
       "  </tbody>\n",
       "</table>\n",
       "</div>"
      ],
      "text/plain": [
       "   Bidirectional LSTM\n",
       "0            6.981127\n",
       "1            7.293480\n",
       "2            6.425726\n",
       "3            7.495827\n",
       "4            7.578663\n",
       "5            6.643592\n",
       "6            8.182841"
      ]
     },
     "execution_count": 20,
     "metadata": {},
     "output_type": "execute_result"
    }
   ],
   "source": [
    "nice = op0.predict(oyea)\n",
    "nice"
   ]
  },
  {
   "cell_type": "code",
   "execution_count": 21,
   "metadata": {},
   "outputs": [],
   "source": [
    "op1.create_lstm()"
   ]
  },
  {
   "cell_type": "code",
   "execution_count": 22,
   "metadata": {},
   "outputs": [
    {
     "name": "stdout",
     "output_type": "stream",
     "text": [
      "Model: \"sequential_1\"\n",
      "_________________________________________________________________\n",
      "Layer (type)                 Output Shape              Param #   \n",
      "=================================================================\n",
      "lstm_2 (LSTM)                (None, 25, 40)            6720      \n",
      "_________________________________________________________________\n",
      "lstm_3 (LSTM)                (None, 25, 50)            18200     \n",
      "_________________________________________________________________\n",
      "lstm_4 (LSTM)                (None, 50)                20200     \n",
      "_________________________________________________________________\n",
      "dense_1 (Dense)              (None, 7)                 357       \n",
      "=================================================================\n",
      "Total params: 45,477\n",
      "Trainable params: 45,477\n",
      "Non-trainable params: 0\n",
      "_________________________________________________________________\n"
     ]
    }
   ],
   "source": [
    "op1.model_blueprint()"
   ]
  },
  {
   "cell_type": "code",
   "execution_count": 23,
   "metadata": {},
   "outputs": [
    {
     "name": "stdout",
     "output_type": "stream",
     "text": [
      "Epoch 1/10\n",
      "20/20 [==============================] - 1s 46ms/step - loss: 21.5897 - mean_squared_error: 21.5897 - val_loss: 213.2412 - val_mean_squared_error: 213.2412\n",
      "Epoch 2/10\n",
      "20/20 [==============================] - 1s 25ms/step - loss: 11.5143 - mean_squared_error: 11.5143 - val_loss: 6.0122 - val_mean_squared_error: 6.0122\n",
      "Epoch 3/10\n",
      "20/20 [==============================] - 0s 22ms/step - loss: 1.6485 - mean_squared_error: 1.6485 - val_loss: 1.1164 - val_mean_squared_error: 1.1164\n",
      "Epoch 4/10\n",
      "20/20 [==============================] - 0s 19ms/step - loss: 0.2219 - mean_squared_error: 0.2219 - val_loss: 0.3703 - val_mean_squared_error: 0.3703\n",
      "Epoch 5/10\n",
      "20/20 [==============================] - 0s 20ms/step - loss: 0.1322 - mean_squared_error: 0.1322 - val_loss: 0.3340 - val_mean_squared_error: 0.3340\n",
      "Epoch 6/10\n",
      "20/20 [==============================] - 0s 21ms/step - loss: 0.0992 - mean_squared_error: 0.0992 - val_loss: 0.3363 - val_mean_squared_error: 0.3363\n",
      "Epoch 7/10\n",
      "20/20 [==============================] - 0s 21ms/step - loss: 0.0885 - mean_squared_error: 0.0885 - val_loss: 0.1426 - val_mean_squared_error: 0.1426\n",
      "Epoch 8/10\n",
      "20/20 [==============================] - 0s 20ms/step - loss: 0.0785 - mean_squared_error: 0.0785 - val_loss: 0.2126 - val_mean_squared_error: 0.2126\n",
      "Epoch 9/10\n",
      "20/20 [==============================] - 0s 20ms/step - loss: 0.0811 - mean_squared_error: 0.0811 - val_loss: 0.1371 - val_mean_squared_error: 0.1371\n",
      "Epoch 10/10\n",
      "20/20 [==============================] - 0s 20ms/step - loss: 0.0775 - mean_squared_error: 0.0775 - val_loss: 0.4050 - val_mean_squared_error: 0.4050\n"
     ]
    },
    {
     "data": {
      "text/plain": [
       "<tensorflow.python.keras.callbacks.History at 0x195110898e0>"
      ]
     },
     "execution_count": 23,
     "metadata": {},
     "output_type": "execute_result"
    }
   ],
   "source": [
    "op1.fit_model(10)"
   ]
  },
  {
   "cell_type": "code",
   "execution_count": 24,
   "metadata": {},
   "outputs": [
    {
     "data": {
      "image/png": "[encoded data removed]",
      "text/plain": [
       "<Figure size 432x288 with 2 Axes>"
      ]
     },
     "metadata": {
      "needs_background": "light"
     },
     "output_type": "display_data"
    }
   ],
   "source": [
    "op1.show_performance()"
   ]
  },
  {
   "cell_type": "code",
   "execution_count": 25,
   "metadata": {},
   "outputs": [
    {
     "data": {
      "text/html": [
       "<div>\n",
       "<style scoped>\n",
       "    .dataframe tbody tr th:only-of-type {\n",
       "        vertical-align: middle;\n",
       "    }\n",
       "\n",
       "    .dataframe tbody tr th {\n",
       "        vertical-align: top;\n",
       "    }\n",
       "\n",
       "    .dataframe thead th {\n",
       "        text-align: right;\n",
       "    }\n",
       "</style>\n",
       "<table border=\"1\" class=\"dataframe\">\n",
       "  <thead>\n",
       "    <tr style=\"text-align: right;\">\n",
       "      <th></th>\n",
       "      <th>LSTM</th>\n",
       "    </tr>\n",
       "  </thead>\n",
       "  <tbody>\n",
       "    <tr>\n",
       "      <th>0</th>\n",
       "      <td>7.444017</td>\n",
       "    </tr>\n",
       "    <tr>\n",
       "      <th>1</th>\n",
       "      <td>7.485474</td>\n",
       "    </tr>\n",
       "    <tr>\n",
       "      <th>2</th>\n",
       "      <td>7.953871</td>\n",
       "    </tr>\n",
       "    <tr>\n",
       "      <th>3</th>\n",
       "      <td>7.617049</td>\n",
       "    </tr>\n",
       "    <tr>\n",
       "      <th>4</th>\n",
       "      <td>7.955699</td>\n",
       "    </tr>\n",
       "    <tr>\n",
       "      <th>5</th>\n",
       "      <td>8.169379</td>\n",
       "    </tr>\n",
       "    <tr>\n",
       "      <th>6</th>\n",
       "      <td>7.753589</td>\n",
       "    </tr>\n",
       "  </tbody>\n",
       "</table>\n",
       "</div>"
      ],
      "text/plain": [
       "       LSTM\n",
       "0  7.444017\n",
       "1  7.485474\n",
       "2  7.953871\n",
       "3  7.617049\n",
       "4  7.955699\n",
       "5  8.169379\n",
       "6  7.753589"
      ]
     },
     "execution_count": 25,
     "metadata": {},
     "output_type": "execute_result"
    }
   ],
   "source": [
    "nice = op1.predict(oyea)\n",
    "nice"
   ]
  },
  {
   "cell_type": "code",
   "execution_count": 26,
   "metadata": {},
   "outputs": [],
   "source": [
    "op2.create_cnn()"
   ]
  },
  {
   "cell_type": "code",
   "execution_count": 27,
   "metadata": {},
   "outputs": [
    {
     "name": "stdout",
     "output_type": "stream",
     "text": [
      "Model: \"sequential_2\"\n",
      "_________________________________________________________________\n",
      "Layer (type)                 Output Shape              Param #   \n",
      "=================================================================\n",
      "conv1d (Conv1D)              (None, 24, 64)            192       \n",
      "_________________________________________________________________\n",
      "conv1d_1 (Conv1D)            (None, 23, 32)            4128      \n",
      "_________________________________________________________________\n",
      "max_pooling1d (MaxPooling1D) (None, 11, 32)            0         \n",
      "_________________________________________________________________\n",
      "flatten (Flatten)            (None, 352)               0         \n",
      "_________________________________________________________________\n",
      "dense_2 (Dense)              (None, 50)                17650     \n",
      "_________________________________________________________________\n",
      "dense_3 (Dense)              (None, 7)                 357       \n",
      "=================================================================\n",
      "Total params: 22,327\n",
      "Trainable params: 22,327\n",
      "Non-trainable params: 0\n",
      "_________________________________________________________________\n"
     ]
    }
   ],
   "source": [
    "op2.model_blueprint()"
   ]
  },
  {
   "cell_type": "code",
   "execution_count": 28,
   "metadata": {},
   "outputs": [
    {
     "name": "stdout",
     "output_type": "stream",
     "text": [
      "Epoch 1/10\n",
      "20/20 [==============================] - 0s 8ms/step - loss: 13.1028 - mean_squared_error: 13.1028 - val_loss: 4.3357 - val_mean_squared_error: 4.3357\n",
      "Epoch 2/10\n",
      "20/20 [==============================] - 0s 3ms/step - loss: 0.8406 - mean_squared_error: 0.8406 - val_loss: 0.5708 - val_mean_squared_error: 0.5708\n",
      "Epoch 3/10\n",
      "20/20 [==============================] - 0s 3ms/step - loss: 0.1509 - mean_squared_error: 0.1509 - val_loss: 0.2541 - val_mean_squared_error: 0.2541\n",
      "Epoch 4/10\n",
      "20/20 [==============================] - 0s 3ms/step - loss: 0.0810 - mean_squared_error: 0.0810 - val_loss: 0.2608 - val_mean_squared_error: 0.2608\n",
      "Epoch 5/10\n",
      "20/20 [==============================] - 0s 3ms/step - loss: 0.0656 - mean_squared_error: 0.0656 - val_loss: 0.2700 - val_mean_squared_error: 0.2700\n",
      "Epoch 6/10\n",
      "20/20 [==============================] - 0s 3ms/step - loss: 0.0655 - mean_squared_error: 0.0655 - val_loss: 0.2363 - val_mean_squared_error: 0.2363\n",
      "Epoch 7/10\n",
      "20/20 [==============================] - 0s 3ms/step - loss: 0.0663 - mean_squared_error: 0.0663 - val_loss: 0.1798 - val_mean_squared_error: 0.1798\n",
      "Epoch 8/10\n",
      "20/20 [==============================] - 0s 3ms/step - loss: 0.0643 - mean_squared_error: 0.0643 - val_loss: 0.1912 - val_mean_squared_error: 0.1912\n",
      "Epoch 9/10\n",
      "20/20 [==============================] - 0s 3ms/step - loss: 0.0697 - mean_squared_error: 0.0697 - val_loss: 0.2065 - val_mean_squared_error: 0.2065\n",
      "Epoch 10/10\n",
      "20/20 [==============================] - 0s 3ms/step - loss: 0.0646 - mean_squared_error: 0.0646 - val_loss: 0.2393 - val_mean_squared_error: 0.2393\n"
     ]
    },
    {
     "data": {
      "text/plain": [
       "<tensorflow.python.keras.callbacks.History at 0x195187baaf0>"
      ]
     },
     "execution_count": 28,
     "metadata": {},
     "output_type": "execute_result"
    }
   ],
   "source": [
    "op2.fit_model(10)"
   ]
  },
  {
   "cell_type": "code",
   "execution_count": 29,
   "metadata": {},
   "outputs": [
    {
     "data": {
      "image/png": "[encoded data removed]",
      "text/plain": [
       "<Figure size 432x288 with 2 Axes>"
      ]
     },
     "metadata": {
      "needs_background": "light"
     },
     "output_type": "display_data"
    }
   ],
   "source": [
    "op2.show_performance()"
   ]
  },
  {
   "cell_type": "code",
   "execution_count": 30,
   "metadata": {},
   "outputs": [
    {
     "data": {
      "text/html": [
       "<div>\n",
       "<style scoped>\n",
       "    .dataframe tbody tr th:only-of-type {\n",
       "        vertical-align: middle;\n",
       "    }\n",
       "\n",
       "    .dataframe tbody tr th {\n",
       "        vertical-align: top;\n",
       "    }\n",
       "\n",
       "    .dataframe thead th {\n",
       "        text-align: right;\n",
       "    }\n",
       "</style>\n",
       "<table border=\"1\" class=\"dataframe\">\n",
       "  <thead>\n",
       "    <tr style=\"text-align: right;\">\n",
       "      <th></th>\n",
       "      <th>CNN</th>\n",
       "    </tr>\n",
       "  </thead>\n",
       "  <tbody>\n",
       "    <tr>\n",
       "      <th>0</th>\n",
       "      <td>7.571640</td>\n",
       "    </tr>\n",
       "    <tr>\n",
       "      <th>1</th>\n",
       "      <td>7.636959</td>\n",
       "    </tr>\n",
       "    <tr>\n",
       "      <th>2</th>\n",
       "      <td>7.629258</td>\n",
       "    </tr>\n",
       "    <tr>\n",
       "      <th>3</th>\n",
       "      <td>7.693495</td>\n",
       "    </tr>\n",
       "    <tr>\n",
       "      <th>4</th>\n",
       "      <td>7.731886</td>\n",
       "    </tr>\n",
       "    <tr>\n",
       "      <th>5</th>\n",
       "      <td>7.737085</td>\n",
       "    </tr>\n",
       "    <tr>\n",
       "      <th>6</th>\n",
       "      <td>7.691160</td>\n",
       "    </tr>\n",
       "  </tbody>\n",
       "</table>\n",
       "</div>"
      ],
      "text/plain": [
       "        CNN\n",
       "0  7.571640\n",
       "1  7.636959\n",
       "2  7.629258\n",
       "3  7.693495\n",
       "4  7.731886\n",
       "5  7.737085\n",
       "6  7.691160"
      ]
     },
     "execution_count": 30,
     "metadata": {},
     "output_type": "execute_result"
    }
   ],
   "source": [
    "nice = op2.predict(oyea)\n",
    "nice"
   ]
  },
  {
   "cell_type": "code",
   "execution_count": 31,
   "metadata": {},
   "outputs": [],
   "source": [
    "op3.create_mlp()"
   ]
  },
  {
   "cell_type": "code",
   "execution_count": 32,
   "metadata": {},
   "outputs": [
    {
     "name": "stdout",
     "output_type": "stream",
     "text": [
      "Model: \"sequential_3\"\n",
      "_________________________________________________________________\n",
      "Layer (type)                 Output Shape              Param #   \n",
      "=================================================================\n",
      "dense_4 (Dense)              (None, 50)                1300      \n",
      "_________________________________________________________________\n",
      "dense_5 (Dense)              (None, 25)                1275      \n",
      "_________________________________________________________________\n",
      "dense_6 (Dense)              (None, 25)                650       \n",
      "_________________________________________________________________\n",
      "dense_7 (Dense)              (None, 7)                 182       \n",
      "=================================================================\n",
      "Total params: 3,407\n",
      "Trainable params: 3,407\n",
      "Non-trainable params: 0\n",
      "_________________________________________________________________\n"
     ]
    }
   ],
   "source": [
    "op3.model_blueprint()"
   ]
  },
  {
   "cell_type": "code",
   "execution_count": 33,
   "metadata": {},
   "outputs": [
    {
     "name": "stdout",
     "output_type": "stream",
     "text": [
      "Epoch 1/100\n",
      "20/20 [==============================] - 0s 8ms/step - loss: 24.1870 - mean_squared_error: 24.1870 - val_loss: 31.2576 - val_mean_squared_error: 31.2576\n",
      "Epoch 2/100\n",
      "20/20 [==============================] - 0s 2ms/step - loss: 12.5680 - mean_squared_error: 12.5680 - val_loss: 11.5083 - val_mean_squared_error: 11.5083\n",
      "Epoch 3/100\n",
      "20/20 [==============================] - 0s 2ms/step - loss: 3.5404 - mean_squared_error: 3.5404 - val_loss: 2.1975 - val_mean_squared_error: 2.1975\n",
      "Epoch 4/100\n",
      "20/20 [==============================] - 0s 2ms/step - loss: 0.3839 - mean_squared_error: 0.3839 - val_loss: 0.2401 - val_mean_squared_error: 0.2401\n",
      "Epoch 5/100\n",
      "20/20 [==============================] - 0s 2ms/step - loss: 0.0876 - mean_squared_error: 0.0876 - val_loss: 0.2482 - val_mean_squared_error: 0.2482\n",
      "Epoch 6/100\n",
      "20/20 [==============================] - 0s 2ms/step - loss: 0.0597 - mean_squared_error: 0.0597 - val_loss: 0.2320 - val_mean_squared_error: 0.2320\n",
      "Epoch 7/100\n",
      "20/20 [==============================] - 0s 2ms/step - loss: 0.0584 - mean_squared_error: 0.0584 - val_loss: 0.2380 - val_mean_squared_error: 0.2380\n",
      "Epoch 8/100\n",
      "20/20 [==============================] - 0s 2ms/step - loss: 0.0573 - mean_squared_error: 0.0573 - val_loss: 0.2215 - val_mean_squared_error: 0.2215\n",
      "Epoch 9/100\n",
      "20/20 [==============================] - 0s 2ms/step - loss: 0.0577 - mean_squared_error: 0.0577 - val_loss: 0.2446 - val_mean_squared_error: 0.2446\n",
      "Epoch 10/100\n",
      "20/20 [==============================] - 0s 2ms/step - loss: 0.0581 - mean_squared_error: 0.0581 - val_loss: 0.2348 - val_mean_squared_error: 0.2348\n",
      "Epoch 11/100\n",
      "20/20 [==============================] - 0s 2ms/step - loss: 0.0570 - mean_squared_error: 0.0570 - val_loss: 0.1830 - val_mean_squared_error: 0.1830\n",
      "Epoch 12/100\n",
      "20/20 [==============================] - 0s 2ms/step - loss: 0.0568 - mean_squared_error: 0.0568 - val_loss: 0.2126 - val_mean_squared_error: 0.2126\n",
      "Epoch 13/100\n",
      "20/20 [==============================] - 0s 2ms/step - loss: 0.0579 - mean_squared_error: 0.0579 - val_loss: 0.1923 - val_mean_squared_error: 0.1923\n",
      "Epoch 14/100\n",
      "20/20 [==============================] - 0s 2ms/step - loss: 0.0575 - mean_squared_error: 0.0575 - val_loss: 0.2099 - val_mean_squared_error: 0.2099\n",
      "Epoch 15/100\n",
      "20/20 [==============================] - 0s 3ms/step - loss: 0.0567 - mean_squared_error: 0.0567 - val_loss: 0.2158 - val_mean_squared_error: 0.2158\n",
      "Epoch 16/100\n",
      "20/20 [==============================] - 0s 2ms/step - loss: 0.0573 - mean_squared_error: 0.0573 - val_loss: 0.2085 - val_mean_squared_error: 0.2085\n",
      "Epoch 17/100\n",
      "20/20 [==============================] - 0s 3ms/step - loss: 0.0596 - mean_squared_error: 0.0596 - val_loss: 0.1744 - val_mean_squared_error: 0.1744\n",
      "Epoch 18/100\n",
      "20/20 [==============================] - 0s 2ms/step - loss: 0.0591 - mean_squared_error: 0.0591 - val_loss: 0.1907 - val_mean_squared_error: 0.1907\n",
      "Epoch 19/100\n",
      "20/20 [==============================] - 0s 3ms/step - loss: 0.0570 - mean_squared_error: 0.0570 - val_loss: 0.1977 - val_mean_squared_error: 0.1977\n",
      "Epoch 20/100\n",
      "20/20 [==============================] - 0s 2ms/step - loss: 0.0570 - mean_squared_error: 0.0570 - val_loss: 0.1976 - val_mean_squared_error: 0.1976\n",
      "Epoch 21/100\n",
      "20/20 [==============================] - 0s 3ms/step - loss: 0.0570 - mean_squared_error: 0.0570 - val_loss: 0.1768 - val_mean_squared_error: 0.1768\n",
      "Epoch 22/100\n",
      "20/20 [==============================] - 0s 2ms/step - loss: 0.0561 - mean_squared_error: 0.0561 - val_loss: 0.2112 - val_mean_squared_error: 0.2112\n",
      "Epoch 23/100\n",
      "20/20 [==============================] - 0s 2ms/step - loss: 0.0560 - mean_squared_error: 0.0560 - val_loss: 0.2198 - val_mean_squared_error: 0.2198\n",
      "Epoch 24/100\n",
      "20/20 [==============================] - 0s 2ms/step - loss: 0.0562 - mean_squared_error: 0.0562 - val_loss: 0.1794 - val_mean_squared_error: 0.1794\n",
      "Epoch 25/100\n",
      "20/20 [==============================] - 0s 2ms/step - loss: 0.0567 - mean_squared_error: 0.0567 - val_loss: 0.2252 - val_mean_squared_error: 0.2252\n",
      "Epoch 26/100\n",
      "20/20 [==============================] - 0s 2ms/step - loss: 0.0568 - mean_squared_error: 0.0568 - val_loss: 0.1817 - val_mean_squared_error: 0.1817\n",
      "Epoch 27/100\n",
      "20/20 [==============================] - 0s 2ms/step - loss: 0.0606 - mean_squared_error: 0.0606 - val_loss: 0.1583 - val_mean_squared_error: 0.1583\n",
      "Epoch 28/100\n",
      "20/20 [==============================] - 0s 2ms/step - loss: 0.0572 - mean_squared_error: 0.0572 - val_loss: 0.2282 - val_mean_squared_error: 0.2282\n",
      "Epoch 29/100\n",
      "20/20 [==============================] - 0s 2ms/step - loss: 0.0579 - mean_squared_error: 0.0579 - val_loss: 0.1556 - val_mean_squared_error: 0.1556\n",
      "Epoch 30/100\n",
      "20/20 [==============================] - 0s 2ms/step - loss: 0.0557 - mean_squared_error: 0.0557 - val_loss: 0.2747 - val_mean_squared_error: 0.2747\n",
      "Epoch 31/100\n",
      "20/20 [==============================] - 0s 2ms/step - loss: 0.0580 - mean_squared_error: 0.0580 - val_loss: 0.1474 - val_mean_squared_error: 0.1474\n",
      "Epoch 32/100\n",
      "20/20 [==============================] - 0s 2ms/step - loss: 0.0551 - mean_squared_error: 0.0551 - val_loss: 0.2307 - val_mean_squared_error: 0.2307\n",
      "Epoch 33/100\n",
      "20/20 [==============================] - 0s 2ms/step - loss: 0.0563 - mean_squared_error: 0.0563 - val_loss: 0.1911 - val_mean_squared_error: 0.1911\n",
      "Epoch 34/100\n",
      "20/20 [==============================] - 0s 2ms/step - loss: 0.0558 - mean_squared_error: 0.0558 - val_loss: 0.1995 - val_mean_squared_error: 0.1995\n",
      "Epoch 35/100\n",
      "20/20 [==============================] - 0s 2ms/step - loss: 0.0557 - mean_squared_error: 0.0557 - val_loss: 0.2038 - val_mean_squared_error: 0.2038\n",
      "Epoch 36/100\n",
      "20/20 [==============================] - 0s 2ms/step - loss: 0.0555 - mean_squared_error: 0.0555 - val_loss: 0.2051 - val_mean_squared_error: 0.2051\n",
      "Epoch 37/100\n",
      "20/20 [==============================] - 0s 2ms/step - loss: 0.0550 - mean_squared_error: 0.0550 - val_loss: 0.1723 - val_mean_squared_error: 0.1723\n",
      "Epoch 38/100\n",
      "20/20 [==============================] - 0s 2ms/step - loss: 0.0570 - mean_squared_error: 0.0570 - val_loss: 0.2209 - val_mean_squared_error: 0.2209\n",
      "Epoch 39/100\n",
      "20/20 [==============================] - 0s 2ms/step - loss: 0.0617 - mean_squared_error: 0.0617 - val_loss: 0.2485 - val_mean_squared_error: 0.2485\n",
      "Epoch 40/100\n",
      "20/20 [==============================] - 0s 2ms/step - loss: 0.0566 - mean_squared_error: 0.0566 - val_loss: 0.1828 - val_mean_squared_error: 0.1828\n",
      "Epoch 41/100\n",
      "20/20 [==============================] - 0s 2ms/step - loss: 0.0543 - mean_squared_error: 0.0543 - val_loss: 0.2485 - val_mean_squared_error: 0.2485\n",
      "Epoch 42/100\n",
      "20/20 [==============================] - 0s 2ms/step - loss: 0.0542 - mean_squared_error: 0.0542 - val_loss: 0.1693 - val_mean_squared_error: 0.1693\n",
      "Epoch 43/100\n",
      "20/20 [==============================] - 0s 2ms/step - loss: 0.0554 - mean_squared_error: 0.0554 - val_loss: 0.1494 - val_mean_squared_error: 0.1494\n",
      "Epoch 44/100\n",
      "20/20 [==============================] - 0s 2ms/step - loss: 0.0561 - mean_squared_error: 0.0561 - val_loss: 0.1598 - val_mean_squared_error: 0.1598\n",
      "Epoch 45/100\n",
      "20/20 [==============================] - 0s 2ms/step - loss: 0.0551 - mean_squared_error: 0.0551 - val_loss: 0.2283 - val_mean_squared_error: 0.2283\n",
      "Epoch 46/100\n",
      "20/20 [==============================] - 0s 2ms/step - loss: 0.0541 - mean_squared_error: 0.0541 - val_loss: 0.2400 - val_mean_squared_error: 0.2400\n",
      "Epoch 47/100\n",
      "20/20 [==============================] - 0s 2ms/step - loss: 0.0568 - mean_squared_error: 0.0568 - val_loss: 0.1995 - val_mean_squared_error: 0.1995\n",
      "Epoch 48/100\n",
      "20/20 [==============================] - 0s 2ms/step - loss: 0.0547 - mean_squared_error: 0.0547 - val_loss: 0.1988 - val_mean_squared_error: 0.1988\n",
      "Epoch 49/100\n",
      "20/20 [==============================] - 0s 2ms/step - loss: 0.0535 - mean_squared_error: 0.0535 - val_loss: 0.1871 - val_mean_squared_error: 0.1871\n",
      "Epoch 50/100\n",
      "20/20 [==============================] - 0s 2ms/step - loss: 0.0545 - mean_squared_error: 0.0545 - val_loss: 0.1549 - val_mean_squared_error: 0.1549\n",
      "Epoch 51/100\n"
     ]
    },
    {
     "name": "stdout",
     "output_type": "stream",
     "text": [
      "20/20 [==============================] - 0s 2ms/step - loss: 0.0538 - mean_squared_error: 0.0538 - val_loss: 0.1670 - val_mean_squared_error: 0.1670\n",
      "Epoch 52/100\n",
      "20/20 [==============================] - 0s 2ms/step - loss: 0.0540 - mean_squared_error: 0.0540 - val_loss: 0.1670 - val_mean_squared_error: 0.1670\n",
      "Epoch 53/100\n",
      "20/20 [==============================] - 0s 2ms/step - loss: 0.0539 - mean_squared_error: 0.0539 - val_loss: 0.1621 - val_mean_squared_error: 0.1621\n",
      "Epoch 54/100\n",
      "20/20 [==============================] - 0s 2ms/step - loss: 0.0530 - mean_squared_error: 0.0530 - val_loss: 0.1636 - val_mean_squared_error: 0.1636\n",
      "Epoch 55/100\n",
      "20/20 [==============================] - 0s 2ms/step - loss: 0.0519 - mean_squared_error: 0.0519 - val_loss: 0.1206 - val_mean_squared_error: 0.1206\n",
      "Epoch 56/100\n",
      "20/20 [==============================] - 0s 2ms/step - loss: 0.0556 - mean_squared_error: 0.0556 - val_loss: 0.2094 - val_mean_squared_error: 0.2094\n",
      "Epoch 57/100\n",
      "20/20 [==============================] - 0s 2ms/step - loss: 0.0528 - mean_squared_error: 0.0528 - val_loss: 0.1543 - val_mean_squared_error: 0.1543\n",
      "Epoch 58/100\n",
      "20/20 [==============================] - 0s 2ms/step - loss: 0.0544 - mean_squared_error: 0.0544 - val_loss: 0.1912 - val_mean_squared_error: 0.1912\n",
      "Epoch 59/100\n",
      "20/20 [==============================] - 0s 2ms/step - loss: 0.0532 - mean_squared_error: 0.0532 - val_loss: 0.1700 - val_mean_squared_error: 0.1700\n",
      "Epoch 60/100\n",
      "20/20 [==============================] - 0s 2ms/step - loss: 0.0531 - mean_squared_error: 0.0531 - val_loss: 0.2157 - val_mean_squared_error: 0.2157\n",
      "Epoch 61/100\n",
      "20/20 [==============================] - 0s 2ms/step - loss: 0.0539 - mean_squared_error: 0.0539 - val_loss: 0.1841 - val_mean_squared_error: 0.1841\n",
      "Epoch 62/100\n",
      "20/20 [==============================] - 0s 2ms/step - loss: 0.0519 - mean_squared_error: 0.0519 - val_loss: 0.1296 - val_mean_squared_error: 0.1296\n",
      "Epoch 63/100\n",
      "20/20 [==============================] - 0s 2ms/step - loss: 0.0530 - mean_squared_error: 0.0530 - val_loss: 0.2569 - val_mean_squared_error: 0.2569\n",
      "Epoch 64/100\n",
      "20/20 [==============================] - 0s 2ms/step - loss: 0.0554 - mean_squared_error: 0.0554 - val_loss: 0.1802 - val_mean_squared_error: 0.1802\n",
      "Epoch 65/100\n",
      "20/20 [==============================] - 0s 2ms/step - loss: 0.0546 - mean_squared_error: 0.0546 - val_loss: 0.1552 - val_mean_squared_error: 0.1552\n",
      "Epoch 66/100\n",
      "20/20 [==============================] - 0s 2ms/step - loss: 0.0587 - mean_squared_error: 0.0587 - val_loss: 0.1472 - val_mean_squared_error: 0.1472\n",
      "Epoch 67/100\n",
      "20/20 [==============================] - 0s 2ms/step - loss: 0.0516 - mean_squared_error: 0.0516 - val_loss: 0.1514 - val_mean_squared_error: 0.1514\n",
      "Epoch 68/100\n",
      "20/20 [==============================] - 0s 2ms/step - loss: 0.0527 - mean_squared_error: 0.0527 - val_loss: 0.1239 - val_mean_squared_error: 0.1239\n",
      "Epoch 69/100\n",
      "20/20 [==============================] - 0s 2ms/step - loss: 0.0579 - mean_squared_error: 0.0579 - val_loss: 0.1521 - val_mean_squared_error: 0.1521\n",
      "Epoch 70/100\n",
      "20/20 [==============================] - 0s 2ms/step - loss: 0.0516 - mean_squared_error: 0.0516 - val_loss: 0.1752 - val_mean_squared_error: 0.1752\n",
      "Epoch 71/100\n",
      "20/20 [==============================] - 0s 2ms/step - loss: 0.0508 - mean_squared_error: 0.0508 - val_loss: 0.1164 - val_mean_squared_error: 0.1164\n",
      "Epoch 72/100\n",
      "20/20 [==============================] - 0s 2ms/step - loss: 0.0517 - mean_squared_error: 0.0517 - val_loss: 0.1573 - val_mean_squared_error: 0.1573\n",
      "Epoch 73/100\n",
      "20/20 [==============================] - 0s 2ms/step - loss: 0.0498 - mean_squared_error: 0.0498 - val_loss: 0.1580 - val_mean_squared_error: 0.1580\n",
      "Epoch 74/100\n",
      "20/20 [==============================] - 0s 2ms/step - loss: 0.0508 - mean_squared_error: 0.0508 - val_loss: 0.1895 - val_mean_squared_error: 0.1895\n",
      "Epoch 75/100\n",
      "20/20 [==============================] - 0s 2ms/step - loss: 0.0579 - mean_squared_error: 0.0579 - val_loss: 0.1727 - val_mean_squared_error: 0.1727\n",
      "Epoch 76/100\n",
      "20/20 [==============================] - 0s 2ms/step - loss: 0.0517 - mean_squared_error: 0.0517 - val_loss: 0.1616 - val_mean_squared_error: 0.1616\n",
      "Epoch 77/100\n",
      "20/20 [==============================] - 0s 2ms/step - loss: 0.0503 - mean_squared_error: 0.0503 - val_loss: 0.1223 - val_mean_squared_error: 0.1223\n",
      "Epoch 78/100\n",
      "20/20 [==============================] - 0s 2ms/step - loss: 0.0515 - mean_squared_error: 0.0515 - val_loss: 0.1006 - val_mean_squared_error: 0.1006\n",
      "Epoch 79/100\n",
      "20/20 [==============================] - 0s 2ms/step - loss: 0.0566 - mean_squared_error: 0.0566 - val_loss: 0.1852 - val_mean_squared_error: 0.1852\n",
      "Epoch 80/100\n",
      "20/20 [==============================] - 0s 2ms/step - loss: 0.0509 - mean_squared_error: 0.0509 - val_loss: 0.1844 - val_mean_squared_error: 0.1844\n",
      "Epoch 81/100\n",
      "20/20 [==============================] - 0s 1ms/step - loss: 0.0504 - mean_squared_error: 0.0504 - val_loss: 0.1029 - val_mean_squared_error: 0.1029\n",
      "Epoch 82/100\n",
      "20/20 [==============================] - 0s 2ms/step - loss: 0.0552 - mean_squared_error: 0.0552 - val_loss: 0.2478 - val_mean_squared_error: 0.2478\n",
      "Epoch 83/100\n",
      "20/20 [==============================] - 0s 2ms/step - loss: 0.0527 - mean_squared_error: 0.0527 - val_loss: 0.1078 - val_mean_squared_error: 0.1078\n",
      "Epoch 84/100\n",
      "20/20 [==============================] - 0s 2ms/step - loss: 0.0504 - mean_squared_error: 0.0504 - val_loss: 0.1275 - val_mean_squared_error: 0.1275\n",
      "Epoch 85/100\n",
      "20/20 [==============================] - 0s 2ms/step - loss: 0.0493 - mean_squared_error: 0.0493 - val_loss: 0.1352 - val_mean_squared_error: 0.1352\n",
      "Epoch 86/100\n",
      "20/20 [==============================] - 0s 2ms/step - loss: 0.0486 - mean_squared_error: 0.0486 - val_loss: 0.1356 - val_mean_squared_error: 0.1356\n",
      "Epoch 87/100\n",
      "20/20 [==============================] - 0s 2ms/step - loss: 0.0484 - mean_squared_error: 0.0484 - val_loss: 0.1048 - val_mean_squared_error: 0.1048\n",
      "Epoch 88/100\n",
      "20/20 [==============================] - 0s 2ms/step - loss: 0.0560 - mean_squared_error: 0.0560 - val_loss: 0.1167 - val_mean_squared_error: 0.1167\n",
      "Epoch 89/100\n",
      "20/20 [==============================] - 0s 2ms/step - loss: 0.0538 - mean_squared_error: 0.0538 - val_loss: 0.1644 - val_mean_squared_error: 0.1644\n",
      "Epoch 90/100\n",
      "20/20 [==============================] - 0s 2ms/step - loss: 0.0501 - mean_squared_error: 0.0501 - val_loss: 0.0979 - val_mean_squared_error: 0.0979\n",
      "Epoch 91/100\n",
      "20/20 [==============================] - 0s 2ms/step - loss: 0.0497 - mean_squared_error: 0.0497 - val_loss: 0.1995 - val_mean_squared_error: 0.1995\n",
      "Epoch 92/100\n",
      "20/20 [==============================] - 0s 2ms/step - loss: 0.0502 - mean_squared_error: 0.0502 - val_loss: 0.0905 - val_mean_squared_error: 0.0905\n",
      "Epoch 93/100\n",
      "20/20 [==============================] - 0s 2ms/step - loss: 0.0526 - mean_squared_error: 0.0526 - val_loss: 0.1517 - val_mean_squared_error: 0.1517\n",
      "Epoch 94/100\n",
      "20/20 [==============================] - 0s 2ms/step - loss: 0.0488 - mean_squared_error: 0.0488 - val_loss: 0.1113 - val_mean_squared_error: 0.1113\n",
      "Epoch 95/100\n",
      "20/20 [==============================] - 0s 2ms/step - loss: 0.0502 - mean_squared_error: 0.0502 - val_loss: 0.1288 - val_mean_squared_error: 0.1288\n",
      "Epoch 96/100\n",
      "20/20 [==============================] - 0s 2ms/step - loss: 0.0510 - mean_squared_error: 0.0510 - val_loss: 0.1885 - val_mean_squared_error: 0.1885\n",
      "Epoch 97/100\n",
      "20/20 [==============================] - 0s 2ms/step - loss: 0.0517 - mean_squared_error: 0.0517 - val_loss: 0.2008 - val_mean_squared_error: 0.2008\n",
      "Epoch 98/100\n",
      "20/20 [==============================] - 0s 2ms/step - loss: 0.0515 - mean_squared_error: 0.0515 - val_loss: 0.1097 - val_mean_squared_error: 0.1097\n",
      "Epoch 99/100\n",
      "20/20 [==============================] - 0s 2ms/step - loss: 0.0511 - mean_squared_error: 0.0511 - val_loss: 0.1116 - val_mean_squared_error: 0.1116\n",
      "Epoch 100/100\n",
      "20/20 [==============================] - 0s 2ms/step - loss: 0.0475 - mean_squared_error: 0.0475 - val_loss: 0.1202 - val_mean_squared_error: 0.1202\n"
     ]
    },
    {
     "data": {
      "text/plain": [
       "<tensorflow.python.keras.callbacks.History at 0x19519cdf6a0>"
      ]
     },
     "execution_count": 33,
     "metadata": {},
     "output_type": "execute_result"
    }
   ],
   "source": [
    "op3.fit_model(100)"
   ]
  },
  {
   "cell_type": "code",
   "execution_count": 34,
   "metadata": {},
   "outputs": [
    {
     "data": {
      "image/png": "[encoded data removed]",
      "text/plain": [
       "<Figure size 432x288 with 2 Axes>"
      ]
     },
     "metadata": {
      "needs_background": "light"
     },
     "output_type": "display_data"
    }
   ],
   "source": [
    "op3.show_performance()"
   ]
  },
  {
   "cell_type": "code",
   "execution_count": 35,
   "metadata": {},
   "outputs": [],
   "source": [
    "oyea = prices[-26:-1]\n",
    "#oyea = X[-1]\n",
    "#oyea"
   ]
  },
  {
   "cell_type": "code",
   "execution_count": 36,
   "metadata": {},
   "outputs": [
    {
     "data": {
      "text/html": [
       "<div>\n",
       "<style scoped>\n",
       "    .dataframe tbody tr th:only-of-type {\n",
       "        vertical-align: middle;\n",
       "    }\n",
       "\n",
       "    .dataframe tbody tr th {\n",
       "        vertical-align: top;\n",
       "    }\n",
       "\n",
       "    .dataframe thead th {\n",
       "        text-align: right;\n",
       "    }\n",
       "</style>\n",
       "<table border=\"1\" class=\"dataframe\">\n",
       "  <thead>\n",
       "    <tr style=\"text-align: right;\">\n",
       "      <th></th>\n",
       "      <th>MLP</th>\n",
       "    </tr>\n",
       "  </thead>\n",
       "  <tbody>\n",
       "    <tr>\n",
       "      <th>0</th>\n",
       "      <td>7.016368</td>\n",
       "    </tr>\n",
       "    <tr>\n",
       "      <th>1</th>\n",
       "      <td>7.353357</td>\n",
       "    </tr>\n",
       "    <tr>\n",
       "      <th>2</th>\n",
       "      <td>7.350390</td>\n",
       "    </tr>\n",
       "    <tr>\n",
       "      <th>3</th>\n",
       "      <td>7.333137</td>\n",
       "    </tr>\n",
       "    <tr>\n",
       "      <th>4</th>\n",
       "      <td>7.241974</td>\n",
       "    </tr>\n",
       "    <tr>\n",
       "      <th>5</th>\n",
       "      <td>7.493763</td>\n",
       "    </tr>\n",
       "    <tr>\n",
       "      <th>6</th>\n",
       "      <td>7.504691</td>\n",
       "    </tr>\n",
       "  </tbody>\n",
       "</table>\n",
       "</div>"
      ],
      "text/plain": [
       "        MLP\n",
       "0  7.016368\n",
       "1  7.353357\n",
       "2  7.350390\n",
       "3  7.333137\n",
       "4  7.241974\n",
       "5  7.493763\n",
       "6  7.504691"
      ]
     },
     "execution_count": 36,
     "metadata": {},
     "output_type": "execute_result"
    }
   ],
   "source": [
    "nice = op3.predict(oyea)\n",
    "nice"
   ]
  },
  {
   "cell_type": "code",
   "execution_count": 37,
   "metadata": {},
   "outputs": [],
   "source": [
    "%run ../tools/predictorsII.py"
   ]
  },
  {
   "cell_type": "code",
   "execution_count": 38,
   "metadata": {},
   "outputs": [],
   "source": [
    "oo = UnivariatePredictorII(prices, 7)"
   ]
  },
  {
   "cell_type": "code",
   "execution_count": 39,
   "metadata": {},
   "outputs": [
    {
     "name": "stderr",
     "output_type": "stream",
     "text": [
      "INFO: nprophet.utils - set_auto_seasonalities: Disabling yearly seasonality. Run NeuralProphet with yearly_seasonality=True to override this.\n",
      "INFO: nprophet.utils - set_auto_seasonalities: Disabling daily seasonality. Run NeuralProphet with daily_seasonality=True to override this.\n",
      "INFO: nprophet.config - set_auto_batch_epoch: Auto-set batch_size to 8\n"
     ]
    },
    {
     "data": {
      "application/vnd.jupyter.widget-view+json": {
       "model_id": "b3e5f75d49004dbe8ffc87627e89dfae",
       "version_major": 2,
       "version_minor": 0
      },
      "text/plain": [
       "  0%|          | 0/100 [00:00<?, ?it/s]"
      ]
     },
     "metadata": {},
     "output_type": "display_data"
    },
    {
     "name": "stderr",
     "output_type": "stream",
     "text": [
      "INFO: nprophet - _lr_range_test: learning rate range test found optimal lr: 3.51E-05\n",
      "Epoch[100/100]: 100%|█| 100/100 [00:04<00:00, 23.52it/s, SmoothL1Loss=0.363, MAE=3.8, RegLoss=0, MAE_val=3.99, SmoothL1\n"
     ]
    }
   ],
   "source": [
    "oo.fit_neural_model(100,\"D\")"
   ]
  },
  {
   "cell_type": "code",
   "execution_count": 40,
   "metadata": {
    "scrolled": true
   },
   "outputs": [
    {
     "data": {
      "image/png": "[encoded data removed]",
      "text/plain": [
       "<Figure size 432x288 with 2 Axes>"
      ]
     },
     "metadata": {
      "needs_background": "light"
     },
     "output_type": "display_data"
    }
   ],
   "source": [
    "oo.show_performance_neural()"
   ]
  },
  {
   "cell_type": "code",
   "execution_count": 41,
   "metadata": {
    "scrolled": true
   },
   "outputs": [
    {
     "data": {
      "text/html": [
       "<div>\n",
       "<style scoped>\n",
       "    .dataframe tbody tr th:only-of-type {\n",
       "        vertical-align: middle;\n",
       "    }\n",
       "\n",
       "    .dataframe tbody tr th {\n",
       "        vertical-align: top;\n",
       "    }\n",
       "\n",
       "    .dataframe thead th {\n",
       "        text-align: right;\n",
       "    }\n",
       "</style>\n",
       "<table border=\"1\" class=\"dataframe\">\n",
       "  <thead>\n",
       "    <tr style=\"text-align: right;\">\n",
       "      <th></th>\n",
       "      <th>Neural Prophet</th>\n",
       "    </tr>\n",
       "  </thead>\n",
       "  <tbody>\n",
       "    <tr>\n",
       "      <th>0</th>\n",
       "      <td>7.858598</td>\n",
       "    </tr>\n",
       "    <tr>\n",
       "      <th>1</th>\n",
       "      <td>11.582884</td>\n",
       "    </tr>\n",
       "    <tr>\n",
       "      <th>2</th>\n",
       "      <td>6.680636</td>\n",
       "    </tr>\n",
       "    <tr>\n",
       "      <th>3</th>\n",
       "      <td>14.030499</td>\n",
       "    </tr>\n",
       "    <tr>\n",
       "      <th>4</th>\n",
       "      <td>5.648793</td>\n",
       "    </tr>\n",
       "    <tr>\n",
       "      <th>5</th>\n",
       "      <td>-0.428853</td>\n",
       "    </tr>\n",
       "    <tr>\n",
       "      <th>6</th>\n",
       "      <td>2.138511</td>\n",
       "    </tr>\n",
       "  </tbody>\n",
       "</table>\n",
       "</div>"
      ],
      "text/plain": [
       "   Neural Prophet\n",
       "0        7.858598\n",
       "1       11.582884\n",
       "2        6.680636\n",
       "3       14.030499\n",
       "4        5.648793\n",
       "5       -0.428853\n",
       "6        2.138511"
      ]
     },
     "execution_count": 41,
     "metadata": {},
     "output_type": "execute_result"
    }
   ],
   "source": [
    "oo.predict_neural()"
   ]
  },
  {
   "cell_type": "code",
   "execution_count": 42,
   "metadata": {
    "scrolled": false
   },
   "outputs": [
    {
     "name": "stderr",
     "output_type": "stream",
     "text": [
      "INFO:fbprophet:Disabling yearly seasonality. Run prophet with yearly_seasonality=True to override this.\n",
      "INFO:fbprophet:Disabling daily seasonality. Run prophet with daily_seasonality=True to override this.\n"
     ]
    }
   ],
   "source": [
    "oo.fit_prophet_model()"
   ]
  },
  {
   "cell_type": "code",
   "execution_count": 43,
   "metadata": {},
   "outputs": [
    {
     "name": "stderr",
     "output_type": "stream",
     "text": [
      "INFO:fbprophet:Making 50 forecasts with cutoffs between 2009-08-15 12:00:00 and 2010-02-03 00:00:00\n"
     ]
    },
    {
     "data": {
      "application/vnd.jupyter.widget-view+json": {
       "model_id": "f57f050def9745008eb5304bd1d6cedd",
       "version_major": 2,
       "version_minor": 0
      },
      "text/plain": [
       "  0%|          | 0/50 [00:00<?, ?it/s]"
      ]
     },
     "metadata": {},
     "output_type": "display_data"
    },
    {
     "data": {
      "text/html": [
       "<div>\n",
       "<style scoped>\n",
       "    .dataframe tbody tr th:only-of-type {\n",
       "        vertical-align: middle;\n",
       "    }\n",
       "\n",
       "    .dataframe tbody tr th {\n",
       "        vertical-align: top;\n",
       "    }\n",
       "\n",
       "    .dataframe thead th {\n",
       "        text-align: right;\n",
       "    }\n",
       "</style>\n",
       "<table border=\"1\" class=\"dataframe\">\n",
       "  <thead>\n",
       "    <tr style=\"text-align: right;\">\n",
       "      <th></th>\n",
       "      <th>horizon</th>\n",
       "      <th>mse</th>\n",
       "      <th>rmse</th>\n",
       "      <th>mae</th>\n",
       "      <th>mape</th>\n",
       "      <th>mdape</th>\n",
       "      <th>coverage</th>\n",
       "    </tr>\n",
       "  </thead>\n",
       "  <tbody>\n",
       "    <tr>\n",
       "      <th>0</th>\n",
       "      <td>1 days 00:00:00</td>\n",
       "      <td>0.061154</td>\n",
       "      <td>0.247293</td>\n",
       "      <td>0.202087</td>\n",
       "      <td>0.029285</td>\n",
       "      <td>0.030000</td>\n",
       "      <td>0.625000</td>\n",
       "    </tr>\n",
       "    <tr>\n",
       "      <th>1</th>\n",
       "      <td>1 days 12:00:00</td>\n",
       "      <td>0.065897</td>\n",
       "      <td>0.256705</td>\n",
       "      <td>0.198447</td>\n",
       "      <td>0.028946</td>\n",
       "      <td>0.022455</td>\n",
       "      <td>0.609375</td>\n",
       "    </tr>\n",
       "    <tr>\n",
       "      <th>2</th>\n",
       "      <td>2 days 00:00:00</td>\n",
       "      <td>0.083575</td>\n",
       "      <td>0.289093</td>\n",
       "      <td>0.234182</td>\n",
       "      <td>0.033957</td>\n",
       "      <td>0.034854</td>\n",
       "      <td>0.483696</td>\n",
       "    </tr>\n",
       "    <tr>\n",
       "      <th>3</th>\n",
       "      <td>2 days 12:00:00</td>\n",
       "      <td>0.059378</td>\n",
       "      <td>0.243676</td>\n",
       "      <td>0.180051</td>\n",
       "      <td>0.026026</td>\n",
       "      <td>0.018797</td>\n",
       "      <td>0.720000</td>\n",
       "    </tr>\n",
       "    <tr>\n",
       "      <th>4</th>\n",
       "      <td>3 days 12:00:00</td>\n",
       "      <td>0.053277</td>\n",
       "      <td>0.230818</td>\n",
       "      <td>0.185698</td>\n",
       "      <td>0.027001</td>\n",
       "      <td>0.024332</td>\n",
       "      <td>0.640000</td>\n",
       "    </tr>\n",
       "    <tr>\n",
       "      <th>5</th>\n",
       "      <td>4 days 12:00:00</td>\n",
       "      <td>0.077778</td>\n",
       "      <td>0.278887</td>\n",
       "      <td>0.225152</td>\n",
       "      <td>0.032715</td>\n",
       "      <td>0.027796</td>\n",
       "      <td>0.583333</td>\n",
       "    </tr>\n",
       "    <tr>\n",
       "      <th>6</th>\n",
       "      <td>5 days 00:00:00</td>\n",
       "      <td>0.086568</td>\n",
       "      <td>0.294225</td>\n",
       "      <td>0.229526</td>\n",
       "      <td>0.033036</td>\n",
       "      <td>0.026833</td>\n",
       "      <td>0.607639</td>\n",
       "    </tr>\n",
       "    <tr>\n",
       "      <th>7</th>\n",
       "      <td>5 days 12:00:00</td>\n",
       "      <td>0.100804</td>\n",
       "      <td>0.317496</td>\n",
       "      <td>0.257112</td>\n",
       "      <td>0.037308</td>\n",
       "      <td>0.036535</td>\n",
       "      <td>0.483696</td>\n",
       "    </tr>\n",
       "    <tr>\n",
       "      <th>8</th>\n",
       "      <td>6 days 00:00:00</td>\n",
       "      <td>0.077016</td>\n",
       "      <td>0.277518</td>\n",
       "      <td>0.209196</td>\n",
       "      <td>0.030107</td>\n",
       "      <td>0.023650</td>\n",
       "      <td>0.640000</td>\n",
       "    </tr>\n",
       "    <tr>\n",
       "      <th>9</th>\n",
       "      <td>7 days 00:00:00</td>\n",
       "      <td>0.070612</td>\n",
       "      <td>0.265729</td>\n",
       "      <td>0.215752</td>\n",
       "      <td>0.031163</td>\n",
       "      <td>0.027964</td>\n",
       "      <td>0.600000</td>\n",
       "    </tr>\n",
       "  </tbody>\n",
       "</table>\n",
       "</div>"
      ],
      "text/plain": [
       "          horizon       mse      rmse       mae      mape     mdape  coverage\n",
       "0 1 days 00:00:00  0.061154  0.247293  0.202087  0.029285  0.030000  0.625000\n",
       "1 1 days 12:00:00  0.065897  0.256705  0.198447  0.028946  0.022455  0.609375\n",
       "2 2 days 00:00:00  0.083575  0.289093  0.234182  0.033957  0.034854  0.483696\n",
       "3 2 days 12:00:00  0.059378  0.243676  0.180051  0.026026  0.018797  0.720000\n",
       "4 3 days 12:00:00  0.053277  0.230818  0.185698  0.027001  0.024332  0.640000\n",
       "5 4 days 12:00:00  0.077778  0.278887  0.225152  0.032715  0.027796  0.583333\n",
       "6 5 days 00:00:00  0.086568  0.294225  0.229526  0.033036  0.026833  0.607639\n",
       "7 5 days 12:00:00  0.100804  0.317496  0.257112  0.037308  0.036535  0.483696\n",
       "8 6 days 00:00:00  0.077016  0.277518  0.209196  0.030107  0.023650  0.640000\n",
       "9 7 days 00:00:00  0.070612  0.265729  0.215752  0.031163  0.027964  0.600000"
      ]
     },
     "execution_count": 43,
     "metadata": {},
     "output_type": "execute_result"
    },
    {
     "data": {
      "image/png": "[encoded data removed]",
      "text/plain": [
       "<Figure size 432x288 with 1 Axes>"
      ]
     },
     "metadata": {
      "needs_background": "light"
     },
     "output_type": "display_data"
    }
   ],
   "source": [
    "oo.show_performance_prophet()"
   ]
  },
  {
   "cell_type": "code",
   "execution_count": 44,
   "metadata": {},
   "outputs": [
    {
     "data": {
      "text/html": [
       "<div>\n",
       "<style scoped>\n",
       "    .dataframe tbody tr th:only-of-type {\n",
       "        vertical-align: middle;\n",
       "    }\n",
       "\n",
       "    .dataframe tbody tr th {\n",
       "        vertical-align: top;\n",
       "    }\n",
       "\n",
       "    .dataframe thead th {\n",
       "        text-align: right;\n",
       "    }\n",
       "</style>\n",
       "<table border=\"1\" class=\"dataframe\">\n",
       "  <thead>\n",
       "    <tr style=\"text-align: right;\">\n",
       "      <th></th>\n",
       "      <th>Prophet</th>\n",
       "    </tr>\n",
       "  </thead>\n",
       "  <tbody>\n",
       "    <tr>\n",
       "      <th>0</th>\n",
       "      <td>7.309689</td>\n",
       "    </tr>\n",
       "    <tr>\n",
       "      <th>1</th>\n",
       "      <td>7.288514</td>\n",
       "    </tr>\n",
       "    <tr>\n",
       "      <th>2</th>\n",
       "      <td>7.412138</td>\n",
       "    </tr>\n",
       "    <tr>\n",
       "      <th>3</th>\n",
       "      <td>7.413944</td>\n",
       "    </tr>\n",
       "    <tr>\n",
       "      <th>4</th>\n",
       "      <td>7.306175</td>\n",
       "    </tr>\n",
       "    <tr>\n",
       "      <th>5</th>\n",
       "      <td>7.295620</td>\n",
       "    </tr>\n",
       "    <tr>\n",
       "      <th>6</th>\n",
       "      <td>7.317085</td>\n",
       "    </tr>\n",
       "  </tbody>\n",
       "</table>\n",
       "</div>"
      ],
      "text/plain": [
       "    Prophet\n",
       "0  7.309689\n",
       "1  7.288514\n",
       "2  7.412138\n",
       "3  7.413944\n",
       "4  7.306175\n",
       "5  7.295620\n",
       "6  7.317085"
      ]
     },
     "execution_count": 44,
     "metadata": {},
     "output_type": "execute_result"
    }
   ],
   "source": [
    "oo.predict_prophet()"
   ]
  },
  {
   "cell_type": "code",
   "execution_count": 45,
   "metadata": {},
   "outputs": [],
   "source": [
    "%run ../tools/predictorsIII.py"
   ]
  },
  {
   "cell_type": "code",
   "execution_count": 46,
   "metadata": {},
   "outputs": [
    {
     "data": {
      "text/plain": [
       "279"
      ]
     },
     "execution_count": 46,
     "metadata": {},
     "output_type": "execute_result"
    }
   ],
   "source": [
    "len(prices)"
   ]
  },
  {
   "cell_type": "code",
   "execution_count": 47,
   "metadata": {},
   "outputs": [],
   "source": [
    "op4 = HybridUnivariatePredictor(prices,2, 24, 7)"
   ]
  },
  {
   "cell_type": "code",
   "execution_count": 48,
   "metadata": {},
   "outputs": [],
   "source": [
    "op4.create_cnnlstm()"
   ]
  },
  {
   "cell_type": "code",
   "execution_count": 49,
   "metadata": {},
   "outputs": [
    {
     "name": "stdout",
     "output_type": "stream",
     "text": [
      "Model: \"sequential_4\"\n",
      "_________________________________________________________________\n",
      "Layer (type)                 Output Shape              Param #   \n",
      "=================================================================\n",
      "time_distributed (TimeDistri (None, None, 11, 64)      192       \n",
      "_________________________________________________________________\n",
      "time_distributed_1 (TimeDist (None, None, 10, 32)      4128      \n",
      "_________________________________________________________________\n",
      "time_distributed_2 (TimeDist (None, None, 5, 32)       0         \n",
      "_________________________________________________________________\n",
      "time_distributed_3 (TimeDist (None, None, 160)         0         \n",
      "_________________________________________________________________\n",
      "lstm_5 (LSTM)                (None, None, 50)          42200     \n",
      "_________________________________________________________________\n",
      "lstm_6 (LSTM)                (None, 25)                7600      \n",
      "_________________________________________________________________\n",
      "dense_8 (Dense)              (None, 7)                 182       \n",
      "=================================================================\n",
      "Total params: 54,302\n",
      "Trainable params: 54,302\n",
      "Non-trainable params: 0\n",
      "_________________________________________________________________\n"
     ]
    }
   ],
   "source": [
    "op4.model_blueprint()"
   ]
  },
  {
   "cell_type": "code",
   "execution_count": 50,
   "metadata": {},
   "outputs": [
    {
     "name": "stdout",
     "output_type": "stream",
     "text": [
      "Epoch 1/10\n",
      "20/20 [==============================] - 0s 22ms/step - loss: 24.8605 - mean_squared_error: 24.8605 - val_loss: 24.5609 - val_mean_squared_error: 24.5609\n",
      "Epoch 2/10\n",
      "20/20 [==============================] - 0s 6ms/step - loss: 7.1074 - mean_squared_error: 7.1074 - val_loss: 3.6779 - val_mean_squared_error: 3.6779\n",
      "Epoch 3/10\n",
      "20/20 [==============================] - 0s 6ms/step - loss: 0.7514 - mean_squared_error: 0.7514 - val_loss: 0.8648 - val_mean_squared_error: 0.8648\n",
      "Epoch 4/10\n",
      "20/20 [==============================] - 0s 5ms/step - loss: 0.1449 - mean_squared_error: 0.1449 - val_loss: 0.6196 - val_mean_squared_error: 0.6196\n",
      "Epoch 5/10\n",
      "20/20 [==============================] - 0s 6ms/step - loss: 0.1031 - mean_squared_error: 0.1031 - val_loss: 0.4893 - val_mean_squared_error: 0.4893\n",
      "Epoch 6/10\n",
      "20/20 [==============================] - 0s 5ms/step - loss: 0.0849 - mean_squared_error: 0.0849 - val_loss: 0.3605 - val_mean_squared_error: 0.3605\n",
      "Epoch 7/10\n",
      "20/20 [==============================] - 0s 5ms/step - loss: 0.0804 - mean_squared_error: 0.0804 - val_loss: 0.2694 - val_mean_squared_error: 0.2694\n",
      "Epoch 8/10\n",
      "20/20 [==============================] - 0s 5ms/step - loss: 0.0791 - mean_squared_error: 0.0791 - val_loss: 0.3018 - val_mean_squared_error: 0.3018\n",
      "Epoch 9/10\n",
      "20/20 [==============================] - 0s 5ms/step - loss: 0.0787 - mean_squared_error: 0.0787 - val_loss: 0.2691 - val_mean_squared_error: 0.2691\n",
      "Epoch 10/10\n",
      "20/20 [==============================] - 0s 5ms/step - loss: 0.0747 - mean_squared_error: 0.0747 - val_loss: 0.2195 - val_mean_squared_error: 0.2195\n"
     ]
    },
    {
     "data": {
      "text/plain": [
       "<tensorflow.python.keras.callbacks.History at 0x1951a2ad1c0>"
      ]
     },
     "execution_count": 50,
     "metadata": {},
     "output_type": "execute_result"
    }
   ],
   "source": [
    "op4.fit_model(10)"
   ]
  },
  {
   "cell_type": "code",
   "execution_count": 51,
   "metadata": {},
   "outputs": [
    {
     "data": {
      "image/png": "[encoded data removed]",
      "text/plain": [
       "<Figure size 432x288 with 2 Axes>"
      ]
     },
     "metadata": {
      "needs_background": "light"
     },
     "output_type": "display_data"
    }
   ],
   "source": [
    "op4.show_performance()"
   ]
  },
  {
   "cell_type": "code",
   "execution_count": 52,
   "metadata": {},
   "outputs": [],
   "source": [
    "oyea = prices[-25:-1]\n",
    "#oyea = X[-1]\n",
    "#oyea"
   ]
  },
  {
   "cell_type": "code",
   "execution_count": 53,
   "metadata": {},
   "outputs": [
    {
     "name": "stdout",
     "output_type": "stream",
     "text": [
      "WARNING:tensorflow:5 out of the last 5 calls to <function Model.make_predict_function.<locals>.predict_function at 0x000001952A786940> triggered tf.function retracing. Tracing is expensive and the excessive number of tracings could be due to (1) creating @tf.function repeatedly in a loop, (2) passing tensors with different shapes, (3) passing Python objects instead of tensors. For (1), please define your @tf.function outside of the loop. For (2), @tf.function has experimental_relax_shapes=True option that relaxes argument shapes that can avoid unnecessary retracing. For (3), please refer to https://www.tensorflow.org/tutorials/customization/performance#python_or_tensor_args and https://www.tensorflow.org/api_docs/python/tf/function for  more details.\n"
     ]
    },
    {
     "name": "stderr",
     "output_type": "stream",
     "text": [
      "WARNING:tensorflow:5 out of the last 5 calls to <function Model.make_predict_function.<locals>.predict_function at 0x000001952A786940> triggered tf.function retracing. Tracing is expensive and the excessive number of tracings could be due to (1) creating @tf.function repeatedly in a loop, (2) passing tensors with different shapes, (3) passing Python objects instead of tensors. For (1), please define your @tf.function outside of the loop. For (2), @tf.function has experimental_relax_shapes=True option that relaxes argument shapes that can avoid unnecessary retracing. For (3), please refer to https://www.tensorflow.org/tutorials/customization/performance#python_or_tensor_args and https://www.tensorflow.org/api_docs/python/tf/function for  more details.\n"
     ]
    },
    {
     "data": {
      "text/html": [
       "<div>\n",
       "<style scoped>\n",
       "    .dataframe tbody tr th:only-of-type {\n",
       "        vertical-align: middle;\n",
       "    }\n",
       "\n",
       "    .dataframe tbody tr th {\n",
       "        vertical-align: top;\n",
       "    }\n",
       "\n",
       "    .dataframe thead th {\n",
       "        text-align: right;\n",
       "    }\n",
       "</style>\n",
       "<table border=\"1\" class=\"dataframe\">\n",
       "  <thead>\n",
       "    <tr style=\"text-align: right;\">\n",
       "      <th></th>\n",
       "      <th>CNN-LSTM</th>\n",
       "    </tr>\n",
       "  </thead>\n",
       "  <tbody>\n",
       "    <tr>\n",
       "      <th>0</th>\n",
       "      <td>7.565029</td>\n",
       "    </tr>\n",
       "    <tr>\n",
       "      <th>1</th>\n",
       "      <td>7.406779</td>\n",
       "    </tr>\n",
       "    <tr>\n",
       "      <th>2</th>\n",
       "      <td>7.919835</td>\n",
       "    </tr>\n",
       "    <tr>\n",
       "      <th>3</th>\n",
       "      <td>7.721859</td>\n",
       "    </tr>\n",
       "    <tr>\n",
       "      <th>4</th>\n",
       "      <td>7.745745</td>\n",
       "    </tr>\n",
       "    <tr>\n",
       "      <th>5</th>\n",
       "      <td>7.796144</td>\n",
       "    </tr>\n",
       "    <tr>\n",
       "      <th>6</th>\n",
       "      <td>7.584039</td>\n",
       "    </tr>\n",
       "  </tbody>\n",
       "</table>\n",
       "</div>"
      ],
      "text/plain": [
       "   CNN-LSTM\n",
       "0  7.565029\n",
       "1  7.406779\n",
       "2  7.919835\n",
       "3  7.721859\n",
       "4  7.745745\n",
       "5  7.796144\n",
       "6  7.584039"
      ]
     },
     "execution_count": 53,
     "metadata": {},
     "output_type": "execute_result"
    }
   ],
   "source": [
    "nice = op4.predict(oyea)\n",
    "nice\n",
    "#noice = pd.DataFrame(nice, columns=['yea'])\n",
    "#noice = nice.reshape(20, 1)\n",
    "#noice = pd.DataFrame(noice, columns=['yea'])"
   ]
  },
  {
   "cell_type": "code",
   "execution_count": 54,
   "metadata": {},
   "outputs": [
    {
     "data": {
      "text/plain": [
       "<AxesSubplot:>"
      ]
     },
     "execution_count": 54,
     "metadata": {},
     "output_type": "execute_result"
    },
    {
     "data": {
      "image/png": "[encoded data removed]",
      "text/plain": [
       "<Figure size 432x288 with 1 Axes>"
      ]
     },
     "metadata": {
      "needs_background": "light"
     },
     "output_type": "display_data"
    }
   ],
   "source": [
    "nice.plot()"
   ]
  },
  {
   "cell_type": "markdown",
   "metadata": {},
   "source": [
    "## First whole system test - I am alive"
   ]
  },
  {
   "cell_type": "code",
   "execution_count": 81,
   "metadata": {},
   "outputs": [],
   "source": [
    "training = DataLoader('aapl', '2010-01-01', '2010-05-01')"
   ]
  },
  {
   "cell_type": "code",
   "execution_count": 84,
   "metadata": {},
   "outputs": [],
   "source": [
    "training = training.get_close()"
   ]
  },
  {
   "cell_type": "code",
   "execution_count": 91,
   "metadata": {},
   "outputs": [],
   "source": [
    "predict = DataLoader('aapl', '2010-06-01', '2010-08-01')"
   ]
  },
  {
   "cell_type": "code",
   "execution_count": 92,
   "metadata": {},
   "outputs": [],
   "source": [
    "predict = predict.get_close()"
   ]
  },
  {
   "cell_type": "code",
   "execution_count": 101,
   "metadata": {},
   "outputs": [],
   "source": [
    "predict_req = predict[0:24]"
   ]
  },
  {
   "cell_type": "code",
   "execution_count": 175,
   "metadata": {},
   "outputs": [],
   "source": [
    "real = predict[24:34]"
   ]
  },
  {
   "cell_type": "code",
   "execution_count": 94,
   "metadata": {},
   "outputs": [
    {
     "name": "stdout",
     "output_type": "stream",
     "text": [
      "Epoch 1/200\n",
      "4/4 [==============================] - 0s 81ms/step - loss: 61.3058 - mean_squared_error: 61.3058 - val_loss: 76.2023 - val_mean_squared_error: 76.2023\n",
      "Epoch 2/200\n",
      "4/4 [==============================] - 0s 6ms/step - loss: 56.1934 - mean_squared_error: 56.1934 - val_loss: 65.2464 - val_mean_squared_error: 65.2464\n",
      "Epoch 3/200\n",
      "4/4 [==============================] - 0s 8ms/step - loss: 46.1120 - mean_squared_error: 46.1120 - val_loss: 49.7809 - val_mean_squared_error: 49.7809\n",
      "Epoch 4/200\n",
      "4/4 [==============================] - 0s 7ms/step - loss: 34.0280 - mean_squared_error: 34.0280 - val_loss: 34.2005 - val_mean_squared_error: 34.2005\n",
      "Epoch 5/200\n",
      "4/4 [==============================] - 0s 9ms/step - loss: 19.2681 - mean_squared_error: 19.2681 - val_loss: 10.1513 - val_mean_squared_error: 10.1513\n",
      "Epoch 6/200\n",
      "4/4 [==============================] - 0s 8ms/step - loss: 6.7018 - mean_squared_error: 6.7018 - val_loss: 8.1879 - val_mean_squared_error: 8.1879\n",
      "Epoch 7/200\n",
      "4/4 [==============================] - 0s 7ms/step - loss: 6.0775 - mean_squared_error: 6.0775 - val_loss: 4.6203 - val_mean_squared_error: 4.6203\n",
      "Epoch 8/200\n",
      "4/4 [==============================] - 0s 7ms/step - loss: 2.8376 - mean_squared_error: 2.8376 - val_loss: 2.5234 - val_mean_squared_error: 2.5234\n",
      "Epoch 9/200\n",
      "4/4 [==============================] - 0s 8ms/step - loss: 1.7622 - mean_squared_error: 1.7622 - val_loss: 2.4189 - val_mean_squared_error: 2.4189\n",
      "Epoch 10/200\n",
      "4/4 [==============================] - 0s 7ms/step - loss: 1.7527 - mean_squared_error: 1.7527 - val_loss: 1.8626 - val_mean_squared_error: 1.8626\n",
      "Epoch 11/200\n",
      "4/4 [==============================] - 0s 9ms/step - loss: 1.1451 - mean_squared_error: 1.1451 - val_loss: 0.9821 - val_mean_squared_error: 0.9821\n",
      "Epoch 12/200\n",
      "4/4 [==============================] - 0s 8ms/step - loss: 0.6546 - mean_squared_error: 0.6546 - val_loss: 0.8168 - val_mean_squared_error: 0.8168\n",
      "Epoch 13/200\n",
      "4/4 [==============================] - 0s 7ms/step - loss: 0.5934 - mean_squared_error: 0.5934 - val_loss: 0.6445 - val_mean_squared_error: 0.6445\n",
      "Epoch 14/200\n",
      "4/4 [==============================] - 0s 7ms/step - loss: 0.4543 - mean_squared_error: 0.4543 - val_loss: 0.3707 - val_mean_squared_error: 0.3707\n",
      "Epoch 15/200\n",
      "4/4 [==============================] - 0s 7ms/step - loss: 0.2847 - mean_squared_error: 0.2847 - val_loss: 0.2831 - val_mean_squared_error: 0.2831\n",
      "Epoch 16/200\n",
      "4/4 [==============================] - 0s 7ms/step - loss: 0.2368 - mean_squared_error: 0.2368 - val_loss: 0.2921 - val_mean_squared_error: 0.2921\n",
      "Epoch 17/200\n",
      "4/4 [==============================] - 0s 7ms/step - loss: 0.2116 - mean_squared_error: 0.2116 - val_loss: 0.1720 - val_mean_squared_error: 0.1720\n",
      "Epoch 18/200\n",
      "4/4 [==============================] - 0s 7ms/step - loss: 0.1684 - mean_squared_error: 0.1684 - val_loss: 0.1386 - val_mean_squared_error: 0.1386\n",
      "Epoch 19/200\n",
      "4/4 [==============================] - 0s 7ms/step - loss: 0.1620 - mean_squared_error: 0.1620 - val_loss: 0.1163 - val_mean_squared_error: 0.1163\n",
      "Epoch 20/200\n",
      "4/4 [==============================] - 0s 7ms/step - loss: 0.1572 - mean_squared_error: 0.1572 - val_loss: 0.1241 - val_mean_squared_error: 0.1241\n",
      "Epoch 21/200\n",
      "4/4 [==============================] - 0s 7ms/step - loss: 0.1459 - mean_squared_error: 0.1459 - val_loss: 0.1087 - val_mean_squared_error: 0.1087\n",
      "Epoch 22/200\n",
      "4/4 [==============================] - 0s 7ms/step - loss: 0.1463 - mean_squared_error: 0.1463 - val_loss: 0.1144 - val_mean_squared_error: 0.1144\n",
      "Epoch 23/200\n",
      "4/4 [==============================] - 0s 6ms/step - loss: 0.1543 - mean_squared_error: 0.1543 - val_loss: 0.1603 - val_mean_squared_error: 0.1603\n",
      "Epoch 24/200\n",
      "4/4 [==============================] - 0s 7ms/step - loss: 0.1454 - mean_squared_error: 0.1454 - val_loss: 0.0888 - val_mean_squared_error: 0.0888\n",
      "Epoch 25/200\n",
      "4/4 [==============================] - 0s 8ms/step - loss: 0.1456 - mean_squared_error: 0.1456 - val_loss: 0.1026 - val_mean_squared_error: 0.1026\n",
      "Epoch 26/200\n",
      "4/4 [==============================] - 0s 8ms/step - loss: 0.1392 - mean_squared_error: 0.1392 - val_loss: 0.1488 - val_mean_squared_error: 0.1488\n",
      "Epoch 27/200\n",
      "4/4 [==============================] - 0s 9ms/step - loss: 0.1443 - mean_squared_error: 0.1443 - val_loss: 0.1184 - val_mean_squared_error: 0.1184\n",
      "Epoch 28/200\n",
      "4/4 [==============================] - 0s 8ms/step - loss: 0.1459 - mean_squared_error: 0.1459 - val_loss: 0.0776 - val_mean_squared_error: 0.0776\n",
      "Epoch 29/200\n",
      "4/4 [==============================] - 0s 9ms/step - loss: 0.1387 - mean_squared_error: 0.1387 - val_loss: 0.1387 - val_mean_squared_error: 0.1387\n",
      "Epoch 30/200\n",
      "4/4 [==============================] - 0s 8ms/step - loss: 0.1416 - mean_squared_error: 0.1416 - val_loss: 0.1353 - val_mean_squared_error: 0.1353\n",
      "Epoch 31/200\n",
      "4/4 [==============================] - 0s 7ms/step - loss: 0.1486 - mean_squared_error: 0.1486 - val_loss: 0.0705 - val_mean_squared_error: 0.0705\n",
      "Epoch 32/200\n",
      "4/4 [==============================] - 0s 7ms/step - loss: 0.1328 - mean_squared_error: 0.1328 - val_loss: 0.1370 - val_mean_squared_error: 0.1370\n",
      "Epoch 33/200\n",
      "4/4 [==============================] - 0s 7ms/step - loss: 0.1355 - mean_squared_error: 0.1355 - val_loss: 0.1194 - val_mean_squared_error: 0.1194\n",
      "Epoch 34/200\n",
      "4/4 [==============================] - 0s 7ms/step - loss: 0.1258 - mean_squared_error: 0.1258 - val_loss: 0.0765 - val_mean_squared_error: 0.0765\n",
      "Epoch 35/200\n",
      "4/4 [==============================] - 0s 6ms/step - loss: 0.1277 - mean_squared_error: 0.1277 - val_loss: 0.1092 - val_mean_squared_error: 0.1092\n",
      "Epoch 36/200\n",
      "4/4 [==============================] - 0s 7ms/step - loss: 0.1251 - mean_squared_error: 0.1251 - val_loss: 0.1256 - val_mean_squared_error: 0.1256\n",
      "Epoch 37/200\n",
      "4/4 [==============================] - 0s 7ms/step - loss: 0.1219 - mean_squared_error: 0.1219 - val_loss: 0.0877 - val_mean_squared_error: 0.0877\n",
      "Epoch 38/200\n",
      "4/4 [==============================] - 0s 7ms/step - loss: 0.1254 - mean_squared_error: 0.1254 - val_loss: 0.1010 - val_mean_squared_error: 0.1010\n",
      "Epoch 39/200\n",
      "4/4 [==============================] - 0s 7ms/step - loss: 0.1332 - mean_squared_error: 0.1332 - val_loss: 0.1190 - val_mean_squared_error: 0.1190\n",
      "Epoch 40/200\n",
      "4/4 [==============================] - 0s 7ms/step - loss: 0.1183 - mean_squared_error: 0.1183 - val_loss: 0.0689 - val_mean_squared_error: 0.0689\n",
      "Epoch 41/200\n",
      "4/4 [==============================] - 0s 8ms/step - loss: 0.1253 - mean_squared_error: 0.1253 - val_loss: 0.1346 - val_mean_squared_error: 0.1346\n",
      "Epoch 42/200\n",
      "4/4 [==============================] - 0s 8ms/step - loss: 0.1199 - mean_squared_error: 0.1199 - val_loss: 0.0755 - val_mean_squared_error: 0.0755\n",
      "Epoch 43/200\n",
      "4/4 [==============================] - 0s 7ms/step - loss: 0.1220 - mean_squared_error: 0.1220 - val_loss: 0.1397 - val_mean_squared_error: 0.1397\n",
      "Epoch 44/200\n",
      "4/4 [==============================] - 0s 7ms/step - loss: 0.1185 - mean_squared_error: 0.1185 - val_loss: 0.0687 - val_mean_squared_error: 0.0687\n",
      "Epoch 45/200\n",
      "4/4 [==============================] - 0s 7ms/step - loss: 0.1229 - mean_squared_error: 0.1229 - val_loss: 0.1352 - val_mean_squared_error: 0.1352\n",
      "Epoch 46/200\n",
      "4/4 [==============================] - 0s 7ms/step - loss: 0.1112 - mean_squared_error: 0.1112 - val_loss: 0.0772 - val_mean_squared_error: 0.0772\n",
      "Epoch 47/200\n",
      "4/4 [==============================] - 0s 8ms/step - loss: 0.1168 - mean_squared_error: 0.1168 - val_loss: 0.1317 - val_mean_squared_error: 0.1317\n",
      "Epoch 48/200\n",
      "4/4 [==============================] - 0s 6ms/step - loss: 0.1084 - mean_squared_error: 0.1084 - val_loss: 0.0659 - val_mean_squared_error: 0.0659\n",
      "Epoch 49/200\n",
      "4/4 [==============================] - 0s 8ms/step - loss: 0.1044 - mean_squared_error: 0.1044 - val_loss: 0.1140 - val_mean_squared_error: 0.1140\n",
      "Epoch 50/200\n",
      "4/4 [==============================] - 0s 7ms/step - loss: 0.0965 - mean_squared_error: 0.0965 - val_loss: 0.0792 - val_mean_squared_error: 0.0792\n",
      "Epoch 51/200\n",
      "4/4 [==============================] - 0s 7ms/step - loss: 0.0932 - mean_squared_error: 0.0932 - val_loss: 0.1034 - val_mean_squared_error: 0.1034\n",
      "Epoch 52/200\n"
     ]
    },
    {
     "name": "stdout",
     "output_type": "stream",
     "text": [
      "4/4 [==============================] - 0s 6ms/step - loss: 0.0890 - mean_squared_error: 0.0890 - val_loss: 0.0728 - val_mean_squared_error: 0.0728\n",
      "Epoch 53/200\n",
      "4/4 [==============================] - 0s 7ms/step - loss: 0.0931 - mean_squared_error: 0.0931 - val_loss: 0.2261 - val_mean_squared_error: 0.2261\n",
      "Epoch 54/200\n",
      "4/4 [==============================] - 0s 8ms/step - loss: 0.1040 - mean_squared_error: 0.1040 - val_loss: 0.0873 - val_mean_squared_error: 0.0873\n",
      "Epoch 55/200\n",
      "4/4 [==============================] - 0s 7ms/step - loss: 0.1073 - mean_squared_error: 0.1073 - val_loss: 0.1503 - val_mean_squared_error: 0.1503\n",
      "Epoch 56/200\n",
      "4/4 [==============================] - 0s 7ms/step - loss: 0.0869 - mean_squared_error: 0.0869 - val_loss: 0.0593 - val_mean_squared_error: 0.0593\n",
      "Epoch 57/200\n",
      "4/4 [==============================] - 0s 7ms/step - loss: 0.0843 - mean_squared_error: 0.0843 - val_loss: 0.0974 - val_mean_squared_error: 0.0974\n",
      "Epoch 58/200\n",
      "4/4 [==============================] - 0s 7ms/step - loss: 0.0728 - mean_squared_error: 0.0728 - val_loss: 0.0721 - val_mean_squared_error: 0.0721\n",
      "Epoch 59/200\n",
      "4/4 [==============================] - 0s 7ms/step - loss: 0.0754 - mean_squared_error: 0.0754 - val_loss: 0.0599 - val_mean_squared_error: 0.0599\n",
      "Epoch 60/200\n",
      "4/4 [==============================] - 0s 6ms/step - loss: 0.0628 - mean_squared_error: 0.0628 - val_loss: 0.1756 - val_mean_squared_error: 0.1756\n",
      "Epoch 61/200\n",
      "4/4 [==============================] - 0s 7ms/step - loss: 0.0873 - mean_squared_error: 0.0873 - val_loss: 0.0634 - val_mean_squared_error: 0.0634\n",
      "Epoch 62/200\n",
      "4/4 [==============================] - 0s 7ms/step - loss: 0.0750 - mean_squared_error: 0.0750 - val_loss: 0.0989 - val_mean_squared_error: 0.0989\n",
      "Epoch 63/200\n",
      "4/4 [==============================] - 0s 8ms/step - loss: 0.0626 - mean_squared_error: 0.0626 - val_loss: 0.0941 - val_mean_squared_error: 0.0941\n",
      "Epoch 64/200\n",
      "4/4 [==============================] - 0s 7ms/step - loss: 0.0582 - mean_squared_error: 0.0582 - val_loss: 0.0742 - val_mean_squared_error: 0.0742\n",
      "Epoch 65/200\n",
      "4/4 [==============================] - 0s 6ms/step - loss: 0.0554 - mean_squared_error: 0.0554 - val_loss: 0.0874 - val_mean_squared_error: 0.0874\n",
      "Epoch 66/200\n",
      "4/4 [==============================] - 0s 6ms/step - loss: 0.0538 - mean_squared_error: 0.0538 - val_loss: 0.0761 - val_mean_squared_error: 0.0761\n",
      "Epoch 67/200\n",
      "4/4 [==============================] - 0s 6ms/step - loss: 0.0534 - mean_squared_error: 0.0534 - val_loss: 0.1100 - val_mean_squared_error: 0.1100\n",
      "Epoch 68/200\n",
      "4/4 [==============================] - 0s 6ms/step - loss: 0.0556 - mean_squared_error: 0.0556 - val_loss: 0.1106 - val_mean_squared_error: 0.1106\n",
      "Epoch 69/200\n",
      "4/4 [==============================] - 0s 7ms/step - loss: 0.0611 - mean_squared_error: 0.0611 - val_loss: 0.0827 - val_mean_squared_error: 0.0827\n",
      "Epoch 70/200\n",
      "4/4 [==============================] - 0s 7ms/step - loss: 0.0712 - mean_squared_error: 0.0712 - val_loss: 0.1308 - val_mean_squared_error: 0.1308\n",
      "Epoch 71/200\n",
      "4/4 [==============================] - 0s 6ms/step - loss: 0.0704 - mean_squared_error: 0.0704 - val_loss: 0.1754 - val_mean_squared_error: 0.1754\n",
      "Epoch 72/200\n",
      "4/4 [==============================] - 0s 7ms/step - loss: 0.0813 - mean_squared_error: 0.0813 - val_loss: 0.1119 - val_mean_squared_error: 0.1119\n",
      "Epoch 73/200\n",
      "4/4 [==============================] - 0s 6ms/step - loss: 0.0884 - mean_squared_error: 0.0884 - val_loss: 0.2022 - val_mean_squared_error: 0.2022\n",
      "Epoch 74/200\n",
      "4/4 [==============================] - 0s 7ms/step - loss: 0.0750 - mean_squared_error: 0.0750 - val_loss: 0.0698 - val_mean_squared_error: 0.0698\n",
      "Epoch 75/200\n",
      "4/4 [==============================] - 0s 7ms/step - loss: 0.0885 - mean_squared_error: 0.0885 - val_loss: 0.0778 - val_mean_squared_error: 0.0778\n",
      "Epoch 76/200\n",
      "4/4 [==============================] - 0s 7ms/step - loss: 0.0728 - mean_squared_error: 0.0728 - val_loss: 0.1139 - val_mean_squared_error: 0.1139\n",
      "Epoch 77/200\n",
      "4/4 [==============================] - 0s 7ms/step - loss: 0.0657 - mean_squared_error: 0.0657 - val_loss: 0.0621 - val_mean_squared_error: 0.0621\n",
      "Epoch 78/200\n",
      "4/4 [==============================] - 0s 7ms/step - loss: 0.0581 - mean_squared_error: 0.0581 - val_loss: 0.1019 - val_mean_squared_error: 0.1019\n",
      "Epoch 79/200\n",
      "4/4 [==============================] - 0s 7ms/step - loss: 0.0559 - mean_squared_error: 0.0559 - val_loss: 0.0581 - val_mean_squared_error: 0.0581\n",
      "Epoch 80/200\n",
      "4/4 [==============================] - 0s 7ms/step - loss: 0.0526 - mean_squared_error: 0.0526 - val_loss: 0.1405 - val_mean_squared_error: 0.1405\n",
      "Epoch 81/200\n",
      "4/4 [==============================] - 0s 7ms/step - loss: 0.0565 - mean_squared_error: 0.0565 - val_loss: 0.0539 - val_mean_squared_error: 0.0539\n",
      "Epoch 82/200\n",
      "4/4 [==============================] - 0s 7ms/step - loss: 0.0594 - mean_squared_error: 0.0594 - val_loss: 0.2348 - val_mean_squared_error: 0.2348\n",
      "Epoch 83/200\n",
      "4/4 [==============================] - 0s 7ms/step - loss: 0.0887 - mean_squared_error: 0.0887 - val_loss: 0.0697 - val_mean_squared_error: 0.0697\n",
      "Epoch 84/200\n",
      "4/4 [==============================] - 0s 7ms/step - loss: 0.0625 - mean_squared_error: 0.0625 - val_loss: 0.1624 - val_mean_squared_error: 0.1624\n",
      "Epoch 85/200\n",
      "4/4 [==============================] - 0s 7ms/step - loss: 0.0613 - mean_squared_error: 0.0613 - val_loss: 0.0672 - val_mean_squared_error: 0.0672\n",
      "Epoch 86/200\n",
      "4/4 [==============================] - 0s 7ms/step - loss: 0.0616 - mean_squared_error: 0.0616 - val_loss: 0.0802 - val_mean_squared_error: 0.0802\n",
      "Epoch 87/200\n",
      "4/4 [==============================] - 0s 7ms/step - loss: 0.0578 - mean_squared_error: 0.0578 - val_loss: 0.1030 - val_mean_squared_error: 0.1030\n",
      "Epoch 88/200\n",
      "4/4 [==============================] - 0s 7ms/step - loss: 0.0537 - mean_squared_error: 0.0537 - val_loss: 0.0604 - val_mean_squared_error: 0.0604\n",
      "Epoch 89/200\n",
      "4/4 [==============================] - 0s 7ms/step - loss: 0.0471 - mean_squared_error: 0.0471 - val_loss: 0.0800 - val_mean_squared_error: 0.0800\n",
      "Epoch 90/200\n",
      "4/4 [==============================] - 0s 7ms/step - loss: 0.0478 - mean_squared_error: 0.0478 - val_loss: 0.1051 - val_mean_squared_error: 0.1051\n",
      "Epoch 91/200\n",
      "4/4 [==============================] - 0s 7ms/step - loss: 0.0459 - mean_squared_error: 0.0459 - val_loss: 0.0625 - val_mean_squared_error: 0.0625\n",
      "Epoch 92/200\n",
      "4/4 [==============================] - 0s 7ms/step - loss: 0.0454 - mean_squared_error: 0.0454 - val_loss: 0.1221 - val_mean_squared_error: 0.1221\n",
      "Epoch 93/200\n",
      "4/4 [==============================] - 0s 6ms/step - loss: 0.0448 - mean_squared_error: 0.0448 - val_loss: 0.0645 - val_mean_squared_error: 0.0645\n",
      "Epoch 94/200\n",
      "4/4 [==============================] - 0s 7ms/step - loss: 0.0440 - mean_squared_error: 0.0440 - val_loss: 0.0862 - val_mean_squared_error: 0.0862\n",
      "Epoch 95/200\n",
      "4/4 [==============================] - 0s 7ms/step - loss: 0.0411 - mean_squared_error: 0.0411 - val_loss: 0.0860 - val_mean_squared_error: 0.0860\n",
      "Epoch 96/200\n",
      "4/4 [==============================] - 0s 7ms/step - loss: 0.0406 - mean_squared_error: 0.0406 - val_loss: 0.0731 - val_mean_squared_error: 0.0731\n",
      "Epoch 97/200\n",
      "4/4 [==============================] - 0s 7ms/step - loss: 0.0405 - mean_squared_error: 0.0405 - val_loss: 0.1083 - val_mean_squared_error: 0.1083\n",
      "Epoch 98/200\n",
      "4/4 [==============================] - 0s 7ms/step - loss: 0.0447 - mean_squared_error: 0.0447 - val_loss: 0.0614 - val_mean_squared_error: 0.0614\n",
      "Epoch 99/200\n",
      "4/4 [==============================] - 0s 7ms/step - loss: 0.0585 - mean_squared_error: 0.0585 - val_loss: 0.0889 - val_mean_squared_error: 0.0889\n",
      "Epoch 100/200\n",
      "4/4 [==============================] - 0s 7ms/step - loss: 0.0521 - mean_squared_error: 0.0521 - val_loss: 0.1275 - val_mean_squared_error: 0.1275\n",
      "Epoch 101/200\n",
      "4/4 [==============================] - 0s 9ms/step - loss: 0.0472 - mean_squared_error: 0.0472 - val_loss: 0.0546 - val_mean_squared_error: 0.0546\n",
      "Epoch 102/200\n",
      "4/4 [==============================] - 0s 7ms/step - loss: 0.0653 - mean_squared_error: 0.0653 - val_loss: 0.0834 - val_mean_squared_error: 0.0834\n",
      "Epoch 103/200\n"
     ]
    },
    {
     "name": "stdout",
     "output_type": "stream",
     "text": [
      "4/4 [==============================] - 0s 7ms/step - loss: 0.0451 - mean_squared_error: 0.0451 - val_loss: 0.0945 - val_mean_squared_error: 0.0945\n",
      "Epoch 104/200\n",
      "4/4 [==============================] - 0s 7ms/step - loss: 0.0546 - mean_squared_error: 0.0546 - val_loss: 0.0580 - val_mean_squared_error: 0.0580\n",
      "Epoch 105/200\n",
      "4/4 [==============================] - 0s 6ms/step - loss: 0.0469 - mean_squared_error: 0.0469 - val_loss: 0.1029 - val_mean_squared_error: 0.1029\n",
      "Epoch 106/200\n",
      "4/4 [==============================] - 0s 7ms/step - loss: 0.0443 - mean_squared_error: 0.0443 - val_loss: 0.0821 - val_mean_squared_error: 0.0821\n",
      "Epoch 107/200\n",
      "4/4 [==============================] - 0s 8ms/step - loss: 0.0435 - mean_squared_error: 0.0435 - val_loss: 0.0582 - val_mean_squared_error: 0.0582\n",
      "Epoch 108/200\n",
      "4/4 [==============================] - 0s 7ms/step - loss: 0.0414 - mean_squared_error: 0.0414 - val_loss: 0.0734 - val_mean_squared_error: 0.0734\n",
      "Epoch 109/200\n",
      "4/4 [==============================] - 0s 7ms/step - loss: 0.0389 - mean_squared_error: 0.0389 - val_loss: 0.0854 - val_mean_squared_error: 0.0854\n",
      "Epoch 110/200\n",
      "4/4 [==============================] - 0s 7ms/step - loss: 0.0409 - mean_squared_error: 0.0409 - val_loss: 0.0685 - val_mean_squared_error: 0.0685\n",
      "Epoch 111/200\n",
      "4/4 [==============================] - 0s 6ms/step - loss: 0.0437 - mean_squared_error: 0.0437 - val_loss: 0.0610 - val_mean_squared_error: 0.0610\n",
      "Epoch 112/200\n",
      "4/4 [==============================] - 0s 7ms/step - loss: 0.0431 - mean_squared_error: 0.0431 - val_loss: 0.1509 - val_mean_squared_error: 0.1509\n",
      "Epoch 113/200\n",
      "4/4 [==============================] - 0s 7ms/step - loss: 0.0523 - mean_squared_error: 0.0523 - val_loss: 0.0604 - val_mean_squared_error: 0.0604\n",
      "Epoch 114/200\n",
      "4/4 [==============================] - 0s 7ms/step - loss: 0.0481 - mean_squared_error: 0.0481 - val_loss: 0.0654 - val_mean_squared_error: 0.0654\n",
      "Epoch 115/200\n",
      "4/4 [==============================] - 0s 7ms/step - loss: 0.0402 - mean_squared_error: 0.0402 - val_loss: 0.1153 - val_mean_squared_error: 0.1153\n",
      "Epoch 116/200\n",
      "4/4 [==============================] - 0s 7ms/step - loss: 0.0454 - mean_squared_error: 0.0454 - val_loss: 0.0543 - val_mean_squared_error: 0.0543\n",
      "Epoch 117/200\n",
      "4/4 [==============================] - 0s 7ms/step - loss: 0.0519 - mean_squared_error: 0.0519 - val_loss: 0.1906 - val_mean_squared_error: 0.1906\n",
      "Epoch 118/200\n",
      "4/4 [==============================] - 0s 7ms/step - loss: 0.0476 - mean_squared_error: 0.0476 - val_loss: 0.0559 - val_mean_squared_error: 0.0559\n",
      "Epoch 119/200\n",
      "4/4 [==============================] - 0s 7ms/step - loss: 0.0517 - mean_squared_error: 0.0517 - val_loss: 0.0934 - val_mean_squared_error: 0.0934\n",
      "Epoch 120/200\n",
      "4/4 [==============================] - 0s 7ms/step - loss: 0.0383 - mean_squared_error: 0.0383 - val_loss: 0.0657 - val_mean_squared_error: 0.0657\n",
      "Epoch 121/200\n",
      "4/4 [==============================] - 0s 7ms/step - loss: 0.0390 - mean_squared_error: 0.0390 - val_loss: 0.0806 - val_mean_squared_error: 0.0806\n",
      "Epoch 122/200\n",
      "4/4 [==============================] - 0s 7ms/step - loss: 0.0374 - mean_squared_error: 0.0374 - val_loss: 0.0710 - val_mean_squared_error: 0.0710\n",
      "Epoch 123/200\n",
      "4/4 [==============================] - 0s 7ms/step - loss: 0.0399 - mean_squared_error: 0.0399 - val_loss: 0.0922 - val_mean_squared_error: 0.0922\n",
      "Epoch 124/200\n",
      "4/4 [==============================] - 0s 7ms/step - loss: 0.0404 - mean_squared_error: 0.0404 - val_loss: 0.0671 - val_mean_squared_error: 0.0671\n",
      "Epoch 125/200\n",
      "4/4 [==============================] - 0s 7ms/step - loss: 0.0419 - mean_squared_error: 0.0419 - val_loss: 0.0685 - val_mean_squared_error: 0.0685\n",
      "Epoch 126/200\n",
      "4/4 [==============================] - 0s 8ms/step - loss: 0.0397 - mean_squared_error: 0.0397 - val_loss: 0.1084 - val_mean_squared_error: 0.1084\n",
      "Epoch 127/200\n",
      "4/4 [==============================] - 0s 7ms/step - loss: 0.0439 - mean_squared_error: 0.0439 - val_loss: 0.0537 - val_mean_squared_error: 0.0537\n",
      "Epoch 128/200\n",
      "4/4 [==============================] - 0s 8ms/step - loss: 0.0441 - mean_squared_error: 0.0441 - val_loss: 0.1102 - val_mean_squared_error: 0.1102\n",
      "Epoch 129/200\n",
      "4/4 [==============================] - 0s 9ms/step - loss: 0.0438 - mean_squared_error: 0.0438 - val_loss: 0.0790 - val_mean_squared_error: 0.0790\n",
      "Epoch 130/200\n",
      "4/4 [==============================] - 0s 7ms/step - loss: 0.0358 - mean_squared_error: 0.0358 - val_loss: 0.0999 - val_mean_squared_error: 0.0999\n",
      "Epoch 131/200\n",
      "4/4 [==============================] - 0s 8ms/step - loss: 0.0364 - mean_squared_error: 0.0364 - val_loss: 0.0635 - val_mean_squared_error: 0.0635\n",
      "Epoch 132/200\n",
      "4/4 [==============================] - 0s 8ms/step - loss: 0.0439 - mean_squared_error: 0.0439 - val_loss: 0.1445 - val_mean_squared_error: 0.1445\n",
      "Epoch 133/200\n",
      "4/4 [==============================] - 0s 8ms/step - loss: 0.0575 - mean_squared_error: 0.0575 - val_loss: 0.0662 - val_mean_squared_error: 0.0662\n",
      "Epoch 134/200\n",
      "4/4 [==============================] - 0s 7ms/step - loss: 0.0394 - mean_squared_error: 0.0394 - val_loss: 0.0850 - val_mean_squared_error: 0.0850\n",
      "Epoch 135/200\n",
      "4/4 [==============================] - 0s 7ms/step - loss: 0.0394 - mean_squared_error: 0.0394 - val_loss: 0.0720 - val_mean_squared_error: 0.0720\n",
      "Epoch 136/200\n",
      "4/4 [==============================] - 0s 7ms/step - loss: 0.0354 - mean_squared_error: 0.0354 - val_loss: 0.1028 - val_mean_squared_error: 0.1028\n",
      "Epoch 137/200\n",
      "4/4 [==============================] - 0s 7ms/step - loss: 0.0464 - mean_squared_error: 0.0464 - val_loss: 0.0695 - val_mean_squared_error: 0.0695\n",
      "Epoch 138/200\n",
      "4/4 [==============================] - 0s 6ms/step - loss: 0.0364 - mean_squared_error: 0.0364 - val_loss: 0.0754 - val_mean_squared_error: 0.0754\n",
      "Epoch 139/200\n",
      "4/4 [==============================] - 0s 6ms/step - loss: 0.0375 - mean_squared_error: 0.0375 - val_loss: 0.0822 - val_mean_squared_error: 0.0822\n",
      "Epoch 140/200\n",
      "4/4 [==============================] - 0s 7ms/step - loss: 0.0395 - mean_squared_error: 0.0395 - val_loss: 0.0503 - val_mean_squared_error: 0.0503\n",
      "Epoch 141/200\n",
      "4/4 [==============================] - 0s 7ms/step - loss: 0.0466 - mean_squared_error: 0.0466 - val_loss: 0.1066 - val_mean_squared_error: 0.1066\n",
      "Epoch 142/200\n",
      "4/4 [==============================] - 0s 6ms/step - loss: 0.0419 - mean_squared_error: 0.0419 - val_loss: 0.0730 - val_mean_squared_error: 0.0730\n",
      "Epoch 143/200\n",
      "4/4 [==============================] - 0s 7ms/step - loss: 0.0391 - mean_squared_error: 0.0391 - val_loss: 0.0968 - val_mean_squared_error: 0.0968\n",
      "Epoch 144/200\n",
      "4/4 [==============================] - 0s 6ms/step - loss: 0.0429 - mean_squared_error: 0.0429 - val_loss: 0.0555 - val_mean_squared_error: 0.0555\n",
      "Epoch 145/200\n",
      "4/4 [==============================] - 0s 7ms/step - loss: 0.0447 - mean_squared_error: 0.0447 - val_loss: 0.0888 - val_mean_squared_error: 0.0888\n",
      "Epoch 146/200\n",
      "4/4 [==============================] - 0s 7ms/step - loss: 0.0417 - mean_squared_error: 0.0417 - val_loss: 0.0848 - val_mean_squared_error: 0.0848\n",
      "Epoch 147/200\n",
      "4/4 [==============================] - 0s 7ms/step - loss: 0.0372 - mean_squared_error: 0.0372 - val_loss: 0.0605 - val_mean_squared_error: 0.0605\n",
      "Epoch 148/200\n",
      "4/4 [==============================] - 0s 7ms/step - loss: 0.0444 - mean_squared_error: 0.0444 - val_loss: 0.1127 - val_mean_squared_error: 0.1127\n",
      "Epoch 149/200\n",
      "4/4 [==============================] - 0s 6ms/step - loss: 0.0388 - mean_squared_error: 0.0388 - val_loss: 0.0592 - val_mean_squared_error: 0.0592\n",
      "Epoch 150/200\n",
      "4/4 [==============================] - 0s 7ms/step - loss: 0.0384 - mean_squared_error: 0.0384 - val_loss: 0.1107 - val_mean_squared_error: 0.1107\n",
      "Epoch 151/200\n",
      "4/4 [==============================] - 0s 6ms/step - loss: 0.0535 - mean_squared_error: 0.0535 - val_loss: 0.0947 - val_mean_squared_error: 0.0947\n",
      "Epoch 152/200\n",
      "4/4 [==============================] - 0s 7ms/step - loss: 0.0451 - mean_squared_error: 0.0451 - val_loss: 0.0534 - val_mean_squared_error: 0.0534\n",
      "Epoch 153/200\n",
      "4/4 [==============================] - 0s 7ms/step - loss: 0.0409 - mean_squared_error: 0.0409 - val_loss: 0.1077 - val_mean_squared_error: 0.1077\n"
     ]
    },
    {
     "name": "stdout",
     "output_type": "stream",
     "text": [
      "Epoch 154/200\n",
      "4/4 [==============================] - 0s 7ms/step - loss: 0.0384 - mean_squared_error: 0.0384 - val_loss: 0.0650 - val_mean_squared_error: 0.0650\n",
      "Epoch 155/200\n",
      "4/4 [==============================] - 0s 6ms/step - loss: 0.0383 - mean_squared_error: 0.0383 - val_loss: 0.0612 - val_mean_squared_error: 0.0612\n",
      "Epoch 156/200\n",
      "4/4 [==============================] - 0s 7ms/step - loss: 0.0387 - mean_squared_error: 0.0387 - val_loss: 0.1345 - val_mean_squared_error: 0.1345\n",
      "Epoch 157/200\n",
      "4/4 [==============================] - 0s 6ms/step - loss: 0.0491 - mean_squared_error: 0.0491 - val_loss: 0.0654 - val_mean_squared_error: 0.0654\n",
      "Epoch 158/200\n",
      "4/4 [==============================] - 0s 6ms/step - loss: 0.0535 - mean_squared_error: 0.0535 - val_loss: 0.1079 - val_mean_squared_error: 0.1079\n",
      "Epoch 159/200\n",
      "4/4 [==============================] - 0s 7ms/step - loss: 0.0486 - mean_squared_error: 0.0486 - val_loss: 0.0916 - val_mean_squared_error: 0.0916\n",
      "Epoch 160/200\n",
      "4/4 [==============================] - 0s 7ms/step - loss: 0.0400 - mean_squared_error: 0.0400 - val_loss: 0.0543 - val_mean_squared_error: 0.0543\n",
      "Epoch 161/200\n",
      "4/4 [==============================] - 0s 7ms/step - loss: 0.0498 - mean_squared_error: 0.0498 - val_loss: 0.1082 - val_mean_squared_error: 0.1082\n",
      "Epoch 162/200\n",
      "4/4 [==============================] - 0s 7ms/step - loss: 0.0391 - mean_squared_error: 0.0391 - val_loss: 0.0578 - val_mean_squared_error: 0.0578\n",
      "Epoch 163/200\n",
      "4/4 [==============================] - 0s 7ms/step - loss: 0.0353 - mean_squared_error: 0.0353 - val_loss: 0.0743 - val_mean_squared_error: 0.0743\n",
      "Epoch 164/200\n",
      "4/4 [==============================] - 0s 7ms/step - loss: 0.0398 - mean_squared_error: 0.0398 - val_loss: 0.0921 - val_mean_squared_error: 0.0921\n",
      "Epoch 165/200\n",
      "4/4 [==============================] - 0s 7ms/step - loss: 0.0411 - mean_squared_error: 0.0411 - val_loss: 0.0613 - val_mean_squared_error: 0.0613\n",
      "Epoch 166/200\n",
      "4/4 [==============================] - 0s 7ms/step - loss: 0.0414 - mean_squared_error: 0.0414 - val_loss: 0.0988 - val_mean_squared_error: 0.0988\n",
      "Epoch 167/200\n",
      "4/4 [==============================] - 0s 7ms/step - loss: 0.0346 - mean_squared_error: 0.0346 - val_loss: 0.0638 - val_mean_squared_error: 0.0638\n",
      "Epoch 168/200\n",
      "4/4 [==============================] - 0s 7ms/step - loss: 0.0420 - mean_squared_error: 0.0420 - val_loss: 0.0753 - val_mean_squared_error: 0.0753\n",
      "Epoch 169/200\n",
      "4/4 [==============================] - 0s 8ms/step - loss: 0.0412 - mean_squared_error: 0.0412 - val_loss: 0.1037 - val_mean_squared_error: 0.1037\n",
      "Epoch 170/200\n",
      "4/4 [==============================] - 0s 8ms/step - loss: 0.0430 - mean_squared_error: 0.0430 - val_loss: 0.0538 - val_mean_squared_error: 0.0538\n",
      "Epoch 171/200\n",
      "4/4 [==============================] - 0s 7ms/step - loss: 0.0443 - mean_squared_error: 0.0443 - val_loss: 0.1536 - val_mean_squared_error: 0.1536\n",
      "Epoch 172/200\n",
      "4/4 [==============================] - 0s 7ms/step - loss: 0.0447 - mean_squared_error: 0.0447 - val_loss: 0.0498 - val_mean_squared_error: 0.0498\n",
      "Epoch 173/200\n",
      "4/4 [==============================] - 0s 7ms/step - loss: 0.0361 - mean_squared_error: 0.0361 - val_loss: 0.0926 - val_mean_squared_error: 0.0926\n",
      "Epoch 174/200\n",
      "4/4 [==============================] - 0s 6ms/step - loss: 0.0357 - mean_squared_error: 0.0357 - val_loss: 0.0557 - val_mean_squared_error: 0.0557\n",
      "Epoch 175/200\n",
      "4/4 [==============================] - 0s 7ms/step - loss: 0.0381 - mean_squared_error: 0.0381 - val_loss: 0.0622 - val_mean_squared_error: 0.0622\n",
      "Epoch 176/200\n",
      "4/4 [==============================] - 0s 7ms/step - loss: 0.0370 - mean_squared_error: 0.0370 - val_loss: 0.0754 - val_mean_squared_error: 0.0754\n",
      "Epoch 177/200\n",
      "4/4 [==============================] - 0s 6ms/step - loss: 0.0346 - mean_squared_error: 0.0346 - val_loss: 0.0808 - val_mean_squared_error: 0.0808\n",
      "Epoch 178/200\n",
      "4/4 [==============================] - 0s 7ms/step - loss: 0.0342 - mean_squared_error: 0.0342 - val_loss: 0.0677 - val_mean_squared_error: 0.0677\n",
      "Epoch 179/200\n",
      "4/4 [==============================] - 0s 7ms/step - loss: 0.0327 - mean_squared_error: 0.0327 - val_loss: 0.0994 - val_mean_squared_error: 0.0994\n",
      "Epoch 180/200\n",
      "4/4 [==============================] - 0s 7ms/step - loss: 0.0379 - mean_squared_error: 0.0379 - val_loss: 0.0634 - val_mean_squared_error: 0.0634\n",
      "Epoch 181/200\n",
      "4/4 [==============================] - 0s 7ms/step - loss: 0.0538 - mean_squared_error: 0.0538 - val_loss: 0.0940 - val_mean_squared_error: 0.0940\n",
      "Epoch 182/200\n",
      "4/4 [==============================] - 0s 6ms/step - loss: 0.0459 - mean_squared_error: 0.0459 - val_loss: 0.0757 - val_mean_squared_error: 0.0757\n",
      "Epoch 183/200\n",
      "4/4 [==============================] - 0s 7ms/step - loss: 0.0393 - mean_squared_error: 0.0393 - val_loss: 0.0567 - val_mean_squared_error: 0.0567\n",
      "Epoch 184/200\n",
      "4/4 [==============================] - 0s 7ms/step - loss: 0.0421 - mean_squared_error: 0.0421 - val_loss: 0.1336 - val_mean_squared_error: 0.1336\n",
      "Epoch 185/200\n",
      "4/4 [==============================] - 0s 7ms/step - loss: 0.0482 - mean_squared_error: 0.0482 - val_loss: 0.0567 - val_mean_squared_error: 0.0567\n",
      "Epoch 186/200\n",
      "4/4 [==============================] - 0s 7ms/step - loss: 0.0442 - mean_squared_error: 0.0442 - val_loss: 0.1540 - val_mean_squared_error: 0.1540\n",
      "Epoch 187/200\n",
      "4/4 [==============================] - 0s 7ms/step - loss: 0.0466 - mean_squared_error: 0.0466 - val_loss: 0.0517 - val_mean_squared_error: 0.0517\n",
      "Epoch 188/200\n",
      "4/4 [==============================] - 0s 7ms/step - loss: 0.0507 - mean_squared_error: 0.0507 - val_loss: 0.0669 - val_mean_squared_error: 0.0669\n",
      "Epoch 189/200\n",
      "4/4 [==============================] - 0s 7ms/step - loss: 0.0388 - mean_squared_error: 0.0388 - val_loss: 0.0757 - val_mean_squared_error: 0.0757\n",
      "Epoch 190/200\n",
      "4/4 [==============================] - 0s 7ms/step - loss: 0.0354 - mean_squared_error: 0.0354 - val_loss: 0.0572 - val_mean_squared_error: 0.0572\n",
      "Epoch 191/200\n",
      "4/4 [==============================] - 0s 7ms/step - loss: 0.0368 - mean_squared_error: 0.0368 - val_loss: 0.0966 - val_mean_squared_error: 0.0966\n",
      "Epoch 192/200\n",
      "4/4 [==============================] - 0s 7ms/step - loss: 0.0360 - mean_squared_error: 0.0360 - val_loss: 0.0594 - val_mean_squared_error: 0.0594\n",
      "Epoch 193/200\n",
      "4/4 [==============================] - 0s 7ms/step - loss: 0.0322 - mean_squared_error: 0.0322 - val_loss: 0.0775 - val_mean_squared_error: 0.0775\n",
      "Epoch 194/200\n",
      "4/4 [==============================] - 0s 6ms/step - loss: 0.0325 - mean_squared_error: 0.0325 - val_loss: 0.0581 - val_mean_squared_error: 0.0581\n",
      "Epoch 195/200\n",
      "4/4 [==============================] - 0s 7ms/step - loss: 0.0344 - mean_squared_error: 0.0344 - val_loss: 0.0601 - val_mean_squared_error: 0.0601\n",
      "Epoch 196/200\n",
      "4/4 [==============================] - 0s 7ms/step - loss: 0.0332 - mean_squared_error: 0.0332 - val_loss: 0.0593 - val_mean_squared_error: 0.0593\n",
      "Epoch 197/200\n",
      "4/4 [==============================] - 0s 7ms/step - loss: 0.0324 - mean_squared_error: 0.0324 - val_loss: 0.0661 - val_mean_squared_error: 0.0661\n",
      "Epoch 198/200\n",
      "4/4 [==============================] - 0s 6ms/step - loss: 0.0328 - mean_squared_error: 0.0328 - val_loss: 0.0782 - val_mean_squared_error: 0.0782\n",
      "Epoch 199/200\n",
      "4/4 [==============================] - 0s 7ms/step - loss: 0.0398 - mean_squared_error: 0.0398 - val_loss: 0.1080 - val_mean_squared_error: 0.1080\n",
      "Epoch 200/200\n",
      "4/4 [==============================] - 0s 7ms/step - loss: 0.0409 - mean_squared_error: 0.0409 - val_loss: 0.0611 - val_mean_squared_error: 0.0611\n"
     ]
    },
    {
     "data": {
      "image/png": "[encoded data removed]",
      "text/plain": [
       "<Figure size 432x288 with 2 Axes>"
      ]
     },
     "metadata": {
      "needs_background": "light"
     },
     "output_type": "display_data"
    }
   ],
   "source": [
    "op4 = HybridUnivariatePredictor(training,2, 24, 10)\n",
    "op4.create_cnnlstm()\n",
    "op4.fit_model(200)\n",
    "op4.show_performance()"
   ]
  },
  {
   "cell_type": "code",
   "execution_count": 102,
   "metadata": {},
   "outputs": [
    {
     "name": "stdout",
     "output_type": "stream",
     "text": [
      "WARNING:tensorflow:6 out of the last 6 calls to <function Model.make_predict_function.<locals>.predict_function at 0x000001952F071700> triggered tf.function retracing. Tracing is expensive and the excessive number of tracings could be due to (1) creating @tf.function repeatedly in a loop, (2) passing tensors with different shapes, (3) passing Python objects instead of tensors. For (1), please define your @tf.function outside of the loop. For (2), @tf.function has experimental_relax_shapes=True option that relaxes argument shapes that can avoid unnecessary retracing. For (3), please refer to https://www.tensorflow.org/tutorials/customization/performance#python_or_tensor_args and https://www.tensorflow.org/api_docs/python/tf/function for  more details.\n"
     ]
    },
    {
     "name": "stderr",
     "output_type": "stream",
     "text": [
      "WARNING:tensorflow:6 out of the last 6 calls to <function Model.make_predict_function.<locals>.predict_function at 0x000001952F071700> triggered tf.function retracing. Tracing is expensive and the excessive number of tracings could be due to (1) creating @tf.function repeatedly in a loop, (2) passing tensors with different shapes, (3) passing Python objects instead of tensors. For (1), please define your @tf.function outside of the loop. For (2), @tf.function has experimental_relax_shapes=True option that relaxes argument shapes that can avoid unnecessary retracing. For (3), please refer to https://www.tensorflow.org/tutorials/customization/performance#python_or_tensor_args and https://www.tensorflow.org/api_docs/python/tf/function for  more details.\n"
     ]
    }
   ],
   "source": [
    "predicted = op4.predict(predict_req)"
   ]
  },
  {
   "cell_type": "code",
   "execution_count": 123,
   "metadata": {},
   "outputs": [
    {
     "data": {
      "text/html": [
       "<div>\n",
       "<style scoped>\n",
       "    .dataframe tbody tr th:only-of-type {\n",
       "        vertical-align: middle;\n",
       "    }\n",
       "\n",
       "    .dataframe tbody tr th {\n",
       "        vertical-align: top;\n",
       "    }\n",
       "\n",
       "    .dataframe thead th {\n",
       "        text-align: right;\n",
       "    }\n",
       "</style>\n",
       "<table border=\"1\" class=\"dataframe\">\n",
       "  <thead>\n",
       "    <tr style=\"text-align: right;\">\n",
       "      <th></th>\n",
       "      <th>CNN-LSTM</th>\n",
       "    </tr>\n",
       "  </thead>\n",
       "  <tbody>\n",
       "    <tr>\n",
       "      <th>0</th>\n",
       "      <td>9.672359</td>\n",
       "    </tr>\n",
       "    <tr>\n",
       "      <th>1</th>\n",
       "      <td>9.635760</td>\n",
       "    </tr>\n",
       "    <tr>\n",
       "      <th>2</th>\n",
       "      <td>9.947772</td>\n",
       "    </tr>\n",
       "    <tr>\n",
       "      <th>3</th>\n",
       "      <td>10.329806</td>\n",
       "    </tr>\n",
       "    <tr>\n",
       "      <th>4</th>\n",
       "      <td>10.137950</td>\n",
       "    </tr>\n",
       "    <tr>\n",
       "      <th>5</th>\n",
       "      <td>10.152438</td>\n",
       "    </tr>\n",
       "    <tr>\n",
       "      <th>6</th>\n",
       "      <td>9.962451</td>\n",
       "    </tr>\n",
       "    <tr>\n",
       "      <th>7</th>\n",
       "      <td>10.381300</td>\n",
       "    </tr>\n",
       "    <tr>\n",
       "      <th>8</th>\n",
       "      <td>10.322065</td>\n",
       "    </tr>\n",
       "    <tr>\n",
       "      <th>9</th>\n",
       "      <td>10.027566</td>\n",
       "    </tr>\n",
       "  </tbody>\n",
       "</table>\n",
       "</div>"
      ],
      "text/plain": [
       "    CNN-LSTM\n",
       "0   9.672359\n",
       "1   9.635760\n",
       "2   9.947772\n",
       "3  10.329806\n",
       "4  10.137950\n",
       "5  10.152438\n",
       "6   9.962451\n",
       "7  10.381300\n",
       "8  10.322065\n",
       "9  10.027566"
      ]
     },
     "execution_count": 123,
     "metadata": {},
     "output_type": "execute_result"
    }
   ],
   "source": [
    "predicted"
   ]
  },
  {
   "cell_type": "code",
   "execution_count": 106,
   "metadata": {},
   "outputs": [
    {
     "name": "stdout",
     "output_type": "stream",
     "text": [
      "Epoch 1/200\n",
      "20/20 [==============================] - 1s 37ms/step - loss: 15.9405 - mean_squared_error: 15.9405 - val_loss: 9.9164 - val_mean_squared_error: 9.9164\n",
      "Epoch 2/200\n",
      "20/20 [==============================] - 0s 16ms/step - loss: 1.7857 - mean_squared_error: 1.7857 - val_loss: 0.3421 - val_mean_squared_error: 0.3421\n",
      "Epoch 3/200\n",
      "20/20 [==============================] - 0s 15ms/step - loss: 0.2253 - mean_squared_error: 0.2253 - val_loss: 0.4497 - val_mean_squared_error: 0.4497\n",
      "Epoch 4/200\n",
      "20/20 [==============================] - 0s 15ms/step - loss: 0.1141 - mean_squared_error: 0.1141 - val_loss: 0.2027 - val_mean_squared_error: 0.2027\n",
      "Epoch 5/200\n",
      "20/20 [==============================] - 0s 15ms/step - loss: 0.0880 - mean_squared_error: 0.0880 - val_loss: 0.1843 - val_mean_squared_error: 0.1843\n",
      "Epoch 6/200\n",
      "20/20 [==============================] - 0s 17ms/step - loss: 0.0834 - mean_squared_error: 0.0834 - val_loss: 0.1426 - val_mean_squared_error: 0.1426\n",
      "Epoch 7/200\n",
      "20/20 [==============================] - 0s 15ms/step - loss: 0.0937 - mean_squared_error: 0.0937 - val_loss: 0.4182 - val_mean_squared_error: 0.4182\n",
      "Epoch 8/200\n",
      "20/20 [==============================] - 0s 15ms/step - loss: 0.0862 - mean_squared_error: 0.0862 - val_loss: 0.1209 - val_mean_squared_error: 0.1209\n",
      "Epoch 9/200\n",
      "20/20 [==============================] - 0s 15ms/step - loss: 0.0776 - mean_squared_error: 0.0776 - val_loss: 0.1190 - val_mean_squared_error: 0.1190\n",
      "Epoch 10/200\n",
      "20/20 [==============================] - 0s 15ms/step - loss: 0.0762 - mean_squared_error: 0.0762 - val_loss: 0.2024 - val_mean_squared_error: 0.2024\n",
      "Epoch 11/200\n",
      "20/20 [==============================] - 0s 15ms/step - loss: 0.0770 - mean_squared_error: 0.0770 - val_loss: 0.1339 - val_mean_squared_error: 0.1339\n",
      "Epoch 12/200\n",
      "20/20 [==============================] - 0s 15ms/step - loss: 0.0772 - mean_squared_error: 0.0772 - val_loss: 0.2441 - val_mean_squared_error: 0.2441\n",
      "Epoch 13/200\n",
      "20/20 [==============================] - 0s 16ms/step - loss: 0.0694 - mean_squared_error: 0.0694 - val_loss: 0.1502 - val_mean_squared_error: 0.1502\n",
      "Epoch 14/200\n",
      "20/20 [==============================] - 0s 15ms/step - loss: 0.0709 - mean_squared_error: 0.0709 - val_loss: 0.2628 - val_mean_squared_error: 0.2628\n",
      "Epoch 15/200\n",
      "20/20 [==============================] - 0s 15ms/step - loss: 0.0698 - mean_squared_error: 0.0698 - val_loss: 0.3828 - val_mean_squared_error: 0.3828\n",
      "Epoch 16/200\n",
      "20/20 [==============================] - 0s 15ms/step - loss: 0.0842 - mean_squared_error: 0.0842 - val_loss: 0.1228 - val_mean_squared_error: 0.1228\n",
      "Epoch 17/200\n",
      "20/20 [==============================] - 0s 15ms/step - loss: 0.1047 - mean_squared_error: 0.1047 - val_loss: 0.2188 - val_mean_squared_error: 0.2188\n",
      "Epoch 18/200\n",
      "20/20 [==============================] - 0s 16ms/step - loss: 0.0858 - mean_squared_error: 0.0858 - val_loss: 0.1493 - val_mean_squared_error: 0.1493\n",
      "Epoch 19/200\n",
      "20/20 [==============================] - 0s 15ms/step - loss: 0.0838 - mean_squared_error: 0.0838 - val_loss: 0.1200 - val_mean_squared_error: 0.1200\n",
      "Epoch 20/200\n",
      "20/20 [==============================] - 0s 15ms/step - loss: 0.0746 - mean_squared_error: 0.0746 - val_loss: 0.1318 - val_mean_squared_error: 0.1318\n",
      "Epoch 21/200\n",
      "20/20 [==============================] - 0s 15ms/step - loss: 0.0672 - mean_squared_error: 0.0672 - val_loss: 0.1219 - val_mean_squared_error: 0.1219\n",
      "Epoch 22/200\n",
      "20/20 [==============================] - 0s 15ms/step - loss: 0.0691 - mean_squared_error: 0.0691 - val_loss: 0.1181 - val_mean_squared_error: 0.1181\n",
      "Epoch 23/200\n",
      "20/20 [==============================] - 0s 15ms/step - loss: 0.0661 - mean_squared_error: 0.0661 - val_loss: 0.1223 - val_mean_squared_error: 0.1223\n",
      "Epoch 24/200\n",
      "20/20 [==============================] - 0s 16ms/step - loss: 0.0685 - mean_squared_error: 0.0685 - val_loss: 0.1332 - val_mean_squared_error: 0.1332\n",
      "Epoch 25/200\n",
      "20/20 [==============================] - 0s 15ms/step - loss: 0.0626 - mean_squared_error: 0.0626 - val_loss: 0.1227 - val_mean_squared_error: 0.1227\n",
      "Epoch 26/200\n",
      "20/20 [==============================] - 0s 15ms/step - loss: 0.0662 - mean_squared_error: 0.0662 - val_loss: 0.1088 - val_mean_squared_error: 0.1088\n",
      "Epoch 27/200\n",
      "20/20 [==============================] - 0s 15ms/step - loss: 0.0732 - mean_squared_error: 0.0732 - val_loss: 0.1460 - val_mean_squared_error: 0.1460\n",
      "Epoch 28/200\n",
      "20/20 [==============================] - 0s 17ms/step - loss: 0.0798 - mean_squared_error: 0.0798 - val_loss: 0.1285 - val_mean_squared_error: 0.1285\n",
      "Epoch 29/200\n",
      "20/20 [==============================] - 0s 15ms/step - loss: 0.0761 - mean_squared_error: 0.0761 - val_loss: 0.1498 - val_mean_squared_error: 0.1498\n",
      "Epoch 30/200\n",
      "20/20 [==============================] - 0s 15ms/step - loss: 0.0735 - mean_squared_error: 0.0735 - val_loss: 0.1588 - val_mean_squared_error: 0.1588\n",
      "Epoch 31/200\n",
      "20/20 [==============================] - 0s 15ms/step - loss: 0.0731 - mean_squared_error: 0.0731 - val_loss: 0.1514 - val_mean_squared_error: 0.1514\n",
      "Epoch 32/200\n",
      "20/20 [==============================] - 0s 15ms/step - loss: 0.0688 - mean_squared_error: 0.0688 - val_loss: 0.1539 - val_mean_squared_error: 0.1539\n",
      "Epoch 33/200\n",
      "20/20 [==============================] - 0s 15ms/step - loss: 0.0660 - mean_squared_error: 0.0660 - val_loss: 0.1108 - val_mean_squared_error: 0.1108\n",
      "Epoch 34/200\n",
      "20/20 [==============================] - 0s 15ms/step - loss: 0.0734 - mean_squared_error: 0.0734 - val_loss: 0.1579 - val_mean_squared_error: 0.1579\n",
      "Epoch 35/200\n",
      "20/20 [==============================] - 0s 15ms/step - loss: 0.0668 - mean_squared_error: 0.0668 - val_loss: 0.1444 - val_mean_squared_error: 0.1444\n",
      "Epoch 36/200\n",
      "20/20 [==============================] - 0s 15ms/step - loss: 0.0705 - mean_squared_error: 0.0705 - val_loss: 0.1421 - val_mean_squared_error: 0.1421\n",
      "Epoch 37/200\n",
      "20/20 [==============================] - 0s 15ms/step - loss: 0.0621 - mean_squared_error: 0.0621 - val_loss: 0.2035 - val_mean_squared_error: 0.2035\n",
      "Epoch 38/200\n",
      "20/20 [==============================] - 0s 15ms/step - loss: 0.0730 - mean_squared_error: 0.0730 - val_loss: 0.2307 - val_mean_squared_error: 0.2307\n",
      "Epoch 39/200\n",
      "20/20 [==============================] - 0s 15ms/step - loss: 0.0740 - mean_squared_error: 0.0740 - val_loss: 0.2743 - val_mean_squared_error: 0.2743\n",
      "Epoch 40/200\n",
      "20/20 [==============================] - 0s 15ms/step - loss: 0.0806 - mean_squared_error: 0.0806 - val_loss: 0.1923 - val_mean_squared_error: 0.1923\n",
      "Epoch 41/200\n",
      "20/20 [==============================] - 0s 15ms/step - loss: 0.0771 - mean_squared_error: 0.0771 - val_loss: 0.2372 - val_mean_squared_error: 0.2372\n",
      "Epoch 42/200\n",
      "20/20 [==============================] - 0s 15ms/step - loss: 0.0720 - mean_squared_error: 0.0720 - val_loss: 0.1160 - val_mean_squared_error: 0.1160\n",
      "Epoch 43/200\n",
      "20/20 [==============================] - 0s 15ms/step - loss: 0.0758 - mean_squared_error: 0.0758 - val_loss: 0.1103 - val_mean_squared_error: 0.1103\n",
      "Epoch 44/200\n",
      "20/20 [==============================] - 0s 15ms/step - loss: 0.0645 - mean_squared_error: 0.0645 - val_loss: 0.1535 - val_mean_squared_error: 0.1535\n",
      "Epoch 45/200\n",
      "20/20 [==============================] - 0s 15ms/step - loss: 0.0663 - mean_squared_error: 0.0663 - val_loss: 0.1666 - val_mean_squared_error: 0.1666\n",
      "Epoch 46/200\n",
      "20/20 [==============================] - 0s 15ms/step - loss: 0.0737 - mean_squared_error: 0.0737 - val_loss: 0.2705 - val_mean_squared_error: 0.2705\n",
      "Epoch 47/200\n",
      "20/20 [==============================] - 0s 15ms/step - loss: 0.0641 - mean_squared_error: 0.0641 - val_loss: 0.1390 - val_mean_squared_error: 0.1390\n",
      "Epoch 48/200\n",
      "20/20 [==============================] - 0s 15ms/step - loss: 0.0624 - mean_squared_error: 0.0624 - val_loss: 0.1295 - val_mean_squared_error: 0.1295\n",
      "Epoch 49/200\n",
      "20/20 [==============================] - 0s 16ms/step - loss: 0.0600 - mean_squared_error: 0.0600 - val_loss: 0.1182 - val_mean_squared_error: 0.1182\n",
      "Epoch 50/200\n",
      "20/20 [==============================] - 0s 14ms/step - loss: 0.0633 - mean_squared_error: 0.0633 - val_loss: 0.1205 - val_mean_squared_error: 0.1205\n",
      "Epoch 51/200\n"
     ]
    },
    {
     "name": "stdout",
     "output_type": "stream",
     "text": [
      "20/20 [==============================] - 0s 14ms/step - loss: 0.0622 - mean_squared_error: 0.0622 - val_loss: 0.1484 - val_mean_squared_error: 0.1484\n",
      "Epoch 52/200\n",
      "20/20 [==============================] - 0s 14ms/step - loss: 0.0738 - mean_squared_error: 0.0738 - val_loss: 0.1131 - val_mean_squared_error: 0.1131\n",
      "Epoch 53/200\n",
      "20/20 [==============================] - 0s 14ms/step - loss: 0.0732 - mean_squared_error: 0.0732 - val_loss: 0.1191 - val_mean_squared_error: 0.1191\n",
      "Epoch 54/200\n",
      "20/20 [==============================] - 0s 14ms/step - loss: 0.0599 - mean_squared_error: 0.0599 - val_loss: 0.1579 - val_mean_squared_error: 0.1579\n",
      "Epoch 55/200\n",
      "20/20 [==============================] - 0s 14ms/step - loss: 0.0611 - mean_squared_error: 0.0611 - val_loss: 0.1377 - val_mean_squared_error: 0.1377\n",
      "Epoch 56/200\n",
      "20/20 [==============================] - 0s 13ms/step - loss: 0.0623 - mean_squared_error: 0.0623 - val_loss: 0.1187 - val_mean_squared_error: 0.1187\n",
      "Epoch 57/200\n",
      "20/20 [==============================] - 0s 14ms/step - loss: 0.0693 - mean_squared_error: 0.0693 - val_loss: 0.2302 - val_mean_squared_error: 0.2302\n",
      "Epoch 58/200\n",
      "20/20 [==============================] - 0s 14ms/step - loss: 0.0597 - mean_squared_error: 0.0597 - val_loss: 0.1641 - val_mean_squared_error: 0.1641\n",
      "Epoch 59/200\n",
      "20/20 [==============================] - 0s 14ms/step - loss: 0.0631 - mean_squared_error: 0.0631 - val_loss: 0.2392 - val_mean_squared_error: 0.2392\n",
      "Epoch 60/200\n",
      "20/20 [==============================] - 0s 14ms/step - loss: 0.0746 - mean_squared_error: 0.0746 - val_loss: 0.1441 - val_mean_squared_error: 0.1441\n",
      "Epoch 61/200\n",
      "20/20 [==============================] - 0s 14ms/step - loss: 0.0675 - mean_squared_error: 0.0675 - val_loss: 0.1092 - val_mean_squared_error: 0.1092\n",
      "Epoch 62/200\n",
      "20/20 [==============================] - 0s 13ms/step - loss: 0.0675 - mean_squared_error: 0.0675 - val_loss: 0.1916 - val_mean_squared_error: 0.1916\n",
      "Epoch 63/200\n",
      "20/20 [==============================] - 0s 13ms/step - loss: 0.0692 - mean_squared_error: 0.0692 - val_loss: 0.1019 - val_mean_squared_error: 0.1019\n",
      "Epoch 64/200\n",
      "20/20 [==============================] - 0s 13ms/step - loss: 0.0726 - mean_squared_error: 0.0726 - val_loss: 0.0958 - val_mean_squared_error: 0.0958\n",
      "Epoch 65/200\n",
      "20/20 [==============================] - 0s 13ms/step - loss: 0.0726 - mean_squared_error: 0.0726 - val_loss: 0.2633 - val_mean_squared_error: 0.2633\n",
      "Epoch 66/200\n",
      "20/20 [==============================] - 0s 13ms/step - loss: 0.0600 - mean_squared_error: 0.0600 - val_loss: 0.1042 - val_mean_squared_error: 0.1042\n",
      "Epoch 67/200\n",
      "20/20 [==============================] - 0s 13ms/step - loss: 0.0581 - mean_squared_error: 0.0581 - val_loss: 0.1073 - val_mean_squared_error: 0.1073\n",
      "Epoch 68/200\n",
      "20/20 [==============================] - 0s 14ms/step - loss: 0.0660 - mean_squared_error: 0.0660 - val_loss: 0.2578 - val_mean_squared_error: 0.2578\n",
      "Epoch 69/200\n",
      "20/20 [==============================] - 0s 13ms/step - loss: 0.0637 - mean_squared_error: 0.0637 - val_loss: 0.1955 - val_mean_squared_error: 0.1955\n",
      "Epoch 70/200\n",
      "20/20 [==============================] - 0s 13ms/step - loss: 0.0571 - mean_squared_error: 0.0571 - val_loss: 0.1226 - val_mean_squared_error: 0.1226\n",
      "Epoch 71/200\n",
      "20/20 [==============================] - 0s 14ms/step - loss: 0.0621 - mean_squared_error: 0.0621 - val_loss: 0.1240 - val_mean_squared_error: 0.1240\n",
      "Epoch 72/200\n",
      "20/20 [==============================] - 0s 13ms/step - loss: 0.0759 - mean_squared_error: 0.0759 - val_loss: 0.1051 - val_mean_squared_error: 0.1051\n",
      "Epoch 73/200\n",
      "20/20 [==============================] - 0s 13ms/step - loss: 0.0631 - mean_squared_error: 0.0631 - val_loss: 0.0949 - val_mean_squared_error: 0.0949\n",
      "Epoch 74/200\n",
      "20/20 [==============================] - 0s 13ms/step - loss: 0.0584 - mean_squared_error: 0.0584 - val_loss: 0.1626 - val_mean_squared_error: 0.1626\n",
      "Epoch 75/200\n",
      "20/20 [==============================] - 0s 14ms/step - loss: 0.0575 - mean_squared_error: 0.0575 - val_loss: 0.1624 - val_mean_squared_error: 0.1624\n",
      "Epoch 76/200\n",
      "20/20 [==============================] - 0s 13ms/step - loss: 0.0612 - mean_squared_error: 0.0612 - val_loss: 0.1540 - val_mean_squared_error: 0.1540\n",
      "Epoch 77/200\n",
      "20/20 [==============================] - 0s 13ms/step - loss: 0.0593 - mean_squared_error: 0.0593 - val_loss: 0.1001 - val_mean_squared_error: 0.1001\n",
      "Epoch 78/200\n",
      "20/20 [==============================] - 0s 14ms/step - loss: 0.0623 - mean_squared_error: 0.0623 - val_loss: 0.1595 - val_mean_squared_error: 0.1595\n",
      "Epoch 79/200\n",
      "20/20 [==============================] - 0s 14ms/step - loss: 0.0711 - mean_squared_error: 0.0711 - val_loss: 0.2876 - val_mean_squared_error: 0.2876\n",
      "Epoch 80/200\n",
      "20/20 [==============================] - 0s 14ms/step - loss: 0.0669 - mean_squared_error: 0.0669 - val_loss: 0.1227 - val_mean_squared_error: 0.1227\n",
      "Epoch 81/200\n",
      "20/20 [==============================] - 0s 14ms/step - loss: 0.0572 - mean_squared_error: 0.0572 - val_loss: 0.1736 - val_mean_squared_error: 0.1736\n",
      "Epoch 82/200\n",
      "20/20 [==============================] - 0s 14ms/step - loss: 0.0649 - mean_squared_error: 0.0649 - val_loss: 0.0924 - val_mean_squared_error: 0.0924\n",
      "Epoch 83/200\n",
      "20/20 [==============================] - 0s 13ms/step - loss: 0.0559 - mean_squared_error: 0.0559 - val_loss: 0.1224 - val_mean_squared_error: 0.1224\n",
      "Epoch 84/200\n",
      "20/20 [==============================] - 0s 14ms/step - loss: 0.0579 - mean_squared_error: 0.0579 - val_loss: 0.1818 - val_mean_squared_error: 0.1818\n",
      "Epoch 85/200\n",
      "20/20 [==============================] - 0s 14ms/step - loss: 0.0603 - mean_squared_error: 0.0603 - val_loss: 0.0928 - val_mean_squared_error: 0.0928\n",
      "Epoch 86/200\n",
      "20/20 [==============================] - 0s 14ms/step - loss: 0.0666 - mean_squared_error: 0.0666 - val_loss: 0.1064 - val_mean_squared_error: 0.1064\n",
      "Epoch 87/200\n",
      "20/20 [==============================] - 0s 14ms/step - loss: 0.0633 - mean_squared_error: 0.0633 - val_loss: 0.1753 - val_mean_squared_error: 0.1753\n",
      "Epoch 88/200\n",
      "20/20 [==============================] - 0s 13ms/step - loss: 0.0566 - mean_squared_error: 0.0566 - val_loss: 0.1556 - val_mean_squared_error: 0.1556\n",
      "Epoch 89/200\n",
      "20/20 [==============================] - 0s 13ms/step - loss: 0.0531 - mean_squared_error: 0.0531 - val_loss: 0.1747 - val_mean_squared_error: 0.1747\n",
      "Epoch 90/200\n",
      "20/20 [==============================] - 0s 13ms/step - loss: 0.0528 - mean_squared_error: 0.0528 - val_loss: 0.0919 - val_mean_squared_error: 0.0919\n",
      "Epoch 91/200\n",
      "20/20 [==============================] - 0s 13ms/step - loss: 0.0564 - mean_squared_error: 0.0564 - val_loss: 0.1457 - val_mean_squared_error: 0.1457\n",
      "Epoch 92/200\n",
      "20/20 [==============================] - 0s 14ms/step - loss: 0.0557 - mean_squared_error: 0.0557 - val_loss: 0.0931 - val_mean_squared_error: 0.0931\n",
      "Epoch 93/200\n",
      "20/20 [==============================] - 0s 14ms/step - loss: 0.0554 - mean_squared_error: 0.0554 - val_loss: 0.0979 - val_mean_squared_error: 0.0979\n",
      "Epoch 94/200\n",
      "20/20 [==============================] - 0s 13ms/step - loss: 0.0525 - mean_squared_error: 0.0525 - val_loss: 0.0956 - val_mean_squared_error: 0.0956\n",
      "Epoch 95/200\n",
      "20/20 [==============================] - 0s 14ms/step - loss: 0.0616 - mean_squared_error: 0.0616 - val_loss: 0.0926 - val_mean_squared_error: 0.0926\n",
      "Epoch 96/200\n",
      "20/20 [==============================] - 0s 14ms/step - loss: 0.0647 - mean_squared_error: 0.0647 - val_loss: 0.1286 - val_mean_squared_error: 0.1286\n",
      "Epoch 97/200\n",
      "20/20 [==============================] - 0s 14ms/step - loss: 0.0565 - mean_squared_error: 0.0565 - val_loss: 0.1345 - val_mean_squared_error: 0.1345\n",
      "Epoch 98/200\n",
      "20/20 [==============================] - 0s 13ms/step - loss: 0.0520 - mean_squared_error: 0.0520 - val_loss: 0.1097 - val_mean_squared_error: 0.1097\n",
      "Epoch 99/200\n",
      "20/20 [==============================] - 0s 14ms/step - loss: 0.0536 - mean_squared_error: 0.0536 - val_loss: 0.1504 - val_mean_squared_error: 0.1504\n",
      "Epoch 100/200\n",
      "20/20 [==============================] - 0s 14ms/step - loss: 0.0546 - mean_squared_error: 0.0546 - val_loss: 0.1481 - val_mean_squared_error: 0.1481\n",
      "Epoch 101/200\n"
     ]
    },
    {
     "name": "stdout",
     "output_type": "stream",
     "text": [
      "20/20 [==============================] - 0s 14ms/step - loss: 0.0527 - mean_squared_error: 0.0527 - val_loss: 0.1228 - val_mean_squared_error: 0.1228\n",
      "Epoch 102/200\n",
      "20/20 [==============================] - 0s 13ms/step - loss: 0.0558 - mean_squared_error: 0.0558 - val_loss: 0.1822 - val_mean_squared_error: 0.1822\n",
      "Epoch 103/200\n",
      "20/20 [==============================] - 0s 13ms/step - loss: 0.0689 - mean_squared_error: 0.0689 - val_loss: 0.1494 - val_mean_squared_error: 0.1494\n",
      "Epoch 104/200\n",
      "20/20 [==============================] - 0s 14ms/step - loss: 0.0656 - mean_squared_error: 0.0656 - val_loss: 0.1015 - val_mean_squared_error: 0.1015\n",
      "Epoch 105/200\n",
      "20/20 [==============================] - 0s 14ms/step - loss: 0.0564 - mean_squared_error: 0.0564 - val_loss: 0.1332 - val_mean_squared_error: 0.1332\n",
      "Epoch 106/200\n",
      "20/20 [==============================] - 0s 14ms/step - loss: 0.0514 - mean_squared_error: 0.0514 - val_loss: 0.0914 - val_mean_squared_error: 0.0914\n",
      "Epoch 107/200\n",
      "20/20 [==============================] - 0s 13ms/step - loss: 0.0506 - mean_squared_error: 0.0506 - val_loss: 0.1003 - val_mean_squared_error: 0.1003\n",
      "Epoch 108/200\n",
      "20/20 [==============================] - 0s 13ms/step - loss: 0.0503 - mean_squared_error: 0.0503 - val_loss: 0.1227 - val_mean_squared_error: 0.1227\n",
      "Epoch 109/200\n",
      "20/20 [==============================] - 0s 13ms/step - loss: 0.0465 - mean_squared_error: 0.0465 - val_loss: 0.1393 - val_mean_squared_error: 0.1393\n",
      "Epoch 110/200\n",
      "20/20 [==============================] - 0s 14ms/step - loss: 0.0508 - mean_squared_error: 0.0508 - val_loss: 0.1180 - val_mean_squared_error: 0.1180\n",
      "Epoch 111/200\n",
      "20/20 [==============================] - 0s 13ms/step - loss: 0.0469 - mean_squared_error: 0.0469 - val_loss: 0.1093 - val_mean_squared_error: 0.1093\n",
      "Epoch 112/200\n",
      "20/20 [==============================] - 0s 14ms/step - loss: 0.0504 - mean_squared_error: 0.0504 - val_loss: 0.1265 - val_mean_squared_error: 0.1265\n",
      "Epoch 113/200\n",
      "20/20 [==============================] - 0s 14ms/step - loss: 0.0515 - mean_squared_error: 0.0515 - val_loss: 0.0872 - val_mean_squared_error: 0.0872\n",
      "Epoch 114/200\n",
      "20/20 [==============================] - 0s 13ms/step - loss: 0.0524 - mean_squared_error: 0.0524 - val_loss: 0.0953 - val_mean_squared_error: 0.0953\n",
      "Epoch 115/200\n",
      "20/20 [==============================] - 0s 14ms/step - loss: 0.0629 - mean_squared_error: 0.0629 - val_loss: 0.1583 - val_mean_squared_error: 0.1583\n",
      "Epoch 116/200\n",
      "20/20 [==============================] - 0s 14ms/step - loss: 0.0547 - mean_squared_error: 0.0547 - val_loss: 0.1095 - val_mean_squared_error: 0.1095\n",
      "Epoch 117/200\n",
      "20/20 [==============================] - 0s 14ms/step - loss: 0.0526 - mean_squared_error: 0.0526 - val_loss: 0.0869 - val_mean_squared_error: 0.0869\n",
      "Epoch 118/200\n",
      "20/20 [==============================] - 0s 14ms/step - loss: 0.0503 - mean_squared_error: 0.0503 - val_loss: 0.0993 - val_mean_squared_error: 0.0993\n",
      "Epoch 119/200\n",
      "20/20 [==============================] - 0s 14ms/step - loss: 0.0453 - mean_squared_error: 0.0453 - val_loss: 0.1059 - val_mean_squared_error: 0.1059\n",
      "Epoch 120/200\n",
      "20/20 [==============================] - 0s 14ms/step - loss: 0.0471 - mean_squared_error: 0.0471 - val_loss: 0.1173 - val_mean_squared_error: 0.1173\n",
      "Epoch 121/200\n",
      "20/20 [==============================] - 0s 14ms/step - loss: 0.0495 - mean_squared_error: 0.0495 - val_loss: 0.1357 - val_mean_squared_error: 0.1357\n",
      "Epoch 122/200\n",
      "20/20 [==============================] - 0s 14ms/step - loss: 0.0435 - mean_squared_error: 0.0435 - val_loss: 0.2003 - val_mean_squared_error: 0.2003\n",
      "Epoch 123/200\n",
      "20/20 [==============================] - 0s 13ms/step - loss: 0.0518 - mean_squared_error: 0.0518 - val_loss: 0.1177 - val_mean_squared_error: 0.1177\n",
      "Epoch 124/200\n",
      "20/20 [==============================] - 0s 14ms/step - loss: 0.0524 - mean_squared_error: 0.0524 - val_loss: 0.1648 - val_mean_squared_error: 0.1648\n",
      "Epoch 125/200\n",
      "20/20 [==============================] - 0s 14ms/step - loss: 0.0473 - mean_squared_error: 0.0473 - val_loss: 0.0880 - val_mean_squared_error: 0.0880\n",
      "Epoch 126/200\n",
      "20/20 [==============================] - 0s 14ms/step - loss: 0.0485 - mean_squared_error: 0.0485 - val_loss: 0.1072 - val_mean_squared_error: 0.1072\n",
      "Epoch 127/200\n",
      "20/20 [==============================] - 0s 14ms/step - loss: 0.0453 - mean_squared_error: 0.0453 - val_loss: 0.1631 - val_mean_squared_error: 0.1631\n",
      "Epoch 128/200\n",
      "20/20 [==============================] - 0s 14ms/step - loss: 0.0480 - mean_squared_error: 0.0480 - val_loss: 0.1047 - val_mean_squared_error: 0.1047\n",
      "Epoch 129/200\n",
      "20/20 [==============================] - 0s 14ms/step - loss: 0.0436 - mean_squared_error: 0.0436 - val_loss: 0.1604 - val_mean_squared_error: 0.1604\n",
      "Epoch 130/200\n",
      "20/20 [==============================] - 0s 14ms/step - loss: 0.0455 - mean_squared_error: 0.0455 - val_loss: 0.1637 - val_mean_squared_error: 0.1637\n",
      "Epoch 131/200\n",
      "20/20 [==============================] - 0s 14ms/step - loss: 0.0451 - mean_squared_error: 0.0451 - val_loss: 0.1220 - val_mean_squared_error: 0.1220\n",
      "Epoch 132/200\n",
      "20/20 [==============================] - 0s 14ms/step - loss: 0.0628 - mean_squared_error: 0.0628 - val_loss: 0.0921 - val_mean_squared_error: 0.0921\n",
      "Epoch 133/200\n",
      "20/20 [==============================] - 0s 15ms/step - loss: 0.0477 - mean_squared_error: 0.0477 - val_loss: 0.1206 - val_mean_squared_error: 0.1206\n",
      "Epoch 134/200\n",
      "20/20 [==============================] - 0s 16ms/step - loss: 0.0418 - mean_squared_error: 0.0418 - val_loss: 0.1164 - val_mean_squared_error: 0.1164\n",
      "Epoch 135/200\n",
      "20/20 [==============================] - 0s 16ms/step - loss: 0.0418 - mean_squared_error: 0.0418 - val_loss: 0.1194 - val_mean_squared_error: 0.1194\n",
      "Epoch 136/200\n",
      "20/20 [==============================] - 0s 16ms/step - loss: 0.0443 - mean_squared_error: 0.0443 - val_loss: 0.1002 - val_mean_squared_error: 0.1002\n",
      "Epoch 137/200\n",
      "20/20 [==============================] - 0s 16ms/step - loss: 0.0497 - mean_squared_error: 0.0497 - val_loss: 0.0839 - val_mean_squared_error: 0.0839\n",
      "Epoch 138/200\n",
      "20/20 [==============================] - 0s 16ms/step - loss: 0.0449 - mean_squared_error: 0.0449 - val_loss: 0.1699 - val_mean_squared_error: 0.1699\n",
      "Epoch 139/200\n",
      "20/20 [==============================] - 0s 16ms/step - loss: 0.0452 - mean_squared_error: 0.0452 - val_loss: 0.1328 - val_mean_squared_error: 0.1328\n",
      "Epoch 140/200\n",
      "20/20 [==============================] - 0s 15ms/step - loss: 0.0437 - mean_squared_error: 0.0437 - val_loss: 0.1033 - val_mean_squared_error: 0.1033\n",
      "Epoch 141/200\n",
      "20/20 [==============================] - 0s 14ms/step - loss: 0.0433 - mean_squared_error: 0.0433 - val_loss: 0.1734 - val_mean_squared_error: 0.1734\n",
      "Epoch 142/200\n",
      "20/20 [==============================] - 0s 14ms/step - loss: 0.0446 - mean_squared_error: 0.0446 - val_loss: 0.1652 - val_mean_squared_error: 0.1652\n",
      "Epoch 143/200\n",
      "20/20 [==============================] - 0s 14ms/step - loss: 0.0413 - mean_squared_error: 0.0413 - val_loss: 0.1467 - val_mean_squared_error: 0.1467\n",
      "Epoch 144/200\n",
      "20/20 [==============================] - 0s 14ms/step - loss: 0.0502 - mean_squared_error: 0.0502 - val_loss: 0.0994 - val_mean_squared_error: 0.0994\n",
      "Epoch 145/200\n",
      "20/20 [==============================] - 0s 15ms/step - loss: 0.0591 - mean_squared_error: 0.0591 - val_loss: 0.0972 - val_mean_squared_error: 0.0972\n",
      "Epoch 146/200\n",
      "20/20 [==============================] - 0s 14ms/step - loss: 0.0480 - mean_squared_error: 0.0480 - val_loss: 0.0854 - val_mean_squared_error: 0.0854\n",
      "Epoch 147/200\n",
      "20/20 [==============================] - 0s 14ms/step - loss: 0.0456 - mean_squared_error: 0.0456 - val_loss: 0.1046 - val_mean_squared_error: 0.1046\n",
      "Epoch 148/200\n",
      "20/20 [==============================] - 0s 15ms/step - loss: 0.0435 - mean_squared_error: 0.0435 - val_loss: 0.0956 - val_mean_squared_error: 0.0956\n",
      "Epoch 149/200\n",
      "20/20 [==============================] - 0s 14ms/step - loss: 0.0468 - mean_squared_error: 0.0468 - val_loss: 0.0953 - val_mean_squared_error: 0.0953\n",
      "Epoch 150/200\n",
      "20/20 [==============================] - 0s 14ms/step - loss: 0.0550 - mean_squared_error: 0.0550 - val_loss: 0.1549 - val_mean_squared_error: 0.1549\n",
      "Epoch 151/200\n"
     ]
    },
    {
     "name": "stdout",
     "output_type": "stream",
     "text": [
      "20/20 [==============================] - 0s 14ms/step - loss: 0.0455 - mean_squared_error: 0.0455 - val_loss: 0.0838 - val_mean_squared_error: 0.0838\n",
      "Epoch 152/200\n",
      "20/20 [==============================] - 0s 14ms/step - loss: 0.0455 - mean_squared_error: 0.0455 - val_loss: 0.1471 - val_mean_squared_error: 0.1471\n",
      "Epoch 153/200\n",
      "20/20 [==============================] - 0s 14ms/step - loss: 0.0488 - mean_squared_error: 0.0488 - val_loss: 0.0836 - val_mean_squared_error: 0.0836\n",
      "Epoch 154/200\n",
      "20/20 [==============================] - 0s 14ms/step - loss: 0.0528 - mean_squared_error: 0.0528 - val_loss: 0.1800 - val_mean_squared_error: 0.1800\n",
      "Epoch 155/200\n",
      "20/20 [==============================] - 0s 14ms/step - loss: 0.0503 - mean_squared_error: 0.0503 - val_loss: 0.1165 - val_mean_squared_error: 0.1165\n",
      "Epoch 156/200\n",
      "20/20 [==============================] - 0s 14ms/step - loss: 0.0438 - mean_squared_error: 0.0438 - val_loss: 0.1590 - val_mean_squared_error: 0.1590\n",
      "Epoch 157/200\n",
      "20/20 [==============================] - 0s 14ms/step - loss: 0.0477 - mean_squared_error: 0.0477 - val_loss: 0.1066 - val_mean_squared_error: 0.1066\n",
      "Epoch 158/200\n",
      "20/20 [==============================] - 0s 14ms/step - loss: 0.0410 - mean_squared_error: 0.0410 - val_loss: 0.1601 - val_mean_squared_error: 0.1601\n",
      "Epoch 159/200\n",
      "20/20 [==============================] - 0s 15ms/step - loss: 0.0461 - mean_squared_error: 0.0461 - val_loss: 0.1058 - val_mean_squared_error: 0.1058\n",
      "Epoch 160/200\n",
      "20/20 [==============================] - 0s 14ms/step - loss: 0.0439 - mean_squared_error: 0.0439 - val_loss: 0.0910 - val_mean_squared_error: 0.0910\n",
      "Epoch 161/200\n",
      "20/20 [==============================] - 0s 14ms/step - loss: 0.0444 - mean_squared_error: 0.0444 - val_loss: 0.1245 - val_mean_squared_error: 0.1245\n",
      "Epoch 162/200\n",
      "20/20 [==============================] - 0s 14ms/step - loss: 0.0424 - mean_squared_error: 0.0424 - val_loss: 0.1449 - val_mean_squared_error: 0.1449\n",
      "Epoch 163/200\n",
      "20/20 [==============================] - 0s 14ms/step - loss: 0.0394 - mean_squared_error: 0.0394 - val_loss: 0.1053 - val_mean_squared_error: 0.1053\n",
      "Epoch 164/200\n",
      "20/20 [==============================] - 0s 14ms/step - loss: 0.0398 - mean_squared_error: 0.0398 - val_loss: 0.1192 - val_mean_squared_error: 0.1192\n",
      "Epoch 165/200\n",
      "20/20 [==============================] - 0s 14ms/step - loss: 0.0405 - mean_squared_error: 0.0405 - val_loss: 0.0956 - val_mean_squared_error: 0.0956\n",
      "Epoch 166/200\n",
      "20/20 [==============================] - 0s 14ms/step - loss: 0.0465 - mean_squared_error: 0.0465 - val_loss: 0.1027 - val_mean_squared_error: 0.1027\n",
      "Epoch 167/200\n",
      "20/20 [==============================] - 0s 14ms/step - loss: 0.0568 - mean_squared_error: 0.0568 - val_loss: 0.1271 - val_mean_squared_error: 0.1271\n",
      "Epoch 168/200\n",
      "20/20 [==============================] - 0s 14ms/step - loss: 0.0568 - mean_squared_error: 0.0568 - val_loss: 0.0907 - val_mean_squared_error: 0.0907\n",
      "Epoch 169/200\n",
      "20/20 [==============================] - 0s 14ms/step - loss: 0.0525 - mean_squared_error: 0.0525 - val_loss: 0.2080 - val_mean_squared_error: 0.2080\n",
      "Epoch 170/200\n",
      "20/20 [==============================] - 0s 14ms/step - loss: 0.0493 - mean_squared_error: 0.0493 - val_loss: 0.1999 - val_mean_squared_error: 0.1999\n",
      "Epoch 171/200\n",
      "20/20 [==============================] - 0s 14ms/step - loss: 0.0438 - mean_squared_error: 0.0438 - val_loss: 0.1451 - val_mean_squared_error: 0.1451\n",
      "Epoch 172/200\n",
      "20/20 [==============================] - 0s 14ms/step - loss: 0.0457 - mean_squared_error: 0.0457 - val_loss: 0.0922 - val_mean_squared_error: 0.0922\n",
      "Epoch 173/200\n",
      "20/20 [==============================] - 0s 14ms/step - loss: 0.0485 - mean_squared_error: 0.0485 - val_loss: 0.0869 - val_mean_squared_error: 0.0869\n",
      "Epoch 174/200\n",
      "20/20 [==============================] - 0s 14ms/step - loss: 0.0429 - mean_squared_error: 0.0429 - val_loss: 0.1185 - val_mean_squared_error: 0.1185\n",
      "Epoch 175/200\n",
      "20/20 [==============================] - 0s 14ms/step - loss: 0.0410 - mean_squared_error: 0.0410 - val_loss: 0.1003 - val_mean_squared_error: 0.1003\n",
      "Epoch 176/200\n",
      "20/20 [==============================] - 0s 14ms/step - loss: 0.0385 - mean_squared_error: 0.0385 - val_loss: 0.1029 - val_mean_squared_error: 0.1029\n",
      "Epoch 177/200\n",
      "20/20 [==============================] - 0s 14ms/step - loss: 0.0413 - mean_squared_error: 0.0413 - val_loss: 0.0985 - val_mean_squared_error: 0.0985\n",
      "Epoch 178/200\n",
      "20/20 [==============================] - 0s 14ms/step - loss: 0.0505 - mean_squared_error: 0.0505 - val_loss: 0.1428 - val_mean_squared_error: 0.1428\n",
      "Epoch 179/200\n",
      "20/20 [==============================] - 0s 14ms/step - loss: 0.0449 - mean_squared_error: 0.0449 - val_loss: 0.0897 - val_mean_squared_error: 0.0897\n",
      "Epoch 180/200\n",
      "20/20 [==============================] - 0s 14ms/step - loss: 0.0442 - mean_squared_error: 0.0442 - val_loss: 0.1114 - val_mean_squared_error: 0.1114\n",
      "Epoch 181/200\n",
      "20/20 [==============================] - 0s 14ms/step - loss: 0.0452 - mean_squared_error: 0.0452 - val_loss: 0.0995 - val_mean_squared_error: 0.0995\n",
      "Epoch 182/200\n",
      "20/20 [==============================] - 0s 14ms/step - loss: 0.0455 - mean_squared_error: 0.0455 - val_loss: 0.1121 - val_mean_squared_error: 0.1121\n",
      "Epoch 183/200\n",
      "20/20 [==============================] - 0s 14ms/step - loss: 0.0388 - mean_squared_error: 0.0388 - val_loss: 0.0838 - val_mean_squared_error: 0.0838\n",
      "Epoch 184/200\n",
      "20/20 [==============================] - 0s 14ms/step - loss: 0.0423 - mean_squared_error: 0.0423 - val_loss: 0.1141 - val_mean_squared_error: 0.1141\n",
      "Epoch 185/200\n",
      "20/20 [==============================] - 0s 14ms/step - loss: 0.0426 - mean_squared_error: 0.0426 - val_loss: 0.0872 - val_mean_squared_error: 0.0872\n",
      "Epoch 186/200\n",
      "20/20 [==============================] - 0s 14ms/step - loss: 0.0451 - mean_squared_error: 0.0451 - val_loss: 0.1029 - val_mean_squared_error: 0.1029\n",
      "Epoch 187/200\n",
      "20/20 [==============================] - 0s 14ms/step - loss: 0.0422 - mean_squared_error: 0.0422 - val_loss: 0.0892 - val_mean_squared_error: 0.0892\n",
      "Epoch 188/200\n",
      "20/20 [==============================] - 0s 14ms/step - loss: 0.0503 - mean_squared_error: 0.0503 - val_loss: 0.1304 - val_mean_squared_error: 0.1304\n",
      "Epoch 189/200\n",
      "20/20 [==============================] - 0s 14ms/step - loss: 0.0441 - mean_squared_error: 0.0441 - val_loss: 0.0855 - val_mean_squared_error: 0.0855\n",
      "Epoch 190/200\n",
      "20/20 [==============================] - 0s 14ms/step - loss: 0.0458 - mean_squared_error: 0.0458 - val_loss: 0.1921 - val_mean_squared_error: 0.1921\n",
      "Epoch 191/200\n",
      "20/20 [==============================] - 0s 14ms/step - loss: 0.0456 - mean_squared_error: 0.0456 - val_loss: 0.0875 - val_mean_squared_error: 0.0875\n",
      "Epoch 192/200\n",
      "20/20 [==============================] - 0s 14ms/step - loss: 0.0417 - mean_squared_error: 0.0417 - val_loss: 0.1245 - val_mean_squared_error: 0.1245\n",
      "Epoch 193/200\n",
      "20/20 [==============================] - 0s 14ms/step - loss: 0.0368 - mean_squared_error: 0.0368 - val_loss: 0.0964 - val_mean_squared_error: 0.0964\n",
      "Epoch 194/200\n",
      "20/20 [==============================] - 0s 14ms/step - loss: 0.0378 - mean_squared_error: 0.0378 - val_loss: 0.1496 - val_mean_squared_error: 0.1496\n",
      "Epoch 195/200\n",
      "20/20 [==============================] - 0s 14ms/step - loss: 0.0424 - mean_squared_error: 0.0424 - val_loss: 0.1123 - val_mean_squared_error: 0.1123\n",
      "Epoch 196/200\n",
      "20/20 [==============================] - 0s 14ms/step - loss: 0.0514 - mean_squared_error: 0.0514 - val_loss: 0.0928 - val_mean_squared_error: 0.0928\n",
      "Epoch 197/200\n",
      "20/20 [==============================] - 0s 14ms/step - loss: 0.0418 - mean_squared_error: 0.0418 - val_loss: 0.1024 - val_mean_squared_error: 0.1024\n",
      "Epoch 198/200\n",
      "20/20 [==============================] - 0s 14ms/step - loss: 0.0388 - mean_squared_error: 0.0388 - val_loss: 0.1171 - val_mean_squared_error: 0.1171\n",
      "Epoch 199/200\n",
      "20/20 [==============================] - 0s 15ms/step - loss: 0.0447 - mean_squared_error: 0.0447 - val_loss: 0.0818 - val_mean_squared_error: 0.0818\n",
      "Epoch 200/200\n",
      "20/20 [==============================] - 0s 14ms/step - loss: 0.0462 - mean_squared_error: 0.0462 - val_loss: 0.1532 - val_mean_squared_error: 0.1532\n"
     ]
    },
    {
     "data": {
      "image/png": "[encoded data removed]",
      "text/plain": [
       "<Figure size 432x288 with 2 Axes>"
      ]
     },
     "metadata": {
      "needs_background": "light"
     },
     "output_type": "display_data"
    }
   ],
   "source": [
    "op0 = BasicUnivariatePredictor(prices, 24, 10)\n",
    "op0.create_bilstm()\n",
    "op0.fit_model(200)\n",
    "op0.show_performance()"
   ]
  },
  {
   "cell_type": "code",
   "execution_count": 107,
   "metadata": {},
   "outputs": [
    {
     "name": "stdout",
     "output_type": "stream",
     "text": [
      "WARNING:tensorflow:7 out of the last 7 calls to <function Model.make_predict_function.<locals>.predict_function at 0x00000195350D04C0> triggered tf.function retracing. Tracing is expensive and the excessive number of tracings could be due to (1) creating @tf.function repeatedly in a loop, (2) passing tensors with different shapes, (3) passing Python objects instead of tensors. For (1), please define your @tf.function outside of the loop. For (2), @tf.function has experimental_relax_shapes=True option that relaxes argument shapes that can avoid unnecessary retracing. For (3), please refer to https://www.tensorflow.org/tutorials/customization/performance#python_or_tensor_args and https://www.tensorflow.org/api_docs/python/tf/function for  more details.\n"
     ]
    },
    {
     "name": "stderr",
     "output_type": "stream",
     "text": [
      "WARNING:tensorflow:7 out of the last 7 calls to <function Model.make_predict_function.<locals>.predict_function at 0x00000195350D04C0> triggered tf.function retracing. Tracing is expensive and the excessive number of tracings could be due to (1) creating @tf.function repeatedly in a loop, (2) passing tensors with different shapes, (3) passing Python objects instead of tensors. For (1), please define your @tf.function outside of the loop. For (2), @tf.function has experimental_relax_shapes=True option that relaxes argument shapes that can avoid unnecessary retracing. For (3), please refer to https://www.tensorflow.org/tutorials/customization/performance#python_or_tensor_args and https://www.tensorflow.org/api_docs/python/tf/function for  more details.\n"
     ]
    }
   ],
   "source": [
    "predicted2 = op0.predict(predict_req)"
   ]
  },
  {
   "cell_type": "code",
   "execution_count": 108,
   "metadata": {},
   "outputs": [
    {
     "data": {
      "text/html": [
       "<div>\n",
       "<style scoped>\n",
       "    .dataframe tbody tr th:only-of-type {\n",
       "        vertical-align: middle;\n",
       "    }\n",
       "\n",
       "    .dataframe tbody tr th {\n",
       "        vertical-align: top;\n",
       "    }\n",
       "\n",
       "    .dataframe thead th {\n",
       "        text-align: right;\n",
       "    }\n",
       "</style>\n",
       "<table border=\"1\" class=\"dataframe\">\n",
       "  <thead>\n",
       "    <tr style=\"text-align: right;\">\n",
       "      <th></th>\n",
       "      <th>Bidirectional LSTM</th>\n",
       "    </tr>\n",
       "  </thead>\n",
       "  <tbody>\n",
       "    <tr>\n",
       "      <th>0</th>\n",
       "      <td>8.873008</td>\n",
       "    </tr>\n",
       "    <tr>\n",
       "      <th>1</th>\n",
       "      <td>9.503883</td>\n",
       "    </tr>\n",
       "    <tr>\n",
       "      <th>2</th>\n",
       "      <td>9.149117</td>\n",
       "    </tr>\n",
       "    <tr>\n",
       "      <th>3</th>\n",
       "      <td>8.483627</td>\n",
       "    </tr>\n",
       "    <tr>\n",
       "      <th>4</th>\n",
       "      <td>8.912893</td>\n",
       "    </tr>\n",
       "    <tr>\n",
       "      <th>5</th>\n",
       "      <td>9.394436</td>\n",
       "    </tr>\n",
       "    <tr>\n",
       "      <th>6</th>\n",
       "      <td>8.264942</td>\n",
       "    </tr>\n",
       "    <tr>\n",
       "      <th>7</th>\n",
       "      <td>8.614160</td>\n",
       "    </tr>\n",
       "    <tr>\n",
       "      <th>8</th>\n",
       "      <td>9.226923</td>\n",
       "    </tr>\n",
       "    <tr>\n",
       "      <th>9</th>\n",
       "      <td>8.695553</td>\n",
       "    </tr>\n",
       "  </tbody>\n",
       "</table>\n",
       "</div>"
      ],
      "text/plain": [
       "   Bidirectional LSTM\n",
       "0            8.873008\n",
       "1            9.503883\n",
       "2            9.149117\n",
       "3            8.483627\n",
       "4            8.912893\n",
       "5            9.394436\n",
       "6            8.264942\n",
       "7            8.614160\n",
       "8            9.226923\n",
       "9            8.695553"
      ]
     },
     "execution_count": 108,
     "metadata": {},
     "output_type": "execute_result"
    }
   ],
   "source": [
    "predicted2"
   ]
  },
  {
   "cell_type": "code",
   "execution_count": 109,
   "metadata": {},
   "outputs": [
    {
     "name": "stdout",
     "output_type": "stream",
     "text": [
      "Epoch 1/200\n",
      "4/4 [==============================] - 0s 37ms/step - loss: 61.5984 - mean_squared_error: 61.5984 - val_loss: 75.3699 - val_mean_squared_error: 75.3699\n",
      "Epoch 2/200\n",
      "4/4 [==============================] - 0s 5ms/step - loss: 55.9573 - mean_squared_error: 55.9573 - val_loss: 69.1140 - val_mean_squared_error: 69.1140\n",
      "Epoch 3/200\n",
      "4/4 [==============================] - 0s 7ms/step - loss: 50.4616 - mean_squared_error: 50.4616 - val_loss: 60.4192 - val_mean_squared_error: 60.4192\n",
      "Epoch 4/200\n",
      "4/4 [==============================] - 0s 6ms/step - loss: 42.7490 - mean_squared_error: 42.7490 - val_loss: 48.6294 - val_mean_squared_error: 48.6294\n",
      "Epoch 5/200\n",
      "4/4 [==============================] - 0s 6ms/step - loss: 32.7991 - mean_squared_error: 32.7991 - val_loss: 34.0021 - val_mean_squared_error: 34.0021\n",
      "Epoch 6/200\n",
      "4/4 [==============================] - 0s 6ms/step - loss: 21.2593 - mean_squared_error: 21.2593 - val_loss: 19.4221 - val_mean_squared_error: 19.4221\n",
      "Epoch 7/200\n",
      "4/4 [==============================] - 0s 7ms/step - loss: 10.9371 - mean_squared_error: 10.9371 - val_loss: 8.1349 - val_mean_squared_error: 8.1349\n",
      "Epoch 8/200\n",
      "4/4 [==============================] - 0s 6ms/step - loss: 4.5014 - mean_squared_error: 4.5014 - val_loss: 2.8997 - val_mean_squared_error: 2.8997\n",
      "Epoch 9/200\n",
      "4/4 [==============================] - 0s 7ms/step - loss: 2.3494 - mean_squared_error: 2.3494 - val_loss: 1.7676 - val_mean_squared_error: 1.7676\n",
      "Epoch 10/200\n",
      "4/4 [==============================] - 0s 8ms/step - loss: 1.6340 - mean_squared_error: 1.6340 - val_loss: 0.9479 - val_mean_squared_error: 0.9479\n",
      "Epoch 11/200\n",
      "4/4 [==============================] - 0s 5ms/step - loss: 0.8638 - mean_squared_error: 0.8638 - val_loss: 0.9484 - val_mean_squared_error: 0.9484\n",
      "Epoch 12/200\n",
      "4/4 [==============================] - 0s 5ms/step - loss: 0.7167 - mean_squared_error: 0.7167 - val_loss: 1.0687 - val_mean_squared_error: 1.0687\n",
      "Epoch 13/200\n",
      "4/4 [==============================] - 0s 5ms/step - loss: 0.5923 - mean_squared_error: 0.5923 - val_loss: 0.7349 - val_mean_squared_error: 0.7349\n",
      "Epoch 14/200\n",
      "4/4 [==============================] - 0s 6ms/step - loss: 0.3884 - mean_squared_error: 0.3884 - val_loss: 0.4147 - val_mean_squared_error: 0.4147\n",
      "Epoch 15/200\n",
      "4/4 [==============================] - 0s 6ms/step - loss: 0.3381 - mean_squared_error: 0.3381 - val_loss: 0.3316 - val_mean_squared_error: 0.3316\n",
      "Epoch 16/200\n",
      "4/4 [==============================] - 0s 5ms/step - loss: 0.3380 - mean_squared_error: 0.3380 - val_loss: 0.2366 - val_mean_squared_error: 0.2366\n",
      "Epoch 17/200\n",
      "4/4 [==============================] - 0s 6ms/step - loss: 0.2200 - mean_squared_error: 0.2200 - val_loss: 0.1758 - val_mean_squared_error: 0.1758\n",
      "Epoch 18/200\n",
      "4/4 [==============================] - 0s 6ms/step - loss: 0.1400 - mean_squared_error: 0.1400 - val_loss: 0.2292 - val_mean_squared_error: 0.2292\n",
      "Epoch 19/200\n",
      "4/4 [==============================] - 0s 5ms/step - loss: 0.1416 - mean_squared_error: 0.1416 - val_loss: 0.2270 - val_mean_squared_error: 0.2270\n",
      "Epoch 20/200\n",
      "4/4 [==============================] - 0s 5ms/step - loss: 0.1414 - mean_squared_error: 0.1414 - val_loss: 0.1541 - val_mean_squared_error: 0.1541\n",
      "Epoch 21/200\n",
      "4/4 [==============================] - 0s 5ms/step - loss: 0.1314 - mean_squared_error: 0.1314 - val_loss: 0.1206 - val_mean_squared_error: 0.1206\n",
      "Epoch 22/200\n",
      "4/4 [==============================] - 0s 5ms/step - loss: 0.1301 - mean_squared_error: 0.1301 - val_loss: 0.1164 - val_mean_squared_error: 0.1164\n",
      "Epoch 23/200\n",
      "4/4 [==============================] - 0s 6ms/step - loss: 0.1257 - mean_squared_error: 0.1257 - val_loss: 0.1643 - val_mean_squared_error: 0.1643\n",
      "Epoch 24/200\n",
      "4/4 [==============================] - 0s 6ms/step - loss: 0.1194 - mean_squared_error: 0.1194 - val_loss: 0.1577 - val_mean_squared_error: 0.1577\n",
      "Epoch 25/200\n",
      "4/4 [==============================] - 0s 6ms/step - loss: 0.1184 - mean_squared_error: 0.1184 - val_loss: 0.1681 - val_mean_squared_error: 0.1681\n",
      "Epoch 26/200\n",
      "4/4 [==============================] - 0s 5ms/step - loss: 0.1212 - mean_squared_error: 0.1212 - val_loss: 0.1234 - val_mean_squared_error: 0.1234\n",
      "Epoch 27/200\n",
      "4/4 [==============================] - 0s 5ms/step - loss: 0.1137 - mean_squared_error: 0.1137 - val_loss: 0.1259 - val_mean_squared_error: 0.1259\n",
      "Epoch 28/200\n",
      "4/4 [==============================] - 0s 6ms/step - loss: 0.1133 - mean_squared_error: 0.1133 - val_loss: 0.1469 - val_mean_squared_error: 0.1469\n",
      "Epoch 29/200\n",
      "4/4 [==============================] - 0s 5ms/step - loss: 0.1134 - mean_squared_error: 0.1134 - val_loss: 0.1512 - val_mean_squared_error: 0.1512\n",
      "Epoch 30/200\n",
      "4/4 [==============================] - 0s 5ms/step - loss: 0.1123 - mean_squared_error: 0.1123 - val_loss: 0.1383 - val_mean_squared_error: 0.1383\n",
      "Epoch 31/200\n",
      "4/4 [==============================] - 0s 5ms/step - loss: 0.1123 - mean_squared_error: 0.1123 - val_loss: 0.1307 - val_mean_squared_error: 0.1307\n",
      "Epoch 32/200\n",
      "4/4 [==============================] - 0s 6ms/step - loss: 0.1128 - mean_squared_error: 0.1128 - val_loss: 0.1135 - val_mean_squared_error: 0.1135\n",
      "Epoch 33/200\n",
      "4/4 [==============================] - 0s 6ms/step - loss: 0.1156 - mean_squared_error: 0.1156 - val_loss: 0.1416 - val_mean_squared_error: 0.1416\n",
      "Epoch 34/200\n",
      "4/4 [==============================] - 0s 6ms/step - loss: 0.1117 - mean_squared_error: 0.1117 - val_loss: 0.1448 - val_mean_squared_error: 0.1448\n",
      "Epoch 35/200\n",
      "4/4 [==============================] - 0s 6ms/step - loss: 0.1111 - mean_squared_error: 0.1111 - val_loss: 0.1332 - val_mean_squared_error: 0.1332\n",
      "Epoch 36/200\n",
      "4/4 [==============================] - 0s 6ms/step - loss: 0.1108 - mean_squared_error: 0.1108 - val_loss: 0.1279 - val_mean_squared_error: 0.1279\n",
      "Epoch 37/200\n",
      "4/4 [==============================] - 0s 5ms/step - loss: 0.1121 - mean_squared_error: 0.1121 - val_loss: 0.1349 - val_mean_squared_error: 0.1349\n",
      "Epoch 38/200\n",
      "4/4 [==============================] - 0s 5ms/step - loss: 0.1118 - mean_squared_error: 0.1118 - val_loss: 0.1358 - val_mean_squared_error: 0.1358\n",
      "Epoch 39/200\n",
      "4/4 [==============================] - 0s 6ms/step - loss: 0.1106 - mean_squared_error: 0.1106 - val_loss: 0.1260 - val_mean_squared_error: 0.1260\n",
      "Epoch 40/200\n",
      "4/4 [==============================] - 0s 6ms/step - loss: 0.1115 - mean_squared_error: 0.1115 - val_loss: 0.1353 - val_mean_squared_error: 0.1353\n",
      "Epoch 41/200\n",
      "4/4 [==============================] - 0s 6ms/step - loss: 0.1114 - mean_squared_error: 0.1114 - val_loss: 0.1379 - val_mean_squared_error: 0.1379\n",
      "Epoch 42/200\n",
      "4/4 [==============================] - 0s 5ms/step - loss: 0.1101 - mean_squared_error: 0.1101 - val_loss: 0.1268 - val_mean_squared_error: 0.1268\n",
      "Epoch 43/200\n",
      "4/4 [==============================] - 0s 6ms/step - loss: 0.1125 - mean_squared_error: 0.1125 - val_loss: 0.1369 - val_mean_squared_error: 0.1369\n",
      "Epoch 44/200\n",
      "4/4 [==============================] - 0s 5ms/step - loss: 0.1113 - mean_squared_error: 0.1113 - val_loss: 0.1140 - val_mean_squared_error: 0.1140\n",
      "Epoch 45/200\n",
      "4/4 [==============================] - 0s 6ms/step - loss: 0.1120 - mean_squared_error: 0.1120 - val_loss: 0.1391 - val_mean_squared_error: 0.1391\n",
      "Epoch 46/200\n",
      "4/4 [==============================] - 0s 6ms/step - loss: 0.1099 - mean_squared_error: 0.1099 - val_loss: 0.1284 - val_mean_squared_error: 0.1284\n",
      "Epoch 47/200\n",
      "4/4 [==============================] - 0s 6ms/step - loss: 0.1101 - mean_squared_error: 0.1101 - val_loss: 0.1365 - val_mean_squared_error: 0.1365\n",
      "Epoch 48/200\n",
      "4/4 [==============================] - 0s 6ms/step - loss: 0.1109 - mean_squared_error: 0.1109 - val_loss: 0.1296 - val_mean_squared_error: 0.1296\n",
      "Epoch 49/200\n",
      "4/4 [==============================] - 0s 6ms/step - loss: 0.1113 - mean_squared_error: 0.1113 - val_loss: 0.1474 - val_mean_squared_error: 0.1474\n",
      "Epoch 50/200\n",
      "4/4 [==============================] - 0s 6ms/step - loss: 0.1095 - mean_squared_error: 0.1095 - val_loss: 0.1232 - val_mean_squared_error: 0.1232\n",
      "Epoch 51/200\n",
      "4/4 [==============================] - 0s 6ms/step - loss: 0.1158 - mean_squared_error: 0.1158 - val_loss: 0.1128 - val_mean_squared_error: 0.1128\n",
      "Epoch 52/200\n"
     ]
    },
    {
     "name": "stdout",
     "output_type": "stream",
     "text": [
      "4/4 [==============================] - 0s 6ms/step - loss: 0.1075 - mean_squared_error: 0.1075 - val_loss: 0.1572 - val_mean_squared_error: 0.1572\n",
      "Epoch 53/200\n",
      "4/4 [==============================] - 0s 6ms/step - loss: 0.1109 - mean_squared_error: 0.1109 - val_loss: 0.1617 - val_mean_squared_error: 0.1617\n",
      "Epoch 54/200\n",
      "4/4 [==============================] - 0s 6ms/step - loss: 0.1130 - mean_squared_error: 0.1130 - val_loss: 0.1220 - val_mean_squared_error: 0.1220\n",
      "Epoch 55/200\n",
      "4/4 [==============================] - 0s 6ms/step - loss: 0.1088 - mean_squared_error: 0.1088 - val_loss: 0.1370 - val_mean_squared_error: 0.1370\n",
      "Epoch 56/200\n",
      "4/4 [==============================] - 0s 6ms/step - loss: 0.1084 - mean_squared_error: 0.1084 - val_loss: 0.1314 - val_mean_squared_error: 0.1314\n",
      "Epoch 57/200\n",
      "4/4 [==============================] - 0s 6ms/step - loss: 0.1081 - mean_squared_error: 0.1081 - val_loss: 0.1432 - val_mean_squared_error: 0.1432\n",
      "Epoch 58/200\n",
      "4/4 [==============================] - 0s 6ms/step - loss: 0.1085 - mean_squared_error: 0.1085 - val_loss: 0.1328 - val_mean_squared_error: 0.1328\n",
      "Epoch 59/200\n",
      "4/4 [==============================] - 0s 6ms/step - loss: 0.1114 - mean_squared_error: 0.1114 - val_loss: 0.1191 - val_mean_squared_error: 0.1191\n",
      "Epoch 60/200\n",
      "4/4 [==============================] - 0s 5ms/step - loss: 0.1096 - mean_squared_error: 0.1096 - val_loss: 0.1574 - val_mean_squared_error: 0.1574\n",
      "Epoch 61/200\n",
      "4/4 [==============================] - 0s 5ms/step - loss: 0.1098 - mean_squared_error: 0.1098 - val_loss: 0.1327 - val_mean_squared_error: 0.1327\n",
      "Epoch 62/200\n",
      "4/4 [==============================] - 0s 6ms/step - loss: 0.1067 - mean_squared_error: 0.1067 - val_loss: 0.1336 - val_mean_squared_error: 0.1336\n",
      "Epoch 63/200\n",
      "4/4 [==============================] - 0s 6ms/step - loss: 0.1072 - mean_squared_error: 0.1072 - val_loss: 0.1195 - val_mean_squared_error: 0.1195\n",
      "Epoch 64/200\n",
      "4/4 [==============================] - 0s 5ms/step - loss: 0.1075 - mean_squared_error: 0.1075 - val_loss: 0.1338 - val_mean_squared_error: 0.1338\n",
      "Epoch 65/200\n",
      "4/4 [==============================] - 0s 6ms/step - loss: 0.1072 - mean_squared_error: 0.1072 - val_loss: 0.1281 - val_mean_squared_error: 0.1281\n",
      "Epoch 66/200\n",
      "4/4 [==============================] - 0s 6ms/step - loss: 0.1094 - mean_squared_error: 0.1094 - val_loss: 0.1290 - val_mean_squared_error: 0.1290\n",
      "Epoch 67/200\n",
      "4/4 [==============================] - 0s 7ms/step - loss: 0.1063 - mean_squared_error: 0.1063 - val_loss: 0.1433 - val_mean_squared_error: 0.1433\n",
      "Epoch 68/200\n",
      "4/4 [==============================] - 0s 6ms/step - loss: 0.1068 - mean_squared_error: 0.1068 - val_loss: 0.1381 - val_mean_squared_error: 0.1381\n",
      "Epoch 69/200\n",
      "4/4 [==============================] - 0s 6ms/step - loss: 0.1087 - mean_squared_error: 0.1087 - val_loss: 0.1130 - val_mean_squared_error: 0.1130\n",
      "Epoch 70/200\n",
      "4/4 [==============================] - 0s 6ms/step - loss: 0.1066 - mean_squared_error: 0.1066 - val_loss: 0.1416 - val_mean_squared_error: 0.1416\n",
      "Epoch 71/200\n",
      "4/4 [==============================] - 0s 5ms/step - loss: 0.1073 - mean_squared_error: 0.1073 - val_loss: 0.1319 - val_mean_squared_error: 0.1319\n",
      "Epoch 72/200\n",
      "4/4 [==============================] - 0s 6ms/step - loss: 0.1054 - mean_squared_error: 0.1054 - val_loss: 0.1337 - val_mean_squared_error: 0.1337\n",
      "Epoch 73/200\n",
      "4/4 [==============================] - 0s 5ms/step - loss: 0.1054 - mean_squared_error: 0.1054 - val_loss: 0.1265 - val_mean_squared_error: 0.1265\n",
      "Epoch 74/200\n",
      "4/4 [==============================] - 0s 5ms/step - loss: 0.1086 - mean_squared_error: 0.1086 - val_loss: 0.1499 - val_mean_squared_error: 0.1499\n",
      "Epoch 75/200\n",
      "4/4 [==============================] - 0s 6ms/step - loss: 0.1037 - mean_squared_error: 0.1037 - val_loss: 0.1181 - val_mean_squared_error: 0.1181\n",
      "Epoch 76/200\n",
      "4/4 [==============================] - 0s 5ms/step - loss: 0.1052 - mean_squared_error: 0.1052 - val_loss: 0.1163 - val_mean_squared_error: 0.1163\n",
      "Epoch 77/200\n",
      "4/4 [==============================] - 0s 5ms/step - loss: 0.1052 - mean_squared_error: 0.1052 - val_loss: 0.1286 - val_mean_squared_error: 0.1286\n",
      "Epoch 78/200\n",
      "4/4 [==============================] - 0s 5ms/step - loss: 0.1106 - mean_squared_error: 0.1106 - val_loss: 0.1629 - val_mean_squared_error: 0.1629\n",
      "Epoch 79/200\n",
      "4/4 [==============================] - 0s 6ms/step - loss: 0.1043 - mean_squared_error: 0.1043 - val_loss: 0.1310 - val_mean_squared_error: 0.1310\n",
      "Epoch 80/200\n",
      "4/4 [==============================] - 0s 5ms/step - loss: 0.1069 - mean_squared_error: 0.1069 - val_loss: 0.1021 - val_mean_squared_error: 0.1021\n",
      "Epoch 81/200\n",
      "4/4 [==============================] - 0s 5ms/step - loss: 0.1055 - mean_squared_error: 0.1055 - val_loss: 0.1320 - val_mean_squared_error: 0.1320\n",
      "Epoch 82/200\n",
      "4/4 [==============================] - 0s 6ms/step - loss: 0.1026 - mean_squared_error: 0.1026 - val_loss: 0.1452 - val_mean_squared_error: 0.1452\n",
      "Epoch 83/200\n",
      "4/4 [==============================] - 0s 5ms/step - loss: 0.1070 - mean_squared_error: 0.1070 - val_loss: 0.1615 - val_mean_squared_error: 0.1615\n",
      "Epoch 84/200\n",
      "4/4 [==============================] - 0s 6ms/step - loss: 0.1054 - mean_squared_error: 0.1054 - val_loss: 0.1065 - val_mean_squared_error: 0.1065\n",
      "Epoch 85/200\n",
      "4/4 [==============================] - 0s 5ms/step - loss: 0.1041 - mean_squared_error: 0.1041 - val_loss: 0.1234 - val_mean_squared_error: 0.1234\n",
      "Epoch 86/200\n",
      "4/4 [==============================] - 0s 6ms/step - loss: 0.1038 - mean_squared_error: 0.1038 - val_loss: 0.1403 - val_mean_squared_error: 0.1403\n",
      "Epoch 87/200\n",
      "4/4 [==============================] - 0s 5ms/step - loss: 0.1026 - mean_squared_error: 0.1026 - val_loss: 0.1322 - val_mean_squared_error: 0.1322\n",
      "Epoch 88/200\n",
      "4/4 [==============================] - 0s 6ms/step - loss: 0.1018 - mean_squared_error: 0.1018 - val_loss: 0.1321 - val_mean_squared_error: 0.1321\n",
      "Epoch 89/200\n",
      "4/4 [==============================] - 0s 6ms/step - loss: 0.1027 - mean_squared_error: 0.1027 - val_loss: 0.1098 - val_mean_squared_error: 0.1098\n",
      "Epoch 90/200\n",
      "4/4 [==============================] - 0s 5ms/step - loss: 0.1016 - mean_squared_error: 0.1016 - val_loss: 0.1294 - val_mean_squared_error: 0.1294\n",
      "Epoch 91/200\n",
      "4/4 [==============================] - 0s 6ms/step - loss: 0.1005 - mean_squared_error: 0.1005 - val_loss: 0.1501 - val_mean_squared_error: 0.1501\n",
      "Epoch 92/200\n",
      "4/4 [==============================] - 0s 5ms/step - loss: 0.1031 - mean_squared_error: 0.1031 - val_loss: 0.1363 - val_mean_squared_error: 0.1363\n",
      "Epoch 93/200\n",
      "4/4 [==============================] - 0s 7ms/step - loss: 0.1011 - mean_squared_error: 0.1011 - val_loss: 0.1182 - val_mean_squared_error: 0.1182\n",
      "Epoch 94/200\n",
      "4/4 [==============================] - 0s 5ms/step - loss: 0.1032 - mean_squared_error: 0.1032 - val_loss: 0.1136 - val_mean_squared_error: 0.1136\n",
      "Epoch 95/200\n",
      "4/4 [==============================] - 0s 7ms/step - loss: 0.1071 - mean_squared_error: 0.1071 - val_loss: 0.1674 - val_mean_squared_error: 0.1674\n",
      "Epoch 96/200\n",
      "4/4 [==============================] - 0s 7ms/step - loss: 0.1013 - mean_squared_error: 0.1013 - val_loss: 0.1268 - val_mean_squared_error: 0.1268\n",
      "Epoch 97/200\n",
      "4/4 [==============================] - 0s 7ms/step - loss: 0.0990 - mean_squared_error: 0.0990 - val_loss: 0.1013 - val_mean_squared_error: 0.1013\n",
      "Epoch 98/200\n",
      "4/4 [==============================] - 0s 8ms/step - loss: 0.1034 - mean_squared_error: 0.1034 - val_loss: 0.1080 - val_mean_squared_error: 0.1080\n",
      "Epoch 99/200\n",
      "4/4 [==============================] - 0s 7ms/step - loss: 0.0986 - mean_squared_error: 0.0986 - val_loss: 0.1471 - val_mean_squared_error: 0.1471\n",
      "Epoch 100/200\n",
      "4/4 [==============================] - 0s 8ms/step - loss: 0.1009 - mean_squared_error: 0.1009 - val_loss: 0.1667 - val_mean_squared_error: 0.1667\n",
      "Epoch 101/200\n",
      "4/4 [==============================] - 0s 7ms/step - loss: 0.1001 - mean_squared_error: 0.1001 - val_loss: 0.1202 - val_mean_squared_error: 0.1202\n",
      "Epoch 102/200\n",
      "4/4 [==============================] - 0s 8ms/step - loss: 0.1030 - mean_squared_error: 0.1030 - val_loss: 0.0985 - val_mean_squared_error: 0.0985\n",
      "Epoch 103/200\n"
     ]
    },
    {
     "name": "stdout",
     "output_type": "stream",
     "text": [
      "4/4 [==============================] - 0s 7ms/step - loss: 0.0992 - mean_squared_error: 0.0992 - val_loss: 0.1382 - val_mean_squared_error: 0.1382\n",
      "Epoch 104/200\n",
      "4/4 [==============================] - 0s 7ms/step - loss: 0.1047 - mean_squared_error: 0.1047 - val_loss: 0.1586 - val_mean_squared_error: 0.1586\n",
      "Epoch 105/200\n",
      "4/4 [==============================] - 0s 7ms/step - loss: 0.1022 - mean_squared_error: 0.1022 - val_loss: 0.1054 - val_mean_squared_error: 0.1054\n",
      "Epoch 106/200\n",
      "4/4 [==============================] - 0s 7ms/step - loss: 0.1003 - mean_squared_error: 0.1003 - val_loss: 0.1248 - val_mean_squared_error: 0.1248\n",
      "Epoch 107/200\n",
      "4/4 [==============================] - 0s 7ms/step - loss: 0.1019 - mean_squared_error: 0.1019 - val_loss: 0.1486 - val_mean_squared_error: 0.1486\n",
      "Epoch 108/200\n",
      "4/4 [==============================] - 0s 6ms/step - loss: 0.1050 - mean_squared_error: 0.1050 - val_loss: 0.1015 - val_mean_squared_error: 0.1015\n",
      "Epoch 109/200\n",
      "4/4 [==============================] - 0s 7ms/step - loss: 0.1000 - mean_squared_error: 0.1000 - val_loss: 0.1437 - val_mean_squared_error: 0.1437\n",
      "Epoch 110/200\n",
      "4/4 [==============================] - 0s 6ms/step - loss: 0.1012 - mean_squared_error: 0.1012 - val_loss: 0.1377 - val_mean_squared_error: 0.1377\n",
      "Epoch 111/200\n",
      "4/4 [==============================] - 0s 7ms/step - loss: 0.0981 - mean_squared_error: 0.0981 - val_loss: 0.1013 - val_mean_squared_error: 0.1013\n",
      "Epoch 112/200\n",
      "4/4 [==============================] - 0s 8ms/step - loss: 0.1000 - mean_squared_error: 0.1000 - val_loss: 0.1303 - val_mean_squared_error: 0.1303\n",
      "Epoch 113/200\n",
      "4/4 [==============================] - 0s 6ms/step - loss: 0.1009 - mean_squared_error: 0.1009 - val_loss: 0.1207 - val_mean_squared_error: 0.1207\n",
      "Epoch 114/200\n",
      "4/4 [==============================] - 0s 6ms/step - loss: 0.0951 - mean_squared_error: 0.0951 - val_loss: 0.1602 - val_mean_squared_error: 0.1602\n",
      "Epoch 115/200\n",
      "4/4 [==============================] - 0s 6ms/step - loss: 0.0983 - mean_squared_error: 0.0983 - val_loss: 0.1378 - val_mean_squared_error: 0.1378\n",
      "Epoch 116/200\n",
      "4/4 [==============================] - 0s 7ms/step - loss: 0.0960 - mean_squared_error: 0.0960 - val_loss: 0.1164 - val_mean_squared_error: 0.1164\n",
      "Epoch 117/200\n",
      "4/4 [==============================] - 0s 6ms/step - loss: 0.1066 - mean_squared_error: 0.1066 - val_loss: 0.0932 - val_mean_squared_error: 0.0932\n",
      "Epoch 118/200\n",
      "4/4 [==============================] - 0s 6ms/step - loss: 0.1003 - mean_squared_error: 0.1003 - val_loss: 0.1715 - val_mean_squared_error: 0.1715\n",
      "Epoch 119/200\n",
      "4/4 [==============================] - 0s 5ms/step - loss: 0.1001 - mean_squared_error: 0.1001 - val_loss: 0.1355 - val_mean_squared_error: 0.1355\n",
      "Epoch 120/200\n",
      "4/4 [==============================] - 0s 7ms/step - loss: 0.0949 - mean_squared_error: 0.0949 - val_loss: 0.1150 - val_mean_squared_error: 0.1150\n",
      "Epoch 121/200\n",
      "4/4 [==============================] - 0s 6ms/step - loss: 0.0960 - mean_squared_error: 0.0960 - val_loss: 0.1166 - val_mean_squared_error: 0.1166\n",
      "Epoch 122/200\n",
      "4/4 [==============================] - 0s 5ms/step - loss: 0.0973 - mean_squared_error: 0.0973 - val_loss: 0.1171 - val_mean_squared_error: 0.1171\n",
      "Epoch 123/200\n",
      "4/4 [==============================] - 0s 5ms/step - loss: 0.0937 - mean_squared_error: 0.0937 - val_loss: 0.1446 - val_mean_squared_error: 0.1446\n",
      "Epoch 124/200\n",
      "4/4 [==============================] - 0s 5ms/step - loss: 0.0958 - mean_squared_error: 0.0958 - val_loss: 0.1380 - val_mean_squared_error: 0.1380\n",
      "Epoch 125/200\n",
      "4/4 [==============================] - 0s 5ms/step - loss: 0.0944 - mean_squared_error: 0.0944 - val_loss: 0.1061 - val_mean_squared_error: 0.1061\n",
      "Epoch 126/200\n",
      "4/4 [==============================] - 0s 5ms/step - loss: 0.0945 - mean_squared_error: 0.0945 - val_loss: 0.1264 - val_mean_squared_error: 0.1264\n",
      "Epoch 127/200\n",
      "4/4 [==============================] - 0s 5ms/step - loss: 0.0963 - mean_squared_error: 0.0963 - val_loss: 0.1369 - val_mean_squared_error: 0.1369\n",
      "Epoch 128/200\n",
      "4/4 [==============================] - 0s 5ms/step - loss: 0.0942 - mean_squared_error: 0.0942 - val_loss: 0.1169 - val_mean_squared_error: 0.1169\n",
      "Epoch 129/200\n",
      "4/4 [==============================] - 0s 5ms/step - loss: 0.0932 - mean_squared_error: 0.0932 - val_loss: 0.1198 - val_mean_squared_error: 0.1198\n",
      "Epoch 130/200\n",
      "4/4 [==============================] - 0s 5ms/step - loss: 0.0964 - mean_squared_error: 0.0964 - val_loss: 0.1378 - val_mean_squared_error: 0.1378\n",
      "Epoch 131/200\n",
      "4/4 [==============================] - 0s 6ms/step - loss: 0.0920 - mean_squared_error: 0.0920 - val_loss: 0.0995 - val_mean_squared_error: 0.0995\n",
      "Epoch 132/200\n",
      "4/4 [==============================] - 0s 6ms/step - loss: 0.0950 - mean_squared_error: 0.0950 - val_loss: 0.1221 - val_mean_squared_error: 0.1221\n",
      "Epoch 133/200\n",
      "4/4 [==============================] - 0s 6ms/step - loss: 0.0923 - mean_squared_error: 0.0923 - val_loss: 0.1171 - val_mean_squared_error: 0.1171\n",
      "Epoch 134/200\n",
      "4/4 [==============================] - 0s 6ms/step - loss: 0.0926 - mean_squared_error: 0.0926 - val_loss: 0.1124 - val_mean_squared_error: 0.1124\n",
      "Epoch 135/200\n",
      "4/4 [==============================] - 0s 6ms/step - loss: 0.0913 - mean_squared_error: 0.0913 - val_loss: 0.1320 - val_mean_squared_error: 0.1320\n",
      "Epoch 136/200\n",
      "4/4 [==============================] - 0s 5ms/step - loss: 0.0915 - mean_squared_error: 0.0915 - val_loss: 0.1345 - val_mean_squared_error: 0.1345\n",
      "Epoch 137/200\n",
      "4/4 [==============================] - 0s 6ms/step - loss: 0.0924 - mean_squared_error: 0.0924 - val_loss: 0.1076 - val_mean_squared_error: 0.1076\n",
      "Epoch 138/200\n",
      "4/4 [==============================] - 0s 6ms/step - loss: 0.0926 - mean_squared_error: 0.0926 - val_loss: 0.1181 - val_mean_squared_error: 0.1181\n",
      "Epoch 139/200\n",
      "4/4 [==============================] - 0s 6ms/step - loss: 0.0933 - mean_squared_error: 0.0933 - val_loss: 0.1537 - val_mean_squared_error: 0.1537\n",
      "Epoch 140/200\n",
      "4/4 [==============================] - 0s 6ms/step - loss: 0.0929 - mean_squared_error: 0.0929 - val_loss: 0.1056 - val_mean_squared_error: 0.1056\n",
      "Epoch 141/200\n",
      "4/4 [==============================] - 0s 6ms/step - loss: 0.0912 - mean_squared_error: 0.0912 - val_loss: 0.1212 - val_mean_squared_error: 0.1212\n",
      "Epoch 142/200\n",
      "4/4 [==============================] - 0s 6ms/step - loss: 0.0946 - mean_squared_error: 0.0946 - val_loss: 0.1141 - val_mean_squared_error: 0.1141\n",
      "Epoch 143/200\n",
      "4/4 [==============================] - 0s 6ms/step - loss: 0.0919 - mean_squared_error: 0.0919 - val_loss: 0.1608 - val_mean_squared_error: 0.1608\n",
      "Epoch 144/200\n",
      "4/4 [==============================] - 0s 6ms/step - loss: 0.0915 - mean_squared_error: 0.0915 - val_loss: 0.1050 - val_mean_squared_error: 0.1050\n",
      "Epoch 145/200\n",
      "4/4 [==============================] - 0s 6ms/step - loss: 0.0968 - mean_squared_error: 0.0968 - val_loss: 0.1018 - val_mean_squared_error: 0.1018\n",
      "Epoch 146/200\n",
      "4/4 [==============================] - 0s 6ms/step - loss: 0.0910 - mean_squared_error: 0.0910 - val_loss: 0.1592 - val_mean_squared_error: 0.1592\n",
      "Epoch 147/200\n",
      "4/4 [==============================] - 0s 5ms/step - loss: 0.0978 - mean_squared_error: 0.0978 - val_loss: 0.1125 - val_mean_squared_error: 0.1125\n",
      "Epoch 148/200\n",
      "4/4 [==============================] - 0s 6ms/step - loss: 0.0964 - mean_squared_error: 0.0964 - val_loss: 0.1436 - val_mean_squared_error: 0.1436\n",
      "Epoch 149/200\n",
      "4/4 [==============================] - 0s 7ms/step - loss: 0.0941 - mean_squared_error: 0.0941 - val_loss: 0.0996 - val_mean_squared_error: 0.0996\n",
      "Epoch 150/200\n",
      "4/4 [==============================] - 0s 6ms/step - loss: 0.0951 - mean_squared_error: 0.0951 - val_loss: 0.1294 - val_mean_squared_error: 0.1294\n",
      "Epoch 151/200\n",
      "4/4 [==============================] - 0s 7ms/step - loss: 0.0890 - mean_squared_error: 0.0890 - val_loss: 0.1441 - val_mean_squared_error: 0.1441\n",
      "Epoch 152/200\n",
      "4/4 [==============================] - 0s 6ms/step - loss: 0.0897 - mean_squared_error: 0.0897 - val_loss: 0.1297 - val_mean_squared_error: 0.1297\n",
      "Epoch 153/200\n",
      "4/4 [==============================] - 0s 6ms/step - loss: 0.0906 - mean_squared_error: 0.0906 - val_loss: 0.1272 - val_mean_squared_error: 0.1272\n"
     ]
    },
    {
     "name": "stdout",
     "output_type": "stream",
     "text": [
      "Epoch 154/200\n",
      "4/4 [==============================] - 0s 6ms/step - loss: 0.0979 - mean_squared_error: 0.0979 - val_loss: 0.0915 - val_mean_squared_error: 0.0915\n",
      "Epoch 155/200\n",
      "4/4 [==============================] - 0s 6ms/step - loss: 0.0881 - mean_squared_error: 0.0881 - val_loss: 0.1592 - val_mean_squared_error: 0.1592\n",
      "Epoch 156/200\n",
      "4/4 [==============================] - 0s 6ms/step - loss: 0.0899 - mean_squared_error: 0.0899 - val_loss: 0.1155 - val_mean_squared_error: 0.1155\n",
      "Epoch 157/200\n",
      "4/4 [==============================] - 0s 6ms/step - loss: 0.0926 - mean_squared_error: 0.0926 - val_loss: 0.1123 - val_mean_squared_error: 0.1123\n",
      "Epoch 158/200\n",
      "4/4 [==============================] - 0s 6ms/step - loss: 0.0959 - mean_squared_error: 0.0959 - val_loss: 0.1564 - val_mean_squared_error: 0.1564\n",
      "Epoch 159/200\n",
      "4/4 [==============================] - 0s 6ms/step - loss: 0.0883 - mean_squared_error: 0.0883 - val_loss: 0.1002 - val_mean_squared_error: 0.1002\n",
      "Epoch 160/200\n",
      "4/4 [==============================] - 0s 6ms/step - loss: 0.0899 - mean_squared_error: 0.0899 - val_loss: 0.1172 - val_mean_squared_error: 0.1172\n",
      "Epoch 161/200\n",
      "4/4 [==============================] - 0s 6ms/step - loss: 0.0874 - mean_squared_error: 0.0874 - val_loss: 0.1231 - val_mean_squared_error: 0.1231\n",
      "Epoch 162/200\n",
      "4/4 [==============================] - 0s 7ms/step - loss: 0.0883 - mean_squared_error: 0.0883 - val_loss: 0.1476 - val_mean_squared_error: 0.1476\n",
      "Epoch 163/200\n",
      "4/4 [==============================] - 0s 6ms/step - loss: 0.0880 - mean_squared_error: 0.0880 - val_loss: 0.0929 - val_mean_squared_error: 0.0929\n",
      "Epoch 164/200\n",
      "4/4 [==============================] - 0s 5ms/step - loss: 0.0938 - mean_squared_error: 0.0938 - val_loss: 0.1410 - val_mean_squared_error: 0.1410\n",
      "Epoch 165/200\n",
      "4/4 [==============================] - 0s 6ms/step - loss: 0.0903 - mean_squared_error: 0.0903 - val_loss: 0.0989 - val_mean_squared_error: 0.0989\n",
      "Epoch 166/200\n",
      "4/4 [==============================] - 0s 6ms/step - loss: 0.0904 - mean_squared_error: 0.0904 - val_loss: 0.1325 - val_mean_squared_error: 0.1325\n",
      "Epoch 167/200\n",
      "4/4 [==============================] - 0s 6ms/step - loss: 0.0892 - mean_squared_error: 0.0892 - val_loss: 0.0997 - val_mean_squared_error: 0.0997\n",
      "Epoch 168/200\n",
      "4/4 [==============================] - 0s 6ms/step - loss: 0.0831 - mean_squared_error: 0.0831 - val_loss: 0.1443 - val_mean_squared_error: 0.1443\n",
      "Epoch 169/200\n",
      "4/4 [==============================] - 0s 6ms/step - loss: 0.0892 - mean_squared_error: 0.0892 - val_loss: 0.1243 - val_mean_squared_error: 0.1243\n",
      "Epoch 170/200\n",
      "4/4 [==============================] - 0s 5ms/step - loss: 0.0899 - mean_squared_error: 0.0899 - val_loss: 0.0959 - val_mean_squared_error: 0.0959\n",
      "Epoch 171/200\n",
      "4/4 [==============================] - 0s 6ms/step - loss: 0.0866 - mean_squared_error: 0.0866 - val_loss: 0.1293 - val_mean_squared_error: 0.1293\n",
      "Epoch 172/200\n",
      "4/4 [==============================] - 0s 6ms/step - loss: 0.0920 - mean_squared_error: 0.0920 - val_loss: 0.1113 - val_mean_squared_error: 0.1113\n",
      "Epoch 173/200\n",
      "4/4 [==============================] - 0s 5ms/step - loss: 0.0864 - mean_squared_error: 0.0864 - val_loss: 0.1140 - val_mean_squared_error: 0.1140\n",
      "Epoch 174/200\n",
      "4/4 [==============================] - 0s 6ms/step - loss: 0.0864 - mean_squared_error: 0.0864 - val_loss: 0.1090 - val_mean_squared_error: 0.1090\n",
      "Epoch 175/200\n",
      "4/4 [==============================] - 0s 6ms/step - loss: 0.0841 - mean_squared_error: 0.0841 - val_loss: 0.0996 - val_mean_squared_error: 0.0996\n",
      "Epoch 176/200\n",
      "4/4 [==============================] - 0s 7ms/step - loss: 0.0840 - mean_squared_error: 0.0840 - val_loss: 0.1250 - val_mean_squared_error: 0.1250\n",
      "Epoch 177/200\n",
      "4/4 [==============================] - 0s 6ms/step - loss: 0.0824 - mean_squared_error: 0.0824 - val_loss: 0.1133 - val_mean_squared_error: 0.1133\n",
      "Epoch 178/200\n",
      "4/4 [==============================] - 0s 6ms/step - loss: 0.0821 - mean_squared_error: 0.0821 - val_loss: 0.1145 - val_mean_squared_error: 0.1145\n",
      "Epoch 179/200\n",
      "4/4 [==============================] - 0s 6ms/step - loss: 0.0812 - mean_squared_error: 0.0812 - val_loss: 0.1226 - val_mean_squared_error: 0.1226\n",
      "Epoch 180/200\n",
      "4/4 [==============================] - 0s 5ms/step - loss: 0.0829 - mean_squared_error: 0.0829 - val_loss: 0.1289 - val_mean_squared_error: 0.1289\n",
      "Epoch 181/200\n",
      "4/4 [==============================] - 0s 7ms/step - loss: 0.0805 - mean_squared_error: 0.0805 - val_loss: 0.1049 - val_mean_squared_error: 0.1049\n",
      "Epoch 182/200\n",
      "4/4 [==============================] - 0s 6ms/step - loss: 0.0841 - mean_squared_error: 0.0841 - val_loss: 0.1035 - val_mean_squared_error: 0.1035\n",
      "Epoch 183/200\n",
      "4/4 [==============================] - 0s 5ms/step - loss: 0.0843 - mean_squared_error: 0.0843 - val_loss: 0.1299 - val_mean_squared_error: 0.1299\n",
      "Epoch 184/200\n",
      "4/4 [==============================] - 0s 6ms/step - loss: 0.0821 - mean_squared_error: 0.0821 - val_loss: 0.1065 - val_mean_squared_error: 0.1065\n",
      "Epoch 185/200\n",
      "4/4 [==============================] - 0s 6ms/step - loss: 0.0824 - mean_squared_error: 0.0824 - val_loss: 0.1133 - val_mean_squared_error: 0.1133\n",
      "Epoch 186/200\n",
      "4/4 [==============================] - 0s 6ms/step - loss: 0.0790 - mean_squared_error: 0.0790 - val_loss: 0.0973 - val_mean_squared_error: 0.0973\n",
      "Epoch 187/200\n",
      "4/4 [==============================] - 0s 6ms/step - loss: 0.0805 - mean_squared_error: 0.0805 - val_loss: 0.1051 - val_mean_squared_error: 0.1051\n",
      "Epoch 188/200\n",
      "4/4 [==============================] - 0s 6ms/step - loss: 0.0873 - mean_squared_error: 0.0873 - val_loss: 0.1097 - val_mean_squared_error: 0.1097\n",
      "Epoch 189/200\n",
      "4/4 [==============================] - 0s 5ms/step - loss: 0.0828 - mean_squared_error: 0.0828 - val_loss: 0.1568 - val_mean_squared_error: 0.1568\n",
      "Epoch 190/200\n",
      "4/4 [==============================] - 0s 5ms/step - loss: 0.0828 - mean_squared_error: 0.0828 - val_loss: 0.1042 - val_mean_squared_error: 0.1042\n",
      "Epoch 191/200\n",
      "4/4 [==============================] - 0s 5ms/step - loss: 0.0826 - mean_squared_error: 0.0826 - val_loss: 0.0920 - val_mean_squared_error: 0.0920\n",
      "Epoch 192/200\n",
      "4/4 [==============================] - 0s 5ms/step - loss: 0.0812 - mean_squared_error: 0.0812 - val_loss: 0.1532 - val_mean_squared_error: 0.1532\n",
      "Epoch 193/200\n",
      "4/4 [==============================] - 0s 6ms/step - loss: 0.0797 - mean_squared_error: 0.0797 - val_loss: 0.1056 - val_mean_squared_error: 0.1056\n",
      "Epoch 194/200\n",
      "4/4 [==============================] - 0s 5ms/step - loss: 0.0854 - mean_squared_error: 0.0854 - val_loss: 0.0932 - val_mean_squared_error: 0.0932\n",
      "Epoch 195/200\n",
      "4/4 [==============================] - 0s 6ms/step - loss: 0.0880 - mean_squared_error: 0.0880 - val_loss: 0.1538 - val_mean_squared_error: 0.1538\n",
      "Epoch 196/200\n",
      "4/4 [==============================] - 0s 6ms/step - loss: 0.0795 - mean_squared_error: 0.0795 - val_loss: 0.0919 - val_mean_squared_error: 0.0919\n",
      "Epoch 197/200\n",
      "4/4 [==============================] - 0s 6ms/step - loss: 0.0878 - mean_squared_error: 0.0878 - val_loss: 0.1050 - val_mean_squared_error: 0.1050\n",
      "Epoch 198/200\n",
      "4/4 [==============================] - 0s 6ms/step - loss: 0.0777 - mean_squared_error: 0.0777 - val_loss: 0.1595 - val_mean_squared_error: 0.1595\n",
      "Epoch 199/200\n",
      "4/4 [==============================] - 0s 7ms/step - loss: 0.0851 - mean_squared_error: 0.0851 - val_loss: 0.1017 - val_mean_squared_error: 0.1017\n",
      "Epoch 200/200\n",
      "4/4 [==============================] - 0s 6ms/step - loss: 0.0804 - mean_squared_error: 0.0804 - val_loss: 0.0847 - val_mean_squared_error: 0.0847\n"
     ]
    },
    {
     "data": {
      "image/png": "[encoded data removed]",
      "text/plain": [
       "<Figure size 432x288 with 2 Axes>"
      ]
     },
     "metadata": {
      "needs_background": "light"
     },
     "output_type": "display_data"
    }
   ],
   "source": [
    "op1 = BasicUnivariatePredictor(training, 24, 10)\n",
    "op1.create_cnn()\n",
    "op1.fit_model(200)\n",
    "op1.show_performance()"
   ]
  },
  {
   "cell_type": "code",
   "execution_count": 110,
   "metadata": {},
   "outputs": [
    {
     "name": "stdout",
     "output_type": "stream",
     "text": [
      "WARNING:tensorflow:8 out of the last 8 calls to <function Model.make_predict_function.<locals>.predict_function at 0x0000019536597940> triggered tf.function retracing. Tracing is expensive and the excessive number of tracings could be due to (1) creating @tf.function repeatedly in a loop, (2) passing tensors with different shapes, (3) passing Python objects instead of tensors. For (1), please define your @tf.function outside of the loop. For (2), @tf.function has experimental_relax_shapes=True option that relaxes argument shapes that can avoid unnecessary retracing. For (3), please refer to https://www.tensorflow.org/tutorials/customization/performance#python_or_tensor_args and https://www.tensorflow.org/api_docs/python/tf/function for  more details.\n"
     ]
    },
    {
     "name": "stderr",
     "output_type": "stream",
     "text": [
      "WARNING:tensorflow:8 out of the last 8 calls to <function Model.make_predict_function.<locals>.predict_function at 0x0000019536597940> triggered tf.function retracing. Tracing is expensive and the excessive number of tracings could be due to (1) creating @tf.function repeatedly in a loop, (2) passing tensors with different shapes, (3) passing Python objects instead of tensors. For (1), please define your @tf.function outside of the loop. For (2), @tf.function has experimental_relax_shapes=True option that relaxes argument shapes that can avoid unnecessary retracing. For (3), please refer to https://www.tensorflow.org/tutorials/customization/performance#python_or_tensor_args and https://www.tensorflow.org/api_docs/python/tf/function for  more details.\n"
     ]
    }
   ],
   "source": [
    "predicted3 = op1.predict(predict_req)"
   ]
  },
  {
   "cell_type": "code",
   "execution_count": 111,
   "metadata": {},
   "outputs": [
    {
     "data": {
      "text/html": [
       "<div>\n",
       "<style scoped>\n",
       "    .dataframe tbody tr th:only-of-type {\n",
       "        vertical-align: middle;\n",
       "    }\n",
       "\n",
       "    .dataframe tbody tr th {\n",
       "        vertical-align: top;\n",
       "    }\n",
       "\n",
       "    .dataframe thead th {\n",
       "        text-align: right;\n",
       "    }\n",
       "</style>\n",
       "<table border=\"1\" class=\"dataframe\">\n",
       "  <thead>\n",
       "    <tr style=\"text-align: right;\">\n",
       "      <th></th>\n",
       "      <th>CNN</th>\n",
       "    </tr>\n",
       "  </thead>\n",
       "  <tbody>\n",
       "    <tr>\n",
       "      <th>0</th>\n",
       "      <td>9.690488</td>\n",
       "    </tr>\n",
       "    <tr>\n",
       "      <th>1</th>\n",
       "      <td>9.948913</td>\n",
       "    </tr>\n",
       "    <tr>\n",
       "      <th>2</th>\n",
       "      <td>9.902168</td>\n",
       "    </tr>\n",
       "    <tr>\n",
       "      <th>3</th>\n",
       "      <td>9.816916</td>\n",
       "    </tr>\n",
       "    <tr>\n",
       "      <th>4</th>\n",
       "      <td>9.872331</td>\n",
       "    </tr>\n",
       "    <tr>\n",
       "      <th>5</th>\n",
       "      <td>10.000324</td>\n",
       "    </tr>\n",
       "    <tr>\n",
       "      <th>6</th>\n",
       "      <td>9.941864</td>\n",
       "    </tr>\n",
       "    <tr>\n",
       "      <th>7</th>\n",
       "      <td>10.087987</td>\n",
       "    </tr>\n",
       "    <tr>\n",
       "      <th>8</th>\n",
       "      <td>10.266931</td>\n",
       "    </tr>\n",
       "    <tr>\n",
       "      <th>9</th>\n",
       "      <td>10.111290</td>\n",
       "    </tr>\n",
       "  </tbody>\n",
       "</table>\n",
       "</div>"
      ],
      "text/plain": [
       "         CNN\n",
       "0   9.690488\n",
       "1   9.948913\n",
       "2   9.902168\n",
       "3   9.816916\n",
       "4   9.872331\n",
       "5  10.000324\n",
       "6   9.941864\n",
       "7  10.087987\n",
       "8  10.266931\n",
       "9  10.111290"
      ]
     },
     "execution_count": 111,
     "metadata": {},
     "output_type": "execute_result"
    }
   ],
   "source": [
    "predicted3"
   ]
  },
  {
   "cell_type": "code",
   "execution_count": 147,
   "metadata": {},
   "outputs": [
    {
     "data": {
      "text/html": [
       "<div>\n",
       "<style scoped>\n",
       "    .dataframe tbody tr th:only-of-type {\n",
       "        vertical-align: middle;\n",
       "    }\n",
       "\n",
       "    .dataframe tbody tr th {\n",
       "        vertical-align: top;\n",
       "    }\n",
       "\n",
       "    .dataframe thead th {\n",
       "        text-align: right;\n",
       "    }\n",
       "</style>\n",
       "<table border=\"1\" class=\"dataframe\">\n",
       "  <thead>\n",
       "    <tr style=\"text-align: right;\">\n",
       "      <th></th>\n",
       "      <th>Close</th>\n",
       "    </tr>\n",
       "    <tr>\n",
       "      <th>Date</th>\n",
       "      <th></th>\n",
       "    </tr>\n",
       "  </thead>\n",
       "  <tbody>\n",
       "    <tr>\n",
       "      <th>2010-07-06</th>\n",
       "      <td>8.879643</td>\n",
       "    </tr>\n",
       "    <tr>\n",
       "      <th>2010-07-07</th>\n",
       "      <td>9.238214</td>\n",
       "    </tr>\n",
       "    <tr>\n",
       "      <th>2010-07-08</th>\n",
       "      <td>9.217500</td>\n",
       "    </tr>\n",
       "    <tr>\n",
       "      <th>2010-07-09</th>\n",
       "      <td>9.272143</td>\n",
       "    </tr>\n",
       "    <tr>\n",
       "      <th>2010-07-12</th>\n",
       "      <td>9.188929</td>\n",
       "    </tr>\n",
       "    <tr>\n",
       "      <th>2010-07-13</th>\n",
       "      <td>8.992857</td>\n",
       "    </tr>\n",
       "    <tr>\n",
       "      <th>2010-07-14</th>\n",
       "      <td>9.026071</td>\n",
       "    </tr>\n",
       "    <tr>\n",
       "      <th>2010-07-15</th>\n",
       "      <td>8.980357</td>\n",
       "    </tr>\n",
       "    <tr>\n",
       "      <th>2010-07-16</th>\n",
       "      <td>8.925000</td>\n",
       "    </tr>\n",
       "    <tr>\n",
       "      <th>2010-07-19</th>\n",
       "      <td>8.770714</td>\n",
       "    </tr>\n",
       "  </tbody>\n",
       "</table>\n",
       "</div>"
      ],
      "text/plain": [
       "               Close\n",
       "Date                \n",
       "2010-07-06  8.879643\n",
       "2010-07-07  9.238214\n",
       "2010-07-08  9.217500\n",
       "2010-07-09  9.272143\n",
       "2010-07-12  9.188929\n",
       "2010-07-13  8.992857\n",
       "2010-07-14  9.026071\n",
       "2010-07-15  8.980357\n",
       "2010-07-16  8.925000\n",
       "2010-07-19  8.770714"
      ]
     },
     "execution_count": 147,
     "metadata": {},
     "output_type": "execute_result"
    }
   ],
   "source": [
    "real"
   ]
  },
  {
   "cell_type": "code",
   "execution_count": 133,
   "metadata": {},
   "outputs": [],
   "source": [
    "final_df = pd.concat([predicted, predicted2, predicted3], axis=1)\n"
   ]
  },
  {
   "cell_type": "code",
   "execution_count": 143,
   "metadata": {},
   "outputs": [
    {
     "data": {
      "text/html": [
       "<div>\n",
       "<style scoped>\n",
       "    .dataframe tbody tr th:only-of-type {\n",
       "        vertical-align: middle;\n",
       "    }\n",
       "\n",
       "    .dataframe tbody tr th {\n",
       "        vertical-align: top;\n",
       "    }\n",
       "\n",
       "    .dataframe thead th {\n",
       "        text-align: right;\n",
       "    }\n",
       "</style>\n",
       "<table border=\"1\" class=\"dataframe\">\n",
       "  <thead>\n",
       "    <tr style=\"text-align: right;\">\n",
       "      <th></th>\n",
       "      <th>CNN-LSTM</th>\n",
       "      <th>Bidirectional LSTM</th>\n",
       "      <th>CNN</th>\n",
       "    </tr>\n",
       "  </thead>\n",
       "  <tbody>\n",
       "    <tr>\n",
       "      <th>0</th>\n",
       "      <td>9.672359</td>\n",
       "      <td>8.873008</td>\n",
       "      <td>9.690488</td>\n",
       "    </tr>\n",
       "    <tr>\n",
       "      <th>1</th>\n",
       "      <td>9.635760</td>\n",
       "      <td>9.503883</td>\n",
       "      <td>9.948913</td>\n",
       "    </tr>\n",
       "    <tr>\n",
       "      <th>2</th>\n",
       "      <td>9.947772</td>\n",
       "      <td>9.149117</td>\n",
       "      <td>9.902168</td>\n",
       "    </tr>\n",
       "    <tr>\n",
       "      <th>3</th>\n",
       "      <td>10.329806</td>\n",
       "      <td>8.483627</td>\n",
       "      <td>9.816916</td>\n",
       "    </tr>\n",
       "    <tr>\n",
       "      <th>4</th>\n",
       "      <td>10.137950</td>\n",
       "      <td>8.912893</td>\n",
       "      <td>9.872331</td>\n",
       "    </tr>\n",
       "    <tr>\n",
       "      <th>5</th>\n",
       "      <td>10.152438</td>\n",
       "      <td>9.394436</td>\n",
       "      <td>10.000324</td>\n",
       "    </tr>\n",
       "    <tr>\n",
       "      <th>6</th>\n",
       "      <td>9.962451</td>\n",
       "      <td>8.264942</td>\n",
       "      <td>9.941864</td>\n",
       "    </tr>\n",
       "    <tr>\n",
       "      <th>7</th>\n",
       "      <td>10.381300</td>\n",
       "      <td>8.614160</td>\n",
       "      <td>10.087987</td>\n",
       "    </tr>\n",
       "    <tr>\n",
       "      <th>8</th>\n",
       "      <td>10.322065</td>\n",
       "      <td>9.226923</td>\n",
       "      <td>10.266931</td>\n",
       "    </tr>\n",
       "    <tr>\n",
       "      <th>9</th>\n",
       "      <td>10.027566</td>\n",
       "      <td>8.695553</td>\n",
       "      <td>10.111290</td>\n",
       "    </tr>\n",
       "  </tbody>\n",
       "</table>\n",
       "</div>"
      ],
      "text/plain": [
       "    CNN-LSTM  Bidirectional LSTM        CNN\n",
       "0   9.672359            8.873008   9.690488\n",
       "1   9.635760            9.503883   9.948913\n",
       "2   9.947772            9.149117   9.902168\n",
       "3  10.329806            8.483627   9.816916\n",
       "4  10.137950            8.912893   9.872331\n",
       "5  10.152438            9.394436  10.000324\n",
       "6   9.962451            8.264942   9.941864\n",
       "7  10.381300            8.614160  10.087987\n",
       "8  10.322065            9.226923  10.266931\n",
       "9  10.027566            8.695553  10.111290"
      ]
     },
     "execution_count": 143,
     "metadata": {},
     "output_type": "execute_result"
    }
   ],
   "source": [
    "final_df"
   ]
  },
  {
   "cell_type": "markdown",
   "metadata": {},
   "source": [
    "### System Disagreement"
   ]
  },
  {
   "cell_type": "code",
   "execution_count": 149,
   "metadata": {},
   "outputs": [
    {
     "data": {
      "text/plain": [
       "<AxesSubplot:>"
      ]
     },
     "execution_count": 149,
     "metadata": {},
     "output_type": "execute_result"
    },
    {
     "data": {
      "image/png": "[encoded data removed]",
      "text/plain": [
       "<Figure size 432x288 with 1 Axes>"
      ]
     },
     "metadata": {
      "needs_background": "light"
     },
     "output_type": "display_data"
    }
   ],
   "source": [
    "disagreement(final_df).plot()"
   ]
  },
  {
   "cell_type": "code",
   "execution_count": 150,
   "metadata": {},
   "outputs": [
    {
     "data": {
      "text/html": [
       "<div>\n",
       "<style scoped>\n",
       "    .dataframe tbody tr th:only-of-type {\n",
       "        vertical-align: middle;\n",
       "    }\n",
       "\n",
       "    .dataframe tbody tr th {\n",
       "        vertical-align: top;\n",
       "    }\n",
       "\n",
       "    .dataframe thead th {\n",
       "        text-align: right;\n",
       "    }\n",
       "</style>\n",
       "<table border=\"1\" class=\"dataframe\">\n",
       "  <thead>\n",
       "    <tr style=\"text-align: right;\">\n",
       "      <th></th>\n",
       "      <th>0</th>\n",
       "      <th>1</th>\n",
       "      <th>2</th>\n",
       "    </tr>\n",
       "  </thead>\n",
       "  <tbody>\n",
       "    <tr>\n",
       "      <th>0</th>\n",
       "      <td>0.272493</td>\n",
       "      <td>0.538944</td>\n",
       "      <td>0.278536</td>\n",
       "    </tr>\n",
       "    <tr>\n",
       "      <th>1</th>\n",
       "      <td>0.148343</td>\n",
       "      <td>0.192302</td>\n",
       "      <td>0.252727</td>\n",
       "    </tr>\n",
       "    <tr>\n",
       "      <th>2</th>\n",
       "      <td>0.281420</td>\n",
       "      <td>0.517236</td>\n",
       "      <td>0.266219</td>\n",
       "    </tr>\n",
       "    <tr>\n",
       "      <th>3</th>\n",
       "      <td>0.786356</td>\n",
       "      <td>1.059823</td>\n",
       "      <td>0.615393</td>\n",
       "    </tr>\n",
       "    <tr>\n",
       "      <th>4</th>\n",
       "      <td>0.496892</td>\n",
       "      <td>0.728165</td>\n",
       "      <td>0.408352</td>\n",
       "    </tr>\n",
       "    <tr>\n",
       "      <th>5</th>\n",
       "      <td>0.303372</td>\n",
       "      <td>0.454630</td>\n",
       "      <td>0.252667</td>\n",
       "    </tr>\n",
       "    <tr>\n",
       "      <th>6</th>\n",
       "      <td>0.572699</td>\n",
       "      <td>1.124810</td>\n",
       "      <td>0.565836</td>\n",
       "    </tr>\n",
       "    <tr>\n",
       "      <th>7</th>\n",
       "      <td>0.686818</td>\n",
       "      <td>1.080323</td>\n",
       "      <td>0.589047</td>\n",
       "    </tr>\n",
       "    <tr>\n",
       "      <th>8</th>\n",
       "      <td>0.383426</td>\n",
       "      <td>0.711717</td>\n",
       "      <td>0.365047</td>\n",
       "    </tr>\n",
       "    <tr>\n",
       "      <th>9</th>\n",
       "      <td>0.471912</td>\n",
       "      <td>0.915917</td>\n",
       "      <td>0.499820</td>\n",
       "    </tr>\n",
       "  </tbody>\n",
       "</table>\n",
       "</div>"
      ],
      "text/plain": [
       "          0         1         2\n",
       "0  0.272493  0.538944  0.278536\n",
       "1  0.148343  0.192302  0.252727\n",
       "2  0.281420  0.517236  0.266219\n",
       "3  0.786356  1.059823  0.615393\n",
       "4  0.496892  0.728165  0.408352\n",
       "5  0.303372  0.454630  0.252667\n",
       "6  0.572699  1.124810  0.565836\n",
       "7  0.686818  1.080323  0.589047\n",
       "8  0.383426  0.711717  0.365047\n",
       "9  0.471912  0.915917  0.499820"
      ]
     },
     "execution_count": 150,
     "metadata": {},
     "output_type": "execute_result"
    }
   ],
   "source": [
    "predictor_score(final_df)"
   ]
  },
  {
   "cell_type": "markdown",
   "metadata": {},
   "source": [
    "### System consensus"
   ]
  },
  {
   "cell_type": "code",
   "execution_count": 160,
   "metadata": {},
   "outputs": [],
   "source": [
    "average = average_consolidation(final_df)"
   ]
  },
  {
   "cell_type": "code",
   "execution_count": 161,
   "metadata": {},
   "outputs": [],
   "source": [
    "nomemory = consolidated_predictions(final_df,real)"
   ]
  },
  {
   "cell_type": "code",
   "execution_count": 162,
   "metadata": {},
   "outputs": [],
   "source": [
    "memory = consolidated_predictions_memory(final_df,real)"
   ]
  },
  {
   "cell_type": "code",
   "execution_count": 170,
   "metadata": {},
   "outputs": [],
   "source": [
    "anchor = consolidated_predictions_anchor(final_df,real,1.5)"
   ]
  },
  {
   "cell_type": "code",
   "execution_count": 164,
   "metadata": {},
   "outputs": [],
   "source": [
    "consensus = pd.DataFrame()"
   ]
  },
  {
   "cell_type": "code",
   "execution_count": 165,
   "metadata": {},
   "outputs": [],
   "source": [
    "consensus['Average'] = average"
   ]
  },
  {
   "cell_type": "code",
   "execution_count": 166,
   "metadata": {},
   "outputs": [],
   "source": [
    "consensus['NoMemory'] = nomemory"
   ]
  },
  {
   "cell_type": "code",
   "execution_count": 167,
   "metadata": {},
   "outputs": [],
   "source": [
    "consensus['Memory'] = memory"
   ]
  },
  {
   "cell_type": "code",
   "execution_count": 171,
   "metadata": {},
   "outputs": [],
   "source": [
    "consensus['Anchor'] = anchor"
   ]
  },
  {
   "cell_type": "code",
   "execution_count": 172,
   "metadata": {},
   "outputs": [
    {
     "data": {
      "text/html": [
       "<div>\n",
       "<style scoped>\n",
       "    .dataframe tbody tr th:only-of-type {\n",
       "        vertical-align: middle;\n",
       "    }\n",
       "\n",
       "    .dataframe tbody tr th {\n",
       "        vertical-align: top;\n",
       "    }\n",
       "\n",
       "    .dataframe thead th {\n",
       "        text-align: right;\n",
       "    }\n",
       "</style>\n",
       "<table border=\"1\" class=\"dataframe\">\n",
       "  <thead>\n",
       "    <tr style=\"text-align: right;\">\n",
       "      <th></th>\n",
       "      <th>Average</th>\n",
       "      <th>NoMemory</th>\n",
       "      <th>Memory</th>\n",
       "      <th>Anchor</th>\n",
       "    </tr>\n",
       "  </thead>\n",
       "  <tbody>\n",
       "    <tr>\n",
       "      <th>0</th>\n",
       "      <td>9.411952</td>\n",
       "      <td>9.411952</td>\n",
       "      <td>9.411952</td>\n",
       "      <td>9.441618</td>\n",
       "    </tr>\n",
       "    <tr>\n",
       "      <th>1</th>\n",
       "      <td>9.696185</td>\n",
       "      <td>9.647823</td>\n",
       "      <td>9.672004</td>\n",
       "      <td>9.601387</td>\n",
       "    </tr>\n",
       "    <tr>\n",
       "      <th>2</th>\n",
       "      <td>9.666352</td>\n",
       "      <td>9.614654</td>\n",
       "      <td>9.606592</td>\n",
       "      <td>9.551840</td>\n",
       "    </tr>\n",
       "    <tr>\n",
       "      <th>3</th>\n",
       "      <td>9.543450</td>\n",
       "      <td>9.311197</td>\n",
       "      <td>9.399820</td>\n",
       "      <td>9.494098</td>\n",
       "    </tr>\n",
       "    <tr>\n",
       "      <th>4</th>\n",
       "      <td>9.641058</td>\n",
       "      <td>9.624879</td>\n",
       "      <td>9.557972</td>\n",
       "      <td>9.578223</td>\n",
       "    </tr>\n",
       "    <tr>\n",
       "      <th>5</th>\n",
       "      <td>9.849066</td>\n",
       "      <td>9.779433</td>\n",
       "      <td>9.794235</td>\n",
       "      <td>9.742893</td>\n",
       "    </tr>\n",
       "    <tr>\n",
       "      <th>6</th>\n",
       "      <td>9.389752</td>\n",
       "      <td>9.240135</td>\n",
       "      <td>9.253945</td>\n",
       "      <td>9.219288</td>\n",
       "    </tr>\n",
       "    <tr>\n",
       "      <th>7</th>\n",
       "      <td>9.694482</td>\n",
       "      <td>9.659808</td>\n",
       "      <td>9.574268</td>\n",
       "      <td>9.656881</td>\n",
       "    </tr>\n",
       "    <tr>\n",
       "      <th>8</th>\n",
       "      <td>9.938640</td>\n",
       "      <td>9.827300</td>\n",
       "      <td>9.856686</td>\n",
       "      <td>9.775970</td>\n",
       "    </tr>\n",
       "    <tr>\n",
       "      <th>9</th>\n",
       "      <td>9.611470</td>\n",
       "      <td>9.451074</td>\n",
       "      <td>9.501725</td>\n",
       "      <td>9.419970</td>\n",
       "    </tr>\n",
       "  </tbody>\n",
       "</table>\n",
       "</div>"
      ],
      "text/plain": [
       "    Average  NoMemory    Memory    Anchor\n",
       "0  9.411952  9.411952  9.411952  9.441618\n",
       "1  9.696185  9.647823  9.672004  9.601387\n",
       "2  9.666352  9.614654  9.606592  9.551840\n",
       "3  9.543450  9.311197  9.399820  9.494098\n",
       "4  9.641058  9.624879  9.557972  9.578223\n",
       "5  9.849066  9.779433  9.794235  9.742893\n",
       "6  9.389752  9.240135  9.253945  9.219288\n",
       "7  9.694482  9.659808  9.574268  9.656881\n",
       "8  9.938640  9.827300  9.856686  9.775970\n",
       "9  9.611470  9.451074  9.501725  9.419970"
      ]
     },
     "execution_count": 172,
     "metadata": {},
     "output_type": "execute_result"
    }
   ],
   "source": [
    "consensus"
   ]
  },
  {
   "cell_type": "code",
   "execution_count": 178,
   "metadata": {},
   "outputs": [],
   "source": [
    "performance = real.copy()"
   ]
  },
  {
   "cell_type": "code",
   "execution_count": 179,
   "metadata": {},
   "outputs": [],
   "source": [
    "performance['Average'] = average"
   ]
  },
  {
   "cell_type": "code",
   "execution_count": 187,
   "metadata": {},
   "outputs": [
    {
     "data": {
      "text/plain": [
       "<AxesSubplot:xlabel='Date'>"
      ]
     },
     "execution_count": 187,
     "metadata": {},
     "output_type": "execute_result"
    },
    {
     "data": {
      "image/png": "[encoded data removed]",
      "text/plain": [
       "<Figure size 432x288 with 1 Axes>"
      ]
     },
     "metadata": {
      "needs_background": "light"
     },
     "output_type": "display_data"
    }
   ],
   "source": [
    "performance.plot()"
   ]
  },
  {
   "cell_type": "code",
   "execution_count": 188,
   "metadata": {},
   "outputs": [],
   "source": [
    "performance2 = real.copy()"
   ]
  },
  {
   "cell_type": "code",
   "execution_count": 190,
   "metadata": {},
   "outputs": [],
   "source": [
    "performance2['No Memory'] = nomemory"
   ]
  },
  {
   "cell_type": "code",
   "execution_count": 191,
   "metadata": {},
   "outputs": [
    {
     "data": {
      "text/plain": [
       "<AxesSubplot:xlabel='Date'>"
      ]
     },
     "execution_count": 191,
     "metadata": {},
     "output_type": "execute_result"
    },
    {
     "data": {
      "image/png": "[encoded data removed]",
      "text/plain": [
       "<Figure size 432x288 with 1 Axes>"
      ]
     },
     "metadata": {
      "needs_background": "light"
     },
     "output_type": "display_data"
    }
   ],
   "source": [
    "performance2.plot()"
   ]
  },
  {
   "cell_type": "code",
   "execution_count": 196,
   "metadata": {},
   "outputs": [],
   "source": [
    "performance3 = real.copy()"
   ]
  },
  {
   "cell_type": "code",
   "execution_count": 198,
   "metadata": {},
   "outputs": [],
   "source": [
    "performance3['Memory'] = memory"
   ]
  },
  {
   "cell_type": "code",
   "execution_count": 199,
   "metadata": {},
   "outputs": [
    {
     "data": {
      "text/plain": [
       "<AxesSubplot:xlabel='Date'>"
      ]
     },
     "execution_count": 199,
     "metadata": {},
     "output_type": "execute_result"
    },
    {
     "data": {
      "image/png": "[encoded data removed]",
      "text/plain": [
       "<Figure size 432x288 with 1 Axes>"
      ]
     },
     "metadata": {
      "needs_background": "light"
     },
     "output_type": "display_data"
    }
   ],
   "source": [
    "performance3.plot()"
   ]
  },
  {
   "cell_type": "code",
   "execution_count": 204,
   "metadata": {},
   "outputs": [],
   "source": [
    "performance4 = real.copy()"
   ]
  },
  {
   "cell_type": "code",
   "execution_count": 205,
   "metadata": {},
   "outputs": [],
   "source": [
    "performance4['Anchor'] = anchor"
   ]
  },
  {
   "cell_type": "code",
   "execution_count": 206,
   "metadata": {},
   "outputs": [
    {
     "data": {
      "text/plain": [
       "<AxesSubplot:xlabel='Date'>"
      ]
     },
     "execution_count": 206,
     "metadata": {},
     "output_type": "execute_result"
    },
    {
     "data": {
      "image/png": "[encoded data removed]",
      "text/plain": [
       "<Figure size 432x288 with 1 Axes>"
      ]
     },
     "metadata": {
      "needs_background": "light"
     },
     "output_type": "display_data"
    }
   ],
   "source": [
    "performance4.plot()"
   ]
  }
 ],
 "metadata": {
  "kernelspec": {
   "display_name": "Python 3",
   "language": "python",
   "name": "python3"
  },
  "language_info": {
   "codemirror_mode": {
    "name": "ipython",
    "version": 3
   },
   "file_extension": ".py",
   "mimetype": "text/x-python",
   "name": "python",
   "nbconvert_exporter": "python",
   "pygments_lexer": "ipython3",
   "version": "3.8.1"
  }
 },
 "nbformat": 4,
 "nbformat_minor": 2
}
