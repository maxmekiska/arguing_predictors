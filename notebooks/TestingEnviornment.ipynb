{
 "cells": [
  {
   "cell_type": "markdown",
   "metadata": {},
   "source": [
    "# Testing Enviornment"
   ]
  },
  {
   "cell_type": "code",
   "execution_count": 1,
   "metadata": {},
   "outputs": [],
   "source": [
    "import pandas as pd\n",
    "import numpy as np"
   ]
  },
  {
   "cell_type": "markdown",
   "metadata": {},
   "source": [
    "## Running tests"
   ]
  },
  {
   "cell_type": "markdown",
   "metadata": {},
   "source": [
    "The following section unit-tests most of the code written for the proof of concept prototype."
   ]
  },
  {
   "cell_type": "code",
   "execution_count": 2,
   "metadata": {
    "scrolled": false
   },
   "outputs": [
    {
     "name": "stderr",
     "output_type": "stream",
     "text": [
      "C:\\Users\\Max\\Documents\\GitHubPrivate\\arguing-predictors\\tests\\test_algorithms.py:5: FutureWarning: pandas.util.testing is deprecated. Use the functions in the public API at pandas.testing instead.\n",
      "  from pandas.util.testing import assert_frame_equal\n",
      "........\n",
      "----------------------------------------------------------------------\n",
      "Ran 8 tests in 0.094s\n",
      "\n",
      "OK\n"
     ]
    }
   ],
   "source": [
    "%run ../tests/test_algorithms.py"
   ]
  },
  {
   "cell_type": "code",
   "execution_count": 53,
   "metadata": {},
   "outputs": [
    {
     "name": "stderr",
     "output_type": "stream",
     "text": [
      "...............\n",
      "----------------------------------------------------------------------\n",
      "Ran 15 tests in 0.049s\n",
      "\n",
      "OK\n"
     ]
    }
   ],
   "source": [
    "%run ../tests/test_dataloader.py"
   ]
  },
  {
   "cell_type": "code",
   "execution_count": 4,
   "metadata": {},
   "outputs": [
    {
     "name": "stderr",
     "output_type": "stream",
     "text": [
      ".\n",
      "----------------------------------------------------------------------\n",
      "Ran 1 test in 0.010s\n",
      "\n",
      "OK\n"
     ]
    }
   ],
   "source": [
    "%run ../tests/test_predictors.py"
   ]
  },
  {
   "cell_type": "markdown",
   "metadata": {},
   "source": [
    "## Running example of the system"
   ]
  },
  {
   "cell_type": "code",
   "execution_count": 5,
   "metadata": {},
   "outputs": [],
   "source": [
    "%run ../tools/algorithms.py"
   ]
  },
  {
   "cell_type": "code",
   "execution_count": 6,
   "metadata": {},
   "outputs": [],
   "source": [
    "%run ../tools/dataloader.py"
   ]
  },
  {
   "cell_type": "code",
   "execution_count": 7,
   "metadata": {},
   "outputs": [],
   "source": [
    "test = DataLoader('aapl', '2010-02-01', '2015-02-10')"
   ]
  },
  {
   "cell_type": "code",
   "execution_count": 8,
   "metadata": {},
   "outputs": [],
   "source": [
    "prices = test.get_close()"
   ]
  },
  {
   "cell_type": "code",
   "execution_count": 9,
   "metadata": {},
   "outputs": [
    {
     "data": {
      "text/plain": [
       "1266"
      ]
     },
     "execution_count": 9,
     "metadata": {},
     "output_type": "execute_result"
    }
   ],
   "source": [
    "prices = np.array(prices)\n",
    "len(prices)"
   ]
  },
  {
   "cell_type": "code",
   "execution_count": 10,
   "metadata": {},
   "outputs": [
    {
     "data": {
      "text/plain": [
       "array([[ 6.95464277],\n",
       "       [ 6.99499989],\n",
       "       [ 7.11535692],\n",
       "       ...,\n",
       "       [29.73250008],\n",
       "       [29.93000031],\n",
       "       [30.50499916]])"
      ]
     },
     "execution_count": 10,
     "metadata": {},
     "output_type": "execute_result"
    }
   ],
   "source": [
    "prices"
   ]
  },
  {
   "cell_type": "code",
   "execution_count": 166,
   "metadata": {},
   "outputs": [],
   "source": [
    "%run ../tools/predictors.py"
   ]
  },
  {
   "cell_type": "code",
   "execution_count": 167,
   "metadata": {},
   "outputs": [],
   "source": [
    "op0 = BasicUnivariatePredictor(prices, 25, 7)\n",
    "op1 = BasicUnivariatePredictor(prices, 25, 7)\n",
    "op2 = BasicUnivariatePredictor(prices, 25, 7)\n",
    "op3 = BasicUnivariatePredictor(prices, 25, 7)"
   ]
  },
  {
   "cell_type": "code",
   "execution_count": 135,
   "metadata": {},
   "outputs": [],
   "source": [
    "op0.create_bilstm()"
   ]
  },
  {
   "cell_type": "code",
   "execution_count": 136,
   "metadata": {},
   "outputs": [
    {
     "name": "stdout",
     "output_type": "stream",
     "text": [
      "Model: \"sequential_18\"\n",
      "_________________________________________________________________\n",
      "Layer (type)                 Output Shape              Param #   \n",
      "=================================================================\n",
      "bidirectional_1 (Bidirection (None, 25, 100)           20800     \n",
      "_________________________________________________________________\n",
      "lstm_9 (LSTM)                (None, 50)                30200     \n",
      "_________________________________________________________________\n",
      "dense_25 (Dense)             (None, 7)                 357       \n",
      "=================================================================\n",
      "Total params: 51,357\n",
      "Trainable params: 51,357\n",
      "Non-trainable params: 0\n",
      "_________________________________________________________________\n"
     ]
    }
   ],
   "source": [
    "op0.model_blueprint()"
   ]
  },
  {
   "cell_type": "code",
   "execution_count": 137,
   "metadata": {},
   "outputs": [
    {
     "name": "stdout",
     "output_type": "stream",
     "text": [
      "Epoch 1/10\n",
      "99/99 [==============================] - 3s 28ms/step - loss: 47.0533 - mean_squared_error: 47.0533 - val_loss: 8.1876 - val_mean_squared_error: 8.1876\n",
      "Epoch 2/10\n",
      "99/99 [==============================] - 2s 16ms/step - loss: 0.9683 - mean_squared_error: 0.9683 - val_loss: 3.4229 - val_mean_squared_error: 3.4229\n",
      "Epoch 3/10\n",
      "99/99 [==============================] - 2s 15ms/step - loss: 0.7514 - mean_squared_error: 0.7514 - val_loss: 3.2872 - val_mean_squared_error: 3.2872\n",
      "Epoch 4/10\n",
      "99/99 [==============================] - 2s 15ms/step - loss: 0.6267 - mean_squared_error: 0.6267 - val_loss: 2.0441 - val_mean_squared_error: 2.0441\n",
      "Epoch 5/10\n",
      "99/99 [==============================] - 2s 16ms/step - loss: 0.5347 - mean_squared_error: 0.5347 - val_loss: 4.2381 - val_mean_squared_error: 4.2381\n",
      "Epoch 6/10\n",
      "99/99 [==============================] - 2s 16ms/step - loss: 0.5698 - mean_squared_error: 0.5698 - val_loss: 2.4758 - val_mean_squared_error: 2.4758\n",
      "Epoch 7/10\n",
      "99/99 [==============================] - 1s 15ms/step - loss: 0.5151 - mean_squared_error: 0.5151 - val_loss: 1.1607 - val_mean_squared_error: 1.1607\n",
      "Epoch 8/10\n",
      "99/99 [==============================] - 1s 14ms/step - loss: 0.5176 - mean_squared_error: 0.5176 - val_loss: 1.5574 - val_mean_squared_error: 1.5574\n",
      "Epoch 9/10\n",
      "99/99 [==============================] - 1s 14ms/step - loss: 0.4522 - mean_squared_error: 0.4522 - val_loss: 1.9293 - val_mean_squared_error: 1.9293\n",
      "Epoch 10/10\n",
      "99/99 [==============================] - 1s 15ms/step - loss: 0.4441 - mean_squared_error: 0.4441 - val_loss: 1.7312 - val_mean_squared_error: 1.7312\n"
     ]
    },
    {
     "data": {
      "text/plain": [
       "<tensorflow.python.keras.callbacks.History at 0x2285c92da90>"
      ]
     },
     "execution_count": 137,
     "metadata": {},
     "output_type": "execute_result"
    }
   ],
   "source": [
    "op0.fit_model(10)"
   ]
  },
  {
   "cell_type": "code",
   "execution_count": 138,
   "metadata": {},
   "outputs": [
    {
     "data": {
      "image/png": "[encoded data removed]",
      "text/plain": [
       "<Figure size 432x288 with 2 Axes>"
      ]
     },
     "metadata": {
      "needs_background": "light"
     },
     "output_type": "display_data"
    }
   ],
   "source": [
    "op0.show_performance()"
   ]
  },
  {
   "cell_type": "code",
   "execution_count": 139,
   "metadata": {},
   "outputs": [],
   "source": [
    "oyea = prices[-26:-1]\n",
    "#oyea = X[-1]\n",
    "#oyea"
   ]
  },
  {
   "cell_type": "code",
   "execution_count": 140,
   "metadata": {},
   "outputs": [
    {
     "name": "stdout",
     "output_type": "stream",
     "text": [
      "WARNING:tensorflow:5 out of the last 6 calls to <function Model.make_predict_function.<locals>.predict_function at 0x000002285B60CCA0> triggered tf.function retracing. Tracing is expensive and the excessive number of tracings could be due to (1) creating @tf.function repeatedly in a loop, (2) passing tensors with different shapes, (3) passing Python objects instead of tensors. For (1), please define your @tf.function outside of the loop. For (2), @tf.function has experimental_relax_shapes=True option that relaxes argument shapes that can avoid unnecessary retracing. For (3), please refer to https://www.tensorflow.org/tutorials/customization/performance#python_or_tensor_args and https://www.tensorflow.org/api_docs/python/tf/function for  more details.\n"
     ]
    },
    {
     "data": {
      "text/plain": [
       "array([[30.410456, 28.5475  , 26.736507, 28.334608, 27.5754  , 28.413015,\n",
       "        27.865576]], dtype=float32)"
      ]
     },
     "execution_count": 140,
     "metadata": {},
     "output_type": "execute_result"
    }
   ],
   "source": [
    "nice = op0.predict(oyea)\n",
    "nice"
   ]
  },
  {
   "cell_type": "code",
   "execution_count": 141,
   "metadata": {},
   "outputs": [],
   "source": [
    "op1.create_lstm()"
   ]
  },
  {
   "cell_type": "code",
   "execution_count": 142,
   "metadata": {},
   "outputs": [
    {
     "name": "stdout",
     "output_type": "stream",
     "text": [
      "Model: \"sequential_19\"\n",
      "_________________________________________________________________\n",
      "Layer (type)                 Output Shape              Param #   \n",
      "=================================================================\n",
      "lstm_10 (LSTM)               (None, 25, 40)            6720      \n",
      "_________________________________________________________________\n",
      "lstm_11 (LSTM)               (None, 25, 50)            18200     \n",
      "_________________________________________________________________\n",
      "lstm_12 (LSTM)               (None, 50)                20200     \n",
      "_________________________________________________________________\n",
      "dense_26 (Dense)             (None, 7)                 357       \n",
      "=================================================================\n",
      "Total params: 45,477\n",
      "Trainable params: 45,477\n",
      "Non-trainable params: 0\n",
      "_________________________________________________________________\n"
     ]
    }
   ],
   "source": [
    "op1.model_blueprint()"
   ]
  },
  {
   "cell_type": "code",
   "execution_count": 143,
   "metadata": {},
   "outputs": [
    {
     "name": "stdout",
     "output_type": "stream",
     "text": [
      "Epoch 1/10\n",
      "99/99 [==============================] - 3s 25ms/step - loss: 50.1523 - mean_squared_error: 50.1523 - val_loss: 5.3805 - val_mean_squared_error: 5.3805\n",
      "Epoch 2/10\n",
      "99/99 [==============================] - 2s 21ms/step - loss: 1.3098 - mean_squared_error: 1.3098 - val_loss: 3.2716 - val_mean_squared_error: 3.2716\n",
      "Epoch 3/10\n",
      "99/99 [==============================] - 2s 19ms/step - loss: 1.0774 - mean_squared_error: 1.0774 - val_loss: 2.9070 - val_mean_squared_error: 2.9070\n",
      "Epoch 4/10\n",
      "99/99 [==============================] - 2s 20ms/step - loss: 0.9158 - mean_squared_error: 0.9158 - val_loss: 2.0000 - val_mean_squared_error: 2.0000\n",
      "Epoch 5/10\n",
      "99/99 [==============================] - 2s 22ms/step - loss: 0.7869 - mean_squared_error: 0.7869 - val_loss: 1.5304 - val_mean_squared_error: 1.5304\n",
      "Epoch 6/10\n",
      "99/99 [==============================] - 2s 20ms/step - loss: 0.6875 - mean_squared_error: 0.6875 - val_loss: 1.2683 - val_mean_squared_error: 1.2683\n",
      "Epoch 7/10\n",
      "99/99 [==============================] - 2s 21ms/step - loss: 0.6460 - mean_squared_error: 0.6460 - val_loss: 3.2566 - val_mean_squared_error: 3.2566\n",
      "Epoch 8/10\n",
      "99/99 [==============================] - 2s 20ms/step - loss: 0.6118 - mean_squared_error: 0.6118 - val_loss: 1.4195 - val_mean_squared_error: 1.4195\n",
      "Epoch 9/10\n",
      "99/99 [==============================] - 2s 24ms/step - loss: 0.7530 - mean_squared_error: 0.7530 - val_loss: 2.0180 - val_mean_squared_error: 2.0180\n",
      "Epoch 10/10\n",
      "99/99 [==============================] - 2s 22ms/step - loss: 0.5536 - mean_squared_error: 0.5536 - val_loss: 1.1508 - val_mean_squared_error: 1.1508\n"
     ]
    },
    {
     "data": {
      "text/plain": [
       "<tensorflow.python.keras.callbacks.History at 0x22864590af0>"
      ]
     },
     "execution_count": 143,
     "metadata": {},
     "output_type": "execute_result"
    }
   ],
   "source": [
    "op1.fit_model(10)"
   ]
  },
  {
   "cell_type": "code",
   "execution_count": 144,
   "metadata": {},
   "outputs": [
    {
     "data": {
      "image/png": "[encoded data removed]",
      "text/plain": [
       "<Figure size 432x288 with 2 Axes>"
      ]
     },
     "metadata": {
      "needs_background": "light"
     },
     "output_type": "display_data"
    }
   ],
   "source": [
    "op1.show_performance()"
   ]
  },
  {
   "cell_type": "code",
   "execution_count": 145,
   "metadata": {},
   "outputs": [
    {
     "name": "stdout",
     "output_type": "stream",
     "text": [
      "WARNING:tensorflow:6 out of the last 7 calls to <function Model.make_predict_function.<locals>.predict_function at 0x000002286A025D30> triggered tf.function retracing. Tracing is expensive and the excessive number of tracings could be due to (1) creating @tf.function repeatedly in a loop, (2) passing tensors with different shapes, (3) passing Python objects instead of tensors. For (1), please define your @tf.function outside of the loop. For (2), @tf.function has experimental_relax_shapes=True option that relaxes argument shapes that can avoid unnecessary retracing. For (3), please refer to https://www.tensorflow.org/tutorials/customization/performance#python_or_tensor_args and https://www.tensorflow.org/api_docs/python/tf/function for  more details.\n"
     ]
    },
    {
     "data": {
      "text/plain": [
       "array([[29.495508, 29.387024, 29.487368, 27.935352, 28.312473, 29.355288,\n",
       "        27.887619]], dtype=float32)"
      ]
     },
     "execution_count": 145,
     "metadata": {},
     "output_type": "execute_result"
    }
   ],
   "source": [
    "nice = op1.predict(oyea)\n",
    "nice"
   ]
  },
  {
   "cell_type": "code",
   "execution_count": 146,
   "metadata": {},
   "outputs": [],
   "source": [
    "op2.create_cnn()"
   ]
  },
  {
   "cell_type": "code",
   "execution_count": 147,
   "metadata": {},
   "outputs": [
    {
     "name": "stdout",
     "output_type": "stream",
     "text": [
      "Model: \"sequential_20\"\n",
      "_________________________________________________________________\n",
      "Layer (type)                 Output Shape              Param #   \n",
      "=================================================================\n",
      "conv1d_2 (Conv1D)            (None, 24, 64)            192       \n",
      "_________________________________________________________________\n",
      "conv1d_3 (Conv1D)            (None, 23, 32)            4128      \n",
      "_________________________________________________________________\n",
      "max_pooling1d_1 (MaxPooling1 (None, 11, 32)            0         \n",
      "_________________________________________________________________\n",
      "flatten_1 (Flatten)          (None, 352)               0         \n",
      "_________________________________________________________________\n",
      "dense_27 (Dense)             (None, 50)                17650     \n",
      "_________________________________________________________________\n",
      "dense_28 (Dense)             (None, 7)                 357       \n",
      "=================================================================\n",
      "Total params: 22,327\n",
      "Trainable params: 22,327\n",
      "Non-trainable params: 0\n",
      "_________________________________________________________________\n"
     ]
    }
   ],
   "source": [
    "op2.model_blueprint()"
   ]
  },
  {
   "cell_type": "code",
   "execution_count": 148,
   "metadata": {},
   "outputs": [
    {
     "name": "stdout",
     "output_type": "stream",
     "text": [
      "Epoch 1/10\n",
      "99/99 [==============================] - 0s 3ms/step - loss: 21.0730 - mean_squared_error: 21.0730 - val_loss: 1.3621 - val_mean_squared_error: 1.3621\n",
      "Epoch 2/10\n",
      "99/99 [==============================] - 0s 3ms/step - loss: 1.0655 - mean_squared_error: 1.0655 - val_loss: 1.3030 - val_mean_squared_error: 1.3030\n",
      "Epoch 3/10\n",
      "99/99 [==============================] - 0s 2ms/step - loss: 1.0234 - mean_squared_error: 1.0234 - val_loss: 1.7578 - val_mean_squared_error: 1.7578\n",
      "Epoch 4/10\n",
      "99/99 [==============================] - 0s 2ms/step - loss: 1.0421 - mean_squared_error: 1.0421 - val_loss: 0.9713 - val_mean_squared_error: 0.9713\n",
      "Epoch 5/10\n",
      "99/99 [==============================] - 0s 2ms/step - loss: 1.0386 - mean_squared_error: 1.0386 - val_loss: 2.1336 - val_mean_squared_error: 2.1336\n",
      "Epoch 6/10\n",
      "99/99 [==============================] - 0s 2ms/step - loss: 1.1731 - mean_squared_error: 1.1731 - val_loss: 1.0186 - val_mean_squared_error: 1.0186\n",
      "Epoch 7/10\n",
      "99/99 [==============================] - 0s 2ms/step - loss: 0.9331 - mean_squared_error: 0.9331 - val_loss: 1.1889 - val_mean_squared_error: 1.1889\n",
      "Epoch 8/10\n",
      "99/99 [==============================] - 0s 3ms/step - loss: 0.9032 - mean_squared_error: 0.9032 - val_loss: 3.4321 - val_mean_squared_error: 3.4321\n",
      "Epoch 9/10\n",
      "99/99 [==============================] - 0s 3ms/step - loss: 0.8609 - mean_squared_error: 0.8609 - val_loss: 1.0050 - val_mean_squared_error: 1.0050\n",
      "Epoch 10/10\n",
      "99/99 [==============================] - 0s 3ms/step - loss: 0.8581 - mean_squared_error: 0.8581 - val_loss: 0.9529 - val_mean_squared_error: 0.9529\n"
     ]
    },
    {
     "data": {
      "text/plain": [
       "<tensorflow.python.keras.callbacks.History at 0x2286a37c130>"
      ]
     },
     "execution_count": 148,
     "metadata": {},
     "output_type": "execute_result"
    }
   ],
   "source": [
    "op2.fit_model(10)"
   ]
  },
  {
   "cell_type": "code",
   "execution_count": 149,
   "metadata": {},
   "outputs": [
    {
     "data": {
      "image/png": "[encoded data removed]",
      "text/plain": [
       "<Figure size 432x288 with 2 Axes>"
      ]
     },
     "metadata": {
      "needs_background": "light"
     },
     "output_type": "display_data"
    }
   ],
   "source": [
    "op2.show_performance()"
   ]
  },
  {
   "cell_type": "code",
   "execution_count": 150,
   "metadata": {},
   "outputs": [
    {
     "name": "stdout",
     "output_type": "stream",
     "text": [
      "WARNING:tensorflow:7 out of the last 8 calls to <function Model.make_predict_function.<locals>.predict_function at 0x000002286A88CCA0> triggered tf.function retracing. Tracing is expensive and the excessive number of tracings could be due to (1) creating @tf.function repeatedly in a loop, (2) passing tensors with different shapes, (3) passing Python objects instead of tensors. For (1), please define your @tf.function outside of the loop. For (2), @tf.function has experimental_relax_shapes=True option that relaxes argument shapes that can avoid unnecessary retracing. For (3), please refer to https://www.tensorflow.org/tutorials/customization/performance#python_or_tensor_args and https://www.tensorflow.org/api_docs/python/tf/function for  more details.\n"
     ]
    },
    {
     "data": {
      "text/plain": [
       "array([[28.83222 , 28.63804 , 29.008558, 28.78458 , 29.076351, 29.170979,\n",
       "        28.8429  ]], dtype=float32)"
      ]
     },
     "execution_count": 150,
     "metadata": {},
     "output_type": "execute_result"
    }
   ],
   "source": [
    "nice = op2.predict(oyea)\n",
    "nice"
   ]
  },
  {
   "cell_type": "code",
   "execution_count": 171,
   "metadata": {},
   "outputs": [],
   "source": [
    "op3.create_mlp()"
   ]
  },
  {
   "cell_type": "code",
   "execution_count": 172,
   "metadata": {},
   "outputs": [
    {
     "name": "stdout",
     "output_type": "stream",
     "text": [
      "Model: \"sequential_24\"\n",
      "_________________________________________________________________\n",
      "Layer (type)                 Output Shape              Param #   \n",
      "=================================================================\n",
      "dense_38 (Dense)             (None, 50)                1300      \n",
      "_________________________________________________________________\n",
      "dense_39 (Dense)             (None, 25)                1275      \n",
      "_________________________________________________________________\n",
      "dense_40 (Dense)             (None, 25)                650       \n",
      "_________________________________________________________________\n",
      "dense_41 (Dense)             (None, 7)                 182       \n",
      "=================================================================\n",
      "Total params: 3,407\n",
      "Trainable params: 3,407\n",
      "Non-trainable params: 0\n",
      "_________________________________________________________________\n"
     ]
    }
   ],
   "source": [
    "op3.model_blueprint()"
   ]
  },
  {
   "cell_type": "code",
   "execution_count": 173,
   "metadata": {},
   "outputs": [
    {
     "name": "stdout",
     "output_type": "stream",
     "text": [
      "Epoch 1/100\n",
      "99/99 [==============================] - 0s 2ms/step - loss: 20.6099 - mean_squared_error: 20.6099 - val_loss: 1.2213 - val_mean_squared_error: 1.2213\n",
      "Epoch 2/100\n",
      "99/99 [==============================] - 0s 1ms/step - loss: 0.9831 - mean_squared_error: 0.9831 - val_loss: 1.0684 - val_mean_squared_error: 1.0684\n",
      "Epoch 3/100\n",
      "99/99 [==============================] - 0s 1ms/step - loss: 0.9824 - mean_squared_error: 0.9824 - val_loss: 1.7311 - val_mean_squared_error: 1.7311\n",
      "Epoch 4/100\n",
      "99/99 [==============================] - 0s 1ms/step - loss: 0.9691 - mean_squared_error: 0.9691 - val_loss: 0.9851 - val_mean_squared_error: 0.9851\n",
      "Epoch 5/100\n",
      "99/99 [==============================] - 0s 1ms/step - loss: 0.9025 - mean_squared_error: 0.9025 - val_loss: 1.2141 - val_mean_squared_error: 1.2141\n",
      "Epoch 6/100\n",
      "99/99 [==============================] - 0s 1ms/step - loss: 0.8705 - mean_squared_error: 0.8705 - val_loss: 0.9450 - val_mean_squared_error: 0.9450\n",
      "Epoch 7/100\n",
      "99/99 [==============================] - 0s 1ms/step - loss: 0.8417 - mean_squared_error: 0.8417 - val_loss: 1.3986 - val_mean_squared_error: 1.3986\n",
      "Epoch 8/100\n",
      "99/99 [==============================] - 0s 2ms/step - loss: 0.8319 - mean_squared_error: 0.8319 - val_loss: 0.8413 - val_mean_squared_error: 0.8413\n",
      "Epoch 9/100\n",
      "99/99 [==============================] - 0s 2ms/step - loss: 0.7153 - mean_squared_error: 0.7153 - val_loss: 1.1172 - val_mean_squared_error: 1.1172\n",
      "Epoch 10/100\n",
      "99/99 [==============================] - 0s 2ms/step - loss: 0.7338 - mean_squared_error: 0.7338 - val_loss: 0.8186 - val_mean_squared_error: 0.8186\n",
      "Epoch 11/100\n",
      "99/99 [==============================] - 0s 1ms/step - loss: 0.6707 - mean_squared_error: 0.6707 - val_loss: 1.0196 - val_mean_squared_error: 1.0196\n",
      "Epoch 12/100\n",
      "99/99 [==============================] - 0s 1ms/step - loss: 0.6173 - mean_squared_error: 0.6173 - val_loss: 0.8089 - val_mean_squared_error: 0.8089\n",
      "Epoch 13/100\n",
      "99/99 [==============================] - 0s 1ms/step - loss: 0.5823 - mean_squared_error: 0.5823 - val_loss: 1.3862 - val_mean_squared_error: 1.3862\n",
      "Epoch 14/100\n",
      "99/99 [==============================] - 0s 2ms/step - loss: 0.5897 - mean_squared_error: 0.5897 - val_loss: 0.7050 - val_mean_squared_error: 0.7050\n",
      "Epoch 15/100\n",
      "99/99 [==============================] - 0s 2ms/step - loss: 0.5395 - mean_squared_error: 0.5395 - val_loss: 0.7182 - val_mean_squared_error: 0.7182\n",
      "Epoch 16/100\n",
      "99/99 [==============================] - 0s 1ms/step - loss: 0.5338 - mean_squared_error: 0.5338 - val_loss: 0.9892 - val_mean_squared_error: 0.9892\n",
      "Epoch 17/100\n",
      "99/99 [==============================] - 0s 1ms/step - loss: 0.5196 - mean_squared_error: 0.5196 - val_loss: 1.0250 - val_mean_squared_error: 1.0250\n",
      "Epoch 18/100\n",
      "99/99 [==============================] - 0s 1ms/step - loss: 0.5111 - mean_squared_error: 0.5111 - val_loss: 1.5887 - val_mean_squared_error: 1.5887\n",
      "Epoch 19/100\n",
      "99/99 [==============================] - 0s 1ms/step - loss: 0.5106 - mean_squared_error: 0.5106 - val_loss: 0.6957 - val_mean_squared_error: 0.6957\n",
      "Epoch 20/100\n",
      "99/99 [==============================] - 0s 1ms/step - loss: 0.4718 - mean_squared_error: 0.4718 - val_loss: 1.0407 - val_mean_squared_error: 1.0407\n",
      "Epoch 21/100\n",
      "99/99 [==============================] - 0s 1ms/step - loss: 0.4743 - mean_squared_error: 0.4743 - val_loss: 0.6635 - val_mean_squared_error: 0.6635\n",
      "Epoch 22/100\n",
      "99/99 [==============================] - 0s 1ms/step - loss: 0.4951 - mean_squared_error: 0.4951 - val_loss: 1.1995 - val_mean_squared_error: 1.1995\n",
      "Epoch 23/100\n",
      "99/99 [==============================] - 0s 1ms/step - loss: 0.5015 - mean_squared_error: 0.5015 - val_loss: 0.6554 - val_mean_squared_error: 0.6554\n",
      "Epoch 24/100\n",
      "99/99 [==============================] - 0s 1ms/step - loss: 0.4859 - mean_squared_error: 0.4859 - val_loss: 0.6407 - val_mean_squared_error: 0.6407\n",
      "Epoch 25/100\n",
      "99/99 [==============================] - 0s 1ms/step - loss: 0.4916 - mean_squared_error: 0.4916 - val_loss: 1.2726 - val_mean_squared_error: 1.2726\n",
      "Epoch 26/100\n",
      "99/99 [==============================] - 0s 1ms/step - loss: 0.4760 - mean_squared_error: 0.4760 - val_loss: 1.3032 - val_mean_squared_error: 1.3032\n",
      "Epoch 27/100\n",
      "99/99 [==============================] - 0s 1ms/step - loss: 0.4720 - mean_squared_error: 0.4720 - val_loss: 1.1224 - val_mean_squared_error: 1.1224\n",
      "Epoch 28/100\n",
      "99/99 [==============================] - 0s 1ms/step - loss: 0.4843 - mean_squared_error: 0.4843 - val_loss: 0.9746 - val_mean_squared_error: 0.9746\n",
      "Epoch 29/100\n",
      "99/99 [==============================] - 0s 1ms/step - loss: 0.4755 - mean_squared_error: 0.4755 - val_loss: 0.8519 - val_mean_squared_error: 0.8519\n",
      "Epoch 30/100\n",
      "99/99 [==============================] - 0s 1ms/step - loss: 0.4556 - mean_squared_error: 0.4556 - val_loss: 0.7419 - val_mean_squared_error: 0.7419\n",
      "Epoch 31/100\n",
      "99/99 [==============================] - 0s 1ms/step - loss: 0.4482 - mean_squared_error: 0.4482 - val_loss: 0.7096 - val_mean_squared_error: 0.7096\n",
      "Epoch 32/100\n",
      "99/99 [==============================] - 0s 1ms/step - loss: 0.4734 - mean_squared_error: 0.4734 - val_loss: 1.0226 - val_mean_squared_error: 1.0226\n",
      "Epoch 33/100\n",
      "99/99 [==============================] - 0s 1ms/step - loss: 0.5254 - mean_squared_error: 0.5254 - val_loss: 0.8670 - val_mean_squared_error: 0.8670\n",
      "Epoch 34/100\n",
      "99/99 [==============================] - 0s 1ms/step - loss: 0.4303 - mean_squared_error: 0.4303 - val_loss: 0.8218 - val_mean_squared_error: 0.8218\n",
      "Epoch 35/100\n",
      "99/99 [==============================] - 0s 1ms/step - loss: 0.4472 - mean_squared_error: 0.4472 - val_loss: 1.4409 - val_mean_squared_error: 1.4409\n",
      "Epoch 36/100\n",
      "99/99 [==============================] - 0s 1ms/step - loss: 0.4315 - mean_squared_error: 0.4315 - val_loss: 0.7685 - val_mean_squared_error: 0.7685\n",
      "Epoch 37/100\n",
      "99/99 [==============================] - 0s 1ms/step - loss: 0.4067 - mean_squared_error: 0.4067 - val_loss: 0.5778 - val_mean_squared_error: 0.5778\n",
      "Epoch 38/100\n",
      "99/99 [==============================] - 0s 1ms/step - loss: 0.4187 - mean_squared_error: 0.4187 - val_loss: 0.6459 - val_mean_squared_error: 0.6459\n",
      "Epoch 39/100\n",
      "99/99 [==============================] - 0s 1ms/step - loss: 0.4652 - mean_squared_error: 0.4652 - val_loss: 0.5657 - val_mean_squared_error: 0.5657\n",
      "Epoch 40/100\n",
      "99/99 [==============================] - 0s 1ms/step - loss: 0.4576 - mean_squared_error: 0.4576 - val_loss: 0.6281 - val_mean_squared_error: 0.6281\n",
      "Epoch 41/100\n",
      "99/99 [==============================] - 0s 1ms/step - loss: 0.4458 - mean_squared_error: 0.4458 - val_loss: 0.7596 - val_mean_squared_error: 0.7596\n",
      "Epoch 42/100\n",
      "99/99 [==============================] - 0s 1ms/step - loss: 0.5257 - mean_squared_error: 0.5257 - val_loss: 0.5951 - val_mean_squared_error: 0.5951\n",
      "Epoch 43/100\n",
      "99/99 [==============================] - 0s 1ms/step - loss: 0.4522 - mean_squared_error: 0.4522 - val_loss: 1.0922 - val_mean_squared_error: 1.0922\n",
      "Epoch 44/100\n",
      "99/99 [==============================] - 0s 1ms/step - loss: 0.4164 - mean_squared_error: 0.4164 - val_loss: 0.6746 - val_mean_squared_error: 0.6746\n",
      "Epoch 45/100\n",
      "99/99 [==============================] - 0s 1ms/step - loss: 0.4080 - mean_squared_error: 0.4080 - val_loss: 0.6155 - val_mean_squared_error: 0.6155\n",
      "Epoch 46/100\n",
      "99/99 [==============================] - 0s 1ms/step - loss: 0.4100 - mean_squared_error: 0.4100 - val_loss: 0.5936 - val_mean_squared_error: 0.5936\n",
      "Epoch 47/100\n",
      "99/99 [==============================] - 0s 1ms/step - loss: 0.3885 - mean_squared_error: 0.3885 - val_loss: 0.5895 - val_mean_squared_error: 0.5895\n",
      "Epoch 48/100\n",
      "99/99 [==============================] - 0s 1ms/step - loss: 0.4035 - mean_squared_error: 0.4035 - val_loss: 0.5845 - val_mean_squared_error: 0.5845\n",
      "Epoch 49/100\n",
      "99/99 [==============================] - 0s 1ms/step - loss: 0.4175 - mean_squared_error: 0.4175 - val_loss: 0.6842 - val_mean_squared_error: 0.6842\n",
      "Epoch 50/100\n",
      "99/99 [==============================] - 0s 1ms/step - loss: 0.4133 - mean_squared_error: 0.4133 - val_loss: 1.7089 - val_mean_squared_error: 1.7089\n",
      "Epoch 51/100\n"
     ]
    },
    {
     "name": "stdout",
     "output_type": "stream",
     "text": [
      "99/99 [==============================] - 0s 1ms/step - loss: 0.4581 - mean_squared_error: 0.4581 - val_loss: 1.0072 - val_mean_squared_error: 1.0072\n",
      "Epoch 52/100\n",
      "99/99 [==============================] - 0s 1ms/step - loss: 0.4519 - mean_squared_error: 0.4519 - val_loss: 0.7136 - val_mean_squared_error: 0.7136\n",
      "Epoch 53/100\n",
      "99/99 [==============================] - 0s 2ms/step - loss: 0.4047 - mean_squared_error: 0.4047 - val_loss: 0.7472 - val_mean_squared_error: 0.7472\n",
      "Epoch 54/100\n",
      "99/99 [==============================] - 0s 2ms/step - loss: 0.4041 - mean_squared_error: 0.4041 - val_loss: 0.5467 - val_mean_squared_error: 0.5467\n",
      "Epoch 55/100\n",
      "99/99 [==============================] - 0s 1ms/step - loss: 0.4108 - mean_squared_error: 0.4108 - val_loss: 1.0415 - val_mean_squared_error: 1.0415\n",
      "Epoch 56/100\n",
      "99/99 [==============================] - 0s 1ms/step - loss: 0.4295 - mean_squared_error: 0.4295 - val_loss: 0.5362 - val_mean_squared_error: 0.5362\n",
      "Epoch 57/100\n",
      "99/99 [==============================] - 0s 1ms/step - loss: 0.4235 - mean_squared_error: 0.4235 - val_loss: 0.5415 - val_mean_squared_error: 0.5415\n",
      "Epoch 58/100\n",
      "99/99 [==============================] - 0s 1ms/step - loss: 0.4117 - mean_squared_error: 0.4117 - val_loss: 0.5191 - val_mean_squared_error: 0.5191\n",
      "Epoch 59/100\n",
      "99/99 [==============================] - 0s 1ms/step - loss: 0.4287 - mean_squared_error: 0.4287 - val_loss: 1.0045 - val_mean_squared_error: 1.0045\n",
      "Epoch 60/100\n",
      "99/99 [==============================] - 0s 1ms/step - loss: 0.5175 - mean_squared_error: 0.5175 - val_loss: 0.8450 - val_mean_squared_error: 0.8450\n",
      "Epoch 61/100\n",
      "99/99 [==============================] - 0s 1ms/step - loss: 0.4099 - mean_squared_error: 0.4099 - val_loss: 0.5596 - val_mean_squared_error: 0.5596\n",
      "Epoch 62/100\n",
      "99/99 [==============================] - 0s 1ms/step - loss: 0.4540 - mean_squared_error: 0.4540 - val_loss: 1.2009 - val_mean_squared_error: 1.2009\n",
      "Epoch 63/100\n",
      "99/99 [==============================] - 0s 1ms/step - loss: 0.3930 - mean_squared_error: 0.3930 - val_loss: 0.7709 - val_mean_squared_error: 0.7709\n",
      "Epoch 64/100\n",
      "99/99 [==============================] - 0s 1ms/step - loss: 0.3722 - mean_squared_error: 0.3722 - val_loss: 1.1163 - val_mean_squared_error: 1.1163\n",
      "Epoch 65/100\n",
      "99/99 [==============================] - 0s 1ms/step - loss: 0.4338 - mean_squared_error: 0.4338 - val_loss: 0.8006 - val_mean_squared_error: 0.8006\n",
      "Epoch 66/100\n",
      "99/99 [==============================] - 0s 1ms/step - loss: 0.4253 - mean_squared_error: 0.4253 - val_loss: 0.6258 - val_mean_squared_error: 0.6258\n",
      "Epoch 67/100\n",
      "99/99 [==============================] - 0s 1ms/step - loss: 0.4453 - mean_squared_error: 0.4453 - val_loss: 0.6996 - val_mean_squared_error: 0.6996\n",
      "Epoch 68/100\n",
      "99/99 [==============================] - 0s 1ms/step - loss: 0.4304 - mean_squared_error: 0.4304 - val_loss: 0.8392 - val_mean_squared_error: 0.8392\n",
      "Epoch 69/100\n",
      "99/99 [==============================] - 0s 1ms/step - loss: 0.3868 - mean_squared_error: 0.3868 - val_loss: 0.5034 - val_mean_squared_error: 0.5034\n",
      "Epoch 70/100\n",
      "99/99 [==============================] - 0s 1ms/step - loss: 0.3918 - mean_squared_error: 0.3918 - val_loss: 0.6508 - val_mean_squared_error: 0.6508\n",
      "Epoch 71/100\n",
      "99/99 [==============================] - 0s 1ms/step - loss: 0.3965 - mean_squared_error: 0.3965 - val_loss: 1.1298 - val_mean_squared_error: 1.1298\n",
      "Epoch 72/100\n",
      "99/99 [==============================] - 0s 1ms/step - loss: 0.3916 - mean_squared_error: 0.3916 - val_loss: 0.5327 - val_mean_squared_error: 0.5327\n",
      "Epoch 73/100\n",
      "99/99 [==============================] - 0s 1ms/step - loss: 0.3738 - mean_squared_error: 0.3738 - val_loss: 0.9428 - val_mean_squared_error: 0.9428\n",
      "Epoch 74/100\n",
      "99/99 [==============================] - 0s 1ms/step - loss: 0.4319 - mean_squared_error: 0.4319 - val_loss: 0.6399 - val_mean_squared_error: 0.6399\n",
      "Epoch 75/100\n",
      "99/99 [==============================] - 0s 1ms/step - loss: 0.3845 - mean_squared_error: 0.3845 - val_loss: 0.7894 - val_mean_squared_error: 0.7894\n",
      "Epoch 76/100\n",
      "99/99 [==============================] - 0s 1ms/step - loss: 0.3992 - mean_squared_error: 0.3992 - val_loss: 0.6176 - val_mean_squared_error: 0.6176\n",
      "Epoch 77/100\n",
      "99/99 [==============================] - 0s 1ms/step - loss: 0.3869 - mean_squared_error: 0.3869 - val_loss: 0.6890 - val_mean_squared_error: 0.6890\n",
      "Epoch 78/100\n",
      "99/99 [==============================] - 0s 1ms/step - loss: 0.3687 - mean_squared_error: 0.3687 - val_loss: 0.5834 - val_mean_squared_error: 0.5834\n",
      "Epoch 79/100\n",
      "99/99 [==============================] - 0s 1ms/step - loss: 0.3909 - mean_squared_error: 0.3909 - val_loss: 0.5951 - val_mean_squared_error: 0.5951\n",
      "Epoch 80/100\n",
      "99/99 [==============================] - 0s 2ms/step - loss: 0.4058 - mean_squared_error: 0.4058 - val_loss: 0.8377 - val_mean_squared_error: 0.8377\n",
      "Epoch 81/100\n",
      "99/99 [==============================] - 0s 1ms/step - loss: 0.3742 - mean_squared_error: 0.3742 - val_loss: 1.0982 - val_mean_squared_error: 1.0982\n",
      "Epoch 82/100\n",
      "99/99 [==============================] - 0s 1ms/step - loss: 0.3930 - mean_squared_error: 0.3930 - val_loss: 0.5669 - val_mean_squared_error: 0.5669\n",
      "Epoch 83/100\n",
      "99/99 [==============================] - 0s 1ms/step - loss: 0.3905 - mean_squared_error: 0.3905 - val_loss: 0.5303 - val_mean_squared_error: 0.5303\n",
      "Epoch 84/100\n",
      "99/99 [==============================] - 0s 2ms/step - loss: 0.3954 - mean_squared_error: 0.3954 - val_loss: 0.5545 - val_mean_squared_error: 0.5545\n",
      "Epoch 85/100\n",
      "99/99 [==============================] - 0s 1ms/step - loss: 0.4051 - mean_squared_error: 0.4051 - val_loss: 0.7049 - val_mean_squared_error: 0.7049\n",
      "Epoch 86/100\n",
      "99/99 [==============================] - 0s 1ms/step - loss: 0.3573 - mean_squared_error: 0.3573 - val_loss: 1.4275 - val_mean_squared_error: 1.4275\n",
      "Epoch 87/100\n",
      "99/99 [==============================] - 0s 1ms/step - loss: 0.3761 - mean_squared_error: 0.3761 - val_loss: 0.6550 - val_mean_squared_error: 0.6550\n",
      "Epoch 88/100\n",
      "99/99 [==============================] - 0s 2ms/step - loss: 0.3747 - mean_squared_error: 0.3747 - val_loss: 0.6135 - val_mean_squared_error: 0.6135\n",
      "Epoch 89/100\n",
      "99/99 [==============================] - 0s 2ms/step - loss: 0.3756 - mean_squared_error: 0.3756 - val_loss: 0.5247 - val_mean_squared_error: 0.5247\n",
      "Epoch 90/100\n",
      "99/99 [==============================] - 0s 2ms/step - loss: 0.4107 - mean_squared_error: 0.4107 - val_loss: 0.5157 - val_mean_squared_error: 0.5157\n",
      "Epoch 91/100\n",
      "99/99 [==============================] - 0s 2ms/step - loss: 0.3714 - mean_squared_error: 0.3714 - val_loss: 0.7167 - val_mean_squared_error: 0.7167\n",
      "Epoch 92/100\n",
      "99/99 [==============================] - 0s 1ms/step - loss: 0.3729 - mean_squared_error: 0.3729 - val_loss: 0.5591 - val_mean_squared_error: 0.5591\n",
      "Epoch 93/100\n",
      "99/99 [==============================] - 0s 2ms/step - loss: 0.3690 - mean_squared_error: 0.3690 - val_loss: 1.0115 - val_mean_squared_error: 1.0115\n",
      "Epoch 94/100\n",
      "99/99 [==============================] - 0s 2ms/step - loss: 0.4121 - mean_squared_error: 0.4121 - val_loss: 0.7266 - val_mean_squared_error: 0.7266\n",
      "Epoch 95/100\n",
      "99/99 [==============================] - 0s 2ms/step - loss: 0.3651 - mean_squared_error: 0.3651 - val_loss: 0.5527 - val_mean_squared_error: 0.5527\n",
      "Epoch 96/100\n",
      "99/99 [==============================] - 0s 1ms/step - loss: 0.3822 - mean_squared_error: 0.3822 - val_loss: 0.8647 - val_mean_squared_error: 0.8647\n",
      "Epoch 97/100\n",
      "99/99 [==============================] - 0s 2ms/step - loss: 0.3581 - mean_squared_error: 0.3581 - val_loss: 0.7351 - val_mean_squared_error: 0.7351\n",
      "Epoch 98/100\n",
      "99/99 [==============================] - 0s 2ms/step - loss: 0.3723 - mean_squared_error: 0.3723 - val_loss: 0.5625 - val_mean_squared_error: 0.5625\n",
      "Epoch 99/100\n",
      "99/99 [==============================] - 0s 1ms/step - loss: 0.3837 - mean_squared_error: 0.3837 - val_loss: 0.5408 - val_mean_squared_error: 0.5408\n",
      "Epoch 100/100\n",
      "99/99 [==============================] - 0s 1ms/step - loss: 0.3793 - mean_squared_error: 0.3793 - val_loss: 0.8875 - val_mean_squared_error: 0.8875\n"
     ]
    },
    {
     "data": {
      "text/plain": [
       "<tensorflow.python.keras.callbacks.History at 0x2286c047dc0>"
      ]
     },
     "execution_count": 173,
     "metadata": {},
     "output_type": "execute_result"
    }
   ],
   "source": [
    "op3.fit_model(100)"
   ]
  },
  {
   "cell_type": "code",
   "execution_count": 174,
   "metadata": {},
   "outputs": [
    {
     "data": {
      "image/png": "[encoded data removed]",
      "text/plain": [
       "<Figure size 432x288 with 2 Axes>"
      ]
     },
     "metadata": {
      "needs_background": "light"
     },
     "output_type": "display_data"
    }
   ],
   "source": [
    "op3.show_performance()"
   ]
  },
  {
   "cell_type": "code",
   "execution_count": 175,
   "metadata": {},
   "outputs": [],
   "source": [
    "oyea = prices[-26:-1]\n",
    "#oyea = X[-1]\n",
    "#oyea"
   ]
  },
  {
   "cell_type": "code",
   "execution_count": 176,
   "metadata": {},
   "outputs": [
    {
     "name": "stdout",
     "output_type": "stream",
     "text": [
      "WARNING:tensorflow:10 out of the last 11 calls to <function Model.make_predict_function.<locals>.predict_function at 0x000002286D4800D0> triggered tf.function retracing. Tracing is expensive and the excessive number of tracings could be due to (1) creating @tf.function repeatedly in a loop, (2) passing tensors with different shapes, (3) passing Python objects instead of tensors. For (1), please define your @tf.function outside of the loop. For (2), @tf.function has experimental_relax_shapes=True option that relaxes argument shapes that can avoid unnecessary retracing. For (3), please refer to https://www.tensorflow.org/tutorials/customization/performance#python_or_tensor_args and https://www.tensorflow.org/api_docs/python/tf/function for  more details.\n"
     ]
    },
    {
     "data": {
      "text/plain": [
       "array([[29.814781, 29.634167, 29.438997, 29.455688, 29.459879, 29.340462,\n",
       "        29.43698 ]], dtype=float32)"
      ]
     },
     "execution_count": 176,
     "metadata": {},
     "output_type": "execute_result"
    }
   ],
   "source": [
    "nice = op3.predict(oyea)\n",
    "nice"
   ]
  },
  {
   "cell_type": "code",
   "execution_count": null,
   "metadata": {},
   "outputs": [],
   "source": []
  }
 ],
 "metadata": {
  "kernelspec": {
   "display_name": "Python 3",
   "language": "python",
   "name": "python3"
  },
  "language_info": {
   "codemirror_mode": {
    "name": "ipython",
    "version": 3
   },
   "file_extension": ".py",
   "mimetype": "text/x-python",
   "name": "python",
   "nbconvert_exporter": "python",
   "pygments_lexer": "ipython3",
   "version": "3.8.1"
  }
 },
 "nbformat": 4,
 "nbformat_minor": 2
}
