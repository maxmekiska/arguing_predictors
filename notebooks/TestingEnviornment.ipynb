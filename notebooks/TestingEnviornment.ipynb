{
 "cells": [
  {
   "cell_type": "markdown",
   "metadata": {},
   "source": [
    "# Testing Enviornment"
   ]
  },
  {
   "cell_type": "code",
   "execution_count": 1,
   "metadata": {},
   "outputs": [],
   "source": [
    "import pandas as pd\n",
    "import numpy as np"
   ]
  },
  {
   "cell_type": "markdown",
   "metadata": {},
   "source": [
    "## Running tests"
   ]
  },
  {
   "cell_type": "markdown",
   "metadata": {},
   "source": [
    "The following section unit-tests most of the code written for the proof of concept prototype."
   ]
  },
  {
   "cell_type": "code",
   "execution_count": 2,
   "metadata": {
    "scrolled": false
   },
   "outputs": [
    {
     "name": "stderr",
     "output_type": "stream",
     "text": [
      "C:\\Users\\Max\\Documents\\GitHubPrivate\\arguing-predictors\\tests\\test_algorithms.py:5: FutureWarning: pandas.util.testing is deprecated. Use the functions in the public API at pandas.testing instead.\n",
      "  from pandas.util.testing import assert_frame_equal\n",
      "........\n",
      "----------------------------------------------------------------------\n",
      "Ran 8 tests in 0.094s\n",
      "\n",
      "OK\n"
     ]
    }
   ],
   "source": [
    "%run ../tests/test_algorithms.py"
   ]
  },
  {
   "cell_type": "code",
   "execution_count": 52,
   "metadata": {},
   "outputs": [
    {
     "name": "stderr",
     "output_type": "stream",
     "text": [
      "......F........\n",
      "======================================================================\n",
      "FAIL: test_alternative_statistics (__main__.Testing)\n",
      "----------------------------------------------------------------------\n",
      "Traceback (most recent call last):\n",
      "  File \"C:\\Users\\Max\\Documents\\GitHubPrivate\\arguing-predictors\\tests\\test_dataloader.py\", line 73, in test_alternative_statistics\n",
      "    assert_frame_equal(stat_alternative, data_alt_stat)\n",
      "  File \"C:\\Users\\Max\\Anaconda3\\envs\\sys\\lib\\site-packages\\pandas\\_testing.py\", line 1649, in assert_frame_equal\n",
      "    raise_assert_detail(\n",
      "  File \"C:\\Users\\Max\\Anaconda3\\envs\\sys\\lib\\site-packages\\pandas\\_testing.py\", line 1073, in raise_assert_detail\n",
      "    raise AssertionError(msg)\n",
      "AssertionError: DataFrame are different\n",
      "\n",
      "DataFrame shape mismatch\n",
      "[left]:  (8, 5)\n",
      "[right]: (8, 6)\n",
      "\n",
      "----------------------------------------------------------------------\n",
      "Ran 15 tests in 0.042s\n",
      "\n",
      "FAILED (failures=1)\n"
     ]
    },
    {
     "ename": "SystemExit",
     "evalue": "True",
     "output_type": "error",
     "traceback": [
      "An exception has occurred, use %tb to see the full traceback.\n",
      "\u001b[1;31mSystemExit\u001b[0m\u001b[1;31m:\u001b[0m True\n"
     ]
    }
   ],
   "source": [
    "%run ../tests/test_dataloader.py"
   ]
  },
  {
   "cell_type": "code",
   "execution_count": 4,
   "metadata": {},
   "outputs": [
    {
     "name": "stderr",
     "output_type": "stream",
     "text": [
      ".\n",
      "----------------------------------------------------------------------\n",
      "Ran 1 test in 0.010s\n",
      "\n",
      "OK\n"
     ]
    }
   ],
   "source": [
    "%run ../tests/test_predictors.py"
   ]
  },
  {
   "cell_type": "markdown",
   "metadata": {},
   "source": [
    "## Running example of the system"
   ]
  },
  {
   "cell_type": "code",
   "execution_count": 5,
   "metadata": {},
   "outputs": [],
   "source": [
    "%run ../tools/algorithms.py"
   ]
  },
  {
   "cell_type": "code",
   "execution_count": 6,
   "metadata": {},
   "outputs": [],
   "source": [
    "%run ../tools/dataloader.py"
   ]
  },
  {
   "cell_type": "code",
   "execution_count": 7,
   "metadata": {},
   "outputs": [],
   "source": [
    "test = DataLoader('aapl', '2010-02-01', '2015-02-10')"
   ]
  },
  {
   "cell_type": "code",
   "execution_count": 8,
   "metadata": {},
   "outputs": [],
   "source": [
    "prices = test.get_close()"
   ]
  },
  {
   "cell_type": "code",
   "execution_count": 9,
   "metadata": {},
   "outputs": [
    {
     "data": {
      "text/plain": [
       "1266"
      ]
     },
     "execution_count": 9,
     "metadata": {},
     "output_type": "execute_result"
    }
   ],
   "source": [
    "prices = np.array(prices)\n",
    "len(prices)"
   ]
  },
  {
   "cell_type": "code",
   "execution_count": 10,
   "metadata": {},
   "outputs": [
    {
     "data": {
      "text/plain": [
       "array([[ 6.95464277],\n",
       "       [ 6.99499989],\n",
       "       [ 7.11535692],\n",
       "       ...,\n",
       "       [29.73250008],\n",
       "       [29.93000031],\n",
       "       [30.50499916]])"
      ]
     },
     "execution_count": 10,
     "metadata": {},
     "output_type": "execute_result"
    }
   ],
   "source": [
    "prices"
   ]
  },
  {
   "cell_type": "code",
   "execution_count": 11,
   "metadata": {},
   "outputs": [],
   "source": [
    "%run ../tools/predictors.py"
   ]
  },
  {
   "cell_type": "code",
   "execution_count": 12,
   "metadata": {},
   "outputs": [],
   "source": [
    "op0 = BasicUnivariatePredictor(prices, 25, 7)\n",
    "op1 = BasicUnivariatePredictor(prices, 25, 7)\n",
    "op2 = BasicUnivariatePredictor(prices, 25, 7)"
   ]
  },
  {
   "cell_type": "code",
   "execution_count": 13,
   "metadata": {},
   "outputs": [],
   "source": [
    "op0.create_bilstm()"
   ]
  },
  {
   "cell_type": "code",
   "execution_count": 14,
   "metadata": {},
   "outputs": [
    {
     "name": "stdout",
     "output_type": "stream",
     "text": [
      "Model: \"sequential\"\n",
      "_________________________________________________________________\n",
      "Layer (type)                 Output Shape              Param #   \n",
      "=================================================================\n",
      "bidirectional (Bidirectional (None, 25, 100)           20800     \n",
      "_________________________________________________________________\n",
      "lstm_1 (LSTM)                (None, 50)                30200     \n",
      "_________________________________________________________________\n",
      "dense (Dense)                (None, 7)                 357       \n",
      "=================================================================\n",
      "Total params: 51,357\n",
      "Trainable params: 51,357\n",
      "Non-trainable params: 0\n",
      "_________________________________________________________________\n"
     ]
    }
   ],
   "source": [
    "op0.model_blueprint()"
   ]
  },
  {
   "cell_type": "code",
   "execution_count": 23,
   "metadata": {},
   "outputs": [
    {
     "name": "stdout",
     "output_type": "stream",
     "text": [
      "Epoch 1/10\n",
      "99/99 [==============================] - 2s 18ms/step - loss: 0.5048 - mean_squared_error: 0.5048 - val_loss: 29.3504 - val_mean_squared_error: 29.3504\n",
      "Epoch 2/10\n",
      "99/99 [==============================] - 2s 17ms/step - loss: 0.4986 - mean_squared_error: 0.4986 - val_loss: 22.9352 - val_mean_squared_error: 22.9352\n",
      "Epoch 3/10\n",
      "99/99 [==============================] - 2s 17ms/step - loss: 0.4627 - mean_squared_error: 0.4627 - val_loss: 27.5351 - val_mean_squared_error: 27.5351\n",
      "Epoch 4/10\n",
      "99/99 [==============================] - 2s 17ms/step - loss: 0.4625 - mean_squared_error: 0.4625 - val_loss: 14.7054 - val_mean_squared_error: 14.7054\n",
      "Epoch 5/10\n",
      "99/99 [==============================] - 2s 17ms/step - loss: 0.5149 - mean_squared_error: 0.5149 - val_loss: 17.8554 - val_mean_squared_error: 17.8554\n",
      "Epoch 6/10\n",
      "99/99 [==============================] - 2s 17ms/step - loss: 0.4711 - mean_squared_error: 0.4711 - val_loss: 20.6567 - val_mean_squared_error: 20.6567\n",
      "Epoch 7/10\n",
      "99/99 [==============================] - 2s 17ms/step - loss: 0.4949 - mean_squared_error: 0.4949 - val_loss: 11.7650 - val_mean_squared_error: 11.7650\n",
      "Epoch 8/10\n",
      "99/99 [==============================] - 2s 17ms/step - loss: 0.4832 - mean_squared_error: 0.4832 - val_loss: 16.9448 - val_mean_squared_error: 16.9448\n",
      "Epoch 9/10\n",
      "99/99 [==============================] - 2s 17ms/step - loss: 0.5149 - mean_squared_error: 0.5149 - val_loss: 19.4955 - val_mean_squared_error: 19.4955\n",
      "Epoch 10/10\n",
      "99/99 [==============================] - 2s 17ms/step - loss: 0.4488 - mean_squared_error: 0.4488 - val_loss: 12.7149 - val_mean_squared_error: 12.7149\n"
     ]
    },
    {
     "data": {
      "text/plain": [
       "<tensorflow.python.keras.callbacks.History at 0x22853ca5e50>"
      ]
     },
     "execution_count": 23,
     "metadata": {},
     "output_type": "execute_result"
    }
   ],
   "source": [
    "op0.fit_model(10)"
   ]
  },
  {
   "cell_type": "code",
   "execution_count": 24,
   "metadata": {},
   "outputs": [
    {
     "data": {
      "image/png": "[encoded data removed]",
      "text/plain": [
       "<Figure size 432x288 with 2 Axes>"
      ]
     },
     "metadata": {
      "needs_background": "light"
     },
     "output_type": "display_data"
    }
   ],
   "source": [
    "op0.show_performance()"
   ]
  },
  {
   "cell_type": "code",
   "execution_count": 25,
   "metadata": {},
   "outputs": [],
   "source": [
    "oyea = prices[-26:-1]\n",
    "#oyea = X[-1]\n",
    "#oyea"
   ]
  },
  {
   "cell_type": "code",
   "execution_count": 26,
   "metadata": {},
   "outputs": [
    {
     "data": {
      "text/plain": [
       "array([[25.435068, 21.3174  , 14.527286, 19.40212 , 15.113102, 13.038899,\n",
       "        30.27563 ]], dtype=float32)"
      ]
     },
     "execution_count": 26,
     "metadata": {},
     "output_type": "execute_result"
    }
   ],
   "source": [
    "nice = op0.predict(oyea)\n",
    "nice"
   ]
  },
  {
   "cell_type": "code",
   "execution_count": 27,
   "metadata": {},
   "outputs": [],
   "source": [
    "op1.create_lstm()"
   ]
  },
  {
   "cell_type": "code",
   "execution_count": 28,
   "metadata": {},
   "outputs": [
    {
     "name": "stdout",
     "output_type": "stream",
     "text": [
      "Model: \"sequential_2\"\n",
      "_________________________________________________________________\n",
      "Layer (type)                 Output Shape              Param #   \n",
      "=================================================================\n",
      "lstm_5 (LSTM)                (None, 25, 40)            6720      \n",
      "_________________________________________________________________\n",
      "lstm_6 (LSTM)                (None, 25, 50)            18200     \n",
      "_________________________________________________________________\n",
      "lstm_7 (LSTM)                (None, 50)                20200     \n",
      "_________________________________________________________________\n",
      "dense_2 (Dense)              (None, 7)                 357       \n",
      "=================================================================\n",
      "Total params: 45,477\n",
      "Trainable params: 45,477\n",
      "Non-trainable params: 0\n",
      "_________________________________________________________________\n"
     ]
    }
   ],
   "source": [
    "op1.model_blueprint()"
   ]
  },
  {
   "cell_type": "code",
   "execution_count": 29,
   "metadata": {},
   "outputs": [
    {
     "name": "stdout",
     "output_type": "stream",
     "text": [
      "Epoch 1/10\n",
      "99/99 [==============================] - 3s 31ms/step - loss: 62.6812 - mean_squared_error: 62.6812 - val_loss: 13.2584 - val_mean_squared_error: 13.2584\n",
      "Epoch 2/10\n",
      "99/99 [==============================] - 2s 24ms/step - loss: 2.0031 - mean_squared_error: 2.0031 - val_loss: 4.1727 - val_mean_squared_error: 4.1727\n",
      "Epoch 3/10\n",
      "99/99 [==============================] - 2s 24ms/step - loss: 1.9922 - mean_squared_error: 1.9922 - val_loss: 2.3702 - val_mean_squared_error: 2.3702\n",
      "Epoch 4/10\n",
      "99/99 [==============================] - 2s 24ms/step - loss: 1.7193 - mean_squared_error: 1.7193 - val_loss: 9.7352 - val_mean_squared_error: 9.7352\n",
      "Epoch 5/10\n",
      "99/99 [==============================] - 2s 20ms/step - loss: 1.4363 - mean_squared_error: 1.4363 - val_loss: 2.2997 - val_mean_squared_error: 2.2997\n",
      "Epoch 6/10\n",
      "99/99 [==============================] - 2s 23ms/step - loss: 1.3221 - mean_squared_error: 1.3221 - val_loss: 4.4972 - val_mean_squared_error: 4.4972\n",
      "Epoch 7/10\n",
      "99/99 [==============================] - 2s 21ms/step - loss: 1.1711 - mean_squared_error: 1.1711 - val_loss: 3.4865 - val_mean_squared_error: 3.4865\n",
      "Epoch 8/10\n",
      "99/99 [==============================] - 2s 22ms/step - loss: 1.0208 - mean_squared_error: 1.0208 - val_loss: 3.1024 - val_mean_squared_error: 3.1024\n",
      "Epoch 9/10\n",
      "99/99 [==============================] - 2s 20ms/step - loss: 0.9256 - mean_squared_error: 0.9256 - val_loss: 3.8528 - val_mean_squared_error: 3.8528\n",
      "Epoch 10/10\n",
      "99/99 [==============================] - 2s 21ms/step - loss: 1.1183 - mean_squared_error: 1.1183 - val_loss: 1.9775 - val_mean_squared_error: 1.9775\n"
     ]
    },
    {
     "data": {
      "text/plain": [
       "<tensorflow.python.keras.callbacks.History at 0x22853c85a00>"
      ]
     },
     "execution_count": 29,
     "metadata": {},
     "output_type": "execute_result"
    }
   ],
   "source": [
    "op1.fit_model(10)"
   ]
  },
  {
   "cell_type": "code",
   "execution_count": 30,
   "metadata": {},
   "outputs": [
    {
     "data": {
      "image/png": "[encoded data removed]",
      "text/plain": [
       "<Figure size 432x288 with 2 Axes>"
      ]
     },
     "metadata": {
      "needs_background": "light"
     },
     "output_type": "display_data"
    }
   ],
   "source": [
    "op1.show_performance()"
   ]
  },
  {
   "cell_type": "code",
   "execution_count": 31,
   "metadata": {},
   "outputs": [
    {
     "data": {
      "text/plain": [
       "array([[29.503048, 28.488417, 26.49116 , 28.91937 , 27.625256, 24.42825 ,\n",
       "        28.673407]], dtype=float32)"
      ]
     },
     "execution_count": 31,
     "metadata": {},
     "output_type": "execute_result"
    }
   ],
   "source": [
    "nice = op1.predict(oyea)\n",
    "nice"
   ]
  },
  {
   "cell_type": "code",
   "execution_count": 32,
   "metadata": {},
   "outputs": [],
   "source": [
    "op2.create_cnn()"
   ]
  },
  {
   "cell_type": "code",
   "execution_count": 33,
   "metadata": {},
   "outputs": [
    {
     "name": "stdout",
     "output_type": "stream",
     "text": [
      "Model: \"sequential_3\"\n",
      "_________________________________________________________________\n",
      "Layer (type)                 Output Shape              Param #   \n",
      "=================================================================\n",
      "conv1d (Conv1D)              (None, 24, 64)            192       \n",
      "_________________________________________________________________\n",
      "conv1d_1 (Conv1D)            (None, 23, 32)            4128      \n",
      "_________________________________________________________________\n",
      "max_pooling1d (MaxPooling1D) (None, 11, 32)            0         \n",
      "_________________________________________________________________\n",
      "flatten (Flatten)            (None, 352)               0         \n",
      "_________________________________________________________________\n",
      "dense_3 (Dense)              (None, 50)                17650     \n",
      "_________________________________________________________________\n",
      "dense_4 (Dense)              (None, 7)                 357       \n",
      "=================================================================\n",
      "Total params: 22,327\n",
      "Trainable params: 22,327\n",
      "Non-trainable params: 0\n",
      "_________________________________________________________________\n"
     ]
    }
   ],
   "source": [
    "op2.model_blueprint()"
   ]
  },
  {
   "cell_type": "code",
   "execution_count": 34,
   "metadata": {},
   "outputs": [
    {
     "name": "stdout",
     "output_type": "stream",
     "text": [
      "Epoch 1/10\n",
      "99/99 [==============================] - 0s 3ms/step - loss: 27.1305 - mean_squared_error: 27.1305 - val_loss: 1.1040 - val_mean_squared_error: 1.1040\n",
      "Epoch 2/10\n",
      "99/99 [==============================] - 0s 2ms/step - loss: 1.0174 - mean_squared_error: 1.0174 - val_loss: 2.4678 - val_mean_squared_error: 2.4678\n",
      "Epoch 3/10\n",
      "99/99 [==============================] - 0s 2ms/step - loss: 0.9792 - mean_squared_error: 0.9792 - val_loss: 1.3138 - val_mean_squared_error: 1.3138\n",
      "Epoch 4/10\n",
      "99/99 [==============================] - 0s 2ms/step - loss: 1.0009 - mean_squared_error: 1.0009 - val_loss: 1.5532 - val_mean_squared_error: 1.5532\n",
      "Epoch 5/10\n",
      "99/99 [==============================] - 0s 2ms/step - loss: 1.0115 - mean_squared_error: 1.0115 - val_loss: 1.2337 - val_mean_squared_error: 1.2337\n",
      "Epoch 6/10\n",
      "99/99 [==============================] - 0s 2ms/step - loss: 0.9432 - mean_squared_error: 0.9432 - val_loss: 0.9067 - val_mean_squared_error: 0.9067\n",
      "Epoch 7/10\n",
      "99/99 [==============================] - 0s 2ms/step - loss: 0.9343 - mean_squared_error: 0.9343 - val_loss: 1.1158 - val_mean_squared_error: 1.1158\n",
      "Epoch 8/10\n",
      "99/99 [==============================] - ETA: 0s - loss: 0.8667 - mean_squared_error: 0.86 - 0s 2ms/step - loss: 0.8648 - mean_squared_error: 0.8648 - val_loss: 1.2678 - val_mean_squared_error: 1.2678\n",
      "Epoch 9/10\n",
      "99/99 [==============================] - 0s 3ms/step - loss: 0.9314 - mean_squared_error: 0.9314 - val_loss: 1.5070 - val_mean_squared_error: 1.5070\n",
      "Epoch 10/10\n",
      "99/99 [==============================] - 0s 3ms/step - loss: 0.8656 - mean_squared_error: 0.8656 - val_loss: 3.3456 - val_mean_squared_error: 3.3456\n"
     ]
    },
    {
     "data": {
      "text/plain": [
       "<tensorflow.python.keras.callbacks.History at 0x22859b8b550>"
      ]
     },
     "execution_count": 34,
     "metadata": {},
     "output_type": "execute_result"
    }
   ],
   "source": [
    "op2.fit_model(10)"
   ]
  },
  {
   "cell_type": "code",
   "execution_count": 35,
   "metadata": {},
   "outputs": [
    {
     "data": {
      "image/png": "[encoded data removed]",
      "text/plain": [
       "<Figure size 432x288 with 2 Axes>"
      ]
     },
     "metadata": {
      "needs_background": "light"
     },
     "output_type": "display_data"
    }
   ],
   "source": [
    "op2.show_performance()"
   ]
  },
  {
   "cell_type": "code",
   "execution_count": 36,
   "metadata": {},
   "outputs": [
    {
     "data": {
      "text/plain": [
       "array([[27.433928, 27.087162, 27.345015, 27.394112, 27.296017, 27.271065,\n",
       "        27.15245 ]], dtype=float32)"
      ]
     },
     "execution_count": 36,
     "metadata": {},
     "output_type": "execute_result"
    }
   ],
   "source": [
    "nice = op2.predict(oyea)\n",
    "nice"
   ]
  },
  {
   "cell_type": "code",
   "execution_count": 42,
   "metadata": {},
   "outputs": [
    {
     "data": {
      "text/html": [
       "<div>\n",
       "<style scoped>\n",
       "    .dataframe tbody tr th:only-of-type {\n",
       "        vertical-align: middle;\n",
       "    }\n",
       "\n",
       "    .dataframe tbody tr th {\n",
       "        vertical-align: top;\n",
       "    }\n",
       "\n",
       "    .dataframe thead th {\n",
       "        text-align: right;\n",
       "    }\n",
       "</style>\n",
       "<table border=\"1\" class=\"dataframe\">\n",
       "  <thead>\n",
       "    <tr style=\"text-align: right;\">\n",
       "      <th></th>\n",
       "      <th>Open</th>\n",
       "      <th>High</th>\n",
       "      <th>Low</th>\n",
       "      <th>Close</th>\n",
       "      <th>Volume</th>\n",
       "      <th>Currency</th>\n",
       "    </tr>\n",
       "    <tr>\n",
       "      <th>Date</th>\n",
       "      <th></th>\n",
       "      <th></th>\n",
       "      <th></th>\n",
       "      <th></th>\n",
       "      <th></th>\n",
       "      <th></th>\n",
       "    </tr>\n",
       "  </thead>\n",
       "  <tbody>\n",
       "    <tr>\n",
       "      <th>2010-02-01</th>\n",
       "      <td>6.87</td>\n",
       "      <td>7.00</td>\n",
       "      <td>6.83</td>\n",
       "      <td>6.95</td>\n",
       "      <td>749874432</td>\n",
       "      <td>USD</td>\n",
       "    </tr>\n",
       "    <tr>\n",
       "      <th>2010-02-02</th>\n",
       "      <td>7.00</td>\n",
       "      <td>7.01</td>\n",
       "      <td>6.91</td>\n",
       "      <td>6.99</td>\n",
       "      <td>698341952</td>\n",
       "      <td>USD</td>\n",
       "    </tr>\n",
       "    <tr>\n",
       "      <th>2010-02-03</th>\n",
       "      <td>6.97</td>\n",
       "      <td>7.15</td>\n",
       "      <td>6.94</td>\n",
       "      <td>7.12</td>\n",
       "      <td>615327680</td>\n",
       "      <td>USD</td>\n",
       "    </tr>\n",
       "    <tr>\n",
       "      <th>2010-02-04</th>\n",
       "      <td>7.03</td>\n",
       "      <td>7.08</td>\n",
       "      <td>6.84</td>\n",
       "      <td>6.86</td>\n",
       "      <td>757651776</td>\n",
       "      <td>USD</td>\n",
       "    </tr>\n",
       "    <tr>\n",
       "      <th>2010-02-05</th>\n",
       "      <td>6.88</td>\n",
       "      <td>7.00</td>\n",
       "      <td>6.82</td>\n",
       "      <td>6.98</td>\n",
       "      <td>850306240</td>\n",
       "      <td>USD</td>\n",
       "    </tr>\n",
       "    <tr>\n",
       "      <th>2010-02-08</th>\n",
       "      <td>6.99</td>\n",
       "      <td>7.07</td>\n",
       "      <td>6.93</td>\n",
       "      <td>6.93</td>\n",
       "      <td>478268960</td>\n",
       "      <td>USD</td>\n",
       "    </tr>\n",
       "    <tr>\n",
       "      <th>2010-02-09</th>\n",
       "      <td>7.01</td>\n",
       "      <td>7.05</td>\n",
       "      <td>6.96</td>\n",
       "      <td>7.01</td>\n",
       "      <td>632884736</td>\n",
       "      <td>USD</td>\n",
       "    </tr>\n",
       "    <tr>\n",
       "      <th>2010-02-10</th>\n",
       "      <td>7.00</td>\n",
       "      <td>7.02</td>\n",
       "      <td>6.94</td>\n",
       "      <td>6.97</td>\n",
       "      <td>370361248</td>\n",
       "      <td>USD</td>\n",
       "    </tr>\n",
       "  </tbody>\n",
       "</table>\n",
       "</div>"
      ],
      "text/plain": [
       "            Open  High   Low  Close     Volume Currency\n",
       "Date                                                   \n",
       "2010-02-01  6.87  7.00  6.83   6.95  749874432      USD\n",
       "2010-02-02  7.00  7.01  6.91   6.99  698341952      USD\n",
       "2010-02-03  6.97  7.15  6.94   7.12  615327680      USD\n",
       "2010-02-04  7.03  7.08  6.84   6.86  757651776      USD\n",
       "2010-02-05  6.88  7.00  6.82   6.98  850306240      USD\n",
       "2010-02-08  6.99  7.07  6.93   6.93  478268960      USD\n",
       "2010-02-09  7.01  7.05  6.96   7.01  632884736      USD\n",
       "2010-02-10  7.00  7.02  6.94   6.97  370361248      USD"
      ]
     },
     "execution_count": 42,
     "metadata": {},
     "output_type": "execute_result"
    }
   ],
   "source": [
    "test = AlternativeDataLoader('AAPL', 'United States', '01/02/2010', '10/02/2010', 'stock')\n",
    "test.get_data()"
   ]
  },
  {
   "cell_type": "code",
   "execution_count": 46,
   "metadata": {},
   "outputs": [
    {
     "data": {
      "text/html": [
       "<div>\n",
       "<style scoped>\n",
       "    .dataframe tbody tr th:only-of-type {\n",
       "        vertical-align: middle;\n",
       "    }\n",
       "\n",
       "    .dataframe tbody tr th {\n",
       "        vertical-align: top;\n",
       "    }\n",
       "\n",
       "    .dataframe thead th {\n",
       "        text-align: right;\n",
       "    }\n",
       "</style>\n",
       "<table border=\"1\" class=\"dataframe\">\n",
       "  <thead>\n",
       "    <tr style=\"text-align: right;\">\n",
       "      <th></th>\n",
       "      <th>High</th>\n",
       "      <th>Low</th>\n",
       "      <th>Open</th>\n",
       "      <th>Close</th>\n",
       "      <th>Volume</th>\n",
       "      <th>Adj Close</th>\n",
       "    </tr>\n",
       "    <tr>\n",
       "      <th>Date</th>\n",
       "      <th></th>\n",
       "      <th></th>\n",
       "      <th></th>\n",
       "      <th></th>\n",
       "      <th></th>\n",
       "      <th></th>\n",
       "    </tr>\n",
       "  </thead>\n",
       "  <tbody>\n",
       "    <tr>\n",
       "      <th>2010-02-01</th>\n",
       "      <td>7.000000</td>\n",
       "      <td>6.832143</td>\n",
       "      <td>6.870357</td>\n",
       "      <td>6.954643</td>\n",
       "      <td>749876400</td>\n",
       "      <td>5.980317</td>\n",
       "    </tr>\n",
       "    <tr>\n",
       "      <th>2010-02-02</th>\n",
       "      <td>7.011429</td>\n",
       "      <td>6.906429</td>\n",
       "      <td>6.996786</td>\n",
       "      <td>6.995000</td>\n",
       "      <td>698342400</td>\n",
       "      <td>6.015021</td>\n",
       "    </tr>\n",
       "    <tr>\n",
       "      <th>2010-02-03</th>\n",
       "      <td>7.150000</td>\n",
       "      <td>6.943571</td>\n",
       "      <td>6.970357</td>\n",
       "      <td>7.115357</td>\n",
       "      <td>615328000</td>\n",
       "      <td>6.118517</td>\n",
       "    </tr>\n",
       "    <tr>\n",
       "      <th>2010-02-04</th>\n",
       "      <td>7.084643</td>\n",
       "      <td>6.841786</td>\n",
       "      <td>7.026071</td>\n",
       "      <td>6.858929</td>\n",
       "      <td>757652000</td>\n",
       "      <td>5.898012</td>\n",
       "    </tr>\n",
       "    <tr>\n",
       "      <th>2010-02-05</th>\n",
       "      <td>7.000000</td>\n",
       "      <td>6.816071</td>\n",
       "      <td>6.879643</td>\n",
       "      <td>6.980714</td>\n",
       "      <td>850306800</td>\n",
       "      <td>6.002738</td>\n",
       "    </tr>\n",
       "    <tr>\n",
       "      <th>2010-02-08</th>\n",
       "      <td>7.067143</td>\n",
       "      <td>6.928571</td>\n",
       "      <td>6.988929</td>\n",
       "      <td>6.932857</td>\n",
       "      <td>478270800</td>\n",
       "      <td>5.961581</td>\n",
       "    </tr>\n",
       "    <tr>\n",
       "      <th>2010-02-09</th>\n",
       "      <td>7.053571</td>\n",
       "      <td>6.955357</td>\n",
       "      <td>7.015000</td>\n",
       "      <td>7.006786</td>\n",
       "      <td>632886800</td>\n",
       "      <td>6.025155</td>\n",
       "    </tr>\n",
       "    <tr>\n",
       "      <th>2010-02-10</th>\n",
       "      <td>7.021429</td>\n",
       "      <td>6.937857</td>\n",
       "      <td>6.996071</td>\n",
       "      <td>6.968571</td>\n",
       "      <td>370361600</td>\n",
       "      <td>5.992293</td>\n",
       "    </tr>\n",
       "  </tbody>\n",
       "</table>\n",
       "</div>"
      ],
      "text/plain": [
       "                High       Low      Open     Close     Volume  Adj Close\n",
       "Date                                                                    \n",
       "2010-02-01  7.000000  6.832143  6.870357  6.954643  749876400   5.980317\n",
       "2010-02-02  7.011429  6.906429  6.996786  6.995000  698342400   6.015021\n",
       "2010-02-03  7.150000  6.943571  6.970357  7.115357  615328000   6.118517\n",
       "2010-02-04  7.084643  6.841786  7.026071  6.858929  757652000   5.898012\n",
       "2010-02-05  7.000000  6.816071  6.879643  6.980714  850306800   6.002738\n",
       "2010-02-08  7.067143  6.928571  6.988929  6.932857  478270800   5.961581\n",
       "2010-02-09  7.053571  6.955357  7.015000  7.006786  632886800   6.025155\n",
       "2010-02-10  7.021429  6.937857  6.996071  6.968571  370361600   5.992293"
      ]
     },
     "execution_count": 46,
     "metadata": {},
     "output_type": "execute_result"
    }
   ],
   "source": [
    "test2 = DataLoader('aapl', '2010-02-01', '2010-02-10')\n",
    "test2.get_data()"
   ]
  },
  {
   "cell_type": "code",
   "execution_count": null,
   "metadata": {},
   "outputs": [],
   "source": []
  }
 ],
 "metadata": {
  "kernelspec": {
   "display_name": "Python 3",
   "language": "python",
   "name": "python3"
  },
  "language_info": {
   "codemirror_mode": {
    "name": "ipython",
    "version": 3
   },
   "file_extension": ".py",
   "mimetype": "text/x-python",
   "name": "python",
   "nbconvert_exporter": "python",
   "pygments_lexer": "ipython3",
   "version": "3.8.1"
  }
 },
 "nbformat": 4,
 "nbformat_minor": 2
}
