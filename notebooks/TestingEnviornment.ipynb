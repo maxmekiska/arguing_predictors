{
 "cells": [
  {
   "cell_type": "code",
   "execution_count": 1,
   "metadata": {},
   "outputs": [],
   "source": [
    "%config InlineBackend.figure_format = 'retina'"
   ]
  },
  {
   "cell_type": "markdown",
   "metadata": {},
   "source": [
    "# Testing Enviornment"
   ]
  },
  {
   "cell_type": "code",
   "execution_count": 2,
   "metadata": {},
   "outputs": [],
   "source": [
    "import pandas as pd\n",
    "from pandas import DataFrame\n",
    "import numpy as np"
   ]
  },
  {
   "cell_type": "markdown",
   "metadata": {},
   "source": [
    "## Running tests"
   ]
  },
  {
   "cell_type": "markdown",
   "metadata": {},
   "source": [
    "The following section unit-tests most of the code written for the proof of concept prototype."
   ]
  },
  {
   "cell_type": "code",
   "execution_count": 3,
   "metadata": {
    "scrolled": true
   },
   "outputs": [
    {
     "name": "stderr",
     "output_type": "stream",
     "text": [
      "......................\n",
      "----------------------------------------------------------------------\n",
      "Ran 22 tests in 0.109s\n",
      "\n",
      "OK\n"
     ]
    }
   ],
   "source": [
    "%run ../test/test_algorithms.py"
   ]
  },
  {
   "cell_type": "code",
   "execution_count": 4,
   "metadata": {},
   "outputs": [
    {
     "name": "stderr",
     "output_type": "stream",
     "text": [
      "...............\n",
      "----------------------------------------------------------------------\n",
      "Ran 15 tests in 0.035s\n",
      "\n",
      "OK\n"
     ]
    }
   ],
   "source": [
    "%run ../test/test_dataloader.py"
   ]
  },
  {
   "cell_type": "code",
   "execution_count": 5,
   "metadata": {},
   "outputs": [
    {
     "name": "stderr",
     "output_type": "stream",
     "text": [
      "..\n",
      "----------------------------------------------------------------------\n",
      "Ran 2 tests in 0.013s\n",
      "\n",
      "OK\n"
     ]
    }
   ],
   "source": [
    "%run ../test/test_predictorsI.py"
   ]
  },
  {
   "cell_type": "code",
   "execution_count": 6,
   "metadata": {},
   "outputs": [
    {
     "name": "stderr",
     "output_type": "stream",
     "text": [
      ".\n",
      "----------------------------------------------------------------------\n",
      "Ran 1 test in 0.005s\n",
      "\n",
      "OK\n"
     ]
    }
   ],
   "source": [
    "%run ../test/test_predictorsII.py"
   ]
  },
  {
   "cell_type": "code",
   "execution_count": 7,
   "metadata": {},
   "outputs": [
    {
     "name": "stderr",
     "output_type": "stream",
     "text": [
      "...\n",
      "----------------------------------------------------------------------\n",
      "Ran 3 tests in 0.005s\n",
      "\n",
      "OK\n"
     ]
    }
   ],
   "source": [
    "%run ../test/test_activate.py"
   ]
  },
  {
   "cell_type": "markdown",
   "metadata": {},
   "source": [
    "## Running example of the system"
   ]
  },
  {
   "cell_type": "code",
   "execution_count": null,
   "metadata": {},
   "outputs": [],
   "source": [
    "%run ../consensus/algorithms.py"
   ]
  },
  {
   "cell_type": "code",
   "execution_count": null,
   "metadata": {},
   "outputs": [],
   "source": [
    "%run ../tools/dataloader.py"
   ]
  },
  {
   "cell_type": "code",
   "execution_count": null,
   "metadata": {},
   "outputs": [],
   "source": [
    "test = DataLoader('aapl', '2009-01-01', '2010-02-10')"
   ]
  },
  {
   "cell_type": "code",
   "execution_count": null,
   "metadata": {},
   "outputs": [],
   "source": [
    "prices = test.get_close()"
   ]
  },
  {
   "cell_type": "code",
   "execution_count": null,
   "metadata": {},
   "outputs": [],
   "source": [
    "prices"
   ]
  },
  {
   "cell_type": "code",
   "execution_count": null,
   "metadata": {},
   "outputs": [],
   "source": [
    "#prices = np.array(prices)\n",
    "#len(prices)"
   ]
  },
  {
   "cell_type": "code",
   "execution_count": null,
   "metadata": {},
   "outputs": [],
   "source": [
    "prices"
   ]
  },
  {
   "cell_type": "code",
   "execution_count": null,
   "metadata": {},
   "outputs": [],
   "source": [
    "%run ../tools/predictorsI.py"
   ]
  },
  {
   "cell_type": "code",
   "execution_count": null,
   "metadata": {},
   "outputs": [],
   "source": [
    "op0 = BasicUnivariatePredictor(prices, 24, 30)\n",
    "op1 = BasicUnivariatePredictor(prices, 25, 7)\n",
    "op2 = BasicUnivariatePredictor(prices, 25, 7)\n",
    "op3 = BasicUnivariatePredictor(prices, 25, 7)"
   ]
  },
  {
   "cell_type": "code",
   "execution_count": null,
   "metadata": {},
   "outputs": [],
   "source": [
    "op0.create_bilstm()"
   ]
  },
  {
   "cell_type": "code",
   "execution_count": null,
   "metadata": {},
   "outputs": [],
   "source": [
    "op0.model_blueprint()"
   ]
  },
  {
   "cell_type": "code",
   "execution_count": null,
   "metadata": {},
   "outputs": [],
   "source": [
    "op0.fit_model(150)"
   ]
  },
  {
   "cell_type": "code",
   "execution_count": null,
   "metadata": {},
   "outputs": [],
   "source": [
    "op0.show_performance()"
   ]
  },
  {
   "cell_type": "code",
   "execution_count": null,
   "metadata": {},
   "outputs": [],
   "source": [
    "op0.save_model()"
   ]
  },
  {
   "cell_type": "code",
   "execution_count": null,
   "metadata": {},
   "outputs": [],
   "source": [
    "oyea = prices[-26:-1]\n",
    "#oyea = X[-1]\n",
    "#oyea"
   ]
  },
  {
   "cell_type": "code",
   "execution_count": null,
   "metadata": {},
   "outputs": [],
   "source": [
    "nice = op0.predict(oyea)\n",
    "nice"
   ]
  },
  {
   "cell_type": "code",
   "execution_count": null,
   "metadata": {},
   "outputs": [],
   "source": [
    "op1.create_lstm()"
   ]
  },
  {
   "cell_type": "code",
   "execution_count": null,
   "metadata": {},
   "outputs": [],
   "source": [
    "op1.model_blueprint()"
   ]
  },
  {
   "cell_type": "code",
   "execution_count": null,
   "metadata": {},
   "outputs": [],
   "source": [
    "op1.fit_model(10)"
   ]
  },
  {
   "cell_type": "code",
   "execution_count": null,
   "metadata": {},
   "outputs": [],
   "source": [
    "op1.show_performance()"
   ]
  },
  {
   "cell_type": "code",
   "execution_count": null,
   "metadata": {},
   "outputs": [],
   "source": [
    "nice = op1.predict(oyea)\n",
    "nice"
   ]
  },
  {
   "cell_type": "code",
   "execution_count": null,
   "metadata": {},
   "outputs": [],
   "source": [
    "op2.create_cnn()"
   ]
  },
  {
   "cell_type": "code",
   "execution_count": null,
   "metadata": {},
   "outputs": [],
   "source": [
    "op2.model_blueprint()"
   ]
  },
  {
   "cell_type": "code",
   "execution_count": null,
   "metadata": {},
   "outputs": [],
   "source": [
    "op2.fit_model(10)"
   ]
  },
  {
   "cell_type": "code",
   "execution_count": null,
   "metadata": {},
   "outputs": [],
   "source": [
    "op2.show_performance()"
   ]
  },
  {
   "cell_type": "code",
   "execution_count": null,
   "metadata": {},
   "outputs": [],
   "source": [
    "nice = op2.predict(oyea)\n",
    "nice"
   ]
  },
  {
   "cell_type": "code",
   "execution_count": null,
   "metadata": {},
   "outputs": [],
   "source": [
    "op3.create_mlp()"
   ]
  },
  {
   "cell_type": "code",
   "execution_count": null,
   "metadata": {},
   "outputs": [],
   "source": [
    "op3.model_blueprint()"
   ]
  },
  {
   "cell_type": "code",
   "execution_count": null,
   "metadata": {},
   "outputs": [],
   "source": [
    "op3.fit_model(100)"
   ]
  },
  {
   "cell_type": "code",
   "execution_count": null,
   "metadata": {},
   "outputs": [],
   "source": [
    "op3.show_performance()"
   ]
  },
  {
   "cell_type": "code",
   "execution_count": null,
   "metadata": {},
   "outputs": [],
   "source": [
    "oyea = prices[-26:-1]\n",
    "#oyea = X[-1]\n",
    "#oyea"
   ]
  },
  {
   "cell_type": "code",
   "execution_count": null,
   "metadata": {},
   "outputs": [],
   "source": [
    "nice = op3.predict(oyea)\n",
    "nice"
   ]
  },
  {
   "cell_type": "code",
   "execution_count": null,
   "metadata": {},
   "outputs": [],
   "source": [
    "%run ../tools/predictorsII.py"
   ]
  },
  {
   "cell_type": "code",
   "execution_count": null,
   "metadata": {},
   "outputs": [],
   "source": [
    "oo = UnivariatePredictorII(prices, 7)"
   ]
  },
  {
   "cell_type": "code",
   "execution_count": null,
   "metadata": {},
   "outputs": [],
   "source": [
    "oo.fit_neural_model(100,\"D\")"
   ]
  },
  {
   "cell_type": "code",
   "execution_count": null,
   "metadata": {
    "scrolled": true
   },
   "outputs": [],
   "source": [
    "oo.show_performance_neural()"
   ]
  },
  {
   "cell_type": "code",
   "execution_count": null,
   "metadata": {
    "scrolled": true
   },
   "outputs": [],
   "source": [
    "oo.predict_neural()"
   ]
  },
  {
   "cell_type": "code",
   "execution_count": null,
   "metadata": {
    "scrolled": false
   },
   "outputs": [],
   "source": [
    "oo.fit_prophet_model()"
   ]
  },
  {
   "cell_type": "code",
   "execution_count": null,
   "metadata": {},
   "outputs": [],
   "source": [
    "oo.show_performance_prophet()"
   ]
  },
  {
   "cell_type": "code",
   "execution_count": null,
   "metadata": {},
   "outputs": [],
   "source": [
    "oo.predict_prophet()"
   ]
  },
  {
   "cell_type": "code",
   "execution_count": null,
   "metadata": {},
   "outputs": [],
   "source": [
    "%run ../tools/predictorsIII.py"
   ]
  },
  {
   "cell_type": "code",
   "execution_count": null,
   "metadata": {},
   "outputs": [],
   "source": [
    "len(prices)"
   ]
  },
  {
   "cell_type": "code",
   "execution_count": null,
   "metadata": {},
   "outputs": [],
   "source": [
    "op4 = HybridUnivariatePredictor(prices,2, 24, 7)"
   ]
  },
  {
   "cell_type": "code",
   "execution_count": null,
   "metadata": {},
   "outputs": [],
   "source": [
    "op4.create_cnnlstm()"
   ]
  },
  {
   "cell_type": "code",
   "execution_count": null,
   "metadata": {},
   "outputs": [],
   "source": [
    "op4.model_blueprint()"
   ]
  },
  {
   "cell_type": "code",
   "execution_count": null,
   "metadata": {},
   "outputs": [],
   "source": [
    "op4.fit_model(10)"
   ]
  },
  {
   "cell_type": "code",
   "execution_count": null,
   "metadata": {},
   "outputs": [],
   "source": [
    "op4.show_performance()"
   ]
  },
  {
   "cell_type": "code",
   "execution_count": null,
   "metadata": {},
   "outputs": [],
   "source": [
    "oyea = prices[-25:-1]\n",
    "#oyea = X[-1]\n",
    "#oyea"
   ]
  },
  {
   "cell_type": "code",
   "execution_count": null,
   "metadata": {},
   "outputs": [],
   "source": [
    "nice = op4.predict(oyea)\n",
    "nice\n",
    "#noice = pd.DataFrame(nice, columns=['yea'])\n",
    "#noice = nice.reshape(20, 1)\n",
    "#noice = pd.DataFrame(noice, columns=['yea'])"
   ]
  },
  {
   "cell_type": "code",
   "execution_count": null,
   "metadata": {},
   "outputs": [],
   "source": [
    "nice.plot()"
   ]
  },
  {
   "cell_type": "markdown",
   "metadata": {},
   "source": [
    "## Whole system test - I am alive v.3"
   ]
  },
  {
   "cell_type": "code",
   "execution_count": 1,
   "metadata": {
    "scrolled": true
   },
   "outputs": [],
   "source": [
    "%run ../tools/dataloader.py\n",
    "%run ../system/activate.py"
   ]
  },
  {
   "cell_type": "code",
   "execution_count": null,
   "metadata": {},
   "outputs": [],
   "source": [
    "training = DataLoader('aapl', '2009-01-01', '2010-05-01')"
   ]
  },
  {
   "cell_type": "code",
   "execution_count": null,
   "metadata": {},
   "outputs": [],
   "source": [
    "training = training.get_close()"
   ]
  },
  {
   "cell_type": "code",
   "execution_count": null,
   "metadata": {},
   "outputs": [],
   "source": [
    "#real = DataLoader('aapl', '2010-05-01', '2010-05-28')"
   ]
  },
  {
   "cell_type": "code",
   "execution_count": null,
   "metadata": {},
   "outputs": [],
   "source": [
    "#real = real.get_close()"
   ]
  },
  {
   "cell_type": "code",
   "execution_count": null,
   "metadata": {},
   "outputs": [],
   "source": [
    "#len(real)"
   ]
  },
  {
   "cell_type": "code",
   "execution_count": 2,
   "metadata": {},
   "outputs": [],
   "source": [
    "predict = DataLoader('aapl', '2010-06-01', '2010-09-01')"
   ]
  },
  {
   "cell_type": "code",
   "execution_count": 3,
   "metadata": {},
   "outputs": [],
   "source": [
    "predict = predict.get_close()"
   ]
  },
  {
   "cell_type": "code",
   "execution_count": 4,
   "metadata": {},
   "outputs": [],
   "source": [
    "predict_req, real = data_prep(predict, 24, 30)"
   ]
  },
  {
   "cell_type": "code",
   "execution_count": null,
   "metadata": {},
   "outputs": [],
   "source": [
    "# print(predict.to_string()) useful to investigate dataframes"
   ]
  },
  {
   "cell_type": "code",
   "execution_count": null,
   "metadata": {},
   "outputs": [],
   "source": [
    "predict_req"
   ]
  },
  {
   "cell_type": "code",
   "execution_count": null,
   "metadata": {},
   "outputs": [],
   "source": [
    "real"
   ]
  },
  {
   "cell_type": "code",
   "execution_count": null,
   "metadata": {
    "scrolled": true
   },
   "outputs": [],
   "source": [
    "final_df1 = individual_predictors1(training, predict_req, 30)"
   ]
  },
  {
   "cell_type": "code",
   "execution_count": null,
   "metadata": {
    "scrolled": true
   },
   "outputs": [],
   "source": [
    "final_df2 = individual_predictors2(training, predict_req, 30)"
   ]
  },
  {
   "cell_type": "code",
   "execution_count": null,
   "metadata": {
    "scrolled": true
   },
   "outputs": [],
   "source": [
    "final_df3 = individual_predictors3(training, predict_req, 30)"
   ]
  },
  {
   "cell_type": "code",
   "execution_count": null,
   "metadata": {},
   "outputs": [],
   "source": [
    "final_df3"
   ]
  },
  {
   "cell_type": "code",
   "execution_count": null,
   "metadata": {
    "scrolled": true
   },
   "outputs": [],
   "source": [
    "final_df4 = individual_predictors4(training, predict_req, 30)"
   ]
  },
  {
   "cell_type": "code",
   "execution_count": null,
   "metadata": {},
   "outputs": [],
   "source": [
    "final_df5 = individual_predictors5(training, 20)"
   ]
  },
  {
   "cell_type": "code",
   "execution_count": 5,
   "metadata": {},
   "outputs": [],
   "source": [
    "final_df6 = individual_predictors_pretrained1(predict_req, 30)"
   ]
  },
  {
   "cell_type": "code",
   "execution_count": null,
   "metadata": {},
   "outputs": [],
   "source": [
    "test = evaluation_frame(final_df6, real)\n",
    "test.head(n=3)"
   ]
  },
  {
   "cell_type": "code",
   "execution_count": null,
   "metadata": {},
   "outputs": [],
   "source": [
    "def absolute_error_analytics(predictors: DataFrame, algorithms: DataFrame, real: DataFrame) -> DataFrame:\n",
    "    '''Computes the absolute error values of all individual predictors and consensus algorithms. Additionally adds system disagreement and individual predictors disagreement scores.\n",
    "    \n",
    "        Parameters\n",
    "        ----------\n",
    "            predictors (DataFrame): DataFrame containing individual predictors forecasts.\n",
    "            algorithms (DataFrame): DataFrame containing consensus algorithm forecasts.\n",
    "            real (DataFrame): DataFrame containing actual future values.\n",
    "        \n",
    "        Returns\n",
    "        -------\n",
    "            (DataFrame): DataFrame containing all absolute error values of individual predictors and consenus algorithms togehter with system disagreement and individual disagreement scores.\n",
    "    '''\n",
    "    data = evaluation_frame(predictors,real)\n",
    "    \n",
    "    data2 = evaluation_frame(algorithms, real)\n",
    "    \n",
    "    individual_disagreements = predictor_score(predictors)\n",
    "    individual_disagreements = set_same_index(individual_disagreements, real)\n",
    "    \n",
    "    system_disagreement = disagreement(predictors)\n",
    "    system_disagreement = set_same_index(system_disagreement, real)\n",
    "\n",
    "    result = pd.DataFrame() \n",
    "    for i in range(len(data.columns)-1): # do not include Real value column\n",
    "        current_column = data.columns[i]\n",
    "        result[current_column + ' absolute error'] = abs(data[current_column] - data['Real Value'])\n",
    "        \n",
    "    for i in range(len(data2.columns)-1):\n",
    "        current_column = data2.columns[i]\n",
    "        result[current_column + ' absolute error'] = abs(data2[current_column] - data2['Real Value'])\n",
    "    \n",
    "    result = pd.concat([result, individual_disagreements, system_disagreement], axis=1)\n",
    "    \n",
    "    return result"
   ]
  },
  {
   "cell_type": "markdown",
   "metadata": {},
   "source": [
    "### System Disagreement"
   ]
  },
  {
   "cell_type": "code",
   "execution_count": null,
   "metadata": {
    "scrolled": true
   },
   "outputs": [],
   "source": [
    "system_disagreement(final_df1)"
   ]
  },
  {
   "cell_type": "code",
   "execution_count": null,
   "metadata": {},
   "outputs": [],
   "source": [
    "system_disagreement(final_df2)"
   ]
  },
  {
   "cell_type": "code",
   "execution_count": null,
   "metadata": {},
   "outputs": [],
   "source": [
    "system_disagreement(final_df3)"
   ]
  },
  {
   "cell_type": "code",
   "execution_count": null,
   "metadata": {},
   "outputs": [],
   "source": [
    "system_disagreement(final_df4)"
   ]
  },
  {
   "cell_type": "code",
   "execution_count": null,
   "metadata": {},
   "outputs": [],
   "source": [
    "system_disagreement(final_df5)"
   ]
  },
  {
   "cell_type": "code",
   "execution_count": 6,
   "metadata": {},
   "outputs": [
    {
     "data": {
      "image/png": "[encoded data removed]",
      "text/plain": [
       "<Figure size 432x288 with 1 Axes>"
      ]
     },
     "metadata": {
      "needs_background": "light"
     },
     "output_type": "display_data"
    },
    {
     "data": {
      "image/png": "[encoded data removed]",
      "text/plain": [
       "<Figure size 432x288 with 1 Axes>"
      ]
     },
     "metadata": {
      "needs_background": "light"
     },
     "output_type": "display_data"
    }
   ],
   "source": [
    "system_disagreement(final_df6)"
   ]
  },
  {
   "cell_type": "markdown",
   "metadata": {},
   "source": [
    "### System consensus"
   ]
  },
  {
   "cell_type": "code",
   "execution_count": null,
   "metadata": {},
   "outputs": [],
   "source": [
    "algos1 = consensus(final_df1, real)"
   ]
  },
  {
   "cell_type": "code",
   "execution_count": null,
   "metadata": {
    "scrolled": false
   },
   "outputs": [],
   "source": [
    "algos2 = consensus(final_df2, real)"
   ]
  },
  {
   "cell_type": "code",
   "execution_count": null,
   "metadata": {},
   "outputs": [],
   "source": [
    "algos3 = consensus(final_df3, real)"
   ]
  },
  {
   "cell_type": "code",
   "execution_count": null,
   "metadata": {},
   "outputs": [],
   "source": [
    "algos4 = consensus(final_df4, real)"
   ]
  },
  {
   "cell_type": "code",
   "execution_count": null,
   "metadata": {},
   "outputs": [],
   "source": [
    "algos5 = consensus(final_df5, real)"
   ]
  },
  {
   "cell_type": "code",
   "execution_count": 7,
   "metadata": {},
   "outputs": [],
   "source": [
    "algos6 = consensus(final_df6, real)"
   ]
  },
  {
   "cell_type": "code",
   "execution_count": null,
   "metadata": {},
   "outputs": [],
   "source": [
    "ui1 = combined_frame(final_df1, algos1, real)"
   ]
  },
  {
   "cell_type": "code",
   "execution_count": null,
   "metadata": {},
   "outputs": [],
   "source": [
    "ui2 = combined_frame(final_df2, algos2, real)"
   ]
  },
  {
   "cell_type": "code",
   "execution_count": null,
   "metadata": {},
   "outputs": [],
   "source": [
    "ui3 = combined_frame(final_df3, algos3, real)"
   ]
  },
  {
   "cell_type": "code",
   "execution_count": null,
   "metadata": {},
   "outputs": [],
   "source": [
    "ui4 = combined_frame(final_df4, algos4, real)"
   ]
  },
  {
   "cell_type": "code",
   "execution_count": null,
   "metadata": {},
   "outputs": [],
   "source": [
    "ui5 = combined_frame(final_df5, algos5, real)"
   ]
  },
  {
   "cell_type": "code",
   "execution_count": 8,
   "metadata": {},
   "outputs": [],
   "source": [
    "ui6 = combined_frame(final_df6, algos6, real)"
   ]
  },
  {
   "cell_type": "code",
   "execution_count": null,
   "metadata": {},
   "outputs": [],
   "source": [
    "yu3 = all_stats_frame(ui3, final_df3)"
   ]
  },
  {
   "cell_type": "code",
   "execution_count": 9,
   "metadata": {},
   "outputs": [],
   "source": [
    "yu = all_stats_frame(ui6, final_df6)"
   ]
  },
  {
   "cell_type": "code",
   "execution_count": null,
   "metadata": {},
   "outputs": [],
   "source": [
    "yu3 = all_stats_frame(ui3, final_df3)"
   ]
  },
  {
   "cell_type": "code",
   "execution_count": 10,
   "metadata": {},
   "outputs": [
    {
     "data": {
      "text/html": [
       "<div>\n",
       "<style scoped>\n",
       "    .dataframe tbody tr th:only-of-type {\n",
       "        vertical-align: middle;\n",
       "    }\n",
       "\n",
       "    .dataframe tbody tr th {\n",
       "        vertical-align: top;\n",
       "    }\n",
       "\n",
       "    .dataframe thead th {\n",
       "        text-align: right;\n",
       "    }\n",
       "</style>\n",
       "<table border=\"1\" class=\"dataframe\">\n",
       "  <thead>\n",
       "    <tr style=\"text-align: right;\">\n",
       "      <th></th>\n",
       "      <th>CNN-LSTM absolute error</th>\n",
       "      <th>MLP absolute error</th>\n",
       "      <th>CNN absolute error</th>\n",
       "      <th>Average absolute error</th>\n",
       "      <th>NoMemory absolute error</th>\n",
       "      <th>Memory absolute error</th>\n",
       "      <th>Focus absolute error</th>\n",
       "      <th>Anchor absolute error</th>\n",
       "      <th>CNN-LSTM disagreement score</th>\n",
       "      <th>MLP disagreement score</th>\n",
       "      <th>CNN disagreement score</th>\n",
       "      <th>System Disagreement</th>\n",
       "    </tr>\n",
       "    <tr>\n",
       "      <th>Date</th>\n",
       "      <th></th>\n",
       "      <th></th>\n",
       "      <th></th>\n",
       "      <th></th>\n",
       "      <th></th>\n",
       "      <th></th>\n",
       "      <th></th>\n",
       "      <th></th>\n",
       "      <th></th>\n",
       "      <th></th>\n",
       "      <th></th>\n",
       "      <th></th>\n",
       "    </tr>\n",
       "  </thead>\n",
       "  <tbody>\n",
       "    <tr>\n",
       "      <th>2010-07-06</th>\n",
       "      <td>0.237130</td>\n",
       "      <td>0.341953</td>\n",
       "      <td>0.062031</td>\n",
       "      <td>0.172351</td>\n",
       "      <td>0.172351</td>\n",
       "      <td>0.172351</td>\n",
       "      <td>0.172351</td>\n",
       "      <td>0.199793</td>\n",
       "      <td>0.134661</td>\n",
       "      <td>0.169602</td>\n",
       "      <td>0.234382</td>\n",
       "      <td>0.179548</td>\n",
       "    </tr>\n",
       "    <tr>\n",
       "      <th>2010-07-07</th>\n",
       "      <td>0.285410</td>\n",
       "      <td>0.333012</td>\n",
       "      <td>0.430103</td>\n",
       "      <td>0.127501</td>\n",
       "      <td>0.206471</td>\n",
       "      <td>0.166986</td>\n",
       "      <td>0.430103</td>\n",
       "      <td>0.117856</td>\n",
       "      <td>0.254372</td>\n",
       "      <td>0.460512</td>\n",
       "      <td>0.302603</td>\n",
       "      <td>0.339162</td>\n",
       "    </tr>\n",
       "    <tr>\n",
       "      <th>2010-07-08</th>\n",
       "      <td>0.491744</td>\n",
       "      <td>0.361291</td>\n",
       "      <td>0.632654</td>\n",
       "      <td>0.495230</td>\n",
       "      <td>0.488788</td>\n",
       "      <td>0.502988</td>\n",
       "      <td>0.491744</td>\n",
       "      <td>0.505887</td>\n",
       "      <td>0.090454</td>\n",
       "      <td>0.133939</td>\n",
       "      <td>0.137424</td>\n",
       "      <td>0.120606</td>\n",
       "    </tr>\n",
       "    <tr>\n",
       "      <th>2010-07-09</th>\n",
       "      <td>0.709064</td>\n",
       "      <td>1.411126</td>\n",
       "      <td>0.770011</td>\n",
       "      <td>0.022649</td>\n",
       "      <td>0.075740</td>\n",
       "      <td>0.048115</td>\n",
       "      <td>1.411126</td>\n",
       "      <td>0.358501</td>\n",
       "      <td>0.727046</td>\n",
       "      <td>1.433776</td>\n",
       "      <td>0.747362</td>\n",
       "      <td>0.969394</td>\n",
       "    </tr>\n",
       "    <tr>\n",
       "      <th>2010-07-12</th>\n",
       "      <td>0.927026</td>\n",
       "      <td>0.109152</td>\n",
       "      <td>0.971348</td>\n",
       "      <td>0.669175</td>\n",
       "      <td>0.734007</td>\n",
       "      <td>0.690140</td>\n",
       "      <td>0.927026</td>\n",
       "      <td>0.712865</td>\n",
       "      <td>0.287399</td>\n",
       "      <td>0.560023</td>\n",
       "      <td>0.302173</td>\n",
       "      <td>0.383198</td>\n",
       "    </tr>\n",
       "    <tr>\n",
       "      <th>2010-07-13</th>\n",
       "      <td>1.029194</td>\n",
       "      <td>0.719243</td>\n",
       "      <td>0.795888</td>\n",
       "      <td>0.368613</td>\n",
       "      <td>0.142298</td>\n",
       "      <td>0.364576</td>\n",
       "      <td>0.719243</td>\n",
       "      <td>0.083243</td>\n",
       "      <td>0.660581</td>\n",
       "      <td>1.087856</td>\n",
       "      <td>0.582812</td>\n",
       "      <td>0.777083</td>\n",
       "    </tr>\n",
       "    <tr>\n",
       "      <th>2010-07-14</th>\n",
       "      <td>1.347200</td>\n",
       "      <td>0.398313</td>\n",
       "      <td>0.945215</td>\n",
       "      <td>0.631368</td>\n",
       "      <td>0.583039</td>\n",
       "      <td>0.621207</td>\n",
       "      <td>0.398313</td>\n",
       "      <td>0.504932</td>\n",
       "      <td>0.715833</td>\n",
       "      <td>1.029680</td>\n",
       "      <td>0.581838</td>\n",
       "      <td>0.775784</td>\n",
       "    </tr>\n",
       "    <tr>\n",
       "      <th>2010-07-15</th>\n",
       "      <td>2.042048</td>\n",
       "      <td>0.686374</td>\n",
       "      <td>1.063202</td>\n",
       "      <td>1.263874</td>\n",
       "      <td>1.147056</td>\n",
       "      <td>1.242195</td>\n",
       "      <td>0.686374</td>\n",
       "      <td>1.173197</td>\n",
       "      <td>0.778173</td>\n",
       "      <td>0.577501</td>\n",
       "      <td>0.451891</td>\n",
       "      <td>0.602522</td>\n",
       "    </tr>\n",
       "    <tr>\n",
       "      <th>2010-07-16</th>\n",
       "      <td>2.212348</td>\n",
       "      <td>0.412017</td>\n",
       "      <td>1.127003</td>\n",
       "      <td>0.975778</td>\n",
       "      <td>0.747199</td>\n",
       "      <td>0.912454</td>\n",
       "      <td>0.412017</td>\n",
       "      <td>0.490695</td>\n",
       "      <td>1.236570</td>\n",
       "      <td>1.387795</td>\n",
       "      <td>0.874788</td>\n",
       "      <td>1.166385</td>\n",
       "    </tr>\n",
       "    <tr>\n",
       "      <th>2010-07-19</th>\n",
       "      <td>2.419317</td>\n",
       "      <td>0.810615</td>\n",
       "      <td>1.032591</td>\n",
       "      <td>0.880431</td>\n",
       "      <td>0.496665</td>\n",
       "      <td>0.771813</td>\n",
       "      <td>0.810615</td>\n",
       "      <td>0.504571</td>\n",
       "      <td>1.538886</td>\n",
       "      <td>1.691046</td>\n",
       "      <td>1.076644</td>\n",
       "      <td>1.435525</td>\n",
       "    </tr>\n",
       "    <tr>\n",
       "      <th>2010-07-20</th>\n",
       "      <td>2.985254</td>\n",
       "      <td>0.365955</td>\n",
       "      <td>1.436018</td>\n",
       "      <td>1.595742</td>\n",
       "      <td>1.337696</td>\n",
       "      <td>1.490817</td>\n",
       "      <td>0.365955</td>\n",
       "      <td>1.377295</td>\n",
       "      <td>1.389512</td>\n",
       "      <td>1.229787</td>\n",
       "      <td>0.873100</td>\n",
       "      <td>1.164133</td>\n",
       "    </tr>\n",
       "    <tr>\n",
       "      <th>2010-07-21</th>\n",
       "      <td>3.124027</td>\n",
       "      <td>0.148113</td>\n",
       "      <td>1.609882</td>\n",
       "      <td>1.528599</td>\n",
       "      <td>1.083050</td>\n",
       "      <td>1.374179</td>\n",
       "      <td>0.148113</td>\n",
       "      <td>0.983473</td>\n",
       "      <td>1.595428</td>\n",
       "      <td>1.676712</td>\n",
       "      <td>1.090714</td>\n",
       "      <td>1.454285</td>\n",
       "    </tr>\n",
       "    <tr>\n",
       "      <th>2010-07-22</th>\n",
       "      <td>3.523543</td>\n",
       "      <td>0.446820</td>\n",
       "      <td>1.847913</td>\n",
       "      <td>1.641545</td>\n",
       "      <td>1.037049</td>\n",
       "      <td>1.423309</td>\n",
       "      <td>0.446820</td>\n",
       "      <td>1.064696</td>\n",
       "      <td>1.881998</td>\n",
       "      <td>2.088365</td>\n",
       "      <td>1.323454</td>\n",
       "      <td>1.764606</td>\n",
       "    </tr>\n",
       "    <tr>\n",
       "      <th>2010-07-23</th>\n",
       "      <td>3.817403</td>\n",
       "      <td>0.022236</td>\n",
       "      <td>2.234414</td>\n",
       "      <td>2.009861</td>\n",
       "      <td>1.504906</td>\n",
       "      <td>1.778084</td>\n",
       "      <td>0.022236</td>\n",
       "      <td>1.481245</td>\n",
       "      <td>1.807543</td>\n",
       "      <td>2.032096</td>\n",
       "      <td>1.279880</td>\n",
       "      <td>1.706506</td>\n",
       "    </tr>\n",
       "    <tr>\n",
       "      <th>2010-07-26</th>\n",
       "      <td>4.088204</td>\n",
       "      <td>0.542247</td>\n",
       "      <td>2.166462</td>\n",
       "      <td>1.904140</td>\n",
       "      <td>1.174051</td>\n",
       "      <td>1.594497</td>\n",
       "      <td>0.542247</td>\n",
       "      <td>1.176455</td>\n",
       "      <td>2.184064</td>\n",
       "      <td>2.446387</td>\n",
       "      <td>1.543484</td>\n",
       "      <td>2.057978</td>\n",
       "    </tr>\n",
       "    <tr>\n",
       "      <th>2010-07-27</th>\n",
       "      <td>4.437562</td>\n",
       "      <td>0.522683</td>\n",
       "      <td>2.373268</td>\n",
       "      <td>2.444504</td>\n",
       "      <td>1.933126</td>\n",
       "      <td>2.164624</td>\n",
       "      <td>0.522683</td>\n",
       "      <td>1.943739</td>\n",
       "      <td>1.993057</td>\n",
       "      <td>1.921821</td>\n",
       "      <td>1.304959</td>\n",
       "      <td>1.739946</td>\n",
       "    </tr>\n",
       "    <tr>\n",
       "      <th>2010-07-28</th>\n",
       "      <td>4.656660</td>\n",
       "      <td>0.975604</td>\n",
       "      <td>2.321987</td>\n",
       "      <td>2.001014</td>\n",
       "      <td>1.251679</td>\n",
       "      <td>1.581621</td>\n",
       "      <td>0.975604</td>\n",
       "      <td>1.029478</td>\n",
       "      <td>2.655646</td>\n",
       "      <td>2.976618</td>\n",
       "      <td>1.877421</td>\n",
       "      <td>2.503229</td>\n",
       "    </tr>\n",
       "    <tr>\n",
       "      <th>2010-07-29</th>\n",
       "      <td>4.497082</td>\n",
       "      <td>0.270370</td>\n",
       "      <td>2.198185</td>\n",
       "      <td>2.321879</td>\n",
       "      <td>1.829029</td>\n",
       "      <td>1.994130</td>\n",
       "      <td>0.270370</td>\n",
       "      <td>1.829447</td>\n",
       "      <td>2.175203</td>\n",
       "      <td>2.051509</td>\n",
       "      <td>1.408904</td>\n",
       "      <td>1.878539</td>\n",
       "    </tr>\n",
       "    <tr>\n",
       "      <th>2010-07-30</th>\n",
       "      <td>4.849073</td>\n",
       "      <td>0.026339</td>\n",
       "      <td>2.443734</td>\n",
       "      <td>2.422156</td>\n",
       "      <td>1.682850</td>\n",
       "      <td>2.026693</td>\n",
       "      <td>0.026339</td>\n",
       "      <td>1.638693</td>\n",
       "      <td>2.426917</td>\n",
       "      <td>2.448495</td>\n",
       "      <td>1.625137</td>\n",
       "      <td>2.166850</td>\n",
       "    </tr>\n",
       "    <tr>\n",
       "      <th>2010-08-02</th>\n",
       "      <td>5.092947</td>\n",
       "      <td>0.764513</td>\n",
       "      <td>2.782227</td>\n",
       "      <td>2.879896</td>\n",
       "      <td>2.166912</td>\n",
       "      <td>2.509545</td>\n",
       "      <td>0.764513</td>\n",
       "      <td>2.215413</td>\n",
       "      <td>2.213051</td>\n",
       "      <td>2.115383</td>\n",
       "      <td>1.442811</td>\n",
       "      <td>1.923748</td>\n",
       "    </tr>\n",
       "    <tr>\n",
       "      <th>2010-08-03</th>\n",
       "      <td>5.360783</td>\n",
       "      <td>0.741533</td>\n",
       "      <td>2.622859</td>\n",
       "      <td>2.908392</td>\n",
       "      <td>2.327416</td>\n",
       "      <td>2.502603</td>\n",
       "      <td>0.741533</td>\n",
       "      <td>2.153183</td>\n",
       "      <td>2.452392</td>\n",
       "      <td>2.166859</td>\n",
       "      <td>1.539750</td>\n",
       "      <td>2.053000</td>\n",
       "    </tr>\n",
       "    <tr>\n",
       "      <th>2010-08-04</th>\n",
       "      <td>5.246220</td>\n",
       "      <td>1.426190</td>\n",
       "      <td>2.804084</td>\n",
       "      <td>3.158831</td>\n",
       "      <td>2.644528</td>\n",
       "      <td>2.814014</td>\n",
       "      <td>1.426190</td>\n",
       "      <td>2.525597</td>\n",
       "      <td>2.087388</td>\n",
       "      <td>1.732641</td>\n",
       "      <td>1.273343</td>\n",
       "      <td>1.697791</td>\n",
       "    </tr>\n",
       "    <tr>\n",
       "      <th>2010-08-05</th>\n",
       "      <td>5.237616</td>\n",
       "      <td>1.334447</td>\n",
       "      <td>2.723018</td>\n",
       "      <td>3.098360</td>\n",
       "      <td>2.694475</td>\n",
       "      <td>2.743667</td>\n",
       "      <td>1.334447</td>\n",
       "      <td>2.399473</td>\n",
       "      <td>2.139256</td>\n",
       "      <td>1.763913</td>\n",
       "      <td>1.301056</td>\n",
       "      <td>1.734742</td>\n",
       "    </tr>\n",
       "    <tr>\n",
       "      <th>2010-08-06</th>\n",
       "      <td>5.093973</td>\n",
       "      <td>0.219356</td>\n",
       "      <td>2.575200</td>\n",
       "      <td>2.483273</td>\n",
       "      <td>1.928266</td>\n",
       "      <td>2.003939</td>\n",
       "      <td>0.219356</td>\n",
       "      <td>1.475117</td>\n",
       "      <td>2.610701</td>\n",
       "      <td>2.702628</td>\n",
       "      <td>1.771110</td>\n",
       "      <td>2.361479</td>\n",
       "    </tr>\n",
       "    <tr>\n",
       "      <th>2010-08-09</th>\n",
       "      <td>5.382044</td>\n",
       "      <td>0.016151</td>\n",
       "      <td>2.833268</td>\n",
       "      <td>2.743821</td>\n",
       "      <td>1.915337</td>\n",
       "      <td>2.245930</td>\n",
       "      <td>0.016151</td>\n",
       "      <td>1.931886</td>\n",
       "      <td>2.638223</td>\n",
       "      <td>2.727670</td>\n",
       "      <td>1.788631</td>\n",
       "      <td>2.384841</td>\n",
       "    </tr>\n",
       "    <tr>\n",
       "      <th>2010-08-10</th>\n",
       "      <td>4.983223</td>\n",
       "      <td>0.181677</td>\n",
       "      <td>2.807998</td>\n",
       "      <td>2.657633</td>\n",
       "      <td>1.873904</td>\n",
       "      <td>2.199895</td>\n",
       "      <td>0.181677</td>\n",
       "      <td>1.857263</td>\n",
       "      <td>2.325591</td>\n",
       "      <td>2.475956</td>\n",
       "      <td>1.600516</td>\n",
       "      <td>2.134021</td>\n",
       "    </tr>\n",
       "    <tr>\n",
       "      <th>2010-08-11</th>\n",
       "      <td>4.693782</td>\n",
       "      <td>0.849198</td>\n",
       "      <td>2.460349</td>\n",
       "      <td>2.101644</td>\n",
       "      <td>1.262028</td>\n",
       "      <td>1.563664</td>\n",
       "      <td>0.849198</td>\n",
       "      <td>1.155033</td>\n",
       "      <td>2.592138</td>\n",
       "      <td>2.950842</td>\n",
       "      <td>1.847660</td>\n",
       "      <td>2.463547</td>\n",
       "    </tr>\n",
       "    <tr>\n",
       "      <th>2010-08-12</th>\n",
       "      <td>5.002475</td>\n",
       "      <td>0.798358</td>\n",
       "      <td>2.525755</td>\n",
       "      <td>2.243291</td>\n",
       "      <td>1.552140</td>\n",
       "      <td>1.674803</td>\n",
       "      <td>0.798358</td>\n",
       "      <td>1.473225</td>\n",
       "      <td>2.759184</td>\n",
       "      <td>3.041649</td>\n",
       "      <td>1.933611</td>\n",
       "      <td>2.578148</td>\n",
       "    </tr>\n",
       "    <tr>\n",
       "      <th>2010-08-13</th>\n",
       "      <td>4.574625</td>\n",
       "      <td>0.029778</td>\n",
       "      <td>2.290140</td>\n",
       "      <td>2.278329</td>\n",
       "      <td>1.697401</td>\n",
       "      <td>1.820484</td>\n",
       "      <td>0.029778</td>\n",
       "      <td>1.672354</td>\n",
       "      <td>2.296296</td>\n",
       "      <td>2.308107</td>\n",
       "      <td>1.534801</td>\n",
       "      <td>2.046401</td>\n",
       "    </tr>\n",
       "    <tr>\n",
       "      <th>2010-08-16</th>\n",
       "      <td>4.734296</td>\n",
       "      <td>0.308101</td>\n",
       "      <td>2.325912</td>\n",
       "      <td>2.250703</td>\n",
       "      <td>1.419788</td>\n",
       "      <td>1.738973</td>\n",
       "      <td>0.308101</td>\n",
       "      <td>1.464059</td>\n",
       "      <td>2.483594</td>\n",
       "      <td>2.558803</td>\n",
       "      <td>1.680799</td>\n",
       "      <td>2.241065</td>\n",
       "    </tr>\n",
       "  </tbody>\n",
       "</table>\n",
       "</div>"
      ],
      "text/plain": [
       "            CNN-LSTM absolute error  MLP absolute error  CNN absolute error  \\\n",
       "Date                                                                          \n",
       "2010-07-06                 0.237130            0.341953            0.062031   \n",
       "2010-07-07                 0.285410            0.333012            0.430103   \n",
       "2010-07-08                 0.491744            0.361291            0.632654   \n",
       "2010-07-09                 0.709064            1.411126            0.770011   \n",
       "2010-07-12                 0.927026            0.109152            0.971348   \n",
       "2010-07-13                 1.029194            0.719243            0.795888   \n",
       "2010-07-14                 1.347200            0.398313            0.945215   \n",
       "2010-07-15                 2.042048            0.686374            1.063202   \n",
       "2010-07-16                 2.212348            0.412017            1.127003   \n",
       "2010-07-19                 2.419317            0.810615            1.032591   \n",
       "2010-07-20                 2.985254            0.365955            1.436018   \n",
       "2010-07-21                 3.124027            0.148113            1.609882   \n",
       "2010-07-22                 3.523543            0.446820            1.847913   \n",
       "2010-07-23                 3.817403            0.022236            2.234414   \n",
       "2010-07-26                 4.088204            0.542247            2.166462   \n",
       "2010-07-27                 4.437562            0.522683            2.373268   \n",
       "2010-07-28                 4.656660            0.975604            2.321987   \n",
       "2010-07-29                 4.497082            0.270370            2.198185   \n",
       "2010-07-30                 4.849073            0.026339            2.443734   \n",
       "2010-08-02                 5.092947            0.764513            2.782227   \n",
       "2010-08-03                 5.360783            0.741533            2.622859   \n",
       "2010-08-04                 5.246220            1.426190            2.804084   \n",
       "2010-08-05                 5.237616            1.334447            2.723018   \n",
       "2010-08-06                 5.093973            0.219356            2.575200   \n",
       "2010-08-09                 5.382044            0.016151            2.833268   \n",
       "2010-08-10                 4.983223            0.181677            2.807998   \n",
       "2010-08-11                 4.693782            0.849198            2.460349   \n",
       "2010-08-12                 5.002475            0.798358            2.525755   \n",
       "2010-08-13                 4.574625            0.029778            2.290140   \n",
       "2010-08-16                 4.734296            0.308101            2.325912   \n",
       "\n",
       "            Average absolute error  NoMemory absolute error  \\\n",
       "Date                                                          \n",
       "2010-07-06                0.172351                 0.172351   \n",
       "2010-07-07                0.127501                 0.206471   \n",
       "2010-07-08                0.495230                 0.488788   \n",
       "2010-07-09                0.022649                 0.075740   \n",
       "2010-07-12                0.669175                 0.734007   \n",
       "2010-07-13                0.368613                 0.142298   \n",
       "2010-07-14                0.631368                 0.583039   \n",
       "2010-07-15                1.263874                 1.147056   \n",
       "2010-07-16                0.975778                 0.747199   \n",
       "2010-07-19                0.880431                 0.496665   \n",
       "2010-07-20                1.595742                 1.337696   \n",
       "2010-07-21                1.528599                 1.083050   \n",
       "2010-07-22                1.641545                 1.037049   \n",
       "2010-07-23                2.009861                 1.504906   \n",
       "2010-07-26                1.904140                 1.174051   \n",
       "2010-07-27                2.444504                 1.933126   \n",
       "2010-07-28                2.001014                 1.251679   \n",
       "2010-07-29                2.321879                 1.829029   \n",
       "2010-07-30                2.422156                 1.682850   \n",
       "2010-08-02                2.879896                 2.166912   \n",
       "2010-08-03                2.908392                 2.327416   \n",
       "2010-08-04                3.158831                 2.644528   \n",
       "2010-08-05                3.098360                 2.694475   \n",
       "2010-08-06                2.483273                 1.928266   \n",
       "2010-08-09                2.743821                 1.915337   \n",
       "2010-08-10                2.657633                 1.873904   \n",
       "2010-08-11                2.101644                 1.262028   \n",
       "2010-08-12                2.243291                 1.552140   \n",
       "2010-08-13                2.278329                 1.697401   \n",
       "2010-08-16                2.250703                 1.419788   \n",
       "\n",
       "            Memory absolute error  Focus absolute error  \\\n",
       "Date                                                      \n",
       "2010-07-06               0.172351              0.172351   \n",
       "2010-07-07               0.166986              0.430103   \n",
       "2010-07-08               0.502988              0.491744   \n",
       "2010-07-09               0.048115              1.411126   \n",
       "2010-07-12               0.690140              0.927026   \n",
       "2010-07-13               0.364576              0.719243   \n",
       "2010-07-14               0.621207              0.398313   \n",
       "2010-07-15               1.242195              0.686374   \n",
       "2010-07-16               0.912454              0.412017   \n",
       "2010-07-19               0.771813              0.810615   \n",
       "2010-07-20               1.490817              0.365955   \n",
       "2010-07-21               1.374179              0.148113   \n",
       "2010-07-22               1.423309              0.446820   \n",
       "2010-07-23               1.778084              0.022236   \n",
       "2010-07-26               1.594497              0.542247   \n",
       "2010-07-27               2.164624              0.522683   \n",
       "2010-07-28               1.581621              0.975604   \n",
       "2010-07-29               1.994130              0.270370   \n",
       "2010-07-30               2.026693              0.026339   \n",
       "2010-08-02               2.509545              0.764513   \n",
       "2010-08-03               2.502603              0.741533   \n",
       "2010-08-04               2.814014              1.426190   \n",
       "2010-08-05               2.743667              1.334447   \n",
       "2010-08-06               2.003939              0.219356   \n",
       "2010-08-09               2.245930              0.016151   \n",
       "2010-08-10               2.199895              0.181677   \n",
       "2010-08-11               1.563664              0.849198   \n",
       "2010-08-12               1.674803              0.798358   \n",
       "2010-08-13               1.820484              0.029778   \n",
       "2010-08-16               1.738973              0.308101   \n",
       "\n",
       "            Anchor absolute error  CNN-LSTM disagreement score  \\\n",
       "Date                                                             \n",
       "2010-07-06               0.199793                     0.134661   \n",
       "2010-07-07               0.117856                     0.254372   \n",
       "2010-07-08               0.505887                     0.090454   \n",
       "2010-07-09               0.358501                     0.727046   \n",
       "2010-07-12               0.712865                     0.287399   \n",
       "2010-07-13               0.083243                     0.660581   \n",
       "2010-07-14               0.504932                     0.715833   \n",
       "2010-07-15               1.173197                     0.778173   \n",
       "2010-07-16               0.490695                     1.236570   \n",
       "2010-07-19               0.504571                     1.538886   \n",
       "2010-07-20               1.377295                     1.389512   \n",
       "2010-07-21               0.983473                     1.595428   \n",
       "2010-07-22               1.064696                     1.881998   \n",
       "2010-07-23               1.481245                     1.807543   \n",
       "2010-07-26               1.176455                     2.184064   \n",
       "2010-07-27               1.943739                     1.993057   \n",
       "2010-07-28               1.029478                     2.655646   \n",
       "2010-07-29               1.829447                     2.175203   \n",
       "2010-07-30               1.638693                     2.426917   \n",
       "2010-08-02               2.215413                     2.213051   \n",
       "2010-08-03               2.153183                     2.452392   \n",
       "2010-08-04               2.525597                     2.087388   \n",
       "2010-08-05               2.399473                     2.139256   \n",
       "2010-08-06               1.475117                     2.610701   \n",
       "2010-08-09               1.931886                     2.638223   \n",
       "2010-08-10               1.857263                     2.325591   \n",
       "2010-08-11               1.155033                     2.592138   \n",
       "2010-08-12               1.473225                     2.759184   \n",
       "2010-08-13               1.672354                     2.296296   \n",
       "2010-08-16               1.464059                     2.483594   \n",
       "\n",
       "            MLP disagreement score  CNN disagreement score  \\\n",
       "Date                                                         \n",
       "2010-07-06                0.169602                0.234382   \n",
       "2010-07-07                0.460512                0.302603   \n",
       "2010-07-08                0.133939                0.137424   \n",
       "2010-07-09                1.433776                0.747362   \n",
       "2010-07-12                0.560023                0.302173   \n",
       "2010-07-13                1.087856                0.582812   \n",
       "2010-07-14                1.029680                0.581838   \n",
       "2010-07-15                0.577501                0.451891   \n",
       "2010-07-16                1.387795                0.874788   \n",
       "2010-07-19                1.691046                1.076644   \n",
       "2010-07-20                1.229787                0.873100   \n",
       "2010-07-21                1.676712                1.090714   \n",
       "2010-07-22                2.088365                1.323454   \n",
       "2010-07-23                2.032096                1.279880   \n",
       "2010-07-26                2.446387                1.543484   \n",
       "2010-07-27                1.921821                1.304959   \n",
       "2010-07-28                2.976618                1.877421   \n",
       "2010-07-29                2.051509                1.408904   \n",
       "2010-07-30                2.448495                1.625137   \n",
       "2010-08-02                2.115383                1.442811   \n",
       "2010-08-03                2.166859                1.539750   \n",
       "2010-08-04                1.732641                1.273343   \n",
       "2010-08-05                1.763913                1.301056   \n",
       "2010-08-06                2.702628                1.771110   \n",
       "2010-08-09                2.727670                1.788631   \n",
       "2010-08-10                2.475956                1.600516   \n",
       "2010-08-11                2.950842                1.847660   \n",
       "2010-08-12                3.041649                1.933611   \n",
       "2010-08-13                2.308107                1.534801   \n",
       "2010-08-16                2.558803                1.680799   \n",
       "\n",
       "            System Disagreement  \n",
       "Date                             \n",
       "2010-07-06             0.179548  \n",
       "2010-07-07             0.339162  \n",
       "2010-07-08             0.120606  \n",
       "2010-07-09             0.969394  \n",
       "2010-07-12             0.383198  \n",
       "2010-07-13             0.777083  \n",
       "2010-07-14             0.775784  \n",
       "2010-07-15             0.602522  \n",
       "2010-07-16             1.166385  \n",
       "2010-07-19             1.435525  \n",
       "2010-07-20             1.164133  \n",
       "2010-07-21             1.454285  \n",
       "2010-07-22             1.764606  \n",
       "2010-07-23             1.706506  \n",
       "2010-07-26             2.057978  \n",
       "2010-07-27             1.739946  \n",
       "2010-07-28             2.503229  \n",
       "2010-07-29             1.878539  \n",
       "2010-07-30             2.166850  \n",
       "2010-08-02             1.923748  \n",
       "2010-08-03             2.053000  \n",
       "2010-08-04             1.697791  \n",
       "2010-08-05             1.734742  \n",
       "2010-08-06             2.361479  \n",
       "2010-08-09             2.384841  \n",
       "2010-08-10             2.134021  \n",
       "2010-08-11             2.463547  \n",
       "2010-08-12             2.578148  \n",
       "2010-08-13             2.046401  \n",
       "2010-08-16             2.241065  "
      ]
     },
     "execution_count": 10,
     "metadata": {},
     "output_type": "execute_result"
    }
   ],
   "source": [
    "absolute_error_analytics(final_df6, algos6, real)"
   ]
  },
  {
   "cell_type": "code",
   "execution_count": null,
   "metadata": {},
   "outputs": [],
   "source": [
    "mat6 = correlation(yu)"
   ]
  },
  {
   "cell_type": "code",
   "execution_count": null,
   "metadata": {},
   "outputs": [],
   "source": [
    "mat3 = correlation(yu3, True)"
   ]
  },
  {
   "cell_type": "code",
   "execution_count": null,
   "metadata": {},
   "outputs": [],
   "source": [
    "mse_score(ui6, True)"
   ]
  },
  {
   "cell_type": "code",
   "execution_count": null,
   "metadata": {},
   "outputs": [],
   "source": [
    "mse_log_score(ui6)"
   ]
  },
  {
   "cell_type": "code",
   "execution_count": null,
   "metadata": {},
   "outputs": [],
   "source": [
    "mae_score(ui6)"
   ]
  },
  {
   "cell_type": "code",
   "execution_count": null,
   "metadata": {},
   "outputs": [],
   "source": [
    "mse_score(ui2)"
   ]
  },
  {
   "cell_type": "code",
   "execution_count": null,
   "metadata": {},
   "outputs": [],
   "source": [
    "mse_log_score(ui1)"
   ]
  },
  {
   "cell_type": "code",
   "execution_count": null,
   "metadata": {},
   "outputs": [],
   "source": [
    "mae_score(ui2)"
   ]
  },
  {
   "cell_type": "code",
   "execution_count": null,
   "metadata": {},
   "outputs": [],
   "source": [
    "mse_score(ui3)"
   ]
  },
  {
   "cell_type": "code",
   "execution_count": null,
   "metadata": {},
   "outputs": [],
   "source": [
    "mse_log_score(ui3)"
   ]
  },
  {
   "cell_type": "code",
   "execution_count": null,
   "metadata": {},
   "outputs": [],
   "source": [
    "mae_score(ui3)"
   ]
  },
  {
   "cell_type": "code",
   "execution_count": null,
   "metadata": {},
   "outputs": [],
   "source": [
    "plot_performance(ui1)"
   ]
  },
  {
   "cell_type": "code",
   "execution_count": null,
   "metadata": {
    "scrolled": true
   },
   "outputs": [],
   "source": [
    "plot_performance(ui2)"
   ]
  },
  {
   "cell_type": "code",
   "execution_count": null,
   "metadata": {
    "scrolled": true
   },
   "outputs": [],
   "source": [
    "plot_performance(ui3)"
   ]
  },
  {
   "cell_type": "code",
   "execution_count": null,
   "metadata": {
    "scrolled": true
   },
   "outputs": [],
   "source": [
    "plot_performance(ui4)"
   ]
  },
  {
   "cell_type": "code",
   "execution_count": null,
   "metadata": {},
   "outputs": [],
   "source": [
    "plot_performance(ui5)"
   ]
  },
  {
   "cell_type": "code",
   "execution_count": null,
   "metadata": {
    "scrolled": false
   },
   "outputs": [],
   "source": [
    "plot_performance(ui6)"
   ]
  },
  {
   "cell_type": "code",
   "execution_count": null,
   "metadata": {},
   "outputs": [],
   "source": []
  }
 ],
 "metadata": {
  "kernelspec": {
   "display_name": "Python 3",
   "language": "python",
   "name": "python3"
  },
  "language_info": {
   "codemirror_mode": {
    "name": "ipython",
    "version": 3
   },
   "file_extension": ".py",
   "mimetype": "text/x-python",
   "name": "python",
   "nbconvert_exporter": "python",
   "pygments_lexer": "ipython3",
   "version": "3.8.1"
  }
 },
 "nbformat": 4,
 "nbformat_minor": 2
}
