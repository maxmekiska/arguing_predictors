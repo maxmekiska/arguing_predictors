{
 "cells": [
  {
   "cell_type": "code",
   "execution_count": 1,
   "metadata": {},
   "outputs": [],
   "source": [
    "%config InlineBackend.figure_format = 'retina'"
   ]
  },
  {
   "cell_type": "markdown",
   "metadata": {},
   "source": [
    "# Testing Enviornment"
   ]
  },
  {
   "cell_type": "code",
   "execution_count": null,
   "metadata": {},
   "outputs": [],
   "source": [
    "import pandas as pd\n",
    "from pandas import DataFrame\n",
    "import numpy as np"
   ]
  },
  {
   "cell_type": "markdown",
   "metadata": {},
   "source": [
    "## Running tests"
   ]
  },
  {
   "cell_type": "markdown",
   "metadata": {},
   "source": [
    "The following section unit-tests most of the code written for the proof of concept prototype."
   ]
  },
  {
   "cell_type": "code",
   "execution_count": 2,
   "metadata": {
    "scrolled": true
   },
   "outputs": [
    {
     "name": "stderr",
     "output_type": "stream",
     "text": [
      "......................\n",
      "----------------------------------------------------------------------\n",
      "Ran 22 tests in 0.225s\n",
      "\n",
      "OK\n"
     ]
    }
   ],
   "source": [
    "%run ../test/test_algorithms.py"
   ]
  },
  {
   "cell_type": "code",
   "execution_count": 3,
   "metadata": {},
   "outputs": [
    {
     "name": "stderr",
     "output_type": "stream",
     "text": [
      "...............\n",
      "----------------------------------------------------------------------\n",
      "Ran 15 tests in 0.033s\n",
      "\n",
      "OK\n"
     ]
    }
   ],
   "source": [
    "%run ../test/test_dataloader.py"
   ]
  },
  {
   "cell_type": "code",
   "execution_count": 4,
   "metadata": {},
   "outputs": [
    {
     "name": "stderr",
     "output_type": "stream",
     "text": [
      "..\n",
      "----------------------------------------------------------------------\n",
      "Ran 2 tests in 0.008s\n",
      "\n",
      "OK\n"
     ]
    }
   ],
   "source": [
    "%run ../test/test_predictorsI.py"
   ]
  },
  {
   "cell_type": "code",
   "execution_count": 5,
   "metadata": {},
   "outputs": [
    {
     "name": "stderr",
     "output_type": "stream",
     "text": [
      ".\n",
      "----------------------------------------------------------------------\n",
      "Ran 1 test in 0.003s\n",
      "\n",
      "OK\n"
     ]
    }
   ],
   "source": [
    "%run ../test/test_predictorsII.py"
   ]
  },
  {
   "cell_type": "code",
   "execution_count": 6,
   "metadata": {},
   "outputs": [
    {
     "name": "stderr",
     "output_type": "stream",
     "text": [
      "...\n",
      "----------------------------------------------------------------------\n",
      "Ran 3 tests in 0.004s\n",
      "\n",
      "OK\n"
     ]
    }
   ],
   "source": [
    "%run ../test/test_activate.py"
   ]
  },
  {
   "cell_type": "markdown",
   "metadata": {},
   "source": [
    "## Running example of the system"
   ]
  },
  {
   "cell_type": "code",
   "execution_count": null,
   "metadata": {},
   "outputs": [],
   "source": [
    "%run ../consensus/algorithms.py"
   ]
  },
  {
   "cell_type": "code",
   "execution_count": null,
   "metadata": {},
   "outputs": [],
   "source": [
    "%run ../tools/dataloader.py"
   ]
  },
  {
   "cell_type": "code",
   "execution_count": null,
   "metadata": {},
   "outputs": [],
   "source": [
    "test = DataLoader('aapl', '2009-01-01', '2010-02-10')"
   ]
  },
  {
   "cell_type": "code",
   "execution_count": null,
   "metadata": {},
   "outputs": [],
   "source": [
    "prices = test.get_close()"
   ]
  },
  {
   "cell_type": "code",
   "execution_count": null,
   "metadata": {},
   "outputs": [],
   "source": [
    "prices"
   ]
  },
  {
   "cell_type": "code",
   "execution_count": null,
   "metadata": {},
   "outputs": [],
   "source": [
    "#prices = np.array(prices)\n",
    "#len(prices)"
   ]
  },
  {
   "cell_type": "code",
   "execution_count": null,
   "metadata": {},
   "outputs": [],
   "source": [
    "prices"
   ]
  },
  {
   "cell_type": "code",
   "execution_count": null,
   "metadata": {},
   "outputs": [],
   "source": [
    "%run ../tools/predictorsI.py"
   ]
  },
  {
   "cell_type": "code",
   "execution_count": null,
   "metadata": {},
   "outputs": [],
   "source": [
    "op0 = BasicUnivariatePredictor(prices, 24, 30)\n",
    "op1 = BasicUnivariatePredictor(prices, 25, 7)\n",
    "op2 = BasicUnivariatePredictor(prices, 25, 7)\n",
    "op3 = BasicUnivariatePredictor(prices, 25, 7)"
   ]
  },
  {
   "cell_type": "code",
   "execution_count": null,
   "metadata": {},
   "outputs": [],
   "source": [
    "op0.create_bilstm()"
   ]
  },
  {
   "cell_type": "code",
   "execution_count": null,
   "metadata": {},
   "outputs": [],
   "source": [
    "op0.model_blueprint()"
   ]
  },
  {
   "cell_type": "code",
   "execution_count": null,
   "metadata": {},
   "outputs": [],
   "source": [
    "op0.fit_model(150)"
   ]
  },
  {
   "cell_type": "code",
   "execution_count": null,
   "metadata": {},
   "outputs": [],
   "source": [
    "op0.show_performance()"
   ]
  },
  {
   "cell_type": "code",
   "execution_count": null,
   "metadata": {},
   "outputs": [],
   "source": [
    "op0.save_model()"
   ]
  },
  {
   "cell_type": "code",
   "execution_count": null,
   "metadata": {},
   "outputs": [],
   "source": [
    "oyea = prices[-26:-1]\n",
    "#oyea = X[-1]\n",
    "#oyea"
   ]
  },
  {
   "cell_type": "code",
   "execution_count": null,
   "metadata": {},
   "outputs": [],
   "source": [
    "nice = op0.predict(oyea)\n",
    "nice"
   ]
  },
  {
   "cell_type": "code",
   "execution_count": null,
   "metadata": {},
   "outputs": [],
   "source": [
    "op1.create_lstm()"
   ]
  },
  {
   "cell_type": "code",
   "execution_count": null,
   "metadata": {},
   "outputs": [],
   "source": [
    "op1.model_blueprint()"
   ]
  },
  {
   "cell_type": "code",
   "execution_count": null,
   "metadata": {},
   "outputs": [],
   "source": [
    "op1.fit_model(10)"
   ]
  },
  {
   "cell_type": "code",
   "execution_count": null,
   "metadata": {},
   "outputs": [],
   "source": [
    "op1.show_performance()"
   ]
  },
  {
   "cell_type": "code",
   "execution_count": null,
   "metadata": {},
   "outputs": [],
   "source": [
    "nice = op1.predict(oyea)\n",
    "nice"
   ]
  },
  {
   "cell_type": "code",
   "execution_count": null,
   "metadata": {},
   "outputs": [],
   "source": [
    "op2.create_cnn()"
   ]
  },
  {
   "cell_type": "code",
   "execution_count": null,
   "metadata": {},
   "outputs": [],
   "source": [
    "op2.model_blueprint()"
   ]
  },
  {
   "cell_type": "code",
   "execution_count": null,
   "metadata": {},
   "outputs": [],
   "source": [
    "op2.fit_model(10)"
   ]
  },
  {
   "cell_type": "code",
   "execution_count": null,
   "metadata": {},
   "outputs": [],
   "source": [
    "op2.show_performance()"
   ]
  },
  {
   "cell_type": "code",
   "execution_count": null,
   "metadata": {},
   "outputs": [],
   "source": [
    "nice = op2.predict(oyea)\n",
    "nice"
   ]
  },
  {
   "cell_type": "code",
   "execution_count": null,
   "metadata": {},
   "outputs": [],
   "source": [
    "op3.create_mlp()"
   ]
  },
  {
   "cell_type": "code",
   "execution_count": null,
   "metadata": {},
   "outputs": [],
   "source": [
    "op3.model_blueprint()"
   ]
  },
  {
   "cell_type": "code",
   "execution_count": null,
   "metadata": {},
   "outputs": [],
   "source": [
    "op3.fit_model(100)"
   ]
  },
  {
   "cell_type": "code",
   "execution_count": null,
   "metadata": {},
   "outputs": [],
   "source": [
    "op3.show_performance()"
   ]
  },
  {
   "cell_type": "code",
   "execution_count": null,
   "metadata": {},
   "outputs": [],
   "source": [
    "oyea = prices[-26:-1]\n",
    "#oyea = X[-1]\n",
    "#oyea"
   ]
  },
  {
   "cell_type": "code",
   "execution_count": null,
   "metadata": {},
   "outputs": [],
   "source": [
    "nice = op3.predict(oyea)\n",
    "nice"
   ]
  },
  {
   "cell_type": "code",
   "execution_count": null,
   "metadata": {},
   "outputs": [],
   "source": [
    "%run ../tools/predictorsII.py"
   ]
  },
  {
   "cell_type": "code",
   "execution_count": null,
   "metadata": {},
   "outputs": [],
   "source": [
    "oo = UnivariatePredictorII(prices, 7)"
   ]
  },
  {
   "cell_type": "code",
   "execution_count": null,
   "metadata": {},
   "outputs": [],
   "source": [
    "oo.fit_neural_model(100,\"D\")"
   ]
  },
  {
   "cell_type": "code",
   "execution_count": null,
   "metadata": {
    "scrolled": true
   },
   "outputs": [],
   "source": [
    "oo.show_performance_neural()"
   ]
  },
  {
   "cell_type": "code",
   "execution_count": null,
   "metadata": {
    "scrolled": true
   },
   "outputs": [],
   "source": [
    "oo.predict_neural()"
   ]
  },
  {
   "cell_type": "code",
   "execution_count": null,
   "metadata": {
    "scrolled": false
   },
   "outputs": [],
   "source": [
    "oo.fit_prophet_model()"
   ]
  },
  {
   "cell_type": "code",
   "execution_count": null,
   "metadata": {},
   "outputs": [],
   "source": [
    "oo.show_performance_prophet()"
   ]
  },
  {
   "cell_type": "code",
   "execution_count": null,
   "metadata": {},
   "outputs": [],
   "source": [
    "oo.predict_prophet()"
   ]
  },
  {
   "cell_type": "code",
   "execution_count": null,
   "metadata": {},
   "outputs": [],
   "source": [
    "%run ../tools/predictorsIII.py"
   ]
  },
  {
   "cell_type": "code",
   "execution_count": null,
   "metadata": {},
   "outputs": [],
   "source": [
    "len(prices)"
   ]
  },
  {
   "cell_type": "code",
   "execution_count": null,
   "metadata": {},
   "outputs": [],
   "source": [
    "op4 = HybridUnivariatePredictor(prices,2, 24, 7)"
   ]
  },
  {
   "cell_type": "code",
   "execution_count": null,
   "metadata": {},
   "outputs": [],
   "source": [
    "op4.create_cnnlstm()"
   ]
  },
  {
   "cell_type": "code",
   "execution_count": null,
   "metadata": {},
   "outputs": [],
   "source": [
    "op4.model_blueprint()"
   ]
  },
  {
   "cell_type": "code",
   "execution_count": null,
   "metadata": {},
   "outputs": [],
   "source": [
    "op4.fit_model(10)"
   ]
  },
  {
   "cell_type": "code",
   "execution_count": null,
   "metadata": {},
   "outputs": [],
   "source": [
    "op4.show_performance()"
   ]
  },
  {
   "cell_type": "code",
   "execution_count": null,
   "metadata": {},
   "outputs": [],
   "source": [
    "oyea = prices[-25:-1]\n",
    "#oyea = X[-1]\n",
    "#oyea"
   ]
  },
  {
   "cell_type": "code",
   "execution_count": null,
   "metadata": {},
   "outputs": [],
   "source": [
    "nice = op4.predict(oyea)\n",
    "nice\n",
    "#noice = pd.DataFrame(nice, columns=['yea'])\n",
    "#noice = nice.reshape(20, 1)\n",
    "#noice = pd.DataFrame(noice, columns=['yea'])"
   ]
  },
  {
   "cell_type": "code",
   "execution_count": null,
   "metadata": {},
   "outputs": [],
   "source": [
    "nice.plot()"
   ]
  },
  {
   "cell_type": "markdown",
   "metadata": {},
   "source": [
    "## Whole system test - I am alive v.2"
   ]
  },
  {
   "cell_type": "code",
   "execution_count": 7,
   "metadata": {
    "scrolled": true
   },
   "outputs": [],
   "source": [
    "%run ../tools/dataloader.py\n",
    "%run ../system/activate.py"
   ]
  },
  {
   "cell_type": "code",
   "execution_count": null,
   "metadata": {},
   "outputs": [],
   "source": [
    "training = DataLoader('aapl', '2009-01-01', '2010-05-01')"
   ]
  },
  {
   "cell_type": "code",
   "execution_count": null,
   "metadata": {},
   "outputs": [],
   "source": [
    "training = training.get_close()"
   ]
  },
  {
   "cell_type": "code",
   "execution_count": null,
   "metadata": {},
   "outputs": [],
   "source": [
    "#real = DataLoader('aapl', '2010-05-01', '2010-05-28')"
   ]
  },
  {
   "cell_type": "code",
   "execution_count": null,
   "metadata": {},
   "outputs": [],
   "source": [
    "#real = real.get_close()"
   ]
  },
  {
   "cell_type": "code",
   "execution_count": null,
   "metadata": {},
   "outputs": [],
   "source": [
    "#len(real)"
   ]
  },
  {
   "cell_type": "code",
   "execution_count": 8,
   "metadata": {},
   "outputs": [],
   "source": [
    "predict = DataLoader('aapl', '2010-06-01', '2010-09-01')"
   ]
  },
  {
   "cell_type": "code",
   "execution_count": 9,
   "metadata": {},
   "outputs": [],
   "source": [
    "predict = predict.get_close()"
   ]
  },
  {
   "cell_type": "code",
   "execution_count": 10,
   "metadata": {},
   "outputs": [],
   "source": [
    "predict_req, real = data_prep(predict, 24, 30)"
   ]
  },
  {
   "cell_type": "code",
   "execution_count": null,
   "metadata": {},
   "outputs": [],
   "source": [
    "#real"
   ]
  },
  {
   "cell_type": "code",
   "execution_count": null,
   "metadata": {
    "scrolled": true
   },
   "outputs": [],
   "source": [
    "final_df1 = individual_predictors1(training, predict_req, 30)"
   ]
  },
  {
   "cell_type": "code",
   "execution_count": null,
   "metadata": {
    "scrolled": true
   },
   "outputs": [],
   "source": [
    "final_df2 = individual_predictors2(training, predict_req, 30)"
   ]
  },
  {
   "cell_type": "code",
   "execution_count": null,
   "metadata": {
    "scrolled": true
   },
   "outputs": [],
   "source": [
    "final_df3 = individual_predictors3(training, predict_req, 30)"
   ]
  },
  {
   "cell_type": "code",
   "execution_count": null,
   "metadata": {},
   "outputs": [],
   "source": [
    "final_df3"
   ]
  },
  {
   "cell_type": "code",
   "execution_count": null,
   "metadata": {
    "scrolled": true
   },
   "outputs": [],
   "source": [
    "final_df4 = individual_predictors4(training, predict_req, 30)"
   ]
  },
  {
   "cell_type": "code",
   "execution_count": null,
   "metadata": {},
   "outputs": [],
   "source": [
    "final_df5 = individual_predictors5(training, 20)"
   ]
  },
  {
   "cell_type": "code",
   "execution_count": 11,
   "metadata": {},
   "outputs": [],
   "source": [
    "final_df6 = individual_predictors_pretrained1(predict_req, 30)"
   ]
  },
  {
   "cell_type": "code",
   "execution_count": 12,
   "metadata": {},
   "outputs": [
    {
     "data": {
      "text/html": [
       "<div>\n",
       "<style scoped>\n",
       "    .dataframe tbody tr th:only-of-type {\n",
       "        vertical-align: middle;\n",
       "    }\n",
       "\n",
       "    .dataframe tbody tr th {\n",
       "        vertical-align: top;\n",
       "    }\n",
       "\n",
       "    .dataframe thead th {\n",
       "        text-align: right;\n",
       "    }\n",
       "</style>\n",
       "<table border=\"1\" class=\"dataframe\">\n",
       "  <thead>\n",
       "    <tr style=\"text-align: right;\">\n",
       "      <th></th>\n",
       "      <th>CNN-LSTM</th>\n",
       "      <th>MLP</th>\n",
       "      <th>CNN</th>\n",
       "    </tr>\n",
       "  </thead>\n",
       "  <tbody>\n",
       "    <tr>\n",
       "      <th>0</th>\n",
       "      <td>9.116774</td>\n",
       "      <td>9.221597</td>\n",
       "      <td>8.817613</td>\n",
       "    </tr>\n",
       "    <tr>\n",
       "      <th>1</th>\n",
       "      <td>8.952804</td>\n",
       "      <td>9.571225</td>\n",
       "      <td>8.808110</td>\n",
       "    </tr>\n",
       "    <tr>\n",
       "      <th>2</th>\n",
       "      <td>8.725756</td>\n",
       "      <td>8.856209</td>\n",
       "      <td>8.584846</td>\n",
       "    </tr>\n",
       "    <tr>\n",
       "      <th>3</th>\n",
       "      <td>8.563080</td>\n",
       "      <td>10.683270</td>\n",
       "      <td>8.502132</td>\n",
       "    </tr>\n",
       "    <tr>\n",
       "      <th>4</th>\n",
       "      <td>8.261903</td>\n",
       "      <td>9.079777</td>\n",
       "      <td>8.217581</td>\n",
       "    </tr>\n",
       "    <tr>\n",
       "      <th>5</th>\n",
       "      <td>7.963663</td>\n",
       "      <td>9.712100</td>\n",
       "      <td>8.196969</td>\n",
       "    </tr>\n",
       "    <tr>\n",
       "      <th>6</th>\n",
       "      <td>7.678870</td>\n",
       "      <td>9.424383</td>\n",
       "      <td>8.080855</td>\n",
       "    </tr>\n",
       "    <tr>\n",
       "      <th>7</th>\n",
       "      <td>6.938310</td>\n",
       "      <td>8.293983</td>\n",
       "      <td>7.917155</td>\n",
       "    </tr>\n",
       "    <tr>\n",
       "      <th>8</th>\n",
       "      <td>6.712652</td>\n",
       "      <td>9.337017</td>\n",
       "      <td>7.797997</td>\n",
       "    </tr>\n",
       "    <tr>\n",
       "      <th>9</th>\n",
       "      <td>6.351397</td>\n",
       "      <td>9.581328</td>\n",
       "      <td>7.738123</td>\n",
       "    </tr>\n",
       "    <tr>\n",
       "      <th>10</th>\n",
       "      <td>6.010817</td>\n",
       "      <td>8.630116</td>\n",
       "      <td>7.560053</td>\n",
       "    </tr>\n",
       "    <tr>\n",
       "      <th>11</th>\n",
       "      <td>5.955973</td>\n",
       "      <td>9.228113</td>\n",
       "      <td>7.470118</td>\n",
       "    </tr>\n",
       "    <tr>\n",
       "      <th>12</th>\n",
       "      <td>5.727171</td>\n",
       "      <td>9.697535</td>\n",
       "      <td>7.402802</td>\n",
       "    </tr>\n",
       "    <tr>\n",
       "      <th>13</th>\n",
       "      <td>5.466168</td>\n",
       "      <td>9.305807</td>\n",
       "      <td>7.049157</td>\n",
       "    </tr>\n",
       "    <tr>\n",
       "      <th>14</th>\n",
       "      <td>5.171796</td>\n",
       "      <td>9.802247</td>\n",
       "      <td>7.093538</td>\n",
       "    </tr>\n",
       "    <tr>\n",
       "      <th>15</th>\n",
       "      <td>4.993867</td>\n",
       "      <td>8.908746</td>\n",
       "      <td>7.058161</td>\n",
       "    </tr>\n",
       "    <tr>\n",
       "      <th>16</th>\n",
       "      <td>4.663340</td>\n",
       "      <td>10.295604</td>\n",
       "      <td>6.998013</td>\n",
       "    </tr>\n",
       "    <tr>\n",
       "      <th>17</th>\n",
       "      <td>4.721132</td>\n",
       "      <td>8.947844</td>\n",
       "      <td>7.020029</td>\n",
       "    </tr>\n",
       "    <tr>\n",
       "      <th>18</th>\n",
       "      <td>4.338427</td>\n",
       "      <td>9.213839</td>\n",
       "      <td>6.743766</td>\n",
       "    </tr>\n",
       "    <tr>\n",
       "      <th>19</th>\n",
       "      <td>4.258839</td>\n",
       "      <td>8.587273</td>\n",
       "      <td>6.569559</td>\n",
       "    </tr>\n",
       "    <tr>\n",
       "      <th>20</th>\n",
       "      <td>3.993860</td>\n",
       "      <td>8.613110</td>\n",
       "      <td>6.731784</td>\n",
       "    </tr>\n",
       "    <tr>\n",
       "      <th>21</th>\n",
       "      <td>4.145924</td>\n",
       "      <td>7.965953</td>\n",
       "      <td>6.588059</td>\n",
       "    </tr>\n",
       "    <tr>\n",
       "      <th>22</th>\n",
       "      <td>4.108813</td>\n",
       "      <td>8.011982</td>\n",
       "      <td>6.623411</td>\n",
       "    </tr>\n",
       "    <tr>\n",
       "      <th>23</th>\n",
       "      <td>4.194956</td>\n",
       "      <td>9.508285</td>\n",
       "      <td>6.713729</td>\n",
       "    </tr>\n",
       "    <tr>\n",
       "      <th>24</th>\n",
       "      <td>3.966170</td>\n",
       "      <td>9.332063</td>\n",
       "      <td>6.514946</td>\n",
       "    </tr>\n",
       "    <tr>\n",
       "      <th>25</th>\n",
       "      <td>4.281419</td>\n",
       "      <td>9.082966</td>\n",
       "      <td>6.456645</td>\n",
       "    </tr>\n",
       "    <tr>\n",
       "      <th>26</th>\n",
       "      <td>4.241575</td>\n",
       "      <td>9.784555</td>\n",
       "      <td>6.475008</td>\n",
       "    </tr>\n",
       "    <tr>\n",
       "      <th>27</th>\n",
       "      <td>3.990026</td>\n",
       "      <td>9.790858</td>\n",
       "      <td>6.466745</td>\n",
       "    </tr>\n",
       "    <tr>\n",
       "      <th>28</th>\n",
       "      <td>4.321804</td>\n",
       "      <td>8.926207</td>\n",
       "      <td>6.606289</td>\n",
       "    </tr>\n",
       "    <tr>\n",
       "      <th>29</th>\n",
       "      <td>4.109990</td>\n",
       "      <td>9.152387</td>\n",
       "      <td>6.518373</td>\n",
       "    </tr>\n",
       "  </tbody>\n",
       "</table>\n",
       "</div>"
      ],
      "text/plain": [
       "    CNN-LSTM        MLP       CNN\n",
       "0   9.116774   9.221597  8.817613\n",
       "1   8.952804   9.571225  8.808110\n",
       "2   8.725756   8.856209  8.584846\n",
       "3   8.563080  10.683270  8.502132\n",
       "4   8.261903   9.079777  8.217581\n",
       "5   7.963663   9.712100  8.196969\n",
       "6   7.678870   9.424383  8.080855\n",
       "7   6.938310   8.293983  7.917155\n",
       "8   6.712652   9.337017  7.797997\n",
       "9   6.351397   9.581328  7.738123\n",
       "10  6.010817   8.630116  7.560053\n",
       "11  5.955973   9.228113  7.470118\n",
       "12  5.727171   9.697535  7.402802\n",
       "13  5.466168   9.305807  7.049157\n",
       "14  5.171796   9.802247  7.093538\n",
       "15  4.993867   8.908746  7.058161\n",
       "16  4.663340  10.295604  6.998013\n",
       "17  4.721132   8.947844  7.020029\n",
       "18  4.338427   9.213839  6.743766\n",
       "19  4.258839   8.587273  6.569559\n",
       "20  3.993860   8.613110  6.731784\n",
       "21  4.145924   7.965953  6.588059\n",
       "22  4.108813   8.011982  6.623411\n",
       "23  4.194956   9.508285  6.713729\n",
       "24  3.966170   9.332063  6.514946\n",
       "25  4.281419   9.082966  6.456645\n",
       "26  4.241575   9.784555  6.475008\n",
       "27  3.990026   9.790858  6.466745\n",
       "28  4.321804   8.926207  6.606289\n",
       "29  4.109990   9.152387  6.518373"
      ]
     },
     "execution_count": 12,
     "metadata": {},
     "output_type": "execute_result"
    }
   ],
   "source": [
    "final_df6"
   ]
  },
  {
   "cell_type": "markdown",
   "metadata": {},
   "source": [
    "### System Disagreement"
   ]
  },
  {
   "cell_type": "code",
   "execution_count": null,
   "metadata": {
    "scrolled": true
   },
   "outputs": [],
   "source": [
    "system_disagreement(final_df1)"
   ]
  },
  {
   "cell_type": "code",
   "execution_count": null,
   "metadata": {},
   "outputs": [],
   "source": [
    "system_disagreement(final_df2)"
   ]
  },
  {
   "cell_type": "code",
   "execution_count": null,
   "metadata": {},
   "outputs": [],
   "source": [
    "system_disagreement(final_df3)"
   ]
  },
  {
   "cell_type": "code",
   "execution_count": null,
   "metadata": {},
   "outputs": [],
   "source": [
    "system_disagreement(final_df4)"
   ]
  },
  {
   "cell_type": "code",
   "execution_count": null,
   "metadata": {},
   "outputs": [],
   "source": [
    "system_disagreement(final_df5)"
   ]
  },
  {
   "cell_type": "code",
   "execution_count": 13,
   "metadata": {},
   "outputs": [
    {
     "data": {
      "image/png": "[encoded data removed]",
      "text/plain": [
       "<Figure size 432x288 with 1 Axes>"
      ]
     },
     "metadata": {
      "image/png": {
       "height": 248,
       "width": 373
      },
      "needs_background": "light"
     },
     "output_type": "display_data"
    },
    {
     "data": {
      "image/png": "[encoded data removed]",
      "text/plain": [
       "<Figure size 432x288 with 1 Axes>"
      ]
     },
     "metadata": {
      "image/png": {
       "height": 248,
       "width": 373
      },
      "needs_background": "light"
     },
     "output_type": "display_data"
    }
   ],
   "source": [
    "system_disagreement(final_df6)"
   ]
  },
  {
   "cell_type": "markdown",
   "metadata": {},
   "source": [
    "### System consensus"
   ]
  },
  {
   "cell_type": "code",
   "execution_count": null,
   "metadata": {},
   "outputs": [],
   "source": [
    "algos1 = consensus(final_df1, real)"
   ]
  },
  {
   "cell_type": "code",
   "execution_count": null,
   "metadata": {
    "scrolled": false
   },
   "outputs": [],
   "source": [
    "algos2 = consensus(final_df2, real)"
   ]
  },
  {
   "cell_type": "code",
   "execution_count": null,
   "metadata": {},
   "outputs": [],
   "source": [
    "algos3 = consensus(final_df3, real)"
   ]
  },
  {
   "cell_type": "code",
   "execution_count": null,
   "metadata": {},
   "outputs": [],
   "source": [
    "algos4 = consensus(final_df4, real)"
   ]
  },
  {
   "cell_type": "code",
   "execution_count": null,
   "metadata": {},
   "outputs": [],
   "source": [
    "algos5 = consensus(final_df5, real)"
   ]
  },
  {
   "cell_type": "code",
   "execution_count": 14,
   "metadata": {},
   "outputs": [],
   "source": [
    "algos6 = consensus(final_df6, real)"
   ]
  },
  {
   "cell_type": "code",
   "execution_count": null,
   "metadata": {},
   "outputs": [],
   "source": [
    "ui1 = combined_frame(final_df1, algos1, real)"
   ]
  },
  {
   "cell_type": "code",
   "execution_count": null,
   "metadata": {},
   "outputs": [],
   "source": [
    "ui2 = combined_frame(final_df2, algos2, real)"
   ]
  },
  {
   "cell_type": "code",
   "execution_count": null,
   "metadata": {},
   "outputs": [],
   "source": [
    "ui3 = combined_frame(final_df3, algos3, real)"
   ]
  },
  {
   "cell_type": "code",
   "execution_count": null,
   "metadata": {},
   "outputs": [],
   "source": [
    "ui4 = combined_frame(final_df4, algos4, real)"
   ]
  },
  {
   "cell_type": "code",
   "execution_count": null,
   "metadata": {},
   "outputs": [],
   "source": [
    "#ui5 = combined_frame(final_df5, algos5, real)"
   ]
  },
  {
   "cell_type": "code",
   "execution_count": 15,
   "metadata": {},
   "outputs": [],
   "source": [
    "ui6 = combined_frame(final_df6, algos6, real)"
   ]
  },
  {
   "cell_type": "code",
   "execution_count": 16,
   "metadata": {},
   "outputs": [],
   "source": [
    "yu = all_stats_frame(ui6, final_df6)"
   ]
  },
  {
   "cell_type": "code",
   "execution_count": 19,
   "metadata": {},
   "outputs": [
    {
     "data": {
      "image/png": "[encoded data removed]",
      "text/plain": [
       "<Figure size 432x288 with 2 Axes>"
      ]
     },
     "metadata": {
      "image/png": {
       "height": 397,
       "width": 509
      },
      "needs_background": "light"
     },
     "output_type": "display_data"
    }
   ],
   "source": [
    "mat = correlation(yu, True)"
   ]
  },
  {
   "cell_type": "code",
   "execution_count": 18,
   "metadata": {},
   "outputs": [
    {
     "data": {
      "text/html": [
       "<div>\n",
       "<style scoped>\n",
       "    .dataframe tbody tr th:only-of-type {\n",
       "        vertical-align: middle;\n",
       "    }\n",
       "\n",
       "    .dataframe tbody tr th {\n",
       "        vertical-align: top;\n",
       "    }\n",
       "\n",
       "    .dataframe thead th {\n",
       "        text-align: right;\n",
       "    }\n",
       "</style>\n",
       "<table border=\"1\" class=\"dataframe\">\n",
       "  <thead>\n",
       "    <tr style=\"text-align: right;\">\n",
       "      <th></th>\n",
       "      <th>Average</th>\n",
       "      <th>NoMemory</th>\n",
       "      <th>Memory</th>\n",
       "      <th>Focus</th>\n",
       "      <th>Anchor</th>\n",
       "      <th>Real Value</th>\n",
       "      <th>CNN-LSTM</th>\n",
       "      <th>MLP</th>\n",
       "      <th>CNN</th>\n",
       "      <th>System Disagreement</th>\n",
       "      <th>CNN-LSTM disagreement score</th>\n",
       "      <th>MLP disagreement score</th>\n",
       "      <th>CNN disagreement score</th>\n",
       "    </tr>\n",
       "  </thead>\n",
       "  <tbody>\n",
       "    <tr>\n",
       "      <th>Average</th>\n",
       "      <td>1.000000</td>\n",
       "      <td>0.971347</td>\n",
       "      <td>0.991943</td>\n",
       "      <td>0.268987</td>\n",
       "      <td>0.961513</td>\n",
       "      <td>-0.274596</td>\n",
       "      <td>0.976454</td>\n",
       "      <td>0.445504</td>\n",
       "      <td>0.970686</td>\n",
       "      <td>-0.841824</td>\n",
       "      <td>-0.902415</td>\n",
       "      <td>-0.765494</td>\n",
       "      <td>-0.837606</td>\n",
       "    </tr>\n",
       "    <tr>\n",
       "      <th>NoMemory</th>\n",
       "      <td>0.971347</td>\n",
       "      <td>1.000000</td>\n",
       "      <td>0.985238</td>\n",
       "      <td>0.454192</td>\n",
       "      <td>0.984802</td>\n",
       "      <td>-0.281952</td>\n",
       "      <td>0.906391</td>\n",
       "      <td>0.613858</td>\n",
       "      <td>0.897139</td>\n",
       "      <td>-0.708754</td>\n",
       "      <td>-0.791657</td>\n",
       "      <td>-0.613389</td>\n",
       "      <td>-0.702815</td>\n",
       "    </tr>\n",
       "    <tr>\n",
       "      <th>Memory</th>\n",
       "      <td>0.991943</td>\n",
       "      <td>0.985238</td>\n",
       "      <td>1.000000</td>\n",
       "      <td>0.353193</td>\n",
       "      <td>0.979262</td>\n",
       "      <td>-0.284399</td>\n",
       "      <td>0.948354</td>\n",
       "      <td>0.531913</td>\n",
       "      <td>0.938602</td>\n",
       "      <td>-0.780405</td>\n",
       "      <td>-0.852772</td>\n",
       "      <td>-0.694644</td>\n",
       "      <td>-0.774049</td>\n",
       "    </tr>\n",
       "    <tr>\n",
       "      <th>Focus</th>\n",
       "      <td>0.268987</td>\n",
       "      <td>0.454192</td>\n",
       "      <td>0.353193</td>\n",
       "      <td>1.000000</td>\n",
       "      <td>0.490143</td>\n",
       "      <td>-0.162838</td>\n",
       "      <td>0.064944</td>\n",
       "      <td>0.947695</td>\n",
       "      <td>0.064187</td>\n",
       "      <td>0.271479</td>\n",
       "      <td>0.148888</td>\n",
       "      <td>0.389081</td>\n",
       "      <td>0.275195</td>\n",
       "    </tr>\n",
       "    <tr>\n",
       "      <th>Anchor</th>\n",
       "      <td>0.961513</td>\n",
       "      <td>0.984802</td>\n",
       "      <td>0.979262</td>\n",
       "      <td>0.490143</td>\n",
       "      <td>1.000000</td>\n",
       "      <td>-0.241760</td>\n",
       "      <td>0.886728</td>\n",
       "      <td>0.646029</td>\n",
       "      <td>0.881919</td>\n",
       "      <td>-0.677040</td>\n",
       "      <td>-0.762705</td>\n",
       "      <td>-0.579591</td>\n",
       "      <td>-0.670941</td>\n",
       "    </tr>\n",
       "    <tr>\n",
       "      <th>Real Value</th>\n",
       "      <td>-0.274596</td>\n",
       "      <td>-0.281952</td>\n",
       "      <td>-0.284399</td>\n",
       "      <td>-0.162838</td>\n",
       "      <td>-0.241760</td>\n",
       "      <td>1.000000</td>\n",
       "      <td>-0.264587</td>\n",
       "      <td>-0.151890</td>\n",
       "      <td>-0.251545</td>\n",
       "      <td>0.217920</td>\n",
       "      <td>0.242082</td>\n",
       "      <td>0.188958</td>\n",
       "      <td>0.217639</td>\n",
       "    </tr>\n",
       "    <tr>\n",
       "      <th>CNN-LSTM</th>\n",
       "      <td>0.976454</td>\n",
       "      <td>0.906391</td>\n",
       "      <td>0.948354</td>\n",
       "      <td>0.064944</td>\n",
       "      <td>0.886728</td>\n",
       "      <td>-0.264587</td>\n",
       "      <td>1.000000</td>\n",
       "      <td>0.245912</td>\n",
       "      <td>0.989690</td>\n",
       "      <td>-0.937449</td>\n",
       "      <td>-0.973774</td>\n",
       "      <td>-0.883379</td>\n",
       "      <td>-0.934231</td>\n",
       "    </tr>\n",
       "    <tr>\n",
       "      <th>MLP</th>\n",
       "      <td>0.445504</td>\n",
       "      <td>0.613858</td>\n",
       "      <td>0.531913</td>\n",
       "      <td>0.947695</td>\n",
       "      <td>0.646029</td>\n",
       "      <td>-0.151890</td>\n",
       "      <td>0.245912</td>\n",
       "      <td>1.000000</td>\n",
       "      <td>0.236540</td>\n",
       "      <td>0.105771</td>\n",
       "      <td>-0.026086</td>\n",
       "      <td>0.235031</td>\n",
       "      <td>0.111313</td>\n",
       "    </tr>\n",
       "    <tr>\n",
       "      <th>CNN</th>\n",
       "      <td>0.970686</td>\n",
       "      <td>0.897139</td>\n",
       "      <td>0.938602</td>\n",
       "      <td>0.064187</td>\n",
       "      <td>0.881919</td>\n",
       "      <td>-0.251545</td>\n",
       "      <td>0.989690</td>\n",
       "      <td>0.236540</td>\n",
       "      <td>1.000000</td>\n",
       "      <td>-0.930105</td>\n",
       "      <td>-0.958979</td>\n",
       "      <td>-0.883853</td>\n",
       "      <td>-0.926823</td>\n",
       "    </tr>\n",
       "    <tr>\n",
       "      <th>System Disagreement</th>\n",
       "      <td>-0.841824</td>\n",
       "      <td>-0.708754</td>\n",
       "      <td>-0.780405</td>\n",
       "      <td>0.271479</td>\n",
       "      <td>-0.677040</td>\n",
       "      <td>0.217920</td>\n",
       "      <td>-0.937449</td>\n",
       "      <td>0.105771</td>\n",
       "      <td>-0.930105</td>\n",
       "      <td>1.000000</td>\n",
       "      <td>0.990330</td>\n",
       "      <td>0.989970</td>\n",
       "      <td>0.999536</td>\n",
       "    </tr>\n",
       "    <tr>\n",
       "      <th>CNN-LSTM disagreement score</th>\n",
       "      <td>-0.902415</td>\n",
       "      <td>-0.791657</td>\n",
       "      <td>-0.852772</td>\n",
       "      <td>0.148888</td>\n",
       "      <td>-0.762705</td>\n",
       "      <td>0.242082</td>\n",
       "      <td>-0.973774</td>\n",
       "      <td>-0.026086</td>\n",
       "      <td>-0.958979</td>\n",
       "      <td>0.990330</td>\n",
       "      <td>1.000000</td>\n",
       "      <td>0.960987</td>\n",
       "      <td>0.989418</td>\n",
       "    </tr>\n",
       "    <tr>\n",
       "      <th>MLP disagreement score</th>\n",
       "      <td>-0.765494</td>\n",
       "      <td>-0.613389</td>\n",
       "      <td>-0.694644</td>\n",
       "      <td>0.389081</td>\n",
       "      <td>-0.579591</td>\n",
       "      <td>0.188958</td>\n",
       "      <td>-0.883379</td>\n",
       "      <td>0.235031</td>\n",
       "      <td>-0.883853</td>\n",
       "      <td>0.989970</td>\n",
       "      <td>0.960987</td>\n",
       "      <td>1.000000</td>\n",
       "      <td>0.989374</td>\n",
       "    </tr>\n",
       "    <tr>\n",
       "      <th>CNN disagreement score</th>\n",
       "      <td>-0.837606</td>\n",
       "      <td>-0.702815</td>\n",
       "      <td>-0.774049</td>\n",
       "      <td>0.275195</td>\n",
       "      <td>-0.670941</td>\n",
       "      <td>0.217639</td>\n",
       "      <td>-0.934231</td>\n",
       "      <td>0.111313</td>\n",
       "      <td>-0.926823</td>\n",
       "      <td>0.999536</td>\n",
       "      <td>0.989418</td>\n",
       "      <td>0.989374</td>\n",
       "      <td>1.000000</td>\n",
       "    </tr>\n",
       "  </tbody>\n",
       "</table>\n",
       "</div>"
      ],
      "text/plain": [
       "                              Average  NoMemory    Memory     Focus    Anchor  \\\n",
       "Average                      1.000000  0.971347  0.991943  0.268987  0.961513   \n",
       "NoMemory                     0.971347  1.000000  0.985238  0.454192  0.984802   \n",
       "Memory                       0.991943  0.985238  1.000000  0.353193  0.979262   \n",
       "Focus                        0.268987  0.454192  0.353193  1.000000  0.490143   \n",
       "Anchor                       0.961513  0.984802  0.979262  0.490143  1.000000   \n",
       "Real Value                  -0.274596 -0.281952 -0.284399 -0.162838 -0.241760   \n",
       "CNN-LSTM                     0.976454  0.906391  0.948354  0.064944  0.886728   \n",
       "MLP                          0.445504  0.613858  0.531913  0.947695  0.646029   \n",
       "CNN                          0.970686  0.897139  0.938602  0.064187  0.881919   \n",
       "System Disagreement         -0.841824 -0.708754 -0.780405  0.271479 -0.677040   \n",
       "CNN-LSTM disagreement score -0.902415 -0.791657 -0.852772  0.148888 -0.762705   \n",
       "MLP disagreement score      -0.765494 -0.613389 -0.694644  0.389081 -0.579591   \n",
       "CNN disagreement score      -0.837606 -0.702815 -0.774049  0.275195 -0.670941   \n",
       "\n",
       "                             Real Value  CNN-LSTM       MLP       CNN  \\\n",
       "Average                       -0.274596  0.976454  0.445504  0.970686   \n",
       "NoMemory                      -0.281952  0.906391  0.613858  0.897139   \n",
       "Memory                        -0.284399  0.948354  0.531913  0.938602   \n",
       "Focus                         -0.162838  0.064944  0.947695  0.064187   \n",
       "Anchor                        -0.241760  0.886728  0.646029  0.881919   \n",
       "Real Value                     1.000000 -0.264587 -0.151890 -0.251545   \n",
       "CNN-LSTM                      -0.264587  1.000000  0.245912  0.989690   \n",
       "MLP                           -0.151890  0.245912  1.000000  0.236540   \n",
       "CNN                           -0.251545  0.989690  0.236540  1.000000   \n",
       "System Disagreement            0.217920 -0.937449  0.105771 -0.930105   \n",
       "CNN-LSTM disagreement score    0.242082 -0.973774 -0.026086 -0.958979   \n",
       "MLP disagreement score         0.188958 -0.883379  0.235031 -0.883853   \n",
       "CNN disagreement score         0.217639 -0.934231  0.111313 -0.926823   \n",
       "\n",
       "                             System Disagreement  CNN-LSTM disagreement score  \\\n",
       "Average                                -0.841824                    -0.902415   \n",
       "NoMemory                               -0.708754                    -0.791657   \n",
       "Memory                                 -0.780405                    -0.852772   \n",
       "Focus                                   0.271479                     0.148888   \n",
       "Anchor                                 -0.677040                    -0.762705   \n",
       "Real Value                              0.217920                     0.242082   \n",
       "CNN-LSTM                               -0.937449                    -0.973774   \n",
       "MLP                                     0.105771                    -0.026086   \n",
       "CNN                                    -0.930105                    -0.958979   \n",
       "System Disagreement                     1.000000                     0.990330   \n",
       "CNN-LSTM disagreement score             0.990330                     1.000000   \n",
       "MLP disagreement score                  0.989970                     0.960987   \n",
       "CNN disagreement score                  0.999536                     0.989418   \n",
       "\n",
       "                             MLP disagreement score  CNN disagreement score  \n",
       "Average                                   -0.765494               -0.837606  \n",
       "NoMemory                                  -0.613389               -0.702815  \n",
       "Memory                                    -0.694644               -0.774049  \n",
       "Focus                                      0.389081                0.275195  \n",
       "Anchor                                    -0.579591               -0.670941  \n",
       "Real Value                                 0.188958                0.217639  \n",
       "CNN-LSTM                                  -0.883379               -0.934231  \n",
       "MLP                                        0.235031                0.111313  \n",
       "CNN                                       -0.883853               -0.926823  \n",
       "System Disagreement                        0.989970                0.999536  \n",
       "CNN-LSTM disagreement score                0.960987                0.989418  \n",
       "MLP disagreement score                     1.000000                0.989374  \n",
       "CNN disagreement score                     0.989374                1.000000  "
      ]
     },
     "execution_count": 18,
     "metadata": {},
     "output_type": "execute_result"
    }
   ],
   "source": [
    "mat"
   ]
  },
  {
   "cell_type": "code",
   "execution_count": null,
   "metadata": {},
   "outputs": [],
   "source": [
    "mse_score(ui6)"
   ]
  },
  {
   "cell_type": "code",
   "execution_count": null,
   "metadata": {},
   "outputs": [],
   "source": [
    "mse_log_score(ui6)"
   ]
  },
  {
   "cell_type": "code",
   "execution_count": null,
   "metadata": {},
   "outputs": [],
   "source": [
    "mae_score(ui6)"
   ]
  },
  {
   "cell_type": "code",
   "execution_count": null,
   "metadata": {},
   "outputs": [],
   "source": [
    "mse_score(ui2)"
   ]
  },
  {
   "cell_type": "code",
   "execution_count": null,
   "metadata": {},
   "outputs": [],
   "source": [
    "mse_log_score(ui1)"
   ]
  },
  {
   "cell_type": "code",
   "execution_count": null,
   "metadata": {},
   "outputs": [],
   "source": [
    "mae_score(ui2)"
   ]
  },
  {
   "cell_type": "code",
   "execution_count": null,
   "metadata": {},
   "outputs": [],
   "source": [
    "mse_score(ui3)"
   ]
  },
  {
   "cell_type": "code",
   "execution_count": null,
   "metadata": {},
   "outputs": [],
   "source": [
    "mse_log_score(ui3)"
   ]
  },
  {
   "cell_type": "code",
   "execution_count": null,
   "metadata": {},
   "outputs": [],
   "source": [
    "mae_score(ui3)"
   ]
  },
  {
   "cell_type": "code",
   "execution_count": null,
   "metadata": {},
   "outputs": [],
   "source": [
    "plot_performance(ui1)"
   ]
  },
  {
   "cell_type": "code",
   "execution_count": null,
   "metadata": {
    "scrolled": true
   },
   "outputs": [],
   "source": [
    "plot_performance(ui2)"
   ]
  },
  {
   "cell_type": "code",
   "execution_count": null,
   "metadata": {
    "scrolled": true
   },
   "outputs": [],
   "source": [
    "plot_performance(ui3)"
   ]
  },
  {
   "cell_type": "code",
   "execution_count": null,
   "metadata": {
    "scrolled": true
   },
   "outputs": [],
   "source": [
    "plot_performance(ui4)"
   ]
  },
  {
   "cell_type": "code",
   "execution_count": null,
   "metadata": {},
   "outputs": [],
   "source": [
    "plot_performance(ui5)"
   ]
  },
  {
   "cell_type": "code",
   "execution_count": null,
   "metadata": {},
   "outputs": [],
   "source": [
    "plot_performance(ui6)"
   ]
  },
  {
   "cell_type": "code",
   "execution_count": null,
   "metadata": {},
   "outputs": [],
   "source": [
    "training = DataLoader('aapl', '2005-01-01', '2010-05-01')"
   ]
  },
  {
   "cell_type": "code",
   "execution_count": null,
   "metadata": {},
   "outputs": [],
   "source": [
    "training = training.get_close()"
   ]
  },
  {
   "cell_type": "code",
   "execution_count": null,
   "metadata": {},
   "outputs": [],
   "source": [
    "motest = HybridUnivariatePredictor(2, 24, 30, training)"
   ]
  },
  {
   "cell_type": "code",
   "execution_count": null,
   "metadata": {},
   "outputs": [],
   "source": [
    "motest.create_cnnlstm()"
   ]
  },
  {
   "cell_type": "code",
   "execution_count": null,
   "metadata": {},
   "outputs": [],
   "source": [
    "motest.fit_model(10)"
   ]
  },
  {
   "cell_type": "code",
   "execution_count": null,
   "metadata": {},
   "outputs": [],
   "source": [
    "motest.show_performance()"
   ]
  },
  {
   "cell_type": "code",
   "execution_count": null,
   "metadata": {},
   "outputs": [],
   "source": [
    "motest = BasicUnivariatePredictor(24, 30, training)"
   ]
  },
  {
   "cell_type": "code",
   "execution_count": null,
   "metadata": {},
   "outputs": [],
   "source": [
    "motest.create_cnn()"
   ]
  },
  {
   "cell_type": "code",
   "execution_count": null,
   "metadata": {},
   "outputs": [],
   "source": [
    "motest.fit_model(300)"
   ]
  },
  {
   "cell_type": "code",
   "execution_count": null,
   "metadata": {},
   "outputs": [],
   "source": [
    "motest.show_performance()"
   ]
  },
  {
   "cell_type": "code",
   "execution_count": null,
   "metadata": {},
   "outputs": [],
   "source": [
    "motest.save_model()"
   ]
  },
  {
   "cell_type": "code",
   "execution_count": null,
   "metadata": {},
   "outputs": [],
   "source": []
  }
 ],
 "metadata": {
  "kernelspec": {
   "display_name": "Python 3",
   "language": "python",
   "name": "python3"
  },
  "language_info": {
   "codemirror_mode": {
    "name": "ipython",
    "version": 3
   },
   "file_extension": ".py",
   "mimetype": "text/x-python",
   "name": "python",
   "nbconvert_exporter": "python",
   "pygments_lexer": "ipython3",
   "version": "3.8.1"
  }
 },
 "nbformat": 4,
 "nbformat_minor": 2
}
