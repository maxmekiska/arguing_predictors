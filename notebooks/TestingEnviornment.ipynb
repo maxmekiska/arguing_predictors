{
 "cells": [
  {
   "cell_type": "markdown",
   "metadata": {},
   "source": [
    "# Testing Enviornment"
   ]
  },
  {
   "cell_type": "code",
   "execution_count": 212,
   "metadata": {},
   "outputs": [],
   "source": [
    "import pandas as pd\n",
    "import numpy as np"
   ]
  },
  {
   "cell_type": "markdown",
   "metadata": {},
   "source": [
    "## Running tests"
   ]
  },
  {
   "cell_type": "markdown",
   "metadata": {},
   "source": [
    "The following section unit-tests most of the code written for the proof of concept prototype."
   ]
  },
  {
   "cell_type": "code",
   "execution_count": 213,
   "metadata": {
    "scrolled": false
   },
   "outputs": [
    {
     "name": "stderr",
     "output_type": "stream",
     "text": [
      "........\n",
      "----------------------------------------------------------------------\n",
      "Ran 8 tests in 0.141s\n",
      "\n",
      "OK\n"
     ]
    }
   ],
   "source": [
    "%run ../test/test_algorithms.py"
   ]
  },
  {
   "cell_type": "code",
   "execution_count": 214,
   "metadata": {},
   "outputs": [
    {
     "name": "stderr",
     "output_type": "stream",
     "text": [
      "...............\n",
      "----------------------------------------------------------------------\n",
      "Ran 15 tests in 0.048s\n",
      "\n",
      "OK\n"
     ]
    }
   ],
   "source": [
    "%run ../test/test_dataloader.py"
   ]
  },
  {
   "cell_type": "code",
   "execution_count": 215,
   "metadata": {},
   "outputs": [
    {
     "name": "stderr",
     "output_type": "stream",
     "text": [
      "..\n",
      "----------------------------------------------------------------------\n",
      "Ran 2 tests in 0.002s\n",
      "\n",
      "OK\n"
     ]
    }
   ],
   "source": [
    "%run ../test/test_predictorsI.py"
   ]
  },
  {
   "cell_type": "code",
   "execution_count": 216,
   "metadata": {},
   "outputs": [
    {
     "name": "stderr",
     "output_type": "stream",
     "text": [
      ".\n",
      "----------------------------------------------------------------------\n",
      "Ran 1 test in 0.003s\n",
      "\n",
      "OK\n"
     ]
    }
   ],
   "source": [
    "%run ../test/test_predictorsII.py"
   ]
  },
  {
   "cell_type": "markdown",
   "metadata": {},
   "source": [
    "## Running example of the system"
   ]
  },
  {
   "cell_type": "code",
   "execution_count": null,
   "metadata": {},
   "outputs": [],
   "source": [
    "%run ../tools/algorithms.py"
   ]
  },
  {
   "cell_type": "code",
   "execution_count": null,
   "metadata": {},
   "outputs": [],
   "source": [
    "%run ../tools/dataloader.py"
   ]
  },
  {
   "cell_type": "code",
   "execution_count": 14,
   "metadata": {},
   "outputs": [],
   "source": [
    "test = DataLoader('aapl', '2009-01-01', '2010-02-10')"
   ]
  },
  {
   "cell_type": "code",
   "execution_count": 15,
   "metadata": {},
   "outputs": [],
   "source": [
    "prices = test.get_close()"
   ]
  },
  {
   "cell_type": "code",
   "execution_count": null,
   "metadata": {},
   "outputs": [],
   "source": [
    "prices"
   ]
  },
  {
   "cell_type": "code",
   "execution_count": null,
   "metadata": {},
   "outputs": [],
   "source": [
    "#prices = np.array(prices)\n",
    "#len(prices)"
   ]
  },
  {
   "cell_type": "code",
   "execution_count": null,
   "metadata": {},
   "outputs": [],
   "source": [
    "prices"
   ]
  },
  {
   "cell_type": "code",
   "execution_count": 285,
   "metadata": {},
   "outputs": [],
   "source": [
    "%run ../tools/predictorsI.py"
   ]
  },
  {
   "cell_type": "code",
   "execution_count": 286,
   "metadata": {},
   "outputs": [],
   "source": [
    "op0 = BasicUnivariatePredictor(prices, 25, 7)\n",
    "op1 = BasicUnivariatePredictor(prices, 25, 7)\n",
    "op2 = BasicUnivariatePredictor(prices, 25, 7)\n",
    "op3 = BasicUnivariatePredictor(prices, 25, 7)"
   ]
  },
  {
   "cell_type": "code",
   "execution_count": 287,
   "metadata": {},
   "outputs": [],
   "source": [
    "op0.create_bilstm()"
   ]
  },
  {
   "cell_type": "code",
   "execution_count": 288,
   "metadata": {},
   "outputs": [
    {
     "name": "stdout",
     "output_type": "stream",
     "text": [
      "Model: \"sequential_32\"\n",
      "_________________________________________________________________\n",
      "Layer (type)                 Output Shape              Param #   \n",
      "=================================================================\n",
      "bidirectional_3 (Bidirection (None, 25, 100)           20800     \n",
      "_________________________________________________________________\n",
      "lstm_32 (LSTM)               (None, 50)                30200     \n",
      "_________________________________________________________________\n",
      "dense_26 (Dense)             (None, 7)                 357       \n",
      "=================================================================\n",
      "Total params: 51,357\n",
      "Trainable params: 51,357\n",
      "Non-trainable params: 0\n",
      "_________________________________________________________________\n"
     ]
    }
   ],
   "source": [
    "op0.model_blueprint()"
   ]
  },
  {
   "cell_type": "code",
   "execution_count": 289,
   "metadata": {},
   "outputs": [
    {
     "name": "stdout",
     "output_type": "stream",
     "text": [
      "Epoch 1/10\n",
      "20/20 [==============================] - 1s 44ms/step - loss: 17.0388 - mean_squared_error: 17.0388 - val_loss: 16.1110 - val_mean_squared_error: 16.1110\n",
      "Epoch 2/10\n",
      "20/20 [==============================] - 0s 19ms/step - loss: 1.6438 - mean_squared_error: 1.6438 - val_loss: 0.5050 - val_mean_squared_error: 0.5050\n",
      "Epoch 3/10\n",
      "20/20 [==============================] - 0s 19ms/step - loss: 0.1809 - mean_squared_error: 0.1809 - val_loss: 0.2510 - val_mean_squared_error: 0.2510\n",
      "Epoch 4/10\n",
      "20/20 [==============================] - 0s 18ms/step - loss: 0.1020 - mean_squared_error: 0.1020 - val_loss: 0.1952 - val_mean_squared_error: 0.1952\n",
      "Epoch 5/10\n",
      "20/20 [==============================] - 0s 18ms/step - loss: 0.0985 - mean_squared_error: 0.0985 - val_loss: 0.1532 - val_mean_squared_error: 0.1532\n",
      "Epoch 6/10\n",
      "20/20 [==============================] - 0s 18ms/step - loss: 0.0928 - mean_squared_error: 0.0928 - val_loss: 0.1815 - val_mean_squared_error: 0.1815\n",
      "Epoch 7/10\n",
      "20/20 [==============================] - 0s 18ms/step - loss: 0.0855 - mean_squared_error: 0.0855 - val_loss: 0.1173 - val_mean_squared_error: 0.1173\n",
      "Epoch 8/10\n",
      "20/20 [==============================] - 0s 17ms/step - loss: 0.0783 - mean_squared_error: 0.0783 - val_loss: 0.1428 - val_mean_squared_error: 0.1428\n",
      "Epoch 9/10\n",
      "20/20 [==============================] - 0s 17ms/step - loss: 0.0689 - mean_squared_error: 0.0689 - val_loss: 0.2180 - val_mean_squared_error: 0.2180\n",
      "Epoch 10/10\n",
      "20/20 [==============================] - 0s 18ms/step - loss: 0.0713 - mean_squared_error: 0.0713 - val_loss: 0.1601 - val_mean_squared_error: 0.1601\n"
     ]
    },
    {
     "data": {
      "text/plain": [
       "<tensorflow.python.keras.callbacks.History at 0x2458c89e670>"
      ]
     },
     "execution_count": 289,
     "metadata": {},
     "output_type": "execute_result"
    }
   ],
   "source": [
    "op0.fit_model(10)"
   ]
  },
  {
   "cell_type": "code",
   "execution_count": 290,
   "metadata": {},
   "outputs": [
    {
     "data": {
      "image/png": "[encoded data removed]",
      "text/plain": [
       "<Figure size 432x288 with 2 Axes>"
      ]
     },
     "metadata": {
      "needs_background": "light"
     },
     "output_type": "display_data"
    }
   ],
   "source": [
    "op0.show_performance()"
   ]
  },
  {
   "cell_type": "code",
   "execution_count": 291,
   "metadata": {},
   "outputs": [],
   "source": [
    "oyea = prices[-26:-1]\n",
    "#oyea = X[-1]\n",
    "#oyea"
   ]
  },
  {
   "cell_type": "code",
   "execution_count": 292,
   "metadata": {},
   "outputs": [
    {
     "name": "stdout",
     "output_type": "stream",
     "text": [
      "WARNING:tensorflow:8 out of the last 12 calls to <function Model.make_predict_function.<locals>.predict_function at 0x00000245863811F0> triggered tf.function retracing. Tracing is expensive and the excessive number of tracings could be due to (1) creating @tf.function repeatedly in a loop, (2) passing tensors with different shapes, (3) passing Python objects instead of tensors. For (1), please define your @tf.function outside of the loop. For (2), @tf.function has experimental_relax_shapes=True option that relaxes argument shapes that can avoid unnecessary retracing. For (3), please refer to https://www.tensorflow.org/tutorials/customization/performance#python_or_tensor_args and https://www.tensorflow.org/api_docs/python/tf/function for  more details.\n"
     ]
    },
    {
     "data": {
      "text/html": [
       "<div>\n",
       "<style scoped>\n",
       "    .dataframe tbody tr th:only-of-type {\n",
       "        vertical-align: middle;\n",
       "    }\n",
       "\n",
       "    .dataframe tbody tr th {\n",
       "        vertical-align: top;\n",
       "    }\n",
       "\n",
       "    .dataframe thead th {\n",
       "        text-align: right;\n",
       "    }\n",
       "</style>\n",
       "<table border=\"1\" class=\"dataframe\">\n",
       "  <thead>\n",
       "    <tr style=\"text-align: right;\">\n",
       "      <th></th>\n",
       "      <th>Bidirectional LSTM</th>\n",
       "    </tr>\n",
       "  </thead>\n",
       "  <tbody>\n",
       "    <tr>\n",
       "      <th>0</th>\n",
       "      <td>7.466393</td>\n",
       "    </tr>\n",
       "    <tr>\n",
       "      <th>1</th>\n",
       "      <td>7.250769</td>\n",
       "    </tr>\n",
       "    <tr>\n",
       "      <th>2</th>\n",
       "      <td>7.548186</td>\n",
       "    </tr>\n",
       "    <tr>\n",
       "      <th>3</th>\n",
       "      <td>7.609942</td>\n",
       "    </tr>\n",
       "    <tr>\n",
       "      <th>4</th>\n",
       "      <td>7.256098</td>\n",
       "    </tr>\n",
       "    <tr>\n",
       "      <th>5</th>\n",
       "      <td>7.257919</td>\n",
       "    </tr>\n",
       "    <tr>\n",
       "      <th>6</th>\n",
       "      <td>7.884319</td>\n",
       "    </tr>\n",
       "  </tbody>\n",
       "</table>\n",
       "</div>"
      ],
      "text/plain": [
       "   Bidirectional LSTM\n",
       "0            7.466393\n",
       "1            7.250769\n",
       "2            7.548186\n",
       "3            7.609942\n",
       "4            7.256098\n",
       "5            7.257919\n",
       "6            7.884319"
      ]
     },
     "execution_count": 292,
     "metadata": {},
     "output_type": "execute_result"
    }
   ],
   "source": [
    "nice = op0.predict(oyea)\n",
    "nice"
   ]
  },
  {
   "cell_type": "code",
   "execution_count": 293,
   "metadata": {},
   "outputs": [],
   "source": [
    "op1.create_lstm()"
   ]
  },
  {
   "cell_type": "code",
   "execution_count": 294,
   "metadata": {},
   "outputs": [
    {
     "name": "stdout",
     "output_type": "stream",
     "text": [
      "Model: \"sequential_33\"\n",
      "_________________________________________________________________\n",
      "Layer (type)                 Output Shape              Param #   \n",
      "=================================================================\n",
      "lstm_33 (LSTM)               (None, 25, 40)            6720      \n",
      "_________________________________________________________________\n",
      "lstm_34 (LSTM)               (None, 25, 50)            18200     \n",
      "_________________________________________________________________\n",
      "lstm_35 (LSTM)               (None, 50)                20200     \n",
      "_________________________________________________________________\n",
      "dense_27 (Dense)             (None, 7)                 357       \n",
      "=================================================================\n",
      "Total params: 45,477\n",
      "Trainable params: 45,477\n",
      "Non-trainable params: 0\n",
      "_________________________________________________________________\n"
     ]
    }
   ],
   "source": [
    "op1.model_blueprint()"
   ]
  },
  {
   "cell_type": "code",
   "execution_count": 295,
   "metadata": {},
   "outputs": [
    {
     "name": "stdout",
     "output_type": "stream",
     "text": [
      "Epoch 1/10\n",
      "20/20 [==============================] - 1s 53ms/step - loss: 23.0704 - mean_squared_error: 23.0704 - val_loss: 6.8943 - val_mean_squared_error: 6.8943\n",
      "Epoch 2/10\n",
      "20/20 [==============================] - 1s 28ms/step - loss: 6.4319 - mean_squared_error: 6.4319 - val_loss: 7.8420 - val_mean_squared_error: 7.8420\n",
      "Epoch 3/10\n",
      "20/20 [==============================] - 1s 26ms/step - loss: 0.6113 - mean_squared_error: 0.6113 - val_loss: 0.5386 - val_mean_squared_error: 0.5386\n",
      "Epoch 4/10\n",
      "20/20 [==============================] - 1s 25ms/step - loss: 0.1379 - mean_squared_error: 0.1379 - val_loss: 0.2084 - val_mean_squared_error: 0.2084\n",
      "Epoch 5/10\n",
      "20/20 [==============================] - 1s 26ms/step - loss: 0.0896 - mean_squared_error: 0.0896 - val_loss: 0.1648 - val_mean_squared_error: 0.1648\n",
      "Epoch 6/10\n",
      "20/20 [==============================] - 1s 31ms/step - loss: 0.0825 - mean_squared_error: 0.0825 - val_loss: 0.2143 - val_mean_squared_error: 0.2143\n",
      "Epoch 7/10\n",
      "20/20 [==============================] - 1s 25ms/step - loss: 0.0799 - mean_squared_error: 0.0799 - val_loss: 0.1981 - val_mean_squared_error: 0.1981\n",
      "Epoch 8/10\n",
      "20/20 [==============================] - 1s 26ms/step - loss: 0.0780 - mean_squared_error: 0.0780 - val_loss: 0.2263 - val_mean_squared_error: 0.2263\n",
      "Epoch 9/10\n",
      "20/20 [==============================] - 0s 24ms/step - loss: 0.1061 - mean_squared_error: 0.1061 - val_loss: 0.1663 - val_mean_squared_error: 0.1663\n",
      "Epoch 10/10\n",
      "20/20 [==============================] - 1s 31ms/step - loss: 0.1074 - mean_squared_error: 0.1074 - val_loss: 0.1285 - val_mean_squared_error: 0.1285\n"
     ]
    },
    {
     "data": {
      "text/plain": [
       "<tensorflow.python.keras.callbacks.History at 0x2459241ca00>"
      ]
     },
     "execution_count": 295,
     "metadata": {},
     "output_type": "execute_result"
    }
   ],
   "source": [
    "op1.fit_model(10)"
   ]
  },
  {
   "cell_type": "code",
   "execution_count": 296,
   "metadata": {},
   "outputs": [
    {
     "data": {
      "image/png": "[encoded data removed]",
      "text/plain": [
       "<Figure size 432x288 with 2 Axes>"
      ]
     },
     "metadata": {
      "needs_background": "light"
     },
     "output_type": "display_data"
    }
   ],
   "source": [
    "op1.show_performance()"
   ]
  },
  {
   "cell_type": "code",
   "execution_count": 297,
   "metadata": {},
   "outputs": [
    {
     "name": "stdout",
     "output_type": "stream",
     "text": [
      "WARNING:tensorflow:8 out of the last 11 calls to <function Model.make_predict_function.<locals>.predict_function at 0x0000024597EFA040> triggered tf.function retracing. Tracing is expensive and the excessive number of tracings could be due to (1) creating @tf.function repeatedly in a loop, (2) passing tensors with different shapes, (3) passing Python objects instead of tensors. For (1), please define your @tf.function outside of the loop. For (2), @tf.function has experimental_relax_shapes=True option that relaxes argument shapes that can avoid unnecessary retracing. For (3), please refer to https://www.tensorflow.org/tutorials/customization/performance#python_or_tensor_args and https://www.tensorflow.org/api_docs/python/tf/function for  more details.\n"
     ]
    },
    {
     "data": {
      "text/html": [
       "<div>\n",
       "<style scoped>\n",
       "    .dataframe tbody tr th:only-of-type {\n",
       "        vertical-align: middle;\n",
       "    }\n",
       "\n",
       "    .dataframe tbody tr th {\n",
       "        vertical-align: top;\n",
       "    }\n",
       "\n",
       "    .dataframe thead th {\n",
       "        text-align: right;\n",
       "    }\n",
       "</style>\n",
       "<table border=\"1\" class=\"dataframe\">\n",
       "  <thead>\n",
       "    <tr style=\"text-align: right;\">\n",
       "      <th></th>\n",
       "      <th>LSTM</th>\n",
       "    </tr>\n",
       "  </thead>\n",
       "  <tbody>\n",
       "    <tr>\n",
       "      <th>0</th>\n",
       "      <td>7.589522</td>\n",
       "    </tr>\n",
       "    <tr>\n",
       "      <th>1</th>\n",
       "      <td>7.265796</td>\n",
       "    </tr>\n",
       "    <tr>\n",
       "      <th>2</th>\n",
       "      <td>7.592666</td>\n",
       "    </tr>\n",
       "    <tr>\n",
       "      <th>3</th>\n",
       "      <td>7.265763</td>\n",
       "    </tr>\n",
       "    <tr>\n",
       "      <th>4</th>\n",
       "      <td>7.107807</td>\n",
       "    </tr>\n",
       "    <tr>\n",
       "      <th>5</th>\n",
       "      <td>7.429338</td>\n",
       "    </tr>\n",
       "    <tr>\n",
       "      <th>6</th>\n",
       "      <td>7.448072</td>\n",
       "    </tr>\n",
       "  </tbody>\n",
       "</table>\n",
       "</div>"
      ],
      "text/plain": [
       "       LSTM\n",
       "0  7.589522\n",
       "1  7.265796\n",
       "2  7.592666\n",
       "3  7.265763\n",
       "4  7.107807\n",
       "5  7.429338\n",
       "6  7.448072"
      ]
     },
     "execution_count": 297,
     "metadata": {},
     "output_type": "execute_result"
    }
   ],
   "source": [
    "nice = op1.predict(oyea)\n",
    "nice"
   ]
  },
  {
   "cell_type": "code",
   "execution_count": 298,
   "metadata": {},
   "outputs": [],
   "source": [
    "op2.create_cnn()"
   ]
  },
  {
   "cell_type": "code",
   "execution_count": 299,
   "metadata": {},
   "outputs": [
    {
     "name": "stdout",
     "output_type": "stream",
     "text": [
      "Model: \"sequential_34\"\n",
      "_________________________________________________________________\n",
      "Layer (type)                 Output Shape              Param #   \n",
      "=================================================================\n",
      "conv1d_29 (Conv1D)           (None, 24, 64)            192       \n",
      "_________________________________________________________________\n",
      "conv1d_30 (Conv1D)           (None, 23, 32)            4128      \n",
      "_________________________________________________________________\n",
      "max_pooling1d_26 (MaxPooling (None, 11, 32)            0         \n",
      "_________________________________________________________________\n",
      "flatten_24 (Flatten)         (None, 352)               0         \n",
      "_________________________________________________________________\n",
      "dense_28 (Dense)             (None, 50)                17650     \n",
      "_________________________________________________________________\n",
      "dense_29 (Dense)             (None, 7)                 357       \n",
      "=================================================================\n",
      "Total params: 22,327\n",
      "Trainable params: 22,327\n",
      "Non-trainable params: 0\n",
      "_________________________________________________________________\n"
     ]
    }
   ],
   "source": [
    "op2.model_blueprint()"
   ]
  },
  {
   "cell_type": "code",
   "execution_count": 300,
   "metadata": {},
   "outputs": [
    {
     "name": "stdout",
     "output_type": "stream",
     "text": [
      "Epoch 1/10\n",
      "20/20 [==============================] - 0s 8ms/step - loss: 12.5570 - mean_squared_error: 12.5570 - val_loss: 7.5322 - val_mean_squared_error: 7.5322\n",
      "Epoch 2/10\n",
      "20/20 [==============================] - 0s 3ms/step - loss: 1.2861 - mean_squared_error: 1.2861 - val_loss: 0.3582 - val_mean_squared_error: 0.3582\n",
      "Epoch 3/10\n",
      "20/20 [==============================] - 0s 3ms/step - loss: 0.1391 - mean_squared_error: 0.1391 - val_loss: 0.2526 - val_mean_squared_error: 0.2526\n",
      "Epoch 4/10\n",
      "20/20 [==============================] - 0s 3ms/step - loss: 0.0780 - mean_squared_error: 0.0780 - val_loss: 0.1960 - val_mean_squared_error: 0.1960\n",
      "Epoch 5/10\n",
      "20/20 [==============================] - 0s 3ms/step - loss: 0.0666 - mean_squared_error: 0.0666 - val_loss: 0.1750 - val_mean_squared_error: 0.1750\n",
      "Epoch 6/10\n",
      "20/20 [==============================] - 0s 3ms/step - loss: 0.0673 - mean_squared_error: 0.0673 - val_loss: 0.2476 - val_mean_squared_error: 0.2476\n",
      "Epoch 7/10\n",
      "20/20 [==============================] - 0s 3ms/step - loss: 0.0648 - mean_squared_error: 0.0648 - val_loss: 0.2160 - val_mean_squared_error: 0.2160\n",
      "Epoch 8/10\n",
      "20/20 [==============================] - 0s 3ms/step - loss: 0.0644 - mean_squared_error: 0.0644 - val_loss: 0.2024 - val_mean_squared_error: 0.2024\n",
      "Epoch 9/10\n",
      "20/20 [==============================] - 0s 3ms/step - loss: 0.0632 - mean_squared_error: 0.0632 - val_loss: 0.2004 - val_mean_squared_error: 0.2004\n",
      "Epoch 10/10\n",
      "20/20 [==============================] - 0s 3ms/step - loss: 0.0640 - mean_squared_error: 0.0640 - val_loss: 0.1817 - val_mean_squared_error: 0.1817\n"
     ]
    },
    {
     "data": {
      "text/plain": [
       "<tensorflow.python.keras.callbacks.History at 0x245981f3d30>"
      ]
     },
     "execution_count": 300,
     "metadata": {},
     "output_type": "execute_result"
    }
   ],
   "source": [
    "op2.fit_model(10)"
   ]
  },
  {
   "cell_type": "code",
   "execution_count": 301,
   "metadata": {},
   "outputs": [
    {
     "data": {
      "image/png": "[encoded data removed]",
      "text/plain": [
       "<Figure size 432x288 with 2 Axes>"
      ]
     },
     "metadata": {
      "needs_background": "light"
     },
     "output_type": "display_data"
    }
   ],
   "source": [
    "op2.show_performance()"
   ]
  },
  {
   "cell_type": "code",
   "execution_count": 302,
   "metadata": {},
   "outputs": [
    {
     "name": "stdout",
     "output_type": "stream",
     "text": [
      "WARNING:tensorflow:8 out of the last 11 calls to <function Model.make_predict_function.<locals>.predict_function at 0x00000245986F1CA0> triggered tf.function retracing. Tracing is expensive and the excessive number of tracings could be due to (1) creating @tf.function repeatedly in a loop, (2) passing tensors with different shapes, (3) passing Python objects instead of tensors. For (1), please define your @tf.function outside of the loop. For (2), @tf.function has experimental_relax_shapes=True option that relaxes argument shapes that can avoid unnecessary retracing. For (3), please refer to https://www.tensorflow.org/tutorials/customization/performance#python_or_tensor_args and https://www.tensorflow.org/api_docs/python/tf/function for  more details.\n"
     ]
    },
    {
     "data": {
      "text/html": [
       "<div>\n",
       "<style scoped>\n",
       "    .dataframe tbody tr th:only-of-type {\n",
       "        vertical-align: middle;\n",
       "    }\n",
       "\n",
       "    .dataframe tbody tr th {\n",
       "        vertical-align: top;\n",
       "    }\n",
       "\n",
       "    .dataframe thead th {\n",
       "        text-align: right;\n",
       "    }\n",
       "</style>\n",
       "<table border=\"1\" class=\"dataframe\">\n",
       "  <thead>\n",
       "    <tr style=\"text-align: right;\">\n",
       "      <th></th>\n",
       "      <th>CNN</th>\n",
       "    </tr>\n",
       "  </thead>\n",
       "  <tbody>\n",
       "    <tr>\n",
       "      <th>0</th>\n",
       "      <td>7.493083</td>\n",
       "    </tr>\n",
       "    <tr>\n",
       "      <th>1</th>\n",
       "      <td>7.548632</td>\n",
       "    </tr>\n",
       "    <tr>\n",
       "      <th>2</th>\n",
       "      <td>7.634683</td>\n",
       "    </tr>\n",
       "    <tr>\n",
       "      <th>3</th>\n",
       "      <td>7.547066</td>\n",
       "    </tr>\n",
       "    <tr>\n",
       "      <th>4</th>\n",
       "      <td>7.658242</td>\n",
       "    </tr>\n",
       "    <tr>\n",
       "      <th>5</th>\n",
       "      <td>7.511546</td>\n",
       "    </tr>\n",
       "    <tr>\n",
       "      <th>6</th>\n",
       "      <td>7.618557</td>\n",
       "    </tr>\n",
       "  </tbody>\n",
       "</table>\n",
       "</div>"
      ],
      "text/plain": [
       "        CNN\n",
       "0  7.493083\n",
       "1  7.548632\n",
       "2  7.634683\n",
       "3  7.547066\n",
       "4  7.658242\n",
       "5  7.511546\n",
       "6  7.618557"
      ]
     },
     "execution_count": 302,
     "metadata": {},
     "output_type": "execute_result"
    }
   ],
   "source": [
    "nice = op2.predict(oyea)\n",
    "nice"
   ]
  },
  {
   "cell_type": "code",
   "execution_count": 303,
   "metadata": {},
   "outputs": [],
   "source": [
    "op3.create_mlp()"
   ]
  },
  {
   "cell_type": "code",
   "execution_count": 304,
   "metadata": {},
   "outputs": [
    {
     "name": "stdout",
     "output_type": "stream",
     "text": [
      "Model: \"sequential_35\"\n",
      "_________________________________________________________________\n",
      "Layer (type)                 Output Shape              Param #   \n",
      "=================================================================\n",
      "dense_30 (Dense)             (None, 50)                1300      \n",
      "_________________________________________________________________\n",
      "dense_31 (Dense)             (None, 25)                1275      \n",
      "_________________________________________________________________\n",
      "dense_32 (Dense)             (None, 25)                650       \n",
      "_________________________________________________________________\n",
      "dense_33 (Dense)             (None, 7)                 182       \n",
      "=================================================================\n",
      "Total params: 3,407\n",
      "Trainable params: 3,407\n",
      "Non-trainable params: 0\n",
      "_________________________________________________________________\n"
     ]
    }
   ],
   "source": [
    "op3.model_blueprint()"
   ]
  },
  {
   "cell_type": "code",
   "execution_count": 305,
   "metadata": {},
   "outputs": [
    {
     "name": "stdout",
     "output_type": "stream",
     "text": [
      "Epoch 1/100\n",
      "20/20 [==============================] - 0s 7ms/step - loss: 29.2505 - mean_squared_error: 29.2505 - val_loss: 27.9546 - val_mean_squared_error: 27.9546\n",
      "Epoch 2/100\n",
      "20/20 [==============================] - 0s 2ms/step - loss: 10.1102 - mean_squared_error: 10.1102 - val_loss: 7.2582 - val_mean_squared_error: 7.2582\n",
      "Epoch 3/100\n",
      "20/20 [==============================] - 0s 2ms/step - loss: 2.3203 - mean_squared_error: 2.3203 - val_loss: 1.8911 - val_mean_squared_error: 1.8911\n",
      "Epoch 4/100\n",
      "20/20 [==============================] - 0s 2ms/step - loss: 0.5282 - mean_squared_error: 0.5282 - val_loss: 0.4539 - val_mean_squared_error: 0.4539\n",
      "Epoch 5/100\n",
      "20/20 [==============================] - 0s 2ms/step - loss: 0.1354 - mean_squared_error: 0.1354 - val_loss: 0.2650 - val_mean_squared_error: 0.2650\n",
      "Epoch 6/100\n",
      "20/20 [==============================] - 0s 2ms/step - loss: 0.0709 - mean_squared_error: 0.0709 - val_loss: 0.2483 - val_mean_squared_error: 0.2483\n",
      "Epoch 7/100\n",
      "20/20 [==============================] - 0s 2ms/step - loss: 0.0621 - mean_squared_error: 0.0621 - val_loss: 0.2110 - val_mean_squared_error: 0.2110\n",
      "Epoch 8/100\n",
      "20/20 [==============================] - 0s 2ms/step - loss: 0.0611 - mean_squared_error: 0.0611 - val_loss: 0.2390 - val_mean_squared_error: 0.2390\n",
      "Epoch 9/100\n",
      "20/20 [==============================] - 0s 2ms/step - loss: 0.0611 - mean_squared_error: 0.0611 - val_loss: 0.2468 - val_mean_squared_error: 0.2468\n",
      "Epoch 10/100\n",
      "20/20 [==============================] - 0s 2ms/step - loss: 0.0607 - mean_squared_error: 0.0607 - val_loss: 0.2169 - val_mean_squared_error: 0.2169\n",
      "Epoch 11/100\n",
      "20/20 [==============================] - 0s 2ms/step - loss: 0.0614 - mean_squared_error: 0.0614 - val_loss: 0.2421 - val_mean_squared_error: 0.2421\n",
      "Epoch 12/100\n",
      "20/20 [==============================] - 0s 2ms/step - loss: 0.0602 - mean_squared_error: 0.0602 - val_loss: 0.2068 - val_mean_squared_error: 0.2068\n",
      "Epoch 13/100\n",
      "20/20 [==============================] - 0s 2ms/step - loss: 0.0618 - mean_squared_error: 0.0618 - val_loss: 0.2703 - val_mean_squared_error: 0.2703\n",
      "Epoch 14/100\n",
      "20/20 [==============================] - 0s 2ms/step - loss: 0.0601 - mean_squared_error: 0.0601 - val_loss: 0.2131 - val_mean_squared_error: 0.2131\n",
      "Epoch 15/100\n",
      "20/20 [==============================] - 0s 2ms/step - loss: 0.0615 - mean_squared_error: 0.0615 - val_loss: 0.2691 - val_mean_squared_error: 0.2691\n",
      "Epoch 16/100\n",
      "20/20 [==============================] - 0s 2ms/step - loss: 0.0613 - mean_squared_error: 0.0613 - val_loss: 0.2479 - val_mean_squared_error: 0.2479\n",
      "Epoch 17/100\n",
      "20/20 [==============================] - 0s 2ms/step - loss: 0.0615 - mean_squared_error: 0.0615 - val_loss: 0.1988 - val_mean_squared_error: 0.1988\n",
      "Epoch 18/100\n",
      "20/20 [==============================] - 0s 2ms/step - loss: 0.0600 - mean_squared_error: 0.0600 - val_loss: 0.2653 - val_mean_squared_error: 0.2653\n",
      "Epoch 19/100\n",
      "20/20 [==============================] - 0s 2ms/step - loss: 0.0603 - mean_squared_error: 0.0603 - val_loss: 0.2058 - val_mean_squared_error: 0.2058\n",
      "Epoch 20/100\n",
      "20/20 [==============================] - 0s 2ms/step - loss: 0.0609 - mean_squared_error: 0.0609 - val_loss: 0.2226 - val_mean_squared_error: 0.2226\n",
      "Epoch 21/100\n",
      "20/20 [==============================] - 0s 2ms/step - loss: 0.0617 - mean_squared_error: 0.0617 - val_loss: 0.2389 - val_mean_squared_error: 0.2389\n",
      "Epoch 22/100\n",
      "20/20 [==============================] - 0s 2ms/step - loss: 0.0604 - mean_squared_error: 0.0604 - val_loss: 0.2306 - val_mean_squared_error: 0.2306\n",
      "Epoch 23/100\n",
      "20/20 [==============================] - 0s 2ms/step - loss: 0.0603 - mean_squared_error: 0.0603 - val_loss: 0.2468 - val_mean_squared_error: 0.2468\n",
      "Epoch 24/100\n",
      "20/20 [==============================] - 0s 2ms/step - loss: 0.0605 - mean_squared_error: 0.0605 - val_loss: 0.2038 - val_mean_squared_error: 0.2038\n",
      "Epoch 25/100\n",
      "20/20 [==============================] - 0s 2ms/step - loss: 0.0601 - mean_squared_error: 0.0601 - val_loss: 0.2287 - val_mean_squared_error: 0.2287\n",
      "Epoch 26/100\n",
      "20/20 [==============================] - 0s 2ms/step - loss: 0.0611 - mean_squared_error: 0.0611 - val_loss: 0.2487 - val_mean_squared_error: 0.2487\n",
      "Epoch 27/100\n",
      "20/20 [==============================] - 0s 2ms/step - loss: 0.0607 - mean_squared_error: 0.0607 - val_loss: 0.2782 - val_mean_squared_error: 0.2782\n",
      "Epoch 28/100\n",
      "20/20 [==============================] - 0s 2ms/step - loss: 0.0630 - mean_squared_error: 0.0630 - val_loss: 0.2750 - val_mean_squared_error: 0.2750\n",
      "Epoch 29/100\n",
      "20/20 [==============================] - 0s 2ms/step - loss: 0.0614 - mean_squared_error: 0.0614 - val_loss: 0.2303 - val_mean_squared_error: 0.2303\n",
      "Epoch 30/100\n",
      "20/20 [==============================] - 0s 2ms/step - loss: 0.0600 - mean_squared_error: 0.0600 - val_loss: 0.2496 - val_mean_squared_error: 0.2496\n",
      "Epoch 31/100\n",
      "20/20 [==============================] - 0s 2ms/step - loss: 0.0605 - mean_squared_error: 0.0605 - val_loss: 0.1967 - val_mean_squared_error: 0.1967\n",
      "Epoch 32/100\n",
      "20/20 [==============================] - 0s 2ms/step - loss: 0.0602 - mean_squared_error: 0.0602 - val_loss: 0.2157 - val_mean_squared_error: 0.2157\n",
      "Epoch 33/100\n",
      "20/20 [==============================] - 0s 3ms/step - loss: 0.0597 - mean_squared_error: 0.0597 - val_loss: 0.2243 - val_mean_squared_error: 0.2243\n",
      "Epoch 34/100\n",
      "20/20 [==============================] - 0s 2ms/step - loss: 0.0594 - mean_squared_error: 0.0594 - val_loss: 0.1962 - val_mean_squared_error: 0.1962\n",
      "Epoch 35/100\n",
      "20/20 [==============================] - 0s 3ms/step - loss: 0.0600 - mean_squared_error: 0.0600 - val_loss: 0.2263 - val_mean_squared_error: 0.2263\n",
      "Epoch 36/100\n",
      "20/20 [==============================] - 0s 2ms/step - loss: 0.0607 - mean_squared_error: 0.0607 - val_loss: 0.2207 - val_mean_squared_error: 0.2207\n",
      "Epoch 37/100\n",
      "20/20 [==============================] - 0s 2ms/step - loss: 0.0634 - mean_squared_error: 0.0634 - val_loss: 0.3067 - val_mean_squared_error: 0.3067\n",
      "Epoch 38/100\n",
      "20/20 [==============================] - 0s 2ms/step - loss: 0.0619 - mean_squared_error: 0.0619 - val_loss: 0.1984 - val_mean_squared_error: 0.1984\n",
      "Epoch 39/100\n",
      "20/20 [==============================] - 0s 2ms/step - loss: 0.0597 - mean_squared_error: 0.0597 - val_loss: 0.2468 - val_mean_squared_error: 0.2468\n",
      "Epoch 40/100\n",
      "20/20 [==============================] - 0s 2ms/step - loss: 0.0595 - mean_squared_error: 0.0595 - val_loss: 0.2620 - val_mean_squared_error: 0.2620\n",
      "Epoch 41/100\n",
      "20/20 [==============================] - 0s 2ms/step - loss: 0.0603 - mean_squared_error: 0.0603 - val_loss: 0.2494 - val_mean_squared_error: 0.2494\n",
      "Epoch 42/100\n",
      "20/20 [==============================] - 0s 2ms/step - loss: 0.0587 - mean_squared_error: 0.0587 - val_loss: 0.2286 - val_mean_squared_error: 0.2286\n",
      "Epoch 43/100\n",
      "20/20 [==============================] - 0s 2ms/step - loss: 0.0598 - mean_squared_error: 0.0598 - val_loss: 0.2713 - val_mean_squared_error: 0.2713\n",
      "Epoch 44/100\n",
      "20/20 [==============================] - 0s 2ms/step - loss: 0.0605 - mean_squared_error: 0.0605 - val_loss: 0.2570 - val_mean_squared_error: 0.2570\n",
      "Epoch 45/100\n",
      "20/20 [==============================] - 0s 2ms/step - loss: 0.0600 - mean_squared_error: 0.0600 - val_loss: 0.2302 - val_mean_squared_error: 0.2302\n",
      "Epoch 46/100\n",
      "20/20 [==============================] - 0s 2ms/step - loss: 0.0593 - mean_squared_error: 0.0593 - val_loss: 0.1875 - val_mean_squared_error: 0.1875\n",
      "Epoch 47/100\n",
      "20/20 [==============================] - 0s 2ms/step - loss: 0.0586 - mean_squared_error: 0.0586 - val_loss: 0.1543 - val_mean_squared_error: 0.1543\n",
      "Epoch 48/100\n",
      "20/20 [==============================] - 0s 3ms/step - loss: 0.0599 - mean_squared_error: 0.0599 - val_loss: 0.2523 - val_mean_squared_error: 0.2523\n",
      "Epoch 49/100\n",
      "20/20 [==============================] - 0s 2ms/step - loss: 0.0576 - mean_squared_error: 0.0576 - val_loss: 0.1534 - val_mean_squared_error: 0.1534\n",
      "Epoch 50/100\n",
      "20/20 [==============================] - 0s 2ms/step - loss: 0.0630 - mean_squared_error: 0.0630 - val_loss: 0.1574 - val_mean_squared_error: 0.1574\n",
      "Epoch 51/100\n"
     ]
    },
    {
     "name": "stdout",
     "output_type": "stream",
     "text": [
      "20/20 [==============================] - 0s 2ms/step - loss: 0.0604 - mean_squared_error: 0.0604 - val_loss: 0.1985 - val_mean_squared_error: 0.1985\n",
      "Epoch 52/100\n",
      "20/20 [==============================] - 0s 2ms/step - loss: 0.0597 - mean_squared_error: 0.0597 - val_loss: 0.1908 - val_mean_squared_error: 0.1908\n",
      "Epoch 53/100\n",
      "20/20 [==============================] - 0s 2ms/step - loss: 0.0599 - mean_squared_error: 0.0599 - val_loss: 0.1528 - val_mean_squared_error: 0.1528\n",
      "Epoch 54/100\n",
      "20/20 [==============================] - 0s 2ms/step - loss: 0.0618 - mean_squared_error: 0.0618 - val_loss: 0.1670 - val_mean_squared_error: 0.1670\n",
      "Epoch 55/100\n",
      "20/20 [==============================] - 0s 2ms/step - loss: 0.0597 - mean_squared_error: 0.0597 - val_loss: 0.1803 - val_mean_squared_error: 0.1803\n",
      "Epoch 56/100\n",
      "20/20 [==============================] - 0s 2ms/step - loss: 0.0598 - mean_squared_error: 0.0598 - val_loss: 0.1929 - val_mean_squared_error: 0.1929\n",
      "Epoch 57/100\n",
      "20/20 [==============================] - 0s 2ms/step - loss: 0.0613 - mean_squared_error: 0.0613 - val_loss: 0.2219 - val_mean_squared_error: 0.2219\n",
      "Epoch 58/100\n",
      "20/20 [==============================] - 0s 2ms/step - loss: 0.0630 - mean_squared_error: 0.0630 - val_loss: 0.1907 - val_mean_squared_error: 0.1907\n",
      "Epoch 59/100\n",
      "20/20 [==============================] - 0s 2ms/step - loss: 0.0608 - mean_squared_error: 0.0608 - val_loss: 0.2061 - val_mean_squared_error: 0.2061\n",
      "Epoch 60/100\n",
      "20/20 [==============================] - 0s 2ms/step - loss: 0.0587 - mean_squared_error: 0.0587 - val_loss: 0.2301 - val_mean_squared_error: 0.2301\n",
      "Epoch 61/100\n",
      "20/20 [==============================] - 0s 2ms/step - loss: 0.0572 - mean_squared_error: 0.0572 - val_loss: 0.2352 - val_mean_squared_error: 0.2352\n",
      "Epoch 62/100\n",
      "20/20 [==============================] - 0s 2ms/step - loss: 0.0580 - mean_squared_error: 0.0580 - val_loss: 0.2270 - val_mean_squared_error: 0.2270\n",
      "Epoch 63/100\n",
      "20/20 [==============================] - 0s 2ms/step - loss: 0.0579 - mean_squared_error: 0.0579 - val_loss: 0.2378 - val_mean_squared_error: 0.2378\n",
      "Epoch 64/100\n",
      "20/20 [==============================] - 0s 2ms/step - loss: 0.0581 - mean_squared_error: 0.0581 - val_loss: 0.2630 - val_mean_squared_error: 0.2630\n",
      "Epoch 65/100\n",
      "20/20 [==============================] - 0s 2ms/step - loss: 0.0575 - mean_squared_error: 0.0575 - val_loss: 0.1669 - val_mean_squared_error: 0.1669\n",
      "Epoch 66/100\n",
      "20/20 [==============================] - 0s 2ms/step - loss: 0.0608 - mean_squared_error: 0.0608 - val_loss: 0.1725 - val_mean_squared_error: 0.1725\n",
      "Epoch 67/100\n",
      "20/20 [==============================] - 0s 2ms/step - loss: 0.0578 - mean_squared_error: 0.0578 - val_loss: 0.1787 - val_mean_squared_error: 0.1787\n",
      "Epoch 68/100\n",
      "20/20 [==============================] - 0s 2ms/step - loss: 0.0579 - mean_squared_error: 0.0579 - val_loss: 0.1831 - val_mean_squared_error: 0.1831\n",
      "Epoch 69/100\n",
      "20/20 [==============================] - 0s 2ms/step - loss: 0.0569 - mean_squared_error: 0.0569 - val_loss: 0.2029 - val_mean_squared_error: 0.2029\n",
      "Epoch 70/100\n",
      "20/20 [==============================] - 0s 2ms/step - loss: 0.0580 - mean_squared_error: 0.0580 - val_loss: 0.2312 - val_mean_squared_error: 0.2312\n",
      "Epoch 71/100\n",
      "20/20 [==============================] - 0s 2ms/step - loss: 0.0566 - mean_squared_error: 0.0566 - val_loss: 0.1963 - val_mean_squared_error: 0.1963\n",
      "Epoch 72/100\n",
      "20/20 [==============================] - 0s 4ms/step - loss: 0.0576 - mean_squared_error: 0.0576 - val_loss: 0.1750 - val_mean_squared_error: 0.1750\n",
      "Epoch 73/100\n",
      "20/20 [==============================] - 0s 2ms/step - loss: 0.0564 - mean_squared_error: 0.0564 - val_loss: 0.1880 - val_mean_squared_error: 0.1880\n",
      "Epoch 74/100\n",
      "20/20 [==============================] - 0s 2ms/step - loss: 0.0567 - mean_squared_error: 0.0567 - val_loss: 0.1797 - val_mean_squared_error: 0.1797\n",
      "Epoch 75/100\n",
      "20/20 [==============================] - 0s 2ms/step - loss: 0.0570 - mean_squared_error: 0.0570 - val_loss: 0.2306 - val_mean_squared_error: 0.2306\n",
      "Epoch 76/100\n",
      "20/20 [==============================] - 0s 2ms/step - loss: 0.0564 - mean_squared_error: 0.0564 - val_loss: 0.2108 - val_mean_squared_error: 0.2108\n",
      "Epoch 77/100\n",
      "20/20 [==============================] - 0s 2ms/step - loss: 0.0587 - mean_squared_error: 0.0587 - val_loss: 0.3150 - val_mean_squared_error: 0.3150\n",
      "Epoch 78/100\n",
      "20/20 [==============================] - 0s 2ms/step - loss: 0.0584 - mean_squared_error: 0.0584 - val_loss: 0.2573 - val_mean_squared_error: 0.2573\n",
      "Epoch 79/100\n",
      "20/20 [==============================] - 0s 2ms/step - loss: 0.0581 - mean_squared_error: 0.0581 - val_loss: 0.2657 - val_mean_squared_error: 0.2657\n",
      "Epoch 80/100\n",
      "20/20 [==============================] - 0s 2ms/step - loss: 0.0576 - mean_squared_error: 0.0576 - val_loss: 0.1831 - val_mean_squared_error: 0.1831\n",
      "Epoch 81/100\n",
      "20/20 [==============================] - 0s 2ms/step - loss: 0.0574 - mean_squared_error: 0.0574 - val_loss: 0.1808 - val_mean_squared_error: 0.1808\n",
      "Epoch 82/100\n",
      "20/20 [==============================] - 0s 2ms/step - loss: 0.0646 - mean_squared_error: 0.0646 - val_loss: 0.1349 - val_mean_squared_error: 0.1349\n",
      "Epoch 83/100\n",
      "20/20 [==============================] - 0s 2ms/step - loss: 0.0576 - mean_squared_error: 0.0576 - val_loss: 0.1958 - val_mean_squared_error: 0.1958\n",
      "Epoch 84/100\n",
      "20/20 [==============================] - 0s 2ms/step - loss: 0.0551 - mean_squared_error: 0.0551 - val_loss: 0.2004 - val_mean_squared_error: 0.2004\n",
      "Epoch 85/100\n",
      "20/20 [==============================] - 0s 2ms/step - loss: 0.0566 - mean_squared_error: 0.0566 - val_loss: 0.2523 - val_mean_squared_error: 0.2523\n",
      "Epoch 86/100\n",
      "20/20 [==============================] - 0s 2ms/step - loss: 0.0565 - mean_squared_error: 0.0565 - val_loss: 0.1794 - val_mean_squared_error: 0.1794\n",
      "Epoch 87/100\n",
      "20/20 [==============================] - 0s 2ms/step - loss: 0.0576 - mean_squared_error: 0.0576 - val_loss: 0.2310 - val_mean_squared_error: 0.2310\n",
      "Epoch 88/100\n",
      "20/20 [==============================] - 0s 2ms/step - loss: 0.0551 - mean_squared_error: 0.0551 - val_loss: 0.1892 - val_mean_squared_error: 0.1892\n",
      "Epoch 89/100\n",
      "20/20 [==============================] - 0s 2ms/step - loss: 0.0562 - mean_squared_error: 0.0562 - val_loss: 0.2125 - val_mean_squared_error: 0.2125\n",
      "Epoch 90/100\n",
      "20/20 [==============================] - 0s 2ms/step - loss: 0.0582 - mean_squared_error: 0.0582 - val_loss: 0.2650 - val_mean_squared_error: 0.2650\n",
      "Epoch 91/100\n",
      "20/20 [==============================] - 0s 2ms/step - loss: 0.0568 - mean_squared_error: 0.0568 - val_loss: 0.2586 - val_mean_squared_error: 0.2586\n",
      "Epoch 92/100\n",
      "20/20 [==============================] - 0s 2ms/step - loss: 0.0610 - mean_squared_error: 0.0610 - val_loss: 0.1390 - val_mean_squared_error: 0.1390\n",
      "Epoch 93/100\n",
      "20/20 [==============================] - 0s 2ms/step - loss: 0.0631 - mean_squared_error: 0.0631 - val_loss: 0.1774 - val_mean_squared_error: 0.1774\n",
      "Epoch 94/100\n",
      "20/20 [==============================] - 0s 2ms/step - loss: 0.0586 - mean_squared_error: 0.0586 - val_loss: 0.2401 - val_mean_squared_error: 0.2401\n",
      "Epoch 95/100\n",
      "20/20 [==============================] - 0s 2ms/step - loss: 0.0550 - mean_squared_error: 0.0550 - val_loss: 0.1901 - val_mean_squared_error: 0.1901\n",
      "Epoch 96/100\n",
      "20/20 [==============================] - 0s 2ms/step - loss: 0.0541 - mean_squared_error: 0.0541 - val_loss: 0.1677 - val_mean_squared_error: 0.1677\n",
      "Epoch 97/100\n",
      "20/20 [==============================] - 0s 2ms/step - loss: 0.0552 - mean_squared_error: 0.0552 - val_loss: 0.2475 - val_mean_squared_error: 0.2475\n",
      "Epoch 98/100\n",
      "20/20 [==============================] - 0s 2ms/step - loss: 0.0586 - mean_squared_error: 0.0586 - val_loss: 0.1735 - val_mean_squared_error: 0.1735\n",
      "Epoch 99/100\n",
      "20/20 [==============================] - 0s 2ms/step - loss: 0.0553 - mean_squared_error: 0.0553 - val_loss: 0.1867 - val_mean_squared_error: 0.1867\n",
      "Epoch 100/100\n",
      "20/20 [==============================] - 0s 2ms/step - loss: 0.0554 - mean_squared_error: 0.0554 - val_loss: 0.2053 - val_mean_squared_error: 0.2053\n"
     ]
    },
    {
     "data": {
      "text/plain": [
       "<tensorflow.python.keras.callbacks.History at 0x24598740280>"
      ]
     },
     "execution_count": 305,
     "metadata": {},
     "output_type": "execute_result"
    }
   ],
   "source": [
    "op3.fit_model(100)"
   ]
  },
  {
   "cell_type": "code",
   "execution_count": 306,
   "metadata": {},
   "outputs": [
    {
     "data": {
      "image/png": "[encoded data removed]",
      "text/plain": [
       "<Figure size 432x288 with 2 Axes>"
      ]
     },
     "metadata": {
      "needs_background": "light"
     },
     "output_type": "display_data"
    }
   ],
   "source": [
    "op3.show_performance()"
   ]
  },
  {
   "cell_type": "code",
   "execution_count": 307,
   "metadata": {},
   "outputs": [],
   "source": [
    "oyea = prices[-26:-1]\n",
    "#oyea = X[-1]\n",
    "#oyea"
   ]
  },
  {
   "cell_type": "code",
   "execution_count": 308,
   "metadata": {},
   "outputs": [
    {
     "name": "stdout",
     "output_type": "stream",
     "text": [
      "WARNING:tensorflow:8 out of the last 11 calls to <function Model.make_predict_function.<locals>.predict_function at 0x0000024599BFF310> triggered tf.function retracing. Tracing is expensive and the excessive number of tracings could be due to (1) creating @tf.function repeatedly in a loop, (2) passing tensors with different shapes, (3) passing Python objects instead of tensors. For (1), please define your @tf.function outside of the loop. For (2), @tf.function has experimental_relax_shapes=True option that relaxes argument shapes that can avoid unnecessary retracing. For (3), please refer to https://www.tensorflow.org/tutorials/customization/performance#python_or_tensor_args and https://www.tensorflow.org/api_docs/python/tf/function for  more details.\n"
     ]
    },
    {
     "data": {
      "text/html": [
       "<div>\n",
       "<style scoped>\n",
       "    .dataframe tbody tr th:only-of-type {\n",
       "        vertical-align: middle;\n",
       "    }\n",
       "\n",
       "    .dataframe tbody tr th {\n",
       "        vertical-align: top;\n",
       "    }\n",
       "\n",
       "    .dataframe thead th {\n",
       "        text-align: right;\n",
       "    }\n",
       "</style>\n",
       "<table border=\"1\" class=\"dataframe\">\n",
       "  <thead>\n",
       "    <tr style=\"text-align: right;\">\n",
       "      <th></th>\n",
       "      <th>MLP</th>\n",
       "    </tr>\n",
       "  </thead>\n",
       "  <tbody>\n",
       "    <tr>\n",
       "      <th>0</th>\n",
       "      <td>7.460367</td>\n",
       "    </tr>\n",
       "    <tr>\n",
       "      <th>1</th>\n",
       "      <td>7.492427</td>\n",
       "    </tr>\n",
       "    <tr>\n",
       "      <th>2</th>\n",
       "      <td>7.539879</td>\n",
       "    </tr>\n",
       "    <tr>\n",
       "      <th>3</th>\n",
       "      <td>7.583290</td>\n",
       "    </tr>\n",
       "    <tr>\n",
       "      <th>4</th>\n",
       "      <td>7.579746</td>\n",
       "    </tr>\n",
       "    <tr>\n",
       "      <th>5</th>\n",
       "      <td>7.621171</td>\n",
       "    </tr>\n",
       "    <tr>\n",
       "      <th>6</th>\n",
       "      <td>7.639413</td>\n",
       "    </tr>\n",
       "  </tbody>\n",
       "</table>\n",
       "</div>"
      ],
      "text/plain": [
       "        MLP\n",
       "0  7.460367\n",
       "1  7.492427\n",
       "2  7.539879\n",
       "3  7.583290\n",
       "4  7.579746\n",
       "5  7.621171\n",
       "6  7.639413"
      ]
     },
     "execution_count": 308,
     "metadata": {},
     "output_type": "execute_result"
    }
   ],
   "source": [
    "nice = op3.predict(oyea)\n",
    "nice"
   ]
  },
  {
   "cell_type": "code",
   "execution_count": 375,
   "metadata": {},
   "outputs": [],
   "source": [
    "%run ../tools/predictorsII.py"
   ]
  },
  {
   "cell_type": "code",
   "execution_count": 376,
   "metadata": {},
   "outputs": [],
   "source": [
    "oo = UnivariatePredictorII(prices, 7)"
   ]
  },
  {
   "cell_type": "code",
   "execution_count": 368,
   "metadata": {},
   "outputs": [
    {
     "name": "stderr",
     "output_type": "stream",
     "text": [
      "INFO: nprophet.utils - set_auto_seasonalities: Disabling yearly seasonality. Run NeuralProphet with yearly_seasonality=True to override this.\n",
      "INFO:nprophet.utils:Disabling yearly seasonality. Run NeuralProphet with yearly_seasonality=True to override this.\n",
      "INFO: nprophet.utils - set_auto_seasonalities: Disabling daily seasonality. Run NeuralProphet with daily_seasonality=True to override this.\n",
      "INFO:nprophet.utils:Disabling daily seasonality. Run NeuralProphet with daily_seasonality=True to override this.\n",
      "INFO: nprophet.config - set_auto_batch_epoch: Auto-set batch_size to 8\n",
      "INFO:nprophet.config:Auto-set batch_size to 8\n"
     ]
    },
    {
     "data": {
      "application/vnd.jupyter.widget-view+json": {
       "model_id": "3267dba5a94b4edba014557b2e5c2122",
       "version_major": 2,
       "version_minor": 0
      },
      "text/plain": [
       "  0%|          | 0/100 [00:00<?, ?it/s]"
      ]
     },
     "metadata": {},
     "output_type": "display_data"
    },
    {
     "name": "stderr",
     "output_type": "stream",
     "text": [
      "INFO: nprophet - _lr_range_test: learning rate range test found optimal lr: 5.34E-01\n",
      "INFO:nprophet:learning rate range test found optimal lr: 5.34E-01\n",
      "Epoch[100/100]: 100%|█| 100/100 [00:04<00:00, 20.25it/s, SmoothL1Loss=0.000657, MAE=0.146, RegLoss=0, MAE_val=0.752, Sm\n"
     ]
    }
   ],
   "source": [
    "oo.fit_neural_model(100,\"D\")"
   ]
  },
  {
   "cell_type": "code",
   "execution_count": 369,
   "metadata": {
    "scrolled": true
   },
   "outputs": [
    {
     "data": {
      "image/png": "[encoded data removed]",
      "text/plain": [
       "<Figure size 432x288 with 2 Axes>"
      ]
     },
     "metadata": {
      "needs_background": "light"
     },
     "output_type": "display_data"
    }
   ],
   "source": [
    "oo.show_performance_neural()"
   ]
  },
  {
   "cell_type": "code",
   "execution_count": 370,
   "metadata": {
    "scrolled": true
   },
   "outputs": [
    {
     "data": {
      "text/html": [
       "<div>\n",
       "<style scoped>\n",
       "    .dataframe tbody tr th:only-of-type {\n",
       "        vertical-align: middle;\n",
       "    }\n",
       "\n",
       "    .dataframe tbody tr th {\n",
       "        vertical-align: top;\n",
       "    }\n",
       "\n",
       "    .dataframe thead th {\n",
       "        text-align: right;\n",
       "    }\n",
       "</style>\n",
       "<table border=\"1\" class=\"dataframe\">\n",
       "  <thead>\n",
       "    <tr style=\"text-align: right;\">\n",
       "      <th></th>\n",
       "      <th>Neural Prophet</th>\n",
       "    </tr>\n",
       "  </thead>\n",
       "  <tbody>\n",
       "    <tr>\n",
       "      <th>0</th>\n",
       "      <td>8.588682</td>\n",
       "    </tr>\n",
       "    <tr>\n",
       "      <th>1</th>\n",
       "      <td>8.593498</td>\n",
       "    </tr>\n",
       "    <tr>\n",
       "      <th>2</th>\n",
       "      <td>7.879306</td>\n",
       "    </tr>\n",
       "    <tr>\n",
       "      <th>3</th>\n",
       "      <td>7.912072</td>\n",
       "    </tr>\n",
       "    <tr>\n",
       "      <th>4</th>\n",
       "      <td>8.635946</td>\n",
       "    </tr>\n",
       "    <tr>\n",
       "      <th>5</th>\n",
       "      <td>8.625532</td>\n",
       "    </tr>\n",
       "    <tr>\n",
       "      <th>6</th>\n",
       "      <td>8.664610</td>\n",
       "    </tr>\n",
       "  </tbody>\n",
       "</table>\n",
       "</div>"
      ],
      "text/plain": [
       "   Neural Prophet\n",
       "0        8.588682\n",
       "1        8.593498\n",
       "2        7.879306\n",
       "3        7.912072\n",
       "4        8.635946\n",
       "5        8.625532\n",
       "6        8.664610"
      ]
     },
     "execution_count": 370,
     "metadata": {},
     "output_type": "execute_result"
    }
   ],
   "source": [
    "oo.predict_neural()"
   ]
  },
  {
   "cell_type": "code",
   "execution_count": 377,
   "metadata": {
    "scrolled": false
   },
   "outputs": [
    {
     "name": "stderr",
     "output_type": "stream",
     "text": [
      "INFO:fbprophet:Disabling yearly seasonality. Run prophet with yearly_seasonality=True to override this.\n",
      "INFO:fbprophet:Disabling daily seasonality. Run prophet with daily_seasonality=True to override this.\n"
     ]
    }
   ],
   "source": [
    "oo.fit_prophet_model()"
   ]
  },
  {
   "cell_type": "code",
   "execution_count": 372,
   "metadata": {},
   "outputs": [
    {
     "name": "stderr",
     "output_type": "stream",
     "text": [
      "INFO:fbprophet:Making 50 forecasts with cutoffs between 2009-08-15 12:00:00 and 2010-02-03 00:00:00\n"
     ]
    },
    {
     "data": {
      "application/vnd.jupyter.widget-view+json": {
       "model_id": "69c8367cc2724be0ad04b24ea3939a80",
       "version_major": 2,
       "version_minor": 0
      },
      "text/plain": [
       "  0%|          | 0/50 [00:00<?, ?it/s]"
      ]
     },
     "metadata": {},
     "output_type": "display_data"
    },
    {
     "data": {
      "text/html": [
       "<div>\n",
       "<style scoped>\n",
       "    .dataframe tbody tr th:only-of-type {\n",
       "        vertical-align: middle;\n",
       "    }\n",
       "\n",
       "    .dataframe tbody tr th {\n",
       "        vertical-align: top;\n",
       "    }\n",
       "\n",
       "    .dataframe thead th {\n",
       "        text-align: right;\n",
       "    }\n",
       "</style>\n",
       "<table border=\"1\" class=\"dataframe\">\n",
       "  <thead>\n",
       "    <tr style=\"text-align: right;\">\n",
       "      <th></th>\n",
       "      <th>horizon</th>\n",
       "      <th>mse</th>\n",
       "      <th>rmse</th>\n",
       "      <th>mae</th>\n",
       "      <th>mape</th>\n",
       "      <th>mdape</th>\n",
       "      <th>coverage</th>\n",
       "    </tr>\n",
       "  </thead>\n",
       "  <tbody>\n",
       "    <tr>\n",
       "      <th>0</th>\n",
       "      <td>1 days 00:00:00</td>\n",
       "      <td>0.061154</td>\n",
       "      <td>0.247293</td>\n",
       "      <td>0.202087</td>\n",
       "      <td>0.029285</td>\n",
       "      <td>0.030000</td>\n",
       "      <td>0.583333</td>\n",
       "    </tr>\n",
       "    <tr>\n",
       "      <th>1</th>\n",
       "      <td>1 days 12:00:00</td>\n",
       "      <td>0.065897</td>\n",
       "      <td>0.256705</td>\n",
       "      <td>0.198447</td>\n",
       "      <td>0.028946</td>\n",
       "      <td>0.022455</td>\n",
       "      <td>0.607639</td>\n",
       "    </tr>\n",
       "    <tr>\n",
       "      <th>2</th>\n",
       "      <td>2 days 00:00:00</td>\n",
       "      <td>0.083575</td>\n",
       "      <td>0.289093</td>\n",
       "      <td>0.234182</td>\n",
       "      <td>0.033957</td>\n",
       "      <td>0.034854</td>\n",
       "      <td>0.483696</td>\n",
       "    </tr>\n",
       "    <tr>\n",
       "      <th>3</th>\n",
       "      <td>2 days 12:00:00</td>\n",
       "      <td>0.059378</td>\n",
       "      <td>0.243676</td>\n",
       "      <td>0.180051</td>\n",
       "      <td>0.026026</td>\n",
       "      <td>0.018797</td>\n",
       "      <td>0.720000</td>\n",
       "    </tr>\n",
       "    <tr>\n",
       "      <th>4</th>\n",
       "      <td>3 days 12:00:00</td>\n",
       "      <td>0.053277</td>\n",
       "      <td>0.230818</td>\n",
       "      <td>0.185698</td>\n",
       "      <td>0.027001</td>\n",
       "      <td>0.024332</td>\n",
       "      <td>0.640000</td>\n",
       "    </tr>\n",
       "    <tr>\n",
       "      <th>5</th>\n",
       "      <td>4 days 12:00:00</td>\n",
       "      <td>0.077778</td>\n",
       "      <td>0.278887</td>\n",
       "      <td>0.225152</td>\n",
       "      <td>0.032715</td>\n",
       "      <td>0.027796</td>\n",
       "      <td>0.541667</td>\n",
       "    </tr>\n",
       "    <tr>\n",
       "      <th>6</th>\n",
       "      <td>5 days 00:00:00</td>\n",
       "      <td>0.086568</td>\n",
       "      <td>0.294225</td>\n",
       "      <td>0.229526</td>\n",
       "      <td>0.033036</td>\n",
       "      <td>0.026833</td>\n",
       "      <td>0.605903</td>\n",
       "    </tr>\n",
       "    <tr>\n",
       "      <th>7</th>\n",
       "      <td>5 days 12:00:00</td>\n",
       "      <td>0.100804</td>\n",
       "      <td>0.317496</td>\n",
       "      <td>0.257112</td>\n",
       "      <td>0.037308</td>\n",
       "      <td>0.036535</td>\n",
       "      <td>0.483696</td>\n",
       "    </tr>\n",
       "    <tr>\n",
       "      <th>8</th>\n",
       "      <td>6 days 00:00:00</td>\n",
       "      <td>0.077016</td>\n",
       "      <td>0.277518</td>\n",
       "      <td>0.209196</td>\n",
       "      <td>0.030107</td>\n",
       "      <td>0.023650</td>\n",
       "      <td>0.680000</td>\n",
       "    </tr>\n",
       "    <tr>\n",
       "      <th>9</th>\n",
       "      <td>7 days 00:00:00</td>\n",
       "      <td>0.070612</td>\n",
       "      <td>0.265729</td>\n",
       "      <td>0.215752</td>\n",
       "      <td>0.031163</td>\n",
       "      <td>0.027964</td>\n",
       "      <td>0.600000</td>\n",
       "    </tr>\n",
       "  </tbody>\n",
       "</table>\n",
       "</div>"
      ],
      "text/plain": [
       "          horizon       mse      rmse       mae      mape     mdape  coverage\n",
       "0 1 days 00:00:00  0.061154  0.247293  0.202087  0.029285  0.030000  0.583333\n",
       "1 1 days 12:00:00  0.065897  0.256705  0.198447  0.028946  0.022455  0.607639\n",
       "2 2 days 00:00:00  0.083575  0.289093  0.234182  0.033957  0.034854  0.483696\n",
       "3 2 days 12:00:00  0.059378  0.243676  0.180051  0.026026  0.018797  0.720000\n",
       "4 3 days 12:00:00  0.053277  0.230818  0.185698  0.027001  0.024332  0.640000\n",
       "5 4 days 12:00:00  0.077778  0.278887  0.225152  0.032715  0.027796  0.541667\n",
       "6 5 days 00:00:00  0.086568  0.294225  0.229526  0.033036  0.026833  0.605903\n",
       "7 5 days 12:00:00  0.100804  0.317496  0.257112  0.037308  0.036535  0.483696\n",
       "8 6 days 00:00:00  0.077016  0.277518  0.209196  0.030107  0.023650  0.680000\n",
       "9 7 days 00:00:00  0.070612  0.265729  0.215752  0.031163  0.027964  0.600000"
      ]
     },
     "execution_count": 372,
     "metadata": {},
     "output_type": "execute_result"
    },
    {
     "data": {
      "image/png": "[encoded data removed]",
      "text/plain": [
       "<Figure size 432x288 with 1 Axes>"
      ]
     },
     "metadata": {
      "needs_background": "light"
     },
     "output_type": "display_data"
    }
   ],
   "source": [
    "oo.show_performance_prophet()"
   ]
  },
  {
   "cell_type": "code",
   "execution_count": 378,
   "metadata": {},
   "outputs": [
    {
     "data": {
      "text/html": [
       "<div>\n",
       "<style scoped>\n",
       "    .dataframe tbody tr th:only-of-type {\n",
       "        vertical-align: middle;\n",
       "    }\n",
       "\n",
       "    .dataframe tbody tr th {\n",
       "        vertical-align: top;\n",
       "    }\n",
       "\n",
       "    .dataframe thead th {\n",
       "        text-align: right;\n",
       "    }\n",
       "</style>\n",
       "<table border=\"1\" class=\"dataframe\">\n",
       "  <thead>\n",
       "    <tr style=\"text-align: right;\">\n",
       "      <th></th>\n",
       "      <th>Prophet</th>\n",
       "    </tr>\n",
       "  </thead>\n",
       "  <tbody>\n",
       "    <tr>\n",
       "      <th>0</th>\n",
       "      <td>7.309689</td>\n",
       "    </tr>\n",
       "    <tr>\n",
       "      <th>1</th>\n",
       "      <td>7.288514</td>\n",
       "    </tr>\n",
       "    <tr>\n",
       "      <th>2</th>\n",
       "      <td>7.412138</td>\n",
       "    </tr>\n",
       "    <tr>\n",
       "      <th>3</th>\n",
       "      <td>7.413944</td>\n",
       "    </tr>\n",
       "    <tr>\n",
       "      <th>4</th>\n",
       "      <td>7.306175</td>\n",
       "    </tr>\n",
       "    <tr>\n",
       "      <th>5</th>\n",
       "      <td>7.295620</td>\n",
       "    </tr>\n",
       "    <tr>\n",
       "      <th>6</th>\n",
       "      <td>7.317085</td>\n",
       "    </tr>\n",
       "  </tbody>\n",
       "</table>\n",
       "</div>"
      ],
      "text/plain": [
       "    Prophet\n",
       "0  7.309689\n",
       "1  7.288514\n",
       "2  7.412138\n",
       "3  7.413944\n",
       "4  7.306175\n",
       "5  7.295620\n",
       "6  7.317085"
      ]
     },
     "execution_count": 378,
     "metadata": {},
     "output_type": "execute_result"
    }
   ],
   "source": [
    "oo.predict_prophet()"
   ]
  },
  {
   "cell_type": "code",
   "execution_count": 374,
   "metadata": {},
   "outputs": [],
   "source": [
    "%run ../tools/predictorsIII.py"
   ]
  },
  {
   "cell_type": "code",
   "execution_count": 256,
   "metadata": {},
   "outputs": [
    {
     "data": {
      "text/plain": [
       "279"
      ]
     },
     "execution_count": 256,
     "metadata": {},
     "output_type": "execute_result"
    }
   ],
   "source": [
    "len(prices)"
   ]
  },
  {
   "cell_type": "code",
   "execution_count": 268,
   "metadata": {},
   "outputs": [],
   "source": [
    "op4 = HybridUnivariatePredictor(prices,2, 24, 7)"
   ]
  },
  {
   "cell_type": "code",
   "execution_count": 258,
   "metadata": {},
   "outputs": [],
   "source": [
    "op4.create_cnnlstm()"
   ]
  },
  {
   "cell_type": "code",
   "execution_count": 259,
   "metadata": {},
   "outputs": [
    {
     "name": "stdout",
     "output_type": "stream",
     "text": [
      "Model: \"sequential_29\"\n",
      "_________________________________________________________________\n",
      "Layer (type)                 Output Shape              Param #   \n",
      "=================================================================\n",
      "time_distributed_74 (TimeDis (None, None, 11, 64)      192       \n",
      "_________________________________________________________________\n",
      "time_distributed_75 (TimeDis (None, None, 10, 32)      4128      \n",
      "_________________________________________________________________\n",
      "time_distributed_76 (TimeDis (None, None, 5, 32)       0         \n",
      "_________________________________________________________________\n",
      "time_distributed_77 (TimeDis (None, None, 160)         0         \n",
      "_________________________________________________________________\n",
      "lstm_25 (LSTM)               (None, None, 50)          42200     \n",
      "_________________________________________________________________\n",
      "lstm_26 (LSTM)               (None, 25)                7600      \n",
      "_________________________________________________________________\n",
      "dense_23 (Dense)             (None, 20)                520       \n",
      "=================================================================\n",
      "Total params: 54,640\n",
      "Trainable params: 54,640\n",
      "Non-trainable params: 0\n",
      "_________________________________________________________________\n"
     ]
    }
   ],
   "source": [
    "op4.model_blueprint()"
   ]
  },
  {
   "cell_type": "code",
   "execution_count": 260,
   "metadata": {},
   "outputs": [
    {
     "name": "stdout",
     "output_type": "stream",
     "text": [
      "Epoch 1/10\n",
      "19/19 [==============================] - 1s 28ms/step - loss: 27.4911 - mean_squared_error: 27.4911 - val_loss: 40.5169 - val_mean_squared_error: 40.5169\n",
      "Epoch 2/10\n",
      "19/19 [==============================] - 0s 6ms/step - loss: 15.2919 - mean_squared_error: 15.2919 - val_loss: 18.3411 - val_mean_squared_error: 18.3411\n",
      "Epoch 3/10\n",
      "19/19 [==============================] - 0s 5ms/step - loss: 6.0431 - mean_squared_error: 6.0431 - val_loss: 6.7069 - val_mean_squared_error: 6.7069\n",
      "Epoch 4/10\n",
      "19/19 [==============================] - 0s 5ms/step - loss: 1.6419 - mean_squared_error: 1.6419 - val_loss: 0.9629 - val_mean_squared_error: 0.9629\n",
      "Epoch 5/10\n",
      "19/19 [==============================] - 0s 5ms/step - loss: 0.2709 - mean_squared_error: 0.2709 - val_loss: 0.5122 - val_mean_squared_error: 0.5122\n",
      "Epoch 6/10\n",
      "19/19 [==============================] - 0s 5ms/step - loss: 0.1247 - mean_squared_error: 0.1247 - val_loss: 0.4927 - val_mean_squared_error: 0.4927\n",
      "Epoch 7/10\n",
      "19/19 [==============================] - 0s 5ms/step - loss: 0.0965 - mean_squared_error: 0.0965 - val_loss: 0.2251 - val_mean_squared_error: 0.2251\n",
      "Epoch 8/10\n",
      "19/19 [==============================] - 0s 5ms/step - loss: 0.0948 - mean_squared_error: 0.0948 - val_loss: 0.2682 - val_mean_squared_error: 0.2682\n",
      "Epoch 9/10\n",
      "19/19 [==============================] - 0s 5ms/step - loss: 0.0880 - mean_squared_error: 0.0880 - val_loss: 0.3538 - val_mean_squared_error: 0.3538\n",
      "Epoch 10/10\n",
      "19/19 [==============================] - 0s 5ms/step - loss: 0.0929 - mean_squared_error: 0.0929 - val_loss: 0.2530 - val_mean_squared_error: 0.2530\n"
     ]
    },
    {
     "data": {
      "text/plain": [
       "<tensorflow.python.keras.callbacks.History at 0x2457354ff40>"
      ]
     },
     "execution_count": 260,
     "metadata": {},
     "output_type": "execute_result"
    }
   ],
   "source": [
    "op4.fit_model(10)"
   ]
  },
  {
   "cell_type": "code",
   "execution_count": 261,
   "metadata": {},
   "outputs": [
    {
     "data": {
      "image/png": "[encoded data removed]",
      "text/plain": [
       "<Figure size 432x288 with 2 Axes>"
      ]
     },
     "metadata": {
      "needs_background": "light"
     },
     "output_type": "display_data"
    }
   ],
   "source": [
    "op4.show_performance()"
   ]
  },
  {
   "cell_type": "code",
   "execution_count": 262,
   "metadata": {},
   "outputs": [],
   "source": [
    "oyea = prices[-25:-1]\n",
    "#oyea = X[-1]\n",
    "#oyea"
   ]
  },
  {
   "cell_type": "code",
   "execution_count": 266,
   "metadata": {},
   "outputs": [
    {
     "data": {
      "text/html": [
       "<div>\n",
       "<style scoped>\n",
       "    .dataframe tbody tr th:only-of-type {\n",
       "        vertical-align: middle;\n",
       "    }\n",
       "\n",
       "    .dataframe tbody tr th {\n",
       "        vertical-align: top;\n",
       "    }\n",
       "\n",
       "    .dataframe thead th {\n",
       "        text-align: right;\n",
       "    }\n",
       "</style>\n",
       "<table border=\"1\" class=\"dataframe\">\n",
       "  <thead>\n",
       "    <tr style=\"text-align: right;\">\n",
       "      <th></th>\n",
       "      <th>CNN-LSTM</th>\n",
       "    </tr>\n",
       "  </thead>\n",
       "  <tbody>\n",
       "    <tr>\n",
       "      <th>0</th>\n",
       "      <td>7.625943</td>\n",
       "    </tr>\n",
       "    <tr>\n",
       "      <th>1</th>\n",
       "      <td>7.442990</td>\n",
       "    </tr>\n",
       "    <tr>\n",
       "      <th>2</th>\n",
       "      <td>8.041752</td>\n",
       "    </tr>\n",
       "    <tr>\n",
       "      <th>3</th>\n",
       "      <td>7.472704</td>\n",
       "    </tr>\n",
       "    <tr>\n",
       "      <th>4</th>\n",
       "      <td>7.698625</td>\n",
       "    </tr>\n",
       "    <tr>\n",
       "      <th>5</th>\n",
       "      <td>7.770092</td>\n",
       "    </tr>\n",
       "    <tr>\n",
       "      <th>6</th>\n",
       "      <td>7.436638</td>\n",
       "    </tr>\n",
       "    <tr>\n",
       "      <th>7</th>\n",
       "      <td>8.211632</td>\n",
       "    </tr>\n",
       "    <tr>\n",
       "      <th>8</th>\n",
       "      <td>8.182108</td>\n",
       "    </tr>\n",
       "    <tr>\n",
       "      <th>9</th>\n",
       "      <td>8.023966</td>\n",
       "    </tr>\n",
       "    <tr>\n",
       "      <th>10</th>\n",
       "      <td>8.228939</td>\n",
       "    </tr>\n",
       "    <tr>\n",
       "      <th>11</th>\n",
       "      <td>7.601229</td>\n",
       "    </tr>\n",
       "    <tr>\n",
       "      <th>12</th>\n",
       "      <td>7.649753</td>\n",
       "    </tr>\n",
       "    <tr>\n",
       "      <th>13</th>\n",
       "      <td>8.240633</td>\n",
       "    </tr>\n",
       "    <tr>\n",
       "      <th>14</th>\n",
       "      <td>7.478679</td>\n",
       "    </tr>\n",
       "    <tr>\n",
       "      <th>15</th>\n",
       "      <td>8.016176</td>\n",
       "    </tr>\n",
       "    <tr>\n",
       "      <th>16</th>\n",
       "      <td>8.126166</td>\n",
       "    </tr>\n",
       "    <tr>\n",
       "      <th>17</th>\n",
       "      <td>8.139061</td>\n",
       "    </tr>\n",
       "    <tr>\n",
       "      <th>18</th>\n",
       "      <td>8.142853</td>\n",
       "    </tr>\n",
       "    <tr>\n",
       "      <th>19</th>\n",
       "      <td>7.884616</td>\n",
       "    </tr>\n",
       "  </tbody>\n",
       "</table>\n",
       "</div>"
      ],
      "text/plain": [
       "    CNN-LSTM\n",
       "0   7.625943\n",
       "1   7.442990\n",
       "2   8.041752\n",
       "3   7.472704\n",
       "4   7.698625\n",
       "5   7.770092\n",
       "6   7.436638\n",
       "7   8.211632\n",
       "8   8.182108\n",
       "9   8.023966\n",
       "10  8.228939\n",
       "11  7.601229\n",
       "12  7.649753\n",
       "13  8.240633\n",
       "14  7.478679\n",
       "15  8.016176\n",
       "16  8.126166\n",
       "17  8.139061\n",
       "18  8.142853\n",
       "19  7.884616"
      ]
     },
     "execution_count": 266,
     "metadata": {},
     "output_type": "execute_result"
    }
   ],
   "source": [
    "nice = op4.predict(oyea)\n",
    "nice\n",
    "#noice = pd.DataFrame(nice, columns=['yea'])\n",
    "#noice = nice.reshape(20, 1)\n",
    "#noice = pd.DataFrame(noice, columns=['yea'])"
   ]
  },
  {
   "cell_type": "code",
   "execution_count": 267,
   "metadata": {},
   "outputs": [
    {
     "data": {
      "text/plain": [
       "<AxesSubplot:>"
      ]
     },
     "execution_count": 267,
     "metadata": {},
     "output_type": "execute_result"
    },
    {
     "data": {
      "image/png": "[encoded data removed]",
      "text/plain": [
       "<Figure size 432x288 with 1 Axes>"
      ]
     },
     "metadata": {
      "needs_background": "light"
     },
     "output_type": "display_data"
    }
   ],
   "source": [
    "nice.plot()"
   ]
  },
  {
   "cell_type": "code",
   "execution_count": null,
   "metadata": {},
   "outputs": [],
   "source": []
  }
 ],
 "metadata": {
  "kernelspec": {
   "display_name": "Python 3",
   "language": "python",
   "name": "python3"
  },
  "language_info": {
   "codemirror_mode": {
    "name": "ipython",
    "version": 3
   },
   "file_extension": ".py",
   "mimetype": "text/x-python",
   "name": "python",
   "nbconvert_exporter": "python",
   "pygments_lexer": "ipython3",
   "version": "3.8.1"
  }
 },
 "nbformat": 4,
 "nbformat_minor": 2
}
