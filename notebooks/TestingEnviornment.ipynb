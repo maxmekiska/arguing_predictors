{
 "cells": [
  {
   "cell_type": "markdown",
   "metadata": {},
   "source": [
    "# Testing Enviornment"
   ]
  },
  {
   "cell_type": "code",
   "execution_count": 1,
   "metadata": {},
   "outputs": [],
   "source": [
    "import pandas as pd\n",
    "import numpy as np"
   ]
  },
  {
   "cell_type": "markdown",
   "metadata": {},
   "source": [
    "## Running tests"
   ]
  },
  {
   "cell_type": "markdown",
   "metadata": {},
   "source": [
    "The following section unit-tests most of the code written for the proof of concept prototype."
   ]
  },
  {
   "cell_type": "code",
   "execution_count": 8,
   "metadata": {
    "scrolled": false
   },
   "outputs": [
    {
     "name": "stderr",
     "output_type": "stream",
     "text": [
      "........\n",
      "----------------------------------------------------------------------\n",
      "Ran 8 tests in 0.091s\n",
      "\n",
      "OK\n"
     ]
    }
   ],
   "source": [
    "%run ../test/test_algorithms.py"
   ]
  },
  {
   "cell_type": "code",
   "execution_count": 9,
   "metadata": {},
   "outputs": [
    {
     "name": "stderr",
     "output_type": "stream",
     "text": [
      "...............\n",
      "----------------------------------------------------------------------\n",
      "Ran 15 tests in 0.037s\n",
      "\n",
      "OK\n"
     ]
    }
   ],
   "source": [
    "%run ../test/test_dataloader.py"
   ]
  },
  {
   "cell_type": "code",
   "execution_count": 10,
   "metadata": {},
   "outputs": [
    {
     "name": "stderr",
     "output_type": "stream",
     "text": [
      "..\n",
      "----------------------------------------------------------------------\n",
      "Ran 2 tests in 0.002s\n",
      "\n",
      "OK\n"
     ]
    }
   ],
   "source": [
    "%run ../test/test_predictorsI.py"
   ]
  },
  {
   "cell_type": "code",
   "execution_count": 11,
   "metadata": {},
   "outputs": [
    {
     "name": "stderr",
     "output_type": "stream",
     "text": [
      ".\n",
      "----------------------------------------------------------------------\n",
      "Ran 1 test in 0.003s\n",
      "\n",
      "OK\n"
     ]
    }
   ],
   "source": [
    "%run ../test/test_predictorsII.py"
   ]
  },
  {
   "cell_type": "markdown",
   "metadata": {},
   "source": [
    "## Running example of the system"
   ]
  },
  {
   "cell_type": "code",
   "execution_count": null,
   "metadata": {},
   "outputs": [],
   "source": [
    "%run ../tools/algorithms.py"
   ]
  },
  {
   "cell_type": "code",
   "execution_count": null,
   "metadata": {},
   "outputs": [],
   "source": [
    "%run ../tools/dataloader.py"
   ]
  },
  {
   "cell_type": "code",
   "execution_count": 14,
   "metadata": {},
   "outputs": [],
   "source": [
    "test = DataLoader('aapl', '2009-01-01', '2010-02-10')"
   ]
  },
  {
   "cell_type": "code",
   "execution_count": 15,
   "metadata": {},
   "outputs": [],
   "source": [
    "prices = test.get_close()"
   ]
  },
  {
   "cell_type": "code",
   "execution_count": null,
   "metadata": {},
   "outputs": [],
   "source": [
    "prices"
   ]
  },
  {
   "cell_type": "code",
   "execution_count": null,
   "metadata": {},
   "outputs": [],
   "source": [
    "#prices = np.array(prices)\n",
    "#len(prices)"
   ]
  },
  {
   "cell_type": "code",
   "execution_count": null,
   "metadata": {},
   "outputs": [],
   "source": [
    "prices"
   ]
  },
  {
   "cell_type": "code",
   "execution_count": 12,
   "metadata": {},
   "outputs": [],
   "source": [
    "%run ../tools/predictorsI.py"
   ]
  },
  {
   "cell_type": "code",
   "execution_count": 16,
   "metadata": {},
   "outputs": [],
   "source": [
    "op0 = BasicUnivariatePredictor(prices, 25, 7)\n",
    "op1 = BasicUnivariatePredictor(prices, 25, 7)\n",
    "op2 = BasicUnivariatePredictor(prices, 25, 7)\n",
    "op3 = BasicUnivariatePredictor(prices, 25, 7)"
   ]
  },
  {
   "cell_type": "code",
   "execution_count": 17,
   "metadata": {},
   "outputs": [],
   "source": [
    "op0.create_bilstm()"
   ]
  },
  {
   "cell_type": "code",
   "execution_count": 18,
   "metadata": {},
   "outputs": [
    {
     "name": "stdout",
     "output_type": "stream",
     "text": [
      "Model: \"sequential\"\n",
      "_________________________________________________________________\n",
      "Layer (type)                 Output Shape              Param #   \n",
      "=================================================================\n",
      "bidirectional (Bidirectional (None, 27, 100)           20800     \n",
      "_________________________________________________________________\n",
      "lstm_1 (LSTM)                (None, 50)                30200     \n",
      "_________________________________________________________________\n",
      "dense (Dense)                (None, 10)                510       \n",
      "=================================================================\n",
      "Total params: 51,510\n",
      "Trainable params: 51,510\n",
      "Non-trainable params: 0\n",
      "_________________________________________________________________\n"
     ]
    }
   ],
   "source": [
    "op0.model_blueprint()"
   ]
  },
  {
   "cell_type": "code",
   "execution_count": 19,
   "metadata": {},
   "outputs": [
    {
     "name": "stdout",
     "output_type": "stream",
     "text": [
      "Epoch 1/10\n",
      "20/20 [==============================] - 1s 43ms/step - loss: 20.6314 - mean_squared_error: 20.6314 - val_loss: 22.3057 - val_mean_squared_error: 22.3057\n",
      "Epoch 2/10\n",
      "20/20 [==============================] - 0s 18ms/step - loss: 5.1889 - mean_squared_error: 5.1889 - val_loss: 7.7301 - val_mean_squared_error: 7.7301\n",
      "Epoch 3/10\n",
      "20/20 [==============================] - 0s 17ms/step - loss: 0.4640 - mean_squared_error: 0.4640 - val_loss: 0.6654 - val_mean_squared_error: 0.6654\n",
      "Epoch 4/10\n",
      "20/20 [==============================] - 0s 18ms/step - loss: 0.1395 - mean_squared_error: 0.1395 - val_loss: 0.4396 - val_mean_squared_error: 0.4396\n",
      "Epoch 5/10\n",
      "20/20 [==============================] - 0s 17ms/step - loss: 0.1024 - mean_squared_error: 0.1024 - val_loss: 0.3156 - val_mean_squared_error: 0.3156\n",
      "Epoch 6/10\n",
      "20/20 [==============================] - 0s 20ms/step - loss: 0.0991 - mean_squared_error: 0.0991 - val_loss: 0.1921 - val_mean_squared_error: 0.1921\n",
      "Epoch 7/10\n",
      "20/20 [==============================] - 0s 19ms/step - loss: 0.1199 - mean_squared_error: 0.1199 - val_loss: 0.1592 - val_mean_squared_error: 0.1592\n",
      "Epoch 8/10\n",
      "20/20 [==============================] - 0s 17ms/step - loss: 0.0861 - mean_squared_error: 0.0861 - val_loss: 0.2415 - val_mean_squared_error: 0.2415\n",
      "Epoch 9/10\n",
      "20/20 [==============================] - 0s 17ms/step - loss: 0.0803 - mean_squared_error: 0.0803 - val_loss: 0.1217 - val_mean_squared_error: 0.1217\n",
      "Epoch 10/10\n",
      "20/20 [==============================] - 0s 19ms/step - loss: 0.0815 - mean_squared_error: 0.0815 - val_loss: 0.3766 - val_mean_squared_error: 0.3766\n"
     ]
    },
    {
     "data": {
      "text/plain": [
       "<tensorflow.python.keras.callbacks.History at 0x245472eae20>"
      ]
     },
     "execution_count": 19,
     "metadata": {},
     "output_type": "execute_result"
    }
   ],
   "source": [
    "op0.fit_model(10)"
   ]
  },
  {
   "cell_type": "code",
   "execution_count": 20,
   "metadata": {},
   "outputs": [
    {
     "data": {
      "image/png": "[encoded data removed]",
      "text/plain": [
       "<Figure size 432x288 with 2 Axes>"
      ]
     },
     "metadata": {
      "needs_background": "light"
     },
     "output_type": "display_data"
    }
   ],
   "source": [
    "op0.show_performance()"
   ]
  },
  {
   "cell_type": "code",
   "execution_count": 22,
   "metadata": {},
   "outputs": [],
   "source": [
    "oyea = prices[-26:-1]\n",
    "#oyea = X[-1]\n",
    "#oyea"
   ]
  },
  {
   "cell_type": "code",
   "execution_count": 23,
   "metadata": {},
   "outputs": [
    {
     "data": {
      "text/plain": [
       "array([[7.8092895, 7.4960346, 8.100695 , 7.5970926, 7.5433383, 7.7114053,\n",
       "        7.8961105, 8.394489 , 8.937011 , 8.202603 ]], dtype=float32)"
      ]
     },
     "execution_count": 23,
     "metadata": {},
     "output_type": "execute_result"
    }
   ],
   "source": [
    "nice = op0.predict(oyea)\n",
    "nice"
   ]
  },
  {
   "cell_type": "code",
   "execution_count": null,
   "metadata": {},
   "outputs": [],
   "source": [
    "op1.create_lstm()"
   ]
  },
  {
   "cell_type": "code",
   "execution_count": null,
   "metadata": {},
   "outputs": [],
   "source": [
    "op1.model_blueprint()"
   ]
  },
  {
   "cell_type": "code",
   "execution_count": null,
   "metadata": {},
   "outputs": [],
   "source": [
    "op1.fit_model(10)"
   ]
  },
  {
   "cell_type": "code",
   "execution_count": null,
   "metadata": {},
   "outputs": [],
   "source": [
    "op1.show_performance()"
   ]
  },
  {
   "cell_type": "code",
   "execution_count": null,
   "metadata": {},
   "outputs": [],
   "source": [
    "nice = op1.predict(oyea)\n",
    "nice"
   ]
  },
  {
   "cell_type": "code",
   "execution_count": null,
   "metadata": {},
   "outputs": [],
   "source": [
    "op2.create_cnn()"
   ]
  },
  {
   "cell_type": "code",
   "execution_count": null,
   "metadata": {},
   "outputs": [],
   "source": [
    "op2.model_blueprint()"
   ]
  },
  {
   "cell_type": "code",
   "execution_count": null,
   "metadata": {},
   "outputs": [],
   "source": [
    "op2.fit_model(10)"
   ]
  },
  {
   "cell_type": "code",
   "execution_count": null,
   "metadata": {},
   "outputs": [],
   "source": [
    "op2.show_performance()"
   ]
  },
  {
   "cell_type": "code",
   "execution_count": null,
   "metadata": {},
   "outputs": [],
   "source": [
    "nice = op2.predict(oyea)\n",
    "nice"
   ]
  },
  {
   "cell_type": "code",
   "execution_count": null,
   "metadata": {},
   "outputs": [],
   "source": [
    "op3.create_mlp()"
   ]
  },
  {
   "cell_type": "code",
   "execution_count": null,
   "metadata": {},
   "outputs": [],
   "source": [
    "op3.model_blueprint()"
   ]
  },
  {
   "cell_type": "code",
   "execution_count": null,
   "metadata": {},
   "outputs": [],
   "source": [
    "op3.fit_model(100)"
   ]
  },
  {
   "cell_type": "code",
   "execution_count": null,
   "metadata": {},
   "outputs": [],
   "source": [
    "op3.show_performance()"
   ]
  },
  {
   "cell_type": "code",
   "execution_count": null,
   "metadata": {},
   "outputs": [],
   "source": [
    "oyea = prices[-26:-1]\n",
    "#oyea = X[-1]\n",
    "#oyea"
   ]
  },
  {
   "cell_type": "code",
   "execution_count": null,
   "metadata": {},
   "outputs": [],
   "source": [
    "nice = op3.predict(oyea)\n",
    "nice"
   ]
  },
  {
   "cell_type": "code",
   "execution_count": null,
   "metadata": {},
   "outputs": [],
   "source": [
    "%run ../tools/predictorsII.py"
   ]
  },
  {
   "cell_type": "code",
   "execution_count": null,
   "metadata": {},
   "outputs": [],
   "source": [
    "oo = UnivariatePredictorII(prices, 7)"
   ]
  },
  {
   "cell_type": "code",
   "execution_count": null,
   "metadata": {},
   "outputs": [],
   "source": [
    "oo.fit_neural_model(300,\"D\")"
   ]
  },
  {
   "cell_type": "code",
   "execution_count": null,
   "metadata": {
    "scrolled": true
   },
   "outputs": [],
   "source": [
    "oo.show_performance_neural()"
   ]
  },
  {
   "cell_type": "code",
   "execution_count": null,
   "metadata": {
    "scrolled": true
   },
   "outputs": [],
   "source": [
    "oo.predict_neural()"
   ]
  },
  {
   "cell_type": "code",
   "execution_count": null,
   "metadata": {
    "scrolled": false
   },
   "outputs": [],
   "source": [
    "oo.fit_prophet_model()"
   ]
  },
  {
   "cell_type": "code",
   "execution_count": null,
   "metadata": {},
   "outputs": [],
   "source": [
    "oo.show_performance_prophet()"
   ]
  },
  {
   "cell_type": "code",
   "execution_count": null,
   "metadata": {},
   "outputs": [],
   "source": [
    "oo.predict_prophet()"
   ]
  },
  {
   "cell_type": "code",
   "execution_count": 152,
   "metadata": {},
   "outputs": [],
   "source": [
    "%run ../tools/predictorsIII.py"
   ]
  },
  {
   "cell_type": "code",
   "execution_count": 153,
   "metadata": {},
   "outputs": [
    {
     "data": {
      "text/plain": [
       "279"
      ]
     },
     "execution_count": 153,
     "metadata": {},
     "output_type": "execute_result"
    }
   ],
   "source": [
    "len(prices)"
   ]
  },
  {
   "cell_type": "code",
   "execution_count": 164,
   "metadata": {},
   "outputs": [
    {
     "ename": "ValueError",
     "evalue": "Steps going into the past need to be evenly divisible by sub sequence",
     "output_type": "error",
     "traceback": [
      "\u001b[1;31m---------------------------------------------------------------------------\u001b[0m",
      "\u001b[1;31mValueError\u001b[0m                                Traceback (most recent call last)",
      "\u001b[1;32m<ipython-input-164-2cfa94de25ee>\u001b[0m in \u001b[0;36m<module>\u001b[1;34m\u001b[0m\n\u001b[1;32m----> 1\u001b[1;33m \u001b[0mop4\u001b[0m \u001b[1;33m=\u001b[0m \u001b[0mHybridUnivariatePredictor\u001b[0m\u001b[1;33m(\u001b[0m\u001b[0mprices\u001b[0m\u001b[1;33m,\u001b[0m\u001b[1;36m10\u001b[0m\u001b[1;33m,\u001b[0m \u001b[1;36m24\u001b[0m\u001b[1;33m,\u001b[0m \u001b[1;36m7\u001b[0m\u001b[1;33m)\u001b[0m\u001b[1;33m\u001b[0m\u001b[1;33m\u001b[0m\u001b[0m\n\u001b[0m",
      "\u001b[1;32m~\\Documents\\GitHubPrivate\\arguing-predictors\\tools\\predictorsIII.py\u001b[0m in \u001b[0;36m__init__\u001b[1;34m(self, data, sub_seq, steps_past, steps_future)\u001b[0m\n\u001b[0;32m     53\u001b[0m         \u001b[0mself\u001b[0m\u001b[1;33m.\u001b[0m\u001b[0mdata\u001b[0m \u001b[1;33m=\u001b[0m \u001b[0marray\u001b[0m\u001b[1;33m(\u001b[0m\u001b[0mdata\u001b[0m\u001b[1;33m)\u001b[0m\u001b[1;33m\u001b[0m\u001b[1;33m\u001b[0m\u001b[0m\n\u001b[0;32m     54\u001b[0m         \u001b[0mself\u001b[0m\u001b[1;33m.\u001b[0m\u001b[0msub_seq\u001b[0m \u001b[1;33m=\u001b[0m \u001b[0msub_seq\u001b[0m\u001b[1;33m\u001b[0m\u001b[1;33m\u001b[0m\u001b[0m\n\u001b[1;32m---> 55\u001b[1;33m         \u001b[0mself\u001b[0m\u001b[1;33m.\u001b[0m\u001b[0minput_x\u001b[0m\u001b[1;33m,\u001b[0m \u001b[0mself\u001b[0m\u001b[1;33m.\u001b[0m\u001b[0minput_y\u001b[0m\u001b[1;33m,\u001b[0m \u001b[0mself\u001b[0m\u001b[1;33m.\u001b[0m\u001b[0mmodified_back\u001b[0m \u001b[1;33m=\u001b[0m \u001b[0mself\u001b[0m\u001b[1;33m.\u001b[0m\u001b[0m__sequence_prep\u001b[0m\u001b[1;33m(\u001b[0m\u001b[0mdata\u001b[0m\u001b[1;33m,\u001b[0m \u001b[0msub_seq\u001b[0m\u001b[1;33m,\u001b[0m \u001b[0msteps_past\u001b[0m\u001b[1;33m,\u001b[0m \u001b[0msteps_future\u001b[0m\u001b[1;33m)\u001b[0m\u001b[1;33m\u001b[0m\u001b[1;33m\u001b[0m\u001b[0m\n\u001b[0m\u001b[0;32m     56\u001b[0m \u001b[1;33m\u001b[0m\u001b[0m\n\u001b[0;32m     57\u001b[0m \u001b[1;33m\u001b[0m\u001b[0m\n",
      "\u001b[1;32m~\\Documents\\GitHubPrivate\\arguing-predictors\\tools\\predictorsIII.py\u001b[0m in \u001b[0;36m__sequence_prep\u001b[1;34m(self, input_sequence, sub_seq, steps_past, steps_future)\u001b[0m\n\u001b[0;32m     74\u001b[0m         \u001b[0my\u001b[0m \u001b[1;33m=\u001b[0m \u001b[1;33m[\u001b[0m\u001b[1;33m]\u001b[0m\u001b[1;33m\u001b[0m\u001b[1;33m\u001b[0m\u001b[0m\n\u001b[0;32m     75\u001b[0m         \u001b[1;32mif\u001b[0m \u001b[0msteps_past\u001b[0m \u001b[1;33m%\u001b[0m \u001b[0msub_seq\u001b[0m \u001b[1;33m!=\u001b[0m \u001b[1;36m0\u001b[0m\u001b[1;33m:\u001b[0m\u001b[1;33m\u001b[0m\u001b[1;33m\u001b[0m\u001b[0m\n\u001b[1;32m---> 76\u001b[1;33m             \u001b[1;32mraise\u001b[0m \u001b[0mValueError\u001b[0m\u001b[1;33m(\u001b[0m\u001b[1;34m'Steps going into the past need to be evenly divisible by sub sequence'\u001b[0m\u001b[1;33m)\u001b[0m\u001b[1;33m\u001b[0m\u001b[1;33m\u001b[0m\u001b[0m\n\u001b[0m\u001b[0;32m     77\u001b[0m         \u001b[1;32mif\u001b[0m \u001b[0mlength\u001b[0m \u001b[1;33m<=\u001b[0m \u001b[0msteps_past\u001b[0m\u001b[1;33m:\u001b[0m\u001b[1;33m\u001b[0m\u001b[1;33m\u001b[0m\u001b[0m\n\u001b[0;32m     78\u001b[0m             \u001b[1;32mraise\u001b[0m \u001b[0mValueError\u001b[0m\u001b[1;33m(\u001b[0m\u001b[1;34m'Input sequence is equal to or shorter than steps to look backwards'\u001b[0m\u001b[1;33m)\u001b[0m\u001b[1;33m\u001b[0m\u001b[1;33m\u001b[0m\u001b[0m\n",
      "\u001b[1;31mValueError\u001b[0m: Steps going into the past need to be evenly divisible by sub sequence"
     ]
    }
   ],
   "source": [
    "op4 = HybridUnivariatePredictor(prices,10, 24, 7)"
   ]
  },
  {
   "cell_type": "code",
   "execution_count": 165,
   "metadata": {},
   "outputs": [],
   "source": [
    "op4.create_cnnlstm()"
   ]
  },
  {
   "cell_type": "code",
   "execution_count": 166,
   "metadata": {},
   "outputs": [
    {
     "name": "stdout",
     "output_type": "stream",
     "text": [
      "Epoch 1/10\n",
      "20/20 [==============================] - 0s 17ms/step - loss: 21.2581 - mean_squared_error: 21.2581 - val_loss: 13.2238 - val_mean_squared_error: 13.2238\n",
      "Epoch 2/10\n",
      "20/20 [==============================] - 0s 6ms/step - loss: 2.2011 - mean_squared_error: 2.2011 - val_loss: 1.3377 - val_mean_squared_error: 1.3377\n",
      "Epoch 3/10\n",
      "20/20 [==============================] - 0s 6ms/step - loss: 0.3282 - mean_squared_error: 0.3282 - val_loss: 0.5906 - val_mean_squared_error: 0.5906\n",
      "Epoch 4/10\n",
      "20/20 [==============================] - 0s 5ms/step - loss: 0.1264 - mean_squared_error: 0.1264 - val_loss: 0.1496 - val_mean_squared_error: 0.1496\n",
      "Epoch 5/10\n",
      "20/20 [==============================] - 0s 4ms/step - loss: 0.0763 - mean_squared_error: 0.0763 - val_loss: 0.1295 - val_mean_squared_error: 0.1295\n",
      "Epoch 6/10\n",
      "20/20 [==============================] - 0s 5ms/step - loss: 0.0688 - mean_squared_error: 0.0688 - val_loss: 0.1332 - val_mean_squared_error: 0.1332\n",
      "Epoch 7/10\n",
      "20/20 [==============================] - 0s 4ms/step - loss: 0.0596 - mean_squared_error: 0.0596 - val_loss: 0.1077 - val_mean_squared_error: 0.1077\n",
      "Epoch 8/10\n",
      "20/20 [==============================] - 0s 4ms/step - loss: 0.0591 - mean_squared_error: 0.0591 - val_loss: 0.1507 - val_mean_squared_error: 0.1507\n",
      "Epoch 9/10\n",
      "20/20 [==============================] - 0s 5ms/step - loss: 0.0580 - mean_squared_error: 0.0580 - val_loss: 0.0972 - val_mean_squared_error: 0.0972\n",
      "Epoch 10/10\n",
      "20/20 [==============================] - 0s 5ms/step - loss: 0.0553 - mean_squared_error: 0.0553 - val_loss: 0.0847 - val_mean_squared_error: 0.0847\n"
     ]
    },
    {
     "data": {
      "text/plain": [
       "<tensorflow.python.keras.callbacks.History at 0x24565e92a90>"
      ]
     },
     "execution_count": 166,
     "metadata": {},
     "output_type": "execute_result"
    }
   ],
   "source": [
    "op4.fit_model(10)"
   ]
  },
  {
   "cell_type": "code",
   "execution_count": 145,
   "metadata": {},
   "outputs": [
    {
     "data": {
      "image/png": "[encoded data removed]",
      "text/plain": [
       "<Figure size 432x288 with 2 Axes>"
      ]
     },
     "metadata": {
      "needs_background": "light"
     },
     "output_type": "display_data"
    }
   ],
   "source": [
    "op4.show_performance()"
   ]
  },
  {
   "cell_type": "code",
   "execution_count": 146,
   "metadata": {},
   "outputs": [],
   "source": [
    "oyea = prices[-25:-1]\n",
    "#oyea = X[-1]\n",
    "#oyea"
   ]
  },
  {
   "cell_type": "code",
   "execution_count": 147,
   "metadata": {},
   "outputs": [
    {
     "data": {
      "text/plain": [
       "array([[7.7184496, 7.63477  , 7.8734136, 7.7907596, 7.8487754, 7.816095 ,\n",
       "        8.0207   ]], dtype=float32)"
      ]
     },
     "execution_count": 147,
     "metadata": {},
     "output_type": "execute_result"
    }
   ],
   "source": [
    "nice = op4.predict(oyea)\n",
    "nice"
   ]
  },
  {
   "cell_type": "code",
   "execution_count": null,
   "metadata": {},
   "outputs": [],
   "source": []
  }
 ],
 "metadata": {
  "kernelspec": {
   "display_name": "Python 3",
   "language": "python",
   "name": "python3"
  },
  "language_info": {
   "codemirror_mode": {
    "name": "ipython",
    "version": 3
   },
   "file_extension": ".py",
   "mimetype": "text/x-python",
   "name": "python",
   "nbconvert_exporter": "python",
   "pygments_lexer": "ipython3",
   "version": "3.8.1"
  }
 },
 "nbformat": 4,
 "nbformat_minor": 2
}
