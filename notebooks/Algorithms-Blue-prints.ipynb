{
 "cells": [
  {
   "cell_type": "markdown",
   "metadata": {},
   "source": [
    "The first algorithm that will be implemented is the system disagreement evaluator. To this extend, to implementation are provided. The first implementation calculates the overall system disagreement level at each time step while the second implementation considers the individual disagreement levels of each predictor. \n",
    "\n",
    "The following example was portrait in the disseratation proposal:\n",
    "\n",
    "The following predictors have predicted the following values: Predictor I = 2, Predictor II = 5, Predictor III= 10. Predictor I average disagreement = $\\mathit{|2-2| + |2-5| + |2-10|} = 11/3 = 3.67$. Predictor II average disagreement = $\\mathit{|5-2| + |5-5| + |5-10|} = 8/3 = 2.67$ and finally Predictor III average disagreement = $\\mathit{|10-2| + |10-5| + |10-10|} = 13/3 = 4.33$. These values provide the systems overall disagreement level = $\\mathit{(3.67 + 2.67 + 4.33)/3} = 3.56$. \n",
    "\n",
    "At time $\\mathit{t_1}$ the final decision is compared to the real value and new weights are assigned to all predictors depending on how far off their previous prediction was from the real value. These process is repeated indefinitely and weights are adjusted accordingly at each step."
   ]
  },
  {
   "cell_type": "code",
   "execution_count": 1,
   "metadata": {},
   "outputs": [],
   "source": [
    "import pandas as pd"
   ]
  },
  {
   "cell_type": "code",
   "execution_count": 2,
   "metadata": {
    "scrolled": true
   },
   "outputs": [
    {
     "data": {
      "text/html": [
       "<div>\n",
       "<style scoped>\n",
       "    .dataframe tbody tr th:only-of-type {\n",
       "        vertical-align: middle;\n",
       "    }\n",
       "\n",
       "    .dataframe tbody tr th {\n",
       "        vertical-align: top;\n",
       "    }\n",
       "\n",
       "    .dataframe thead th {\n",
       "        text-align: right;\n",
       "    }\n",
       "</style>\n",
       "<table border=\"1\" class=\"dataframe\">\n",
       "  <thead>\n",
       "    <tr style=\"text-align: right;\">\n",
       "      <th></th>\n",
       "      <th>Predictor I</th>\n",
       "      <th>Predictor II</th>\n",
       "      <th>Predictor III</th>\n",
       "    </tr>\n",
       "  </thead>\n",
       "  <tbody>\n",
       "    <tr>\n",
       "      <th>0</th>\n",
       "      <td>2</td>\n",
       "      <td>5</td>\n",
       "      <td>10</td>\n",
       "    </tr>\n",
       "    <tr>\n",
       "      <th>1</th>\n",
       "      <td>4</td>\n",
       "      <td>5</td>\n",
       "      <td>5</td>\n",
       "    </tr>\n",
       "    <tr>\n",
       "      <th>2</th>\n",
       "      <td>6</td>\n",
       "      <td>6</td>\n",
       "      <td>8</td>\n",
       "    </tr>\n",
       "    <tr>\n",
       "      <th>3</th>\n",
       "      <td>6</td>\n",
       "      <td>5</td>\n",
       "      <td>8</td>\n",
       "    </tr>\n",
       "  </tbody>\n",
       "</table>\n",
       "</div>"
      ],
      "text/plain": [
       "   Predictor I  Predictor II  Predictor III\n",
       "0            2             5             10\n",
       "1            4             5              5\n",
       "2            6             6              8\n",
       "3            6             5              8"
      ]
     },
     "execution_count": 2,
     "metadata": {},
     "output_type": "execute_result"
    }
   ],
   "source": [
    "d = {'Predictor I': [2, 4, 6, 6], 'Predictor II': [5, 5, 6, 5], 'Predictor III': [10, 5, 8, 8]}\n",
    "df = pd.DataFrame(data=d)\n",
    "df"
   ]
  },
  {
   "cell_type": "markdown",
   "metadata": {},
   "source": [
    "This first disagreement algorithm focuses on the calculation of the overall system disagreement, at each time step, between all predictors. This implementation does not show the details of each individual predictor."
   ]
  },
  {
   "cell_type": "code",
   "execution_count": 3,
   "metadata": {},
   "outputs": [],
   "source": [
    "def disagreement(data) -> list:\n",
    "    '''Takes in a DataFrame containing forecasts of different predictors and\n",
    "       calculates the disagreement score of the overall system.\n",
    "    \n",
    "        Parameters:\n",
    "            data (df): individual predictors forecast output\n",
    "        \n",
    "        Returns:\n",
    "            (df): containing overall system disagrement scores\n",
    "    '''\n",
    "    system_disagreement = []\n",
    "    for k in range(data.shape[0]):\n",
    "        individual_scores = []\n",
    "        for i in range(data.shape[1]):\n",
    "            for j in range(data.shape[1]):\n",
    "                individual_scores.append(abs(data.iloc[k,i] - data.iloc[k,j]))\n",
    "            \n",
    "        system_disagreement.append(sum(individual_scores) / len(individual_scores))\n",
    "        individual_scores.clear()\n",
    "    \n",
    "    output = pd.DataFrame()\n",
    "    output['System Disagreement'] = system_disagreement\n",
    "    return output"
   ]
  },
  {
   "cell_type": "code",
   "execution_count": 4,
   "metadata": {},
   "outputs": [
    {
     "data": {
      "text/html": [
       "<div>\n",
       "<style scoped>\n",
       "    .dataframe tbody tr th:only-of-type {\n",
       "        vertical-align: middle;\n",
       "    }\n",
       "\n",
       "    .dataframe tbody tr th {\n",
       "        vertical-align: top;\n",
       "    }\n",
       "\n",
       "    .dataframe thead th {\n",
       "        text-align: right;\n",
       "    }\n",
       "</style>\n",
       "<table border=\"1\" class=\"dataframe\">\n",
       "  <thead>\n",
       "    <tr style=\"text-align: right;\">\n",
       "      <th></th>\n",
       "      <th>System Disagreement</th>\n",
       "    </tr>\n",
       "  </thead>\n",
       "  <tbody>\n",
       "    <tr>\n",
       "      <th>0</th>\n",
       "      <td>3.555556</td>\n",
       "    </tr>\n",
       "    <tr>\n",
       "      <th>1</th>\n",
       "      <td>0.444444</td>\n",
       "    </tr>\n",
       "    <tr>\n",
       "      <th>2</th>\n",
       "      <td>0.888889</td>\n",
       "    </tr>\n",
       "    <tr>\n",
       "      <th>3</th>\n",
       "      <td>1.333333</td>\n",
       "    </tr>\n",
       "  </tbody>\n",
       "</table>\n",
       "</div>"
      ],
      "text/plain": [
       "   System Disagreement\n",
       "0             3.555556\n",
       "1             0.444444\n",
       "2             0.888889\n",
       "3             1.333333"
      ]
     },
     "execution_count": 4,
     "metadata": {},
     "output_type": "execute_result"
    }
   ],
   "source": [
    "test = disagreement(df)\n",
    "test"
   ]
  },
  {
   "cell_type": "markdown",
   "metadata": {},
   "source": [
    "The second implementation of the disagreement algorithm focuses on the individual predictors disagreement level with respect to all the other algorithms. This serves to be able to further understand which algorithm contributes to what extend to the overall system disagreement."
   ]
  },
  {
   "cell_type": "code",
   "execution_count": 5,
   "metadata": {},
   "outputs": [],
   "source": [
    "def predictor_score(data) -> list:\n",
    "    '''Takes in a DataFrame and calculates each individual predictors disagreement\n",
    "       scores.\n",
    "    \n",
    "        Parameters:\n",
    "            data (df): individual predictors forecast output\n",
    "        \n",
    "        Returns:\n",
    "            (df): containing all predictors individual \n",
    "    '''\n",
    "    individual_score_collection = []\n",
    "    for k in range(data.shape[0]):\n",
    "        average_values = []\n",
    "        for j in range(data.shape[1]):\n",
    "            individual_scores = []\n",
    "            for i in range(data.shape[1]):\n",
    "                individual_scores.append(abs(data.iloc[k, j] - data.iloc[k, i]))\n",
    "        \n",
    "            average_values.append(sum(individual_scores) / len(individual_scores))\n",
    "            individual_scores.clear()\n",
    "            \n",
    "        individual_score_collection.append(average_values)\n",
    "    \n",
    "    return pd.DataFrame(individual_score_collection)"
   ]
  },
  {
   "cell_type": "code",
   "execution_count": 6,
   "metadata": {},
   "outputs": [],
   "source": [
    "test = predictor_score(df)"
   ]
  },
  {
   "cell_type": "code",
   "execution_count": 7,
   "metadata": {},
   "outputs": [
    {
     "data": {
      "text/html": [
       "<div>\n",
       "<style scoped>\n",
       "    .dataframe tbody tr th:only-of-type {\n",
       "        vertical-align: middle;\n",
       "    }\n",
       "\n",
       "    .dataframe tbody tr th {\n",
       "        vertical-align: top;\n",
       "    }\n",
       "\n",
       "    .dataframe thead th {\n",
       "        text-align: right;\n",
       "    }\n",
       "</style>\n",
       "<table border=\"1\" class=\"dataframe\">\n",
       "  <thead>\n",
       "    <tr style=\"text-align: right;\">\n",
       "      <th></th>\n",
       "      <th>0</th>\n",
       "      <th>1</th>\n",
       "      <th>2</th>\n",
       "    </tr>\n",
       "  </thead>\n",
       "  <tbody>\n",
       "    <tr>\n",
       "      <th>0</th>\n",
       "      <td>3.666667</td>\n",
       "      <td>2.666667</td>\n",
       "      <td>4.333333</td>\n",
       "    </tr>\n",
       "    <tr>\n",
       "      <th>1</th>\n",
       "      <td>0.666667</td>\n",
       "      <td>0.333333</td>\n",
       "      <td>0.333333</td>\n",
       "    </tr>\n",
       "    <tr>\n",
       "      <th>2</th>\n",
       "      <td>0.666667</td>\n",
       "      <td>0.666667</td>\n",
       "      <td>1.333333</td>\n",
       "    </tr>\n",
       "    <tr>\n",
       "      <th>3</th>\n",
       "      <td>1.000000</td>\n",
       "      <td>1.333333</td>\n",
       "      <td>1.666667</td>\n",
       "    </tr>\n",
       "  </tbody>\n",
       "</table>\n",
       "</div>"
      ],
      "text/plain": [
       "          0         1         2\n",
       "0  3.666667  2.666667  4.333333\n",
       "1  0.666667  0.333333  0.333333\n",
       "2  0.666667  0.666667  1.333333\n",
       "3  1.000000  1.333333  1.666667"
      ]
     },
     "execution_count": 7,
     "metadata": {},
     "output_type": "execute_result"
    }
   ],
   "source": [
    "test"
   ]
  },
  {
   "cell_type": "code",
   "execution_count": 8,
   "metadata": {},
   "outputs": [],
   "source": [
    "# %run hello.py, this allows to import python scripts!!!"
   ]
  },
  {
   "cell_type": "markdown",
   "metadata": {},
   "source": [
    "All weights are initialized with a value of 1. After the first real value has been observed, the error rate of each predictor is determined by taking the absolute difference between the forecast and the real value. All error rates are summed and each predictors individual error is divided by the whole error rate calculated prior. Next, from each fraction computed 1 is subtracted which yields the weights for the next forecast consensus. For example, Predictor I predicts 2, Predictor II predicts 5, Predictor III predicts 10. The consensus value is the average between these values since the initial weights are all set to 1 ($\\mathit{(2 + 5 + 10)/3 = 5.67}$). Now, if the true value at $\\mathit{t_1}$ is 6, following new weights will be assigned. First, calculate all error values: Predictor I = $\\mathit{|6-2| = 4}$, Predictor II = $\\mathit{|6 - 5| = 1}$ and Predictor III = $\\mathit{|6-10| = 4}$. The total error equals 9. Hence, the new weight assigned to Predictor I is $\\mathit{1 - (4/9) = 0.56}$, Predictor II is $\\mathit{1 - (1/9) = 0.89}$ and Predictor III is $\\mathit{1 - (4/9) = 0.56}$."
   ]
  },
  {
   "cell_type": "code",
   "execution_count": 9,
   "metadata": {},
   "outputs": [
    {
     "data": {
      "text/html": [
       "<div>\n",
       "<style scoped>\n",
       "    .dataframe tbody tr th:only-of-type {\n",
       "        vertical-align: middle;\n",
       "    }\n",
       "\n",
       "    .dataframe tbody tr th {\n",
       "        vertical-align: top;\n",
       "    }\n",
       "\n",
       "    .dataframe thead th {\n",
       "        text-align: right;\n",
       "    }\n",
       "</style>\n",
       "<table border=\"1\" class=\"dataframe\">\n",
       "  <thead>\n",
       "    <tr style=\"text-align: right;\">\n",
       "      <th></th>\n",
       "      <th>Predictor I</th>\n",
       "      <th>Predictor II</th>\n",
       "      <th>Predictor III</th>\n",
       "    </tr>\n",
       "  </thead>\n",
       "  <tbody>\n",
       "    <tr>\n",
       "      <th>0</th>\n",
       "      <td>2</td>\n",
       "      <td>5</td>\n",
       "      <td>10</td>\n",
       "    </tr>\n",
       "    <tr>\n",
       "      <th>1</th>\n",
       "      <td>4</td>\n",
       "      <td>5</td>\n",
       "      <td>5</td>\n",
       "    </tr>\n",
       "    <tr>\n",
       "      <th>2</th>\n",
       "      <td>6</td>\n",
       "      <td>6</td>\n",
       "      <td>8</td>\n",
       "    </tr>\n",
       "    <tr>\n",
       "      <th>3</th>\n",
       "      <td>6</td>\n",
       "      <td>5</td>\n",
       "      <td>8</td>\n",
       "    </tr>\n",
       "  </tbody>\n",
       "</table>\n",
       "</div>"
      ],
      "text/plain": [
       "   Predictor I  Predictor II  Predictor III\n",
       "0            2             5             10\n",
       "1            4             5              5\n",
       "2            6             6              8\n",
       "3            6             5              8"
      ]
     },
     "execution_count": 9,
     "metadata": {},
     "output_type": "execute_result"
    }
   ],
   "source": [
    "d = {'Predictor I': [2, 4, 6, 6], 'Predictor II': [5, 5, 6, 5], 'Predictor III': [10, 5, 8, 8]}\n",
    "df = pd.DataFrame(data=d)\n",
    "df"
   ]
  },
  {
   "cell_type": "code",
   "execution_count": 10,
   "metadata": {},
   "outputs": [
    {
     "data": {
      "text/html": [
       "<div>\n",
       "<style scoped>\n",
       "    .dataframe tbody tr th:only-of-type {\n",
       "        vertical-align: middle;\n",
       "    }\n",
       "\n",
       "    .dataframe tbody tr th {\n",
       "        vertical-align: top;\n",
       "    }\n",
       "\n",
       "    .dataframe thead th {\n",
       "        text-align: right;\n",
       "    }\n",
       "</style>\n",
       "<table border=\"1\" class=\"dataframe\">\n",
       "  <thead>\n",
       "    <tr style=\"text-align: right;\">\n",
       "      <th></th>\n",
       "      <th>Real Value</th>\n",
       "    </tr>\n",
       "  </thead>\n",
       "  <tbody>\n",
       "    <tr>\n",
       "      <th>0</th>\n",
       "      <td>6</td>\n",
       "    </tr>\n",
       "    <tr>\n",
       "      <th>1</th>\n",
       "      <td>5</td>\n",
       "    </tr>\n",
       "    <tr>\n",
       "      <th>2</th>\n",
       "      <td>6</td>\n",
       "    </tr>\n",
       "    <tr>\n",
       "      <th>3</th>\n",
       "      <td>7</td>\n",
       "    </tr>\n",
       "  </tbody>\n",
       "</table>\n",
       "</div>"
      ],
      "text/plain": [
       "   Real Value\n",
       "0           6\n",
       "1           5\n",
       "2           6\n",
       "3           7"
      ]
     },
     "execution_count": 10,
     "metadata": {},
     "output_type": "execute_result"
    }
   ],
   "source": [
    "d1 = {'Real Value': [6, 5, 6, 7]}\n",
    "df1 = pd.DataFrame(data=d1)\n",
    "df1"
   ]
  },
  {
   "cell_type": "code",
   "execution_count": 11,
   "metadata": {},
   "outputs": [],
   "source": [
    "def formatting(target: list) -> list:\n",
    "    '''Helper function to transform a list containing additional, unnecessary dataframe details into a pure list\n",
    "       containing only target values.\n",
    "       \n",
    "       \n",
    "        Parameters:\n",
    "            target (list): list containing unnecessary additional information\n",
    "        \n",
    "        \n",
    "        Returns:\n",
    "            (list): list containing target values\n",
    "    '''\n",
    "    for i in range(len(target)):\n",
    "        try:\n",
    "            target[i] = target[i][0]\n",
    "        except:\n",
    "            target[i] = target[i]\n",
    "    \n",
    "    return target"
   ]
  },
  {
   "cell_type": "code",
   "execution_count": 12,
   "metadata": {},
   "outputs": [],
   "source": [
    "def new_weights(preds: list, real_value: float) -> list:\n",
    "    '''Helper function to calculated new weights, depending on t-1 forecast errors of predictors.\n",
    "    \n",
    "        Parameters:\n",
    "            preds (list): t-1 predictions of each predictor\n",
    "            real_value (float): real value at t\n",
    "        \n",
    "        \n",
    "        Returns:\n",
    "            (list): list containing the new weight values for each predictor\n",
    "    '''\n",
    "    if type(preds) != type(list):\n",
    "        preds = list(preds)\n",
    "        \n",
    "    individual_error = []\n",
    "    new_weights = []\n",
    "    final_weights = []\n",
    "    \n",
    "    for i in range(len(preds)):\n",
    "        individual_error.append(abs(preds[i] - real_value))\n",
    "    \n",
    "    total_error = sum(individual_error)\n",
    "    for j in range(len(individual_error)):\n",
    "        new_weights.append(1-(individual_error[j]/total_error))\n",
    "        \n",
    "    for k in range(len(new_weights)):\n",
    "        final_weights.append((new_weights[k]/sum(new_weights)) * len(preds))\n",
    "    \n",
    "    return formatting(final_weights)"
   ]
  },
  {
   "cell_type": "code",
   "execution_count": 13,
   "metadata": {},
   "outputs": [],
   "source": [
    "def consolidated_predictions(data, real) -> list:\n",
    "    '''Function to calculate the consolidated prediction value of all individual predictors.\n",
    "    \n",
    "        Parameters:\n",
    "            data (df): predictions values from each individual predictor\n",
    "            real (df): actual value\n",
    "        \n",
    "        \n",
    "        Returns:\n",
    "            (list): list containing consolidated prediction value considering new weight assignments for each predictor\n",
    "    '''\n",
    "    final_predictions = []\n",
    "    weight_history = []\n",
    "    weights = [1] * data.shape[1]\n",
    "\n",
    "    for j in range(data.shape[0]):\n",
    "        temp = []\n",
    "        for i in range(data.shape[1]):\n",
    "            temp.append(data.iloc[j, i]*weights[i])\n",
    "            \n",
    "        final_predictions.append(sum(temp)/data.shape[1])\n",
    "        weight_history.append(weights)\n",
    "        weights = new_weights(data.iloc[j], real.iloc[j])\n",
    "\n",
    "    \n",
    "    return final_predictions"
   ]
  },
  {
   "cell_type": "code",
   "execution_count": 14,
   "metadata": {},
   "outputs": [],
   "source": [
    "def consolidated_predictions_memory(data, real) -> list:\n",
    "    '''Function to calculate the consolidated prediction value of all individual predictors. This function furthermore\n",
    "       extends consolidated_predictions by keeping a memory of prior assigned weights. An average of all prior assigned\n",
    "       weights is calculated and applied to calculate the final consolidation value.\n",
    "    \n",
    "        Parameters:\n",
    "            data (df): predictions values from each individual predictor\n",
    "            real (df): actual value\n",
    "        \n",
    "        \n",
    "        Returns:\n",
    "            (list): list containing consolidated prediction value considering new weight assignments for each predictor\n",
    "    '''\n",
    "    final_predictions = []\n",
    "    \n",
    "    initialize = [1] * data.shape[1]\n",
    "    weight_history = [initialize]\n",
    "    weights = []\n",
    "\n",
    "    for j in range(data.shape[0]):\n",
    "        temp = []\n",
    "        for i in range(data.shape[1]):\n",
    "            temp.append(data.iloc[j, i]*([sum(z) for z in zip(*weight_history)][i]/(j+1))) # j number of rows, total value to take average\n",
    "        \n",
    "        final_predictions.append(sum(temp)/data.shape[1])\n",
    "        weights = new_weights(data.iloc[j], real.iloc[j])\n",
    "        weight_history.append(weights)\n",
    "        \n",
    "\n",
    "    \n",
    "    return final_predictions"
   ]
  },
  {
   "cell_type": "code",
   "execution_count": 63,
   "metadata": {},
   "outputs": [],
   "source": [
    "def consolidated_predictions_anchor(data, real, anchor: int) -> list:\n",
    "    '''Function to calculate the consolidated prediction value of all individual predictors. To prevent the\n",
    "       algorithm from being limited to produce consolidation values within the min and max value predicted by\n",
    "       the individual predictors, min and max anchors are launched that extend above the biggest and smallest value\n",
    "       estimated.\n",
    "    \n",
    "        Parameters:\n",
    "            data (df): predictions values from each individual predictor\n",
    "            real (df): actual value\n",
    "            bojes (int): how far should max, min prediction be extended\n",
    "        \n",
    "        \n",
    "        Returns:\n",
    "            (list): list containing consolidated prediction value considering new weight assignments for each predictor\n",
    "    '''\n",
    "    final_predictions = []\n",
    "    weight_history = []\n",
    "    \n",
    "    weights = [1] * data.shape[1]\n",
    "    weights.append(1)\n",
    "    weights.append(1)\n",
    "\n",
    "    for j in range(data.shape[0]):\n",
    "        data['Max Anchor'] = anchor * max(data.iloc[j])\n",
    "        data['Min Anchor'] = (1- (anchor - 1)) * min(data.iloc[j])\n",
    "        print(data)\n",
    "        temp = []\n",
    "        for i in range(data.shape[1]):\n",
    "            temp.append(data.iloc[j, i]*weights[i])\n",
    "            \n",
    "        final_predictions.append(sum(temp)/data.shape[1])\n",
    "        weight_history.append(weights)\n",
    "        weights = new_weights(data.iloc[j], real.iloc[j])\n",
    "        del data['Max Anchor']\n",
    "        del data['Min Anchor']\n",
    "\n",
    "    \n",
    "    return final_predictions"
   ]
  },
  {
   "cell_type": "code",
   "execution_count": 55,
   "metadata": {},
   "outputs": [],
   "source": [
    "def average_consolidation(data) -> list:\n",
    "    '''Function to calculate simple average of all predictor forecasts.\n",
    "    \n",
    "        Parameters:\n",
    "            data (df): prediction values from each individual predictor\n",
    "        \n",
    "        \n",
    "        \n",
    "        Returns:\n",
    "            (list): list containing average values of predictor forecasts\n",
    "    '''\n",
    "    result = []\n",
    "    for i in range(data.shape[0]):\n",
    "        result.append(sum(data.iloc[i])/data.shape[1])\n",
    "    \n",
    "    return result"
   ]
  },
  {
   "cell_type": "code",
   "execution_count": 56,
   "metadata": {},
   "outputs": [
    {
     "data": {
      "text/plain": [
       "[5.666666666666667, 4.666666666666667, 6.666666666666667, 6.333333333333333]"
      ]
     },
     "execution_count": 56,
     "metadata": {},
     "output_type": "execute_result"
    }
   ],
   "source": [
    "average_consolidation(df)"
   ]
  },
  {
   "cell_type": "code",
   "execution_count": 57,
   "metadata": {},
   "outputs": [
    {
     "data": {
      "text/plain": [
       "[5.666666666666667, 4.694444444444445, 6.7407407407407405, 6.111111111111111]"
      ]
     },
     "execution_count": 57,
     "metadata": {},
     "output_type": "execute_result"
    }
   ],
   "source": [
    "consolidated = consolidated_predictions_memory(df,df1)\n",
    "consolidated"
   ]
  },
  {
   "cell_type": "code",
   "execution_count": 58,
   "metadata": {
    "scrolled": true
   },
   "outputs": [
    {
     "data": {
      "text/plain": [
       "10"
      ]
     },
     "execution_count": 58,
     "metadata": {},
     "output_type": "execute_result"
    }
   ],
   "source": [
    "max(df.iloc[0])"
   ]
  },
  {
   "cell_type": "code",
   "execution_count": 69,
   "metadata": {},
   "outputs": [
    {
     "name": "stdout",
     "output_type": "stream",
     "text": [
      "   Predictor I  Predictor II  Predictor III  Max Anchor  Min Anchor\n",
      "0            2             5             10        12.0         1.6\n",
      "1            4             5              5        12.0         1.6\n",
      "2            6             6              8        12.0         1.6\n",
      "3            6             5              8        12.0         1.6\n",
      "   Predictor I  Predictor II  Predictor III  Max Anchor  Min Anchor\n",
      "0            2             5             10         6.0         3.2\n",
      "1            4             5              5         6.0         3.2\n",
      "2            6             6              8         6.0         3.2\n",
      "3            6             5              8         6.0         3.2\n",
      "   Predictor I  Predictor II  Predictor III  Max Anchor  Min Anchor\n",
      "0            2             5             10         9.6         4.8\n",
      "1            4             5              5         9.6         4.8\n",
      "2            6             6              8         9.6         4.8\n",
      "3            6             5              8         9.6         4.8\n",
      "   Predictor I  Predictor II  Predictor III  Max Anchor  Min Anchor\n",
      "0            2             5             10         9.6         4.0\n",
      "1            4             5              5         9.6         4.0\n",
      "2            6             6              8         9.6         4.0\n",
      "3            6             5              8         9.6         4.0\n"
     ]
    },
    {
     "data": {
      "text/plain": [
       "[6.12, 4.626288659793814, 7.005263157894737, 6.114705882352942]"
      ]
     },
     "execution_count": 69,
     "metadata": {},
     "output_type": "execute_result"
    }
   ],
   "source": [
    "consolidated_predictions_anchor(df,df1,1.2)"
   ]
  },
  {
   "cell_type": "code",
   "execution_count": 65,
   "metadata": {},
   "outputs": [
    {
     "data": {
      "text/html": [
       "<div>\n",
       "<style scoped>\n",
       "    .dataframe tbody tr th:only-of-type {\n",
       "        vertical-align: middle;\n",
       "    }\n",
       "\n",
       "    .dataframe tbody tr th {\n",
       "        vertical-align: top;\n",
       "    }\n",
       "\n",
       "    .dataframe thead th {\n",
       "        text-align: right;\n",
       "    }\n",
       "</style>\n",
       "<table border=\"1\" class=\"dataframe\">\n",
       "  <thead>\n",
       "    <tr style=\"text-align: right;\">\n",
       "      <th></th>\n",
       "      <th>Real Value</th>\n",
       "    </tr>\n",
       "  </thead>\n",
       "  <tbody>\n",
       "    <tr>\n",
       "      <th>0</th>\n",
       "      <td>6</td>\n",
       "    </tr>\n",
       "    <tr>\n",
       "      <th>1</th>\n",
       "      <td>5</td>\n",
       "    </tr>\n",
       "    <tr>\n",
       "      <th>2</th>\n",
       "      <td>6</td>\n",
       "    </tr>\n",
       "    <tr>\n",
       "      <th>3</th>\n",
       "      <td>7</td>\n",
       "    </tr>\n",
       "  </tbody>\n",
       "</table>\n",
       "</div>"
      ],
      "text/plain": [
       "   Real Value\n",
       "0           6\n",
       "1           5\n",
       "2           6\n",
       "3           7"
      ]
     },
     "execution_count": 65,
     "metadata": {},
     "output_type": "execute_result"
    }
   ],
   "source": [
    "df1"
   ]
  }
 ],
 "metadata": {
  "kernelspec": {
   "display_name": "Python 3",
   "language": "python",
   "name": "python3"
  },
  "language_info": {
   "codemirror_mode": {
    "name": "ipython",
    "version": 3
   },
   "file_extension": ".py",
   "mimetype": "text/x-python",
   "name": "python",
   "nbconvert_exporter": "python",
   "pygments_lexer": "ipython3",
   "version": "3.8.1"
  }
 },
 "nbformat": 4,
 "nbformat_minor": 2
}
